{
 "cells": [
  {
   "cell_type": "markdown",
   "metadata": {},
   "source": [
    "# Feature Selection"
   ]
  },
  {
   "cell_type": "markdown",
   "metadata": {},
   "source": [
    "### Importing Dataset"
   ]
  },
  {
   "cell_type": "code",
   "execution_count": 89,
   "metadata": {},
   "outputs": [],
   "source": [
    "import pandas as pd\n",
    "import os\n",
    "import plotly.express as px \n",
    "import plotly.graph_objects as go\n",
    "from plotly.subplots import make_subplots\n",
    "from sklearn.preprocessing import MinMaxScaler"
   ]
  },
  {
   "cell_type": "markdown",
   "metadata": {},
   "source": [
    "### Importing and Initialising Dataset"
   ]
  },
  {
   "cell_type": "code",
   "execution_count": 90,
   "metadata": {},
   "outputs": [],
   "source": [
    "#Initialising Dataset\n",
    "os.chdir(r\"/Users/apple/Documents/Credit_Card_Churn_Model_Local/credit-card-churn/Input\")\n",
    "data = pd.read_csv(\"/Users/apple/Documents/Credit_Card_Churn_Model_Local/credit-card-churn/Input/credit_card_churn_cleaned.csv\") "
   ]
  },
  {
   "cell_type": "markdown",
   "metadata": {},
   "source": [
    "### Heatmap"
   ]
  },
  {
   "cell_type": "code",
   "execution_count": 91,
   "metadata": {},
   "outputs": [
    {
     "data": {
      "application/vnd.plotly.v1+json": {
       "config": {
        "plotlyServerURL": "https://plot.ly"
       },
       "data": [
        {
         "coloraxis": "coloraxis",
         "hovertemplate": "x: %{x}<br>y: %{y}<br>color: %{z}<extra></extra>",
         "name": "0",
         "texttemplate": "%{z:.2f}",
         "type": "heatmap",
         "x": [
          "CLIENTNUM",
          "Attrition_Flag",
          "Gender",
          "Dependent_count",
          "Education_Level",
          "Income_Category",
          "Card_Category",
          "Months_on_book",
          "Total_Relationship_Count",
          "Months_Inactive_12_mon",
          "Contacts_Count_12_mon",
          "Credit_Limit",
          "Total_Amt_Chng_Q4_Q1",
          "Total_Trans_Ct",
          "Total_Ct_Chng_Q4_Q1",
          "Avg_Utilization_Ratio",
          "Divorced",
          "Married",
          "Single",
          "Unknown",
          "Age_Under 30",
          "Age_30-40",
          "Age_40-50",
          "Age_50-60",
          "Age_60+",
          "Total_Trans_Amt_Binned_Low",
          "Total_Trans_Amt_Binned_Medium",
          "Total_Trans_Amt_Binned_High",
          "Total_Trans_Amt_Binned_Very High",
          "Avg_Open_To_Buy_Binned_Low",
          "Avg_Open_To_Buy_Binned_Medium",
          "Avg_Open_To_Buy_Binned_High",
          "Avg_Open_To_Buy_Binned_Very High",
          "Total_Revolving_Bal_Binned_Low",
          "Total_Revolving_Bal_Binned_Medium",
          "Total_Revolving_Bal_Binned_High",
          "Total_Revolving_Bal_Binned_Very High"
         ],
         "xaxis": "x",
         "y": [
          "CLIENTNUM",
          "Attrition_Flag",
          "Gender",
          "Dependent_count",
          "Education_Level",
          "Income_Category",
          "Card_Category",
          "Months_on_book",
          "Total_Relationship_Count",
          "Months_Inactive_12_mon",
          "Contacts_Count_12_mon",
          "Credit_Limit",
          "Total_Amt_Chng_Q4_Q1",
          "Total_Trans_Ct",
          "Total_Ct_Chng_Q4_Q1",
          "Avg_Utilization_Ratio",
          "Divorced",
          "Married",
          "Single",
          "Unknown",
          "Age_Under 30",
          "Age_30-40",
          "Age_40-50",
          "Age_50-60",
          "Age_60+",
          "Total_Trans_Amt_Binned_Low",
          "Total_Trans_Amt_Binned_Medium",
          "Total_Trans_Amt_Binned_High",
          "Total_Trans_Amt_Binned_Very High",
          "Avg_Open_To_Buy_Binned_Low",
          "Avg_Open_To_Buy_Binned_Medium",
          "Avg_Open_To_Buy_Binned_High",
          "Avg_Open_To_Buy_Binned_Very High",
          "Total_Revolving_Bal_Binned_Low",
          "Total_Revolving_Bal_Binned_Medium",
          "Total_Revolving_Bal_Binned_High",
          "Total_Revolving_Bal_Binned_Very High"
         ],
         "yaxis": "y",
         "z": {
          "bdata": "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",
          "dtype": "f8",
          "shape": "37, 37"
         }
        }
       ],
       "layout": {
        "coloraxis": {
         "colorscale": [
          [
           0,
           "rgb(103,0,31)"
          ],
          [
           0.1,
           "rgb(178,24,43)"
          ],
          [
           0.2,
           "rgb(214,96,77)"
          ],
          [
           0.3,
           "rgb(244,165,130)"
          ],
          [
           0.4,
           "rgb(253,219,199)"
          ],
          [
           0.5,
           "rgb(247,247,247)"
          ],
          [
           0.6,
           "rgb(209,229,240)"
          ],
          [
           0.7,
           "rgb(146,197,222)"
          ],
          [
           0.8,
           "rgb(67,147,195)"
          ],
          [
           0.9,
           "rgb(33,102,172)"
          ],
          [
           1,
           "rgb(5,48,97)"
          ]
         ]
        },
        "height": 800,
        "template": {
         "data": {
          "bar": [
           {
            "error_x": {
             "color": "#2a3f5f"
            },
            "error_y": {
             "color": "#2a3f5f"
            },
            "marker": {
             "line": {
              "color": "#E5ECF6",
              "width": 0.5
             },
             "pattern": {
              "fillmode": "overlay",
              "size": 10,
              "solidity": 0.2
             }
            },
            "type": "bar"
           }
          ],
          "barpolar": [
           {
            "marker": {
             "line": {
              "color": "#E5ECF6",
              "width": 0.5
             },
             "pattern": {
              "fillmode": "overlay",
              "size": 10,
              "solidity": 0.2
             }
            },
            "type": "barpolar"
           }
          ],
          "carpet": [
           {
            "aaxis": {
             "endlinecolor": "#2a3f5f",
             "gridcolor": "white",
             "linecolor": "white",
             "minorgridcolor": "white",
             "startlinecolor": "#2a3f5f"
            },
            "baxis": {
             "endlinecolor": "#2a3f5f",
             "gridcolor": "white",
             "linecolor": "white",
             "minorgridcolor": "white",
             "startlinecolor": "#2a3f5f"
            },
            "type": "carpet"
           }
          ],
          "choropleth": [
           {
            "colorbar": {
             "outlinewidth": 0,
             "ticks": ""
            },
            "type": "choropleth"
           }
          ],
          "contour": [
           {
            "colorbar": {
             "outlinewidth": 0,
             "ticks": ""
            },
            "colorscale": [
             [
              0,
              "#0d0887"
             ],
             [
              0.1111111111111111,
              "#46039f"
             ],
             [
              0.2222222222222222,
              "#7201a8"
             ],
             [
              0.3333333333333333,
              "#9c179e"
             ],
             [
              0.4444444444444444,
              "#bd3786"
             ],
             [
              0.5555555555555556,
              "#d8576b"
             ],
             [
              0.6666666666666666,
              "#ed7953"
             ],
             [
              0.7777777777777778,
              "#fb9f3a"
             ],
             [
              0.8888888888888888,
              "#fdca26"
             ],
             [
              1,
              "#f0f921"
             ]
            ],
            "type": "contour"
           }
          ],
          "contourcarpet": [
           {
            "colorbar": {
             "outlinewidth": 0,
             "ticks": ""
            },
            "type": "contourcarpet"
           }
          ],
          "heatmap": [
           {
            "colorbar": {
             "outlinewidth": 0,
             "ticks": ""
            },
            "colorscale": [
             [
              0,
              "#0d0887"
             ],
             [
              0.1111111111111111,
              "#46039f"
             ],
             [
              0.2222222222222222,
              "#7201a8"
             ],
             [
              0.3333333333333333,
              "#9c179e"
             ],
             [
              0.4444444444444444,
              "#bd3786"
             ],
             [
              0.5555555555555556,
              "#d8576b"
             ],
             [
              0.6666666666666666,
              "#ed7953"
             ],
             [
              0.7777777777777778,
              "#fb9f3a"
             ],
             [
              0.8888888888888888,
              "#fdca26"
             ],
             [
              1,
              "#f0f921"
             ]
            ],
            "type": "heatmap"
           }
          ],
          "histogram": [
           {
            "marker": {
             "pattern": {
              "fillmode": "overlay",
              "size": 10,
              "solidity": 0.2
             }
            },
            "type": "histogram"
           }
          ],
          "histogram2d": [
           {
            "colorbar": {
             "outlinewidth": 0,
             "ticks": ""
            },
            "colorscale": [
             [
              0,
              "#0d0887"
             ],
             [
              0.1111111111111111,
              "#46039f"
             ],
             [
              0.2222222222222222,
              "#7201a8"
             ],
             [
              0.3333333333333333,
              "#9c179e"
             ],
             [
              0.4444444444444444,
              "#bd3786"
             ],
             [
              0.5555555555555556,
              "#d8576b"
             ],
             [
              0.6666666666666666,
              "#ed7953"
             ],
             [
              0.7777777777777778,
              "#fb9f3a"
             ],
             [
              0.8888888888888888,
              "#fdca26"
             ],
             [
              1,
              "#f0f921"
             ]
            ],
            "type": "histogram2d"
           }
          ],
          "histogram2dcontour": [
           {
            "colorbar": {
             "outlinewidth": 0,
             "ticks": ""
            },
            "colorscale": [
             [
              0,
              "#0d0887"
             ],
             [
              0.1111111111111111,
              "#46039f"
             ],
             [
              0.2222222222222222,
              "#7201a8"
             ],
             [
              0.3333333333333333,
              "#9c179e"
             ],
             [
              0.4444444444444444,
              "#bd3786"
             ],
             [
              0.5555555555555556,
              "#d8576b"
             ],
             [
              0.6666666666666666,
              "#ed7953"
             ],
             [
              0.7777777777777778,
              "#fb9f3a"
             ],
             [
              0.8888888888888888,
              "#fdca26"
             ],
             [
              1,
              "#f0f921"
             ]
            ],
            "type": "histogram2dcontour"
           }
          ],
          "mesh3d": [
           {
            "colorbar": {
             "outlinewidth": 0,
             "ticks": ""
            },
            "type": "mesh3d"
           }
          ],
          "parcoords": [
           {
            "line": {
             "colorbar": {
              "outlinewidth": 0,
              "ticks": ""
             }
            },
            "type": "parcoords"
           }
          ],
          "pie": [
           {
            "automargin": true,
            "type": "pie"
           }
          ],
          "scatter": [
           {
            "fillpattern": {
             "fillmode": "overlay",
             "size": 10,
             "solidity": 0.2
            },
            "type": "scatter"
           }
          ],
          "scatter3d": [
           {
            "line": {
             "colorbar": {
              "outlinewidth": 0,
              "ticks": ""
             }
            },
            "marker": {
             "colorbar": {
              "outlinewidth": 0,
              "ticks": ""
             }
            },
            "type": "scatter3d"
           }
          ],
          "scattercarpet": [
           {
            "marker": {
             "colorbar": {
              "outlinewidth": 0,
              "ticks": ""
             }
            },
            "type": "scattercarpet"
           }
          ],
          "scattergeo": [
           {
            "marker": {
             "colorbar": {
              "outlinewidth": 0,
              "ticks": ""
             }
            },
            "type": "scattergeo"
           }
          ],
          "scattergl": [
           {
            "marker": {
             "colorbar": {
              "outlinewidth": 0,
              "ticks": ""
             }
            },
            "type": "scattergl"
           }
          ],
          "scattermap": [
           {
            "marker": {
             "colorbar": {
              "outlinewidth": 0,
              "ticks": ""
             }
            },
            "type": "scattermap"
           }
          ],
          "scattermapbox": [
           {
            "marker": {
             "colorbar": {
              "outlinewidth": 0,
              "ticks": ""
             }
            },
            "type": "scattermapbox"
           }
          ],
          "scatterpolar": [
           {
            "marker": {
             "colorbar": {
              "outlinewidth": 0,
              "ticks": ""
             }
            },
            "type": "scatterpolar"
           }
          ],
          "scatterpolargl": [
           {
            "marker": {
             "colorbar": {
              "outlinewidth": 0,
              "ticks": ""
             }
            },
            "type": "scatterpolargl"
           }
          ],
          "scatterternary": [
           {
            "marker": {
             "colorbar": {
              "outlinewidth": 0,
              "ticks": ""
             }
            },
            "type": "scatterternary"
           }
          ],
          "surface": [
           {
            "colorbar": {
             "outlinewidth": 0,
             "ticks": ""
            },
            "colorscale": [
             [
              0,
              "#0d0887"
             ],
             [
              0.1111111111111111,
              "#46039f"
             ],
             [
              0.2222222222222222,
              "#7201a8"
             ],
             [
              0.3333333333333333,
              "#9c179e"
             ],
             [
              0.4444444444444444,
              "#bd3786"
             ],
             [
              0.5555555555555556,
              "#d8576b"
             ],
             [
              0.6666666666666666,
              "#ed7953"
             ],
             [
              0.7777777777777778,
              "#fb9f3a"
             ],
             [
              0.8888888888888888,
              "#fdca26"
             ],
             [
              1,
              "#f0f921"
             ]
            ],
            "type": "surface"
           }
          ],
          "table": [
           {
            "cells": {
             "fill": {
              "color": "#EBF0F8"
             },
             "line": {
              "color": "white"
             }
            },
            "header": {
             "fill": {
              "color": "#C8D4E3"
             },
             "line": {
              "color": "white"
             }
            },
            "type": "table"
           }
          ]
         },
         "layout": {
          "annotationdefaults": {
           "arrowcolor": "#2a3f5f",
           "arrowhead": 0,
           "arrowwidth": 1
          },
          "autotypenumbers": "strict",
          "coloraxis": {
           "colorbar": {
            "outlinewidth": 0,
            "ticks": ""
           }
          },
          "colorscale": {
           "diverging": [
            [
             0,
             "#8e0152"
            ],
            [
             0.1,
             "#c51b7d"
            ],
            [
             0.2,
             "#de77ae"
            ],
            [
             0.3,
             "#f1b6da"
            ],
            [
             0.4,
             "#fde0ef"
            ],
            [
             0.5,
             "#f7f7f7"
            ],
            [
             0.6,
             "#e6f5d0"
            ],
            [
             0.7,
             "#b8e186"
            ],
            [
             0.8,
             "#7fbc41"
            ],
            [
             0.9,
             "#4d9221"
            ],
            [
             1,
             "#276419"
            ]
           ],
           "sequential": [
            [
             0,
             "#0d0887"
            ],
            [
             0.1111111111111111,
             "#46039f"
            ],
            [
             0.2222222222222222,
             "#7201a8"
            ],
            [
             0.3333333333333333,
             "#9c179e"
            ],
            [
             0.4444444444444444,
             "#bd3786"
            ],
            [
             0.5555555555555556,
             "#d8576b"
            ],
            [
             0.6666666666666666,
             "#ed7953"
            ],
            [
             0.7777777777777778,
             "#fb9f3a"
            ],
            [
             0.8888888888888888,
             "#fdca26"
            ],
            [
             1,
             "#f0f921"
            ]
           ],
           "sequentialminus": [
            [
             0,
             "#0d0887"
            ],
            [
             0.1111111111111111,
             "#46039f"
            ],
            [
             0.2222222222222222,
             "#7201a8"
            ],
            [
             0.3333333333333333,
             "#9c179e"
            ],
            [
             0.4444444444444444,
             "#bd3786"
            ],
            [
             0.5555555555555556,
             "#d8576b"
            ],
            [
             0.6666666666666666,
             "#ed7953"
            ],
            [
             0.7777777777777778,
             "#fb9f3a"
            ],
            [
             0.8888888888888888,
             "#fdca26"
            ],
            [
             1,
             "#f0f921"
            ]
           ]
          },
          "colorway": [
           "#636efa",
           "#EF553B",
           "#00cc96",
           "#ab63fa",
           "#FFA15A",
           "#19d3f3",
           "#FF6692",
           "#B6E880",
           "#FF97FF",
           "#FECB52"
          ],
          "font": {
           "color": "#2a3f5f"
          },
          "geo": {
           "bgcolor": "white",
           "lakecolor": "white",
           "landcolor": "#E5ECF6",
           "showlakes": true,
           "showland": true,
           "subunitcolor": "white"
          },
          "hoverlabel": {
           "align": "left"
          },
          "hovermode": "closest",
          "mapbox": {
           "style": "light"
          },
          "paper_bgcolor": "white",
          "plot_bgcolor": "#E5ECF6",
          "polar": {
           "angularaxis": {
            "gridcolor": "white",
            "linecolor": "white",
            "ticks": ""
           },
           "bgcolor": "#E5ECF6",
           "radialaxis": {
            "gridcolor": "white",
            "linecolor": "white",
            "ticks": ""
           }
          },
          "scene": {
           "xaxis": {
            "backgroundcolor": "#E5ECF6",
            "gridcolor": "white",
            "gridwidth": 2,
            "linecolor": "white",
            "showbackground": true,
            "ticks": "",
            "zerolinecolor": "white"
           },
           "yaxis": {
            "backgroundcolor": "#E5ECF6",
            "gridcolor": "white",
            "gridwidth": 2,
            "linecolor": "white",
            "showbackground": true,
            "ticks": "",
            "zerolinecolor": "white"
           },
           "zaxis": {
            "backgroundcolor": "#E5ECF6",
            "gridcolor": "white",
            "gridwidth": 2,
            "linecolor": "white",
            "showbackground": true,
            "ticks": "",
            "zerolinecolor": "white"
           }
          },
          "shapedefaults": {
           "line": {
            "color": "#2a3f5f"
           }
          },
          "ternary": {
           "aaxis": {
            "gridcolor": "white",
            "linecolor": "white",
            "ticks": ""
           },
           "baxis": {
            "gridcolor": "white",
            "linecolor": "white",
            "ticks": ""
           },
           "bgcolor": "#E5ECF6",
           "caxis": {
            "gridcolor": "white",
            "linecolor": "white",
            "ticks": ""
           }
          },
          "title": {
           "x": 0.05
          },
          "xaxis": {
           "automargin": true,
           "gridcolor": "white",
           "linecolor": "white",
           "ticks": "",
           "title": {
            "standoff": 15
           },
           "zerolinecolor": "white",
           "zerolinewidth": 2
          },
          "yaxis": {
           "automargin": true,
           "gridcolor": "white",
           "linecolor": "white",
           "ticks": "",
           "title": {
            "standoff": 15
           },
           "zerolinecolor": "white",
           "zerolinewidth": 2
          }
         }
        },
        "title": {
         "text": "Correlation Heatmap (Interactive)"
        },
        "width": 800,
        "xaxis": {
         "anchor": "y",
         "domain": [
          0,
          1
         ],
         "tickangle": -45,
         "tickmode": "array",
         "ticktext": [
          "CLIENTNUM",
          "Attrition_Flag",
          "Gender",
          "Dependent_count",
          "Education_Level",
          "Income_Category",
          "Card_Category",
          "Months_on_book",
          "Total_Relationship_Count",
          "Months_Inactive_12_mon",
          "Contacts_Count_12_mon",
          "Credit_Limit",
          "Total_Amt_Chng_Q4_Q1",
          "Total_Trans_Ct",
          "Total_Ct_Chng_Q4_Q1",
          "Avg_Utilization_Ratio",
          "Divorced",
          "Married",
          "Single",
          "Unknown",
          "Age_Under 30",
          "Age_30-40",
          "Age_40-50",
          "Age_50-60",
          "Age_60+",
          "Total_Trans_Amt_Binned_Low",
          "Total_Trans_Amt_Binned_Medium",
          "Total_Trans_Amt_Binned_High",
          "Total_Trans_Amt_Binned_Very High",
          "Avg_Open_To_Buy_Binned_Low",
          "Avg_Open_To_Buy_Binned_Medium",
          "Avg_Open_To_Buy_Binned_High",
          "Avg_Open_To_Buy_Binned_Very High",
          "Total_Revolving_Bal_Binned_Low",
          "Total_Revolving_Bal_Binned_Medium",
          "Total_Revolving_Bal_Binned_High",
          "Total_Revolving_Bal_Binned_Very High"
         ],
         "tickvals": [
          0,
          1,
          2,
          3,
          4,
          5,
          6,
          7,
          8,
          9,
          10,
          11,
          12,
          13,
          14,
          15,
          16,
          17,
          18,
          19,
          20,
          21,
          22,
          23,
          24,
          25,
          26,
          27,
          28,
          29,
          30,
          31,
          32,
          33,
          34,
          35,
          36
         ],
         "title": {
          "text": "Features"
         }
        },
        "yaxis": {
         "anchor": "x",
         "autorange": "reversed",
         "domain": [
          0,
          1
         ],
         "tickmode": "array",
         "ticktext": [
          "CLIENTNUM",
          "Attrition_Flag",
          "Gender",
          "Dependent_count",
          "Education_Level",
          "Income_Category",
          "Card_Category",
          "Months_on_book",
          "Total_Relationship_Count",
          "Months_Inactive_12_mon",
          "Contacts_Count_12_mon",
          "Credit_Limit",
          "Total_Amt_Chng_Q4_Q1",
          "Total_Trans_Ct",
          "Total_Ct_Chng_Q4_Q1",
          "Avg_Utilization_Ratio",
          "Divorced",
          "Married",
          "Single",
          "Unknown",
          "Age_Under 30",
          "Age_30-40",
          "Age_40-50",
          "Age_50-60",
          "Age_60+",
          "Total_Trans_Amt_Binned_Low",
          "Total_Trans_Amt_Binned_Medium",
          "Total_Trans_Amt_Binned_High",
          "Total_Trans_Amt_Binned_Very High",
          "Avg_Open_To_Buy_Binned_Low",
          "Avg_Open_To_Buy_Binned_Medium",
          "Avg_Open_To_Buy_Binned_High",
          "Avg_Open_To_Buy_Binned_Very High",
          "Total_Revolving_Bal_Binned_Low",
          "Total_Revolving_Bal_Binned_Medium",
          "Total_Revolving_Bal_Binned_High",
          "Total_Revolving_Bal_Binned_Very High"
         ],
         "tickvals": [
          0,
          1,
          2,
          3,
          4,
          5,
          6,
          7,
          8,
          9,
          10,
          11,
          12,
          13,
          14,
          15,
          16,
          17,
          18,
          19,
          20,
          21,
          22,
          23,
          24,
          25,
          26,
          27,
          28,
          29,
          30,
          31,
          32,
          33,
          34,
          35,
          36
         ],
         "title": {
          "text": "Features"
         }
        }
       }
      }
     },
     "metadata": {},
     "output_type": "display_data"
    }
   ],
   "source": [
    "corr_matrix = data.corr(numeric_only=True)\n",
    "fig = px.imshow(\n",
    "    corr_matrix,\n",
    "    text_auto=\".2f\",\n",
    "    color_continuous_scale='RdBu',\n",
    "    title=\"Correlation Heatmap (Interactive)\",\n",
    "    aspect=\"auto\"\n",
    ")\n",
    "fig.update_layout(\n",
    "    width=800,\n",
    "    height=800,\n",
    "    xaxis_title=\"Features\",\n",
    "    yaxis_title=\"Features\",\n",
    "    xaxis=dict(tickangle=-45, tickmode='array', tickvals=list(range(len(corr_matrix.columns))), ticktext=corr_matrix.columns),\n",
    "    yaxis=dict(tickmode='array', tickvals=list(range(len(corr_matrix.index))), ticktext=corr_matrix.index)\n",
    ")\n",
    "fig.show()"
   ]
  },
  {
   "cell_type": "code",
   "execution_count": 92,
   "metadata": {},
   "outputs": [
    {
     "data": {
      "application/vnd.plotly.v1+json": {
       "config": {
        "plotlyServerURL": "https://plot.ly"
       },
       "data": [
        {
         "coloraxis": "coloraxis",
         "hovertemplate": "x: %{x}<br>y: %{y}<br>color: %{z}<extra></extra>",
         "name": "0",
         "texttemplate": "%{z:.2f}",
         "type": "heatmap",
         "x": [
          "CLIENTNUM",
          "Attrition_Flag",
          "Gender",
          "Dependent_count",
          "Education_Level",
          "Income_Category",
          "Card_Category",
          "Months_on_book",
          "Total_Relationship_Count",
          "Months_Inactive_12_mon",
          "Contacts_Count_12_mon",
          "Credit_Limit",
          "Total_Amt_Chng_Q4_Q1",
          "Total_Trans_Ct",
          "Total_Ct_Chng_Q4_Q1",
          "Avg_Utilization_Ratio",
          "Divorced",
          "Married",
          "Single",
          "Unknown",
          "Age_Under 30",
          "Age_30-40",
          "Age_40-50",
          "Age_50-60",
          "Age_60+",
          "Total_Trans_Amt_Binned_Low",
          "Total_Trans_Amt_Binned_Medium",
          "Total_Trans_Amt_Binned_High",
          "Total_Trans_Amt_Binned_Very High",
          "Avg_Open_To_Buy_Binned_Low",
          "Avg_Open_To_Buy_Binned_Medium",
          "Avg_Open_To_Buy_Binned_High",
          "Avg_Open_To_Buy_Binned_Very High",
          "Total_Revolving_Bal_Binned_Low",
          "Total_Revolving_Bal_Binned_Medium",
          "Total_Revolving_Bal_Binned_High",
          "Total_Revolving_Bal_Binned_Very High"
         ],
         "xaxis": "x",
         "y": [
          "CLIENTNUM",
          "Attrition_Flag",
          "Gender",
          "Dependent_count",
          "Education_Level",
          "Income_Category",
          "Card_Category",
          "Months_on_book",
          "Total_Relationship_Count",
          "Months_Inactive_12_mon",
          "Contacts_Count_12_mon",
          "Credit_Limit",
          "Total_Amt_Chng_Q4_Q1",
          "Total_Trans_Ct",
          "Total_Ct_Chng_Q4_Q1",
          "Avg_Utilization_Ratio",
          "Divorced",
          "Married",
          "Single",
          "Unknown",
          "Age_Under 30",
          "Age_30-40",
          "Age_40-50",
          "Age_50-60",
          "Age_60+",
          "Total_Trans_Amt_Binned_Low",
          "Total_Trans_Amt_Binned_Medium",
          "Total_Trans_Amt_Binned_High",
          "Total_Trans_Amt_Binned_Very High",
          "Avg_Open_To_Buy_Binned_Low",
          "Avg_Open_To_Buy_Binned_Medium",
          "Avg_Open_To_Buy_Binned_High",
          "Avg_Open_To_Buy_Binned_Very High",
          "Total_Revolving_Bal_Binned_Low",
          "Total_Revolving_Bal_Binned_Medium",
          "Total_Revolving_Bal_Binned_High",
          "Total_Revolving_Bal_Binned_Very High"
         ],
         "yaxis": "y",
         "z": {
          "bdata": "AAAAAAAA+H8AAAAAAAD4fwAAAAAAAPh/AAAAAAAA+H8AAAAAAAD4fwAAAAAAAPh/AAAAAAAA+H8AAAAAAAD4fwAAAAAAAPh/AAAAAAAA+H8AAAAAAAD4fwAAAAAAAPh/AAAAAAAA+H8AAAAAAAD4fwAAAAAAAPh/AAAAAAAA+H8AAAAAAAD4fwAAAAAAAPh/AAAAAAAA+H8AAAAAAAD4fwAAAAAAAPh/AAAAAAAA+H8AAAAAAAD4fwAAAAAAAPh/AAAAAAAA+H8AAAAAAAD4fwAAAAAAAPh/AAAAAAAA+H8AAAAAAAD4fwAAAAAAAPh/AAAAAAAA+H8AAAAAAAD4fwAAAAAAAPh/AAAAAAAA+H8AAAAAAAD4fwAAAAAAAPh/AAAAAAAA+H8tUmH+ucWnvwAAAAAAAPh/AAAAAAAA+H8AAAAAAAD4fwAAAAAAAPh/AAAAAAAA+H8AAAAAAAD4fwAAAAAAAPh/AAAAAAAA+H8AAAAAAAD4fwAAAAAAAPh/AAAAAAAA+H8AAAAAAAD4fwAAAAAAAPh/AAAAAAAA+H8AAAAAAAD4fwAAAAAAAPh/AAAAAAAA+H8AAAAAAAD4fwAAAAAAAPh/AAAAAAAA+H8AAAAAAAD4fwAAAAAAAPh/AAAAAAAA+H8AAAAAAAD4fwAAAAAAAPh/AAAAAAAA+H8AAAAAAAD4fwAAAAAAAPh/AAAAAAAA+H8AAAAAAAD4fwAAAAAAAPh/AAAAAAAA+H8AAAAAAAD4fwAAAAAAAPh/AAAAAAAA+H8AAAAAAAD4f4WjPqY3rJS/Kh93lEYVoz8AAAAAAAD4fwAAAAAAAPh/AAAAAAAA+H8AAAAAAAD4fwAAAAAAAPh/AAAAAAAA+H8AAAAAAAD4fwAAAAAAAPh/AAAAAAAA+H8AAAAAAAD4fwAAAAAAAPh/AAAAAAAA+H8AAAAAAAD4fwAAAAAAAPh/AAAAAAAA+H8AAAAAAAD4fwAAAAAAAPh/AAAAAAAA+H8AAAAAAAD4fwAAAAAAAPh/AAAAAAAA+H8AAAAAAAD4fwAAAAAAAPh/AAAAAAAA+H8AAAAAAAD4fwAAAAAAAPh/AAAAAAAA+H8AAAAAAAD4fwAAAAAAAPh/AAAAAAAA+H8AAAAAAAD4fwAAAAAAAPh/AAAAAAAA+H8AAAAAAAD4fwAAAAAAAPh/ujNlW668ez8oO1pYRXKTP7iwxm9csHK/AAAAAAAA+H8AAAAAAAD4fwAAAAAAAPh/AAAAAAAA+H8AAAAAAAD4fwAAAAAAAPh/AAAAAAAA+H8AAAAAAAD4fwAAAAAAAPh/AAAAAAAA+H8AAAAAAAD4fwAAAAAAAPh/AAAAAAAA+H8AAAAAAAD4fwAAAAAAAPh/AAAAAAAA+H8AAAAAAAD4fwAAAAAAAPh/AAAAAAAA+H8AAAAAAAD4fwAAAAAAAPh/AAAAAAAA+H8AAAAAAAD4fwAAAAAAAPh/AAAAAAAA+H8AAAAAAAD4fwAAAAAAAPh/AAAAAAAA+H8AAAAAAAD4fwAAAAAAAPh/AAAAAAAA+H8AAAAAAAD4fwAAAAAAAPh/AAAAAAAA+H8AQyeRvXN8vz6dLSikA4I/uAdtnz7WdD+qkVX2duY+PwAAAAAAAPh/AAAAAAAA+H8AAAAAAAD4fwAAAAAAAPh/AAAAAAAA+H8AAAAAAAD4fwAAAAAAAPh/AAAAAAAA+H8AAAAAAAD4fwAAAAAAAPh/AAAAAAAA+H8AAAAAAAD4fwAAAAAAAPh/AAAAAAAA+H8AAAAAAAD4fwAAAAAAAPh/AAAAAAAA+H8AAAAAAAD4fwAAAAAAAPh/AAAAAAAA+H8AAAAAAAD4fwAAAAAAAPh/AAAAAAAA+H8AAAAAAAD4fwAAAAAAAPh/AAAAAAAA+H8AAAAAAAD4fwAAAAAAAPh/AAAAAAAA+H8AAAAAAAD4fwAAAAAAAPh/AAAAAAAA+H8AAAAAAAD4f8S/7Szz+Zo/tqQq0suYi78C32a+TUXov3tOpnV6ErA/boDGT7PXiL8AAAAAAAD4fwAAAAAAAPh/AAAAAAAA+H8AAAAAAAD4fwAAAAAAAPh/AAAAAAAA+H8AAAAAAAD4fwAAAAAAAPh/AAAAAAAA+H8AAAAAAAD4fwAAAAAAAPh/AAAAAAAA+H8AAAAAAAD4fwAAAAAAAPh/AAAAAAAA+H8AAAAAAAD4fwAAAAAAAPh/AAAAAAAA+H8AAAAAAAD4fwAAAAAAAPh/AAAAAAAA+H8AAAAAAAD4fwAAAAAAAPh/AAAAAAAA+H8AAAAAAAD4fwAAAAAAAPh/AAAAAAAA+H8AAAAAAAD4fwAAAAAAAPh/AAAAAAAA+H8AAAAAAAD4fwAAAAAAAPh/UE2m688WYT+by/o5zkdjP4utxwr/gLS/LgWWX1kznz9AC+ZfbLKOPzvh0Qqu/LE/AAAAAAAA+H8AAAAAAAD4fwAAAAAAAPh/AAAAAAAA+H8AAAAAAAD4fwAAAAAAAPh/AAAAAAAA+H8AAAAAAAD4fwAAAAAAAPh/AAAAAAAA+H8AAAAAAAD4fwAAAAAAAPh/AAAAAAAA+H8AAAAAAAD4fwAAAAAAAPh/AAAAAAAA+H8AAAAAAAD4fwAAAAAAAPh/AAAAAAAA+H8AAAAAAAD4fwAAAAAAAPh/AAAAAAAA+H8AAAAAAAD4fwAAAAAAAPh/AAAAAAAA+H8AAAAAAAD4fwAAAAAAAPh/AAAAAAAA+H8AAAAAAAD4fwAAAAAAAPh/AAAAAAAA+H+WBA2OLDrBP2wDjhHaB4w/Y3E9vlyOez8ny3AoSmK6v1g9ZsyLFns/6CdauZ+0lT+Zrpjq+quJvwAAAAAAAPh/AAAAAAAA+H8AAAAAAAD4fwAAAAAAAPh/AAAAAAAA+H8AAAAAAAD4fwAAAAAAAPh/AAAAAAAA+H8AAAAAAAD4fwAAAAAAAPh/AAAAAAAA+H8AAAAAAAD4fwAAAAAAAPh/AAAAAAAA+H8AAAAAAAD4fwAAAAAAAPh/AAAAAAAA+H8AAAAAAAD4fwAAAAAAAPh/AAAAAAAA+H8AAAAAAAD4fwAAAAAAAPh/AAAAAAAA+H8AAAAAAAD4fwAAAAAAAPh/AAAAAAAA+H8AAAAAAAD4fwAAAAAAAPh/AAAAAAAA+H8AAAAAAAD4f5nBXDlqSnw/tR1JDl8zw78RvEXpxNxpv2pJbQnSAaS/SdWQfpocST/jZRBNAitov21cNVZqFbi/LCLthBDZgr8AAAAAAAD4fwAAAAAAAPh/AAAAAAAA+H8AAAAAAAD4fwAAAAAAAPh/AAAAAAAA+H8AAAAAAAD4fwAAAAAAAPh/AAAAAAAA+H8AAAAAAAD4fwAAAAAAAPh/AAAAAAAA+H8AAAAAAAD4fwAAAAAAAPh/AAAAAAAA+H8AAAAAAAD4fwAAAAAAAPh/AAAAAAAA+H8AAAAAAAD4fwAAAAAAAPh/AAAAAAAA+H8AAAAAAAD4fwAAAAAAAPh/AAAAAAAA+H8AAAAAAAD4fwAAAAAAAPh/AAAAAAAA+H8AAAAAAAD4fwAAAAAAAPh/kv2m68t2dz9og75GcYPDPywUWT/I3IY/mwHGjX0Nhr8NznJUmZh3Py/ELiVjH5G/mW9W1Z/1jb8ZB5pMYfyyP8p+LffSG26/AAAAAAAA+H8AAAAAAAD4fwAAAAAAAPh/AAAAAAAA+H8AAAAAAAD4fwAAAAAAAPh/AAAAAAAA+H8AAAAAAAD4fwAAAAAAAPh/AAAAAAAA+H8AAAAAAAD4fwAAAAAAAPh/AAAAAAAA+H8AAAAAAAD4fwAAAAAAAPh/AAAAAAAA+H8AAAAAAAD4fwAAAAAAAPh/AAAAAAAA+H8AAAAAAAD4fwAAAAAAAPh/AAAAAAAA+H8AAAAAAAD4fwAAAAAAAPh/AAAAAAAA+H8AAAAAAAD4fwAAAAAAAPh/AAAAAAAA+H8Vns5PClN3PzVPW7q+LMo/BGIHFyh5pL8veQLrEL2kv5cVt+7ouHm/c44McTaylD/EI9N1Tv08v2b4igbuEIa/FDwgypZDrD9fp92xYzOePwAAAAAAAPh/AAAAAAAA+H8AAAAAAAD4fwAAAAAAAPh/AAAAAAAA+H8AAAAAAAD4fwAAAAAAAPh/AAAAAAAA+H8AAAAAAAD4fwAAAAAAAPh/AAAAAAAA+H8AAAAAAAD4fwAAAAAAAPh/AAAAAAAA+H8AAAAAAAD4fwAAAAAAAPh/AAAAAAAA+H8AAAAAAAD4fwAAAAAAAPh/AAAAAAAA+H8AAAAAAAD4fwAAAAAAAPh/AAAAAAAA+H8AAAAAAAD4fwAAAAAAAPh/AAAAAAAA+H8AAAAAAAD4f1DookrgYHc/L8lQkClymL/9COJrfe7av96j43+ubLE/pCi+TMhHY78ojpASc8XaP4wvpQQ9hN8/2/8dcqu/fj+JdjtHV0ayv+8RKi0c4pS/4FcWAg5RlT8AAAAAAAD4fwAAAAAAAPh/AAAAAAAA+H8AAAAAAAD4fwAAAAAAAPh/AAAAAAAA+H8AAAAAAAD4fwAAAAAAAPh/AAAAAAAA+H8AAAAAAAD4fwAAAAAAAPh/AAAAAAAA+H8AAAAAAAD4fwAAAAAAAPh/AAAAAAAA+H8AAAAAAAD4fwAAAAAAAPh/AAAAAAAA+H8AAAAAAAD4fwAAAAAAAPh/AAAAAAAA+H8AAAAAAAD4fwAAAAAAAPh/AAAAAAAA+H8AAAAAAAD4fwAAAAAAAPh/3+8CihwSdz8VzGaDzq4yv8wyDZ16wdq/Q++99Il7sT/eNKDFXJBcvxT5yxTIkNo/dCc+Tehb3z+Pzs6dbJN7P+EQBL8AlrK/xDqdcQABkb9uvqlS70KaP8989JYS3+8/AAAAAAAA+H8AAAAAAAD4fwAAAAAAAPh/AAAAAAAA+H8AAAAAAAD4fwAAAAAAAPh/AAAAAAAA+H8AAAAAAAD4fwAAAAAAAPh/AAAAAAAA+H8AAAAAAAD4fwAAAAAAAPh/AAAAAAAA+H8AAAAAAAD4fwAAAAAAAPh/AAAAAAAA+H8AAAAAAAD4fwAAAAAAAPh/AAAAAAAA+H8AAAAAAAD4fwAAAAAAAPh/AAAAAAAA+H8AAAAAAAD4fwAAAAAAAPh/AAAAAAAA+H+sQhzHsUFov/co0NUPxde/qhJ8wqJEsT9PP6bNII6pP/tFCqvpo3G/Vesqwrrzqr9Ec0tU6i/BP2jsCQ3jgam/FkVchEf2zr+68wnNLuilv/H3puCze8O/IUnnM/Jvsz/kH0KphiWyPwAAAAAAAPh/AAAAAAAA+H8AAAAAAAD4fwAAAAAAAPh/AAAAAAAA+H8AAAAAAAD4fwAAAAAAAPh/AAAAAAAA+H8AAAAAAAD4fwAAAAAAAPh/AAAAAAAA+H8AAAAAAAD4fwAAAAAAAPh/AAAAAAAA+H8AAAAAAAD4fwAAAAAAAPh/AAAAAAAA+H8AAAAAAAD4fwAAAAAAAPh/AAAAAAAA+H8AAAAAAAD4fwAAAAAAAPh/AAAAAAAA+H8AAAAAAAD4f2ZB4apEyZE/NbmK2qrGwL8LJ3uNS1qbv0MvxOgdJaK/TklLisGPhL/TXb+xhKqBP3GiTHBdP34/EauOLTIRqb8Mc+CeJqmpP01KRx6kgqC/2r705yMImb/6muFsdT2KP2WjZ+hwG38/ult3XTVmdj8AAAAAAAD4fwAAAAAAAPh/AAAAAAAA+H8AAAAAAAD4fwAAAAAAAPh/AAAAAAAA+H8AAAAAAAD4fwAAAAAAAPh/AAAAAAAA+H8AAAAAAAD4fwAAAAAAAPh/AAAAAAAA+H8AAAAAAAD4fwAAAAAAAPh/AAAAAAAA+H8AAAAAAAD4fwAAAAAAAPh/AAAAAAAA+H8AAAAAAAD4fwAAAAAAAPh/AAAAAAAA+H8AAAAAAAD4fwAAAAAAAPh/90JWUWWFfz/dI2iuPpDSv7KJpt4uwnc/p9AOO+C0hj9Rv+WsmReRv4YJbEsqT4q/4qkfbTG+fb+dtYaym9GMv/jk3/zR56Q/41wBF2n2o7/XBF/Ht1G4v4GNXrXui2C/gFkN3nuihL/3qvpjS8G8P6briIiOltg/AAAAAAAA+H8AAAAAAAD4fwAAAAAAAPh/AAAAAAAA+H8AAAAAAAD4fwAAAAAAAPh/AAAAAAAA+H8AAAAAAAD4fwAAAAAAAPh/AAAAAAAA+H8AAAAAAAD4fwAAAAAAAPh/AAAAAAAA+H8AAAAAAAD4fwAAAAAAAPh/AAAAAAAA+H8AAAAAAAD4fwAAAAAAAPh/AAAAAAAA+H8AAAAAAAD4fwAAAAAAAPh/AAAAAAAA+H83FhO5xKCKPzCyY5Aa2Us/18HtOR1bcz+SSOULkm57P2EAXSidf3Y/5O8++zgMhb+QhNpX1n9wv2V3pU+MV5y/1FW2+3n/gj+OsyBGZWxdP84yQrABLoG/qlDQYMIelz+lX+SkKVWXP8OZOu64dZk/QLBTo1P9dr/xJ5WJrY6HvwAAAAAAAPh/AAAAAAAA+H8AAAAAAAD4fwAAAAAAAPh/AAAAAAAA+H8AAAAAAAD4fwAAAAAAAPh/AAAAAAAA+H8AAAAAAAD4fwAAAAAAAPh/AAAAAAAA+H8AAAAAAAD4fwAAAAAAAPh/AAAAAAAA+H8AAAAAAAD4fwAAAAAAAPh/AAAAAAAA+H8AAAAAAAD4fwAAAAAAAPh/AAAAAAAA+H8AAAAAAAD4f25+48nYnmm/mP0YLx5OmL86sgo3/GaHv0yWrtwCdo0/SAZD/pbGjD/OOBegQWqYP6zVwPHON6m/GNlpVcT+oD/Oar/tzmiRPzzpjtXw73y/w1x3qnAvWj9uHvk/iAmtv1xURPWz066/6UigY5u4v79pZYvNkdKqPxkPw26T7os/ILTEmsbG0L8AAAAAAAD4fwAAAAAAAPh/AAAAAAAA+H8AAAAAAAD4fwAAAAAAAPh/AAAAAAAA+H8AAAAAAAD4fwAAAAAAAPh/AAAAAAAA+H8AAAAAAAD4fwAAAAAAAPh/AAAAAAAA+H8AAAAAAAD4fwAAAAAAAPh/AAAAAAAA+H8AAAAAAAD4fwAAAAAAAPh/AAAAAAAA+H8AAAAAAAD4fwAAAAAAAPh//LSOmKqSg79CgqF2U36TP00izkhIIpA/mjNjZ4bXpL+XqXYTsduOv4v7s4iV+Je/fIrhnofhpD+HxTclhr50v6iugfGuvpG/1fcIi4pggj9y9mEY5mCAP2CjHsjRiqA/nGvF1wpGoj/oe/z65jy5P9FqqzJtLqa/WWHhGikEhL8wroFIQ93Mv1wB4svJt+e/AAAAAAAA+H8AAAAAAAD4fwAAAAAAAPh/AAAAAAAA+H8AAAAAAAD4fwAAAAAAAPh/AAAAAAAA+H8AAAAAAAD4fwAAAAAAAPh/AAAAAAAA+H8AAAAAAAD4fwAAAAAAAPh/AAAAAAAA+H8AAAAAAAD4fwAAAAAAAPh/AAAAAAAA+H8AAAAAAAD4fwAAAAAAAPh/AAAAAAAA+H9mRZRPMA+GP7ItdTlkPII/TysYpI80ib9xkSuwWl+lPyQUlwl8JXG/qWBZ41hTgT+f9E8c3WeWP3CtsfPdxZq/YlT/0oszg7+q/wy6s7J0vz8sLxY8lYO/x+PaV+vlmT+dNA2Qzg2aP4944QFINpw/yP8c/q6di7+ICFnFLXpuP1SI5LxwbrS/y5tq89/J0L9AmRFBmOLMvwAAAAAAAPh/AAAAAAAA+H8AAAAAAAD4fwAAAAAAAPh/AAAAAAAA+H8AAAAAAAD4fwAAAAAAAPh/AAAAAAAA+H8AAAAAAAD4fwAAAAAAAPh/AAAAAAAA+H8AAAAAAAD4fwAAAAAAAPh/AAAAAAAA+H8AAAAAAAD4fwAAAAAAAPh/AAAAAAAA+H8AAAAAAAD4f8DfOx6keXu/38blGKY9kr/bHtOQIAeSvxwRpp156s2/zoeSu0IIgL+EycLQCzqzvxK44Yy//I6/bKolgKdc0r+Pc2/kewSTP4jFO1thdpy/WWkOTupIpT+zW1G7Wrulv47cmL8IRaW/a0YdFs/9ib96ftdb7giMPzlVNZuj1J2/1vxDXGIYnj/5ypuz3EOuvxWN246mg6o/ewOetyEbi78AAAAAAAD4fwAAAAAAAPh/AAAAAAAA+H8AAAAAAAD4fwAAAAAAAPh/AAAAAAAA+H8AAAAAAAD4fwAAAAAAAPh/AAAAAAAA+H8AAAAAAAD4fwAAAAAAAPh/AAAAAAAA+H8AAAAAAAD4fwAAAAAAAPh/AAAAAAAA+H8AAAAAAAD4fwAAAAAAAPh/weGxuU+klr+RHNv9DfiVv2ugtnoYzX+/LOLM7luMqL8S5w+1l9BfP5439+5AtYm/XbwOwcBGhb+wqs/zCUrfv8/2KlCeB6U/5GN+EZIHpb8o+g6nFWihP5Sl2cVpCZ+/mFpeS2IVoL+nz0UJJrR9v3YaDhUZt7g/NbfnYdiXnD8eV3rnYqiHv9q+fq3ESJC/8+sXIDiBoD/VFMYwu6eSv4mArUaYq7W/AAAAAAAA+H8AAAAAAAD4fwAAAAAAAPh/AAAAAAAA+H8AAAAAAAD4fwAAAAAAAPh/AAAAAAAA+H8AAAAAAAD4fwAAAAAAAPh/AAAAAAAA+H8AAAAAAAD4fwAAAAAAAPh/AAAAAAAA+H8AAAAAAAD4fwAAAAAAAPh/AAAAAAAA+H/CIKcc3vSXP2zPmeh2d5E/Nos6uih7Hb800j8qYVPYP3Gw+QM4CSo/m03yhjpKkz+qL1Pk5immP2Q08bDj5rC/hEY9hUfUpL+yCBhn5KGDP/SuqEqWhKq/Tlr3CQ2Frz9jfeNmBIOwPy2+S8Q0C7g/N7XJYn9Yrr906NF0LT18v4ZqeyWNh6o/xUHm/prGOD+tOSblS3Gyv7SO02at67Q/GNUcqElXw7/10Gqh4HbevwAAAAAAAPh/AAAAAAAA+H8AAAAAAAD4fwAAAAAAAPh/AAAAAAAA+H8AAAAAAAD4fwAAAAAAAPh/AAAAAAAA+H8AAAAAAAD4fwAAAAAAAPh/AAAAAAAA+H8AAAAAAAD4fwAAAAAAAPh/AAAAAAAA+H8AAAAAAAD4f2JVuJI8emS/b0zuI38vhz9f7ETwfrySPyj8WmEYx8W/6dHie3lTUb8/mSVMyESqP7t7+BuswZe/FZw2CUOE3j91wOOe5x+Rv1go+Rq68KE/MnH0qElhUD/8Lh3Xp9dyv5HEpGq8pXy/jfoRXGviqr8kmCOZXeSjv2BYoKnBPX+/5+tnQ7T+pr/sGLm/IjekPwsbB7ZX/5E/aeWY0ngmsL+0/Rf/KyG5v3dM5B2DytO/ExYgk+qp4b8AAAAAAAD4fwAAAAAAAPh/AAAAAAAA+H8AAAAAAAD4fwAAAAAAAPh/AAAAAAAA+H8AAAAAAAD4fwAAAAAAAPh/AAAAAAAA+H8AAAAAAAD4fwAAAAAAAPh/AAAAAAAA+H8AAAAAAAD4fwAAAAAAAPh/x2Jjk8W6Y79CQv0P8tyDvzdAiF9UQIW/Z2v0Z6jN0r8nLOJSsD9xP73RFMb+dbO/nl3jFdyKmL9icGuHEynWP4bqKEcfvKQ/dSOzv8oSdD9kkBD5b3iZP9KaXiLP36i/e4pcKoYkqb+/NYA1Wme4vxMdqX2AvZo/KKXdun1+NT937tCfX2afvyyH+aH6eYG/jUgkvpmgoT+6z5KIBaiRv0yVscJOIaG/oGF57mP7ur9LF2l26xTIvzTaJfwISr+/AAAAAAAA+H8AAAAAAAD4fwAAAAAAAPh/AAAAAAAA+H8AAAAAAAD4fwAAAAAAAPh/AAAAAAAA+H8AAAAAAAD4fwAAAAAAAPh/AAAAAAAA+H8AAAAAAAD4fwAAAAAAAPh/AAAAAAAA+H83MXDEsDyQv0jo0AuYC9A/J0VuAmQko7+fxmnG7gKXv11U5SCjalo/jPsy/OfNoD9t3SV8BqGPv6LNbt8ayIw/cxWfUSB2rb/qttryoXiPP8CmjIvAC54/iggLJ8c3i7/5MBOlced8v+RU6TuKx86/CPqAci4ljb+ncOIgxRezv4l27mlptZ6/BTqCliH7sD9GJPOSkuWjv3DOQzl1lJi/UH+b18BRU7+i0dhbFY54v1ThmcWE76K/VjTHwi+Boj/XyXluw9KaPwAAAAAAAPh/AAAAAAAA+H8AAAAAAAD4fwAAAAAAAPh/AAAAAAAA+H8AAAAAAAD4fwAAAAAAAPh/AAAAAAAA+H8AAAAAAAD4fwAAAAAAAPh/AAAAAAAA+H8AAAAAAAD4fzeQOOtSrp0/Vgl5p4bsp7/qW9bgTAWwP+GjXcgggJO/ujBe2eD2dD8kGtxP+/Wtvznb6NO+MMi/F+RfjFLQmD8BKw8UalLZP7jmVHAP8ZI/OMj5zxHosz/H9N1nukbHv2vIcJJU0sa/XYQm2+vw3r8J2CqEAb6evzhd6oRcRou/l/BmYbHBhz/IMLh8nnqAPw/b9NY1Q1K/0IqKnE9xmb/rLgvny0tDv+h9ynqqnos/y20EgjGboL8esRFZJX5hP8zVZ0qup6k/JMGwhtEz0L8AAAAAAAD4fwAAAAAAAPh/AAAAAAAA+H8AAAAAAAD4fwAAAAAAAPh/AAAAAAAA+H8AAAAAAAD4fwAAAAAAAPh/AAAAAAAA+H8AAAAAAAD4fwAAAAAAAPh/TSj+eIcnlb8cxKYKSS+sP5p6twvPKFO/sirqD9UxqT+5neIwXIluv4Bpkb0yu5E/w/zMy5m0vT/9cde9pk+Dv5efiGtJ1NC/qHzkFS36Vr9UL9w5L16wv4lRv1yCeLg/kWaW9G0FuD/WPWprsYnQPx2bOHKor5o/yUp/gX9Pfz+7GhAy6ux1v1DzXUt7taG/uBkYlk/NkT+9wWkfD+WjPx0JQdKMRpe/OQmVtrGjnr8pN9nm+EKuP1u0Tzp5+46/teZqjpkvor9OUYcisSKnvx7E/al+hOa/AAAAAAAA+H8AAAAAAAD4fwAAAAAAAPh/AAAAAAAA+H8AAAAAAAD4fwAAAAAAAPh/AAAAAAAA+H8AAAAAAAD4fwAAAAAAAPh/AAAAAAAA+H/F9KKuE4mIv46fIzmdN72/N1jb8myMs7+6cBQlWY+Tv+WViVtn5XC/IZHjNhAjqz8ACOLNNh3EPwW80H75mqC/vMdGlr/G0L/PaG7XfVyhv2TFnqAGy6y/sQ/9hj+4xT/ybsC44unEP7WfR3dkZ+E/G2VrxOf2lT+EPW6VlfKnPyDpsD3HiWg/KAddqn60ZL888u87OrhCv1KN+KUBpWc/mCa/pelcnT/Z3Q3iv4OSP/kGydDFQW2/Wa0+pWSZY79MzQKH59Cnv4FGYUkljqK/8RCAgkQP4r83B6ualsm5vwAAAAAAAPh/AAAAAAAA+H8AAAAAAAD4fwAAAAAAAPh/AAAAAAAA+H8AAAAAAAD4fwAAAAAAAPh/AAAAAAAA+H8AAAAAAAD4f1J8qU68gH6/NI3IUIrvoT/nl5Wl8ITYP8QKzoPu9qe/AMxM1d6Ycz93C1fHgdLTv0866ch+49C/s8sojeTQkb8uZmz2QOyiP/NY+hEFmZo/jhBR0fmElL/o56vD9/3lv8wj+LsK4uW/39vqgwMEor+Ps35Y8uGIvyiGVgNgCII/H0YtU2qNlb8P6HIhqEalPzl774K1wZO/kOoM0gu5lr8Hw+NgqYWjP6aHwKocv5c/jk6a59b6qr+0cGsDLPWMP9MWac9Xc5c/sqJwtARPZr9PelSteu3CPxHD7b7lNLG/A1UWXYNywr8AAAAAAAD4fwAAAAAAAPh/AAAAAAAA+H8AAAAAAAD4fwAAAAAAAPh/AAAAAAAA+H8AAAAAAAD4fwAAAAAAAPh/Qs9MORAxcj9VbXSp+c6Qv8BaULEH6b+/+iQ+kE5BNr9aPw/yyyZxv8v76AFUUqI/lQKct8QEsr/QPncCJYGPP0dEoOq1N3I/ge6GtXKKkL9g0rnLcbSAP7eWVxaBbos/9svo+UZDhj91nJuq6RuVv0xlFzsiT3Q/r96wyIUVe789herNwKBiP/6u9rsw+lm/BKdfto+SUr8HY9rRkm5nP/R9eN8laoS/Ur9UTB3fc78R1/Y3pCaEP891szSlH4G/kd+hjNSSiD/QQHn/hcuUP6EdHnGcdKa/jPwGjNjAgj+gklghv7qnP/PxKNS1xuW/AAAAAAAA+H8AAAAAAAD4fwAAAAAAAPh/AAAAAAAA+H8AAAAAAAD4fwAAAAAAAPh/AAAAAAAA+H+SzvBkj5N1PxZxFqm3kKC/nFGnuo9Hz7/uPj/sllKcP9JLaU8iaHa/AhX5bGJZyz+t5CxvHf7AP6V+NfdoFV4/h5sLWLMWh79OrqkNUD15v4HMsY5c8Hs/Tav0SEsC3z+wPQKiUAHfP5CYfkPzBJ0/LjJ77SbKez92INjT4tNhP+DJeHQI15g/jhj2F/aynb8I6S4emyFpP6wmugcF6Jk/C8HyX2P4l7+6LjH/rMSEvyYfK4ttZaM/VpAfyZkBkb8B1GkVyUWTvy9p4iGl9IC/Ol/H6P7msb9hP8Fy54adPw85/B5chbM/WZalr7082L8YAYAzb1nNvwAAAAAAAPh/AAAAAAAA+H8AAAAAAAD4fwAAAAAAAPh/AAAAAAAA+H8AAAAAAAD4f612g0/LFx8/vQRpf1HXTT/bGeSGDX7Nv6EdSFAOda4/nkucUFGddD+fZwveMDrSPxlABd/kY98/IM37BWFTcj8PzvgBunCxv1E7mssmTY6/SfbXVGIQkT+8bhd1EqvnP4HQeIZkmec/74LIz2iIsj9rldmYpW57P/qhphJoKYG/hEQ9I8SDfT9sPYVyjVymvw4l1+Kr76I/6SUoKhEWfT9upG1z3D+dv3nu+edUa5m/QZWRXLNJpD+XOVOHkoyAP+lCp7UOjKa/k7bG9/qrlb/L/zemRl7Avyqp9R7b5rQ/0hGmupaRuz++Z8MdOwTSv9IXpOoI0cW/2xAbfDtIuL8AAAAAAAD4fwAAAAAAAPh/AAAAAAAA+H8AAAAAAAD4fwAAAAAAAPh/qYb82AIiT79yRbHf8KDKPwcQMBeGVGi/73GUzEhpdb9erU1DyWeCPxaiQxv+0Fo/Vm/BBjf1bz9VShGStzCLP/QhBlQZ1ZG/wMlZwwsooT/o9qcqf4amP+pgXT/r9Fi/3unjLvFRgT9cSsSXs6CyvyVNTSv8X5a/FW/83fZbtL9rZNdrjl6QP27oJZESc4O/xBNyUIUCdj9fHd5noyqAv3K1yenfEHA/CgM4BBC7iL8y8Foa/QpvP+qbdKsntHY/qZ9ZIj4+J78M+8hQLvicP4oMifeIZVK/mdDgMf4JgT+20TnlekOWv2CwJssQdYM/N33VLCIkh7/sfnIlEcSCv1a1D64bOYs/AAAAAAAA+H8AAAAAAAD4fwAAAAAAAPh/AAAAAAAA+H98nSFy4wmXP3nzHizMR8a/0KbX38Ehdb84hVHvwYx4vwTE3D074Is/xYN4hiHfbj+45F/W8WFpv28LD7HvQna/tWHaIuJbnj9OwMcHorSVv1H1zcF3N6e/FIZuyosyYT/9d29wawh/P2slA3z+47M/JezuLJcokz/c0UxcC2ijP5HyaBqkgYO/q1Le/jbDZT9YbinY16h2P4rSAnMR9ne/+w5LHd6ziz/Stx+NhaSLvyKCpYA7rnU/Y76lL552fz+XZO1NpwOMvyLWAed7jaO/ywP9BED6eT++T5oF0mNqv5X9PcxoXok/LtZx6c1Xg79abj0S/R1VPxPDwju1TIc/IcXiYn9RYT+Ol4i2rzm1vwAAAAAAAPh/AAAAAAAA+H8AAAAAAAD4f2sTCrphAIG/ETNw7qU6w7+lmFjgotqWv/HbjXp+OXA/EtMHSdvYjL9avRSknH+YP9xDuPn7rJc/gVJ0PpnGgD9ulkJ8GV4Tv4KHY1+hBpy/mCHW4F2Gmb9jzVwWDaSfP5VLeG0N1aS/jys4M7+niz/6dI7gXLalP5SnyM2oY64/6tua2g9xbj/VsvT8FLacPxovecIVAKC/yKC9CGHiUT8GW7tdSI2RvzEPQJBN7JQ/8g6WhNvMnL+bqu/hMPyMP/c/OrwD1IY/FIo4YoUOpL8FAqxUobyev6V+SfcrJIc/abtdKWIeqj/Dz/DmGkOYv7Abt550L5Y/N8oBUp6xdr/nM/YjNNKOP8Rp+ZK1Abe/beoILPns4r8AAAAAAAD4fwAAAAAAAPh/AAAAAAAA+H8AAAAAAAD4fwAAAAAAAPh/AAAAAAAA+H8AAAAAAAD4fwAAAAAAAPh/AAAAAAAA+H8AAAAAAAD4fwAAAAAAAPh/AAAAAAAA+H8AAAAAAAD4fwAAAAAAAPh/AAAAAAAA+H8AAAAAAAD4fwAAAAAAAPh/AAAAAAAA+H8AAAAAAAD4fwAAAAAAAPh/AAAAAAAA+H8AAAAAAAD4fwAAAAAAAPh/AAAAAAAA+H8AAAAAAAD4fwAAAAAAAPh/AAAAAAAA+H8AAAAAAAD4fwAAAAAAAPh/AAAAAAAA+H8AAAAAAAD4fwAAAAAAAPh/AAAAAAAA+H8AAAAAAAD4fwAAAAAAAPh/AAAAAAAA+H8AAAAAAAD4fwAAAAAAAPh/AAAAAAAA+H8=",
          "dtype": "f8",
          "shape": "37, 37"
         }
        }
       ],
       "layout": {
        "coloraxis": {
         "colorscale": [
          [
           0,
           "rgb(103,0,31)"
          ],
          [
           0.1,
           "rgb(178,24,43)"
          ],
          [
           0.2,
           "rgb(214,96,77)"
          ],
          [
           0.3,
           "rgb(244,165,130)"
          ],
          [
           0.4,
           "rgb(253,219,199)"
          ],
          [
           0.5,
           "rgb(247,247,247)"
          ],
          [
           0.6,
           "rgb(209,229,240)"
          ],
          [
           0.7,
           "rgb(146,197,222)"
          ],
          [
           0.8,
           "rgb(67,147,195)"
          ],
          [
           0.9,
           "rgb(33,102,172)"
          ],
          [
           1,
           "rgb(5,48,97)"
          ]
         ]
        },
        "height": 800,
        "template": {
         "data": {
          "bar": [
           {
            "error_x": {
             "color": "#2a3f5f"
            },
            "error_y": {
             "color": "#2a3f5f"
            },
            "marker": {
             "line": {
              "color": "#E5ECF6",
              "width": 0.5
             },
             "pattern": {
              "fillmode": "overlay",
              "size": 10,
              "solidity": 0.2
             }
            },
            "type": "bar"
           }
          ],
          "barpolar": [
           {
            "marker": {
             "line": {
              "color": "#E5ECF6",
              "width": 0.5
             },
             "pattern": {
              "fillmode": "overlay",
              "size": 10,
              "solidity": 0.2
             }
            },
            "type": "barpolar"
           }
          ],
          "carpet": [
           {
            "aaxis": {
             "endlinecolor": "#2a3f5f",
             "gridcolor": "white",
             "linecolor": "white",
             "minorgridcolor": "white",
             "startlinecolor": "#2a3f5f"
            },
            "baxis": {
             "endlinecolor": "#2a3f5f",
             "gridcolor": "white",
             "linecolor": "white",
             "minorgridcolor": "white",
             "startlinecolor": "#2a3f5f"
            },
            "type": "carpet"
           }
          ],
          "choropleth": [
           {
            "colorbar": {
             "outlinewidth": 0,
             "ticks": ""
            },
            "type": "choropleth"
           }
          ],
          "contour": [
           {
            "colorbar": {
             "outlinewidth": 0,
             "ticks": ""
            },
            "colorscale": [
             [
              0,
              "#0d0887"
             ],
             [
              0.1111111111111111,
              "#46039f"
             ],
             [
              0.2222222222222222,
              "#7201a8"
             ],
             [
              0.3333333333333333,
              "#9c179e"
             ],
             [
              0.4444444444444444,
              "#bd3786"
             ],
             [
              0.5555555555555556,
              "#d8576b"
             ],
             [
              0.6666666666666666,
              "#ed7953"
             ],
             [
              0.7777777777777778,
              "#fb9f3a"
             ],
             [
              0.8888888888888888,
              "#fdca26"
             ],
             [
              1,
              "#f0f921"
             ]
            ],
            "type": "contour"
           }
          ],
          "contourcarpet": [
           {
            "colorbar": {
             "outlinewidth": 0,
             "ticks": ""
            },
            "type": "contourcarpet"
           }
          ],
          "heatmap": [
           {
            "colorbar": {
             "outlinewidth": 0,
             "ticks": ""
            },
            "colorscale": [
             [
              0,
              "#0d0887"
             ],
             [
              0.1111111111111111,
              "#46039f"
             ],
             [
              0.2222222222222222,
              "#7201a8"
             ],
             [
              0.3333333333333333,
              "#9c179e"
             ],
             [
              0.4444444444444444,
              "#bd3786"
             ],
             [
              0.5555555555555556,
              "#d8576b"
             ],
             [
              0.6666666666666666,
              "#ed7953"
             ],
             [
              0.7777777777777778,
              "#fb9f3a"
             ],
             [
              0.8888888888888888,
              "#fdca26"
             ],
             [
              1,
              "#f0f921"
             ]
            ],
            "type": "heatmap"
           }
          ],
          "histogram": [
           {
            "marker": {
             "pattern": {
              "fillmode": "overlay",
              "size": 10,
              "solidity": 0.2
             }
            },
            "type": "histogram"
           }
          ],
          "histogram2d": [
           {
            "colorbar": {
             "outlinewidth": 0,
             "ticks": ""
            },
            "colorscale": [
             [
              0,
              "#0d0887"
             ],
             [
              0.1111111111111111,
              "#46039f"
             ],
             [
              0.2222222222222222,
              "#7201a8"
             ],
             [
              0.3333333333333333,
              "#9c179e"
             ],
             [
              0.4444444444444444,
              "#bd3786"
             ],
             [
              0.5555555555555556,
              "#d8576b"
             ],
             [
              0.6666666666666666,
              "#ed7953"
             ],
             [
              0.7777777777777778,
              "#fb9f3a"
             ],
             [
              0.8888888888888888,
              "#fdca26"
             ],
             [
              1,
              "#f0f921"
             ]
            ],
            "type": "histogram2d"
           }
          ],
          "histogram2dcontour": [
           {
            "colorbar": {
             "outlinewidth": 0,
             "ticks": ""
            },
            "colorscale": [
             [
              0,
              "#0d0887"
             ],
             [
              0.1111111111111111,
              "#46039f"
             ],
             [
              0.2222222222222222,
              "#7201a8"
             ],
             [
              0.3333333333333333,
              "#9c179e"
             ],
             [
              0.4444444444444444,
              "#bd3786"
             ],
             [
              0.5555555555555556,
              "#d8576b"
             ],
             [
              0.6666666666666666,
              "#ed7953"
             ],
             [
              0.7777777777777778,
              "#fb9f3a"
             ],
             [
              0.8888888888888888,
              "#fdca26"
             ],
             [
              1,
              "#f0f921"
             ]
            ],
            "type": "histogram2dcontour"
           }
          ],
          "mesh3d": [
           {
            "colorbar": {
             "outlinewidth": 0,
             "ticks": ""
            },
            "type": "mesh3d"
           }
          ],
          "parcoords": [
           {
            "line": {
             "colorbar": {
              "outlinewidth": 0,
              "ticks": ""
             }
            },
            "type": "parcoords"
           }
          ],
          "pie": [
           {
            "automargin": true,
            "type": "pie"
           }
          ],
          "scatter": [
           {
            "fillpattern": {
             "fillmode": "overlay",
             "size": 10,
             "solidity": 0.2
            },
            "type": "scatter"
           }
          ],
          "scatter3d": [
           {
            "line": {
             "colorbar": {
              "outlinewidth": 0,
              "ticks": ""
             }
            },
            "marker": {
             "colorbar": {
              "outlinewidth": 0,
              "ticks": ""
             }
            },
            "type": "scatter3d"
           }
          ],
          "scattercarpet": [
           {
            "marker": {
             "colorbar": {
              "outlinewidth": 0,
              "ticks": ""
             }
            },
            "type": "scattercarpet"
           }
          ],
          "scattergeo": [
           {
            "marker": {
             "colorbar": {
              "outlinewidth": 0,
              "ticks": ""
             }
            },
            "type": "scattergeo"
           }
          ],
          "scattergl": [
           {
            "marker": {
             "colorbar": {
              "outlinewidth": 0,
              "ticks": ""
             }
            },
            "type": "scattergl"
           }
          ],
          "scattermap": [
           {
            "marker": {
             "colorbar": {
              "outlinewidth": 0,
              "ticks": ""
             }
            },
            "type": "scattermap"
           }
          ],
          "scattermapbox": [
           {
            "marker": {
             "colorbar": {
              "outlinewidth": 0,
              "ticks": ""
             }
            },
            "type": "scattermapbox"
           }
          ],
          "scatterpolar": [
           {
            "marker": {
             "colorbar": {
              "outlinewidth": 0,
              "ticks": ""
             }
            },
            "type": "scatterpolar"
           }
          ],
          "scatterpolargl": [
           {
            "marker": {
             "colorbar": {
              "outlinewidth": 0,
              "ticks": ""
             }
            },
            "type": "scatterpolargl"
           }
          ],
          "scatterternary": [
           {
            "marker": {
             "colorbar": {
              "outlinewidth": 0,
              "ticks": ""
             }
            },
            "type": "scatterternary"
           }
          ],
          "surface": [
           {
            "colorbar": {
             "outlinewidth": 0,
             "ticks": ""
            },
            "colorscale": [
             [
              0,
              "#0d0887"
             ],
             [
              0.1111111111111111,
              "#46039f"
             ],
             [
              0.2222222222222222,
              "#7201a8"
             ],
             [
              0.3333333333333333,
              "#9c179e"
             ],
             [
              0.4444444444444444,
              "#bd3786"
             ],
             [
              0.5555555555555556,
              "#d8576b"
             ],
             [
              0.6666666666666666,
              "#ed7953"
             ],
             [
              0.7777777777777778,
              "#fb9f3a"
             ],
             [
              0.8888888888888888,
              "#fdca26"
             ],
             [
              1,
              "#f0f921"
             ]
            ],
            "type": "surface"
           }
          ],
          "table": [
           {
            "cells": {
             "fill": {
              "color": "#EBF0F8"
             },
             "line": {
              "color": "white"
             }
            },
            "header": {
             "fill": {
              "color": "#C8D4E3"
             },
             "line": {
              "color": "white"
             }
            },
            "type": "table"
           }
          ]
         },
         "layout": {
          "annotationdefaults": {
           "arrowcolor": "#2a3f5f",
           "arrowhead": 0,
           "arrowwidth": 1
          },
          "autotypenumbers": "strict",
          "coloraxis": {
           "colorbar": {
            "outlinewidth": 0,
            "ticks": ""
           }
          },
          "colorscale": {
           "diverging": [
            [
             0,
             "#8e0152"
            ],
            [
             0.1,
             "#c51b7d"
            ],
            [
             0.2,
             "#de77ae"
            ],
            [
             0.3,
             "#f1b6da"
            ],
            [
             0.4,
             "#fde0ef"
            ],
            [
             0.5,
             "#f7f7f7"
            ],
            [
             0.6,
             "#e6f5d0"
            ],
            [
             0.7,
             "#b8e186"
            ],
            [
             0.8,
             "#7fbc41"
            ],
            [
             0.9,
             "#4d9221"
            ],
            [
             1,
             "#276419"
            ]
           ],
           "sequential": [
            [
             0,
             "#0d0887"
            ],
            [
             0.1111111111111111,
             "#46039f"
            ],
            [
             0.2222222222222222,
             "#7201a8"
            ],
            [
             0.3333333333333333,
             "#9c179e"
            ],
            [
             0.4444444444444444,
             "#bd3786"
            ],
            [
             0.5555555555555556,
             "#d8576b"
            ],
            [
             0.6666666666666666,
             "#ed7953"
            ],
            [
             0.7777777777777778,
             "#fb9f3a"
            ],
            [
             0.8888888888888888,
             "#fdca26"
            ],
            [
             1,
             "#f0f921"
            ]
           ],
           "sequentialminus": [
            [
             0,
             "#0d0887"
            ],
            [
             0.1111111111111111,
             "#46039f"
            ],
            [
             0.2222222222222222,
             "#7201a8"
            ],
            [
             0.3333333333333333,
             "#9c179e"
            ],
            [
             0.4444444444444444,
             "#bd3786"
            ],
            [
             0.5555555555555556,
             "#d8576b"
            ],
            [
             0.6666666666666666,
             "#ed7953"
            ],
            [
             0.7777777777777778,
             "#fb9f3a"
            ],
            [
             0.8888888888888888,
             "#fdca26"
            ],
            [
             1,
             "#f0f921"
            ]
           ]
          },
          "colorway": [
           "#636efa",
           "#EF553B",
           "#00cc96",
           "#ab63fa",
           "#FFA15A",
           "#19d3f3",
           "#FF6692",
           "#B6E880",
           "#FF97FF",
           "#FECB52"
          ],
          "font": {
           "color": "#2a3f5f"
          },
          "geo": {
           "bgcolor": "white",
           "lakecolor": "white",
           "landcolor": "#E5ECF6",
           "showlakes": true,
           "showland": true,
           "subunitcolor": "white"
          },
          "hoverlabel": {
           "align": "left"
          },
          "hovermode": "closest",
          "mapbox": {
           "style": "light"
          },
          "paper_bgcolor": "white",
          "plot_bgcolor": "#E5ECF6",
          "polar": {
           "angularaxis": {
            "gridcolor": "white",
            "linecolor": "white",
            "ticks": ""
           },
           "bgcolor": "#E5ECF6",
           "radialaxis": {
            "gridcolor": "white",
            "linecolor": "white",
            "ticks": ""
           }
          },
          "scene": {
           "xaxis": {
            "backgroundcolor": "#E5ECF6",
            "gridcolor": "white",
            "gridwidth": 2,
            "linecolor": "white",
            "showbackground": true,
            "ticks": "",
            "zerolinecolor": "white"
           },
           "yaxis": {
            "backgroundcolor": "#E5ECF6",
            "gridcolor": "white",
            "gridwidth": 2,
            "linecolor": "white",
            "showbackground": true,
            "ticks": "",
            "zerolinecolor": "white"
           },
           "zaxis": {
            "backgroundcolor": "#E5ECF6",
            "gridcolor": "white",
            "gridwidth": 2,
            "linecolor": "white",
            "showbackground": true,
            "ticks": "",
            "zerolinecolor": "white"
           }
          },
          "shapedefaults": {
           "line": {
            "color": "#2a3f5f"
           }
          },
          "ternary": {
           "aaxis": {
            "gridcolor": "white",
            "linecolor": "white",
            "ticks": ""
           },
           "baxis": {
            "gridcolor": "white",
            "linecolor": "white",
            "ticks": ""
           },
           "bgcolor": "#E5ECF6",
           "caxis": {
            "gridcolor": "white",
            "linecolor": "white",
            "ticks": ""
           }
          },
          "title": {
           "x": 0.05
          },
          "xaxis": {
           "automargin": true,
           "gridcolor": "white",
           "linecolor": "white",
           "ticks": "",
           "title": {
            "standoff": 15
           },
           "zerolinecolor": "white",
           "zerolinewidth": 2
          },
          "yaxis": {
           "automargin": true,
           "gridcolor": "white",
           "linecolor": "white",
           "ticks": "",
           "title": {
            "standoff": 15
           },
           "zerolinecolor": "white",
           "zerolinewidth": 2
          }
         }
        },
        "title": {
         "text": "Correlation Heatmap (Interactive) - Lower Triangle"
        },
        "width": 800,
        "xaxis": {
         "anchor": "y",
         "domain": [
          0,
          1
         ],
         "tickangle": -45,
         "tickmode": "array",
         "ticktext": [
          "CLIENTNUM",
          "Attrition_Flag",
          "Gender",
          "Dependent_count",
          "Education_Level",
          "Income_Category",
          "Card_Category",
          "Months_on_book",
          "Total_Relationship_Count",
          "Months_Inactive_12_mon",
          "Contacts_Count_12_mon",
          "Credit_Limit",
          "Total_Amt_Chng_Q4_Q1",
          "Total_Trans_Ct",
          "Total_Ct_Chng_Q4_Q1",
          "Avg_Utilization_Ratio",
          "Divorced",
          "Married",
          "Single",
          "Unknown",
          "Age_Under 30",
          "Age_30-40",
          "Age_40-50",
          "Age_50-60",
          "Age_60+",
          "Total_Trans_Amt_Binned_Low",
          "Total_Trans_Amt_Binned_Medium",
          "Total_Trans_Amt_Binned_High",
          "Total_Trans_Amt_Binned_Very High",
          "Avg_Open_To_Buy_Binned_Low",
          "Avg_Open_To_Buy_Binned_Medium",
          "Avg_Open_To_Buy_Binned_High",
          "Avg_Open_To_Buy_Binned_Very High",
          "Total_Revolving_Bal_Binned_Low",
          "Total_Revolving_Bal_Binned_Medium",
          "Total_Revolving_Bal_Binned_High",
          "Total_Revolving_Bal_Binned_Very High"
         ],
         "tickvals": [
          0,
          1,
          2,
          3,
          4,
          5,
          6,
          7,
          8,
          9,
          10,
          11,
          12,
          13,
          14,
          15,
          16,
          17,
          18,
          19,
          20,
          21,
          22,
          23,
          24,
          25,
          26,
          27,
          28,
          29,
          30,
          31,
          32,
          33,
          34,
          35,
          36
         ],
         "title": {
          "text": "Features"
         }
        },
        "yaxis": {
         "anchor": "x",
         "autorange": "reversed",
         "domain": [
          0,
          1
         ],
         "tickmode": "array",
         "ticktext": [
          "CLIENTNUM",
          "Attrition_Flag",
          "Gender",
          "Dependent_count",
          "Education_Level",
          "Income_Category",
          "Card_Category",
          "Months_on_book",
          "Total_Relationship_Count",
          "Months_Inactive_12_mon",
          "Contacts_Count_12_mon",
          "Credit_Limit",
          "Total_Amt_Chng_Q4_Q1",
          "Total_Trans_Ct",
          "Total_Ct_Chng_Q4_Q1",
          "Avg_Utilization_Ratio",
          "Divorced",
          "Married",
          "Single",
          "Unknown",
          "Age_Under 30",
          "Age_30-40",
          "Age_40-50",
          "Age_50-60",
          "Age_60+",
          "Total_Trans_Amt_Binned_Low",
          "Total_Trans_Amt_Binned_Medium",
          "Total_Trans_Amt_Binned_High",
          "Total_Trans_Amt_Binned_Very High",
          "Avg_Open_To_Buy_Binned_Low",
          "Avg_Open_To_Buy_Binned_Medium",
          "Avg_Open_To_Buy_Binned_High",
          "Avg_Open_To_Buy_Binned_Very High",
          "Total_Revolving_Bal_Binned_Low",
          "Total_Revolving_Bal_Binned_Medium",
          "Total_Revolving_Bal_Binned_High",
          "Total_Revolving_Bal_Binned_Very High"
         ],
         "tickvals": [
          0,
          1,
          2,
          3,
          4,
          5,
          6,
          7,
          8,
          9,
          10,
          11,
          12,
          13,
          14,
          15,
          16,
          17,
          18,
          19,
          20,
          21,
          22,
          23,
          24,
          25,
          26,
          27,
          28,
          29,
          30,
          31,
          32,
          33,
          34,
          35,
          36
         ],
         "title": {
          "text": "Features"
         }
        }
       }
      }
     },
     "metadata": {},
     "output_type": "display_data"
    }
   ],
   "source": [
    "import numpy as np\n",
    "\n",
    "# BEGIN: Masking the upper triangle\n",
    "mask = np.triu(np.ones_like(corr_matrix, dtype=bool))\n",
    "\n",
    "# Create a masked correlation matrix\n",
    "masked_corr_matrix = corr_matrix.mask(mask)\n",
    "\n",
    "# Plotting the heatmap with the masked correlation matrix\n",
    "fig = px.imshow(\n",
    "    masked_corr_matrix,\n",
    "    text_auto=\".2f\",\n",
    "    color_continuous_scale='RdBu',\n",
    "    title=\"Correlation Heatmap (Interactive) - Lower Triangle\",\n",
    "    aspect=\"auto\"\n",
    ")\n",
    "fig.update_layout(\n",
    "    width=800,\n",
    "    height=800,\n",
    "    xaxis_title=\"Features\",\n",
    "    yaxis_title=\"Features\",\n",
    "    xaxis=dict(tickangle=-45, tickmode='array', tickvals=list(range(len(masked_corr_matrix.columns))), ticktext=masked_corr_matrix.columns),\n",
    "    yaxis=dict(tickmode='array', tickvals=list(range(len(masked_corr_matrix.index))), ticktext=masked_corr_matrix.index)\n",
    ")\n",
    "fig.show()\n",
    "# END: Masking the upper triangle"
   ]
  },
  {
   "cell_type": "code",
   "execution_count": 93,
   "metadata": {},
   "outputs": [
    {
     "name": "stdout",
     "output_type": "stream",
     "text": [
      "Attrition_Flag                          1.000000\n",
      "Total_Trans_Amt_Binned_Low              0.250708\n",
      "Total_Revolving_Bal_Binned_Low          0.208037\n",
      "Contacts_Count_12_mon                   0.204491\n",
      "Months_Inactive_12_mon                  0.152449\n",
      "Total_Trans_Amt_Binned_High             0.055048\n",
      "Gender                                  0.037272\n",
      "Avg_Open_To_Buy_Binned_Low              0.035031\n",
      "Single                                  0.019037\n",
      "Dependent_count                         0.018991\n",
      "Age_40-50                               0.017057\n",
      "Months_on_book                          0.013687\n",
      "Age_50-60                               0.011321\n",
      "Unknown                                 0.008904\n",
      "Education_Level                         0.008796\n",
      "Card_Category                           0.002354\n",
      "Avg_Open_To_Buy_Binned_Very High        0.000911\n",
      "Divorced                                0.000850\n",
      "Total_Amt_Chng_Q4_Q1                   -0.000285\n",
      "Age_60+                                -0.009699\n",
      "Income_Category                        -0.013475\n",
      "Avg_Open_To_Buy_Binned_Medium          -0.016415\n",
      "Age_Under 30                           -0.017813\n",
      "Age_30-40                              -0.021454\n",
      "Married                                -0.023735\n",
      "Credit_Limit                           -0.023873\n",
      "Avg_Open_To_Buy_Binned_High            -0.032354\n",
      "CLIENTNUM                              -0.046430\n",
      "Total_Trans_Amt_Binned_Medium          -0.046726\n",
      "Total_Trans_Amt_Binned_Very High       -0.114130\n",
      "Total_Ct_Chng_Q4_Q1                    -0.131063\n",
      "Total_Relationship_Count               -0.150005\n",
      "Total_Revolving_Bal_Binned_High        -0.150227\n",
      "Total_Revolving_Bal_Binned_Medium      -0.174066\n",
      "Avg_Utilization_Ratio                  -0.290054\n",
      "Total_Trans_Ct                         -0.371403\n",
      "Total_Revolving_Bal_Binned_Very High         NaN\n",
      "Name: Attrition_Flag, dtype: float64\n"
     ]
    }
   ],
   "source": [
    "# Extracting correlation values with respect to Attrition_Flag\n",
    "attrition_corr = corr_matrix['Attrition_Flag'].sort_values(ascending=False)\n",
    "print(attrition_corr)"
   ]
  },
  {
   "cell_type": "markdown",
   "metadata": {},
   "source": [
    "### Dropping Features whose correlation value is approx. 0 w.r.t. Attrition Flag"
   ]
  },
  {
   "cell_type": "code",
   "execution_count": 94,
   "metadata": {},
   "outputs": [
    {
     "data": {
      "text/html": [
       "<div>\n",
       "<style scoped>\n",
       "    .dataframe tbody tr th:only-of-type {\n",
       "        vertical-align: middle;\n",
       "    }\n",
       "\n",
       "    .dataframe tbody tr th {\n",
       "        vertical-align: top;\n",
       "    }\n",
       "\n",
       "    .dataframe thead th {\n",
       "        text-align: right;\n",
       "    }\n",
       "</style>\n",
       "<table border=\"1\" class=\"dataframe\">\n",
       "  <thead>\n",
       "    <tr style=\"text-align: right;\">\n",
       "      <th></th>\n",
       "      <th>CLIENTNUM</th>\n",
       "      <th>Attrition_Flag</th>\n",
       "      <th>Gender</th>\n",
       "      <th>Dependent_count</th>\n",
       "      <th>Education_Level</th>\n",
       "      <th>Income_Category</th>\n",
       "      <th>Card_Category</th>\n",
       "      <th>Months_on_book</th>\n",
       "      <th>Total_Relationship_Count</th>\n",
       "      <th>Months_Inactive_12_mon</th>\n",
       "      <th>...</th>\n",
       "      <th>Total_Trans_Amt_Binned_High</th>\n",
       "      <th>Total_Trans_Amt_Binned_Very High</th>\n",
       "      <th>Avg_Open_To_Buy_Binned_Low</th>\n",
       "      <th>Avg_Open_To_Buy_Binned_Medium</th>\n",
       "      <th>Avg_Open_To_Buy_Binned_High</th>\n",
       "      <th>Avg_Open_To_Buy_Binned_Very High</th>\n",
       "      <th>Total_Revolving_Bal_Binned_Low</th>\n",
       "      <th>Total_Revolving_Bal_Binned_Medium</th>\n",
       "      <th>Total_Revolving_Bal_Binned_High</th>\n",
       "      <th>Total_Revolving_Bal_Binned_Very High</th>\n",
       "    </tr>\n",
       "  </thead>\n",
       "  <tbody>\n",
       "    <tr>\n",
       "      <th>0</th>\n",
       "      <td>768805383</td>\n",
       "      <td>0</td>\n",
       "      <td>0</td>\n",
       "      <td>3</td>\n",
       "      <td>1</td>\n",
       "      <td>3</td>\n",
       "      <td>1</td>\n",
       "      <td>39</td>\n",
       "      <td>5</td>\n",
       "      <td>1</td>\n",
       "      <td>...</td>\n",
       "      <td>False</td>\n",
       "      <td>False</td>\n",
       "      <td>False</td>\n",
       "      <td>True</td>\n",
       "      <td>False</td>\n",
       "      <td>False</td>\n",
       "      <td>False</td>\n",
       "      <td>True</td>\n",
       "      <td>False</td>\n",
       "      <td>False</td>\n",
       "    </tr>\n",
       "    <tr>\n",
       "      <th>1</th>\n",
       "      <td>818770008</td>\n",
       "      <td>0</td>\n",
       "      <td>1</td>\n",
       "      <td>5</td>\n",
       "      <td>3</td>\n",
       "      <td>1</td>\n",
       "      <td>1</td>\n",
       "      <td>44</td>\n",
       "      <td>6</td>\n",
       "      <td>1</td>\n",
       "      <td>...</td>\n",
       "      <td>False</td>\n",
       "      <td>False</td>\n",
       "      <td>False</td>\n",
       "      <td>True</td>\n",
       "      <td>False</td>\n",
       "      <td>False</td>\n",
       "      <td>False</td>\n",
       "      <td>True</td>\n",
       "      <td>False</td>\n",
       "      <td>False</td>\n",
       "    </tr>\n",
       "    <tr>\n",
       "      <th>2</th>\n",
       "      <td>713982108</td>\n",
       "      <td>0</td>\n",
       "      <td>0</td>\n",
       "      <td>3</td>\n",
       "      <td>3</td>\n",
       "      <td>4</td>\n",
       "      <td>1</td>\n",
       "      <td>36</td>\n",
       "      <td>4</td>\n",
       "      <td>1</td>\n",
       "      <td>...</td>\n",
       "      <td>False</td>\n",
       "      <td>False</td>\n",
       "      <td>True</td>\n",
       "      <td>False</td>\n",
       "      <td>False</td>\n",
       "      <td>False</td>\n",
       "      <td>False</td>\n",
       "      <td>False</td>\n",
       "      <td>False</td>\n",
       "      <td>False</td>\n",
       "    </tr>\n",
       "    <tr>\n",
       "      <th>3</th>\n",
       "      <td>769911858</td>\n",
       "      <td>0</td>\n",
       "      <td>1</td>\n",
       "      <td>4</td>\n",
       "      <td>1</td>\n",
       "      <td>1</td>\n",
       "      <td>1</td>\n",
       "      <td>34</td>\n",
       "      <td>3</td>\n",
       "      <td>4</td>\n",
       "      <td>...</td>\n",
       "      <td>False</td>\n",
       "      <td>False</td>\n",
       "      <td>True</td>\n",
       "      <td>False</td>\n",
       "      <td>False</td>\n",
       "      <td>False</td>\n",
       "      <td>False</td>\n",
       "      <td>False</td>\n",
       "      <td>True</td>\n",
       "      <td>False</td>\n",
       "    </tr>\n",
       "    <tr>\n",
       "      <th>4</th>\n",
       "      <td>709106358</td>\n",
       "      <td>0</td>\n",
       "      <td>0</td>\n",
       "      <td>3</td>\n",
       "      <td>0</td>\n",
       "      <td>3</td>\n",
       "      <td>1</td>\n",
       "      <td>21</td>\n",
       "      <td>5</td>\n",
       "      <td>1</td>\n",
       "      <td>...</td>\n",
       "      <td>False</td>\n",
       "      <td>False</td>\n",
       "      <td>True</td>\n",
       "      <td>False</td>\n",
       "      <td>False</td>\n",
       "      <td>False</td>\n",
       "      <td>False</td>\n",
       "      <td>False</td>\n",
       "      <td>False</td>\n",
       "      <td>False</td>\n",
       "    </tr>\n",
       "    <tr>\n",
       "      <th>...</th>\n",
       "      <td>...</td>\n",
       "      <td>...</td>\n",
       "      <td>...</td>\n",
       "      <td>...</td>\n",
       "      <td>...</td>\n",
       "      <td>...</td>\n",
       "      <td>...</td>\n",
       "      <td>...</td>\n",
       "      <td>...</td>\n",
       "      <td>...</td>\n",
       "      <td>...</td>\n",
       "      <td>...</td>\n",
       "      <td>...</td>\n",
       "      <td>...</td>\n",
       "      <td>...</td>\n",
       "      <td>...</td>\n",
       "      <td>...</td>\n",
       "      <td>...</td>\n",
       "      <td>...</td>\n",
       "      <td>...</td>\n",
       "      <td>...</td>\n",
       "    </tr>\n",
       "    <tr>\n",
       "      <th>10122</th>\n",
       "      <td>772366833</td>\n",
       "      <td>0</td>\n",
       "      <td>0</td>\n",
       "      <td>2</td>\n",
       "      <td>3</td>\n",
       "      <td>2</td>\n",
       "      <td>1</td>\n",
       "      <td>40</td>\n",
       "      <td>3</td>\n",
       "      <td>2</td>\n",
       "      <td>...</td>\n",
       "      <td>False</td>\n",
       "      <td>True</td>\n",
       "      <td>True</td>\n",
       "      <td>False</td>\n",
       "      <td>False</td>\n",
       "      <td>False</td>\n",
       "      <td>False</td>\n",
       "      <td>False</td>\n",
       "      <td>True</td>\n",
       "      <td>False</td>\n",
       "    </tr>\n",
       "    <tr>\n",
       "      <th>10123</th>\n",
       "      <td>710638233</td>\n",
       "      <td>1</td>\n",
       "      <td>0</td>\n",
       "      <td>2</td>\n",
       "      <td>-1</td>\n",
       "      <td>2</td>\n",
       "      <td>1</td>\n",
       "      <td>25</td>\n",
       "      <td>4</td>\n",
       "      <td>2</td>\n",
       "      <td>...</td>\n",
       "      <td>True</td>\n",
       "      <td>False</td>\n",
       "      <td>True</td>\n",
       "      <td>False</td>\n",
       "      <td>False</td>\n",
       "      <td>False</td>\n",
       "      <td>False</td>\n",
       "      <td>False</td>\n",
       "      <td>True</td>\n",
       "      <td>False</td>\n",
       "    </tr>\n",
       "    <tr>\n",
       "      <th>10124</th>\n",
       "      <td>716506083</td>\n",
       "      <td>1</td>\n",
       "      <td>1</td>\n",
       "      <td>1</td>\n",
       "      <td>1</td>\n",
       "      <td>1</td>\n",
       "      <td>1</td>\n",
       "      <td>36</td>\n",
       "      <td>5</td>\n",
       "      <td>3</td>\n",
       "      <td>...</td>\n",
       "      <td>False</td>\n",
       "      <td>True</td>\n",
       "      <td>False</td>\n",
       "      <td>True</td>\n",
       "      <td>False</td>\n",
       "      <td>False</td>\n",
       "      <td>False</td>\n",
       "      <td>False</td>\n",
       "      <td>False</td>\n",
       "      <td>False</td>\n",
       "    </tr>\n",
       "    <tr>\n",
       "      <th>10125</th>\n",
       "      <td>717406983</td>\n",
       "      <td>1</td>\n",
       "      <td>0</td>\n",
       "      <td>2</td>\n",
       "      <td>3</td>\n",
       "      <td>2</td>\n",
       "      <td>1</td>\n",
       "      <td>36</td>\n",
       "      <td>4</td>\n",
       "      <td>3</td>\n",
       "      <td>...</td>\n",
       "      <td>True</td>\n",
       "      <td>False</td>\n",
       "      <td>False</td>\n",
       "      <td>True</td>\n",
       "      <td>False</td>\n",
       "      <td>False</td>\n",
       "      <td>False</td>\n",
       "      <td>False</td>\n",
       "      <td>False</td>\n",
       "      <td>False</td>\n",
       "    </tr>\n",
       "    <tr>\n",
       "      <th>10126</th>\n",
       "      <td>714337233</td>\n",
       "      <td>1</td>\n",
       "      <td>1</td>\n",
       "      <td>2</td>\n",
       "      <td>3</td>\n",
       "      <td>1</td>\n",
       "      <td>2</td>\n",
       "      <td>25</td>\n",
       "      <td>6</td>\n",
       "      <td>2</td>\n",
       "      <td>...</td>\n",
       "      <td>False</td>\n",
       "      <td>True</td>\n",
       "      <td>False</td>\n",
       "      <td>True</td>\n",
       "      <td>False</td>\n",
       "      <td>False</td>\n",
       "      <td>False</td>\n",
       "      <td>False</td>\n",
       "      <td>True</td>\n",
       "      <td>False</td>\n",
       "    </tr>\n",
       "  </tbody>\n",
       "</table>\n",
       "<p>10127 rows × 37 columns</p>\n",
       "</div>"
      ],
      "text/plain": [
       "       CLIENTNUM  Attrition_Flag  Gender  Dependent_count  Education_Level  \\\n",
       "0      768805383               0       0                3                1   \n",
       "1      818770008               0       1                5                3   \n",
       "2      713982108               0       0                3                3   \n",
       "3      769911858               0       1                4                1   \n",
       "4      709106358               0       0                3                0   \n",
       "...          ...             ...     ...              ...              ...   \n",
       "10122  772366833               0       0                2                3   \n",
       "10123  710638233               1       0                2               -1   \n",
       "10124  716506083               1       1                1                1   \n",
       "10125  717406983               1       0                2                3   \n",
       "10126  714337233               1       1                2                3   \n",
       "\n",
       "       Income_Category  Card_Category  Months_on_book  \\\n",
       "0                    3              1              39   \n",
       "1                    1              1              44   \n",
       "2                    4              1              36   \n",
       "3                    1              1              34   \n",
       "4                    3              1              21   \n",
       "...                ...            ...             ...   \n",
       "10122                2              1              40   \n",
       "10123                2              1              25   \n",
       "10124                1              1              36   \n",
       "10125                2              1              36   \n",
       "10126                1              2              25   \n",
       "\n",
       "       Total_Relationship_Count  Months_Inactive_12_mon  ...  \\\n",
       "0                             5                       1  ...   \n",
       "1                             6                       1  ...   \n",
       "2                             4                       1  ...   \n",
       "3                             3                       4  ...   \n",
       "4                             5                       1  ...   \n",
       "...                         ...                     ...  ...   \n",
       "10122                         3                       2  ...   \n",
       "10123                         4                       2  ...   \n",
       "10124                         5                       3  ...   \n",
       "10125                         4                       3  ...   \n",
       "10126                         6                       2  ...   \n",
       "\n",
       "       Total_Trans_Amt_Binned_High  Total_Trans_Amt_Binned_Very High  \\\n",
       "0                            False                             False   \n",
       "1                            False                             False   \n",
       "2                            False                             False   \n",
       "3                            False                             False   \n",
       "4                            False                             False   \n",
       "...                            ...                               ...   \n",
       "10122                        False                              True   \n",
       "10123                         True                             False   \n",
       "10124                        False                              True   \n",
       "10125                         True                             False   \n",
       "10126                        False                              True   \n",
       "\n",
       "       Avg_Open_To_Buy_Binned_Low  Avg_Open_To_Buy_Binned_Medium  \\\n",
       "0                           False                           True   \n",
       "1                           False                           True   \n",
       "2                            True                          False   \n",
       "3                            True                          False   \n",
       "4                            True                          False   \n",
       "...                           ...                            ...   \n",
       "10122                        True                          False   \n",
       "10123                        True                          False   \n",
       "10124                       False                           True   \n",
       "10125                       False                           True   \n",
       "10126                       False                           True   \n",
       "\n",
       "       Avg_Open_To_Buy_Binned_High  Avg_Open_To_Buy_Binned_Very High  \\\n",
       "0                            False                             False   \n",
       "1                            False                             False   \n",
       "2                            False                             False   \n",
       "3                            False                             False   \n",
       "4                            False                             False   \n",
       "...                            ...                               ...   \n",
       "10122                        False                             False   \n",
       "10123                        False                             False   \n",
       "10124                        False                             False   \n",
       "10125                        False                             False   \n",
       "10126                        False                             False   \n",
       "\n",
       "       Total_Revolving_Bal_Binned_Low  Total_Revolving_Bal_Binned_Medium  \\\n",
       "0                               False                               True   \n",
       "1                               False                               True   \n",
       "2                               False                              False   \n",
       "3                               False                              False   \n",
       "4                               False                              False   \n",
       "...                               ...                                ...   \n",
       "10122                           False                              False   \n",
       "10123                           False                              False   \n",
       "10124                           False                              False   \n",
       "10125                           False                              False   \n",
       "10126                           False                              False   \n",
       "\n",
       "       Total_Revolving_Bal_Binned_High  Total_Revolving_Bal_Binned_Very High  \n",
       "0                                False                                 False  \n",
       "1                                False                                 False  \n",
       "2                                False                                 False  \n",
       "3                                 True                                 False  \n",
       "4                                False                                 False  \n",
       "...                                ...                                   ...  \n",
       "10122                             True                                 False  \n",
       "10123                             True                                 False  \n",
       "10124                            False                                 False  \n",
       "10125                            False                                 False  \n",
       "10126                             True                                 False  \n",
       "\n",
       "[10127 rows x 37 columns]"
      ]
     },
     "execution_count": 94,
     "metadata": {},
     "output_type": "execute_result"
    }
   ],
   "source": [
    "data"
   ]
  },
  {
   "cell_type": "code",
   "execution_count": 95,
   "metadata": {},
   "outputs": [],
   "source": [
    "data = data.drop(columns=['Avg_Open_To_Buy_Binned_Very High', 'Divorced', 'Total_Amt_Chng_Q4_Q1' ])"
   ]
  },
  {
   "cell_type": "code",
   "execution_count": 96,
   "metadata": {},
   "outputs": [
    {
     "data": {
      "text/html": [
       "<div>\n",
       "<style scoped>\n",
       "    .dataframe tbody tr th:only-of-type {\n",
       "        vertical-align: middle;\n",
       "    }\n",
       "\n",
       "    .dataframe tbody tr th {\n",
       "        vertical-align: top;\n",
       "    }\n",
       "\n",
       "    .dataframe thead th {\n",
       "        text-align: right;\n",
       "    }\n",
       "</style>\n",
       "<table border=\"1\" class=\"dataframe\">\n",
       "  <thead>\n",
       "    <tr style=\"text-align: right;\">\n",
       "      <th></th>\n",
       "      <th>CLIENTNUM</th>\n",
       "      <th>Attrition_Flag</th>\n",
       "      <th>Gender</th>\n",
       "      <th>Dependent_count</th>\n",
       "      <th>Education_Level</th>\n",
       "      <th>Income_Category</th>\n",
       "      <th>Card_Category</th>\n",
       "      <th>Months_on_book</th>\n",
       "      <th>Total_Relationship_Count</th>\n",
       "      <th>Months_Inactive_12_mon</th>\n",
       "      <th>...</th>\n",
       "      <th>Total_Trans_Amt_Binned_Medium</th>\n",
       "      <th>Total_Trans_Amt_Binned_High</th>\n",
       "      <th>Total_Trans_Amt_Binned_Very High</th>\n",
       "      <th>Avg_Open_To_Buy_Binned_Low</th>\n",
       "      <th>Avg_Open_To_Buy_Binned_Medium</th>\n",
       "      <th>Avg_Open_To_Buy_Binned_High</th>\n",
       "      <th>Total_Revolving_Bal_Binned_Low</th>\n",
       "      <th>Total_Revolving_Bal_Binned_Medium</th>\n",
       "      <th>Total_Revolving_Bal_Binned_High</th>\n",
       "      <th>Total_Revolving_Bal_Binned_Very High</th>\n",
       "    </tr>\n",
       "  </thead>\n",
       "  <tbody>\n",
       "    <tr>\n",
       "      <th>0</th>\n",
       "      <td>768805383</td>\n",
       "      <td>0</td>\n",
       "      <td>0</td>\n",
       "      <td>3</td>\n",
       "      <td>1</td>\n",
       "      <td>3</td>\n",
       "      <td>1</td>\n",
       "      <td>39</td>\n",
       "      <td>5</td>\n",
       "      <td>1</td>\n",
       "      <td>...</td>\n",
       "      <td>True</td>\n",
       "      <td>False</td>\n",
       "      <td>False</td>\n",
       "      <td>False</td>\n",
       "      <td>True</td>\n",
       "      <td>False</td>\n",
       "      <td>False</td>\n",
       "      <td>True</td>\n",
       "      <td>False</td>\n",
       "      <td>False</td>\n",
       "    </tr>\n",
       "    <tr>\n",
       "      <th>1</th>\n",
       "      <td>818770008</td>\n",
       "      <td>0</td>\n",
       "      <td>1</td>\n",
       "      <td>5</td>\n",
       "      <td>3</td>\n",
       "      <td>1</td>\n",
       "      <td>1</td>\n",
       "      <td>44</td>\n",
       "      <td>6</td>\n",
       "      <td>1</td>\n",
       "      <td>...</td>\n",
       "      <td>True</td>\n",
       "      <td>False</td>\n",
       "      <td>False</td>\n",
       "      <td>False</td>\n",
       "      <td>True</td>\n",
       "      <td>False</td>\n",
       "      <td>False</td>\n",
       "      <td>True</td>\n",
       "      <td>False</td>\n",
       "      <td>False</td>\n",
       "    </tr>\n",
       "    <tr>\n",
       "      <th>2</th>\n",
       "      <td>713982108</td>\n",
       "      <td>0</td>\n",
       "      <td>0</td>\n",
       "      <td>3</td>\n",
       "      <td>3</td>\n",
       "      <td>4</td>\n",
       "      <td>1</td>\n",
       "      <td>36</td>\n",
       "      <td>4</td>\n",
       "      <td>1</td>\n",
       "      <td>...</td>\n",
       "      <td>True</td>\n",
       "      <td>False</td>\n",
       "      <td>False</td>\n",
       "      <td>True</td>\n",
       "      <td>False</td>\n",
       "      <td>False</td>\n",
       "      <td>False</td>\n",
       "      <td>False</td>\n",
       "      <td>False</td>\n",
       "      <td>False</td>\n",
       "    </tr>\n",
       "    <tr>\n",
       "      <th>3</th>\n",
       "      <td>769911858</td>\n",
       "      <td>0</td>\n",
       "      <td>1</td>\n",
       "      <td>4</td>\n",
       "      <td>1</td>\n",
       "      <td>1</td>\n",
       "      <td>1</td>\n",
       "      <td>34</td>\n",
       "      <td>3</td>\n",
       "      <td>4</td>\n",
       "      <td>...</td>\n",
       "      <td>True</td>\n",
       "      <td>False</td>\n",
       "      <td>False</td>\n",
       "      <td>True</td>\n",
       "      <td>False</td>\n",
       "      <td>False</td>\n",
       "      <td>False</td>\n",
       "      <td>False</td>\n",
       "      <td>True</td>\n",
       "      <td>False</td>\n",
       "    </tr>\n",
       "    <tr>\n",
       "      <th>4</th>\n",
       "      <td>709106358</td>\n",
       "      <td>0</td>\n",
       "      <td>0</td>\n",
       "      <td>3</td>\n",
       "      <td>0</td>\n",
       "      <td>3</td>\n",
       "      <td>1</td>\n",
       "      <td>21</td>\n",
       "      <td>5</td>\n",
       "      <td>1</td>\n",
       "      <td>...</td>\n",
       "      <td>False</td>\n",
       "      <td>False</td>\n",
       "      <td>False</td>\n",
       "      <td>True</td>\n",
       "      <td>False</td>\n",
       "      <td>False</td>\n",
       "      <td>False</td>\n",
       "      <td>False</td>\n",
       "      <td>False</td>\n",
       "      <td>False</td>\n",
       "    </tr>\n",
       "    <tr>\n",
       "      <th>...</th>\n",
       "      <td>...</td>\n",
       "      <td>...</td>\n",
       "      <td>...</td>\n",
       "      <td>...</td>\n",
       "      <td>...</td>\n",
       "      <td>...</td>\n",
       "      <td>...</td>\n",
       "      <td>...</td>\n",
       "      <td>...</td>\n",
       "      <td>...</td>\n",
       "      <td>...</td>\n",
       "      <td>...</td>\n",
       "      <td>...</td>\n",
       "      <td>...</td>\n",
       "      <td>...</td>\n",
       "      <td>...</td>\n",
       "      <td>...</td>\n",
       "      <td>...</td>\n",
       "      <td>...</td>\n",
       "      <td>...</td>\n",
       "      <td>...</td>\n",
       "    </tr>\n",
       "    <tr>\n",
       "      <th>10122</th>\n",
       "      <td>772366833</td>\n",
       "      <td>0</td>\n",
       "      <td>0</td>\n",
       "      <td>2</td>\n",
       "      <td>3</td>\n",
       "      <td>2</td>\n",
       "      <td>1</td>\n",
       "      <td>40</td>\n",
       "      <td>3</td>\n",
       "      <td>2</td>\n",
       "      <td>...</td>\n",
       "      <td>False</td>\n",
       "      <td>False</td>\n",
       "      <td>True</td>\n",
       "      <td>True</td>\n",
       "      <td>False</td>\n",
       "      <td>False</td>\n",
       "      <td>False</td>\n",
       "      <td>False</td>\n",
       "      <td>True</td>\n",
       "      <td>False</td>\n",
       "    </tr>\n",
       "    <tr>\n",
       "      <th>10123</th>\n",
       "      <td>710638233</td>\n",
       "      <td>1</td>\n",
       "      <td>0</td>\n",
       "      <td>2</td>\n",
       "      <td>-1</td>\n",
       "      <td>2</td>\n",
       "      <td>1</td>\n",
       "      <td>25</td>\n",
       "      <td>4</td>\n",
       "      <td>2</td>\n",
       "      <td>...</td>\n",
       "      <td>False</td>\n",
       "      <td>True</td>\n",
       "      <td>False</td>\n",
       "      <td>True</td>\n",
       "      <td>False</td>\n",
       "      <td>False</td>\n",
       "      <td>False</td>\n",
       "      <td>False</td>\n",
       "      <td>True</td>\n",
       "      <td>False</td>\n",
       "    </tr>\n",
       "    <tr>\n",
       "      <th>10124</th>\n",
       "      <td>716506083</td>\n",
       "      <td>1</td>\n",
       "      <td>1</td>\n",
       "      <td>1</td>\n",
       "      <td>1</td>\n",
       "      <td>1</td>\n",
       "      <td>1</td>\n",
       "      <td>36</td>\n",
       "      <td>5</td>\n",
       "      <td>3</td>\n",
       "      <td>...</td>\n",
       "      <td>False</td>\n",
       "      <td>False</td>\n",
       "      <td>True</td>\n",
       "      <td>False</td>\n",
       "      <td>True</td>\n",
       "      <td>False</td>\n",
       "      <td>False</td>\n",
       "      <td>False</td>\n",
       "      <td>False</td>\n",
       "      <td>False</td>\n",
       "    </tr>\n",
       "    <tr>\n",
       "      <th>10125</th>\n",
       "      <td>717406983</td>\n",
       "      <td>1</td>\n",
       "      <td>0</td>\n",
       "      <td>2</td>\n",
       "      <td>3</td>\n",
       "      <td>2</td>\n",
       "      <td>1</td>\n",
       "      <td>36</td>\n",
       "      <td>4</td>\n",
       "      <td>3</td>\n",
       "      <td>...</td>\n",
       "      <td>False</td>\n",
       "      <td>True</td>\n",
       "      <td>False</td>\n",
       "      <td>False</td>\n",
       "      <td>True</td>\n",
       "      <td>False</td>\n",
       "      <td>False</td>\n",
       "      <td>False</td>\n",
       "      <td>False</td>\n",
       "      <td>False</td>\n",
       "    </tr>\n",
       "    <tr>\n",
       "      <th>10126</th>\n",
       "      <td>714337233</td>\n",
       "      <td>1</td>\n",
       "      <td>1</td>\n",
       "      <td>2</td>\n",
       "      <td>3</td>\n",
       "      <td>1</td>\n",
       "      <td>2</td>\n",
       "      <td>25</td>\n",
       "      <td>6</td>\n",
       "      <td>2</td>\n",
       "      <td>...</td>\n",
       "      <td>False</td>\n",
       "      <td>False</td>\n",
       "      <td>True</td>\n",
       "      <td>False</td>\n",
       "      <td>True</td>\n",
       "      <td>False</td>\n",
       "      <td>False</td>\n",
       "      <td>False</td>\n",
       "      <td>True</td>\n",
       "      <td>False</td>\n",
       "    </tr>\n",
       "  </tbody>\n",
       "</table>\n",
       "<p>10127 rows × 34 columns</p>\n",
       "</div>"
      ],
      "text/plain": [
       "       CLIENTNUM  Attrition_Flag  Gender  Dependent_count  Education_Level  \\\n",
       "0      768805383               0       0                3                1   \n",
       "1      818770008               0       1                5                3   \n",
       "2      713982108               0       0                3                3   \n",
       "3      769911858               0       1                4                1   \n",
       "4      709106358               0       0                3                0   \n",
       "...          ...             ...     ...              ...              ...   \n",
       "10122  772366833               0       0                2                3   \n",
       "10123  710638233               1       0                2               -1   \n",
       "10124  716506083               1       1                1                1   \n",
       "10125  717406983               1       0                2                3   \n",
       "10126  714337233               1       1                2                3   \n",
       "\n",
       "       Income_Category  Card_Category  Months_on_book  \\\n",
       "0                    3              1              39   \n",
       "1                    1              1              44   \n",
       "2                    4              1              36   \n",
       "3                    1              1              34   \n",
       "4                    3              1              21   \n",
       "...                ...            ...             ...   \n",
       "10122                2              1              40   \n",
       "10123                2              1              25   \n",
       "10124                1              1              36   \n",
       "10125                2              1              36   \n",
       "10126                1              2              25   \n",
       "\n",
       "       Total_Relationship_Count  Months_Inactive_12_mon  ...  \\\n",
       "0                             5                       1  ...   \n",
       "1                             6                       1  ...   \n",
       "2                             4                       1  ...   \n",
       "3                             3                       4  ...   \n",
       "4                             5                       1  ...   \n",
       "...                         ...                     ...  ...   \n",
       "10122                         3                       2  ...   \n",
       "10123                         4                       2  ...   \n",
       "10124                         5                       3  ...   \n",
       "10125                         4                       3  ...   \n",
       "10126                         6                       2  ...   \n",
       "\n",
       "       Total_Trans_Amt_Binned_Medium  Total_Trans_Amt_Binned_High  \\\n",
       "0                               True                        False   \n",
       "1                               True                        False   \n",
       "2                               True                        False   \n",
       "3                               True                        False   \n",
       "4                              False                        False   \n",
       "...                              ...                          ...   \n",
       "10122                          False                        False   \n",
       "10123                          False                         True   \n",
       "10124                          False                        False   \n",
       "10125                          False                         True   \n",
       "10126                          False                        False   \n",
       "\n",
       "       Total_Trans_Amt_Binned_Very High  Avg_Open_To_Buy_Binned_Low  \\\n",
       "0                                 False                       False   \n",
       "1                                 False                       False   \n",
       "2                                 False                        True   \n",
       "3                                 False                        True   \n",
       "4                                 False                        True   \n",
       "...                                 ...                         ...   \n",
       "10122                              True                        True   \n",
       "10123                             False                        True   \n",
       "10124                              True                       False   \n",
       "10125                             False                       False   \n",
       "10126                              True                       False   \n",
       "\n",
       "       Avg_Open_To_Buy_Binned_Medium  Avg_Open_To_Buy_Binned_High  \\\n",
       "0                               True                        False   \n",
       "1                               True                        False   \n",
       "2                              False                        False   \n",
       "3                              False                        False   \n",
       "4                              False                        False   \n",
       "...                              ...                          ...   \n",
       "10122                          False                        False   \n",
       "10123                          False                        False   \n",
       "10124                           True                        False   \n",
       "10125                           True                        False   \n",
       "10126                           True                        False   \n",
       "\n",
       "       Total_Revolving_Bal_Binned_Low  Total_Revolving_Bal_Binned_Medium  \\\n",
       "0                               False                               True   \n",
       "1                               False                               True   \n",
       "2                               False                              False   \n",
       "3                               False                              False   \n",
       "4                               False                              False   \n",
       "...                               ...                                ...   \n",
       "10122                           False                              False   \n",
       "10123                           False                              False   \n",
       "10124                           False                              False   \n",
       "10125                           False                              False   \n",
       "10126                           False                              False   \n",
       "\n",
       "       Total_Revolving_Bal_Binned_High  Total_Revolving_Bal_Binned_Very High  \n",
       "0                                False                                 False  \n",
       "1                                False                                 False  \n",
       "2                                False                                 False  \n",
       "3                                 True                                 False  \n",
       "4                                False                                 False  \n",
       "...                                ...                                   ...  \n",
       "10122                             True                                 False  \n",
       "10123                             True                                 False  \n",
       "10124                            False                                 False  \n",
       "10125                            False                                 False  \n",
       "10126                             True                                 False  \n",
       "\n",
       "[10127 rows x 34 columns]"
      ]
     },
     "execution_count": 96,
     "metadata": {},
     "output_type": "execute_result"
    }
   ],
   "source": [
    "data"
   ]
  },
  {
   "cell_type": "markdown",
   "metadata": {},
   "source": [
    "### Dropping CLIENTNUM as it is a unique ID given to each Customer"
   ]
  },
  {
   "cell_type": "code",
   "execution_count": 97,
   "metadata": {},
   "outputs": [
    {
     "data": {
      "text/html": [
       "<div>\n",
       "<style scoped>\n",
       "    .dataframe tbody tr th:only-of-type {\n",
       "        vertical-align: middle;\n",
       "    }\n",
       "\n",
       "    .dataframe tbody tr th {\n",
       "        vertical-align: top;\n",
       "    }\n",
       "\n",
       "    .dataframe thead th {\n",
       "        text-align: right;\n",
       "    }\n",
       "</style>\n",
       "<table border=\"1\" class=\"dataframe\">\n",
       "  <thead>\n",
       "    <tr style=\"text-align: right;\">\n",
       "      <th></th>\n",
       "      <th>CLIENTNUM</th>\n",
       "      <th>Attrition_Flag</th>\n",
       "      <th>Gender</th>\n",
       "      <th>Dependent_count</th>\n",
       "      <th>Education_Level</th>\n",
       "      <th>Income_Category</th>\n",
       "      <th>Card_Category</th>\n",
       "      <th>Months_on_book</th>\n",
       "      <th>Total_Relationship_Count</th>\n",
       "      <th>Months_Inactive_12_mon</th>\n",
       "      <th>...</th>\n",
       "      <th>Total_Trans_Amt_Binned_Medium</th>\n",
       "      <th>Total_Trans_Amt_Binned_High</th>\n",
       "      <th>Total_Trans_Amt_Binned_Very High</th>\n",
       "      <th>Avg_Open_To_Buy_Binned_Low</th>\n",
       "      <th>Avg_Open_To_Buy_Binned_Medium</th>\n",
       "      <th>Avg_Open_To_Buy_Binned_High</th>\n",
       "      <th>Total_Revolving_Bal_Binned_Low</th>\n",
       "      <th>Total_Revolving_Bal_Binned_Medium</th>\n",
       "      <th>Total_Revolving_Bal_Binned_High</th>\n",
       "      <th>Total_Revolving_Bal_Binned_Very High</th>\n",
       "    </tr>\n",
       "  </thead>\n",
       "  <tbody>\n",
       "    <tr>\n",
       "      <th>0</th>\n",
       "      <td>768805383</td>\n",
       "      <td>0</td>\n",
       "      <td>0</td>\n",
       "      <td>3</td>\n",
       "      <td>1</td>\n",
       "      <td>3</td>\n",
       "      <td>1</td>\n",
       "      <td>39</td>\n",
       "      <td>5</td>\n",
       "      <td>1</td>\n",
       "      <td>...</td>\n",
       "      <td>True</td>\n",
       "      <td>False</td>\n",
       "      <td>False</td>\n",
       "      <td>False</td>\n",
       "      <td>True</td>\n",
       "      <td>False</td>\n",
       "      <td>False</td>\n",
       "      <td>True</td>\n",
       "      <td>False</td>\n",
       "      <td>False</td>\n",
       "    </tr>\n",
       "    <tr>\n",
       "      <th>1</th>\n",
       "      <td>818770008</td>\n",
       "      <td>0</td>\n",
       "      <td>1</td>\n",
       "      <td>5</td>\n",
       "      <td>3</td>\n",
       "      <td>1</td>\n",
       "      <td>1</td>\n",
       "      <td>44</td>\n",
       "      <td>6</td>\n",
       "      <td>1</td>\n",
       "      <td>...</td>\n",
       "      <td>True</td>\n",
       "      <td>False</td>\n",
       "      <td>False</td>\n",
       "      <td>False</td>\n",
       "      <td>True</td>\n",
       "      <td>False</td>\n",
       "      <td>False</td>\n",
       "      <td>True</td>\n",
       "      <td>False</td>\n",
       "      <td>False</td>\n",
       "    </tr>\n",
       "    <tr>\n",
       "      <th>2</th>\n",
       "      <td>713982108</td>\n",
       "      <td>0</td>\n",
       "      <td>0</td>\n",
       "      <td>3</td>\n",
       "      <td>3</td>\n",
       "      <td>4</td>\n",
       "      <td>1</td>\n",
       "      <td>36</td>\n",
       "      <td>4</td>\n",
       "      <td>1</td>\n",
       "      <td>...</td>\n",
       "      <td>True</td>\n",
       "      <td>False</td>\n",
       "      <td>False</td>\n",
       "      <td>True</td>\n",
       "      <td>False</td>\n",
       "      <td>False</td>\n",
       "      <td>False</td>\n",
       "      <td>False</td>\n",
       "      <td>False</td>\n",
       "      <td>False</td>\n",
       "    </tr>\n",
       "    <tr>\n",
       "      <th>3</th>\n",
       "      <td>769911858</td>\n",
       "      <td>0</td>\n",
       "      <td>1</td>\n",
       "      <td>4</td>\n",
       "      <td>1</td>\n",
       "      <td>1</td>\n",
       "      <td>1</td>\n",
       "      <td>34</td>\n",
       "      <td>3</td>\n",
       "      <td>4</td>\n",
       "      <td>...</td>\n",
       "      <td>True</td>\n",
       "      <td>False</td>\n",
       "      <td>False</td>\n",
       "      <td>True</td>\n",
       "      <td>False</td>\n",
       "      <td>False</td>\n",
       "      <td>False</td>\n",
       "      <td>False</td>\n",
       "      <td>True</td>\n",
       "      <td>False</td>\n",
       "    </tr>\n",
       "    <tr>\n",
       "      <th>4</th>\n",
       "      <td>709106358</td>\n",
       "      <td>0</td>\n",
       "      <td>0</td>\n",
       "      <td>3</td>\n",
       "      <td>0</td>\n",
       "      <td>3</td>\n",
       "      <td>1</td>\n",
       "      <td>21</td>\n",
       "      <td>5</td>\n",
       "      <td>1</td>\n",
       "      <td>...</td>\n",
       "      <td>False</td>\n",
       "      <td>False</td>\n",
       "      <td>False</td>\n",
       "      <td>True</td>\n",
       "      <td>False</td>\n",
       "      <td>False</td>\n",
       "      <td>False</td>\n",
       "      <td>False</td>\n",
       "      <td>False</td>\n",
       "      <td>False</td>\n",
       "    </tr>\n",
       "    <tr>\n",
       "      <th>...</th>\n",
       "      <td>...</td>\n",
       "      <td>...</td>\n",
       "      <td>...</td>\n",
       "      <td>...</td>\n",
       "      <td>...</td>\n",
       "      <td>...</td>\n",
       "      <td>...</td>\n",
       "      <td>...</td>\n",
       "      <td>...</td>\n",
       "      <td>...</td>\n",
       "      <td>...</td>\n",
       "      <td>...</td>\n",
       "      <td>...</td>\n",
       "      <td>...</td>\n",
       "      <td>...</td>\n",
       "      <td>...</td>\n",
       "      <td>...</td>\n",
       "      <td>...</td>\n",
       "      <td>...</td>\n",
       "      <td>...</td>\n",
       "      <td>...</td>\n",
       "    </tr>\n",
       "    <tr>\n",
       "      <th>10122</th>\n",
       "      <td>772366833</td>\n",
       "      <td>0</td>\n",
       "      <td>0</td>\n",
       "      <td>2</td>\n",
       "      <td>3</td>\n",
       "      <td>2</td>\n",
       "      <td>1</td>\n",
       "      <td>40</td>\n",
       "      <td>3</td>\n",
       "      <td>2</td>\n",
       "      <td>...</td>\n",
       "      <td>False</td>\n",
       "      <td>False</td>\n",
       "      <td>True</td>\n",
       "      <td>True</td>\n",
       "      <td>False</td>\n",
       "      <td>False</td>\n",
       "      <td>False</td>\n",
       "      <td>False</td>\n",
       "      <td>True</td>\n",
       "      <td>False</td>\n",
       "    </tr>\n",
       "    <tr>\n",
       "      <th>10123</th>\n",
       "      <td>710638233</td>\n",
       "      <td>1</td>\n",
       "      <td>0</td>\n",
       "      <td>2</td>\n",
       "      <td>-1</td>\n",
       "      <td>2</td>\n",
       "      <td>1</td>\n",
       "      <td>25</td>\n",
       "      <td>4</td>\n",
       "      <td>2</td>\n",
       "      <td>...</td>\n",
       "      <td>False</td>\n",
       "      <td>True</td>\n",
       "      <td>False</td>\n",
       "      <td>True</td>\n",
       "      <td>False</td>\n",
       "      <td>False</td>\n",
       "      <td>False</td>\n",
       "      <td>False</td>\n",
       "      <td>True</td>\n",
       "      <td>False</td>\n",
       "    </tr>\n",
       "    <tr>\n",
       "      <th>10124</th>\n",
       "      <td>716506083</td>\n",
       "      <td>1</td>\n",
       "      <td>1</td>\n",
       "      <td>1</td>\n",
       "      <td>1</td>\n",
       "      <td>1</td>\n",
       "      <td>1</td>\n",
       "      <td>36</td>\n",
       "      <td>5</td>\n",
       "      <td>3</td>\n",
       "      <td>...</td>\n",
       "      <td>False</td>\n",
       "      <td>False</td>\n",
       "      <td>True</td>\n",
       "      <td>False</td>\n",
       "      <td>True</td>\n",
       "      <td>False</td>\n",
       "      <td>False</td>\n",
       "      <td>False</td>\n",
       "      <td>False</td>\n",
       "      <td>False</td>\n",
       "    </tr>\n",
       "    <tr>\n",
       "      <th>10125</th>\n",
       "      <td>717406983</td>\n",
       "      <td>1</td>\n",
       "      <td>0</td>\n",
       "      <td>2</td>\n",
       "      <td>3</td>\n",
       "      <td>2</td>\n",
       "      <td>1</td>\n",
       "      <td>36</td>\n",
       "      <td>4</td>\n",
       "      <td>3</td>\n",
       "      <td>...</td>\n",
       "      <td>False</td>\n",
       "      <td>True</td>\n",
       "      <td>False</td>\n",
       "      <td>False</td>\n",
       "      <td>True</td>\n",
       "      <td>False</td>\n",
       "      <td>False</td>\n",
       "      <td>False</td>\n",
       "      <td>False</td>\n",
       "      <td>False</td>\n",
       "    </tr>\n",
       "    <tr>\n",
       "      <th>10126</th>\n",
       "      <td>714337233</td>\n",
       "      <td>1</td>\n",
       "      <td>1</td>\n",
       "      <td>2</td>\n",
       "      <td>3</td>\n",
       "      <td>1</td>\n",
       "      <td>2</td>\n",
       "      <td>25</td>\n",
       "      <td>6</td>\n",
       "      <td>2</td>\n",
       "      <td>...</td>\n",
       "      <td>False</td>\n",
       "      <td>False</td>\n",
       "      <td>True</td>\n",
       "      <td>False</td>\n",
       "      <td>True</td>\n",
       "      <td>False</td>\n",
       "      <td>False</td>\n",
       "      <td>False</td>\n",
       "      <td>True</td>\n",
       "      <td>False</td>\n",
       "    </tr>\n",
       "  </tbody>\n",
       "</table>\n",
       "<p>10127 rows × 34 columns</p>\n",
       "</div>"
      ],
      "text/plain": [
       "       CLIENTNUM  Attrition_Flag  Gender  Dependent_count  Education_Level  \\\n",
       "0      768805383               0       0                3                1   \n",
       "1      818770008               0       1                5                3   \n",
       "2      713982108               0       0                3                3   \n",
       "3      769911858               0       1                4                1   \n",
       "4      709106358               0       0                3                0   \n",
       "...          ...             ...     ...              ...              ...   \n",
       "10122  772366833               0       0                2                3   \n",
       "10123  710638233               1       0                2               -1   \n",
       "10124  716506083               1       1                1                1   \n",
       "10125  717406983               1       0                2                3   \n",
       "10126  714337233               1       1                2                3   \n",
       "\n",
       "       Income_Category  Card_Category  Months_on_book  \\\n",
       "0                    3              1              39   \n",
       "1                    1              1              44   \n",
       "2                    4              1              36   \n",
       "3                    1              1              34   \n",
       "4                    3              1              21   \n",
       "...                ...            ...             ...   \n",
       "10122                2              1              40   \n",
       "10123                2              1              25   \n",
       "10124                1              1              36   \n",
       "10125                2              1              36   \n",
       "10126                1              2              25   \n",
       "\n",
       "       Total_Relationship_Count  Months_Inactive_12_mon  ...  \\\n",
       "0                             5                       1  ...   \n",
       "1                             6                       1  ...   \n",
       "2                             4                       1  ...   \n",
       "3                             3                       4  ...   \n",
       "4                             5                       1  ...   \n",
       "...                         ...                     ...  ...   \n",
       "10122                         3                       2  ...   \n",
       "10123                         4                       2  ...   \n",
       "10124                         5                       3  ...   \n",
       "10125                         4                       3  ...   \n",
       "10126                         6                       2  ...   \n",
       "\n",
       "       Total_Trans_Amt_Binned_Medium  Total_Trans_Amt_Binned_High  \\\n",
       "0                               True                        False   \n",
       "1                               True                        False   \n",
       "2                               True                        False   \n",
       "3                               True                        False   \n",
       "4                              False                        False   \n",
       "...                              ...                          ...   \n",
       "10122                          False                        False   \n",
       "10123                          False                         True   \n",
       "10124                          False                        False   \n",
       "10125                          False                         True   \n",
       "10126                          False                        False   \n",
       "\n",
       "       Total_Trans_Amt_Binned_Very High  Avg_Open_To_Buy_Binned_Low  \\\n",
       "0                                 False                       False   \n",
       "1                                 False                       False   \n",
       "2                                 False                        True   \n",
       "3                                 False                        True   \n",
       "4                                 False                        True   \n",
       "...                                 ...                         ...   \n",
       "10122                              True                        True   \n",
       "10123                             False                        True   \n",
       "10124                              True                       False   \n",
       "10125                             False                       False   \n",
       "10126                              True                       False   \n",
       "\n",
       "       Avg_Open_To_Buy_Binned_Medium  Avg_Open_To_Buy_Binned_High  \\\n",
       "0                               True                        False   \n",
       "1                               True                        False   \n",
       "2                              False                        False   \n",
       "3                              False                        False   \n",
       "4                              False                        False   \n",
       "...                              ...                          ...   \n",
       "10122                          False                        False   \n",
       "10123                          False                        False   \n",
       "10124                           True                        False   \n",
       "10125                           True                        False   \n",
       "10126                           True                        False   \n",
       "\n",
       "       Total_Revolving_Bal_Binned_Low  Total_Revolving_Bal_Binned_Medium  \\\n",
       "0                               False                               True   \n",
       "1                               False                               True   \n",
       "2                               False                              False   \n",
       "3                               False                              False   \n",
       "4                               False                              False   \n",
       "...                               ...                                ...   \n",
       "10122                           False                              False   \n",
       "10123                           False                              False   \n",
       "10124                           False                              False   \n",
       "10125                           False                              False   \n",
       "10126                           False                              False   \n",
       "\n",
       "       Total_Revolving_Bal_Binned_High  Total_Revolving_Bal_Binned_Very High  \n",
       "0                                False                                 False  \n",
       "1                                False                                 False  \n",
       "2                                False                                 False  \n",
       "3                                 True                                 False  \n",
       "4                                False                                 False  \n",
       "...                                ...                                   ...  \n",
       "10122                             True                                 False  \n",
       "10123                             True                                 False  \n",
       "10124                            False                                 False  \n",
       "10125                            False                                 False  \n",
       "10126                             True                                 False  \n",
       "\n",
       "[10127 rows x 34 columns]"
      ]
     },
     "execution_count": 97,
     "metadata": {},
     "output_type": "execute_result"
    }
   ],
   "source": [
    "data"
   ]
  },
  {
   "cell_type": "code",
   "execution_count": 98,
   "metadata": {},
   "outputs": [],
   "source": [
    "data = data.drop(columns='CLIENTNUM')"
   ]
  },
  {
   "cell_type": "code",
   "execution_count": 99,
   "metadata": {},
   "outputs": [
    {
     "data": {
      "text/html": [
       "<div>\n",
       "<style scoped>\n",
       "    .dataframe tbody tr th:only-of-type {\n",
       "        vertical-align: middle;\n",
       "    }\n",
       "\n",
       "    .dataframe tbody tr th {\n",
       "        vertical-align: top;\n",
       "    }\n",
       "\n",
       "    .dataframe thead th {\n",
       "        text-align: right;\n",
       "    }\n",
       "</style>\n",
       "<table border=\"1\" class=\"dataframe\">\n",
       "  <thead>\n",
       "    <tr style=\"text-align: right;\">\n",
       "      <th></th>\n",
       "      <th>Attrition_Flag</th>\n",
       "      <th>Gender</th>\n",
       "      <th>Dependent_count</th>\n",
       "      <th>Education_Level</th>\n",
       "      <th>Income_Category</th>\n",
       "      <th>Card_Category</th>\n",
       "      <th>Months_on_book</th>\n",
       "      <th>Total_Relationship_Count</th>\n",
       "      <th>Months_Inactive_12_mon</th>\n",
       "      <th>Contacts_Count_12_mon</th>\n",
       "      <th>...</th>\n",
       "      <th>Total_Trans_Amt_Binned_Medium</th>\n",
       "      <th>Total_Trans_Amt_Binned_High</th>\n",
       "      <th>Total_Trans_Amt_Binned_Very High</th>\n",
       "      <th>Avg_Open_To_Buy_Binned_Low</th>\n",
       "      <th>Avg_Open_To_Buy_Binned_Medium</th>\n",
       "      <th>Avg_Open_To_Buy_Binned_High</th>\n",
       "      <th>Total_Revolving_Bal_Binned_Low</th>\n",
       "      <th>Total_Revolving_Bal_Binned_Medium</th>\n",
       "      <th>Total_Revolving_Bal_Binned_High</th>\n",
       "      <th>Total_Revolving_Bal_Binned_Very High</th>\n",
       "    </tr>\n",
       "  </thead>\n",
       "  <tbody>\n",
       "    <tr>\n",
       "      <th>0</th>\n",
       "      <td>0</td>\n",
       "      <td>0</td>\n",
       "      <td>3</td>\n",
       "      <td>1</td>\n",
       "      <td>3</td>\n",
       "      <td>1</td>\n",
       "      <td>39</td>\n",
       "      <td>5</td>\n",
       "      <td>1</td>\n",
       "      <td>3</td>\n",
       "      <td>...</td>\n",
       "      <td>True</td>\n",
       "      <td>False</td>\n",
       "      <td>False</td>\n",
       "      <td>False</td>\n",
       "      <td>True</td>\n",
       "      <td>False</td>\n",
       "      <td>False</td>\n",
       "      <td>True</td>\n",
       "      <td>False</td>\n",
       "      <td>False</td>\n",
       "    </tr>\n",
       "    <tr>\n",
       "      <th>1</th>\n",
       "      <td>0</td>\n",
       "      <td>1</td>\n",
       "      <td>5</td>\n",
       "      <td>3</td>\n",
       "      <td>1</td>\n",
       "      <td>1</td>\n",
       "      <td>44</td>\n",
       "      <td>6</td>\n",
       "      <td>1</td>\n",
       "      <td>2</td>\n",
       "      <td>...</td>\n",
       "      <td>True</td>\n",
       "      <td>False</td>\n",
       "      <td>False</td>\n",
       "      <td>False</td>\n",
       "      <td>True</td>\n",
       "      <td>False</td>\n",
       "      <td>False</td>\n",
       "      <td>True</td>\n",
       "      <td>False</td>\n",
       "      <td>False</td>\n",
       "    </tr>\n",
       "    <tr>\n",
       "      <th>2</th>\n",
       "      <td>0</td>\n",
       "      <td>0</td>\n",
       "      <td>3</td>\n",
       "      <td>3</td>\n",
       "      <td>4</td>\n",
       "      <td>1</td>\n",
       "      <td>36</td>\n",
       "      <td>4</td>\n",
       "      <td>1</td>\n",
       "      <td>0</td>\n",
       "      <td>...</td>\n",
       "      <td>True</td>\n",
       "      <td>False</td>\n",
       "      <td>False</td>\n",
       "      <td>True</td>\n",
       "      <td>False</td>\n",
       "      <td>False</td>\n",
       "      <td>False</td>\n",
       "      <td>False</td>\n",
       "      <td>False</td>\n",
       "      <td>False</td>\n",
       "    </tr>\n",
       "    <tr>\n",
       "      <th>3</th>\n",
       "      <td>0</td>\n",
       "      <td>1</td>\n",
       "      <td>4</td>\n",
       "      <td>1</td>\n",
       "      <td>1</td>\n",
       "      <td>1</td>\n",
       "      <td>34</td>\n",
       "      <td>3</td>\n",
       "      <td>4</td>\n",
       "      <td>1</td>\n",
       "      <td>...</td>\n",
       "      <td>True</td>\n",
       "      <td>False</td>\n",
       "      <td>False</td>\n",
       "      <td>True</td>\n",
       "      <td>False</td>\n",
       "      <td>False</td>\n",
       "      <td>False</td>\n",
       "      <td>False</td>\n",
       "      <td>True</td>\n",
       "      <td>False</td>\n",
       "    </tr>\n",
       "    <tr>\n",
       "      <th>4</th>\n",
       "      <td>0</td>\n",
       "      <td>0</td>\n",
       "      <td>3</td>\n",
       "      <td>0</td>\n",
       "      <td>3</td>\n",
       "      <td>1</td>\n",
       "      <td>21</td>\n",
       "      <td>5</td>\n",
       "      <td>1</td>\n",
       "      <td>0</td>\n",
       "      <td>...</td>\n",
       "      <td>False</td>\n",
       "      <td>False</td>\n",
       "      <td>False</td>\n",
       "      <td>True</td>\n",
       "      <td>False</td>\n",
       "      <td>False</td>\n",
       "      <td>False</td>\n",
       "      <td>False</td>\n",
       "      <td>False</td>\n",
       "      <td>False</td>\n",
       "    </tr>\n",
       "    <tr>\n",
       "      <th>...</th>\n",
       "      <td>...</td>\n",
       "      <td>...</td>\n",
       "      <td>...</td>\n",
       "      <td>...</td>\n",
       "      <td>...</td>\n",
       "      <td>...</td>\n",
       "      <td>...</td>\n",
       "      <td>...</td>\n",
       "      <td>...</td>\n",
       "      <td>...</td>\n",
       "      <td>...</td>\n",
       "      <td>...</td>\n",
       "      <td>...</td>\n",
       "      <td>...</td>\n",
       "      <td>...</td>\n",
       "      <td>...</td>\n",
       "      <td>...</td>\n",
       "      <td>...</td>\n",
       "      <td>...</td>\n",
       "      <td>...</td>\n",
       "      <td>...</td>\n",
       "    </tr>\n",
       "    <tr>\n",
       "      <th>10122</th>\n",
       "      <td>0</td>\n",
       "      <td>0</td>\n",
       "      <td>2</td>\n",
       "      <td>3</td>\n",
       "      <td>2</td>\n",
       "      <td>1</td>\n",
       "      <td>40</td>\n",
       "      <td>3</td>\n",
       "      <td>2</td>\n",
       "      <td>3</td>\n",
       "      <td>...</td>\n",
       "      <td>False</td>\n",
       "      <td>False</td>\n",
       "      <td>True</td>\n",
       "      <td>True</td>\n",
       "      <td>False</td>\n",
       "      <td>False</td>\n",
       "      <td>False</td>\n",
       "      <td>False</td>\n",
       "      <td>True</td>\n",
       "      <td>False</td>\n",
       "    </tr>\n",
       "    <tr>\n",
       "      <th>10123</th>\n",
       "      <td>1</td>\n",
       "      <td>0</td>\n",
       "      <td>2</td>\n",
       "      <td>-1</td>\n",
       "      <td>2</td>\n",
       "      <td>1</td>\n",
       "      <td>25</td>\n",
       "      <td>4</td>\n",
       "      <td>2</td>\n",
       "      <td>3</td>\n",
       "      <td>...</td>\n",
       "      <td>False</td>\n",
       "      <td>True</td>\n",
       "      <td>False</td>\n",
       "      <td>True</td>\n",
       "      <td>False</td>\n",
       "      <td>False</td>\n",
       "      <td>False</td>\n",
       "      <td>False</td>\n",
       "      <td>True</td>\n",
       "      <td>False</td>\n",
       "    </tr>\n",
       "    <tr>\n",
       "      <th>10124</th>\n",
       "      <td>1</td>\n",
       "      <td>1</td>\n",
       "      <td>1</td>\n",
       "      <td>1</td>\n",
       "      <td>1</td>\n",
       "      <td>1</td>\n",
       "      <td>36</td>\n",
       "      <td>5</td>\n",
       "      <td>3</td>\n",
       "      <td>4</td>\n",
       "      <td>...</td>\n",
       "      <td>False</td>\n",
       "      <td>False</td>\n",
       "      <td>True</td>\n",
       "      <td>False</td>\n",
       "      <td>True</td>\n",
       "      <td>False</td>\n",
       "      <td>False</td>\n",
       "      <td>False</td>\n",
       "      <td>False</td>\n",
       "      <td>False</td>\n",
       "    </tr>\n",
       "    <tr>\n",
       "      <th>10125</th>\n",
       "      <td>1</td>\n",
       "      <td>0</td>\n",
       "      <td>2</td>\n",
       "      <td>3</td>\n",
       "      <td>2</td>\n",
       "      <td>1</td>\n",
       "      <td>36</td>\n",
       "      <td>4</td>\n",
       "      <td>3</td>\n",
       "      <td>3</td>\n",
       "      <td>...</td>\n",
       "      <td>False</td>\n",
       "      <td>True</td>\n",
       "      <td>False</td>\n",
       "      <td>False</td>\n",
       "      <td>True</td>\n",
       "      <td>False</td>\n",
       "      <td>False</td>\n",
       "      <td>False</td>\n",
       "      <td>False</td>\n",
       "      <td>False</td>\n",
       "    </tr>\n",
       "    <tr>\n",
       "      <th>10126</th>\n",
       "      <td>1</td>\n",
       "      <td>1</td>\n",
       "      <td>2</td>\n",
       "      <td>3</td>\n",
       "      <td>1</td>\n",
       "      <td>2</td>\n",
       "      <td>25</td>\n",
       "      <td>6</td>\n",
       "      <td>2</td>\n",
       "      <td>4</td>\n",
       "      <td>...</td>\n",
       "      <td>False</td>\n",
       "      <td>False</td>\n",
       "      <td>True</td>\n",
       "      <td>False</td>\n",
       "      <td>True</td>\n",
       "      <td>False</td>\n",
       "      <td>False</td>\n",
       "      <td>False</td>\n",
       "      <td>True</td>\n",
       "      <td>False</td>\n",
       "    </tr>\n",
       "  </tbody>\n",
       "</table>\n",
       "<p>10127 rows × 33 columns</p>\n",
       "</div>"
      ],
      "text/plain": [
       "       Attrition_Flag  Gender  Dependent_count  Education_Level  \\\n",
       "0                   0       0                3                1   \n",
       "1                   0       1                5                3   \n",
       "2                   0       0                3                3   \n",
       "3                   0       1                4                1   \n",
       "4                   0       0                3                0   \n",
       "...               ...     ...              ...              ...   \n",
       "10122               0       0                2                3   \n",
       "10123               1       0                2               -1   \n",
       "10124               1       1                1                1   \n",
       "10125               1       0                2                3   \n",
       "10126               1       1                2                3   \n",
       "\n",
       "       Income_Category  Card_Category  Months_on_book  \\\n",
       "0                    3              1              39   \n",
       "1                    1              1              44   \n",
       "2                    4              1              36   \n",
       "3                    1              1              34   \n",
       "4                    3              1              21   \n",
       "...                ...            ...             ...   \n",
       "10122                2              1              40   \n",
       "10123                2              1              25   \n",
       "10124                1              1              36   \n",
       "10125                2              1              36   \n",
       "10126                1              2              25   \n",
       "\n",
       "       Total_Relationship_Count  Months_Inactive_12_mon  \\\n",
       "0                             5                       1   \n",
       "1                             6                       1   \n",
       "2                             4                       1   \n",
       "3                             3                       4   \n",
       "4                             5                       1   \n",
       "...                         ...                     ...   \n",
       "10122                         3                       2   \n",
       "10123                         4                       2   \n",
       "10124                         5                       3   \n",
       "10125                         4                       3   \n",
       "10126                         6                       2   \n",
       "\n",
       "       Contacts_Count_12_mon  ...  Total_Trans_Amt_Binned_Medium  \\\n",
       "0                          3  ...                           True   \n",
       "1                          2  ...                           True   \n",
       "2                          0  ...                           True   \n",
       "3                          1  ...                           True   \n",
       "4                          0  ...                          False   \n",
       "...                      ...  ...                            ...   \n",
       "10122                      3  ...                          False   \n",
       "10123                      3  ...                          False   \n",
       "10124                      4  ...                          False   \n",
       "10125                      3  ...                          False   \n",
       "10126                      4  ...                          False   \n",
       "\n",
       "       Total_Trans_Amt_Binned_High  Total_Trans_Amt_Binned_Very High  \\\n",
       "0                            False                             False   \n",
       "1                            False                             False   \n",
       "2                            False                             False   \n",
       "3                            False                             False   \n",
       "4                            False                             False   \n",
       "...                            ...                               ...   \n",
       "10122                        False                              True   \n",
       "10123                         True                             False   \n",
       "10124                        False                              True   \n",
       "10125                         True                             False   \n",
       "10126                        False                              True   \n",
       "\n",
       "       Avg_Open_To_Buy_Binned_Low  Avg_Open_To_Buy_Binned_Medium  \\\n",
       "0                           False                           True   \n",
       "1                           False                           True   \n",
       "2                            True                          False   \n",
       "3                            True                          False   \n",
       "4                            True                          False   \n",
       "...                           ...                            ...   \n",
       "10122                        True                          False   \n",
       "10123                        True                          False   \n",
       "10124                       False                           True   \n",
       "10125                       False                           True   \n",
       "10126                       False                           True   \n",
       "\n",
       "       Avg_Open_To_Buy_Binned_High  Total_Revolving_Bal_Binned_Low  \\\n",
       "0                            False                           False   \n",
       "1                            False                           False   \n",
       "2                            False                           False   \n",
       "3                            False                           False   \n",
       "4                            False                           False   \n",
       "...                            ...                             ...   \n",
       "10122                        False                           False   \n",
       "10123                        False                           False   \n",
       "10124                        False                           False   \n",
       "10125                        False                           False   \n",
       "10126                        False                           False   \n",
       "\n",
       "       Total_Revolving_Bal_Binned_Medium  Total_Revolving_Bal_Binned_High  \\\n",
       "0                                   True                            False   \n",
       "1                                   True                            False   \n",
       "2                                  False                            False   \n",
       "3                                  False                             True   \n",
       "4                                  False                            False   \n",
       "...                                  ...                              ...   \n",
       "10122                              False                             True   \n",
       "10123                              False                             True   \n",
       "10124                              False                            False   \n",
       "10125                              False                            False   \n",
       "10126                              False                             True   \n",
       "\n",
       "       Total_Revolving_Bal_Binned_Very High  \n",
       "0                                     False  \n",
       "1                                     False  \n",
       "2                                     False  \n",
       "3                                     False  \n",
       "4                                     False  \n",
       "...                                     ...  \n",
       "10122                                 False  \n",
       "10123                                 False  \n",
       "10124                                 False  \n",
       "10125                                 False  \n",
       "10126                                 False  \n",
       "\n",
       "[10127 rows x 33 columns]"
      ]
     },
     "execution_count": 99,
     "metadata": {},
     "output_type": "execute_result"
    }
   ],
   "source": [
    "data"
   ]
  },
  {
   "cell_type": "markdown",
   "metadata": {},
   "source": [
    "## Saving the modified dataset to a new CSV file in the input folder"
   ]
  },
  {
   "cell_type": "code",
   "execution_count": 100,
   "metadata": {},
   "outputs": [],
   "source": [
    "output_file_cleaned = 'credit_card_churn_cleaned_feature_selected.csv'\n",
    "input_directory = r\"/Users/apple/Documents/Credit_Card_Churn_Model_Local/credit-card-churn/Input\"\n",
    "data.to_csv(os.path.join(input_directory, output_file_cleaned), index=False)"
   ]
  },
  {
   "cell_type": "markdown",
   "metadata": {},
   "source": [
    "### Checking and Handling Outliners using Box-Map"
   ]
  },
  {
   "cell_type": "code",
   "execution_count": 101,
   "metadata": {},
   "outputs": [
    {
     "data": {
      "application/vnd.plotly.v1+json": {
       "config": {
        "plotlyServerURL": "https://plot.ly"
       },
       "data": [
        {
         "boxpoints": "outliers",
         "name": "Credit_Limit",
         "type": "box",
         "xaxis": "x3",
         "y": {
          "bdata": "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",
          "dtype": "f8"
         },
         "yaxis": "y3"
        },
        {
         "boxpoints": "outliers",
         "name": "Avg_Utilization_Ratio",
         "type": "box",
         "xaxis": "x4",
         "y": {
          "bdata": "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",
          "dtype": "f8"
         },
         "yaxis": "y4"
        },
        {
         "boxpoints": "outliers",
         "name": "Total_Trans_Ct",
         "type": "box",
         "xaxis": "x",
         "y": {
          "bdata": "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",
          "dtype": "i2"
         },
         "yaxis": "y"
        },
        {
         "boxpoints": "outliers",
         "name": "Total_Ct_Chng_Q4_Q1",
         "type": "box",
         "xaxis": "x2",
         "y": {
          "bdata": "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",
          "dtype": "f8"
         },
         "yaxis": "y2"
        }
       ],
       "layout": {
        "annotations": [
         {
          "font": {
           "size": 16
          },
          "showarrow": false,
          "text": "Credit_Limit",
          "x": 0.225,
          "xanchor": "center",
          "xref": "paper",
          "y": 0.375,
          "yanchor": "bottom",
          "yref": "paper"
         },
         {
          "font": {
           "size": 16
          },
          "showarrow": false,
          "text": "Avg_Utilization_Ratio",
          "x": 0.775,
          "xanchor": "center",
          "xref": "paper",
          "y": 0.375,
          "yanchor": "bottom",
          "yref": "paper"
         },
         {
          "font": {
           "size": 16
          },
          "showarrow": false,
          "text": "Total_Trans_Ct",
          "x": 0.225,
          "xanchor": "center",
          "xref": "paper",
          "y": 1,
          "yanchor": "bottom",
          "yref": "paper"
         },
         {
          "font": {
           "size": 16
          },
          "showarrow": false,
          "text": "Total_Ct_Chng_Q4_Q1",
          "x": 0.775,
          "xanchor": "center",
          "xref": "paper",
          "y": 1,
          "yanchor": "bottom",
          "yref": "paper"
         }
        ],
        "height": 600,
        "template": {
         "data": {
          "bar": [
           {
            "error_x": {
             "color": "#2a3f5f"
            },
            "error_y": {
             "color": "#2a3f5f"
            },
            "marker": {
             "line": {
              "color": "#E5ECF6",
              "width": 0.5
             },
             "pattern": {
              "fillmode": "overlay",
              "size": 10,
              "solidity": 0.2
             }
            },
            "type": "bar"
           }
          ],
          "barpolar": [
           {
            "marker": {
             "line": {
              "color": "#E5ECF6",
              "width": 0.5
             },
             "pattern": {
              "fillmode": "overlay",
              "size": 10,
              "solidity": 0.2
             }
            },
            "type": "barpolar"
           }
          ],
          "carpet": [
           {
            "aaxis": {
             "endlinecolor": "#2a3f5f",
             "gridcolor": "white",
             "linecolor": "white",
             "minorgridcolor": "white",
             "startlinecolor": "#2a3f5f"
            },
            "baxis": {
             "endlinecolor": "#2a3f5f",
             "gridcolor": "white",
             "linecolor": "white",
             "minorgridcolor": "white",
             "startlinecolor": "#2a3f5f"
            },
            "type": "carpet"
           }
          ],
          "choropleth": [
           {
            "colorbar": {
             "outlinewidth": 0,
             "ticks": ""
            },
            "type": "choropleth"
           }
          ],
          "contour": [
           {
            "colorbar": {
             "outlinewidth": 0,
             "ticks": ""
            },
            "colorscale": [
             [
              0,
              "#0d0887"
             ],
             [
              0.1111111111111111,
              "#46039f"
             ],
             [
              0.2222222222222222,
              "#7201a8"
             ],
             [
              0.3333333333333333,
              "#9c179e"
             ],
             [
              0.4444444444444444,
              "#bd3786"
             ],
             [
              0.5555555555555556,
              "#d8576b"
             ],
             [
              0.6666666666666666,
              "#ed7953"
             ],
             [
              0.7777777777777778,
              "#fb9f3a"
             ],
             [
              0.8888888888888888,
              "#fdca26"
             ],
             [
              1,
              "#f0f921"
             ]
            ],
            "type": "contour"
           }
          ],
          "contourcarpet": [
           {
            "colorbar": {
             "outlinewidth": 0,
             "ticks": ""
            },
            "type": "contourcarpet"
           }
          ],
          "heatmap": [
           {
            "colorbar": {
             "outlinewidth": 0,
             "ticks": ""
            },
            "colorscale": [
             [
              0,
              "#0d0887"
             ],
             [
              0.1111111111111111,
              "#46039f"
             ],
             [
              0.2222222222222222,
              "#7201a8"
             ],
             [
              0.3333333333333333,
              "#9c179e"
             ],
             [
              0.4444444444444444,
              "#bd3786"
             ],
             [
              0.5555555555555556,
              "#d8576b"
             ],
             [
              0.6666666666666666,
              "#ed7953"
             ],
             [
              0.7777777777777778,
              "#fb9f3a"
             ],
             [
              0.8888888888888888,
              "#fdca26"
             ],
             [
              1,
              "#f0f921"
             ]
            ],
            "type": "heatmap"
           }
          ],
          "histogram": [
           {
            "marker": {
             "pattern": {
              "fillmode": "overlay",
              "size": 10,
              "solidity": 0.2
             }
            },
            "type": "histogram"
           }
          ],
          "histogram2d": [
           {
            "colorbar": {
             "outlinewidth": 0,
             "ticks": ""
            },
            "colorscale": [
             [
              0,
              "#0d0887"
             ],
             [
              0.1111111111111111,
              "#46039f"
             ],
             [
              0.2222222222222222,
              "#7201a8"
             ],
             [
              0.3333333333333333,
              "#9c179e"
             ],
             [
              0.4444444444444444,
              "#bd3786"
             ],
             [
              0.5555555555555556,
              "#d8576b"
             ],
             [
              0.6666666666666666,
              "#ed7953"
             ],
             [
              0.7777777777777778,
              "#fb9f3a"
             ],
             [
              0.8888888888888888,
              "#fdca26"
             ],
             [
              1,
              "#f0f921"
             ]
            ],
            "type": "histogram2d"
           }
          ],
          "histogram2dcontour": [
           {
            "colorbar": {
             "outlinewidth": 0,
             "ticks": ""
            },
            "colorscale": [
             [
              0,
              "#0d0887"
             ],
             [
              0.1111111111111111,
              "#46039f"
             ],
             [
              0.2222222222222222,
              "#7201a8"
             ],
             [
              0.3333333333333333,
              "#9c179e"
             ],
             [
              0.4444444444444444,
              "#bd3786"
             ],
             [
              0.5555555555555556,
              "#d8576b"
             ],
             [
              0.6666666666666666,
              "#ed7953"
             ],
             [
              0.7777777777777778,
              "#fb9f3a"
             ],
             [
              0.8888888888888888,
              "#fdca26"
             ],
             [
              1,
              "#f0f921"
             ]
            ],
            "type": "histogram2dcontour"
           }
          ],
          "mesh3d": [
           {
            "colorbar": {
             "outlinewidth": 0,
             "ticks": ""
            },
            "type": "mesh3d"
           }
          ],
          "parcoords": [
           {
            "line": {
             "colorbar": {
              "outlinewidth": 0,
              "ticks": ""
             }
            },
            "type": "parcoords"
           }
          ],
          "pie": [
           {
            "automargin": true,
            "type": "pie"
           }
          ],
          "scatter": [
           {
            "fillpattern": {
             "fillmode": "overlay",
             "size": 10,
             "solidity": 0.2
            },
            "type": "scatter"
           }
          ],
          "scatter3d": [
           {
            "line": {
             "colorbar": {
              "outlinewidth": 0,
              "ticks": ""
             }
            },
            "marker": {
             "colorbar": {
              "outlinewidth": 0,
              "ticks": ""
             }
            },
            "type": "scatter3d"
           }
          ],
          "scattercarpet": [
           {
            "marker": {
             "colorbar": {
              "outlinewidth": 0,
              "ticks": ""
             }
            },
            "type": "scattercarpet"
           }
          ],
          "scattergeo": [
           {
            "marker": {
             "colorbar": {
              "outlinewidth": 0,
              "ticks": ""
             }
            },
            "type": "scattergeo"
           }
          ],
          "scattergl": [
           {
            "marker": {
             "colorbar": {
              "outlinewidth": 0,
              "ticks": ""
             }
            },
            "type": "scattergl"
           }
          ],
          "scattermap": [
           {
            "marker": {
             "colorbar": {
              "outlinewidth": 0,
              "ticks": ""
             }
            },
            "type": "scattermap"
           }
          ],
          "scattermapbox": [
           {
            "marker": {
             "colorbar": {
              "outlinewidth": 0,
              "ticks": ""
             }
            },
            "type": "scattermapbox"
           }
          ],
          "scatterpolar": [
           {
            "marker": {
             "colorbar": {
              "outlinewidth": 0,
              "ticks": ""
             }
            },
            "type": "scatterpolar"
           }
          ],
          "scatterpolargl": [
           {
            "marker": {
             "colorbar": {
              "outlinewidth": 0,
              "ticks": ""
             }
            },
            "type": "scatterpolargl"
           }
          ],
          "scatterternary": [
           {
            "marker": {
             "colorbar": {
              "outlinewidth": 0,
              "ticks": ""
             }
            },
            "type": "scatterternary"
           }
          ],
          "surface": [
           {
            "colorbar": {
             "outlinewidth": 0,
             "ticks": ""
            },
            "colorscale": [
             [
              0,
              "#0d0887"
             ],
             [
              0.1111111111111111,
              "#46039f"
             ],
             [
              0.2222222222222222,
              "#7201a8"
             ],
             [
              0.3333333333333333,
              "#9c179e"
             ],
             [
              0.4444444444444444,
              "#bd3786"
             ],
             [
              0.5555555555555556,
              "#d8576b"
             ],
             [
              0.6666666666666666,
              "#ed7953"
             ],
             [
              0.7777777777777778,
              "#fb9f3a"
             ],
             [
              0.8888888888888888,
              "#fdca26"
             ],
             [
              1,
              "#f0f921"
             ]
            ],
            "type": "surface"
           }
          ],
          "table": [
           {
            "cells": {
             "fill": {
              "color": "#EBF0F8"
             },
             "line": {
              "color": "white"
             }
            },
            "header": {
             "fill": {
              "color": "#C8D4E3"
             },
             "line": {
              "color": "white"
             }
            },
            "type": "table"
           }
          ]
         },
         "layout": {
          "annotationdefaults": {
           "arrowcolor": "#2a3f5f",
           "arrowhead": 0,
           "arrowwidth": 1
          },
          "autotypenumbers": "strict",
          "coloraxis": {
           "colorbar": {
            "outlinewidth": 0,
            "ticks": ""
           }
          },
          "colorscale": {
           "diverging": [
            [
             0,
             "#8e0152"
            ],
            [
             0.1,
             "#c51b7d"
            ],
            [
             0.2,
             "#de77ae"
            ],
            [
             0.3,
             "#f1b6da"
            ],
            [
             0.4,
             "#fde0ef"
            ],
            [
             0.5,
             "#f7f7f7"
            ],
            [
             0.6,
             "#e6f5d0"
            ],
            [
             0.7,
             "#b8e186"
            ],
            [
             0.8,
             "#7fbc41"
            ],
            [
             0.9,
             "#4d9221"
            ],
            [
             1,
             "#276419"
            ]
           ],
           "sequential": [
            [
             0,
             "#0d0887"
            ],
            [
             0.1111111111111111,
             "#46039f"
            ],
            [
             0.2222222222222222,
             "#7201a8"
            ],
            [
             0.3333333333333333,
             "#9c179e"
            ],
            [
             0.4444444444444444,
             "#bd3786"
            ],
            [
             0.5555555555555556,
             "#d8576b"
            ],
            [
             0.6666666666666666,
             "#ed7953"
            ],
            [
             0.7777777777777778,
             "#fb9f3a"
            ],
            [
             0.8888888888888888,
             "#fdca26"
            ],
            [
             1,
             "#f0f921"
            ]
           ],
           "sequentialminus": [
            [
             0,
             "#0d0887"
            ],
            [
             0.1111111111111111,
             "#46039f"
            ],
            [
             0.2222222222222222,
             "#7201a8"
            ],
            [
             0.3333333333333333,
             "#9c179e"
            ],
            [
             0.4444444444444444,
             "#bd3786"
            ],
            [
             0.5555555555555556,
             "#d8576b"
            ],
            [
             0.6666666666666666,
             "#ed7953"
            ],
            [
             0.7777777777777778,
             "#fb9f3a"
            ],
            [
             0.8888888888888888,
             "#fdca26"
            ],
            [
             1,
             "#f0f921"
            ]
           ]
          },
          "colorway": [
           "#636efa",
           "#EF553B",
           "#00cc96",
           "#ab63fa",
           "#FFA15A",
           "#19d3f3",
           "#FF6692",
           "#B6E880",
           "#FF97FF",
           "#FECB52"
          ],
          "font": {
           "color": "#2a3f5f"
          },
          "geo": {
           "bgcolor": "white",
           "lakecolor": "white",
           "landcolor": "#E5ECF6",
           "showlakes": true,
           "showland": true,
           "subunitcolor": "white"
          },
          "hoverlabel": {
           "align": "left"
          },
          "hovermode": "closest",
          "mapbox": {
           "style": "light"
          },
          "paper_bgcolor": "white",
          "plot_bgcolor": "#E5ECF6",
          "polar": {
           "angularaxis": {
            "gridcolor": "white",
            "linecolor": "white",
            "ticks": ""
           },
           "bgcolor": "#E5ECF6",
           "radialaxis": {
            "gridcolor": "white",
            "linecolor": "white",
            "ticks": ""
           }
          },
          "scene": {
           "xaxis": {
            "backgroundcolor": "#E5ECF6",
            "gridcolor": "white",
            "gridwidth": 2,
            "linecolor": "white",
            "showbackground": true,
            "ticks": "",
            "zerolinecolor": "white"
           },
           "yaxis": {
            "backgroundcolor": "#E5ECF6",
            "gridcolor": "white",
            "gridwidth": 2,
            "linecolor": "white",
            "showbackground": true,
            "ticks": "",
            "zerolinecolor": "white"
           },
           "zaxis": {
            "backgroundcolor": "#E5ECF6",
            "gridcolor": "white",
            "gridwidth": 2,
            "linecolor": "white",
            "showbackground": true,
            "ticks": "",
            "zerolinecolor": "white"
           }
          },
          "shapedefaults": {
           "line": {
            "color": "#2a3f5f"
           }
          },
          "ternary": {
           "aaxis": {
            "gridcolor": "white",
            "linecolor": "white",
            "ticks": ""
           },
           "baxis": {
            "gridcolor": "white",
            "linecolor": "white",
            "ticks": ""
           },
           "bgcolor": "#E5ECF6",
           "caxis": {
            "gridcolor": "white",
            "linecolor": "white",
            "ticks": ""
           }
          },
          "title": {
           "x": 0.05
          },
          "xaxis": {
           "automargin": true,
           "gridcolor": "white",
           "linecolor": "white",
           "ticks": "",
           "title": {
            "standoff": 15
           },
           "zerolinecolor": "white",
           "zerolinewidth": 2
          },
          "yaxis": {
           "automargin": true,
           "gridcolor": "white",
           "linecolor": "white",
           "ticks": "",
           "title": {
            "standoff": 15
           },
           "zerolinecolor": "white",
           "zerolinewidth": 2
          }
         }
        },
        "title": {
         "text": "Box Plots of Selected Features"
        },
        "width": 900,
        "xaxis": {
         "anchor": "y",
         "domain": [
          0,
          0.45
         ]
        },
        "xaxis2": {
         "anchor": "y2",
         "domain": [
          0.55,
          1
         ]
        },
        "xaxis3": {
         "anchor": "y3",
         "domain": [
          0,
          0.45
         ]
        },
        "xaxis4": {
         "anchor": "y4",
         "domain": [
          0.55,
          1
         ]
        },
        "yaxis": {
         "anchor": "x",
         "domain": [
          0,
          0.375
         ]
        },
        "yaxis2": {
         "anchor": "x2",
         "domain": [
          0,
          0.375
         ]
        },
        "yaxis3": {
         "anchor": "x3",
         "domain": [
          0.625,
          1
         ]
        },
        "yaxis4": {
         "anchor": "x4",
         "domain": [
          0.625,
          1
         ]
        }
       }
      }
     },
     "metadata": {},
     "output_type": "display_data"
    }
   ],
   "source": [
    "cols = ['Credit_Limit', 'Avg_Utilization_Ratio', 'Total_Trans_Ct', 'Total_Ct_Chng_Q4_Q1']\n",
    "fig = make_subplots(rows=2, cols=2, start_cell=\"bottom-left\", subplot_titles=cols)\n",
    "\n",
    "fig.add_trace(go.Box(y=data[cols[0]], name=cols[0], boxpoints='outliers'),\n",
    "              row=2, col=1)\n",
    "\n",
    "fig.add_trace(go.Box(y=data[cols[1]], name=cols[1], boxpoints='outliers'),\n",
    "              row=2, col=2)\n",
    "\n",
    "fig.add_trace(go.Box(y=data[cols[2]], name=cols[2], boxpoints='outliers'),\n",
    "              row=1, col=1)\n",
    "\n",
    "fig.add_trace(go.Box(y=data[cols[3]], name=cols[3], boxpoints='outliers'),\n",
    "              row=1, col=2)\n",
    "\n",
    "# Update layout\n",
    "fig.update_layout(height=600, width=900, title_text=\"Box Plots of Selected Features\")\n",
    "fig.show()\n"
   ]
  },
  {
   "cell_type": "code",
   "execution_count": 102,
   "metadata": {},
   "outputs": [
    {
     "data": {
      "text/html": [
       "<div>\n",
       "<style scoped>\n",
       "    .dataframe tbody tr th:only-of-type {\n",
       "        vertical-align: middle;\n",
       "    }\n",
       "\n",
       "    .dataframe tbody tr th {\n",
       "        vertical-align: top;\n",
       "    }\n",
       "\n",
       "    .dataframe thead th {\n",
       "        text-align: right;\n",
       "    }\n",
       "</style>\n",
       "<table border=\"1\" class=\"dataframe\">\n",
       "  <thead>\n",
       "    <tr style=\"text-align: right;\">\n",
       "      <th></th>\n",
       "      <th>Attrition_Flag</th>\n",
       "      <th>Gender</th>\n",
       "      <th>Dependent_count</th>\n",
       "      <th>Education_Level</th>\n",
       "      <th>Income_Category</th>\n",
       "      <th>Card_Category</th>\n",
       "      <th>Months_on_book</th>\n",
       "      <th>Total_Relationship_Count</th>\n",
       "      <th>Months_Inactive_12_mon</th>\n",
       "      <th>Contacts_Count_12_mon</th>\n",
       "      <th>Credit_Limit</th>\n",
       "      <th>Total_Trans_Ct</th>\n",
       "      <th>Total_Ct_Chng_Q4_Q1</th>\n",
       "      <th>Avg_Utilization_Ratio</th>\n",
       "    </tr>\n",
       "  </thead>\n",
       "  <tbody>\n",
       "    <tr>\n",
       "      <th>count</th>\n",
       "      <td>10127.000000</td>\n",
       "      <td>10127.000000</td>\n",
       "      <td>10127.000000</td>\n",
       "      <td>10127.000000</td>\n",
       "      <td>10127.000000</td>\n",
       "      <td>10127.000000</td>\n",
       "      <td>10127.000000</td>\n",
       "      <td>10127.000000</td>\n",
       "      <td>10127.000000</td>\n",
       "      <td>10127.000000</td>\n",
       "      <td>10127.000000</td>\n",
       "      <td>10127.000000</td>\n",
       "      <td>10127.000000</td>\n",
       "      <td>10127.000000</td>\n",
       "    </tr>\n",
       "    <tr>\n",
       "      <th>mean</th>\n",
       "      <td>0.160660</td>\n",
       "      <td>0.529081</td>\n",
       "      <td>2.346203</td>\n",
       "      <td>1.601955</td>\n",
       "      <td>1.975906</td>\n",
       "      <td>1.083638</td>\n",
       "      <td>35.928409</td>\n",
       "      <td>3.812580</td>\n",
       "      <td>2.341167</td>\n",
       "      <td>2.455317</td>\n",
       "      <td>8631.953698</td>\n",
       "      <td>64.858695</td>\n",
       "      <td>0.759941</td>\n",
       "      <td>0.712222</td>\n",
       "    </tr>\n",
       "    <tr>\n",
       "      <th>std</th>\n",
       "      <td>0.367235</td>\n",
       "      <td>0.499178</td>\n",
       "      <td>1.298908</td>\n",
       "      <td>1.700417</td>\n",
       "      <td>1.652395</td>\n",
       "      <td>0.333784</td>\n",
       "      <td>7.986416</td>\n",
       "      <td>1.554408</td>\n",
       "      <td>1.010622</td>\n",
       "      <td>1.106225</td>\n",
       "      <td>9088.776650</td>\n",
       "      <td>23.472570</td>\n",
       "      <td>0.219207</td>\n",
       "      <td>0.238086</td>\n",
       "    </tr>\n",
       "    <tr>\n",
       "      <th>min</th>\n",
       "      <td>0.000000</td>\n",
       "      <td>0.000000</td>\n",
       "      <td>0.000000</td>\n",
       "      <td>-1.000000</td>\n",
       "      <td>-1.000000</td>\n",
       "      <td>1.000000</td>\n",
       "      <td>13.000000</td>\n",
       "      <td>1.000000</td>\n",
       "      <td>0.000000</td>\n",
       "      <td>0.000000</td>\n",
       "      <td>1438.300000</td>\n",
       "      <td>10.000000</td>\n",
       "      <td>0.000000</td>\n",
       "      <td>0.000000</td>\n",
       "    </tr>\n",
       "    <tr>\n",
       "      <th>25%</th>\n",
       "      <td>0.000000</td>\n",
       "      <td>0.000000</td>\n",
       "      <td>1.000000</td>\n",
       "      <td>0.000000</td>\n",
       "      <td>1.000000</td>\n",
       "      <td>1.000000</td>\n",
       "      <td>31.000000</td>\n",
       "      <td>3.000000</td>\n",
       "      <td>2.000000</td>\n",
       "      <td>2.000000</td>\n",
       "      <td>2555.000000</td>\n",
       "      <td>45.000000</td>\n",
       "      <td>0.631000</td>\n",
       "      <td>0.582000</td>\n",
       "    </tr>\n",
       "    <tr>\n",
       "      <th>50%</th>\n",
       "      <td>0.000000</td>\n",
       "      <td>1.000000</td>\n",
       "      <td>2.000000</td>\n",
       "      <td>2.000000</td>\n",
       "      <td>2.000000</td>\n",
       "      <td>1.000000</td>\n",
       "      <td>36.000000</td>\n",
       "      <td>4.000000</td>\n",
       "      <td>2.000000</td>\n",
       "      <td>2.000000</td>\n",
       "      <td>4549.000000</td>\n",
       "      <td>67.000000</td>\n",
       "      <td>0.736000</td>\n",
       "      <td>0.702000</td>\n",
       "    </tr>\n",
       "    <tr>\n",
       "      <th>75%</th>\n",
       "      <td>0.000000</td>\n",
       "      <td>1.000000</td>\n",
       "      <td>3.000000</td>\n",
       "      <td>3.000000</td>\n",
       "      <td>3.000000</td>\n",
       "      <td>1.000000</td>\n",
       "      <td>40.000000</td>\n",
       "      <td>5.000000</td>\n",
       "      <td>3.000000</td>\n",
       "      <td>3.000000</td>\n",
       "      <td>11067.500000</td>\n",
       "      <td>81.000000</td>\n",
       "      <td>0.859000</td>\n",
       "      <td>0.818000</td>\n",
       "    </tr>\n",
       "    <tr>\n",
       "      <th>max</th>\n",
       "      <td>1.000000</td>\n",
       "      <td>1.000000</td>\n",
       "      <td>5.000000</td>\n",
       "      <td>5.000000</td>\n",
       "      <td>5.000000</td>\n",
       "      <td>4.000000</td>\n",
       "      <td>56.000000</td>\n",
       "      <td>6.000000</td>\n",
       "      <td>6.000000</td>\n",
       "      <td>6.000000</td>\n",
       "      <td>34516.000000</td>\n",
       "      <td>139.000000</td>\n",
       "      <td>3.397000</td>\n",
       "      <td>3.714000</td>\n",
       "    </tr>\n",
       "  </tbody>\n",
       "</table>\n",
       "</div>"
      ],
      "text/plain": [
       "       Attrition_Flag        Gender  Dependent_count  Education_Level  \\\n",
       "count    10127.000000  10127.000000     10127.000000     10127.000000   \n",
       "mean         0.160660      0.529081         2.346203         1.601955   \n",
       "std          0.367235      0.499178         1.298908         1.700417   \n",
       "min          0.000000      0.000000         0.000000        -1.000000   \n",
       "25%          0.000000      0.000000         1.000000         0.000000   \n",
       "50%          0.000000      1.000000         2.000000         2.000000   \n",
       "75%          0.000000      1.000000         3.000000         3.000000   \n",
       "max          1.000000      1.000000         5.000000         5.000000   \n",
       "\n",
       "       Income_Category  Card_Category  Months_on_book  \\\n",
       "count     10127.000000   10127.000000    10127.000000   \n",
       "mean          1.975906       1.083638       35.928409   \n",
       "std           1.652395       0.333784        7.986416   \n",
       "min          -1.000000       1.000000       13.000000   \n",
       "25%           1.000000       1.000000       31.000000   \n",
       "50%           2.000000       1.000000       36.000000   \n",
       "75%           3.000000       1.000000       40.000000   \n",
       "max           5.000000       4.000000       56.000000   \n",
       "\n",
       "       Total_Relationship_Count  Months_Inactive_12_mon  \\\n",
       "count              10127.000000            10127.000000   \n",
       "mean                   3.812580                2.341167   \n",
       "std                    1.554408                1.010622   \n",
       "min                    1.000000                0.000000   \n",
       "25%                    3.000000                2.000000   \n",
       "50%                    4.000000                2.000000   \n",
       "75%                    5.000000                3.000000   \n",
       "max                    6.000000                6.000000   \n",
       "\n",
       "       Contacts_Count_12_mon  Credit_Limit  Total_Trans_Ct  \\\n",
       "count           10127.000000  10127.000000    10127.000000   \n",
       "mean                2.455317   8631.953698       64.858695   \n",
       "std                 1.106225   9088.776650       23.472570   \n",
       "min                 0.000000   1438.300000       10.000000   \n",
       "25%                 2.000000   2555.000000       45.000000   \n",
       "50%                 2.000000   4549.000000       67.000000   \n",
       "75%                 3.000000  11067.500000       81.000000   \n",
       "max                 6.000000  34516.000000      139.000000   \n",
       "\n",
       "       Total_Ct_Chng_Q4_Q1  Avg_Utilization_Ratio  \n",
       "count         10127.000000           10127.000000  \n",
       "mean              0.759941               0.712222  \n",
       "std               0.219207               0.238086  \n",
       "min               0.000000               0.000000  \n",
       "25%               0.631000               0.582000  \n",
       "50%               0.736000               0.702000  \n",
       "75%               0.859000               0.818000  \n",
       "max               3.397000               3.714000  "
      ]
     },
     "execution_count": 102,
     "metadata": {},
     "output_type": "execute_result"
    }
   ],
   "source": [
    "data.describe()"
   ]
  },
  {
   "cell_type": "code",
   "execution_count": 103,
   "metadata": {},
   "outputs": [],
   "source": [
    "def drop_outliers_iqr(df, column):\n",
    "    Q1 = df[column].quantile(0.25)\n",
    "    Q3 = df[column].quantile(0.75)\n",
    "    IQR = Q3 - Q1\n",
    "    lower_bound = Q1 - 1.5 * IQR\n",
    "    upper_bound = Q3 + 1.5 * IQR\n",
    "    \n",
    "    # Filter and return new DataFrame\n",
    "    filtered_df = df[(df[column] >= lower_bound) & (df[column] <= upper_bound)]\n",
    "    return filtered_df\n"
   ]
  },
  {
   "cell_type": "code",
   "execution_count": 104,
   "metadata": {},
   "outputs": [],
   "source": [
    "cols_to_drop_outliners = ['Credit_Limit', 'Avg_Utilization_Ratio', 'Total_Trans_Ct', 'Total_Ct_Chng_Q4_Q1']\n",
    "# data = drop_outliers_iqr(data, 'Credit_Limit')  \n",
    "# data = drop_outliers_iqr(data, 'Avg_Utilization_Ratio')\n",
    "# data = drop_outliers_iqr(data, 'Total_Trans_Ct')\n",
    "# data = drop_outliers_iqr(data, 'Total_Ct_Chng_Q4_Q1')\n",
    "data = drop_outliers_iqr(data, cols_to_drop_outliners[0])   "
   ]
  },
  {
   "cell_type": "code",
   "execution_count": 105,
   "metadata": {},
   "outputs": [
    {
     "data": {
      "text/html": [
       "<div>\n",
       "<style scoped>\n",
       "    .dataframe tbody tr th:only-of-type {\n",
       "        vertical-align: middle;\n",
       "    }\n",
       "\n",
       "    .dataframe tbody tr th {\n",
       "        vertical-align: top;\n",
       "    }\n",
       "\n",
       "    .dataframe thead th {\n",
       "        text-align: right;\n",
       "    }\n",
       "</style>\n",
       "<table border=\"1\" class=\"dataframe\">\n",
       "  <thead>\n",
       "    <tr style=\"text-align: right;\">\n",
       "      <th></th>\n",
       "      <th>Attrition_Flag</th>\n",
       "      <th>Gender</th>\n",
       "      <th>Dependent_count</th>\n",
       "      <th>Education_Level</th>\n",
       "      <th>Income_Category</th>\n",
       "      <th>Card_Category</th>\n",
       "      <th>Months_on_book</th>\n",
       "      <th>Total_Relationship_Count</th>\n",
       "      <th>Months_Inactive_12_mon</th>\n",
       "      <th>Contacts_Count_12_mon</th>\n",
       "      <th>Credit_Limit</th>\n",
       "      <th>Total_Trans_Ct</th>\n",
       "      <th>Total_Ct_Chng_Q4_Q1</th>\n",
       "      <th>Avg_Utilization_Ratio</th>\n",
       "    </tr>\n",
       "  </thead>\n",
       "  <tbody>\n",
       "    <tr>\n",
       "      <th>count</th>\n",
       "      <td>9143.000000</td>\n",
       "      <td>9143.000000</td>\n",
       "      <td>9143.000000</td>\n",
       "      <td>9143.000000</td>\n",
       "      <td>9143.000000</td>\n",
       "      <td>9143.000000</td>\n",
       "      <td>9143.000000</td>\n",
       "      <td>9143.000000</td>\n",
       "      <td>9143.000000</td>\n",
       "      <td>9143.000000</td>\n",
       "      <td>9143.000000</td>\n",
       "      <td>9143.000000</td>\n",
       "      <td>9143.000000</td>\n",
       "      <td>9143.000000</td>\n",
       "    </tr>\n",
       "    <tr>\n",
       "      <th>mean</th>\n",
       "      <td>0.160669</td>\n",
       "      <td>0.574647</td>\n",
       "      <td>2.320354</td>\n",
       "      <td>1.601006</td>\n",
       "      <td>1.799081</td>\n",
       "      <td>1.033468</td>\n",
       "      <td>35.922017</td>\n",
       "      <td>3.847206</td>\n",
       "      <td>2.344526</td>\n",
       "      <td>2.449852</td>\n",
       "      <td>6165.293350</td>\n",
       "      <td>64.393634</td>\n",
       "      <td>0.759966</td>\n",
       "      <td>0.712810</td>\n",
       "    </tr>\n",
       "    <tr>\n",
       "      <th>std</th>\n",
       "      <td>0.367246</td>\n",
       "      <td>0.494423</td>\n",
       "      <td>1.301963</td>\n",
       "      <td>1.700132</td>\n",
       "      <td>1.542369</td>\n",
       "      <td>0.204350</td>\n",
       "      <td>8.105905</td>\n",
       "      <td>1.540298</td>\n",
       "      <td>1.015346</td>\n",
       "      <td>1.104710</td>\n",
       "      <td>5229.540708</td>\n",
       "      <td>23.010827</td>\n",
       "      <td>0.220474</td>\n",
       "      <td>0.238621</td>\n",
       "    </tr>\n",
       "    <tr>\n",
       "      <th>min</th>\n",
       "      <td>0.000000</td>\n",
       "      <td>0.000000</td>\n",
       "      <td>0.000000</td>\n",
       "      <td>-1.000000</td>\n",
       "      <td>-1.000000</td>\n",
       "      <td>1.000000</td>\n",
       "      <td>13.000000</td>\n",
       "      <td>1.000000</td>\n",
       "      <td>0.000000</td>\n",
       "      <td>0.000000</td>\n",
       "      <td>1438.300000</td>\n",
       "      <td>10.000000</td>\n",
       "      <td>0.000000</td>\n",
       "      <td>0.000000</td>\n",
       "    </tr>\n",
       "    <tr>\n",
       "      <th>25%</th>\n",
       "      <td>0.000000</td>\n",
       "      <td>0.000000</td>\n",
       "      <td>1.000000</td>\n",
       "      <td>0.000000</td>\n",
       "      <td>1.000000</td>\n",
       "      <td>1.000000</td>\n",
       "      <td>31.000000</td>\n",
       "      <td>3.000000</td>\n",
       "      <td>2.000000</td>\n",
       "      <td>2.000000</td>\n",
       "      <td>2444.500000</td>\n",
       "      <td>45.000000</td>\n",
       "      <td>0.630000</td>\n",
       "      <td>0.581000</td>\n",
       "    </tr>\n",
       "    <tr>\n",
       "      <th>50%</th>\n",
       "      <td>0.000000</td>\n",
       "      <td>1.000000</td>\n",
       "      <td>2.000000</td>\n",
       "      <td>2.000000</td>\n",
       "      <td>2.000000</td>\n",
       "      <td>1.000000</td>\n",
       "      <td>36.000000</td>\n",
       "      <td>4.000000</td>\n",
       "      <td>2.000000</td>\n",
       "      <td>2.000000</td>\n",
       "      <td>3908.000000</td>\n",
       "      <td>67.000000</td>\n",
       "      <td>0.736000</td>\n",
       "      <td>0.702000</td>\n",
       "    </tr>\n",
       "    <tr>\n",
       "      <th>75%</th>\n",
       "      <td>0.000000</td>\n",
       "      <td>1.000000</td>\n",
       "      <td>3.000000</td>\n",
       "      <td>3.000000</td>\n",
       "      <td>3.000000</td>\n",
       "      <td>1.000000</td>\n",
       "      <td>40.000000</td>\n",
       "      <td>5.000000</td>\n",
       "      <td>3.000000</td>\n",
       "      <td>3.000000</td>\n",
       "      <td>8376.500000</td>\n",
       "      <td>80.000000</td>\n",
       "      <td>0.859000</td>\n",
       "      <td>0.821000</td>\n",
       "    </tr>\n",
       "    <tr>\n",
       "      <th>max</th>\n",
       "      <td>1.000000</td>\n",
       "      <td>1.000000</td>\n",
       "      <td>5.000000</td>\n",
       "      <td>5.000000</td>\n",
       "      <td>5.000000</td>\n",
       "      <td>4.000000</td>\n",
       "      <td>56.000000</td>\n",
       "      <td>6.000000</td>\n",
       "      <td>6.000000</td>\n",
       "      <td>6.000000</td>\n",
       "      <td>23760.000000</td>\n",
       "      <td>138.000000</td>\n",
       "      <td>3.397000</td>\n",
       "      <td>3.714000</td>\n",
       "    </tr>\n",
       "  </tbody>\n",
       "</table>\n",
       "</div>"
      ],
      "text/plain": [
       "       Attrition_Flag       Gender  Dependent_count  Education_Level  \\\n",
       "count     9143.000000  9143.000000      9143.000000      9143.000000   \n",
       "mean         0.160669     0.574647         2.320354         1.601006   \n",
       "std          0.367246     0.494423         1.301963         1.700132   \n",
       "min          0.000000     0.000000         0.000000        -1.000000   \n",
       "25%          0.000000     0.000000         1.000000         0.000000   \n",
       "50%          0.000000     1.000000         2.000000         2.000000   \n",
       "75%          0.000000     1.000000         3.000000         3.000000   \n",
       "max          1.000000     1.000000         5.000000         5.000000   \n",
       "\n",
       "       Income_Category  Card_Category  Months_on_book  \\\n",
       "count      9143.000000    9143.000000     9143.000000   \n",
       "mean          1.799081       1.033468       35.922017   \n",
       "std           1.542369       0.204350        8.105905   \n",
       "min          -1.000000       1.000000       13.000000   \n",
       "25%           1.000000       1.000000       31.000000   \n",
       "50%           2.000000       1.000000       36.000000   \n",
       "75%           3.000000       1.000000       40.000000   \n",
       "max           5.000000       4.000000       56.000000   \n",
       "\n",
       "       Total_Relationship_Count  Months_Inactive_12_mon  \\\n",
       "count               9143.000000             9143.000000   \n",
       "mean                   3.847206                2.344526   \n",
       "std                    1.540298                1.015346   \n",
       "min                    1.000000                0.000000   \n",
       "25%                    3.000000                2.000000   \n",
       "50%                    4.000000                2.000000   \n",
       "75%                    5.000000                3.000000   \n",
       "max                    6.000000                6.000000   \n",
       "\n",
       "       Contacts_Count_12_mon  Credit_Limit  Total_Trans_Ct  \\\n",
       "count            9143.000000   9143.000000     9143.000000   \n",
       "mean                2.449852   6165.293350       64.393634   \n",
       "std                 1.104710   5229.540708       23.010827   \n",
       "min                 0.000000   1438.300000       10.000000   \n",
       "25%                 2.000000   2444.500000       45.000000   \n",
       "50%                 2.000000   3908.000000       67.000000   \n",
       "75%                 3.000000   8376.500000       80.000000   \n",
       "max                 6.000000  23760.000000      138.000000   \n",
       "\n",
       "       Total_Ct_Chng_Q4_Q1  Avg_Utilization_Ratio  \n",
       "count          9143.000000            9143.000000  \n",
       "mean              0.759966               0.712810  \n",
       "std               0.220474               0.238621  \n",
       "min               0.000000               0.000000  \n",
       "25%               0.630000               0.581000  \n",
       "50%               0.736000               0.702000  \n",
       "75%               0.859000               0.821000  \n",
       "max               3.397000               3.714000  "
      ]
     },
     "execution_count": 105,
     "metadata": {},
     "output_type": "execute_result"
    }
   ],
   "source": [
    "data.describe()"
   ]
  },
  {
   "cell_type": "markdown",
   "metadata": {},
   "source": [
    "### Scaling"
   ]
  },
  {
   "cell_type": "code",
   "execution_count": 106,
   "metadata": {},
   "outputs": [
    {
     "data": {
      "text/html": [
       "<div>\n",
       "<style scoped>\n",
       "    .dataframe tbody tr th:only-of-type {\n",
       "        vertical-align: middle;\n",
       "    }\n",
       "\n",
       "    .dataframe tbody tr th {\n",
       "        vertical-align: top;\n",
       "    }\n",
       "\n",
       "    .dataframe thead th {\n",
       "        text-align: right;\n",
       "    }\n",
       "</style>\n",
       "<table border=\"1\" class=\"dataframe\">\n",
       "  <thead>\n",
       "    <tr style=\"text-align: right;\">\n",
       "      <th></th>\n",
       "      <th>Attrition_Flag</th>\n",
       "      <th>Gender</th>\n",
       "      <th>Dependent_count</th>\n",
       "      <th>Education_Level</th>\n",
       "      <th>Income_Category</th>\n",
       "      <th>Card_Category</th>\n",
       "      <th>Months_on_book</th>\n",
       "      <th>Total_Relationship_Count</th>\n",
       "      <th>Months_Inactive_12_mon</th>\n",
       "      <th>Contacts_Count_12_mon</th>\n",
       "      <th>Credit_Limit</th>\n",
       "      <th>Total_Trans_Ct</th>\n",
       "      <th>Total_Ct_Chng_Q4_Q1</th>\n",
       "      <th>Avg_Utilization_Ratio</th>\n",
       "    </tr>\n",
       "  </thead>\n",
       "  <tbody>\n",
       "    <tr>\n",
       "      <th>count</th>\n",
       "      <td>9143.000000</td>\n",
       "      <td>9143.000000</td>\n",
       "      <td>9143.000000</td>\n",
       "      <td>9143.000000</td>\n",
       "      <td>9143.000000</td>\n",
       "      <td>9143.000000</td>\n",
       "      <td>9143.000000</td>\n",
       "      <td>9143.000000</td>\n",
       "      <td>9143.000000</td>\n",
       "      <td>9143.000000</td>\n",
       "      <td>9143.000000</td>\n",
       "      <td>9143.000000</td>\n",
       "      <td>9143.000000</td>\n",
       "      <td>9143.000000</td>\n",
       "    </tr>\n",
       "    <tr>\n",
       "      <th>mean</th>\n",
       "      <td>0.160669</td>\n",
       "      <td>0.574647</td>\n",
       "      <td>2.320354</td>\n",
       "      <td>1.601006</td>\n",
       "      <td>1.799081</td>\n",
       "      <td>1.033468</td>\n",
       "      <td>35.922017</td>\n",
       "      <td>3.847206</td>\n",
       "      <td>2.344526</td>\n",
       "      <td>2.449852</td>\n",
       "      <td>6165.293350</td>\n",
       "      <td>64.393634</td>\n",
       "      <td>0.759966</td>\n",
       "      <td>0.712810</td>\n",
       "    </tr>\n",
       "    <tr>\n",
       "      <th>std</th>\n",
       "      <td>0.367246</td>\n",
       "      <td>0.494423</td>\n",
       "      <td>1.301963</td>\n",
       "      <td>1.700132</td>\n",
       "      <td>1.542369</td>\n",
       "      <td>0.204350</td>\n",
       "      <td>8.105905</td>\n",
       "      <td>1.540298</td>\n",
       "      <td>1.015346</td>\n",
       "      <td>1.104710</td>\n",
       "      <td>5229.540708</td>\n",
       "      <td>23.010827</td>\n",
       "      <td>0.220474</td>\n",
       "      <td>0.238621</td>\n",
       "    </tr>\n",
       "    <tr>\n",
       "      <th>min</th>\n",
       "      <td>0.000000</td>\n",
       "      <td>0.000000</td>\n",
       "      <td>0.000000</td>\n",
       "      <td>-1.000000</td>\n",
       "      <td>-1.000000</td>\n",
       "      <td>1.000000</td>\n",
       "      <td>13.000000</td>\n",
       "      <td>1.000000</td>\n",
       "      <td>0.000000</td>\n",
       "      <td>0.000000</td>\n",
       "      <td>1438.300000</td>\n",
       "      <td>10.000000</td>\n",
       "      <td>0.000000</td>\n",
       "      <td>0.000000</td>\n",
       "    </tr>\n",
       "    <tr>\n",
       "      <th>25%</th>\n",
       "      <td>0.000000</td>\n",
       "      <td>0.000000</td>\n",
       "      <td>1.000000</td>\n",
       "      <td>0.000000</td>\n",
       "      <td>1.000000</td>\n",
       "      <td>1.000000</td>\n",
       "      <td>31.000000</td>\n",
       "      <td>3.000000</td>\n",
       "      <td>2.000000</td>\n",
       "      <td>2.000000</td>\n",
       "      <td>2444.500000</td>\n",
       "      <td>45.000000</td>\n",
       "      <td>0.630000</td>\n",
       "      <td>0.581000</td>\n",
       "    </tr>\n",
       "    <tr>\n",
       "      <th>50%</th>\n",
       "      <td>0.000000</td>\n",
       "      <td>1.000000</td>\n",
       "      <td>2.000000</td>\n",
       "      <td>2.000000</td>\n",
       "      <td>2.000000</td>\n",
       "      <td>1.000000</td>\n",
       "      <td>36.000000</td>\n",
       "      <td>4.000000</td>\n",
       "      <td>2.000000</td>\n",
       "      <td>2.000000</td>\n",
       "      <td>3908.000000</td>\n",
       "      <td>67.000000</td>\n",
       "      <td>0.736000</td>\n",
       "      <td>0.702000</td>\n",
       "    </tr>\n",
       "    <tr>\n",
       "      <th>75%</th>\n",
       "      <td>0.000000</td>\n",
       "      <td>1.000000</td>\n",
       "      <td>3.000000</td>\n",
       "      <td>3.000000</td>\n",
       "      <td>3.000000</td>\n",
       "      <td>1.000000</td>\n",
       "      <td>40.000000</td>\n",
       "      <td>5.000000</td>\n",
       "      <td>3.000000</td>\n",
       "      <td>3.000000</td>\n",
       "      <td>8376.500000</td>\n",
       "      <td>80.000000</td>\n",
       "      <td>0.859000</td>\n",
       "      <td>0.821000</td>\n",
       "    </tr>\n",
       "    <tr>\n",
       "      <th>max</th>\n",
       "      <td>1.000000</td>\n",
       "      <td>1.000000</td>\n",
       "      <td>5.000000</td>\n",
       "      <td>5.000000</td>\n",
       "      <td>5.000000</td>\n",
       "      <td>4.000000</td>\n",
       "      <td>56.000000</td>\n",
       "      <td>6.000000</td>\n",
       "      <td>6.000000</td>\n",
       "      <td>6.000000</td>\n",
       "      <td>23760.000000</td>\n",
       "      <td>138.000000</td>\n",
       "      <td>3.397000</td>\n",
       "      <td>3.714000</td>\n",
       "    </tr>\n",
       "  </tbody>\n",
       "</table>\n",
       "</div>"
      ],
      "text/plain": [
       "       Attrition_Flag       Gender  Dependent_count  Education_Level  \\\n",
       "count     9143.000000  9143.000000      9143.000000      9143.000000   \n",
       "mean         0.160669     0.574647         2.320354         1.601006   \n",
       "std          0.367246     0.494423         1.301963         1.700132   \n",
       "min          0.000000     0.000000         0.000000        -1.000000   \n",
       "25%          0.000000     0.000000         1.000000         0.000000   \n",
       "50%          0.000000     1.000000         2.000000         2.000000   \n",
       "75%          0.000000     1.000000         3.000000         3.000000   \n",
       "max          1.000000     1.000000         5.000000         5.000000   \n",
       "\n",
       "       Income_Category  Card_Category  Months_on_book  \\\n",
       "count      9143.000000    9143.000000     9143.000000   \n",
       "mean          1.799081       1.033468       35.922017   \n",
       "std           1.542369       0.204350        8.105905   \n",
       "min          -1.000000       1.000000       13.000000   \n",
       "25%           1.000000       1.000000       31.000000   \n",
       "50%           2.000000       1.000000       36.000000   \n",
       "75%           3.000000       1.000000       40.000000   \n",
       "max           5.000000       4.000000       56.000000   \n",
       "\n",
       "       Total_Relationship_Count  Months_Inactive_12_mon  \\\n",
       "count               9143.000000             9143.000000   \n",
       "mean                   3.847206                2.344526   \n",
       "std                    1.540298                1.015346   \n",
       "min                    1.000000                0.000000   \n",
       "25%                    3.000000                2.000000   \n",
       "50%                    4.000000                2.000000   \n",
       "75%                    5.000000                3.000000   \n",
       "max                    6.000000                6.000000   \n",
       "\n",
       "       Contacts_Count_12_mon  Credit_Limit  Total_Trans_Ct  \\\n",
       "count            9143.000000   9143.000000     9143.000000   \n",
       "mean                2.449852   6165.293350       64.393634   \n",
       "std                 1.104710   5229.540708       23.010827   \n",
       "min                 0.000000   1438.300000       10.000000   \n",
       "25%                 2.000000   2444.500000       45.000000   \n",
       "50%                 2.000000   3908.000000       67.000000   \n",
       "75%                 3.000000   8376.500000       80.000000   \n",
       "max                 6.000000  23760.000000      138.000000   \n",
       "\n",
       "       Total_Ct_Chng_Q4_Q1  Avg_Utilization_Ratio  \n",
       "count          9143.000000            9143.000000  \n",
       "mean              0.759966               0.712810  \n",
       "std               0.220474               0.238621  \n",
       "min               0.000000               0.000000  \n",
       "25%               0.630000               0.581000  \n",
       "50%               0.736000               0.702000  \n",
       "75%               0.859000               0.821000  \n",
       "max               3.397000               3.714000  "
      ]
     },
     "execution_count": 106,
     "metadata": {},
     "output_type": "execute_result"
    }
   ],
   "source": [
    "data.describe()"
   ]
  },
  {
   "cell_type": "code",
   "execution_count": 107,
   "metadata": {},
   "outputs": [],
   "source": [
    "def apply_Min_Max_scaling(data, columns):\n",
    "    scaler = MinMaxScaler()\n",
    "    data[columns] = scaler.fit_transform(data[columns])\n",
    "    return data\n"
   ]
  },
  {
   "cell_type": "code",
   "execution_count": 108,
   "metadata": {},
   "outputs": [
    {
     "name": "stderr",
     "output_type": "stream",
     "text": [
      "/var/folders/zn/tjcmqpbn5cq9s444h_lryw1m0000gn/T/ipykernel_5020/1607888169.py:3: SettingWithCopyWarning:\n",
      "\n",
      "\n",
      "A value is trying to be set on a copy of a slice from a DataFrame.\n",
      "Try using .loc[row_indexer,col_indexer] = value instead\n",
      "\n",
      "See the caveats in the documentation: https://pandas.pydata.org/pandas-docs/stable/user_guide/indexing.html#returning-a-view-versus-a-copy\n",
      "\n"
     ]
    }
   ],
   "source": [
    "cols_to_scale = [\t'Dependent_count',\t'Education_Level',\t'Income_Category',\t'Card_Category',\t'Months_on_book',\t'Total_Relationship_Count',\t'Months_Inactive_12_mon',\t'Contacts_Count_12_mon',\t'Credit_Limit',\t'Total_Trans_Ct',\t'Total_Ct_Chng_Q4_Q1',\t'Avg_Utilization_Ratio']\n",
    "data = apply_Min_Max_scaling(data, cols_to_scale)\n"
   ]
  },
  {
   "cell_type": "code",
   "execution_count": 109,
   "metadata": {},
   "outputs": [
    {
     "data": {
      "text/html": [
       "<div>\n",
       "<style scoped>\n",
       "    .dataframe tbody tr th:only-of-type {\n",
       "        vertical-align: middle;\n",
       "    }\n",
       "\n",
       "    .dataframe tbody tr th {\n",
       "        vertical-align: top;\n",
       "    }\n",
       "\n",
       "    .dataframe thead th {\n",
       "        text-align: right;\n",
       "    }\n",
       "</style>\n",
       "<table border=\"1\" class=\"dataframe\">\n",
       "  <thead>\n",
       "    <tr style=\"text-align: right;\">\n",
       "      <th></th>\n",
       "      <th>Attrition_Flag</th>\n",
       "      <th>Gender</th>\n",
       "      <th>Dependent_count</th>\n",
       "      <th>Education_Level</th>\n",
       "      <th>Income_Category</th>\n",
       "      <th>Card_Category</th>\n",
       "      <th>Months_on_book</th>\n",
       "      <th>Total_Relationship_Count</th>\n",
       "      <th>Months_Inactive_12_mon</th>\n",
       "      <th>Contacts_Count_12_mon</th>\n",
       "      <th>Credit_Limit</th>\n",
       "      <th>Total_Trans_Ct</th>\n",
       "      <th>Total_Ct_Chng_Q4_Q1</th>\n",
       "      <th>Avg_Utilization_Ratio</th>\n",
       "    </tr>\n",
       "  </thead>\n",
       "  <tbody>\n",
       "    <tr>\n",
       "      <th>count</th>\n",
       "      <td>9143.000000</td>\n",
       "      <td>9143.000000</td>\n",
       "      <td>9143.000000</td>\n",
       "      <td>9143.000000</td>\n",
       "      <td>9143.000000</td>\n",
       "      <td>9143.000000</td>\n",
       "      <td>9143.000000</td>\n",
       "      <td>9143.000000</td>\n",
       "      <td>9143.000000</td>\n",
       "      <td>9143.000000</td>\n",
       "      <td>9143.000000</td>\n",
       "      <td>9143.000000</td>\n",
       "      <td>9143.000000</td>\n",
       "      <td>9143.000000</td>\n",
       "    </tr>\n",
       "    <tr>\n",
       "      <th>mean</th>\n",
       "      <td>0.160669</td>\n",
       "      <td>0.574647</td>\n",
       "      <td>0.464071</td>\n",
       "      <td>0.433501</td>\n",
       "      <td>0.466514</td>\n",
       "      <td>0.011156</td>\n",
       "      <td>0.533070</td>\n",
       "      <td>0.569441</td>\n",
       "      <td>0.390754</td>\n",
       "      <td>0.408309</td>\n",
       "      <td>0.211767</td>\n",
       "      <td>0.424950</td>\n",
       "      <td>0.223717</td>\n",
       "      <td>0.191925</td>\n",
       "    </tr>\n",
       "    <tr>\n",
       "      <th>std</th>\n",
       "      <td>0.367246</td>\n",
       "      <td>0.494423</td>\n",
       "      <td>0.260393</td>\n",
       "      <td>0.283355</td>\n",
       "      <td>0.257061</td>\n",
       "      <td>0.068117</td>\n",
       "      <td>0.188509</td>\n",
       "      <td>0.308060</td>\n",
       "      <td>0.169224</td>\n",
       "      <td>0.184118</td>\n",
       "      <td>0.234281</td>\n",
       "      <td>0.179772</td>\n",
       "      <td>0.064903</td>\n",
       "      <td>0.064249</td>\n",
       "    </tr>\n",
       "    <tr>\n",
       "      <th>min</th>\n",
       "      <td>0.000000</td>\n",
       "      <td>0.000000</td>\n",
       "      <td>0.000000</td>\n",
       "      <td>0.000000</td>\n",
       "      <td>0.000000</td>\n",
       "      <td>0.000000</td>\n",
       "      <td>0.000000</td>\n",
       "      <td>0.000000</td>\n",
       "      <td>0.000000</td>\n",
       "      <td>0.000000</td>\n",
       "      <td>0.000000</td>\n",
       "      <td>0.000000</td>\n",
       "      <td>0.000000</td>\n",
       "      <td>0.000000</td>\n",
       "    </tr>\n",
       "    <tr>\n",
       "      <th>25%</th>\n",
       "      <td>0.000000</td>\n",
       "      <td>0.000000</td>\n",
       "      <td>0.200000</td>\n",
       "      <td>0.166667</td>\n",
       "      <td>0.333333</td>\n",
       "      <td>0.000000</td>\n",
       "      <td>0.418605</td>\n",
       "      <td>0.400000</td>\n",
       "      <td>0.333333</td>\n",
       "      <td>0.333333</td>\n",
       "      <td>0.045077</td>\n",
       "      <td>0.273438</td>\n",
       "      <td>0.185458</td>\n",
       "      <td>0.156435</td>\n",
       "    </tr>\n",
       "    <tr>\n",
       "      <th>50%</th>\n",
       "      <td>0.000000</td>\n",
       "      <td>1.000000</td>\n",
       "      <td>0.400000</td>\n",
       "      <td>0.500000</td>\n",
       "      <td>0.500000</td>\n",
       "      <td>0.000000</td>\n",
       "      <td>0.534884</td>\n",
       "      <td>0.600000</td>\n",
       "      <td>0.333333</td>\n",
       "      <td>0.333333</td>\n",
       "      <td>0.110641</td>\n",
       "      <td>0.445312</td>\n",
       "      <td>0.216662</td>\n",
       "      <td>0.189015</td>\n",
       "    </tr>\n",
       "    <tr>\n",
       "      <th>75%</th>\n",
       "      <td>0.000000</td>\n",
       "      <td>1.000000</td>\n",
       "      <td>0.600000</td>\n",
       "      <td>0.666667</td>\n",
       "      <td>0.666667</td>\n",
       "      <td>0.000000</td>\n",
       "      <td>0.627907</td>\n",
       "      <td>0.800000</td>\n",
       "      <td>0.500000</td>\n",
       "      <td>0.500000</td>\n",
       "      <td>0.310828</td>\n",
       "      <td>0.546875</td>\n",
       "      <td>0.252870</td>\n",
       "      <td>0.221055</td>\n",
       "    </tr>\n",
       "    <tr>\n",
       "      <th>max</th>\n",
       "      <td>1.000000</td>\n",
       "      <td>1.000000</td>\n",
       "      <td>1.000000</td>\n",
       "      <td>1.000000</td>\n",
       "      <td>1.000000</td>\n",
       "      <td>1.000000</td>\n",
       "      <td>1.000000</td>\n",
       "      <td>1.000000</td>\n",
       "      <td>1.000000</td>\n",
       "      <td>1.000000</td>\n",
       "      <td>1.000000</td>\n",
       "      <td>1.000000</td>\n",
       "      <td>1.000000</td>\n",
       "      <td>1.000000</td>\n",
       "    </tr>\n",
       "  </tbody>\n",
       "</table>\n",
       "</div>"
      ],
      "text/plain": [
       "       Attrition_Flag       Gender  Dependent_count  Education_Level  \\\n",
       "count     9143.000000  9143.000000      9143.000000      9143.000000   \n",
       "mean         0.160669     0.574647         0.464071         0.433501   \n",
       "std          0.367246     0.494423         0.260393         0.283355   \n",
       "min          0.000000     0.000000         0.000000         0.000000   \n",
       "25%          0.000000     0.000000         0.200000         0.166667   \n",
       "50%          0.000000     1.000000         0.400000         0.500000   \n",
       "75%          0.000000     1.000000         0.600000         0.666667   \n",
       "max          1.000000     1.000000         1.000000         1.000000   \n",
       "\n",
       "       Income_Category  Card_Category  Months_on_book  \\\n",
       "count      9143.000000    9143.000000     9143.000000   \n",
       "mean          0.466514       0.011156        0.533070   \n",
       "std           0.257061       0.068117        0.188509   \n",
       "min           0.000000       0.000000        0.000000   \n",
       "25%           0.333333       0.000000        0.418605   \n",
       "50%           0.500000       0.000000        0.534884   \n",
       "75%           0.666667       0.000000        0.627907   \n",
       "max           1.000000       1.000000        1.000000   \n",
       "\n",
       "       Total_Relationship_Count  Months_Inactive_12_mon  \\\n",
       "count               9143.000000             9143.000000   \n",
       "mean                   0.569441                0.390754   \n",
       "std                    0.308060                0.169224   \n",
       "min                    0.000000                0.000000   \n",
       "25%                    0.400000                0.333333   \n",
       "50%                    0.600000                0.333333   \n",
       "75%                    0.800000                0.500000   \n",
       "max                    1.000000                1.000000   \n",
       "\n",
       "       Contacts_Count_12_mon  Credit_Limit  Total_Trans_Ct  \\\n",
       "count            9143.000000   9143.000000     9143.000000   \n",
       "mean                0.408309      0.211767        0.424950   \n",
       "std                 0.184118      0.234281        0.179772   \n",
       "min                 0.000000      0.000000        0.000000   \n",
       "25%                 0.333333      0.045077        0.273438   \n",
       "50%                 0.333333      0.110641        0.445312   \n",
       "75%                 0.500000      0.310828        0.546875   \n",
       "max                 1.000000      1.000000        1.000000   \n",
       "\n",
       "       Total_Ct_Chng_Q4_Q1  Avg_Utilization_Ratio  \n",
       "count          9143.000000            9143.000000  \n",
       "mean              0.223717               0.191925  \n",
       "std               0.064903               0.064249  \n",
       "min               0.000000               0.000000  \n",
       "25%               0.185458               0.156435  \n",
       "50%               0.216662               0.189015  \n",
       "75%               0.252870               0.221055  \n",
       "max               1.000000               1.000000  "
      ]
     },
     "execution_count": 109,
     "metadata": {},
     "output_type": "execute_result"
    }
   ],
   "source": [
    "data.describe()"
   ]
  },
  {
   "cell_type": "markdown",
   "metadata": {},
   "source": [
    "### Saving Scaled and Outliners handles data to new CSV File"
   ]
  },
  {
   "cell_type": "code",
   "execution_count": 110,
   "metadata": {},
   "outputs": [],
   "source": [
    "# Saving the modified dataset to a new CSV file in the input folder\n",
    "output_file_cleaned = 'credit_card_churn_cleaned_feature_selected_scaled.csv'\n",
    "input_directory = r\"/Users/apple/Documents/Credit_Card_Churn_Model_Local/credit-card-churn/Input\"\n",
    "data.to_csv(os.path.join(input_directory, output_file_cleaned), index=False)"
   ]
  }
 ],
 "metadata": {
  "kernelspec": {
   "display_name": "Python 3",
   "language": "python",
   "name": "python3"
  },
  "language_info": {
   "codemirror_mode": {
    "name": "ipython",
    "version": 3
   },
   "file_extension": ".py",
   "mimetype": "text/x-python",
   "name": "python",
   "nbconvert_exporter": "python",
   "pygments_lexer": "ipython3",
   "version": "3.9.6"
  }
 },
 "nbformat": 4,
 "nbformat_minor": 2
}
