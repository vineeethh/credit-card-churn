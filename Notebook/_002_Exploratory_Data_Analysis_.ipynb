{
 "cells": [
  {
   "cell_type": "markdown",
   "metadata": {},
   "source": [
    "# Exploratory Data Analysis"
   ]
  },
  {
   "cell_type": "markdown",
   "metadata": {},
   "source": [
    "### Importing Packages"
   ]
  },
  {
   "cell_type": "code",
   "execution_count": 641,
   "metadata": {},
   "outputs": [],
   "source": [
    "import pandas as pd\n",
    "import numpy as np\n",
    "from sklearn.compose import ColumnTransformer\n",
    "from sklearn.preprocessing import OneHotEncoder\n",
    "import os"
   ]
  },
  {
   "cell_type": "markdown",
   "metadata": {},
   "source": [
    "### Importing and Initialising Dataset"
   ]
  },
  {
   "cell_type": "code",
   "execution_count": 642,
   "metadata": {},
   "outputs": [
    {
     "data": {
      "text/html": [
       "<div>\n",
       "<style scoped>\n",
       "    .dataframe tbody tr th:only-of-type {\n",
       "        vertical-align: middle;\n",
       "    }\n",
       "\n",
       "    .dataframe tbody tr th {\n",
       "        vertical-align: top;\n",
       "    }\n",
       "\n",
       "    .dataframe thead th {\n",
       "        text-align: right;\n",
       "    }\n",
       "</style>\n",
       "<table border=\"1\" class=\"dataframe\">\n",
       "  <thead>\n",
       "    <tr style=\"text-align: right;\">\n",
       "      <th></th>\n",
       "      <th>CLIENTNUM</th>\n",
       "      <th>Attrition_Flag</th>\n",
       "      <th>Customer_Age</th>\n",
       "      <th>Gender</th>\n",
       "      <th>Dependent_count</th>\n",
       "      <th>Education_Level</th>\n",
       "      <th>Marital_Status</th>\n",
       "      <th>Income_Category</th>\n",
       "      <th>Card_Category</th>\n",
       "      <th>Months_on_book</th>\n",
       "      <th>...</th>\n",
       "      <th>Months_Inactive_12_mon</th>\n",
       "      <th>Contacts_Count_12_mon</th>\n",
       "      <th>Credit_Limit</th>\n",
       "      <th>Total_Revolving_Bal</th>\n",
       "      <th>Avg_Open_To_Buy</th>\n",
       "      <th>Total_Amt_Chng_Q4_Q1</th>\n",
       "      <th>Total_Trans_Amt</th>\n",
       "      <th>Total_Trans_Ct</th>\n",
       "      <th>Total_Ct_Chng_Q4_Q1</th>\n",
       "      <th>Avg_Utilization_Ratio</th>\n",
       "    </tr>\n",
       "  </thead>\n",
       "  <tbody>\n",
       "    <tr>\n",
       "      <th>0</th>\n",
       "      <td>768805383</td>\n",
       "      <td>Existing Customer</td>\n",
       "      <td>45</td>\n",
       "      <td>M</td>\n",
       "      <td>3</td>\n",
       "      <td>High School</td>\n",
       "      <td>Married</td>\n",
       "      <td>$60K - $80K</td>\n",
       "      <td>Blue</td>\n",
       "      <td>39</td>\n",
       "      <td>...</td>\n",
       "      <td>1</td>\n",
       "      <td>3</td>\n",
       "      <td>12691.0</td>\n",
       "      <td>777</td>\n",
       "      <td>11914.0</td>\n",
       "      <td>1.335</td>\n",
       "      <td>1144</td>\n",
       "      <td>42</td>\n",
       "      <td>1.625</td>\n",
       "      <td>0.061</td>\n",
       "    </tr>\n",
       "    <tr>\n",
       "      <th>1</th>\n",
       "      <td>818770008</td>\n",
       "      <td>Existing Customer</td>\n",
       "      <td>49</td>\n",
       "      <td>F</td>\n",
       "      <td>5</td>\n",
       "      <td>Graduate</td>\n",
       "      <td>Single</td>\n",
       "      <td>Less than $40K</td>\n",
       "      <td>Blue</td>\n",
       "      <td>44</td>\n",
       "      <td>...</td>\n",
       "      <td>1</td>\n",
       "      <td>2</td>\n",
       "      <td>8256.0</td>\n",
       "      <td>864</td>\n",
       "      <td>7392.0</td>\n",
       "      <td>1.541</td>\n",
       "      <td>1291</td>\n",
       "      <td>33</td>\n",
       "      <td>3.714</td>\n",
       "      <td>0.105</td>\n",
       "    </tr>\n",
       "    <tr>\n",
       "      <th>2</th>\n",
       "      <td>713982108</td>\n",
       "      <td>Existing Customer</td>\n",
       "      <td>51</td>\n",
       "      <td>M</td>\n",
       "      <td>3</td>\n",
       "      <td>Graduate</td>\n",
       "      <td>Married</td>\n",
       "      <td>$80K - $120K</td>\n",
       "      <td>Blue</td>\n",
       "      <td>36</td>\n",
       "      <td>...</td>\n",
       "      <td>1</td>\n",
       "      <td>0</td>\n",
       "      <td>3418.0</td>\n",
       "      <td>0</td>\n",
       "      <td>3418.0</td>\n",
       "      <td>2.594</td>\n",
       "      <td>1887</td>\n",
       "      <td>20</td>\n",
       "      <td>2.333</td>\n",
       "      <td>0.000</td>\n",
       "    </tr>\n",
       "    <tr>\n",
       "      <th>3</th>\n",
       "      <td>769911858</td>\n",
       "      <td>Existing Customer</td>\n",
       "      <td>40</td>\n",
       "      <td>F</td>\n",
       "      <td>4</td>\n",
       "      <td>High School</td>\n",
       "      <td>Unknown</td>\n",
       "      <td>Less than $40K</td>\n",
       "      <td>Blue</td>\n",
       "      <td>34</td>\n",
       "      <td>...</td>\n",
       "      <td>4</td>\n",
       "      <td>1</td>\n",
       "      <td>3313.0</td>\n",
       "      <td>2517</td>\n",
       "      <td>796.0</td>\n",
       "      <td>1.405</td>\n",
       "      <td>1171</td>\n",
       "      <td>20</td>\n",
       "      <td>2.333</td>\n",
       "      <td>0.760</td>\n",
       "    </tr>\n",
       "    <tr>\n",
       "      <th>4</th>\n",
       "      <td>709106358</td>\n",
       "      <td>Existing Customer</td>\n",
       "      <td>40</td>\n",
       "      <td>M</td>\n",
       "      <td>3</td>\n",
       "      <td>Uneducated</td>\n",
       "      <td>Married</td>\n",
       "      <td>$60K - $80K</td>\n",
       "      <td>Blue</td>\n",
       "      <td>21</td>\n",
       "      <td>...</td>\n",
       "      <td>1</td>\n",
       "      <td>0</td>\n",
       "      <td>4716.0</td>\n",
       "      <td>0</td>\n",
       "      <td>4716.0</td>\n",
       "      <td>2.175</td>\n",
       "      <td>816</td>\n",
       "      <td>28</td>\n",
       "      <td>2.500</td>\n",
       "      <td>0.000</td>\n",
       "    </tr>\n",
       "  </tbody>\n",
       "</table>\n",
       "<p>5 rows × 21 columns</p>\n",
       "</div>"
      ],
      "text/plain": [
       "   CLIENTNUM     Attrition_Flag  Customer_Age Gender  Dependent_count  \\\n",
       "0  768805383  Existing Customer            45      M                3   \n",
       "1  818770008  Existing Customer            49      F                5   \n",
       "2  713982108  Existing Customer            51      M                3   \n",
       "3  769911858  Existing Customer            40      F                4   \n",
       "4  709106358  Existing Customer            40      M                3   \n",
       "\n",
       "  Education_Level Marital_Status Income_Category Card_Category  \\\n",
       "0     High School        Married     $60K - $80K          Blue   \n",
       "1        Graduate         Single  Less than $40K          Blue   \n",
       "2        Graduate        Married    $80K - $120K          Blue   \n",
       "3     High School        Unknown  Less than $40K          Blue   \n",
       "4      Uneducated        Married     $60K - $80K          Blue   \n",
       "\n",
       "   Months_on_book  ...  Months_Inactive_12_mon  Contacts_Count_12_mon  \\\n",
       "0              39  ...                       1                      3   \n",
       "1              44  ...                       1                      2   \n",
       "2              36  ...                       1                      0   \n",
       "3              34  ...                       4                      1   \n",
       "4              21  ...                       1                      0   \n",
       "\n",
       "   Credit_Limit  Total_Revolving_Bal  Avg_Open_To_Buy  Total_Amt_Chng_Q4_Q1  \\\n",
       "0       12691.0                  777          11914.0                 1.335   \n",
       "1        8256.0                  864           7392.0                 1.541   \n",
       "2        3418.0                    0           3418.0                 2.594   \n",
       "3        3313.0                 2517            796.0                 1.405   \n",
       "4        4716.0                    0           4716.0                 2.175   \n",
       "\n",
       "   Total_Trans_Amt  Total_Trans_Ct  Total_Ct_Chng_Q4_Q1  Avg_Utilization_Ratio  \n",
       "0             1144              42                1.625                  0.061  \n",
       "1             1291              33                3.714                  0.105  \n",
       "2             1887              20                2.333                  0.000  \n",
       "3             1171              20                2.333                  0.760  \n",
       "4              816              28                2.500                  0.000  \n",
       "\n",
       "[5 rows x 21 columns]"
      ]
     },
     "execution_count": 642,
     "metadata": {},
     "output_type": "execute_result"
    }
   ],
   "source": [
    "\n",
    "os.chdir(r\"/Users/apple/Documents/Credit_Card_Churn_Model_Local/credit-card-churn/Input\")\n",
    "data = pd.read_csv(\"BankChurners.csv\") \n",
    "data = data.drop(data.columns[-2:], axis=1)  \n",
    "data.head()"
   ]
  },
  {
   "cell_type": "code",
   "execution_count": 643,
   "metadata": {},
   "outputs": [
    {
     "data": {
      "text/plain": [
       "0        12691.0\n",
       "1         8256.0\n",
       "2         3418.0\n",
       "3         3313.0\n",
       "4         4716.0\n",
       "          ...   \n",
       "10122     4003.0\n",
       "10123     4277.0\n",
       "10124     5409.0\n",
       "10125     5281.0\n",
       "10126    10388.0\n",
       "Name: Credit_Limit, Length: 10127, dtype: float64"
      ]
     },
     "execution_count": 643,
     "metadata": {},
     "output_type": "execute_result"
    }
   ],
   "source": [
    "data['Credit_Limit']"
   ]
  },
  {
   "cell_type": "markdown",
   "metadata": {},
   "source": [
    "### Encoding Categorical Data"
   ]
  },
  {
   "cell_type": "code",
   "execution_count": 644,
   "metadata": {},
   "outputs": [
    {
     "name": "stdout",
     "output_type": "stream",
     "text": [
      "Attrition_Flag\n",
      "Existing Customer    8500\n",
      "Attrited Customer    1627\n",
      "Name: count, dtype: int64\n",
      "Education_Level\n",
      "Graduate         3128\n",
      "High School      2013\n",
      "Unknown          1519\n",
      "Uneducated       1487\n",
      "College          1013\n",
      "Post-Graduate     516\n",
      "Doctorate         451\n",
      "Name: count, dtype: int64\n",
      "Marital_Status\n",
      "Married     4687\n",
      "Single      3943\n",
      "Unknown      749\n",
      "Divorced     748\n",
      "Name: count, dtype: int64\n",
      "Income_Category\n",
      "Less than $40K    3561\n",
      "$40K - $60K       1790\n",
      "$80K - $120K      1535\n",
      "$60K - $80K       1402\n",
      "Unknown           1112\n",
      "$120K +            727\n",
      "Name: count, dtype: int64\n",
      "Card_Category\n",
      "Blue        9436\n",
      "Silver       555\n",
      "Gold         116\n",
      "Platinum      20\n",
      "Name: count, dtype: int64\n"
     ]
    }
   ],
   "source": [
    "#Unique Values and its frequency in categorical columns\n",
    "columns = ['Attrition_Flag','Education_Level','Marital_Status','Income_Category','Card_Category',]\n",
    "for col in columns:\n",
    "    print(data[col].value_counts())\n"
   ]
  },
  {
   "cell_type": "markdown",
   "metadata": {},
   "source": [
    "#### Attrition Flag Before and After Encoding"
   ]
  },
  {
   "cell_type": "code",
   "execution_count": 645,
   "metadata": {},
   "outputs": [
    {
     "data": {
      "text/plain": [
       "0        Existing Customer\n",
       "1        Existing Customer\n",
       "2        Existing Customer\n",
       "3        Existing Customer\n",
       "4        Existing Customer\n",
       "               ...        \n",
       "10122    Existing Customer\n",
       "10123    Attrited Customer\n",
       "10124    Attrited Customer\n",
       "10125    Attrited Customer\n",
       "10126    Attrited Customer\n",
       "Name: Attrition_Flag, Length: 10127, dtype: object"
      ]
     },
     "execution_count": 645,
     "metadata": {},
     "output_type": "execute_result"
    }
   ],
   "source": [
    "data['Attrition_Flag']"
   ]
  },
  {
   "cell_type": "code",
   "execution_count": 646,
   "metadata": {},
   "outputs": [],
   "source": [
    "data['Attrition_Flag'] = data['Attrition_Flag'].map({ \n",
    "    'Attrited Customer': 1,\n",
    "    'Existing Customer': 0})"
   ]
  },
  {
   "cell_type": "code",
   "execution_count": 647,
   "metadata": {},
   "outputs": [
    {
     "data": {
      "text/plain": [
       "0        0\n",
       "1        0\n",
       "2        0\n",
       "3        0\n",
       "4        0\n",
       "        ..\n",
       "10122    0\n",
       "10123    1\n",
       "10124    1\n",
       "10125    1\n",
       "10126    1\n",
       "Name: Attrition_Flag, Length: 10127, dtype: int64"
      ]
     },
     "execution_count": 647,
     "metadata": {},
     "output_type": "execute_result"
    }
   ],
   "source": [
    "data['Attrition_Flag']"
   ]
  },
  {
   "cell_type": "markdown",
   "metadata": {},
   "source": [
    "#### Education Level Before and After Encoding"
   ]
  },
  {
   "cell_type": "code",
   "execution_count": 648,
   "metadata": {},
   "outputs": [
    {
     "data": {
      "text/plain": [
       "0        High School\n",
       "1           Graduate\n",
       "2           Graduate\n",
       "3        High School\n",
       "4         Uneducated\n",
       "            ...     \n",
       "10122       Graduate\n",
       "10123        Unknown\n",
       "10124    High School\n",
       "10125       Graduate\n",
       "10126       Graduate\n",
       "Name: Education_Level, Length: 10127, dtype: object"
      ]
     },
     "execution_count": 648,
     "metadata": {},
     "output_type": "execute_result"
    }
   ],
   "source": [
    "data['Education_Level']"
   ]
  },
  {
   "cell_type": "code",
   "execution_count": 649,
   "metadata": {},
   "outputs": [],
   "source": [
    "data['Education_Level'] = data['Education_Level'].map({ 'Uneducated': 0,\n",
    "    'High School': 1,\n",
    "    'College': 2,\n",
    "    'Graduate': 3,\n",
    "    'Post-Graduate': 4,\n",
    "    'Doctorate': 5,\n",
    "    'Unknown': -1})"
   ]
  },
  {
   "cell_type": "code",
   "execution_count": 650,
   "metadata": {},
   "outputs": [
    {
     "data": {
      "text/plain": [
       "0        1\n",
       "1        3\n",
       "2        3\n",
       "3        1\n",
       "4        0\n",
       "        ..\n",
       "10122    3\n",
       "10123   -1\n",
       "10124    1\n",
       "10125    3\n",
       "10126    3\n",
       "Name: Education_Level, Length: 10127, dtype: int64"
      ]
     },
     "execution_count": 650,
     "metadata": {},
     "output_type": "execute_result"
    }
   ],
   "source": [
    "data['Education_Level']"
   ]
  },
  {
   "cell_type": "markdown",
   "metadata": {},
   "source": [
    "#### Gender Before and After One Hot Encoding"
   ]
  },
  {
   "cell_type": "code",
   "execution_count": 651,
   "metadata": {},
   "outputs": [
    {
     "data": {
      "text/plain": [
       "0        M\n",
       "1        F\n",
       "2        M\n",
       "3        F\n",
       "4        M\n",
       "        ..\n",
       "10122    M\n",
       "10123    M\n",
       "10124    F\n",
       "10125    M\n",
       "10126    F\n",
       "Name: Gender, Length: 10127, dtype: object"
      ]
     },
     "execution_count": 651,
     "metadata": {},
     "output_type": "execute_result"
    }
   ],
   "source": [
    "data['Gender']"
   ]
  },
  {
   "cell_type": "code",
   "execution_count": 652,
   "metadata": {},
   "outputs": [],
   "source": [
    "ct = ColumnTransformer(transformers=[('encoder', OneHotEncoder(), [0])], remainder='passthrough')\n",
    "data['Gender'] = np.array(ct.fit_transform(data['Gender'].values.reshape(-1, 1)))\n"
   ]
  },
  {
   "cell_type": "code",
   "execution_count": 653,
   "metadata": {},
   "outputs": [
    {
     "data": {
      "text/plain": [
       "0        0.0\n",
       "1        1.0\n",
       "2        0.0\n",
       "3        1.0\n",
       "4        0.0\n",
       "        ... \n",
       "10122    0.0\n",
       "10123    0.0\n",
       "10124    1.0\n",
       "10125    0.0\n",
       "10126    1.0\n",
       "Name: Gender, Length: 10127, dtype: float64"
      ]
     },
     "execution_count": 653,
     "metadata": {},
     "output_type": "execute_result"
    }
   ],
   "source": [
    "data['Gender']"
   ]
  },
  {
   "cell_type": "markdown",
   "metadata": {},
   "source": [
    "#### Income Category Before and After Encoding"
   ]
  },
  {
   "cell_type": "code",
   "execution_count": 654,
   "metadata": {},
   "outputs": [
    {
     "data": {
      "text/plain": [
       "0           $60K - $80K\n",
       "1        Less than $40K\n",
       "2          $80K - $120K\n",
       "3        Less than $40K\n",
       "4           $60K - $80K\n",
       "              ...      \n",
       "10122       $40K - $60K\n",
       "10123       $40K - $60K\n",
       "10124    Less than $40K\n",
       "10125       $40K - $60K\n",
       "10126    Less than $40K\n",
       "Name: Income_Category, Length: 10127, dtype: object"
      ]
     },
     "execution_count": 654,
     "metadata": {},
     "output_type": "execute_result"
    }
   ],
   "source": [
    "data['Income_Category']"
   ]
  },
  {
   "cell_type": "code",
   "execution_count": 655,
   "metadata": {},
   "outputs": [],
   "source": [
    "data['Income_Category'] = data['Income_Category'].map({ \n",
    "    'Less than $40K': 1,\n",
    "    '$40K - $60K': 2,\n",
    "    '$60K - $80K': 3,\n",
    "    '$80K - $120K': 4,\n",
    "    '$120K +': 5,\n",
    "    'Unknown': -1})"
   ]
  },
  {
   "cell_type": "code",
   "execution_count": 656,
   "metadata": {},
   "outputs": [
    {
     "data": {
      "text/plain": [
       "0        3\n",
       "1        1\n",
       "2        4\n",
       "3        1\n",
       "4        3\n",
       "        ..\n",
       "10122    2\n",
       "10123    2\n",
       "10124    1\n",
       "10125    2\n",
       "10126    1\n",
       "Name: Income_Category, Length: 10127, dtype: int64"
      ]
     },
     "execution_count": 656,
     "metadata": {},
     "output_type": "execute_result"
    }
   ],
   "source": [
    "data['Income_Category']"
   ]
  },
  {
   "cell_type": "markdown",
   "metadata": {},
   "source": [
    "#### Card Category Before and After Encoding"
   ]
  },
  {
   "cell_type": "code",
   "execution_count": 657,
   "metadata": {},
   "outputs": [
    {
     "data": {
      "text/plain": [
       "0          Blue\n",
       "1          Blue\n",
       "2          Blue\n",
       "3          Blue\n",
       "4          Blue\n",
       "          ...  \n",
       "10122      Blue\n",
       "10123      Blue\n",
       "10124      Blue\n",
       "10125      Blue\n",
       "10126    Silver\n",
       "Name: Card_Category, Length: 10127, dtype: object"
      ]
     },
     "execution_count": 657,
     "metadata": {},
     "output_type": "execute_result"
    }
   ],
   "source": [
    "data['Card_Category']"
   ]
  },
  {
   "cell_type": "code",
   "execution_count": 658,
   "metadata": {},
   "outputs": [],
   "source": [
    "data['Card_Category'] = data['Card_Category'].map({ \n",
    "    'Blue': 1,\n",
    "    'Silver': 2,\n",
    "    'Gold': 3,\n",
    "    'Platinum': 4,\n",
    "    'Unknown': -1})"
   ]
  },
  {
   "cell_type": "code",
   "execution_count": 659,
   "metadata": {},
   "outputs": [
    {
     "data": {
      "text/plain": [
       "0        1\n",
       "1        1\n",
       "2        1\n",
       "3        1\n",
       "4        1\n",
       "        ..\n",
       "10122    1\n",
       "10123    1\n",
       "10124    1\n",
       "10125    1\n",
       "10126    2\n",
       "Name: Card_Category, Length: 10127, dtype: int64"
      ]
     },
     "execution_count": 659,
     "metadata": {},
     "output_type": "execute_result"
    }
   ],
   "source": [
    "data['Card_Category']"
   ]
  },
  {
   "cell_type": "code",
   "execution_count": 660,
   "metadata": {},
   "outputs": [
    {
     "data": {
      "text/plain": [
       "0        12691.0\n",
       "1         8256.0\n",
       "2         3418.0\n",
       "3         3313.0\n",
       "4         4716.0\n",
       "          ...   \n",
       "10122     4003.0\n",
       "10123     4277.0\n",
       "10124     5409.0\n",
       "10125     5281.0\n",
       "10126    10388.0\n",
       "Name: Credit_Limit, Length: 10127, dtype: float64"
      ]
     },
     "execution_count": 660,
     "metadata": {},
     "output_type": "execute_result"
    }
   ],
   "source": [
    "data['Credit_Limit']"
   ]
  },
  {
   "cell_type": "markdown",
   "metadata": {},
   "source": [
    "#### Marital Status Before and After Encoding using Dummies"
   ]
  },
  {
   "cell_type": "code",
   "execution_count": 661,
   "metadata": {},
   "outputs": [
    {
     "data": {
      "text/plain": [
       "0         Married\n",
       "1          Single\n",
       "2         Married\n",
       "3         Unknown\n",
       "4         Married\n",
       "           ...   \n",
       "10122      Single\n",
       "10123    Divorced\n",
       "10124     Married\n",
       "10125     Unknown\n",
       "10126     Married\n",
       "Name: Marital_Status, Length: 10127, dtype: object"
      ]
     },
     "execution_count": 661,
     "metadata": {},
     "output_type": "execute_result"
    }
   ],
   "source": [
    "data['Marital_Status']"
   ]
  },
  {
   "cell_type": "code",
   "execution_count": 662,
   "metadata": {},
   "outputs": [
    {
     "data": {
      "text/plain": [
       "0        12691.0\n",
       "1         8256.0\n",
       "2         3418.0\n",
       "3         3313.0\n",
       "4         4716.0\n",
       "          ...   \n",
       "10122     4003.0\n",
       "10123     4277.0\n",
       "10124     5409.0\n",
       "10125     5281.0\n",
       "10126    10388.0\n",
       "Name: Credit_Limit, Length: 10127, dtype: float64"
      ]
     },
     "execution_count": 662,
     "metadata": {},
     "output_type": "execute_result"
    }
   ],
   "source": [
    "data['Credit_Limit']"
   ]
  },
  {
   "cell_type": "code",
   "execution_count": 663,
   "metadata": {},
   "outputs": [
    {
     "name": "stdout",
     "output_type": "stream",
     "text": [
      "Marital_Status\n",
      "Married     4687\n",
      "Single      3943\n",
      "Unknown      749\n",
      "Divorced     748\n",
      "Name: count, dtype: int64\n"
     ]
    }
   ],
   "source": [
    "print(data['Marital_Status'].value_counts())"
   ]
  },
  {
   "cell_type": "code",
   "execution_count": 664,
   "metadata": {},
   "outputs": [
    {
     "data": {
      "text/plain": [
       "0        12691.0\n",
       "1         8256.0\n",
       "2         3418.0\n",
       "3         3313.0\n",
       "4         4716.0\n",
       "          ...   \n",
       "10122     4003.0\n",
       "10123     4277.0\n",
       "10124     5409.0\n",
       "10125     5281.0\n",
       "10126    10388.0\n",
       "Name: Credit_Limit, Length: 10127, dtype: float64"
      ]
     },
     "execution_count": 664,
     "metadata": {},
     "output_type": "execute_result"
    }
   ],
   "source": [
    "data['Credit_Limit']"
   ]
  },
  {
   "cell_type": "code",
   "execution_count": 665,
   "metadata": {},
   "outputs": [],
   "source": [
    "dummies = pd.get_dummies(data['Marital_Status'])\n",
    "data = pd.concat([data, dummies], axis=1)\n",
    "data.drop(['Marital_Status'], axis=1, inplace=True)"
   ]
  },
  {
   "cell_type": "code",
   "execution_count": 666,
   "metadata": {},
   "outputs": [
    {
     "data": {
      "text/plain": [
       "0        1.0\n",
       "1        0.0\n",
       "2        1.0\n",
       "3        0.0\n",
       "4        1.0\n",
       "        ... \n",
       "10122    1.0\n",
       "10123    1.0\n",
       "10124    0.0\n",
       "10125    1.0\n",
       "10126    0.0\n",
       "Name: Credit_Limit, Length: 10127, dtype: float64"
      ]
     },
     "execution_count": 666,
     "metadata": {},
     "output_type": "execute_result"
    }
   ],
   "source": [
    "data['Credit_Limit']"
   ]
  },
  {
   "cell_type": "code",
   "execution_count": 667,
   "metadata": {},
   "outputs": [
    {
     "data": {
      "text/html": [
       "<div>\n",
       "<style scoped>\n",
       "    .dataframe tbody tr th:only-of-type {\n",
       "        vertical-align: middle;\n",
       "    }\n",
       "\n",
       "    .dataframe tbody tr th {\n",
       "        vertical-align: top;\n",
       "    }\n",
       "\n",
       "    .dataframe thead th {\n",
       "        text-align: right;\n",
       "    }\n",
       "</style>\n",
       "<table border=\"1\" class=\"dataframe\">\n",
       "  <thead>\n",
       "    <tr style=\"text-align: right;\">\n",
       "      <th></th>\n",
       "      <th>Married</th>\n",
       "      <th>Single</th>\n",
       "      <th>Unknown</th>\n",
       "      <th>Divorced</th>\n",
       "    </tr>\n",
       "  </thead>\n",
       "  <tbody>\n",
       "    <tr>\n",
       "      <th>0</th>\n",
       "      <td>True</td>\n",
       "      <td>False</td>\n",
       "      <td>False</td>\n",
       "      <td>False</td>\n",
       "    </tr>\n",
       "    <tr>\n",
       "      <th>1</th>\n",
       "      <td>False</td>\n",
       "      <td>True</td>\n",
       "      <td>False</td>\n",
       "      <td>False</td>\n",
       "    </tr>\n",
       "    <tr>\n",
       "      <th>2</th>\n",
       "      <td>True</td>\n",
       "      <td>False</td>\n",
       "      <td>False</td>\n",
       "      <td>False</td>\n",
       "    </tr>\n",
       "    <tr>\n",
       "      <th>3</th>\n",
       "      <td>False</td>\n",
       "      <td>False</td>\n",
       "      <td>True</td>\n",
       "      <td>False</td>\n",
       "    </tr>\n",
       "    <tr>\n",
       "      <th>4</th>\n",
       "      <td>True</td>\n",
       "      <td>False</td>\n",
       "      <td>False</td>\n",
       "      <td>False</td>\n",
       "    </tr>\n",
       "    <tr>\n",
       "      <th>...</th>\n",
       "      <td>...</td>\n",
       "      <td>...</td>\n",
       "      <td>...</td>\n",
       "      <td>...</td>\n",
       "    </tr>\n",
       "    <tr>\n",
       "      <th>10122</th>\n",
       "      <td>False</td>\n",
       "      <td>True</td>\n",
       "      <td>False</td>\n",
       "      <td>False</td>\n",
       "    </tr>\n",
       "    <tr>\n",
       "      <th>10123</th>\n",
       "      <td>False</td>\n",
       "      <td>False</td>\n",
       "      <td>False</td>\n",
       "      <td>True</td>\n",
       "    </tr>\n",
       "    <tr>\n",
       "      <th>10124</th>\n",
       "      <td>True</td>\n",
       "      <td>False</td>\n",
       "      <td>False</td>\n",
       "      <td>False</td>\n",
       "    </tr>\n",
       "    <tr>\n",
       "      <th>10125</th>\n",
       "      <td>False</td>\n",
       "      <td>False</td>\n",
       "      <td>True</td>\n",
       "      <td>False</td>\n",
       "    </tr>\n",
       "    <tr>\n",
       "      <th>10126</th>\n",
       "      <td>True</td>\n",
       "      <td>False</td>\n",
       "      <td>False</td>\n",
       "      <td>False</td>\n",
       "    </tr>\n",
       "  </tbody>\n",
       "</table>\n",
       "<p>10127 rows × 4 columns</p>\n",
       "</div>"
      ],
      "text/plain": [
       "       Married  Single  Unknown  Divorced\n",
       "0         True   False    False     False\n",
       "1        False    True    False     False\n",
       "2         True   False    False     False\n",
       "3        False   False     True     False\n",
       "4         True   False    False     False\n",
       "...        ...     ...      ...       ...\n",
       "10122    False    True    False     False\n",
       "10123    False   False    False      True\n",
       "10124     True   False    False     False\n",
       "10125    False   False     True     False\n",
       "10126     True   False    False     False\n",
       "\n",
       "[10127 rows x 4 columns]"
      ]
     },
     "execution_count": 667,
     "metadata": {},
     "output_type": "execute_result"
    }
   ],
   "source": [
    "data[['Married', 'Single', 'Unknown', 'Divorced']]"
   ]
  },
  {
   "cell_type": "markdown",
   "metadata": {},
   "source": [
    "#### Age Before and After Encoding using Binning"
   ]
  },
  {
   "cell_type": "code",
   "execution_count": 668,
   "metadata": {},
   "outputs": [
    {
     "data": {
      "text/plain": [
       "0        45\n",
       "1        49\n",
       "2        51\n",
       "3        40\n",
       "4        40\n",
       "         ..\n",
       "10122    50\n",
       "10123    41\n",
       "10124    44\n",
       "10125    30\n",
       "10126    43\n",
       "Name: Customer_Age, Length: 10127, dtype: int64"
      ]
     },
     "execution_count": 668,
     "metadata": {},
     "output_type": "execute_result"
    }
   ],
   "source": [
    "data['Customer_Age']"
   ]
  },
  {
   "cell_type": "code",
   "execution_count": 669,
   "metadata": {},
   "outputs": [],
   "source": [
    "# Binning Age\n",
    "age_bins = [0, 30, 40, 50, 60, np.inf]\n",
    "age_labels = ['Under 30', '30-40', '40-50', '50-60', '60+']\n",
    "data['Customer_Age_Binned'] = pd.cut(data['Customer_Age'], bins=age_bins, labels=age_labels)\n",
    "age_dummies = pd.get_dummies(data['Customer_Age_Binned'], prefix='Age')\n",
    "\n",
    "# Adding the dummy variables to the original DataFrame\n",
    "data = pd.concat([data, age_dummies], axis=1)\n",
    "data.drop(['Customer_Age', 'Customer_Age_Binned'], axis=1, inplace=True)"
   ]
  },
  {
   "cell_type": "code",
   "execution_count": 670,
   "metadata": {},
   "outputs": [
    {
     "data": {
      "text/html": [
       "<div>\n",
       "<style scoped>\n",
       "    .dataframe tbody tr th:only-of-type {\n",
       "        vertical-align: middle;\n",
       "    }\n",
       "\n",
       "    .dataframe tbody tr th {\n",
       "        vertical-align: top;\n",
       "    }\n",
       "\n",
       "    .dataframe thead th {\n",
       "        text-align: right;\n",
       "    }\n",
       "</style>\n",
       "<table border=\"1\" class=\"dataframe\">\n",
       "  <thead>\n",
       "    <tr style=\"text-align: right;\">\n",
       "      <th></th>\n",
       "      <th>Age_Under 30</th>\n",
       "      <th>Age_30-40</th>\n",
       "      <th>Age_40-50</th>\n",
       "      <th>Age_50-60</th>\n",
       "      <th>Age_60+</th>\n",
       "    </tr>\n",
       "  </thead>\n",
       "  <tbody>\n",
       "    <tr>\n",
       "      <th>0</th>\n",
       "      <td>False</td>\n",
       "      <td>False</td>\n",
       "      <td>True</td>\n",
       "      <td>False</td>\n",
       "      <td>False</td>\n",
       "    </tr>\n",
       "    <tr>\n",
       "      <th>1</th>\n",
       "      <td>False</td>\n",
       "      <td>False</td>\n",
       "      <td>True</td>\n",
       "      <td>False</td>\n",
       "      <td>False</td>\n",
       "    </tr>\n",
       "    <tr>\n",
       "      <th>2</th>\n",
       "      <td>False</td>\n",
       "      <td>False</td>\n",
       "      <td>False</td>\n",
       "      <td>True</td>\n",
       "      <td>False</td>\n",
       "    </tr>\n",
       "    <tr>\n",
       "      <th>3</th>\n",
       "      <td>False</td>\n",
       "      <td>True</td>\n",
       "      <td>False</td>\n",
       "      <td>False</td>\n",
       "      <td>False</td>\n",
       "    </tr>\n",
       "    <tr>\n",
       "      <th>4</th>\n",
       "      <td>False</td>\n",
       "      <td>True</td>\n",
       "      <td>False</td>\n",
       "      <td>False</td>\n",
       "      <td>False</td>\n",
       "    </tr>\n",
       "    <tr>\n",
       "      <th>...</th>\n",
       "      <td>...</td>\n",
       "      <td>...</td>\n",
       "      <td>...</td>\n",
       "      <td>...</td>\n",
       "      <td>...</td>\n",
       "    </tr>\n",
       "    <tr>\n",
       "      <th>10122</th>\n",
       "      <td>False</td>\n",
       "      <td>False</td>\n",
       "      <td>True</td>\n",
       "      <td>False</td>\n",
       "      <td>False</td>\n",
       "    </tr>\n",
       "    <tr>\n",
       "      <th>10123</th>\n",
       "      <td>False</td>\n",
       "      <td>False</td>\n",
       "      <td>True</td>\n",
       "      <td>False</td>\n",
       "      <td>False</td>\n",
       "    </tr>\n",
       "    <tr>\n",
       "      <th>10124</th>\n",
       "      <td>False</td>\n",
       "      <td>False</td>\n",
       "      <td>True</td>\n",
       "      <td>False</td>\n",
       "      <td>False</td>\n",
       "    </tr>\n",
       "    <tr>\n",
       "      <th>10125</th>\n",
       "      <td>True</td>\n",
       "      <td>False</td>\n",
       "      <td>False</td>\n",
       "      <td>False</td>\n",
       "      <td>False</td>\n",
       "    </tr>\n",
       "    <tr>\n",
       "      <th>10126</th>\n",
       "      <td>False</td>\n",
       "      <td>False</td>\n",
       "      <td>True</td>\n",
       "      <td>False</td>\n",
       "      <td>False</td>\n",
       "    </tr>\n",
       "  </tbody>\n",
       "</table>\n",
       "<p>10127 rows × 5 columns</p>\n",
       "</div>"
      ],
      "text/plain": [
       "       Age_Under 30  Age_30-40  Age_40-50  Age_50-60  Age_60+\n",
       "0             False      False       True      False    False\n",
       "1             False      False       True      False    False\n",
       "2             False      False      False       True    False\n",
       "3             False       True      False      False    False\n",
       "4             False       True      False      False    False\n",
       "...             ...        ...        ...        ...      ...\n",
       "10122         False      False       True      False    False\n",
       "10123         False      False       True      False    False\n",
       "10124         False      False       True      False    False\n",
       "10125          True      False      False      False    False\n",
       "10126         False      False       True      False    False\n",
       "\n",
       "[10127 rows x 5 columns]"
      ]
     },
     "execution_count": 670,
     "metadata": {},
     "output_type": "execute_result"
    }
   ],
   "source": [
    "data[['Age_Under 30', 'Age_30-40','Age_40-50', 'Age_50-60', 'Age_60+']]"
   ]
  },
  {
   "cell_type": "code",
   "execution_count": 671,
   "metadata": {},
   "outputs": [
    {
     "data": {
      "text/html": [
       "<div>\n",
       "<style scoped>\n",
       "    .dataframe tbody tr th:only-of-type {\n",
       "        vertical-align: middle;\n",
       "    }\n",
       "\n",
       "    .dataframe tbody tr th {\n",
       "        vertical-align: top;\n",
       "    }\n",
       "\n",
       "    .dataframe thead th {\n",
       "        text-align: right;\n",
       "    }\n",
       "</style>\n",
       "<table border=\"1\" class=\"dataframe\">\n",
       "  <thead>\n",
       "    <tr style=\"text-align: right;\">\n",
       "      <th></th>\n",
       "      <th>Total_Trans_Amt</th>\n",
       "      <th>Avg_Open_To_Buy</th>\n",
       "      <th>Total_Revolving_Bal</th>\n",
       "    </tr>\n",
       "  </thead>\n",
       "  <tbody>\n",
       "    <tr>\n",
       "      <th>0</th>\n",
       "      <td>1144</td>\n",
       "      <td>12691.0</td>\n",
       "      <td>777</td>\n",
       "    </tr>\n",
       "    <tr>\n",
       "      <th>1</th>\n",
       "      <td>1291</td>\n",
       "      <td>8256.0</td>\n",
       "      <td>864</td>\n",
       "    </tr>\n",
       "    <tr>\n",
       "      <th>2</th>\n",
       "      <td>1887</td>\n",
       "      <td>3418.0</td>\n",
       "      <td>0</td>\n",
       "    </tr>\n",
       "    <tr>\n",
       "      <th>3</th>\n",
       "      <td>1171</td>\n",
       "      <td>3313.0</td>\n",
       "      <td>2517</td>\n",
       "    </tr>\n",
       "    <tr>\n",
       "      <th>4</th>\n",
       "      <td>816</td>\n",
       "      <td>4716.0</td>\n",
       "      <td>0</td>\n",
       "    </tr>\n",
       "    <tr>\n",
       "      <th>...</th>\n",
       "      <td>...</td>\n",
       "      <td>...</td>\n",
       "      <td>...</td>\n",
       "    </tr>\n",
       "    <tr>\n",
       "      <th>10122</th>\n",
       "      <td>15476</td>\n",
       "      <td>4003.0</td>\n",
       "      <td>1851</td>\n",
       "    </tr>\n",
       "    <tr>\n",
       "      <th>10123</th>\n",
       "      <td>8764</td>\n",
       "      <td>4277.0</td>\n",
       "      <td>2186</td>\n",
       "    </tr>\n",
       "    <tr>\n",
       "      <th>10124</th>\n",
       "      <td>10291</td>\n",
       "      <td>5409.0</td>\n",
       "      <td>0</td>\n",
       "    </tr>\n",
       "    <tr>\n",
       "      <th>10125</th>\n",
       "      <td>8395</td>\n",
       "      <td>5281.0</td>\n",
       "      <td>0</td>\n",
       "    </tr>\n",
       "    <tr>\n",
       "      <th>10126</th>\n",
       "      <td>10294</td>\n",
       "      <td>10388.0</td>\n",
       "      <td>1961</td>\n",
       "    </tr>\n",
       "  </tbody>\n",
       "</table>\n",
       "<p>10127 rows × 3 columns</p>\n",
       "</div>"
      ],
      "text/plain": [
       "       Total_Trans_Amt  Avg_Open_To_Buy  Total_Revolving_Bal\n",
       "0                 1144          12691.0                  777\n",
       "1                 1291           8256.0                  864\n",
       "2                 1887           3418.0                    0\n",
       "3                 1171           3313.0                 2517\n",
       "4                  816           4716.0                    0\n",
       "...                ...              ...                  ...\n",
       "10122            15476           4003.0                 1851\n",
       "10123             8764           4277.0                 2186\n",
       "10124            10291           5409.0                    0\n",
       "10125             8395           5281.0                    0\n",
       "10126            10294          10388.0                 1961\n",
       "\n",
       "[10127 rows x 3 columns]"
      ]
     },
     "execution_count": 671,
     "metadata": {},
     "output_type": "execute_result"
    }
   ],
   "source": [
    "data[['Total_Trans_Amt', 'Avg_Open_To_Buy', 'Total_Revolving_Bal']]"
   ]
  },
  {
   "cell_type": "markdown",
   "metadata": {},
   "source": [
    "### Optimizing Total_Trans_Amt by Binning"
   ]
  },
  {
   "cell_type": "code",
   "execution_count": 672,
   "metadata": {},
   "outputs": [
    {
     "data": {
      "text/plain": [
       "0         1144\n",
       "1         1291\n",
       "2         1887\n",
       "3         1171\n",
       "4          816\n",
       "         ...  \n",
       "10122    15476\n",
       "10123     8764\n",
       "10124    10291\n",
       "10125     8395\n",
       "10126    10294\n",
       "Name: Total_Trans_Amt, Length: 10127, dtype: int64"
      ]
     },
     "execution_count": 672,
     "metadata": {},
     "output_type": "execute_result"
    }
   ],
   "source": [
    "data['Total_Trans_Amt']"
   ]
  },
  {
   "cell_type": "code",
   "execution_count": 673,
   "metadata": {},
   "outputs": [],
   "source": [
    "trans_amt_bins = [0, 1000, 5000, 10000, np.inf]\n",
    "trans_amt_labels = ['Low', 'Medium', 'High', 'Very High']\n",
    "data['Total_Trans_Amt_Binned'] = pd.cut(data['Total_Trans_Amt'], bins=trans_amt_bins, labels=trans_amt_labels)\n",
    "Total_Trans_Amt_dummies = pd.get_dummies(data['Total_Trans_Amt_Binned'], prefix = 'Total_Trans_Amt_Binned')\n",
    "# Adding the dummy variables to the original DataFrame  \n",
    "data = pd.concat([data, Total_Trans_Amt_dummies], axis = 1  )\n",
    "\n",
    "data.drop(['Total_Trans_Amt', 'Total_Trans_Amt_Binned'], axis=1, inplace=True)\n"
   ]
  },
  {
   "cell_type": "code",
   "execution_count": 674,
   "metadata": {},
   "outputs": [
    {
     "data": {
      "text/html": [
       "<div>\n",
       "<style scoped>\n",
       "    .dataframe tbody tr th:only-of-type {\n",
       "        vertical-align: middle;\n",
       "    }\n",
       "\n",
       "    .dataframe tbody tr th {\n",
       "        vertical-align: top;\n",
       "    }\n",
       "\n",
       "    .dataframe thead th {\n",
       "        text-align: right;\n",
       "    }\n",
       "</style>\n",
       "<table border=\"1\" class=\"dataframe\">\n",
       "  <thead>\n",
       "    <tr style=\"text-align: right;\">\n",
       "      <th></th>\n",
       "      <th>Total_Trans_Amt_Binned_Low</th>\n",
       "      <th>Total_Trans_Amt_Binned_Medium</th>\n",
       "      <th>Total_Trans_Amt_Binned_High</th>\n",
       "      <th>Total_Trans_Amt_Binned_Very High</th>\n",
       "    </tr>\n",
       "  </thead>\n",
       "  <tbody>\n",
       "    <tr>\n",
       "      <th>0</th>\n",
       "      <td>False</td>\n",
       "      <td>True</td>\n",
       "      <td>False</td>\n",
       "      <td>False</td>\n",
       "    </tr>\n",
       "    <tr>\n",
       "      <th>1</th>\n",
       "      <td>False</td>\n",
       "      <td>True</td>\n",
       "      <td>False</td>\n",
       "      <td>False</td>\n",
       "    </tr>\n",
       "    <tr>\n",
       "      <th>2</th>\n",
       "      <td>False</td>\n",
       "      <td>True</td>\n",
       "      <td>False</td>\n",
       "      <td>False</td>\n",
       "    </tr>\n",
       "    <tr>\n",
       "      <th>3</th>\n",
       "      <td>False</td>\n",
       "      <td>True</td>\n",
       "      <td>False</td>\n",
       "      <td>False</td>\n",
       "    </tr>\n",
       "    <tr>\n",
       "      <th>4</th>\n",
       "      <td>True</td>\n",
       "      <td>False</td>\n",
       "      <td>False</td>\n",
       "      <td>False</td>\n",
       "    </tr>\n",
       "    <tr>\n",
       "      <th>...</th>\n",
       "      <td>...</td>\n",
       "      <td>...</td>\n",
       "      <td>...</td>\n",
       "      <td>...</td>\n",
       "    </tr>\n",
       "    <tr>\n",
       "      <th>10122</th>\n",
       "      <td>False</td>\n",
       "      <td>False</td>\n",
       "      <td>False</td>\n",
       "      <td>True</td>\n",
       "    </tr>\n",
       "    <tr>\n",
       "      <th>10123</th>\n",
       "      <td>False</td>\n",
       "      <td>False</td>\n",
       "      <td>True</td>\n",
       "      <td>False</td>\n",
       "    </tr>\n",
       "    <tr>\n",
       "      <th>10124</th>\n",
       "      <td>False</td>\n",
       "      <td>False</td>\n",
       "      <td>False</td>\n",
       "      <td>True</td>\n",
       "    </tr>\n",
       "    <tr>\n",
       "      <th>10125</th>\n",
       "      <td>False</td>\n",
       "      <td>False</td>\n",
       "      <td>True</td>\n",
       "      <td>False</td>\n",
       "    </tr>\n",
       "    <tr>\n",
       "      <th>10126</th>\n",
       "      <td>False</td>\n",
       "      <td>False</td>\n",
       "      <td>False</td>\n",
       "      <td>True</td>\n",
       "    </tr>\n",
       "  </tbody>\n",
       "</table>\n",
       "<p>10127 rows × 4 columns</p>\n",
       "</div>"
      ],
      "text/plain": [
       "       Total_Trans_Amt_Binned_Low  Total_Trans_Amt_Binned_Medium  \\\n",
       "0                           False                           True   \n",
       "1                           False                           True   \n",
       "2                           False                           True   \n",
       "3                           False                           True   \n",
       "4                            True                          False   \n",
       "...                           ...                            ...   \n",
       "10122                       False                          False   \n",
       "10123                       False                          False   \n",
       "10124                       False                          False   \n",
       "10125                       False                          False   \n",
       "10126                       False                          False   \n",
       "\n",
       "       Total_Trans_Amt_Binned_High  Total_Trans_Amt_Binned_Very High  \n",
       "0                            False                             False  \n",
       "1                            False                             False  \n",
       "2                            False                             False  \n",
       "3                            False                             False  \n",
       "4                            False                             False  \n",
       "...                            ...                               ...  \n",
       "10122                        False                              True  \n",
       "10123                         True                             False  \n",
       "10124                        False                              True  \n",
       "10125                         True                             False  \n",
       "10126                        False                              True  \n",
       "\n",
       "[10127 rows x 4 columns]"
      ]
     },
     "execution_count": 674,
     "metadata": {},
     "output_type": "execute_result"
    }
   ],
   "source": [
    "data[['Total_Trans_Amt_Binned_Low', 'Total_Trans_Amt_Binned_Medium',\n",
    "    'Total_Trans_Amt_Binned_High', 'Total_Trans_Amt_Binned_Very High']]\n"
   ]
  },
  {
   "cell_type": "markdown",
   "metadata": {},
   "source": [
    "### Optimizing Avg_Open_To_Buy by Binning"
   ]
  },
  {
   "cell_type": "code",
   "execution_count": 675,
   "metadata": {},
   "outputs": [
    {
     "data": {
      "text/plain": [
       "0        12691.0\n",
       "1         8256.0\n",
       "2         3418.0\n",
       "3         3313.0\n",
       "4         4716.0\n",
       "          ...   \n",
       "10122     4003.0\n",
       "10123     4277.0\n",
       "10124     5409.0\n",
       "10125     5281.0\n",
       "10126    10388.0\n",
       "Name: Avg_Open_To_Buy, Length: 10127, dtype: float64"
      ]
     },
     "execution_count": 675,
     "metadata": {},
     "output_type": "execute_result"
    }
   ],
   "source": [
    "data['Avg_Open_To_Buy']"
   ]
  },
  {
   "cell_type": "code",
   "execution_count": 676,
   "metadata": {},
   "outputs": [],
   "source": [
    "open_to_buy_bins = [0, 5000, 15000, 30000, np.inf]\n",
    "open_to_buy_labels = ['Low', 'Medium', 'High', 'Very High']\n",
    "data['Avg_Open_To_Buy_Binned'] = pd.cut(data['Avg_Open_To_Buy'], bins=open_to_buy_bins, labels=open_to_buy_labels)\n",
    "Avg_Open_To_Buy_dummies = pd.get_dummies(data['Avg_Open_To_Buy_Binned'], prefix='Avg_Open_To_Buy_Binned')\n",
    "# Adding the dummy variables to the original DataFrame      \n",
    "data = pd.concat([data, Avg_Open_To_Buy_dummies], axis=1)\n",
    "data.drop(['Avg_Open_To_Buy', 'Avg_Open_To_Buy_Binned'], axis=1, inplace=True)\n"
   ]
  },
  {
   "cell_type": "code",
   "execution_count": 677,
   "metadata": {},
   "outputs": [
    {
     "data": {
      "text/html": [
       "<div>\n",
       "<style scoped>\n",
       "    .dataframe tbody tr th:only-of-type {\n",
       "        vertical-align: middle;\n",
       "    }\n",
       "\n",
       "    .dataframe tbody tr th {\n",
       "        vertical-align: top;\n",
       "    }\n",
       "\n",
       "    .dataframe thead th {\n",
       "        text-align: right;\n",
       "    }\n",
       "</style>\n",
       "<table border=\"1\" class=\"dataframe\">\n",
       "  <thead>\n",
       "    <tr style=\"text-align: right;\">\n",
       "      <th></th>\n",
       "      <th>Avg_Open_To_Buy_Binned_Low</th>\n",
       "      <th>Avg_Open_To_Buy_Binned_Medium</th>\n",
       "      <th>Avg_Open_To_Buy_Binned_High</th>\n",
       "      <th>Avg_Open_To_Buy_Binned_Very High</th>\n",
       "    </tr>\n",
       "  </thead>\n",
       "  <tbody>\n",
       "    <tr>\n",
       "      <th>0</th>\n",
       "      <td>False</td>\n",
       "      <td>True</td>\n",
       "      <td>False</td>\n",
       "      <td>False</td>\n",
       "    </tr>\n",
       "    <tr>\n",
       "      <th>1</th>\n",
       "      <td>False</td>\n",
       "      <td>True</td>\n",
       "      <td>False</td>\n",
       "      <td>False</td>\n",
       "    </tr>\n",
       "    <tr>\n",
       "      <th>2</th>\n",
       "      <td>True</td>\n",
       "      <td>False</td>\n",
       "      <td>False</td>\n",
       "      <td>False</td>\n",
       "    </tr>\n",
       "    <tr>\n",
       "      <th>3</th>\n",
       "      <td>True</td>\n",
       "      <td>False</td>\n",
       "      <td>False</td>\n",
       "      <td>False</td>\n",
       "    </tr>\n",
       "    <tr>\n",
       "      <th>4</th>\n",
       "      <td>True</td>\n",
       "      <td>False</td>\n",
       "      <td>False</td>\n",
       "      <td>False</td>\n",
       "    </tr>\n",
       "    <tr>\n",
       "      <th>...</th>\n",
       "      <td>...</td>\n",
       "      <td>...</td>\n",
       "      <td>...</td>\n",
       "      <td>...</td>\n",
       "    </tr>\n",
       "    <tr>\n",
       "      <th>10122</th>\n",
       "      <td>True</td>\n",
       "      <td>False</td>\n",
       "      <td>False</td>\n",
       "      <td>False</td>\n",
       "    </tr>\n",
       "    <tr>\n",
       "      <th>10123</th>\n",
       "      <td>True</td>\n",
       "      <td>False</td>\n",
       "      <td>False</td>\n",
       "      <td>False</td>\n",
       "    </tr>\n",
       "    <tr>\n",
       "      <th>10124</th>\n",
       "      <td>False</td>\n",
       "      <td>True</td>\n",
       "      <td>False</td>\n",
       "      <td>False</td>\n",
       "    </tr>\n",
       "    <tr>\n",
       "      <th>10125</th>\n",
       "      <td>False</td>\n",
       "      <td>True</td>\n",
       "      <td>False</td>\n",
       "      <td>False</td>\n",
       "    </tr>\n",
       "    <tr>\n",
       "      <th>10126</th>\n",
       "      <td>False</td>\n",
       "      <td>True</td>\n",
       "      <td>False</td>\n",
       "      <td>False</td>\n",
       "    </tr>\n",
       "  </tbody>\n",
       "</table>\n",
       "<p>10127 rows × 4 columns</p>\n",
       "</div>"
      ],
      "text/plain": [
       "       Avg_Open_To_Buy_Binned_Low  Avg_Open_To_Buy_Binned_Medium  \\\n",
       "0                           False                           True   \n",
       "1                           False                           True   \n",
       "2                            True                          False   \n",
       "3                            True                          False   \n",
       "4                            True                          False   \n",
       "...                           ...                            ...   \n",
       "10122                        True                          False   \n",
       "10123                        True                          False   \n",
       "10124                       False                           True   \n",
       "10125                       False                           True   \n",
       "10126                       False                           True   \n",
       "\n",
       "       Avg_Open_To_Buy_Binned_High  Avg_Open_To_Buy_Binned_Very High  \n",
       "0                            False                             False  \n",
       "1                            False                             False  \n",
       "2                            False                             False  \n",
       "3                            False                             False  \n",
       "4                            False                             False  \n",
       "...                            ...                               ...  \n",
       "10122                        False                             False  \n",
       "10123                        False                             False  \n",
       "10124                        False                             False  \n",
       "10125                        False                             False  \n",
       "10126                        False                             False  \n",
       "\n",
       "[10127 rows x 4 columns]"
      ]
     },
     "execution_count": 677,
     "metadata": {},
     "output_type": "execute_result"
    }
   ],
   "source": [
    "data[['Avg_Open_To_Buy_Binned_Low', 'Avg_Open_To_Buy_Binned_Medium',\n",
    "       'Avg_Open_To_Buy_Binned_High', 'Avg_Open_To_Buy_Binned_Very High']]"
   ]
  },
  {
   "cell_type": "markdown",
   "metadata": {},
   "source": [
    "### Optimizing Total_Revolving_Bal by Binning"
   ]
  },
  {
   "cell_type": "code",
   "execution_count": 678,
   "metadata": {},
   "outputs": [
    {
     "data": {
      "text/plain": [
       "0         777\n",
       "1         864\n",
       "2           0\n",
       "3        2517\n",
       "4           0\n",
       "         ... \n",
       "10122    1851\n",
       "10123    2186\n",
       "10124       0\n",
       "10125       0\n",
       "10126    1961\n",
       "Name: Total_Revolving_Bal, Length: 10127, dtype: int64"
      ]
     },
     "execution_count": 678,
     "metadata": {},
     "output_type": "execute_result"
    }
   ],
   "source": [
    "data['Total_Revolving_Bal']"
   ]
  },
  {
   "cell_type": "code",
   "execution_count": 679,
   "metadata": {},
   "outputs": [],
   "source": [
    "revolving_bal_bins = [0, 500, 1500, 3000, np.inf]\n",
    "revolving_bal_labels = ['Low', 'Medium', 'High', 'Very High']\n",
    "data['Total_Revolving_Bal_Binned'] = pd.cut(data['Total_Revolving_Bal'], bins=revolving_bal_bins, labels=revolving_bal_labels)\n",
    "Total_Revolving_Bal_dummies = pd.get_dummies(data['Total_Revolving_Bal_Binned'], prefix='Total_Revolving_Bal_Binned')\n",
    "data = pd.concat([data, Total_Revolving_Bal_dummies], axis=1)\n",
    "data.drop(columns='Total_Revolving_Bal_Binned', inplace=True)\n",
    "data.drop(['Total_Revolving_Bal'], axis=1, inplace=True)"
   ]
  },
  {
   "cell_type": "code",
   "execution_count": 683,
   "metadata": {},
   "outputs": [
    {
     "data": {
      "text/plain": [
       "Index(['CLIENTNUM', 'Attrition_Flag', 'Gender', 'Dependent_count',\n",
       "       'Education_Level', 'Income_Category', 'Card_Category', 'Months_on_book',\n",
       "       'Total_Relationship_Count', 'Months_Inactive_12_mon',\n",
       "       'Contacts_Count_12_mon', 'Credit_Limit', 'Total_Amt_Chng_Q4_Q1',\n",
       "       'Total_Trans_Ct', 'Total_Ct_Chng_Q4_Q1', 'Avg_Utilization_Ratio',\n",
       "       'Divorced', 'Married', 'Single', 'Unknown', 'Age_Under 30', 'Age_30-40',\n",
       "       'Age_40-50', 'Age_50-60', 'Age_60+', 'Total_Trans_Amt_Binned_Low',\n",
       "       'Total_Trans_Amt_Binned_Medium', 'Total_Trans_Amt_Binned_High',\n",
       "       'Total_Trans_Amt_Binned_Very High', 'Avg_Open_To_Buy_Binned_Low',\n",
       "       'Avg_Open_To_Buy_Binned_Medium', 'Avg_Open_To_Buy_Binned_High',\n",
       "       'Avg_Open_To_Buy_Binned_Very High', 'Total_Revolving_Bal_Binned_Low',\n",
       "       'Total_Revolving_Bal_Binned_Medium', 'Total_Revolving_Bal_Binned_High',\n",
       "       'Total_Revolving_Bal_Binned_Very High'],\n",
       "      dtype='object')"
      ]
     },
     "execution_count": 683,
     "metadata": {},
     "output_type": "execute_result"
    }
   ],
   "source": [
    "data.columns"
   ]
  },
  {
   "cell_type": "code",
   "execution_count": 680,
   "metadata": {},
   "outputs": [
    {
     "data": {
      "text/html": [
       "<div>\n",
       "<style scoped>\n",
       "    .dataframe tbody tr th:only-of-type {\n",
       "        vertical-align: middle;\n",
       "    }\n",
       "\n",
       "    .dataframe tbody tr th {\n",
       "        vertical-align: top;\n",
       "    }\n",
       "\n",
       "    .dataframe thead th {\n",
       "        text-align: right;\n",
       "    }\n",
       "</style>\n",
       "<table border=\"1\" class=\"dataframe\">\n",
       "  <thead>\n",
       "    <tr style=\"text-align: right;\">\n",
       "      <th></th>\n",
       "      <th>Total_Revolving_Bal_Binned_Low</th>\n",
       "      <th>Total_Revolving_Bal_Binned_Medium</th>\n",
       "      <th>Total_Revolving_Bal_Binned_High</th>\n",
       "      <th>Total_Revolving_Bal_Binned_Very High</th>\n",
       "    </tr>\n",
       "  </thead>\n",
       "  <tbody>\n",
       "    <tr>\n",
       "      <th>0</th>\n",
       "      <td>False</td>\n",
       "      <td>True</td>\n",
       "      <td>False</td>\n",
       "      <td>False</td>\n",
       "    </tr>\n",
       "    <tr>\n",
       "      <th>1</th>\n",
       "      <td>False</td>\n",
       "      <td>True</td>\n",
       "      <td>False</td>\n",
       "      <td>False</td>\n",
       "    </tr>\n",
       "    <tr>\n",
       "      <th>2</th>\n",
       "      <td>False</td>\n",
       "      <td>False</td>\n",
       "      <td>False</td>\n",
       "      <td>False</td>\n",
       "    </tr>\n",
       "    <tr>\n",
       "      <th>3</th>\n",
       "      <td>False</td>\n",
       "      <td>False</td>\n",
       "      <td>True</td>\n",
       "      <td>False</td>\n",
       "    </tr>\n",
       "    <tr>\n",
       "      <th>4</th>\n",
       "      <td>False</td>\n",
       "      <td>False</td>\n",
       "      <td>False</td>\n",
       "      <td>False</td>\n",
       "    </tr>\n",
       "    <tr>\n",
       "      <th>...</th>\n",
       "      <td>...</td>\n",
       "      <td>...</td>\n",
       "      <td>...</td>\n",
       "      <td>...</td>\n",
       "    </tr>\n",
       "    <tr>\n",
       "      <th>10122</th>\n",
       "      <td>False</td>\n",
       "      <td>False</td>\n",
       "      <td>True</td>\n",
       "      <td>False</td>\n",
       "    </tr>\n",
       "    <tr>\n",
       "      <th>10123</th>\n",
       "      <td>False</td>\n",
       "      <td>False</td>\n",
       "      <td>True</td>\n",
       "      <td>False</td>\n",
       "    </tr>\n",
       "    <tr>\n",
       "      <th>10124</th>\n",
       "      <td>False</td>\n",
       "      <td>False</td>\n",
       "      <td>False</td>\n",
       "      <td>False</td>\n",
       "    </tr>\n",
       "    <tr>\n",
       "      <th>10125</th>\n",
       "      <td>False</td>\n",
       "      <td>False</td>\n",
       "      <td>False</td>\n",
       "      <td>False</td>\n",
       "    </tr>\n",
       "    <tr>\n",
       "      <th>10126</th>\n",
       "      <td>False</td>\n",
       "      <td>False</td>\n",
       "      <td>True</td>\n",
       "      <td>False</td>\n",
       "    </tr>\n",
       "  </tbody>\n",
       "</table>\n",
       "<p>10127 rows × 4 columns</p>\n",
       "</div>"
      ],
      "text/plain": [
       "       Total_Revolving_Bal_Binned_Low  Total_Revolving_Bal_Binned_Medium  \\\n",
       "0                               False                               True   \n",
       "1                               False                               True   \n",
       "2                               False                              False   \n",
       "3                               False                              False   \n",
       "4                               False                              False   \n",
       "...                               ...                                ...   \n",
       "10122                           False                              False   \n",
       "10123                           False                              False   \n",
       "10124                           False                              False   \n",
       "10125                           False                              False   \n",
       "10126                           False                              False   \n",
       "\n",
       "       Total_Revolving_Bal_Binned_High  Total_Revolving_Bal_Binned_Very High  \n",
       "0                                False                                 False  \n",
       "1                                False                                 False  \n",
       "2                                False                                 False  \n",
       "3                                 True                                 False  \n",
       "4                                False                                 False  \n",
       "...                                ...                                   ...  \n",
       "10122                             True                                 False  \n",
       "10123                             True                                 False  \n",
       "10124                            False                                 False  \n",
       "10125                            False                                 False  \n",
       "10126                             True                                 False  \n",
       "\n",
       "[10127 rows x 4 columns]"
      ]
     },
     "execution_count": 680,
     "metadata": {},
     "output_type": "execute_result"
    }
   ],
   "source": [
    "data[[ 'Total_Revolving_Bal_Binned_Low', 'Total_Revolving_Bal_Binned_Medium',\n",
    "       'Total_Revolving_Bal_Binned_High',\n",
    "       'Total_Revolving_Bal_Binned_Very High']]"
   ]
  },
  {
   "cell_type": "code",
   "execution_count": 681,
   "metadata": {},
   "outputs": [],
   "source": [
    "# Saving the modified dataset to a new CSV file in the input folder\n",
    "output_file_cleaned = 'credit_card_churn_cleaned.csv'\n",
    "input_directory = r\"/Users/apple/Documents/Credit_Card_Churn_Model_Local/credit-card-churn/Input\"\n",
    "data.to_csv(os.path.join(input_directory, output_file_cleaned), index=False)"
   ]
  },
  {
   "cell_type": "code",
   "execution_count": 682,
   "metadata": {},
   "outputs": [
    {
     "data": {
      "text/plain": [
       "0        1.0\n",
       "1        0.0\n",
       "2        1.0\n",
       "3        0.0\n",
       "4        1.0\n",
       "        ... \n",
       "10122    1.0\n",
       "10123    1.0\n",
       "10124    0.0\n",
       "10125    1.0\n",
       "10126    0.0\n",
       "Name: Credit_Limit, Length: 10127, dtype: float64"
      ]
     },
     "execution_count": 682,
     "metadata": {},
     "output_type": "execute_result"
    }
   ],
   "source": [
    "data['Credit_Limit']"
   ]
  }
 ],
 "metadata": {
  "kernelspec": {
   "display_name": "Python 3",
   "language": "python",
   "name": "python3"
  },
  "language_info": {
   "codemirror_mode": {
    "name": "ipython",
    "version": 3
   },
   "file_extension": ".py",
   "mimetype": "text/x-python",
   "name": "python",
   "nbconvert_exporter": "python",
   "pygments_lexer": "ipython3",
   "version": "3.9.6"
  }
 },
 "nbformat": 4,
 "nbformat_minor": 2
}
