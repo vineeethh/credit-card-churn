{
 "cells": [
  {
   "cell_type": "markdown",
   "metadata": {},
   "source": [
    "# Building Model "
   ]
  },
  {
   "cell_type": "markdown",
   "metadata": {},
   "source": [
    "### Importing packages"
   ]
  },
  {
   "cell_type": "code",
   "execution_count": 57,
   "metadata": {},
   "outputs": [],
   "source": [
    "import os\n",
    "from sklearn.model_selection import train_test_split\n",
    "import numpy as np\n",
    "import pandas as pd\n",
    "import matplotlib.pyplot as plt\n",
    "import seaborn as sns\n",
    "from sklearn.neighbors import KNeighborsClassifier\n",
    "import plotly.express as px\n",
    "import plotly.graph_objects as go\n",
    "from plotly.subplots import make_subplots\n",
    "from sklearn.metrics import confusion_matrix, accuracy_score, ConfusionMatrixDisplay\n",
    "from sklearn.tree import DecisionTreeClassifier\n",
    "from sklearn.model_selection import GridSearchCV\n",
    "from sklearn.ensemble import RandomForestClassifier\n",
    "from sklearn.linear_model import LogisticRegression"
   ]
  },
  {
   "cell_type": "markdown",
   "metadata": {},
   "source": [
    "### Importing Dataset"
   ]
  },
  {
   "cell_type": "code",
   "execution_count": 29,
   "metadata": {},
   "outputs": [],
   "source": [
    "os.chdir(r\"/Users/apple/Documents/Credit_Card_Churn_Model_Local/credit-card-churn/Input\")\n",
    "data = pd.read_csv(\"/Users/apple/Documents/Credit_Card_Churn_Model_Local/credit-card-churn/Input/credit_card_churn_cleaned_feature_selected.csv\")\n",
    "data_scaled = pd.read_csv(\"/Users/apple/Documents/Credit_Card_Churn_Model_Local/credit-card-churn/Input/credit_card_churn_cleaned_feature_selected_scaled.csv\") "
   ]
  },
  {
   "cell_type": "code",
   "execution_count": 30,
   "metadata": {},
   "outputs": [],
   "source": [
    "y = data['Attrition_Flag']\n",
    "X = data.drop(['Attrition_Flag'], axis=1)"
   ]
  },
  {
   "cell_type": "code",
   "execution_count": 35,
   "metadata": {},
   "outputs": [],
   "source": [
    "X_scaled = data_scaled.drop(['Attrition_Flag'], axis=1)\n",
    "y_scaled = data_scaled['Attrition_Flag']"
   ]
  },
  {
   "cell_type": "code",
   "execution_count": 32,
   "metadata": {},
   "outputs": [
    {
     "name": "stdout",
     "output_type": "stream",
     "text": [
      "data shape: (10127, 33)\n",
      "data_scaled shape: (9143, 33)\n"
     ]
    }
   ],
   "source": [
    "print(\"data shape:\", data.shape)\n",
    "print(\"data_scaled shape:\", data_scaled.shape)\n"
   ]
  },
  {
   "cell_type": "markdown",
   "metadata": {},
   "source": [
    "### Splitting Dataset into Train and Test Sets with Stratify"
   ]
  },
  {
   "cell_type": "code",
   "execution_count": 38,
   "metadata": {},
   "outputs": [],
   "source": [
    "X_train, X_test, y_train, y_test = train_test_split(X, y, test_size=0.2, random_state=42, stratify=y)\n",
    "X_train_scaled, X_test_scaled, y_train_scaled, y_test_scaled = train_test_split(X_scaled, y_scaled, test_size=0.2, random_state=42, stratify=y_scaled)"
   ]
  },
  {
   "cell_type": "markdown",
   "metadata": {},
   "source": [
    "## K-Nearest Neighbors"
   ]
  },
  {
   "cell_type": "code",
   "execution_count": 43,
   "metadata": {
    "vscode": {
     "languageId": "javascript"
    }
   },
   "outputs": [
    {
     "name": "stdout",
     "output_type": "stream",
     "text": [
      "Best KNN Params: {'metric': 'manhattan', 'n_neighbors': 9, 'weights': 'distance'}\n",
      "Best KNN Accuracy: 0.8945862043493262\n"
     ]
    }
   ],
   "source": [
    "knn_param_grid = {\n",
    "    'n_neighbors': [3, 5, 7, 9],\n",
    "    'weights': ['uniform', 'distance'],\n",
    "    'metric': ['euclidean', 'manhattan']\n",
    "}\n",
    "\n",
    "knn_grid = GridSearchCV(KNeighborsClassifier(), knn_param_grid, cv=5, scoring='accuracy')\n",
    "knn_grid.fit(X_train_scaled, y_train_scaled)\n",
    "\n",
    "print(\"Best KNN Params:\", knn_grid.best_params_)\n",
    "print(\"Best KNN Accuracy:\", knn_grid.best_score_)\n"
   ]
  },
  {
   "cell_type": "code",
   "execution_count": 48,
   "metadata": {},
   "outputs": [
    {
     "data": {
      "text/plain": [
       "array([0, 1, 0, ..., 0, 0, 0])"
      ]
     },
     "execution_count": 48,
     "metadata": {},
     "output_type": "execute_result"
    }
   ],
   "source": [
    "knn = KNeighborsClassifier(n_neighbors=5, weights='distance', metric='manhattan')\n",
    "knn.fit(X_train_scaled, y_train_scaled)\n",
    "y_pred_train = knn.predict(X_train_scaled)\n",
    "y_pred_train"
   ]
  },
  {
   "cell_type": "markdown",
   "metadata": {},
   "source": [
    "#### Accuracy of KNN on Training Set"
   ]
  },
  {
   "cell_type": "code",
   "execution_count": 51,
   "metadata": {},
   "outputs": [
    {
     "name": "stdout",
     "output_type": "stream",
     "text": [
      "Accuracy of KNN model: 1.00\n"
     ]
    }
   ],
   "source": [
    "#Accuracy Score\n",
    "accuracy_knn_train = accuracy_score(y_train_scaled, y_pred_train)\n",
    "print(f\"Accuracy of KNN model: {accuracy_knn_train:.2f}\")"
   ]
  },
  {
   "cell_type": "code",
   "execution_count": null,
   "metadata": {},
   "outputs": [],
   "source": [
    "# Confusion Matrix\n",
    "cm_knn = confusion_matrix(y_test, y_pred)\n",
    "confusion_matrix_display = px.imshow(cm_knn, color_continuous_scale='Blues')\n",
    "confusion_matrix_display.update_layout(title='Confusion Matrix for KNN', xaxis_title='Predicted', yaxis_title='Actual')\n",
    "confusion_matrix_display.show()"
   ]
  },
  {
   "cell_type": "markdown",
   "metadata": {},
   "source": [
    "## Decision Tree"
   ]
  },
  {
   "cell_type": "code",
   "execution_count": null,
   "metadata": {},
   "outputs": [
    {
     "name": "stdout",
     "output_type": "stream",
     "text": [
      "Fitting 3 folds for each of 54 candidates, totalling 162 fits\n"
     ]
    },
    {
     "name": "stderr",
     "output_type": "stream",
     "text": [
      "/Users/apple/Library/Python/3.9/lib/python/site-packages/sklearn/model_selection/_search.py:317: UserWarning: The total space of parameters 54 is smaller than n_iter=100. Running 54 iterations. For exhaustive searches, use GridSearchCV.\n",
      "  warnings.warn(\n"
     ]
    },
    {
     "name": "stdout",
     "output_type": "stream",
     "text": [
      "[CV] END max_depth=None, min_samples_leaf=1, min_samples_split=2; total time=   0.1s\n",
      "[CV] END max_depth=None, min_samples_leaf=1, min_samples_split=10; total time=   0.1s\n",
      "[CV] END max_depth=None, min_samples_leaf=1, min_samples_split=10; total time=   0.1s\n",
      "[CV] END max_depth=None, min_samples_leaf=1, min_samples_split=5; total time=   0.1s\n",
      "[CV] END max_depth=None, min_samples_leaf=1, min_samples_split=5; total time=   0.1s\n",
      "[CV] END max_depth=None, min_samples_leaf=1, min_samples_split=5; total time=   0.1s\n",
      "[CV] END max_depth=None, min_samples_leaf=1, min_samples_split=2; total time=   0.1s\n",
      "[CV] END max_depth=None, min_samples_leaf=1, min_samples_split=2; total time=   0.1s\n",
      "[CV] END max_depth=None, min_samples_leaf=1, min_samples_split=10; total time=   0.1s\n",
      "[CV] END max_depth=None, min_samples_leaf=2, min_samples_split=2; total time=   0.1s\n",
      "[CV] END max_depth=None, min_samples_leaf=2, min_samples_split=2; total time=   0.1s\n",
      "[CV] END max_depth=None, min_samples_leaf=2, min_samples_split=2; total time=   0.1s\n",
      "[CV] END max_depth=None, min_samples_leaf=2, min_samples_split=5; total time=   0.1s\n",
      "[CV] END max_depth=None, min_samples_leaf=2, min_samples_split=5; total time=   0.1s\n",
      "[CV] END max_depth=None, min_samples_leaf=2, min_samples_split=5; total time=   0.1s\n",
      "[CV] END max_depth=None, min_samples_leaf=2, min_samples_split=10; total time=   0.1s\n",
      "[CV] END max_depth=None, min_samples_leaf=2, min_samples_split=10; total time=   0.1s\n",
      "[CV] END max_depth=None, min_samples_leaf=2, min_samples_split=10; total time=   0.1s\n",
      "[CV] END max_depth=None, min_samples_leaf=4, min_samples_split=2; total time=   0.1s\n",
      "[CV] END max_depth=None, min_samples_leaf=4, min_samples_split=2; total time=   0.1s\n",
      "[CV] END max_depth=None, min_samples_leaf=4, min_samples_split=2; total time=   0.1s\n",
      "[CV] END max_depth=None, min_samples_leaf=4, min_samples_split=5; total time=   0.1s\n",
      "[CV] END max_depth=None, min_samples_leaf=4, min_samples_split=5; total time=   0.1s\n",
      "[CV] END max_depth=None, min_samples_leaf=4, min_samples_split=5; total time=   0.1s\n",
      "[CV] END max_depth=None, min_samples_leaf=4, min_samples_split=10; total time=   0.1s\n",
      "[CV] END max_depth=None, min_samples_leaf=4, min_samples_split=10; total time=   0.1s\n",
      "[CV] END max_depth=None, min_samples_leaf=4, min_samples_split=10; total time=   0.1s\n",
      "[CV] END max_depth=10, min_samples_leaf=1, min_samples_split=2; total time=   0.1s\n",
      "[CV] END max_depth=10, min_samples_leaf=1, min_samples_split=2; total time=   0.1s\n",
      "[CV] END max_depth=10, min_samples_leaf=1, min_samples_split=2; total time=   0.1s\n",
      "[CV] END max_depth=10, min_samples_leaf=1, min_samples_split=5; total time=   0.1s\n",
      "[CV] END max_depth=10, min_samples_leaf=1, min_samples_split=5; total time=   0.1s\n",
      "[CV] END max_depth=10, min_samples_leaf=1, min_samples_split=5; total time=   0.1s\n",
      "[CV] END max_depth=10, min_samples_leaf=1, min_samples_split=10; total time=   0.1s\n",
      "[CV] END max_depth=10, min_samples_leaf=1, min_samples_split=10; total time=   0.1s\n",
      "[CV] END max_depth=10, min_samples_leaf=1, min_samples_split=10; total time=   0.1s\n",
      "[CV] END max_depth=10, min_samples_leaf=2, min_samples_split=2; total time=   0.1s\n",
      "[CV] END max_depth=10, min_samples_leaf=2, min_samples_split=2; total time=   0.1s\n",
      "[CV] END max_depth=10, min_samples_leaf=2, min_samples_split=2; total time=   0.1s\n",
      "[CV] END max_depth=10, min_samples_leaf=2, min_samples_split=5; total time=   0.1s\n",
      "[CV] END max_depth=10, min_samples_leaf=2, min_samples_split=5; total time=   0.1s\n",
      "[CV] END max_depth=10, min_samples_leaf=2, min_samples_split=5; total time=   0.1s\n",
      "[CV] END max_depth=10, min_samples_leaf=2, min_samples_split=10; total time=   0.1s\n",
      "[CV] END max_depth=10, min_samples_leaf=2, min_samples_split=10; total time=   0.1s\n",
      "[CV] END max_depth=10, min_samples_leaf=4, min_samples_split=2; total time=   0.1s\n",
      "[CV] END max_depth=10, min_samples_leaf=2, min_samples_split=10; total time=   0.1s\n",
      "[CV] END max_depth=10, min_samples_leaf=4, min_samples_split=2; total time=   0.1s\n",
      "[CV] END max_depth=10, min_samples_leaf=4, min_samples_split=2; total time=   0.1s\n",
      "[CV] END max_depth=10, min_samples_leaf=4, min_samples_split=5; total time=   0.1s\n",
      "[CV] END max_depth=10, min_samples_leaf=4, min_samples_split=5; total time=   0.1s\n",
      "[CV] END max_depth=10, min_samples_leaf=4, min_samples_split=10; total time=   0.1s\n",
      "[CV] END max_depth=10, min_samples_leaf=4, min_samples_split=5; total time=   0.1s\n",
      "[CV] END max_depth=10, min_samples_leaf=4, min_samples_split=10; total time=   0.1s\n",
      "[CV] END max_depth=10, min_samples_leaf=4, min_samples_split=10; total time=   0.1s\n",
      "[CV] END max_depth=20, min_samples_leaf=1, min_samples_split=2; total time=   0.1s\n",
      "[CV] END max_depth=20, min_samples_leaf=1, min_samples_split=2; total time=   0.1s\n",
      "[CV] END max_depth=20, min_samples_leaf=1, min_samples_split=2; total time=   0.1s\n",
      "[CV] END max_depth=20, min_samples_leaf=1, min_samples_split=5; total time=   0.1s\n",
      "[CV] END max_depth=20, min_samples_leaf=1, min_samples_split=5; total time=   0.1s\n",
      "[CV] END max_depth=20, min_samples_leaf=1, min_samples_split=5; total time=   0.1s\n",
      "[CV] END max_depth=20, min_samples_leaf=1, min_samples_split=10; total time=   0.1s\n",
      "[CV] END max_depth=20, min_samples_leaf=1, min_samples_split=10; total time=   0.1s\n",
      "[CV] END max_depth=20, min_samples_leaf=1, min_samples_split=10; total time=   0.1s\n",
      "[CV] END max_depth=20, min_samples_leaf=2, min_samples_split=2; total time=   0.1s\n",
      "[CV] END max_depth=20, min_samples_leaf=2, min_samples_split=2; total time=   0.1s\n",
      "[CV] END max_depth=20, min_samples_leaf=2, min_samples_split=2; total time=   0.1s\n",
      "[CV] END max_depth=20, min_samples_leaf=2, min_samples_split=5; total time=   0.1s\n",
      "[CV] END max_depth=20, min_samples_leaf=2, min_samples_split=5; total time=   0.1s\n",
      "[CV] END max_depth=20, min_samples_leaf=2, min_samples_split=5; total time=   0.1s\n",
      "[CV] END max_depth=20, min_samples_leaf=2, min_samples_split=10; total time=   0.1s\n",
      "[CV] END max_depth=20, min_samples_leaf=2, min_samples_split=10; total time=   0.1s\n",
      "[CV] END max_depth=20, min_samples_leaf=2, min_samples_split=10; total time=   0.1s\n",
      "[CV] END max_depth=20, min_samples_leaf=4, min_samples_split=2; total time=   0.1s\n",
      "[CV] END max_depth=20, min_samples_leaf=4, min_samples_split=2; total time=   0.1s\n",
      "[CV] END max_depth=20, min_samples_leaf=4, min_samples_split=2; total time=   0.1s\n",
      "[CV] END max_depth=20, min_samples_leaf=4, min_samples_split=5; total time=   0.1s\n",
      "[CV] END max_depth=20, min_samples_leaf=4, min_samples_split=5; total time=   0.1s\n",
      "[CV] END max_depth=20, min_samples_leaf=4, min_samples_split=5; total time=   0.1s\n",
      "[CV] END max_depth=20, min_samples_leaf=4, min_samples_split=10; total time=   0.1s\n",
      "[CV] END max_depth=20, min_samples_leaf=4, min_samples_split=10; total time=   0.1s\n",
      "[CV] END max_depth=20, min_samples_leaf=4, min_samples_split=10; total time=   0.1s\n",
      "[CV] END max_depth=30, min_samples_leaf=1, min_samples_split=2; total time=   0.1s\n",
      "[CV] END max_depth=30, min_samples_leaf=1, min_samples_split=2; total time=   0.1s\n",
      "[CV] END max_depth=30, min_samples_leaf=1, min_samples_split=2; total time=   0.1s\n",
      "[CV] END max_depth=30, min_samples_leaf=1, min_samples_split=5; total time=   0.1s\n",
      "[CV] END max_depth=30, min_samples_leaf=1, min_samples_split=5; total time=   0.1s\n",
      "[CV] END max_depth=30, min_samples_leaf=1, min_samples_split=5; total time=   0.1s\n",
      "[CV] END max_depth=30, min_samples_leaf=1, min_samples_split=10; total time=   0.1s\n",
      "[CV] END max_depth=30, min_samples_leaf=1, min_samples_split=10; total time=   0.1s\n",
      "[CV] END max_depth=30, min_samples_leaf=1, min_samples_split=10; total time=   0.1s\n",
      "[CV] END max_depth=30, min_samples_leaf=2, min_samples_split=2; total time=   0.1s\n",
      "[CV] END max_depth=30, min_samples_leaf=2, min_samples_split=2; total time=   0.1s\n",
      "[CV] END max_depth=30, min_samples_leaf=2, min_samples_split=2; total time=   0.1s\n",
      "[CV] END max_depth=30, min_samples_leaf=2, min_samples_split=5; total time=   0.1s\n",
      "[CV] END max_depth=30, min_samples_leaf=2, min_samples_split=5; total time=   0.1s\n",
      "[CV] END max_depth=30, min_samples_leaf=2, min_samples_split=5; total time=   0.1s\n",
      "[CV] END max_depth=30, min_samples_leaf=2, min_samples_split=10; total time=   0.1s\n",
      "[CV] END max_depth=30, min_samples_leaf=2, min_samples_split=10; total time=   0.1s\n",
      "[CV] END max_depth=30, min_samples_leaf=2, min_samples_split=10; total time=   0.1s\n",
      "[CV] END max_depth=30, min_samples_leaf=4, min_samples_split=2; total time=   0.1s\n",
      "[CV] END max_depth=30, min_samples_leaf=4, min_samples_split=2; total time=   0.1s\n",
      "[CV] END max_depth=30, min_samples_leaf=4, min_samples_split=2; total time=   0.1s\n",
      "[CV] END max_depth=30, min_samples_leaf=4, min_samples_split=5; total time=   0.1s\n",
      "[CV] END max_depth=30, min_samples_leaf=4, min_samples_split=5; total time=   0.1s\n",
      "[CV] END max_depth=30, min_samples_leaf=4, min_samples_split=5; total time=   0.1s\n",
      "[CV] END max_depth=30, min_samples_leaf=4, min_samples_split=10; total time=   0.1s\n",
      "[CV] END max_depth=30, min_samples_leaf=4, min_samples_split=10; total time=   0.1s\n",
      "[CV] END max_depth=30, min_samples_leaf=4, min_samples_split=10; total time=   0.1s\n",
      "[CV] END max_depth=40, min_samples_leaf=1, min_samples_split=2; total time=   0.1s\n",
      "[CV] END max_depth=40, min_samples_leaf=1, min_samples_split=2; total time=   0.1s\n",
      "[CV] END max_depth=40, min_samples_leaf=1, min_samples_split=2; total time=   0.1s\n",
      "[CV] END max_depth=40, min_samples_leaf=1, min_samples_split=5; total time=   0.1s\n",
      "[CV] END max_depth=40, min_samples_leaf=1, min_samples_split=5; total time=   0.1s\n",
      "[CV] END max_depth=40, min_samples_leaf=1, min_samples_split=5; total time=   0.1s\n",
      "[CV] END max_depth=40, min_samples_leaf=1, min_samples_split=10; total time=   0.1s\n",
      "[CV] END max_depth=40, min_samples_leaf=1, min_samples_split=10; total time=   0.1s\n",
      "[CV] END max_depth=40, min_samples_leaf=1, min_samples_split=10; total time=   0.1s\n",
      "[CV] END max_depth=40, min_samples_leaf=2, min_samples_split=2; total time=   0.1s\n",
      "[CV] END max_depth=40, min_samples_leaf=2, min_samples_split=2; total time=   0.1s\n",
      "[CV] END max_depth=40, min_samples_leaf=2, min_samples_split=2; total time=   0.1s\n",
      "[CV] END max_depth=40, min_samples_leaf=2, min_samples_split=5; total time=   0.1s\n",
      "[CV] END max_depth=40, min_samples_leaf=2, min_samples_split=5; total time=   0.1s\n",
      "[CV] END max_depth=40, min_samples_leaf=2, min_samples_split=5; total time=   0.1s\n",
      "[CV] END max_depth=40, min_samples_leaf=2, min_samples_split=10; total time=   0.1s\n",
      "[CV] END max_depth=40, min_samples_leaf=2, min_samples_split=10; total time=   0.1s\n",
      "[CV] END max_depth=40, min_samples_leaf=2, min_samples_split=10; total time=   0.1s\n",
      "[CV] END max_depth=40, min_samples_leaf=4, min_samples_split=2; total time=   0.1s\n",
      "[CV] END max_depth=40, min_samples_leaf=4, min_samples_split=2; total time=   0.1s\n",
      "[CV] END max_depth=40, min_samples_leaf=4, min_samples_split=2; total time=   0.1s\n",
      "[CV] END max_depth=40, min_samples_leaf=4, min_samples_split=5; total time=   0.1s\n",
      "[CV] END max_depth=40, min_samples_leaf=4, min_samples_split=5; total time=   0.1s\n",
      "[CV] END max_depth=40, min_samples_leaf=4, min_samples_split=5; total time=   0.1s\n",
      "[CV] END max_depth=40, min_samples_leaf=4, min_samples_split=10; total time=   0.1s\n",
      "[CV] END max_depth=40, min_samples_leaf=4, min_samples_split=10; total time=   0.1s\n",
      "[CV] END max_depth=40, min_samples_leaf=4, min_samples_split=10; total time=   0.1s\n",
      "[CV] END max_depth=50, min_samples_leaf=1, min_samples_split=2; total time=   0.1s\n",
      "[CV] END max_depth=50, min_samples_leaf=1, min_samples_split=2; total time=   0.1s\n",
      "[CV] END max_depth=50, min_samples_leaf=1, min_samples_split=2; total time=   0.1s\n",
      "[CV] END max_depth=50, min_samples_leaf=1, min_samples_split=5; total time=   0.1s\n",
      "[CV] END max_depth=50, min_samples_leaf=1, min_samples_split=5; total time=   0.1s\n",
      "[CV] END max_depth=50, min_samples_leaf=1, min_samples_split=5; total time=   0.1s\n",
      "[CV] END max_depth=50, min_samples_leaf=1, min_samples_split=10; total time=   0.1s\n",
      "[CV] END max_depth=50, min_samples_leaf=1, min_samples_split=10; total time=   0.1s\n",
      "[CV] END max_depth=50, min_samples_leaf=1, min_samples_split=10; total time=   0.1s\n",
      "[CV] END max_depth=50, min_samples_leaf=2, min_samples_split=2; total time=   0.1s\n",
      "[CV] END max_depth=50, min_samples_leaf=2, min_samples_split=2; total time=   0.1s\n",
      "[CV] END max_depth=50, min_samples_leaf=2, min_samples_split=2; total time=   0.1s\n",
      "[CV] END max_depth=50, min_samples_leaf=2, min_samples_split=5; total time=   0.1s\n",
      "[CV] END max_depth=50, min_samples_leaf=2, min_samples_split=5; total time=   0.1s\n",
      "[CV] END max_depth=50, min_samples_leaf=2, min_samples_split=5; total time=   0.1s\n",
      "[CV] END max_depth=50, min_samples_leaf=2, min_samples_split=10; total time=   0.1s\n",
      "[CV] END max_depth=50, min_samples_leaf=2, min_samples_split=10; total time=   0.1s\n",
      "[CV] END max_depth=50, min_samples_leaf=2, min_samples_split=10; total time=   0.1s\n",
      "[CV] END max_depth=50, min_samples_leaf=4, min_samples_split=2; total time=   0.1s\n",
      "[CV] END max_depth=50, min_samples_leaf=4, min_samples_split=2; total time=   0.1s\n",
      "[CV] END max_depth=50, min_samples_leaf=4, min_samples_split=2; total time=   0.1s\n",
      "[CV] END max_depth=50, min_samples_leaf=4, min_samples_split=5; total time=   0.1s\n",
      "[CV] END max_depth=50, min_samples_leaf=4, min_samples_split=5; total time=   0.1s\n",
      "[CV] END max_depth=50, min_samples_leaf=4, min_samples_split=5; total time=   0.1s\n",
      "[CV] END max_depth=50, min_samples_leaf=4, min_samples_split=10; total time=   0.1s\n",
      "[CV] END max_depth=50, min_samples_leaf=4, min_samples_split=10; total time=   0.1s\n",
      "[CV] END max_depth=50, min_samples_leaf=4, min_samples_split=10; total time=   0.1s\n"
     ]
    },
    {
     "data": {
      "text/plain": [
       "{'min_samples_split': 5, 'min_samples_leaf': 1, 'max_depth': 10}"
      ]
     },
     "execution_count": 7,
     "metadata": {},
     "output_type": "execute_result"
    }
   ],
   "source": [
    "from sklearn.model_selection import RandomizedSearchCV  \n",
    "param_dist = {\n",
    "    'max_depth': [None, 10, 20, 30, 40, 50],\n",
    "    'min_samples_split': [2, 5, 10],\n",
    "    'min_samples_leaf': [1, 2, 4],\n",
    "}\n",
    "dt = DecisionTreeClassifier(random_state=42)\n",
    "dt_random_search = RandomizedSearchCV(estimator=dt, param_distributions=param_dist, n_iter=100, cv=3, verbose=2, random_state=42, n_jobs=-1)\n",
    "dt_random_search.fit(X_train, y_train)\n",
    "best_params = dt_random_search.best_params_\n",
    "best_params"
   ]
  },
  {
   "cell_type": "code",
   "execution_count": 52,
   "metadata": {},
   "outputs": [
    {
     "name": "stdout",
     "output_type": "stream",
     "text": [
      "Accuracy: 0.9650660412294778\n"
     ]
    }
   ],
   "source": [
    "dt = DecisionTreeClassifier(random_state=42, min_samples_split=5, min_samples_leaf= 1, max_depth = 10)\n",
    "dt.fit(X_train, y_train)\n",
    "dt_pred = dt.predict(X_train)\n",
    "accuracy_dt_train = accuracy_score(y_train, dt_pred)\n",
    "print(\"Accuracy:\",accuracy_dt_train)"
   ]
  },
  {
   "cell_type": "code",
   "execution_count": null,
   "metadata": {},
   "outputs": [],
   "source": [
    "#Confusion Matrix for Decision Tree\n",
    "cm_DT = confusion_matrix(y_test, dt_pred)\n",
    "confusion_matrix_display = px.imshow(cm_DT, color_continuous_scale='Blues')\n",
    "confusion_matrix_display.update_layout(title='Confusion Matrix for Decision Tree', xaxis_title='Predicted', yaxis_title='Actual')\n",
    "confusion_matrix_display.show()"
   ]
  },
  {
   "cell_type": "markdown",
   "metadata": {},
   "source": [
    "## Random Forest"
   ]
  },
  {
   "cell_type": "code",
   "execution_count": 53,
   "metadata": {},
   "outputs": [
    {
     "name": "stdout",
     "output_type": "stream",
     "text": [
      "Accuracy: 1.0\n"
     ]
    }
   ],
   "source": [
    "from sklearn.ensemble import RandomForestClassifier\n",
    "rf = RandomForestClassifier(random_state=30)\n",
    "rf.fit(X_train, y_train)\n",
    "rf_pred = rf.predict(X_train)\n",
    "print(\"Accuracy:\", accuracy_score(y_train, rf_pred))"
   ]
  },
  {
   "cell_type": "code",
   "execution_count": 54,
   "metadata": {},
   "outputs": [
    {
     "data": {
      "text/plain": [
       "{'n_estimators': 100,\n",
       " 'min_samples_split': 2,\n",
       " 'min_samples_leaf': 1,\n",
       " 'max_depth': 20}"
      ]
     },
     "execution_count": 54,
     "metadata": {},
     "output_type": "execute_result"
    }
   ],
   "source": [
    "from sklearn.model_selection import RandomizedSearchCV\n",
    "param_dist = {\n",
    "    'n_estimators': [90,100,110],\n",
    "    'max_depth': [None, 10, 20, 30],\n",
    "    'min_samples_split': [2, 5, 10],\n",
    "    'min_samples_leaf': [1, 2, 4]\n",
    "}\n",
    "rf = RandomForestClassifier(random_state=30)\n",
    "rf_random = RandomizedSearchCV(estimator=rf, param_distributions=param_dist, \n",
    "                               n_iter=100, cv=5, n_jobs=-1, scoring= 'accuracy')\n",
    "rf_random.fit(X_train, y_train)\n",
    "rf_random.best_params_\n"
   ]
  },
  {
   "cell_type": "code",
   "execution_count": 55,
   "metadata": {},
   "outputs": [
    {
     "name": "stdout",
     "output_type": "stream",
     "text": [
      "Accuracy: 1.0\n"
     ]
    }
   ],
   "source": [
    "from sklearn.ensemble import RandomForestClassifier\n",
    "rf = RandomForestClassifier(random_state=30, n_estimators=100, \n",
    "                            min_samples_split=2, \n",
    "                            min_samples_leaf=1, \n",
    "                            max_depth=20)\n",
    "rf.fit(X_train, y_train)\n",
    "rf_pred = rf.predict(X_train)\n",
    "accuracy_rf_train = accuracy_score(y_train, rf_pred)\n",
    "print(\"Accuracy:\", accuracy_rf_train)"
   ]
  },
  {
   "cell_type": "code",
   "execution_count": null,
   "metadata": {},
   "outputs": [],
   "source": [
    "# BEGIN: Visualizing Feature Importance of Random Forest\n",
    "import plotly.express as px\n",
    "rf.fit(X_train, y_train)\n",
    "importances = rf.feature_importances_\n",
    "# Get feature importances from the Random Forest model\n",
    "importances = rf.feature_importances_\n",
    "feature_names = X.columns\n",
    "\n",
    "# Create a DataFrame for visualization\n",
    "importance_df = pd.DataFrame({'Feature': feature_names, 'Importance': importances})\n",
    "importance_df = importance_df.sort_values(by='Importance', ascending=False)\n",
    "\n",
    "# Plotting\n",
    "fig = px.bar(importance_df, x='Importance', y='Feature', title='Feature Importance of Random Forest Model', orientation='h')\n",
    "fig.show()"
   ]
  },
  {
   "cell_type": "markdown",
   "metadata": {},
   "source": [
    "## Logistic Regression"
   ]
  },
  {
   "cell_type": "code",
   "execution_count": null,
   "metadata": {},
   "outputs": [],
   "source": [
    "#Accuracy Score\n",
    "print(\"Accuracy:\", accuracy_score(y_test, y_pred))"
   ]
  },
  {
   "cell_type": "code",
   "execution_count": 58,
   "metadata": {},
   "outputs": [
    {
     "name": "stdout",
     "output_type": "stream",
     "text": [
      "Best Logistic Regression Params: {'C': 1, 'penalty': 'l2', 'solver': 'lbfgs'}\n"
     ]
    },
    {
     "name": "stderr",
     "output_type": "stream",
     "text": [
      "/Users/apple/Library/Python/3.9/lib/python/site-packages/sklearn/model_selection/_validation.py:528: FitFailedWarning: \n",
      "25 fits failed out of a total of 100.\n",
      "The score on these train-test partitions for these parameters will be set to nan.\n",
      "If these failures are not expected, you can try to debug them by setting error_score='raise'.\n",
      "\n",
      "Below are more details about the failures:\n",
      "--------------------------------------------------------------------------------\n",
      "25 fits failed with the following error:\n",
      "Traceback (most recent call last):\n",
      "  File \"/Users/apple/Library/Python/3.9/lib/python/site-packages/sklearn/model_selection/_validation.py\", line 866, in _fit_and_score\n",
      "    estimator.fit(X_train, y_train, **fit_params)\n",
      "  File \"/Users/apple/Library/Python/3.9/lib/python/site-packages/sklearn/base.py\", line 1389, in wrapper\n",
      "    return fit_method(estimator, *args, **kwargs)\n",
      "  File \"/Users/apple/Library/Python/3.9/lib/python/site-packages/sklearn/linear_model/_logistic.py\", line 1193, in fit\n",
      "    solver = _check_solver(self.solver, self.penalty, self.dual)\n",
      "  File \"/Users/apple/Library/Python/3.9/lib/python/site-packages/sklearn/linear_model/_logistic.py\", line 63, in _check_solver\n",
      "    raise ValueError(\n",
      "ValueError: Solver lbfgs supports only 'l2' or None penalties, got l1 penalty.\n",
      "\n",
      "  warnings.warn(some_fits_failed_message, FitFailedWarning)\n",
      "/Users/apple/Library/Python/3.9/lib/python/site-packages/sklearn/model_selection/_search.py:1108: UserWarning: One or more of the test scores are non-finite: [0.8852894         nan 0.89827809 0.8945863  0.90798502        nan\n",
      " 0.90894252 0.9085324  0.91208693        nan 0.91195022 0.91222363\n",
      " 0.91112952        nan 0.91126632 0.91126641 0.91099282        nan\n",
      " 0.91099282 0.91099291]\n",
      "  warnings.warn(\n"
     ]
    }
   ],
   "source": [
    "log_reg_param_grid = {\n",
    "    'C': [0.01, 0.1, 1, 10, 100],\n",
    "    'penalty': ['l1','l2'],\n",
    "    'solver': ['liblinear', 'lbfgs']\n",
    "}\n",
    "\n",
    "log_reg_grid = GridSearchCV(LogisticRegression(max_iter=1000), log_reg_param_grid, cv=5, scoring='accuracy')\n",
    "log_reg_grid.fit(X_train_scaled, y_train_scaled)\n",
    "\n",
    "print(\"Best Logistic Regression Params:\", log_reg_grid.best_params_)\n"
   ]
  },
  {
   "cell_type": "code",
   "execution_count": 59,
   "metadata": {},
   "outputs": [
    {
     "name": "stdout",
     "output_type": "stream",
     "text": [
      "Accuracy : 0.9294696555494806\n"
     ]
    }
   ],
   "source": [
    "from sklearn.metrics import accuracy_score\n",
    "model = LogisticRegression(C=1, penalty='l2', solver='lbfgs', max_iter=1000)\n",
    "model.fit(X_train_scaled, y_train_scaled)\n",
    "y_pred = model.predict(X_test_scaled)\n",
    "accuracy_lr_train = accuracy_score(y_test_scaled, y_pred)\n",
    "print(\"Accuracy :\", accuracy_lr_train)\n"
   ]
  },
  {
   "cell_type": "markdown",
   "metadata": {},
   "source": [
    "## SVM"
   ]
  },
  {
   "cell_type": "code",
   "execution_count": 61,
   "metadata": {},
   "outputs": [
    {
     "name": "stdout",
     "output_type": "stream",
     "text": [
      "Best SVM Params: {'kernel': 'rbf', 'gamma': 'auto', 'C': 10}\n"
     ]
    }
   ],
   "source": [
    "from sklearn.svm import SVC\n",
    "\n",
    "svm_param_grid = {\n",
    "    'C': [0.1, 1, 10, 100],\n",
    "    'kernel': ['linear', 'rbf', 'poly'],\n",
    "    'gamma': ['scale', 'auto', 0.01, 0.1,1]\n",
    "}\n",
    "\n",
    "svm_grid = RandomizedSearchCV(SVC(), svm_param_grid, cv=5,n_iter= 20, scoring='accuracy')\n",
    "svm_grid.fit(X_train_scaled, y_train_scaled)\n",
    "\n",
    "print(\"Best SVM Params:\", svm_grid.best_params_)\n"
   ]
  },
  {
   "cell_type": "code",
   "execution_count": 62,
   "metadata": {},
   "outputs": [
    {
     "name": "stdout",
     "output_type": "stream",
     "text": [
      "Accuracy: 0.961033634126333\n"
     ]
    }
   ],
   "source": [
    "from sklearn.svm import SVC\n",
    "svm_model = SVC(random_state=42, kernel='rbf', C=10, gamma='auto')\n",
    "svm_model.fit(X_train_scaled, y_train_scaled)\n",
    "y_pred_svm = svm_model.predict(X_train_scaled)\n",
    "accuracy_svm_train = accuracy_score(y_train_scaled, y_pred_svm)\n",
    "print(\"Accuracy:\", accuracy_svm_train)"
   ]
  },
  {
   "cell_type": "markdown",
   "metadata": {},
   "source": [
    "## Accuracy Summary of all Classification Models"
   ]
  },
  {
   "cell_type": "code",
   "execution_count": 67,
   "metadata": {},
   "outputs": [
    {
     "name": "stdout",
     "output_type": "stream",
     "text": [
      "                 Model  Test Accuracy\n",
      "0                  KNN       1.000000\n",
      "1        Random Forest       1.000000\n",
      "2        Decision Tree       0.965066\n",
      "3                  SVM       0.961034\n",
      "4  Logistic Regression       0.929470\n"
     ]
    }
   ],
   "source": [
    "import pandas as pd\n",
    "\n",
    "results = {\n",
    "    \"Model\": [\"KNN\", \"Decision Tree\", \"Random Forest\", \"Logistic Regression\", \"SVM\"],\n",
    "\n",
    "    \"Test Accuracy\": [\n",
    "        accuracy_knn_train,\n",
    "        accuracy_dt_train,\n",
    "        accuracy_rf_train,\n",
    "        accuracy_lr_train,\n",
    "        accuracy_svm_train]\n",
    "    \n",
    "}\n",
    "\n",
    "summary_df = pd.DataFrame(results)\n",
    "summary_df = summary_df.sort_values(by=\"Test Accuracy\", ascending=False).reset_index(drop=True)\n",
    "print(summary_df)\n"
   ]
  },
  {
   "cell_type": "markdown",
   "metadata": {},
   "source": [
    "## Applying Test Split in these models"
   ]
  },
  {
   "cell_type": "markdown",
   "metadata": {},
   "source": [
    "## KNN"
   ]
  },
  {
   "cell_type": "code",
   "execution_count": 68,
   "metadata": {},
   "outputs": [
    {
     "name": "stdout",
     "output_type": "stream",
     "text": [
      "Accuracy : 0.90\n"
     ]
    }
   ],
   "source": [
    "knn = KNeighborsClassifier(n_neighbors=5, weights='distance', metric='manhattan')\n",
    "knn.fit(X_train_scaled, y_train_scaled)\n",
    "y_pred_train = knn.predict(X_test_scaled)\n",
    "accuracy_knn_test = accuracy_score(y_test_scaled, y_pred_train)\n",
    "print(f\"Accuracy : {accuracy_knn_test:.2f}\")"
   ]
  },
  {
   "cell_type": "markdown",
   "metadata": {},
   "source": [
    "## Decision Tree"
   ]
  },
  {
   "cell_type": "code",
   "execution_count": 69,
   "metadata": {},
   "outputs": [
    {
     "name": "stdout",
     "output_type": "stream",
     "text": [
      "Accuracy: 0.9136229022704837\n"
     ]
    }
   ],
   "source": [
    "dt = DecisionTreeClassifier(random_state=42, min_samples_split=5, min_samples_leaf= 1, max_depth = 10)\n",
    "dt.fit(X_train, y_train)\n",
    "dt_pred = dt.predict(X_test)\n",
    "accuracy_dt_test = accuracy_score(y_test, dt_pred)\n",
    "print(\"Accuracy:\",accuracy_dt_test)"
   ]
  },
  {
   "cell_type": "markdown",
   "metadata": {},
   "source": [
    "## Random Forest"
   ]
  },
  {
   "cell_type": "code",
   "execution_count": 70,
   "metadata": {},
   "outputs": [
    {
     "name": "stdout",
     "output_type": "stream",
     "text": [
      "Accuracy: 0.9397828232971372\n"
     ]
    }
   ],
   "source": [
    "from sklearn.ensemble import RandomForestClassifier\n",
    "rf = RandomForestClassifier(random_state=30, n_estimators=100, \n",
    "                            min_samples_split=2, \n",
    "                            min_samples_leaf=1, \n",
    "                            max_depth=20)\n",
    "rf.fit(X_train, y_train)\n",
    "rf_pred = rf.predict(X_test)\n",
    "accuracy_rf_test = accuracy_score(y_test, rf_pred)\n",
    "print(\"Accuracy:\", accuracy_rf_test)"
   ]
  },
  {
   "cell_type": "code",
   "execution_count": null,
   "metadata": {},
   "outputs": [],
   "source": []
  }
 ],
 "metadata": {
  "kernelspec": {
   "display_name": "Python 3",
   "language": "python",
   "name": "python3"
  },
  "language_info": {
   "codemirror_mode": {
    "name": "ipython",
    "version": 3
   },
   "file_extension": ".py",
   "mimetype": "text/x-python",
   "name": "python",
   "nbconvert_exporter": "python",
   "pygments_lexer": "ipython3",
   "version": "3.9.6"
  }
 },
 "nbformat": 4,
 "nbformat_minor": 2
}
