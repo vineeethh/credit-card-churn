{
 "cells": [
  {
   "cell_type": "code",
   "execution_count": 11,
   "metadata": {},
   "outputs": [],
   "source": [
    "import pandas as pd\n",
    "import os\n",
    "os.chdir(r\"/Users/apple/Documents/Credit_Card_Churn_Model_Local/credit-card-churn\")"
   ]
  },
  {
   "cell_type": "code",
   "execution_count": 13,
   "metadata": {},
   "outputs": [
    {
     "data": {
      "text/html": [
       "<div>\n",
       "<style scoped>\n",
       "    .dataframe tbody tr th:only-of-type {\n",
       "        vertical-align: middle;\n",
       "    }\n",
       "\n",
       "    .dataframe tbody tr th {\n",
       "        vertical-align: top;\n",
       "    }\n",
       "\n",
       "    .dataframe thead th {\n",
       "        text-align: right;\n",
       "    }\n",
       "</style>\n",
       "<table border=\"1\" class=\"dataframe\">\n",
       "  <thead>\n",
       "    <tr style=\"text-align: right;\">\n",
       "      <th></th>\n",
       "      <th>Attrition_Flag</th>\n",
       "      <th>Customer_Age</th>\n",
       "      <th>Gender</th>\n",
       "      <th>Dependent_count</th>\n",
       "      <th>Education_Level</th>\n",
       "      <th>Income_Category</th>\n",
       "      <th>Card_Category</th>\n",
       "      <th>Months_on_book</th>\n",
       "      <th>Total_Relationship_Count</th>\n",
       "      <th>Months_Inactive_12_mon</th>\n",
       "      <th>...</th>\n",
       "      <th>Total_Revolving_Bal</th>\n",
       "      <th>Avg_Open_To_Buy</th>\n",
       "      <th>Total_Amt_Chng_Q4_Q1</th>\n",
       "      <th>Total_Trans_Amt</th>\n",
       "      <th>Total_Trans_Ct</th>\n",
       "      <th>Total_Ct_Chng_Q4_Q1</th>\n",
       "      <th>Avg_Utilization_Ratio</th>\n",
       "      <th>Married</th>\n",
       "      <th>Single</th>\n",
       "      <th>Unknown</th>\n",
       "    </tr>\n",
       "  </thead>\n",
       "  <tbody>\n",
       "    <tr>\n",
       "      <th>0</th>\n",
       "      <td>0</td>\n",
       "      <td>45</td>\n",
       "      <td>0.0</td>\n",
       "      <td>3</td>\n",
       "      <td>1</td>\n",
       "      <td>3</td>\n",
       "      <td>1</td>\n",
       "      <td>39</td>\n",
       "      <td>5</td>\n",
       "      <td>1</td>\n",
       "      <td>...</td>\n",
       "      <td>777</td>\n",
       "      <td>12691.0</td>\n",
       "      <td>11914.0</td>\n",
       "      <td>1144</td>\n",
       "      <td>42</td>\n",
       "      <td>1.335</td>\n",
       "      <td>1.625</td>\n",
       "      <td>1</td>\n",
       "      <td>0</td>\n",
       "      <td>0</td>\n",
       "    </tr>\n",
       "    <tr>\n",
       "      <th>1</th>\n",
       "      <td>0</td>\n",
       "      <td>49</td>\n",
       "      <td>1.0</td>\n",
       "      <td>5</td>\n",
       "      <td>3</td>\n",
       "      <td>1</td>\n",
       "      <td>1</td>\n",
       "      <td>44</td>\n",
       "      <td>6</td>\n",
       "      <td>1</td>\n",
       "      <td>...</td>\n",
       "      <td>864</td>\n",
       "      <td>8256.0</td>\n",
       "      <td>7392.0</td>\n",
       "      <td>1291</td>\n",
       "      <td>33</td>\n",
       "      <td>1.541</td>\n",
       "      <td>3.714</td>\n",
       "      <td>0</td>\n",
       "      <td>1</td>\n",
       "      <td>0</td>\n",
       "    </tr>\n",
       "    <tr>\n",
       "      <th>2</th>\n",
       "      <td>0</td>\n",
       "      <td>51</td>\n",
       "      <td>0.0</td>\n",
       "      <td>3</td>\n",
       "      <td>3</td>\n",
       "      <td>4</td>\n",
       "      <td>1</td>\n",
       "      <td>36</td>\n",
       "      <td>4</td>\n",
       "      <td>1</td>\n",
       "      <td>...</td>\n",
       "      <td>0</td>\n",
       "      <td>3418.0</td>\n",
       "      <td>3418.0</td>\n",
       "      <td>1887</td>\n",
       "      <td>20</td>\n",
       "      <td>2.594</td>\n",
       "      <td>2.333</td>\n",
       "      <td>1</td>\n",
       "      <td>0</td>\n",
       "      <td>0</td>\n",
       "    </tr>\n",
       "    <tr>\n",
       "      <th>3</th>\n",
       "      <td>0</td>\n",
       "      <td>40</td>\n",
       "      <td>1.0</td>\n",
       "      <td>4</td>\n",
       "      <td>1</td>\n",
       "      <td>1</td>\n",
       "      <td>1</td>\n",
       "      <td>34</td>\n",
       "      <td>3</td>\n",
       "      <td>4</td>\n",
       "      <td>...</td>\n",
       "      <td>2517</td>\n",
       "      <td>3313.0</td>\n",
       "      <td>796.0</td>\n",
       "      <td>1171</td>\n",
       "      <td>20</td>\n",
       "      <td>1.405</td>\n",
       "      <td>2.333</td>\n",
       "      <td>0</td>\n",
       "      <td>0</td>\n",
       "      <td>1</td>\n",
       "    </tr>\n",
       "    <tr>\n",
       "      <th>4</th>\n",
       "      <td>0</td>\n",
       "      <td>40</td>\n",
       "      <td>0.0</td>\n",
       "      <td>3</td>\n",
       "      <td>0</td>\n",
       "      <td>3</td>\n",
       "      <td>1</td>\n",
       "      <td>21</td>\n",
       "      <td>5</td>\n",
       "      <td>1</td>\n",
       "      <td>...</td>\n",
       "      <td>0</td>\n",
       "      <td>4716.0</td>\n",
       "      <td>4716.0</td>\n",
       "      <td>816</td>\n",
       "      <td>28</td>\n",
       "      <td>2.175</td>\n",
       "      <td>2.500</td>\n",
       "      <td>1</td>\n",
       "      <td>0</td>\n",
       "      <td>0</td>\n",
       "    </tr>\n",
       "  </tbody>\n",
       "</table>\n",
       "<p>5 rows × 22 columns</p>\n",
       "</div>"
      ],
      "text/plain": [
       "   Attrition_Flag  Customer_Age  Gender  Dependent_count  Education_Level  \\\n",
       "0               0            45     0.0                3                1   \n",
       "1               0            49     1.0                5                3   \n",
       "2               0            51     0.0                3                3   \n",
       "3               0            40     1.0                4                1   \n",
       "4               0            40     0.0                3                0   \n",
       "\n",
       "   Income_Category  Card_Category  Months_on_book  Total_Relationship_Count  \\\n",
       "0                3              1              39                         5   \n",
       "1                1              1              44                         6   \n",
       "2                4              1              36                         4   \n",
       "3                1              1              34                         3   \n",
       "4                3              1              21                         5   \n",
       "\n",
       "   Months_Inactive_12_mon  ...  Total_Revolving_Bal  Avg_Open_To_Buy  \\\n",
       "0                       1  ...                  777          12691.0   \n",
       "1                       1  ...                  864           8256.0   \n",
       "2                       1  ...                    0           3418.0   \n",
       "3                       4  ...                 2517           3313.0   \n",
       "4                       1  ...                    0           4716.0   \n",
       "\n",
       "   Total_Amt_Chng_Q4_Q1  Total_Trans_Amt  Total_Trans_Ct  Total_Ct_Chng_Q4_Q1  \\\n",
       "0               11914.0             1144              42                1.335   \n",
       "1                7392.0             1291              33                1.541   \n",
       "2                3418.0             1887              20                2.594   \n",
       "3                 796.0             1171              20                1.405   \n",
       "4                4716.0              816              28                2.175   \n",
       "\n",
       "   Avg_Utilization_Ratio  Married  Single  Unknown  \n",
       "0                  1.625        1       0        0  \n",
       "1                  3.714        0       1        0  \n",
       "2                  2.333        1       0        0  \n",
       "3                  2.333        0       0        1  \n",
       "4                  2.500        1       0        0  \n",
       "\n",
       "[5 rows x 22 columns]"
      ]
     },
     "execution_count": 13,
     "metadata": {},
     "output_type": "execute_result"
    }
   ],
   "source": [
    "#Initialising Dataset\n",
    "\n",
    "data = pd.read_csv(\"/Users/apple/Documents/Credit_Card_Churn_Model_Local/credit-card-churn/Input/cleaned_credit_card_churn_numeric.csv\") \n",
    "data.head()"
   ]
  },
  {
   "cell_type": "code",
   "execution_count": 14,
   "metadata": {},
   "outputs": [
    {
     "data": {
      "application/vnd.plotly.v1+json": {
       "config": {
        "plotlyServerURL": "https://plot.ly"
       },
       "data": [
        {
         "coloraxis": "coloraxis",
         "hovertemplate": "Features: %{x}<br>Features: %{y}<br>Correlation: %{z}<extra></extra>",
         "name": "0",
         "type": "heatmap",
         "x": [
          "Attrition_Flag",
          "Customer_Age",
          "Gender",
          "Dependent_count",
          "Education_Level",
          "Income_Category",
          "Card_Category",
          "Months_on_book",
          "Total_Relationship_Count",
          "Months_Inactive_12_mon",
          "Contacts_Count_12_mon",
          "Credit_Limit",
          "Total_Revolving_Bal",
          "Avg_Open_To_Buy",
          "Total_Amt_Chng_Q4_Q1",
          "Total_Trans_Amt",
          "Total_Trans_Ct",
          "Total_Ct_Chng_Q4_Q1",
          "Avg_Utilization_Ratio",
          "Married",
          "Single",
          "Unknown"
         ],
         "xaxis": "x",
         "y": [
          "Attrition_Flag",
          "Customer_Age",
          "Gender",
          "Dependent_count",
          "Education_Level",
          "Income_Category",
          "Card_Category",
          "Months_on_book",
          "Total_Relationship_Count",
          "Months_Inactive_12_mon",
          "Contacts_Count_12_mon",
          "Credit_Limit",
          "Total_Revolving_Bal",
          "Avg_Open_To_Buy",
          "Total_Amt_Chng_Q4_Q1",
          "Total_Trans_Amt",
          "Total_Trans_Ct",
          "Total_Ct_Chng_Q4_Q1",
          "Avg_Utilization_Ratio",
          "Married",
          "Single",
          "Unknown"
         ],
         "yaxis": "y",
         "z": {
          "bdata": "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",
          "dtype": "f8",
          "shape": "22, 22"
         }
        }
       ],
       "layout": {
        "coloraxis": {
         "colorbar": {
          "title": {
           "text": "Correlation"
          }
         },
         "colorscale": [
          [
           0,
           "#0d0887"
          ],
          [
           0.1111111111111111,
           "#46039f"
          ],
          [
           0.2222222222222222,
           "#7201a8"
          ],
          [
           0.3333333333333333,
           "#9c179e"
          ],
          [
           0.4444444444444444,
           "#bd3786"
          ],
          [
           0.5555555555555556,
           "#d8576b"
          ],
          [
           0.6666666666666666,
           "#ed7953"
          ],
          [
           0.7777777777777778,
           "#fb9f3a"
          ],
          [
           0.8888888888888888,
           "#fdca26"
          ],
          [
           1,
           "#f0f921"
          ]
         ]
        },
        "template": {
         "data": {
          "bar": [
           {
            "error_x": {
             "color": "#2a3f5f"
            },
            "error_y": {
             "color": "#2a3f5f"
            },
            "marker": {
             "line": {
              "color": "#E5ECF6",
              "width": 0.5
             },
             "pattern": {
              "fillmode": "overlay",
              "size": 10,
              "solidity": 0.2
             }
            },
            "type": "bar"
           }
          ],
          "barpolar": [
           {
            "marker": {
             "line": {
              "color": "#E5ECF6",
              "width": 0.5
             },
             "pattern": {
              "fillmode": "overlay",
              "size": 10,
              "solidity": 0.2
             }
            },
            "type": "barpolar"
           }
          ],
          "carpet": [
           {
            "aaxis": {
             "endlinecolor": "#2a3f5f",
             "gridcolor": "white",
             "linecolor": "white",
             "minorgridcolor": "white",
             "startlinecolor": "#2a3f5f"
            },
            "baxis": {
             "endlinecolor": "#2a3f5f",
             "gridcolor": "white",
             "linecolor": "white",
             "minorgridcolor": "white",
             "startlinecolor": "#2a3f5f"
            },
            "type": "carpet"
           }
          ],
          "choropleth": [
           {
            "colorbar": {
             "outlinewidth": 0,
             "ticks": ""
            },
            "type": "choropleth"
           }
          ],
          "contour": [
           {
            "colorbar": {
             "outlinewidth": 0,
             "ticks": ""
            },
            "colorscale": [
             [
              0,
              "#0d0887"
             ],
             [
              0.1111111111111111,
              "#46039f"
             ],
             [
              0.2222222222222222,
              "#7201a8"
             ],
             [
              0.3333333333333333,
              "#9c179e"
             ],
             [
              0.4444444444444444,
              "#bd3786"
             ],
             [
              0.5555555555555556,
              "#d8576b"
             ],
             [
              0.6666666666666666,
              "#ed7953"
             ],
             [
              0.7777777777777778,
              "#fb9f3a"
             ],
             [
              0.8888888888888888,
              "#fdca26"
             ],
             [
              1,
              "#f0f921"
             ]
            ],
            "type": "contour"
           }
          ],
          "contourcarpet": [
           {
            "colorbar": {
             "outlinewidth": 0,
             "ticks": ""
            },
            "type": "contourcarpet"
           }
          ],
          "heatmap": [
           {
            "colorbar": {
             "outlinewidth": 0,
             "ticks": ""
            },
            "colorscale": [
             [
              0,
              "#0d0887"
             ],
             [
              0.1111111111111111,
              "#46039f"
             ],
             [
              0.2222222222222222,
              "#7201a8"
             ],
             [
              0.3333333333333333,
              "#9c179e"
             ],
             [
              0.4444444444444444,
              "#bd3786"
             ],
             [
              0.5555555555555556,
              "#d8576b"
             ],
             [
              0.6666666666666666,
              "#ed7953"
             ],
             [
              0.7777777777777778,
              "#fb9f3a"
             ],
             [
              0.8888888888888888,
              "#fdca26"
             ],
             [
              1,
              "#f0f921"
             ]
            ],
            "type": "heatmap"
           }
          ],
          "histogram": [
           {
            "marker": {
             "pattern": {
              "fillmode": "overlay",
              "size": 10,
              "solidity": 0.2
             }
            },
            "type": "histogram"
           }
          ],
          "histogram2d": [
           {
            "colorbar": {
             "outlinewidth": 0,
             "ticks": ""
            },
            "colorscale": [
             [
              0,
              "#0d0887"
             ],
             [
              0.1111111111111111,
              "#46039f"
             ],
             [
              0.2222222222222222,
              "#7201a8"
             ],
             [
              0.3333333333333333,
              "#9c179e"
             ],
             [
              0.4444444444444444,
              "#bd3786"
             ],
             [
              0.5555555555555556,
              "#d8576b"
             ],
             [
              0.6666666666666666,
              "#ed7953"
             ],
             [
              0.7777777777777778,
              "#fb9f3a"
             ],
             [
              0.8888888888888888,
              "#fdca26"
             ],
             [
              1,
              "#f0f921"
             ]
            ],
            "type": "histogram2d"
           }
          ],
          "histogram2dcontour": [
           {
            "colorbar": {
             "outlinewidth": 0,
             "ticks": ""
            },
            "colorscale": [
             [
              0,
              "#0d0887"
             ],
             [
              0.1111111111111111,
              "#46039f"
             ],
             [
              0.2222222222222222,
              "#7201a8"
             ],
             [
              0.3333333333333333,
              "#9c179e"
             ],
             [
              0.4444444444444444,
              "#bd3786"
             ],
             [
              0.5555555555555556,
              "#d8576b"
             ],
             [
              0.6666666666666666,
              "#ed7953"
             ],
             [
              0.7777777777777778,
              "#fb9f3a"
             ],
             [
              0.8888888888888888,
              "#fdca26"
             ],
             [
              1,
              "#f0f921"
             ]
            ],
            "type": "histogram2dcontour"
           }
          ],
          "mesh3d": [
           {
            "colorbar": {
             "outlinewidth": 0,
             "ticks": ""
            },
            "type": "mesh3d"
           }
          ],
          "parcoords": [
           {
            "line": {
             "colorbar": {
              "outlinewidth": 0,
              "ticks": ""
             }
            },
            "type": "parcoords"
           }
          ],
          "pie": [
           {
            "automargin": true,
            "type": "pie"
           }
          ],
          "scatter": [
           {
            "fillpattern": {
             "fillmode": "overlay",
             "size": 10,
             "solidity": 0.2
            },
            "type": "scatter"
           }
          ],
          "scatter3d": [
           {
            "line": {
             "colorbar": {
              "outlinewidth": 0,
              "ticks": ""
             }
            },
            "marker": {
             "colorbar": {
              "outlinewidth": 0,
              "ticks": ""
             }
            },
            "type": "scatter3d"
           }
          ],
          "scattercarpet": [
           {
            "marker": {
             "colorbar": {
              "outlinewidth": 0,
              "ticks": ""
             }
            },
            "type": "scattercarpet"
           }
          ],
          "scattergeo": [
           {
            "marker": {
             "colorbar": {
              "outlinewidth": 0,
              "ticks": ""
             }
            },
            "type": "scattergeo"
           }
          ],
          "scattergl": [
           {
            "marker": {
             "colorbar": {
              "outlinewidth": 0,
              "ticks": ""
             }
            },
            "type": "scattergl"
           }
          ],
          "scattermap": [
           {
            "marker": {
             "colorbar": {
              "outlinewidth": 0,
              "ticks": ""
             }
            },
            "type": "scattermap"
           }
          ],
          "scattermapbox": [
           {
            "marker": {
             "colorbar": {
              "outlinewidth": 0,
              "ticks": ""
             }
            },
            "type": "scattermapbox"
           }
          ],
          "scatterpolar": [
           {
            "marker": {
             "colorbar": {
              "outlinewidth": 0,
              "ticks": ""
             }
            },
            "type": "scatterpolar"
           }
          ],
          "scatterpolargl": [
           {
            "marker": {
             "colorbar": {
              "outlinewidth": 0,
              "ticks": ""
             }
            },
            "type": "scatterpolargl"
           }
          ],
          "scatterternary": [
           {
            "marker": {
             "colorbar": {
              "outlinewidth": 0,
              "ticks": ""
             }
            },
            "type": "scatterternary"
           }
          ],
          "surface": [
           {
            "colorbar": {
             "outlinewidth": 0,
             "ticks": ""
            },
            "colorscale": [
             [
              0,
              "#0d0887"
             ],
             [
              0.1111111111111111,
              "#46039f"
             ],
             [
              0.2222222222222222,
              "#7201a8"
             ],
             [
              0.3333333333333333,
              "#9c179e"
             ],
             [
              0.4444444444444444,
              "#bd3786"
             ],
             [
              0.5555555555555556,
              "#d8576b"
             ],
             [
              0.6666666666666666,
              "#ed7953"
             ],
             [
              0.7777777777777778,
              "#fb9f3a"
             ],
             [
              0.8888888888888888,
              "#fdca26"
             ],
             [
              1,
              "#f0f921"
             ]
            ],
            "type": "surface"
           }
          ],
          "table": [
           {
            "cells": {
             "fill": {
              "color": "#EBF0F8"
             },
             "line": {
              "color": "white"
             }
            },
            "header": {
             "fill": {
              "color": "#C8D4E3"
             },
             "line": {
              "color": "white"
             }
            },
            "type": "table"
           }
          ]
         },
         "layout": {
          "annotationdefaults": {
           "arrowcolor": "#2a3f5f",
           "arrowhead": 0,
           "arrowwidth": 1
          },
          "autotypenumbers": "strict",
          "coloraxis": {
           "colorbar": {
            "outlinewidth": 0,
            "ticks": ""
           }
          },
          "colorscale": {
           "diverging": [
            [
             0,
             "#8e0152"
            ],
            [
             0.1,
             "#c51b7d"
            ],
            [
             0.2,
             "#de77ae"
            ],
            [
             0.3,
             "#f1b6da"
            ],
            [
             0.4,
             "#fde0ef"
            ],
            [
             0.5,
             "#f7f7f7"
            ],
            [
             0.6,
             "#e6f5d0"
            ],
            [
             0.7,
             "#b8e186"
            ],
            [
             0.8,
             "#7fbc41"
            ],
            [
             0.9,
             "#4d9221"
            ],
            [
             1,
             "#276419"
            ]
           ],
           "sequential": [
            [
             0,
             "#0d0887"
            ],
            [
             0.1111111111111111,
             "#46039f"
            ],
            [
             0.2222222222222222,
             "#7201a8"
            ],
            [
             0.3333333333333333,
             "#9c179e"
            ],
            [
             0.4444444444444444,
             "#bd3786"
            ],
            [
             0.5555555555555556,
             "#d8576b"
            ],
            [
             0.6666666666666666,
             "#ed7953"
            ],
            [
             0.7777777777777778,
             "#fb9f3a"
            ],
            [
             0.8888888888888888,
             "#fdca26"
            ],
            [
             1,
             "#f0f921"
            ]
           ],
           "sequentialminus": [
            [
             0,
             "#0d0887"
            ],
            [
             0.1111111111111111,
             "#46039f"
            ],
            [
             0.2222222222222222,
             "#7201a8"
            ],
            [
             0.3333333333333333,
             "#9c179e"
            ],
            [
             0.4444444444444444,
             "#bd3786"
            ],
            [
             0.5555555555555556,
             "#d8576b"
            ],
            [
             0.6666666666666666,
             "#ed7953"
            ],
            [
             0.7777777777777778,
             "#fb9f3a"
            ],
            [
             0.8888888888888888,
             "#fdca26"
            ],
            [
             1,
             "#f0f921"
            ]
           ]
          },
          "colorway": [
           "#636efa",
           "#EF553B",
           "#00cc96",
           "#ab63fa",
           "#FFA15A",
           "#19d3f3",
           "#FF6692",
           "#B6E880",
           "#FF97FF",
           "#FECB52"
          ],
          "font": {
           "color": "#2a3f5f"
          },
          "geo": {
           "bgcolor": "white",
           "lakecolor": "white",
           "landcolor": "#E5ECF6",
           "showlakes": true,
           "showland": true,
           "subunitcolor": "white"
          },
          "hoverlabel": {
           "align": "left"
          },
          "hovermode": "closest",
          "mapbox": {
           "style": "light"
          },
          "paper_bgcolor": "white",
          "plot_bgcolor": "#E5ECF6",
          "polar": {
           "angularaxis": {
            "gridcolor": "white",
            "linecolor": "white",
            "ticks": ""
           },
           "bgcolor": "#E5ECF6",
           "radialaxis": {
            "gridcolor": "white",
            "linecolor": "white",
            "ticks": ""
           }
          },
          "scene": {
           "xaxis": {
            "backgroundcolor": "#E5ECF6",
            "gridcolor": "white",
            "gridwidth": 2,
            "linecolor": "white",
            "showbackground": true,
            "ticks": "",
            "zerolinecolor": "white"
           },
           "yaxis": {
            "backgroundcolor": "#E5ECF6",
            "gridcolor": "white",
            "gridwidth": 2,
            "linecolor": "white",
            "showbackground": true,
            "ticks": "",
            "zerolinecolor": "white"
           },
           "zaxis": {
            "backgroundcolor": "#E5ECF6",
            "gridcolor": "white",
            "gridwidth": 2,
            "linecolor": "white",
            "showbackground": true,
            "ticks": "",
            "zerolinecolor": "white"
           }
          },
          "shapedefaults": {
           "line": {
            "color": "#2a3f5f"
           }
          },
          "ternary": {
           "aaxis": {
            "gridcolor": "white",
            "linecolor": "white",
            "ticks": ""
           },
           "baxis": {
            "gridcolor": "white",
            "linecolor": "white",
            "ticks": ""
           },
           "bgcolor": "#E5ECF6",
           "caxis": {
            "gridcolor": "white",
            "linecolor": "white",
            "ticks": ""
           }
          },
          "title": {
           "x": 0.05
          },
          "xaxis": {
           "automargin": true,
           "gridcolor": "white",
           "linecolor": "white",
           "ticks": "",
           "title": {
            "standoff": 15
           },
           "zerolinecolor": "white",
           "zerolinewidth": 2
          },
          "yaxis": {
           "automargin": true,
           "gridcolor": "white",
           "linecolor": "white",
           "ticks": "",
           "title": {
            "standoff": 15
           },
           "zerolinecolor": "white",
           "zerolinewidth": 2
          }
         }
        },
        "title": {
         "text": "Heatmap of Feature Correlations"
        },
        "xaxis": {
         "anchor": "y",
         "constrain": "domain",
         "domain": [
          0,
          1
         ],
         "scaleanchor": "y",
         "title": {
          "text": "Features"
         }
        },
        "yaxis": {
         "anchor": "x",
         "autorange": "reversed",
         "constrain": "domain",
         "domain": [
          0,
          1
         ],
         "title": {
          "text": "Features"
         }
        }
       }
      }
     },
     "metadata": {},
     "output_type": "display_data"
    }
   ],
   "source": [
    "import plotly.express as px\n",
    "import plotly.graph_objects as go\n",
    "heatmap_data = data.corr()  \n",
    "fig_heatmap = px.imshow(heatmap_data, \n",
    "                         labels=dict(x=\"Features\", y=\"Features\", color=\"Correlation\"),\n",
    "                         title=\"Heatmap of Feature Correlations\")\n",
    "fig_heatmap.show()"
   ]
  },
  {
   "cell_type": "code",
   "execution_count": 18,
   "metadata": {},
   "outputs": [
    {
     "name": "stdout",
     "output_type": "stream",
     "text": [
      "           Feature_A             Feature_B  Correlation\n",
      "55            Gender          Credit_Limit    -1.000000\n",
      "300  Avg_Open_To_Buy  Total_Amt_Chng_Q4_Q1     0.995981\n",
      "346  Total_Trans_Amt        Total_Trans_Ct     0.807192\n",
      "29      Customer_Age        Months_on_book     0.788912\n",
      "49            Gender       Income_Category    -0.758460\n",
      "121  Income_Category          Credit_Limit     0.758460\n"
     ]
    }
   ],
   "source": [
    "import pandas as pd\n",
    "\n",
    "# Replace with your actual DataFrame name\n",
    "corr_matrix = data.corr(numeric_only=True)\n",
    "# Convert matrix into a list of pairs\n",
    "corr_pairs = (\n",
    "    corr_matrix\n",
    "    .unstack()\n",
    "    .dropna()\n",
    "    .reset_index()\n",
    "    .rename(columns={'level_0': 'Feature_A', 'level_1': 'Feature_B', 0: 'Correlation'})\n",
    ")\n",
    "\n",
    "# Remove self-correlations (Feature_A == Feature_B)\n",
    "corr_pairs = corr_pairs[corr_pairs['Feature_A'] != corr_pairs['Feature_B']]\n",
    "\n",
    "# Avoid duplicates (keep A-B, drop B-A)\n",
    "corr_pairs['Ordered'] = list(zip(corr_pairs[['Feature_A', 'Feature_B']].min(axis=1),\n",
    "                                 corr_pairs[['Feature_A', 'Feature_B']].max(axis=1)))\n",
    "corr_pairs = corr_pairs.drop_duplicates(subset='Ordered').drop(columns='Ordered')\n",
    "\n",
    "# Sort by absolute correlation descending\n",
    "corr_pairs = corr_pairs.reindex(corr_pairs['Correlation'].abs().sort_values(ascending=False).index)\n",
    "\n",
    "\n",
    "# Filter pairs with correlation greater than 0.85 or less than -0.85\n",
    "high_corr_pairs = corr_pairs[(corr_pairs['Correlation'] > 0.75) | (corr_pairs['Correlation'] < -0.75)]\n",
    "print(high_corr_pairs)"
   ]
  }
 ],
 "metadata": {
  "kernelspec": {
   "display_name": "Python 3",
   "language": "python",
   "name": "python3"
  },
  "language_info": {
   "codemirror_mode": {
    "name": "ipython",
    "version": 3
   },
   "file_extension": ".py",
   "mimetype": "text/x-python",
   "name": "python",
   "nbconvert_exporter": "python",
   "pygments_lexer": "ipython3",
   "version": "3.9.6"
  }
 },
 "nbformat": 4,
 "nbformat_minor": 2
}
