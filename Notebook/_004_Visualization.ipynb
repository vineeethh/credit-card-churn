{
 "cells": [
  {
   "cell_type": "markdown",
   "metadata": {},
   "source": [
    "## Visualization"
   ]
  },
  {
   "cell_type": "markdown",
   "metadata": {},
   "source": [
    "### Importing packages"
   ]
  },
  {
   "cell_type": "code",
   "execution_count": 2,
   "metadata": {},
   "outputs": [],
   "source": [
    "import pandas as pd\n",
    "import plotly.express as px\n",
    "import plotly.graph_objects as go\n",
    "from plotly.subplots import make_subplots\n",
    "import os"
   ]
  },
  {
   "cell_type": "markdown",
   "metadata": {},
   "source": [
    "### Initializing Dataset"
   ]
  },
  {
   "cell_type": "code",
   "execution_count": 4,
   "metadata": {},
   "outputs": [],
   "source": [
    "os.chdir(r\"/Users/apple/Documents/Credit_Card_Churn_Model_Local/credit-card-churn/Input\")\n",
    "data = pd.read_csv(\"/Users/apple/Documents/Credit_Card_Churn_Model_Local/credit-card-churn/Input/credit_card_churn_cleaned.csv\")\n",
    "data_scaled = pd.read_csv(\"/Users/apple/Documents/Credit_Card_Churn_Model_Local/credit-card-churn/Input/credit_card_churn_cleaned_feature_selected_scaled.csv\")"
   ]
  },
  {
   "cell_type": "code",
   "execution_count": 5,
   "metadata": {},
   "outputs": [
    {
     "data": {
      "application/vnd.plotly.v1+json": {
       "config": {
        "plotlyServerURL": "https://plot.ly"
       },
       "data": [
        {
         "coloraxis": "coloraxis",
         "hovertemplate": "x: %{x}<br>y: %{y}<br>color: %{z}<extra></extra>",
         "name": "0",
         "texttemplate": "%{z:.2f}",
         "type": "heatmap",
         "x": [
          "CLIENTNUM",
          "Attrition_Flag",
          "Gender",
          "Dependent_count",
          "Education_Level",
          "Income_Category",
          "Card_Category",
          "Months_on_book",
          "Total_Relationship_Count",
          "Months_Inactive_12_mon",
          "Contacts_Count_12_mon",
          "Credit_Limit",
          "Total_Amt_Chng_Q4_Q1",
          "Total_Trans_Ct",
          "Total_Ct_Chng_Q4_Q1",
          "Avg_Utilization_Ratio",
          "Divorced",
          "Married",
          "Single",
          "Unknown",
          "Age_Under 30",
          "Age_30-40",
          "Age_40-50",
          "Age_50-60",
          "Age_60+",
          "Total_Trans_Amt_Binned_Low",
          "Total_Trans_Amt_Binned_Medium",
          "Total_Trans_Amt_Binned_High",
          "Total_Trans_Amt_Binned_Very High",
          "Avg_Open_To_Buy_Binned_Low",
          "Avg_Open_To_Buy_Binned_Medium",
          "Avg_Open_To_Buy_Binned_High",
          "Avg_Open_To_Buy_Binned_Very High",
          "Total_Revolving_Bal_Binned_Low",
          "Total_Revolving_Bal_Binned_Medium",
          "Total_Revolving_Bal_Binned_High",
          "Total_Revolving_Bal_Binned_Very High"
         ],
         "xaxis": "x",
         "y": [
          "CLIENTNUM",
          "Attrition_Flag",
          "Gender",
          "Dependent_count",
          "Education_Level",
          "Income_Category",
          "Card_Category",
          "Months_on_book",
          "Total_Relationship_Count",
          "Months_Inactive_12_mon",
          "Contacts_Count_12_mon",
          "Credit_Limit",
          "Total_Amt_Chng_Q4_Q1",
          "Total_Trans_Ct",
          "Total_Ct_Chng_Q4_Q1",
          "Avg_Utilization_Ratio",
          "Divorced",
          "Married",
          "Single",
          "Unknown",
          "Age_Under 30",
          "Age_30-40",
          "Age_40-50",
          "Age_50-60",
          "Age_60+",
          "Total_Trans_Amt_Binned_Low",
          "Total_Trans_Amt_Binned_Medium",
          "Total_Trans_Amt_Binned_High",
          "Total_Trans_Amt_Binned_Very High",
          "Avg_Open_To_Buy_Binned_Low",
          "Avg_Open_To_Buy_Binned_Medium",
          "Avg_Open_To_Buy_Binned_High",
          "Avg_Open_To_Buy_Binned_Very High",
          "Total_Revolving_Bal_Binned_Low",
          "Total_Revolving_Bal_Binned_Medium",
          "Total_Revolving_Bal_Binned_High",
          "Total_Revolving_Bal_Binned_Very High"
         ],
         "yaxis": "y",
         "z": {
          "bdata": "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",
          "dtype": "f8",
          "shape": "37, 37"
         }
        }
       ],
       "layout": {
        "coloraxis": {
         "colorscale": [
          [
           0,
           "rgb(103,0,31)"
          ],
          [
           0.1,
           "rgb(178,24,43)"
          ],
          [
           0.2,
           "rgb(214,96,77)"
          ],
          [
           0.3,
           "rgb(244,165,130)"
          ],
          [
           0.4,
           "rgb(253,219,199)"
          ],
          [
           0.5,
           "rgb(247,247,247)"
          ],
          [
           0.6,
           "rgb(209,229,240)"
          ],
          [
           0.7,
           "rgb(146,197,222)"
          ],
          [
           0.8,
           "rgb(67,147,195)"
          ],
          [
           0.9,
           "rgb(33,102,172)"
          ],
          [
           1,
           "rgb(5,48,97)"
          ]
         ]
        },
        "height": 800,
        "template": {
         "data": {
          "bar": [
           {
            "error_x": {
             "color": "#2a3f5f"
            },
            "error_y": {
             "color": "#2a3f5f"
            },
            "marker": {
             "line": {
              "color": "#E5ECF6",
              "width": 0.5
             },
             "pattern": {
              "fillmode": "overlay",
              "size": 10,
              "solidity": 0.2
             }
            },
            "type": "bar"
           }
          ],
          "barpolar": [
           {
            "marker": {
             "line": {
              "color": "#E5ECF6",
              "width": 0.5
             },
             "pattern": {
              "fillmode": "overlay",
              "size": 10,
              "solidity": 0.2
             }
            },
            "type": "barpolar"
           }
          ],
          "carpet": [
           {
            "aaxis": {
             "endlinecolor": "#2a3f5f",
             "gridcolor": "white",
             "linecolor": "white",
             "minorgridcolor": "white",
             "startlinecolor": "#2a3f5f"
            },
            "baxis": {
             "endlinecolor": "#2a3f5f",
             "gridcolor": "white",
             "linecolor": "white",
             "minorgridcolor": "white",
             "startlinecolor": "#2a3f5f"
            },
            "type": "carpet"
           }
          ],
          "choropleth": [
           {
            "colorbar": {
             "outlinewidth": 0,
             "ticks": ""
            },
            "type": "choropleth"
           }
          ],
          "contour": [
           {
            "colorbar": {
             "outlinewidth": 0,
             "ticks": ""
            },
            "colorscale": [
             [
              0,
              "#0d0887"
             ],
             [
              0.1111111111111111,
              "#46039f"
             ],
             [
              0.2222222222222222,
              "#7201a8"
             ],
             [
              0.3333333333333333,
              "#9c179e"
             ],
             [
              0.4444444444444444,
              "#bd3786"
             ],
             [
              0.5555555555555556,
              "#d8576b"
             ],
             [
              0.6666666666666666,
              "#ed7953"
             ],
             [
              0.7777777777777778,
              "#fb9f3a"
             ],
             [
              0.8888888888888888,
              "#fdca26"
             ],
             [
              1,
              "#f0f921"
             ]
            ],
            "type": "contour"
           }
          ],
          "contourcarpet": [
           {
            "colorbar": {
             "outlinewidth": 0,
             "ticks": ""
            },
            "type": "contourcarpet"
           }
          ],
          "heatmap": [
           {
            "colorbar": {
             "outlinewidth": 0,
             "ticks": ""
            },
            "colorscale": [
             [
              0,
              "#0d0887"
             ],
             [
              0.1111111111111111,
              "#46039f"
             ],
             [
              0.2222222222222222,
              "#7201a8"
             ],
             [
              0.3333333333333333,
              "#9c179e"
             ],
             [
              0.4444444444444444,
              "#bd3786"
             ],
             [
              0.5555555555555556,
              "#d8576b"
             ],
             [
              0.6666666666666666,
              "#ed7953"
             ],
             [
              0.7777777777777778,
              "#fb9f3a"
             ],
             [
              0.8888888888888888,
              "#fdca26"
             ],
             [
              1,
              "#f0f921"
             ]
            ],
            "type": "heatmap"
           }
          ],
          "histogram": [
           {
            "marker": {
             "pattern": {
              "fillmode": "overlay",
              "size": 10,
              "solidity": 0.2
             }
            },
            "type": "histogram"
           }
          ],
          "histogram2d": [
           {
            "colorbar": {
             "outlinewidth": 0,
             "ticks": ""
            },
            "colorscale": [
             [
              0,
              "#0d0887"
             ],
             [
              0.1111111111111111,
              "#46039f"
             ],
             [
              0.2222222222222222,
              "#7201a8"
             ],
             [
              0.3333333333333333,
              "#9c179e"
             ],
             [
              0.4444444444444444,
              "#bd3786"
             ],
             [
              0.5555555555555556,
              "#d8576b"
             ],
             [
              0.6666666666666666,
              "#ed7953"
             ],
             [
              0.7777777777777778,
              "#fb9f3a"
             ],
             [
              0.8888888888888888,
              "#fdca26"
             ],
             [
              1,
              "#f0f921"
             ]
            ],
            "type": "histogram2d"
           }
          ],
          "histogram2dcontour": [
           {
            "colorbar": {
             "outlinewidth": 0,
             "ticks": ""
            },
            "colorscale": [
             [
              0,
              "#0d0887"
             ],
             [
              0.1111111111111111,
              "#46039f"
             ],
             [
              0.2222222222222222,
              "#7201a8"
             ],
             [
              0.3333333333333333,
              "#9c179e"
             ],
             [
              0.4444444444444444,
              "#bd3786"
             ],
             [
              0.5555555555555556,
              "#d8576b"
             ],
             [
              0.6666666666666666,
              "#ed7953"
             ],
             [
              0.7777777777777778,
              "#fb9f3a"
             ],
             [
              0.8888888888888888,
              "#fdca26"
             ],
             [
              1,
              "#f0f921"
             ]
            ],
            "type": "histogram2dcontour"
           }
          ],
          "mesh3d": [
           {
            "colorbar": {
             "outlinewidth": 0,
             "ticks": ""
            },
            "type": "mesh3d"
           }
          ],
          "parcoords": [
           {
            "line": {
             "colorbar": {
              "outlinewidth": 0,
              "ticks": ""
             }
            },
            "type": "parcoords"
           }
          ],
          "pie": [
           {
            "automargin": true,
            "type": "pie"
           }
          ],
          "scatter": [
           {
            "fillpattern": {
             "fillmode": "overlay",
             "size": 10,
             "solidity": 0.2
            },
            "type": "scatter"
           }
          ],
          "scatter3d": [
           {
            "line": {
             "colorbar": {
              "outlinewidth": 0,
              "ticks": ""
             }
            },
            "marker": {
             "colorbar": {
              "outlinewidth": 0,
              "ticks": ""
             }
            },
            "type": "scatter3d"
           }
          ],
          "scattercarpet": [
           {
            "marker": {
             "colorbar": {
              "outlinewidth": 0,
              "ticks": ""
             }
            },
            "type": "scattercarpet"
           }
          ],
          "scattergeo": [
           {
            "marker": {
             "colorbar": {
              "outlinewidth": 0,
              "ticks": ""
             }
            },
            "type": "scattergeo"
           }
          ],
          "scattergl": [
           {
            "marker": {
             "colorbar": {
              "outlinewidth": 0,
              "ticks": ""
             }
            },
            "type": "scattergl"
           }
          ],
          "scattermap": [
           {
            "marker": {
             "colorbar": {
              "outlinewidth": 0,
              "ticks": ""
             }
            },
            "type": "scattermap"
           }
          ],
          "scattermapbox": [
           {
            "marker": {
             "colorbar": {
              "outlinewidth": 0,
              "ticks": ""
             }
            },
            "type": "scattermapbox"
           }
          ],
          "scatterpolar": [
           {
            "marker": {
             "colorbar": {
              "outlinewidth": 0,
              "ticks": ""
             }
            },
            "type": "scatterpolar"
           }
          ],
          "scatterpolargl": [
           {
            "marker": {
             "colorbar": {
              "outlinewidth": 0,
              "ticks": ""
             }
            },
            "type": "scatterpolargl"
           }
          ],
          "scatterternary": [
           {
            "marker": {
             "colorbar": {
              "outlinewidth": 0,
              "ticks": ""
             }
            },
            "type": "scatterternary"
           }
          ],
          "surface": [
           {
            "colorbar": {
             "outlinewidth": 0,
             "ticks": ""
            },
            "colorscale": [
             [
              0,
              "#0d0887"
             ],
             [
              0.1111111111111111,
              "#46039f"
             ],
             [
              0.2222222222222222,
              "#7201a8"
             ],
             [
              0.3333333333333333,
              "#9c179e"
             ],
             [
              0.4444444444444444,
              "#bd3786"
             ],
             [
              0.5555555555555556,
              "#d8576b"
             ],
             [
              0.6666666666666666,
              "#ed7953"
             ],
             [
              0.7777777777777778,
              "#fb9f3a"
             ],
             [
              0.8888888888888888,
              "#fdca26"
             ],
             [
              1,
              "#f0f921"
             ]
            ],
            "type": "surface"
           }
          ],
          "table": [
           {
            "cells": {
             "fill": {
              "color": "#EBF0F8"
             },
             "line": {
              "color": "white"
             }
            },
            "header": {
             "fill": {
              "color": "#C8D4E3"
             },
             "line": {
              "color": "white"
             }
            },
            "type": "table"
           }
          ]
         },
         "layout": {
          "annotationdefaults": {
           "arrowcolor": "#2a3f5f",
           "arrowhead": 0,
           "arrowwidth": 1
          },
          "autotypenumbers": "strict",
          "coloraxis": {
           "colorbar": {
            "outlinewidth": 0,
            "ticks": ""
           }
          },
          "colorscale": {
           "diverging": [
            [
             0,
             "#8e0152"
            ],
            [
             0.1,
             "#c51b7d"
            ],
            [
             0.2,
             "#de77ae"
            ],
            [
             0.3,
             "#f1b6da"
            ],
            [
             0.4,
             "#fde0ef"
            ],
            [
             0.5,
             "#f7f7f7"
            ],
            [
             0.6,
             "#e6f5d0"
            ],
            [
             0.7,
             "#b8e186"
            ],
            [
             0.8,
             "#7fbc41"
            ],
            [
             0.9,
             "#4d9221"
            ],
            [
             1,
             "#276419"
            ]
           ],
           "sequential": [
            [
             0,
             "#0d0887"
            ],
            [
             0.1111111111111111,
             "#46039f"
            ],
            [
             0.2222222222222222,
             "#7201a8"
            ],
            [
             0.3333333333333333,
             "#9c179e"
            ],
            [
             0.4444444444444444,
             "#bd3786"
            ],
            [
             0.5555555555555556,
             "#d8576b"
            ],
            [
             0.6666666666666666,
             "#ed7953"
            ],
            [
             0.7777777777777778,
             "#fb9f3a"
            ],
            [
             0.8888888888888888,
             "#fdca26"
            ],
            [
             1,
             "#f0f921"
            ]
           ],
           "sequentialminus": [
            [
             0,
             "#0d0887"
            ],
            [
             0.1111111111111111,
             "#46039f"
            ],
            [
             0.2222222222222222,
             "#7201a8"
            ],
            [
             0.3333333333333333,
             "#9c179e"
            ],
            [
             0.4444444444444444,
             "#bd3786"
            ],
            [
             0.5555555555555556,
             "#d8576b"
            ],
            [
             0.6666666666666666,
             "#ed7953"
            ],
            [
             0.7777777777777778,
             "#fb9f3a"
            ],
            [
             0.8888888888888888,
             "#fdca26"
            ],
            [
             1,
             "#f0f921"
            ]
           ]
          },
          "colorway": [
           "#636efa",
           "#EF553B",
           "#00cc96",
           "#ab63fa",
           "#FFA15A",
           "#19d3f3",
           "#FF6692",
           "#B6E880",
           "#FF97FF",
           "#FECB52"
          ],
          "font": {
           "color": "#2a3f5f"
          },
          "geo": {
           "bgcolor": "white",
           "lakecolor": "white",
           "landcolor": "#E5ECF6",
           "showlakes": true,
           "showland": true,
           "subunitcolor": "white"
          },
          "hoverlabel": {
           "align": "left"
          },
          "hovermode": "closest",
          "mapbox": {
           "style": "light"
          },
          "paper_bgcolor": "white",
          "plot_bgcolor": "#E5ECF6",
          "polar": {
           "angularaxis": {
            "gridcolor": "white",
            "linecolor": "white",
            "ticks": ""
           },
           "bgcolor": "#E5ECF6",
           "radialaxis": {
            "gridcolor": "white",
            "linecolor": "white",
            "ticks": ""
           }
          },
          "scene": {
           "xaxis": {
            "backgroundcolor": "#E5ECF6",
            "gridcolor": "white",
            "gridwidth": 2,
            "linecolor": "white",
            "showbackground": true,
            "ticks": "",
            "zerolinecolor": "white"
           },
           "yaxis": {
            "backgroundcolor": "#E5ECF6",
            "gridcolor": "white",
            "gridwidth": 2,
            "linecolor": "white",
            "showbackground": true,
            "ticks": "",
            "zerolinecolor": "white"
           },
           "zaxis": {
            "backgroundcolor": "#E5ECF6",
            "gridcolor": "white",
            "gridwidth": 2,
            "linecolor": "white",
            "showbackground": true,
            "ticks": "",
            "zerolinecolor": "white"
           }
          },
          "shapedefaults": {
           "line": {
            "color": "#2a3f5f"
           }
          },
          "ternary": {
           "aaxis": {
            "gridcolor": "white",
            "linecolor": "white",
            "ticks": ""
           },
           "baxis": {
            "gridcolor": "white",
            "linecolor": "white",
            "ticks": ""
           },
           "bgcolor": "#E5ECF6",
           "caxis": {
            "gridcolor": "white",
            "linecolor": "white",
            "ticks": ""
           }
          },
          "title": {
           "x": 0.05
          },
          "xaxis": {
           "automargin": true,
           "gridcolor": "white",
           "linecolor": "white",
           "ticks": "",
           "title": {
            "standoff": 15
           },
           "zerolinecolor": "white",
           "zerolinewidth": 2
          },
          "yaxis": {
           "automargin": true,
           "gridcolor": "white",
           "linecolor": "white",
           "ticks": "",
           "title": {
            "standoff": 15
           },
           "zerolinecolor": "white",
           "zerolinewidth": 2
          }
         }
        },
        "title": {
         "text": "Correlation Heatmap (Interactive)"
        },
        "width": 800,
        "xaxis": {
         "anchor": "y",
         "domain": [
          0,
          1
         ],
         "tickangle": -45,
         "tickmode": "array",
         "ticktext": [
          "CLIENTNUM",
          "Attrition_Flag",
          "Gender",
          "Dependent_count",
          "Education_Level",
          "Income_Category",
          "Card_Category",
          "Months_on_book",
          "Total_Relationship_Count",
          "Months_Inactive_12_mon",
          "Contacts_Count_12_mon",
          "Credit_Limit",
          "Total_Amt_Chng_Q4_Q1",
          "Total_Trans_Ct",
          "Total_Ct_Chng_Q4_Q1",
          "Avg_Utilization_Ratio",
          "Divorced",
          "Married",
          "Single",
          "Unknown",
          "Age_Under 30",
          "Age_30-40",
          "Age_40-50",
          "Age_50-60",
          "Age_60+",
          "Total_Trans_Amt_Binned_Low",
          "Total_Trans_Amt_Binned_Medium",
          "Total_Trans_Amt_Binned_High",
          "Total_Trans_Amt_Binned_Very High",
          "Avg_Open_To_Buy_Binned_Low",
          "Avg_Open_To_Buy_Binned_Medium",
          "Avg_Open_To_Buy_Binned_High",
          "Avg_Open_To_Buy_Binned_Very High",
          "Total_Revolving_Bal_Binned_Low",
          "Total_Revolving_Bal_Binned_Medium",
          "Total_Revolving_Bal_Binned_High",
          "Total_Revolving_Bal_Binned_Very High"
         ],
         "tickvals": [
          0,
          1,
          2,
          3,
          4,
          5,
          6,
          7,
          8,
          9,
          10,
          11,
          12,
          13,
          14,
          15,
          16,
          17,
          18,
          19,
          20,
          21,
          22,
          23,
          24,
          25,
          26,
          27,
          28,
          29,
          30,
          31,
          32,
          33,
          34,
          35,
          36
         ],
         "title": {
          "text": "Features"
         }
        },
        "yaxis": {
         "anchor": "x",
         "autorange": "reversed",
         "domain": [
          0,
          1
         ],
         "tickmode": "array",
         "ticktext": [
          "CLIENTNUM",
          "Attrition_Flag",
          "Gender",
          "Dependent_count",
          "Education_Level",
          "Income_Category",
          "Card_Category",
          "Months_on_book",
          "Total_Relationship_Count",
          "Months_Inactive_12_mon",
          "Contacts_Count_12_mon",
          "Credit_Limit",
          "Total_Amt_Chng_Q4_Q1",
          "Total_Trans_Ct",
          "Total_Ct_Chng_Q4_Q1",
          "Avg_Utilization_Ratio",
          "Divorced",
          "Married",
          "Single",
          "Unknown",
          "Age_Under 30",
          "Age_30-40",
          "Age_40-50",
          "Age_50-60",
          "Age_60+",
          "Total_Trans_Amt_Binned_Low",
          "Total_Trans_Amt_Binned_Medium",
          "Total_Trans_Amt_Binned_High",
          "Total_Trans_Amt_Binned_Very High",
          "Avg_Open_To_Buy_Binned_Low",
          "Avg_Open_To_Buy_Binned_Medium",
          "Avg_Open_To_Buy_Binned_High",
          "Avg_Open_To_Buy_Binned_Very High",
          "Total_Revolving_Bal_Binned_Low",
          "Total_Revolving_Bal_Binned_Medium",
          "Total_Revolving_Bal_Binned_High",
          "Total_Revolving_Bal_Binned_Very High"
         ],
         "tickvals": [
          0,
          1,
          2,
          3,
          4,
          5,
          6,
          7,
          8,
          9,
          10,
          11,
          12,
          13,
          14,
          15,
          16,
          17,
          18,
          19,
          20,
          21,
          22,
          23,
          24,
          25,
          26,
          27,
          28,
          29,
          30,
          31,
          32,
          33,
          34,
          35,
          36
         ],
         "title": {
          "text": "Features"
         }
        }
       }
      }
     },
     "metadata": {},
     "output_type": "display_data"
    }
   ],
   "source": [
    "corr_matrix = data.corr(numeric_only=True)\n",
    "fig = px.imshow(\n",
    "    corr_matrix,\n",
    "    text_auto=\".2f\",\n",
    "    color_continuous_scale='RdBu',\n",
    "    title=\"Correlation Heatmap (Interactive)\",\n",
    "    aspect=\"auto\"\n",
    ")\n",
    "fig.update_layout(\n",
    "    width=800,\n",
    "    height=800,\n",
    "    xaxis_title=\"Features\",\n",
    "    yaxis_title=\"Features\",\n",
    "    xaxis=dict(tickangle=-45, tickmode='array', tickvals=list(range(len(corr_matrix.columns))), ticktext=corr_matrix.columns),\n",
    "    yaxis=dict(tickmode='array', tickvals=list(range(len(corr_matrix.index))), ticktext=corr_matrix.index)\n",
    ")\n",
    "fig.show()"
   ]
  },
  {
   "cell_type": "code",
   "execution_count": 6,
   "metadata": {},
   "outputs": [
    {
     "data": {
      "application/vnd.plotly.v1+json": {
       "config": {
        "plotlyServerURL": "https://plot.ly"
       },
       "data": [
        {
         "coloraxis": "coloraxis",
         "hovertemplate": "x: %{x}<br>y: %{y}<br>color: %{z}<extra></extra>",
         "name": "0",
         "texttemplate": "%{z:.2f}",
         "type": "heatmap",
         "x": [
          "CLIENTNUM",
          "Attrition_Flag",
          "Gender",
          "Dependent_count",
          "Education_Level",
          "Income_Category",
          "Card_Category",
          "Months_on_book",
          "Total_Relationship_Count",
          "Months_Inactive_12_mon",
          "Contacts_Count_12_mon",
          "Credit_Limit",
          "Total_Amt_Chng_Q4_Q1",
          "Total_Trans_Ct",
          "Total_Ct_Chng_Q4_Q1",
          "Avg_Utilization_Ratio",
          "Divorced",
          "Married",
          "Single",
          "Unknown",
          "Age_Under 30",
          "Age_30-40",
          "Age_40-50",
          "Age_50-60",
          "Age_60+",
          "Total_Trans_Amt_Binned_Low",
          "Total_Trans_Amt_Binned_Medium",
          "Total_Trans_Amt_Binned_High",
          "Total_Trans_Amt_Binned_Very High",
          "Avg_Open_To_Buy_Binned_Low",
          "Avg_Open_To_Buy_Binned_Medium",
          "Avg_Open_To_Buy_Binned_High",
          "Avg_Open_To_Buy_Binned_Very High",
          "Total_Revolving_Bal_Binned_Low",
          "Total_Revolving_Bal_Binned_Medium",
          "Total_Revolving_Bal_Binned_High",
          "Total_Revolving_Bal_Binned_Very High"
         ],
         "xaxis": "x",
         "y": [
          "CLIENTNUM",
          "Attrition_Flag",
          "Gender",
          "Dependent_count",
          "Education_Level",
          "Income_Category",
          "Card_Category",
          "Months_on_book",
          "Total_Relationship_Count",
          "Months_Inactive_12_mon",
          "Contacts_Count_12_mon",
          "Credit_Limit",
          "Total_Amt_Chng_Q4_Q1",
          "Total_Trans_Ct",
          "Total_Ct_Chng_Q4_Q1",
          "Avg_Utilization_Ratio",
          "Divorced",
          "Married",
          "Single",
          "Unknown",
          "Age_Under 30",
          "Age_30-40",
          "Age_40-50",
          "Age_50-60",
          "Age_60+",
          "Total_Trans_Amt_Binned_Low",
          "Total_Trans_Amt_Binned_Medium",
          "Total_Trans_Amt_Binned_High",
          "Total_Trans_Amt_Binned_Very High",
          "Avg_Open_To_Buy_Binned_Low",
          "Avg_Open_To_Buy_Binned_Medium",
          "Avg_Open_To_Buy_Binned_High",
          "Avg_Open_To_Buy_Binned_Very High",
          "Total_Revolving_Bal_Binned_Low",
          "Total_Revolving_Bal_Binned_Medium",
          "Total_Revolving_Bal_Binned_High",
          "Total_Revolving_Bal_Binned_Very High"
         ],
         "yaxis": "y",
         "z": {
          "bdata": "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",
          "dtype": "f8",
          "shape": "37, 37"
         }
        }
       ],
       "layout": {
        "coloraxis": {
         "colorscale": [
          [
           0,
           "rgb(103,0,31)"
          ],
          [
           0.1,
           "rgb(178,24,43)"
          ],
          [
           0.2,
           "rgb(214,96,77)"
          ],
          [
           0.3,
           "rgb(244,165,130)"
          ],
          [
           0.4,
           "rgb(253,219,199)"
          ],
          [
           0.5,
           "rgb(247,247,247)"
          ],
          [
           0.6,
           "rgb(209,229,240)"
          ],
          [
           0.7,
           "rgb(146,197,222)"
          ],
          [
           0.8,
           "rgb(67,147,195)"
          ],
          [
           0.9,
           "rgb(33,102,172)"
          ],
          [
           1,
           "rgb(5,48,97)"
          ]
         ]
        },
        "height": 800,
        "template": {
         "data": {
          "bar": [
           {
            "error_x": {
             "color": "#2a3f5f"
            },
            "error_y": {
             "color": "#2a3f5f"
            },
            "marker": {
             "line": {
              "color": "#E5ECF6",
              "width": 0.5
             },
             "pattern": {
              "fillmode": "overlay",
              "size": 10,
              "solidity": 0.2
             }
            },
            "type": "bar"
           }
          ],
          "barpolar": [
           {
            "marker": {
             "line": {
              "color": "#E5ECF6",
              "width": 0.5
             },
             "pattern": {
              "fillmode": "overlay",
              "size": 10,
              "solidity": 0.2
             }
            },
            "type": "barpolar"
           }
          ],
          "carpet": [
           {
            "aaxis": {
             "endlinecolor": "#2a3f5f",
             "gridcolor": "white",
             "linecolor": "white",
             "minorgridcolor": "white",
             "startlinecolor": "#2a3f5f"
            },
            "baxis": {
             "endlinecolor": "#2a3f5f",
             "gridcolor": "white",
             "linecolor": "white",
             "minorgridcolor": "white",
             "startlinecolor": "#2a3f5f"
            },
            "type": "carpet"
           }
          ],
          "choropleth": [
           {
            "colorbar": {
             "outlinewidth": 0,
             "ticks": ""
            },
            "type": "choropleth"
           }
          ],
          "contour": [
           {
            "colorbar": {
             "outlinewidth": 0,
             "ticks": ""
            },
            "colorscale": [
             [
              0,
              "#0d0887"
             ],
             [
              0.1111111111111111,
              "#46039f"
             ],
             [
              0.2222222222222222,
              "#7201a8"
             ],
             [
              0.3333333333333333,
              "#9c179e"
             ],
             [
              0.4444444444444444,
              "#bd3786"
             ],
             [
              0.5555555555555556,
              "#d8576b"
             ],
             [
              0.6666666666666666,
              "#ed7953"
             ],
             [
              0.7777777777777778,
              "#fb9f3a"
             ],
             [
              0.8888888888888888,
              "#fdca26"
             ],
             [
              1,
              "#f0f921"
             ]
            ],
            "type": "contour"
           }
          ],
          "contourcarpet": [
           {
            "colorbar": {
             "outlinewidth": 0,
             "ticks": ""
            },
            "type": "contourcarpet"
           }
          ],
          "heatmap": [
           {
            "colorbar": {
             "outlinewidth": 0,
             "ticks": ""
            },
            "colorscale": [
             [
              0,
              "#0d0887"
             ],
             [
              0.1111111111111111,
              "#46039f"
             ],
             [
              0.2222222222222222,
              "#7201a8"
             ],
             [
              0.3333333333333333,
              "#9c179e"
             ],
             [
              0.4444444444444444,
              "#bd3786"
             ],
             [
              0.5555555555555556,
              "#d8576b"
             ],
             [
              0.6666666666666666,
              "#ed7953"
             ],
             [
              0.7777777777777778,
              "#fb9f3a"
             ],
             [
              0.8888888888888888,
              "#fdca26"
             ],
             [
              1,
              "#f0f921"
             ]
            ],
            "type": "heatmap"
           }
          ],
          "histogram": [
           {
            "marker": {
             "pattern": {
              "fillmode": "overlay",
              "size": 10,
              "solidity": 0.2
             }
            },
            "type": "histogram"
           }
          ],
          "histogram2d": [
           {
            "colorbar": {
             "outlinewidth": 0,
             "ticks": ""
            },
            "colorscale": [
             [
              0,
              "#0d0887"
             ],
             [
              0.1111111111111111,
              "#46039f"
             ],
             [
              0.2222222222222222,
              "#7201a8"
             ],
             [
              0.3333333333333333,
              "#9c179e"
             ],
             [
              0.4444444444444444,
              "#bd3786"
             ],
             [
              0.5555555555555556,
              "#d8576b"
             ],
             [
              0.6666666666666666,
              "#ed7953"
             ],
             [
              0.7777777777777778,
              "#fb9f3a"
             ],
             [
              0.8888888888888888,
              "#fdca26"
             ],
             [
              1,
              "#f0f921"
             ]
            ],
            "type": "histogram2d"
           }
          ],
          "histogram2dcontour": [
           {
            "colorbar": {
             "outlinewidth": 0,
             "ticks": ""
            },
            "colorscale": [
             [
              0,
              "#0d0887"
             ],
             [
              0.1111111111111111,
              "#46039f"
             ],
             [
              0.2222222222222222,
              "#7201a8"
             ],
             [
              0.3333333333333333,
              "#9c179e"
             ],
             [
              0.4444444444444444,
              "#bd3786"
             ],
             [
              0.5555555555555556,
              "#d8576b"
             ],
             [
              0.6666666666666666,
              "#ed7953"
             ],
             [
              0.7777777777777778,
              "#fb9f3a"
             ],
             [
              0.8888888888888888,
              "#fdca26"
             ],
             [
              1,
              "#f0f921"
             ]
            ],
            "type": "histogram2dcontour"
           }
          ],
          "mesh3d": [
           {
            "colorbar": {
             "outlinewidth": 0,
             "ticks": ""
            },
            "type": "mesh3d"
           }
          ],
          "parcoords": [
           {
            "line": {
             "colorbar": {
              "outlinewidth": 0,
              "ticks": ""
             }
            },
            "type": "parcoords"
           }
          ],
          "pie": [
           {
            "automargin": true,
            "type": "pie"
           }
          ],
          "scatter": [
           {
            "fillpattern": {
             "fillmode": "overlay",
             "size": 10,
             "solidity": 0.2
            },
            "type": "scatter"
           }
          ],
          "scatter3d": [
           {
            "line": {
             "colorbar": {
              "outlinewidth": 0,
              "ticks": ""
             }
            },
            "marker": {
             "colorbar": {
              "outlinewidth": 0,
              "ticks": ""
             }
            },
            "type": "scatter3d"
           }
          ],
          "scattercarpet": [
           {
            "marker": {
             "colorbar": {
              "outlinewidth": 0,
              "ticks": ""
             }
            },
            "type": "scattercarpet"
           }
          ],
          "scattergeo": [
           {
            "marker": {
             "colorbar": {
              "outlinewidth": 0,
              "ticks": ""
             }
            },
            "type": "scattergeo"
           }
          ],
          "scattergl": [
           {
            "marker": {
             "colorbar": {
              "outlinewidth": 0,
              "ticks": ""
             }
            },
            "type": "scattergl"
           }
          ],
          "scattermap": [
           {
            "marker": {
             "colorbar": {
              "outlinewidth": 0,
              "ticks": ""
             }
            },
            "type": "scattermap"
           }
          ],
          "scattermapbox": [
           {
            "marker": {
             "colorbar": {
              "outlinewidth": 0,
              "ticks": ""
             }
            },
            "type": "scattermapbox"
           }
          ],
          "scatterpolar": [
           {
            "marker": {
             "colorbar": {
              "outlinewidth": 0,
              "ticks": ""
             }
            },
            "type": "scatterpolar"
           }
          ],
          "scatterpolargl": [
           {
            "marker": {
             "colorbar": {
              "outlinewidth": 0,
              "ticks": ""
             }
            },
            "type": "scatterpolargl"
           }
          ],
          "scatterternary": [
           {
            "marker": {
             "colorbar": {
              "outlinewidth": 0,
              "ticks": ""
             }
            },
            "type": "scatterternary"
           }
          ],
          "surface": [
           {
            "colorbar": {
             "outlinewidth": 0,
             "ticks": ""
            },
            "colorscale": [
             [
              0,
              "#0d0887"
             ],
             [
              0.1111111111111111,
              "#46039f"
             ],
             [
              0.2222222222222222,
              "#7201a8"
             ],
             [
              0.3333333333333333,
              "#9c179e"
             ],
             [
              0.4444444444444444,
              "#bd3786"
             ],
             [
              0.5555555555555556,
              "#d8576b"
             ],
             [
              0.6666666666666666,
              "#ed7953"
             ],
             [
              0.7777777777777778,
              "#fb9f3a"
             ],
             [
              0.8888888888888888,
              "#fdca26"
             ],
             [
              1,
              "#f0f921"
             ]
            ],
            "type": "surface"
           }
          ],
          "table": [
           {
            "cells": {
             "fill": {
              "color": "#EBF0F8"
             },
             "line": {
              "color": "white"
             }
            },
            "header": {
             "fill": {
              "color": "#C8D4E3"
             },
             "line": {
              "color": "white"
             }
            },
            "type": "table"
           }
          ]
         },
         "layout": {
          "annotationdefaults": {
           "arrowcolor": "#2a3f5f",
           "arrowhead": 0,
           "arrowwidth": 1
          },
          "autotypenumbers": "strict",
          "coloraxis": {
           "colorbar": {
            "outlinewidth": 0,
            "ticks": ""
           }
          },
          "colorscale": {
           "diverging": [
            [
             0,
             "#8e0152"
            ],
            [
             0.1,
             "#c51b7d"
            ],
            [
             0.2,
             "#de77ae"
            ],
            [
             0.3,
             "#f1b6da"
            ],
            [
             0.4,
             "#fde0ef"
            ],
            [
             0.5,
             "#f7f7f7"
            ],
            [
             0.6,
             "#e6f5d0"
            ],
            [
             0.7,
             "#b8e186"
            ],
            [
             0.8,
             "#7fbc41"
            ],
            [
             0.9,
             "#4d9221"
            ],
            [
             1,
             "#276419"
            ]
           ],
           "sequential": [
            [
             0,
             "#0d0887"
            ],
            [
             0.1111111111111111,
             "#46039f"
            ],
            [
             0.2222222222222222,
             "#7201a8"
            ],
            [
             0.3333333333333333,
             "#9c179e"
            ],
            [
             0.4444444444444444,
             "#bd3786"
            ],
            [
             0.5555555555555556,
             "#d8576b"
            ],
            [
             0.6666666666666666,
             "#ed7953"
            ],
            [
             0.7777777777777778,
             "#fb9f3a"
            ],
            [
             0.8888888888888888,
             "#fdca26"
            ],
            [
             1,
             "#f0f921"
            ]
           ],
           "sequentialminus": [
            [
             0,
             "#0d0887"
            ],
            [
             0.1111111111111111,
             "#46039f"
            ],
            [
             0.2222222222222222,
             "#7201a8"
            ],
            [
             0.3333333333333333,
             "#9c179e"
            ],
            [
             0.4444444444444444,
             "#bd3786"
            ],
            [
             0.5555555555555556,
             "#d8576b"
            ],
            [
             0.6666666666666666,
             "#ed7953"
            ],
            [
             0.7777777777777778,
             "#fb9f3a"
            ],
            [
             0.8888888888888888,
             "#fdca26"
            ],
            [
             1,
             "#f0f921"
            ]
           ]
          },
          "colorway": [
           "#636efa",
           "#EF553B",
           "#00cc96",
           "#ab63fa",
           "#FFA15A",
           "#19d3f3",
           "#FF6692",
           "#B6E880",
           "#FF97FF",
           "#FECB52"
          ],
          "font": {
           "color": "#2a3f5f"
          },
          "geo": {
           "bgcolor": "white",
           "lakecolor": "white",
           "landcolor": "#E5ECF6",
           "showlakes": true,
           "showland": true,
           "subunitcolor": "white"
          },
          "hoverlabel": {
           "align": "left"
          },
          "hovermode": "closest",
          "mapbox": {
           "style": "light"
          },
          "paper_bgcolor": "white",
          "plot_bgcolor": "#E5ECF6",
          "polar": {
           "angularaxis": {
            "gridcolor": "white",
            "linecolor": "white",
            "ticks": ""
           },
           "bgcolor": "#E5ECF6",
           "radialaxis": {
            "gridcolor": "white",
            "linecolor": "white",
            "ticks": ""
           }
          },
          "scene": {
           "xaxis": {
            "backgroundcolor": "#E5ECF6",
            "gridcolor": "white",
            "gridwidth": 2,
            "linecolor": "white",
            "showbackground": true,
            "ticks": "",
            "zerolinecolor": "white"
           },
           "yaxis": {
            "backgroundcolor": "#E5ECF6",
            "gridcolor": "white",
            "gridwidth": 2,
            "linecolor": "white",
            "showbackground": true,
            "ticks": "",
            "zerolinecolor": "white"
           },
           "zaxis": {
            "backgroundcolor": "#E5ECF6",
            "gridcolor": "white",
            "gridwidth": 2,
            "linecolor": "white",
            "showbackground": true,
            "ticks": "",
            "zerolinecolor": "white"
           }
          },
          "shapedefaults": {
           "line": {
            "color": "#2a3f5f"
           }
          },
          "ternary": {
           "aaxis": {
            "gridcolor": "white",
            "linecolor": "white",
            "ticks": ""
           },
           "baxis": {
            "gridcolor": "white",
            "linecolor": "white",
            "ticks": ""
           },
           "bgcolor": "#E5ECF6",
           "caxis": {
            "gridcolor": "white",
            "linecolor": "white",
            "ticks": ""
           }
          },
          "title": {
           "x": 0.05
          },
          "xaxis": {
           "automargin": true,
           "gridcolor": "white",
           "linecolor": "white",
           "ticks": "",
           "title": {
            "standoff": 15
           },
           "zerolinecolor": "white",
           "zerolinewidth": 2
          },
          "yaxis": {
           "automargin": true,
           "gridcolor": "white",
           "linecolor": "white",
           "ticks": "",
           "title": {
            "standoff": 15
           },
           "zerolinecolor": "white",
           "zerolinewidth": 2
          }
         }
        },
        "title": {
         "text": "Correlation Heatmap (Interactive) - Lower Triangle"
        },
        "width": 800,
        "xaxis": {
         "anchor": "y",
         "domain": [
          0,
          1
         ],
         "tickangle": -45,
         "tickmode": "array",
         "ticktext": [
          "CLIENTNUM",
          "Attrition_Flag",
          "Gender",
          "Dependent_count",
          "Education_Level",
          "Income_Category",
          "Card_Category",
          "Months_on_book",
          "Total_Relationship_Count",
          "Months_Inactive_12_mon",
          "Contacts_Count_12_mon",
          "Credit_Limit",
          "Total_Amt_Chng_Q4_Q1",
          "Total_Trans_Ct",
          "Total_Ct_Chng_Q4_Q1",
          "Avg_Utilization_Ratio",
          "Divorced",
          "Married",
          "Single",
          "Unknown",
          "Age_Under 30",
          "Age_30-40",
          "Age_40-50",
          "Age_50-60",
          "Age_60+",
          "Total_Trans_Amt_Binned_Low",
          "Total_Trans_Amt_Binned_Medium",
          "Total_Trans_Amt_Binned_High",
          "Total_Trans_Amt_Binned_Very High",
          "Avg_Open_To_Buy_Binned_Low",
          "Avg_Open_To_Buy_Binned_Medium",
          "Avg_Open_To_Buy_Binned_High",
          "Avg_Open_To_Buy_Binned_Very High",
          "Total_Revolving_Bal_Binned_Low",
          "Total_Revolving_Bal_Binned_Medium",
          "Total_Revolving_Bal_Binned_High",
          "Total_Revolving_Bal_Binned_Very High"
         ],
         "tickvals": [
          0,
          1,
          2,
          3,
          4,
          5,
          6,
          7,
          8,
          9,
          10,
          11,
          12,
          13,
          14,
          15,
          16,
          17,
          18,
          19,
          20,
          21,
          22,
          23,
          24,
          25,
          26,
          27,
          28,
          29,
          30,
          31,
          32,
          33,
          34,
          35,
          36
         ],
         "title": {
          "text": "Features"
         }
        },
        "yaxis": {
         "anchor": "x",
         "autorange": "reversed",
         "domain": [
          0,
          1
         ],
         "tickmode": "array",
         "ticktext": [
          "CLIENTNUM",
          "Attrition_Flag",
          "Gender",
          "Dependent_count",
          "Education_Level",
          "Income_Category",
          "Card_Category",
          "Months_on_book",
          "Total_Relationship_Count",
          "Months_Inactive_12_mon",
          "Contacts_Count_12_mon",
          "Credit_Limit",
          "Total_Amt_Chng_Q4_Q1",
          "Total_Trans_Ct",
          "Total_Ct_Chng_Q4_Q1",
          "Avg_Utilization_Ratio",
          "Divorced",
          "Married",
          "Single",
          "Unknown",
          "Age_Under 30",
          "Age_30-40",
          "Age_40-50",
          "Age_50-60",
          "Age_60+",
          "Total_Trans_Amt_Binned_Low",
          "Total_Trans_Amt_Binned_Medium",
          "Total_Trans_Amt_Binned_High",
          "Total_Trans_Amt_Binned_Very High",
          "Avg_Open_To_Buy_Binned_Low",
          "Avg_Open_To_Buy_Binned_Medium",
          "Avg_Open_To_Buy_Binned_High",
          "Avg_Open_To_Buy_Binned_Very High",
          "Total_Revolving_Bal_Binned_Low",
          "Total_Revolving_Bal_Binned_Medium",
          "Total_Revolving_Bal_Binned_High",
          "Total_Revolving_Bal_Binned_Very High"
         ],
         "tickvals": [
          0,
          1,
          2,
          3,
          4,
          5,
          6,
          7,
          8,
          9,
          10,
          11,
          12,
          13,
          14,
          15,
          16,
          17,
          18,
          19,
          20,
          21,
          22,
          23,
          24,
          25,
          26,
          27,
          28,
          29,
          30,
          31,
          32,
          33,
          34,
          35,
          36
         ],
         "title": {
          "text": "Features"
         }
        }
       }
      }
     },
     "metadata": {},
     "output_type": "display_data"
    }
   ],
   "source": [
    "import numpy as np\n",
    "\n",
    "# BEGIN: Masking the upper triangle\n",
    "mask = np.triu(np.ones_like(corr_matrix, dtype=bool))\n",
    "\n",
    "# Create a masked correlation matrix\n",
    "masked_corr_matrix = corr_matrix.mask(mask)\n",
    "\n",
    "# Plotting the heatmap with the masked correlation matrix\n",
    "fig = px.imshow(\n",
    "    masked_corr_matrix,\n",
    "    text_auto=\".2f\",\n",
    "    color_continuous_scale='RdBu',\n",
    "    title=\"Correlation Heatmap (Interactive) - Lower Triangle\",\n",
    "    aspect=\"auto\"\n",
    ")\n",
    "fig.update_layout(\n",
    "    width=800,\n",
    "    height=800,\n",
    "    xaxis_title=\"Features\",\n",
    "    yaxis_title=\"Features\",\n",
    "    xaxis=dict(tickangle=-45, tickmode='array', tickvals=list(range(len(masked_corr_matrix.columns))), ticktext=masked_corr_matrix.columns),\n",
    "    yaxis=dict(tickmode='array', tickvals=list(range(len(masked_corr_matrix.index))), ticktext=masked_corr_matrix.index)\n",
    ")\n",
    "fig.show()\n",
    "# END: Masking the upper triangle"
   ]
  },
  {
   "cell_type": "markdown",
   "metadata": {},
   "source": [
    "### Finding relationship between Credit Limit and Card Category"
   ]
  },
  {
   "cell_type": "code",
   "execution_count": 8,
   "metadata": {},
   "outputs": [
    {
     "data": {
      "application/vnd.plotly.v1+json": {
       "config": {
        "plotlyServerURL": "https://plot.ly"
       },
       "data": [
        {
         "alignmentgroup": "True",
         "hovertemplate": "Card_Category=%{x}<br>Credit_Limit=%{y}<extra></extra>",
         "legendgroup": "1",
         "marker": {
          "color": "#636efa"
         },
         "name": "1",
         "notched": false,
         "offsetgroup": "1",
         "orientation": "v",
         "showlegend": true,
         "type": "box",
         "x": {
          "bdata": "AQEBAQEBAQEBAQEBAQEBAQEBAQEBAQEBAQEBAQEBAQEBAQEBAQEBAQEBAQEBAQEBAQEBAQEBAQEBAQEBAQEBAQEBAQEBAQEBAQEBAQEBAQEBAQEBAQEBAQEBAQEBAQEBAQEBAQEBAQEBAQEBAQEBAQEBAQEBAQEBAQEBAQEBAQEBAQEBAQEBAQEBAQEBAQEBAQEBAQEBAQEBAQEBAQEBAQEBAQEBAQEBAQEBAQEBAQEBAQEBAQEBAQEBAQEBAQEBAQEBAQEBAQEBAQEBAQEBAQEBAQEBAQEBAQEBAQEBAQEBAQEBAQEBAQEBAQEBAQEBAQEBAQEBAQEBAQEBAQEBAQEBAQEBAQEBAQEBAQEBAQEBAQEBAQEBAQEBAQEBAQEBAQEBAQEBAQEBAQEBAQEBAQEBAQEBAQEBAQEBAQEBAQEBAQEBAQEBAQEBAQEBAQEBAQEBAQEBAQEBAQEBAQEBAQEBAQEBAQEBAQEBAQEBAQEBAQEBAQEBAQEBAQEBAQEBAQEBAQEBAQEBAQEBAQEBAQEBAQEBAQEBAQEBAQEBAQEBAQEBAQEBAQEBAQEBAQEBAQEBAQEBAQEBAQEBAQEBAQEBAQEBAQEBAQEBAQEBAQEBAQEBAQEBAQEBAQEBAQEBAQEBAQEBAQEBAQEBAQEBAQEBAQEBAQEBAQEBAQEBAQEBAQEBAQEBAQEBAQEBAQEBAQEBAQEBAQEBAQEBAQEBAQEBAQEBAQEBAQEBAQEBAQEBAQEBAQEBAQEBAQEBAQEBAQEBAQEBAQEBAQEBAQEBAQEBAQEBAQEBAQEBAQEBAQEBAQEBAQEBAQEBAQEBAQEBAQEBAQEBAQEBAQEBAQEBAQEBAQEBAQEBAQEBAQEBAQEBAQEBAQEBAQEBAQEBAQEBAQEBAQEBAQEBAQEBAQEBAQEBAQEBAQEBAQEBAQEBAQEBAQEBAQEBAQEBAQEBAQEBAQEBAQEBAQEBAQEBAQEBAQEBAQEBAQEBAQEBAQEBAQEBAQEBAQEBAQEBAQEBAQEBAQEBAQEBAQEBAQEBAQEBAQEBAQEBAQEBAQEBAQEBAQEBAQEBAQEBAQEBAQEBAQEBAQEBAQEBAQEBAQEBAQEBAQEBAQEBAQEBAQEBAQEBAQEBAQEBAQEBAQEBAQEBAQEBAQEBAQEBAQEBAQEBAQEBAQEBAQEBAQEBAQEBAQEBAQEBAQEBAQEBAQEBAQEBAQEBAQEBAQEBAQEBAQEBAQEBAQEBAQEBAQEBAQEBAQEBAQEBAQEBAQEBAQEBAQEBAQEBAQEBAQEBAQEBAQEBAQEBAQEBAQEBAQEBAQEBAQEBAQEBAQEBAQEBAQEBAQEBAQEBAQEBAQEBAQEBAQEBAQEBAQEBAQEBAQEBAQEBAQEBAQEBAQEBAQEBAQEBAQEBAQEBAQEBAQEBAQEBAQEBAQEBAQEBAQEBAQEBAQEBAQEBAQEBAQEBAQEBAQEBAQEBAQEBAQEBAQEBAQEBAQEBAQEBAQEBAQEBAQEBAQEBAQEBAQEBAQEBAQEBAQEBAQEBAQEBAQEBAQEBAQEBAQEBAQEBAQEBAQEBAQEBAQEBAQEBAQEBAQEBAQEBAQEBAQEBAQEBAQEBAQEBAQEBAQEBAQEBAQEBAQEBAQEBAQEBAQEBAQEBAQEBAQEBAQEBAQEBAQEBAQEBAQEBAQEBAQEBAQEBAQEBAQEBAQEBAQEBAQEBAQEBAQEBAQEBAQEBAQEBAQEBAQEBAQEBAQEBAQEBAQEBAQEBAQEBAQEBAQEBAQEBAQEBAQEBAQEBAQEBAQEBAQEBAQEBAQEBAQEBAQEBAQEBAQEBAQEBAQEBAQEBAQEBAQEBAQEBAQEBAQEBAQEBAQEBAQEBAQEBAQEBAQEBAQEBAQEBAQEBAQEBAQEBAQEBAQEBAQEBAQEBAQEBAQEBAQEBAQEBAQEBAQEBAQEBAQEBAQEBAQEBAQEBAQEBAQEBAQEBAQEBAQEBAQEBAQEBAQEBAQEBAQEBAQEBAQEBAQEBAQEBAQEBAQEBAQEBAQEBAQEBAQEBAQEBAQEBAQEBAQEBAQEBAQEBAQEBAQEBAQEBAQEBAQEBAQEBAQEBAQEBAQEBAQEBAQEBAQEBAQEBAQEBAQEBAQEBAQEBAQEBAQEBAQEBAQEBAQEBAQEBAQEBAQEBAQEBAQEBAQEBAQEBAQEBAQEBAQEBAQEBAQEBAQEBAQEBAQEBAQEBAQEBAQEBAQEBAQEBAQEBAQEBAQEBAQEBAQEBAQEBAQEBAQEBAQEBAQEBAQEBAQEBAQEBAQEBAQEBAQEBAQEBAQEBAQEBAQEBAQEBAQEBAQEBAQEBAQEBAQEBAQEBAQEBAQEBAQEBAQEBAQEBAQEBAQEBAQEBAQEBAQEBAQEBAQEBAQEBAQEBAQEBAQEBAQEBAQEBAQEBAQEBAQEBAQEBAQEBAQEBAQEBAQEBAQEBAQEBAQEBAQEBAQEBAQEBAQEBAQEBAQEBAQEBAQEBAQEBAQEBAQEBAQEBAQEBAQEBAQEBAQEBAQEBAQEBAQEBAQEBAQEBAQEBAQEBAQEBAQEBAQEBAQEBAQEBAQEBAQEBAQEBAQEBAQEBAQEBAQEBAQEBAQEBAQEBAQEBAQEBAQEBAQEBAQEBAQEBAQEBAQEBAQEBAQEBAQEBAQEBAQEBAQEBAQEBAQEBAQEBAQEBAQEBAQEBAQEBAQEBAQEBAQEBAQEBAQEBAQEBAQEBAQEBAQEBAQEBAQEBAQEBAQEBAQEBAQEBAQEBAQEBAQEBAQEBAQEBAQEBAQEBAQEBAQEBAQEBAQEBAQEBAQEBAQEBAQEBAQEBAQEBAQEBAQEBAQEBAQEBAQEBAQEBAQEBAQEBAQEBAQEBAQEBAQEBAQEBAQEBAQEBAQEBAQEBAQEBAQEBAQEBAQEBAQEBAQEBAQEBAQEBAQEBAQEBAQEBAQEBAQEBAQEBAQEBAQEBAQEBAQEBAQEBAQEBAQEBAQEBAQEBAQEBAQEBAQEBAQEBAQEBAQEBAQEBAQEBAQEBAQEBAQEBAQEBAQEBAQEBAQEBAQEBAQEBAQEBAQEBAQEBAQEBAQEBAQEBAQEBAQEBAQEBAQEBAQEBAQEBAQEBAQEBAQEBAQEBAQEBAQEBAQEBAQEBAQEBAQEBAQEBAQEBAQEBAQEBAQEBAQEBAQEBAQEBAQEBAQEBAQEBAQEBAQEBAQEBAQEBAQEBAQEBAQEBAQEBAQEBAQEBAQEBAQEBAQEBAQEBAQEBAQEBAQEBAQEBAQEBAQEBAQEBAQEBAQEBAQEBAQEBAQEBAQEBAQEBAQEBAQEBAQEBAQEBAQEBAQEBAQEBAQEBAQEBAQEBAQEBAQEBAQEBAQEBAQEBAQEBAQEBAQEBAQEBAQEBAQEBAQEBAQEBAQEBAQEBAQEBAQEBAQEBAQEBAQEBAQEBAQEBAQEBAQEBAQEBAQEBAQEBAQEBAQEBAQEBAQEBAQEBAQEBAQEBAQEBAQEBAQEBAQEBAQEBAQEBAQEBAQEBAQEBAQEBAQEBAQEBAQEBAQEBAQEBAQEBAQEBAQEBAQEBAQEBAQEBAQEBAQEBAQEBAQEBAQEBAQEBAQEBAQEBAQEBAQEBAQEBAQEBAQEBAQEBAQEBAQEBAQEBAQEBAQEBAQEBAQEBAQEBAQEBAQEBAQEBAQEBAQEBAQEBAQEBAQEBAQEBAQEBAQEBAQEBAQEBAQEBAQEBAQEBAQEBAQEBAQEBAQEBAQEBAQEBAQEBAQEBAQEBAQEBAQEBAQEBAQEBAQEBAQEBAQEBAQEBAQEBAQEBAQEBAQEBAQEBAQEBAQEBAQEBAQEBAQEBAQEBAQEBAQEBAQEBAQEBAQEBAQEBAQEBAQEBAQEBAQEBAQEBAQEBAQEBAQEBAQEBAQEBAQEBAQEBAQEBAQEBAQEBAQEBAQEBAQEBAQEBAQEBAQEBAQEBAQEBAQEBAQEBAQEBAQEBAQEBAQEBAQEBAQEBAQEBAQEBAQEBAQEBAQEBAQEBAQEBAQEBAQEBAQEBAQEBAQEBAQEBAQEBAQEBAQEBAQEBAQEBAQEBAQEBAQEBAQEBAQEBAQEBAQEBAQEBAQEBAQEBAQEBAQEBAQEBAQEBAQEBAQEBAQEBAQEBAQEBAQEBAQEBAQEBAQEBAQEBAQEBAQEBAQEBAQEBAQEBAQEBAQEBAQEBAQEBAQEBAQEBAQEBAQEBAQEBAQEBAQEBAQEBAQEBAQEBAQEBAQEBAQEBAQEBAQEBAQEBAQEBAQEBAQEBAQEBAQEBAQEBAQEBAQEBAQEBAQEBAQEBAQEBAQEBAQEBAQEBAQEBAQEBAQEBAQEBAQEBAQEBAQEBAQEBAQEBAQEBAQEBAQEBAQEBAQEBAQEBAQEBAQEBAQEBAQEBAQEBAQEBAQEBAQEBAQEBAQEBAQEBAQEBAQEBAQEBAQEBAQEBAQEBAQEBAQEBAQEBAQEBAQEBAQEBAQEBAQEBAQEBAQEBAQEBAQEBAQEBAQEBAQEBAQEBAQEBAQEBAQEBAQEBAQEBAQEBAQEBAQEBAQEBAQEBAQEBAQEBAQEBAQEBAQEBAQEBAQEBAQEBAQEBAQEBAQEBAQEBAQEBAQEBAQEBAQEBAQEBAQEBAQEBAQEBAQEBAQEBAQEBAQEBAQEBAQEBAQEBAQEBAQEBAQEBAQEBAQEBAQEBAQEBAQEBAQEBAQEBAQEBAQEBAQEBAQEBAQEBAQEBAQEBAQEBAQEBAQEBAQEBAQEBAQEBAQEBAQEBAQEBAQEBAQEBAQEBAQEBAQEBAQEBAQEBAQEBAQEBAQEBAQEBAQEBAQEBAQEBAQEBAQEBAQEBAQEBAQEBAQEBAQEBAQEBAQEBAQEBAQEBAQEBAQEBAQEBAQEBAQEBAQEBAQEBAQEBAQEBAQEBAQEBAQEBAQEBAQEBAQEBAQEBAQEBAQEBAQEBAQEBAQEBAQEBAQEBAQEBAQEBAQEBAQEBAQEBAQEBAQEBAQEBAQEBAQEBAQEBAQEBAQEBAQEBAQEBAQEBAQEBAQEBAQEBAQEBAQEBAQEBAQEBAQEBAQEBAQEBAQEBAQEBAQEBAQEBAQEBAQEBAQEBAQEBAQEBAQEBAQEBAQEBAQEBAQEBAQEBAQEBAQEBAQEBAQEBAQEBAQEBAQEBAQEBAQEBAQEBAQEBAQEBAQEBAQEBAQEBAQEBAQEBAQEBAQEBAQEBAQEBAQEBAQEBAQEBAQEBAQEBAQEBAQEBAQEBAQEBAQEBAQEBAQEBAQEBAQEBAQEBAQEBAQEBAQEBAQEBAQEBAQEBAQEBAQEBAQEBAQEBAQEBAQEBAQEBAQEBAQEBAQEBAQEBAQEBAQEBAQEBAQEBAQEBAQEBAQEBAQEBAQEBAQEBAQEBAQEBAQEBAQEBAQEBAQEBAQEBAQEBAQEBAQEBAQEBAQEBAQEBAQEBAQEBAQEBAQEBAQEBAQEBAQEBAQEBAQEBAQEBAQEBAQEBAQEBAQEBAQEBAQEBAQEBAQEBAQEBAQEBAQEBAQEBAQEBAQEBAQEBAQEBAQEBAQEBAQEBAQEBAQEBAQEBAQEBAQEBAQEBAQEBAQEBAQEBAQEBAQEBAQEBAQEBAQEBAQEBAQEBAQEBAQEBAQEBAQEBAQEBAQEBAQEBAQEBAQEBAQEBAQEBAQEBAQEBAQEBAQEBAQEBAQEBAQEBAQEBAQEBAQEBAQEBAQEBAQEBAQEBAQEBAQEBAQEBAQEBAQEBAQEBAQEBAQEBAQEBAQEBAQEBAQEBAQEBAQEBAQEBAQEBAQEBAQEBAQEBAQEBAQEBAQEBAQEBAQEBAQEBAQEBAQEBAQEBAQEBAQEBAQEBAQEBAQEBAQEBAQEBAQEBAQEBAQEBAQEBAQEBAQEBAQEBAQEBAQEBAQEBAQEBAQEBAQEBAQEBAQEBAQEBAQEBAQEBAQEBAQEBAQEBAQEBAQEBAQEBAQEBAQEBAQEBAQEBAQEBAQEBAQEBAQEBAQEBAQEBAQEBAQEBAQEBAQEBAQEBAQEBAQEBAQEBAQEBAQEBAQEBAQEBAQEBAQEBAQEBAQEBAQEBAQEBAQEBAQEBAQEBAQEBAQEBAQEBAQEBAQEBAQEBAQEBAQEBAQEBAQEBAQEBAQEBAQEBAQEBAQEBAQEBAQEBAQEBAQEBAQEBAQEBAQEBAQEBAQEBAQEBAQEBAQEBAQEBAQEBAQEBAQEBAQEBAQEBAQEBAQEBAQEBAQEBAQEBAQEBAQEBAQEBAQEBAQEBAQEBAQEBAQEBAQEBAQEBAQEBAQEBAQEBAQEBAQEBAQEBAQEBAQEBAQEBAQEBAQEBAQEBAQEBAQEBAQEBAQEBAQEBAQEBAQEBAQEBAQEBAQEBAQEBAQEBAQEBAQEBAQEBAQEBAQEBAQEBAQEBAQEBAQEBAQEBAQEBAQEBAQEBAQEBAQEBAQEBAQEBAQEBAQEBAQEBAQEBAQEBAQEBAQEBAQEBAQEBAQEBAQEBAQEBAQEBAQEBAQEBAQEBAQEBAQEBAQEBAQEBAQEBAQEBAQEBAQEBAQEBAQEBAQEBAQEBAQEBAQEBAQEBAQEBAQEBAQEBAQEBAQEBAQEBAQEBAQEBAQEBAQEBAQEBAQEBAQEBAQEBAQEBAQEBAQEBAQEBAQEBAQEBAQEBAQEBAQEBAQEBAQEBAQEBAQEBAQEBAQEBAQEBAQEBAQEBAQEBAQEBAQEBAQEBAQEBAQEBAQEBAQEBAQEBAQEBAQEBAQEBAQEBAQEBAQEBAQEBAQEBAQEBAQEBAQEBAQEBAQEBAQEBAQEBAQEBAQEBAQEBAQEBAQEBAQEBAQEBAQEBAQEBAQEBAQEBAQEBAQEBAQEBAQEBAQEBAQEBAQEBAQEBAQEBAQEBAQEBAQEBAQEBAQEBAQEBAQEBAQEBAQEBAQEBAQEBAQEBAQEBAQEBAQEBAQEBAQEBAQEBAQEBAQEBAQEBAQEBAQEBAQEBAQEBAQEBAQEBAQEBAQEBAQEBAQEBAQEBAQEBAQEBAQEBAQEBAQEBAQEBAQEBAQEBAQEBAQEBAQEBAQEBAQEBAQEBAQEBAQEBAQEBAQEBAQEBAQEBAQEBAQEBAQEBAQEBAQEBAQEBAQEBAQEBAQEBAQEBAQEBAQEBAQEBAQEBAQEBAQEBAQEBAQEBAQEBAQEBAQEBAQEBAQEBAQEBAQEBAQEBAQEBAQEBAQEBAQEBAQEBAQEBAQEBAQEBAQEBAQEBAQEBAQEBAQEBAQEBAQEBAQEBAQEBAQEBAQEBAQEBAQEBAQEBAQEBAQEBAQEBAQEBAQEBAQEBAQEBAQEBAQEBAQEBAQEBAQEBAQEBAQEBAQEBAQEBAQEBAQEBAQEBAQEBAQEBAQEBAQEBAQEBAQEBAQEBAQEBAQEBAQEBAQEBAQEBAQEBAQEBAQEBAQEBAQEBAQEBAQEBAQEBAQEBAQEBAQEBAQEBAQEBAQEBAQEBAQEBAQEBAQEBAQEBAQEBAQEBAQEBAQEBAQEBAQEBAQEBAQEBAQEBAQEBAQEBAQEBAQEBAQEBAQEBAQEBAQEBAQEBAQEBAQEBAQEBAQEBAQEBAQEBAQEBAQEBAQEBAQEBAQEBAQEBAQEBAQEBAQEBAQEBAQEBAQEBAQEBAQEBAQEBAQEBAQEBAQEBAQEBAQEBAQEBAQEBAQEBAQEBAQEBAQEBAQEBAQEBAQEBAQEBAQEBAQEBAQEBAQEBAQEBAQEBAQEBAQEBAQEBAQEBAQEBAQEBAQEBAQEBAQEBAQEBAQEBAQEBAQEBAQEBAQEBAQEBAQEBAQEBAQEBAQEBAQEBAQEBAQEBAQEBAQEBAQEBAQEBAQEBAQEBAQEBAQEBAQEBAQEBAQEBAQEBAQEBAQEBAQEBAQEBAQEBAQEBAQEBAQEBAQEBAQEBAQEBAQEBAQEBAQEBAQEBAQEBAQEBAQEBAQEBAQEBAQEBAQEBAQEBAQEBAQEBAQEBAQEBAQEBAQEBAQEBAQEBAQEBAQEBAQEBAQEBAQEBAQEBAQEBAQEBAQEBAQEBAQEBAQEBAQEBAQEBAQEBAQEBAQEBAQEBAQEBAQEBAQEBAQEBAQEBAQEBAQEBAQEBAQEBAQEBAQEBAQEBAQEBAQEBAQEBAQEBAQEBAQEBAQEBAQEBAQEBAQEBAQEBAQEBAQEBAQEBAQEBAQEBAQEBAQEBAQEBAQEBAQEBAQEBAQEBAQEBAQEBAQEBAQEBAQEBAQEBAQEBAQEBAQEBAQEBAQEBAQEBAQEBAQEBAQEBAQEBAQEBAQEBAQEBAQEBAQEBAQEBAQEBAQEBAQEBAQEBAQEBAQEBAQEBAQEBAQEBAQEBAQEBAQEBAQEBAQEBAQEBAQEBAQEBAQEBAQEBAQEBAQEBAQEBAQEBAQEBAQEBAQEBAQEBAQEBAQEBAQEBAQEBAQEBAQEBAQEBAQEBAQEBAQEBAQEBAQEBAQEBAQEBAQEBAQEBAQEBAQEBAQEBAQEBAQEBAQEBAQEBAQEBAQEBAQEBAQEBAQEBAQEBAQEBAQEBAQEBAQEBAQEBAQEBAQEBAQEBAQEBAQEBAQEBAQEBAQEBAQEBAQEBAQEBAQEBAQEBAQEBAQEBAQEBAQEBAQEBAQEBAQEBAQEBAQEBAQEBAQEBAQEBAQEBAQEBAQEBAQEBAQEBAQEBAQEBAQEBAQEBAQEBAQEBAQEBAQEBAQEBAQEBAQEBAQEBAQEBAQEBAQEBAQEBAQEBAQEBAQEBAQEBAQEBAQEBAQEBAQEBAQEBAQEBAQEBAQEBAQEBAQEBAQEBAQEBAQEBAQEBAQEBAQEBAQEBAQEBAQEBAQEBAQEBAQEBAQEBAQEBAQEBAQEBAQEBAQEBAQEBAQEBAQEBAQEBAQEBAQEBAQEBAQEBAQEBAQEBAQEBAQEBAQEBAQEBAQEBAQEBAQEBAQEBAQEBAQEBAQEBAQEBAQEBAQEBAQEBAQEBAQEBAQEBAQEBAQEBAQEBAQEBAQEBAQEBAQEBAQEBAQEBAQEBAQEBAQEBAQEBAQEBAQEBAQEBAQEBAQEBAQEBAQEBAQEBAQEBAQEBAQEBAQEBAQEBAQEBAQEBAQEBAQEBAQEBAQEBAQEBAQEBAQEBAQEBAQEBAQEBAQEBAQEBAQEBAQEBAQEBAQEBAQEBAQEBAQEBAQEBAQEBAQEBAQEBAQEBAQEBAQEBAQEBAQEBAQEBAQEBAQEBAQEBAQEBAQEBAQEBAQEBAQEBAQEBAQEBAQEBAQEBAQEBAQEBAQEBAQEBAQEBAQEBAQEBAQEBAQEBAQEBAQEBAQEBAQEBAQEBAQEBAQEBAQEBAQEBAQEBAQEBAQEBAQEBAQEBAQEBAQEBAQEBAQEBAQEBAQEBAQEBAQEBAQEBAQEBAQEBAQEBAQEBAQEBAQEBAQEBAQEBAQEBAQEBAQEBAQEBAQEBAQEBAQEBAQEBAQEBAQEBAQEBAQEBAQEBAQEBAQEBAQEBAQEBAQEBAQEBAQEBAQEBAQEBAQEBAQEBAQEBAQEBAQEBAQEBAQEBAQEBAQEBAQEBAQEBAQEBAQEBAQEBAQEBAQEBAQEBAQEBAQEBAQEBAQEBAQEBAQEBAQEBAQEBAQEBAQEBAQEBAQEBAQEBAQEBAQEBAQEBAQEBAQEBAQEBAQEBAQEBAQEBAQEBAQEBAQEBAQEBAQEBAQEBAQEBAQEBAQEBAQEBAQEBAQEBAQEBAQEBAQEBAQEBAQEBAQEBAQEBAQEBAQEBAQEBAQEBAQEBAQEBAQEBAQEBAQEBAQEBAQEBAQEBAQEBAQEBAQEBAQEBAQEBAQEBAQEBAQEBAQEBAQEBAQEBAQEBAQEBAQEBAQEBAQEBAQEBAQEBAQEBAQEBAQEBAQEBAQEBAQEBAQEBAQEBAQEBAQEBAQEBAQEBAQEBAQEBAQEBAQEBAQEBAQEBAQEBAQEBAQEBAQEBAQEBAQEBAQEBAQEBAQEBAQEBAQEBAQEBAQEBAQEBAQEBAQEBAQEBAQEBAQEBAQEBAQEBAQEBAQEBAQEBAQEBAQEBAQEBAQEBAQEBAQEBAQEBAQEBAQEBAQEBAQEBAQEBAQEBAQEBAQEBAQEBAQEBAQEBAQEBAQEBAQEBAQEBAQEBAQEBAQEBAQEBAQEBAQEBAQEBAQEBAQEBAQEBAQEBAQEBAQEBAQEBAQEBAQEBAQEBAQEBAQEBAQEBAQEBAQEBAQEBAQEBAQEBAQEBAQEBAQEBAQEBAQEBAQEBAQEBAQEBAQEBAQEBAQEBAQEBAQEBAQEBAQEBAQEBAQEBAQEBAQEBAQEBAQEBAQEBAQEBAQEBAQEBAQEBAQEBAQEBAQEBAQEBAQEBAQEBAQEBAQEBAQEBAQEBAQEBAQEBAQEBAQEBAQEBAQEBAQEBAQEBAQEBAQEBAQEBAQEBAQEBAQEBAQEBAQEBAQEBAQEBAQEBAQEBAQEBAQEBAQEBAQEBAQEBAQEBAQEBAQEBAQEBAQEBAQEBAQEBAQEBAQEBAQEBAQEBAQEBAQEBAQEBAQEBAQEBAQEBAQEBAQEBAQEBAQEBAQEBAQEBAQEBAQEBAQEBAQEBAQEBAQEBAQEBAQEBAQEBAQEBAQEBAQEBAQEBAQEBAQEBAQEBAQEBAQEBAQEBAQEBAQEBAQEBAQEBAQEBAQEBAQEBAQEBAQEBAQEBAQEBAQEBAQEBAQEBAQEBAQEBAQEBAQEBAQEBAQEBAQEBAQEBAQEBAQEBAQEBAQEBAQEBAQEBAQEBAQEBAQEBAQEBAQEBAQEBAQEBAQEBAQEBAQEBAQEBAQEBAQEBAQEBAQEBAQEBAQEBAQEBAQEBAQEBAQEBAQEBAQEBAQEBAQEBAQEBAQEBAQEBAQEBAQEBAQEBAQEBAQEBAQEBAQEBAQEBAQEBAQEBAQEBAQEBAQEBAQEBAQEBAQEBAQEBAQEBAQEBAQEBAQEBAQEBAQEBAQEBAQEBAQEBAQEBAQEBAQEBAQEBAQEBAQEBAQEBAQEBAQEBAQEBAQEBAQEBAQEBAQEBAQEBAQEBAQEBAQEBAQEBAQEBAQEBAQEBAQEBAQEBAQEBAQEBAQEBAQEBAQEBAQEBAQEBAQEBAQEBAQEBAQEBAQEBAQEBAQEBAQEBAQEBAQEBAQEBAQEBAQEBAQEBAQEBAQEBAQEBAQEBAQEBAQEBAQEBAQEBAQEBAQEBAQEBAQEBAQEBAQEBAQEBAQEBAQEBAQEBAQEBAQEBAQEBAQEBAQEBAQEBAQEBAQEBAQEBAQEBAQEBAQEBAQEBAQEBAQEBAQEBAQEBAQEBAQEBAQEBAQEBAQEBAQEBAQEBAQEBAQEBAQEBAQEBAQEBAQEBAQEBAQEBAQEBAQEBAQEBAQEBAQEBAQEBAQEBAQEBAQEBAQEBAQEBAQEBAQEBAQEBAQEBAQEBAQEBAQEBAQEBAQEBAQEBAQEBAQEBAQEBAQEBAQEBAQEBAQEBAQEBAQEBAQEBAQEBAQEBAQEBAQEBAQEBAQEBAQEBAQEBAQEBAQEBAQEBAQEBAQEBAQEBAQEBAQEBAQEBAQEBAQEBAQEBAQEBAQEBAQEBAQEBAQEBAQEBAQEBAQEBAQEBAQEBAQEBAQEBAQEBAQEBAQEBAQEBAQEBAQEBAQEBAQEBAQEBAQEBAQEBAQEBAQEBAQEBAQEBAQEBAQEBAQEBAQEBAQEBAQEBAQEBAQEBAQEBAQEBAQEBAQEBAQEBAQEBAQEBAQEBAQEBAQEBAQEBAQEBAQEBAQEBAQEBAQEBAQEBAQEBAQEBAQEBAQEBAQEBAQEBAQEBAQEBAQEBAQEBAQEBAQEBAQEBAQEBAQEBAQEBAQEBAQEBAQEBAQEBAQEBAQEBAQEBAQEBAQEBAQEBAQEBAQEBAQEBAQEBAQEBAQEBAQEBAQEBAQEBAQEBAQEBAQEBAQEBAQEBAQEBAQEBAQEBAQEBAQEBAQEBAQEBAQEBAQEBAQEBAQEBAQEBAQEBAQEBAQEBAQEBAQEBAQEBAQEBAQEBAQEBAQEBAQEBAQEBAQEBAQEBAQEBAQEBAQEBAQEBAQEBAQEBAQEBAQEBAQEBAQEBAQEBAQEBAQEBAQEBAQEBAQEBAQEBAQEBAQEBAQEBAQEBAQEBAQEBAQEBAQEBAQEBAQEBAQEBAQEBAQEBAQEBAQEBAQEBAQEBAQEBAQEBAQEBAQEBAQEBAQEBAQEBAQEBAQEBAQEBAQEBAQEBAQEBAQEBAQEBAQEBAQEBAQEBAQEBAQEBAQEBAQEBAQEBAQEBAQEBAQEBAQEBAQEBAQEBAQEBAQEBAQEBAQEBAQEBAQEBAQEBAQEBAQEBAQEBAQEBAQEBAQEBAQEBAQEBAQEBAQEBAQEBAQEBAQEBAQEBAQEBAQEBAQEBAQEBAQEBAQEBAQEBAQEBAQEBAQEBAQEBAQEBAQEBAQEBAQEBAQEBAQEBAQEBAQEBAQEBAQEBAQEBAQEBAQEBAQEBAQEBAQEBAQEBAQEBAQEBAQEBAQEBAQEBAQEBAQEBAQEBAQEBAQEBAQEBAQEBAQEBAQEBAQEBAQEBAQEBAQEBAQEBAQEBAQEBAQEBAQEBAQEBAQEBAQEBAQEBAQEBAQEBAQEBAQEBAQEBAQEBAQEBAQEBAQEBAQEBAQEBAQEBAQEBAQEBAQEBAQEBAQEBAQEBAQEBAQEBAQEBAQEBAQEBAQEBAQEBAQEBAQEBAQEBAQ==",
          "dtype": "i1"
         },
         "x0": " ",
         "xaxis": "x",
         "y": {
          "bdata": "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",
          "dtype": "f8"
         },
         "y0": " ",
         "yaxis": "y"
        },
        {
         "alignmentgroup": "True",
         "hovertemplate": "Card_Category=%{x}<br>Credit_Limit=%{y}<extra></extra>",
         "legendgroup": "3",
         "marker": {
          "color": "#EF553B"
         },
         "name": "3",
         "notched": false,
         "offsetgroup": "3",
         "orientation": "v",
         "showlegend": true,
         "type": "box",
         "x": {
          "bdata": "AwMDAwMDAwMDAwMDAwMDAwMDAwMDAwMDAwMDAwMDAwMDAwMDAwMDAwMDAwMDAwMDAwMDAwMDAwMDAwMDAwMDAwMDAwMDAwMDAwMDAwMDAwMDAwMDAwMDAwMDAwMDAwMDAwMDAwMDAwMDAwMDAwMDAwMDAwM=",
          "dtype": "i1"
         },
         "x0": " ",
         "xaxis": "x",
         "y": {
          "bdata": "AAAAAIDa4EAAAAAAgCTOQAAAAACA2uBAAAAAAABXzkAAAAAAgNrgQAAAAABAa9dAAAAAAIDa4EAAAAAAgDnPQAAAAACAOc9AAAAAAIDa4EAAAAAAgNrgQAAAAACA2uBAAAAAAIDa4EAAAAAAgNrgQAAAAACA2uBAAAAAAIDa4EAAAAAAgNrgQAAAAACA2uBAAAAAAIDa4EAAAAAAgDnPQAAAAACA2uBAAAAAAACszkAAAAAAgNrgQAAAAACA2uBAAAAAAIDa4EAAAAAAgNrgQAAAAACA2uBAAAAAAIDa4EAAAAAAgDnPQAAAAACA2uBAAAAAAIDa4EAAAAAAgNrgQAAAAACA2uBAAAAAAIDa4EAAAAAAgNrgQAAAAABAa9dAAAAAAIBozkAAAAAAgNrgQAAAAACAOc9AAAAAAICCzUAAAAAAgNrgQAAAAACA2uBAAAAAAABQuEAAAAAAgDnPQAAAAACA2uBAAAAAAIDa4EAAAAAAgNrgQAAAAACAOc9AAAAAAIDa4EAAAAAAgNrgQAAAAACA2uBAAAAAAIDa4EAAAAAAgNrgQAAAAABAa9dAAAAAAIDa4EAAAAAAgNrgQAAAAACAOc9AAAAAAIDa4EAAAAAAgNrgQAAAAAAAVM1AAAAAAIDa4EAAAAAAgNrgQAAAAACAOc9AAAAAAIDa4EAAAAAAgNrgQAAAAACA2uBAAAAAAIDa4EAAAAAAgALOQAAAAABAa9dAAAAAAIA5z0AAAAAAgNrgQAAAAACA2uBAAAAAAIDa4EAAAAAAgNrgQAAAAABAa9dAAAAAAIDa4EAAAAAAgNrgQAAAAACAP85AAAAAAEAx1kAAAAAAQGvXQAAAAACA2uBAAAAAAEBr10AAAAAAgNrgQAAAAABAa9dAAAAAAIDa4EAAAAAAgNrgQAAAAACA2uBAAAAAAIDa4EAAAAAAAC6tQAAAAACA2uBAAAAAAMCC1kAAAAAAgNrgQAAAAACA2uBAAAAAAIDa4EAAAAAAQGvXQAAAAACA2uBAAAAAAEBr10AAAAAAgNrgQAAAAACAOc9AAAAAAIDa4EAAAAAAgNrgQAAAAACAOc9AAAAAAIDa4EAAAAAAgNrgQAAAAACAzs1AAAAAAIAw1kAAAAAAAC29QAAAAACA2uBAAAAAAIA5z0AAAAAAAJ7NQAAAAACA2uBAAAAAAEBr10AAAAAAgNrgQAAAAACAOc9AAAAAAAAtzUAAAAAAgNrgQA==",
          "dtype": "f8"
         },
         "y0": " ",
         "yaxis": "y"
        },
        {
         "alignmentgroup": "True",
         "hovertemplate": "Card_Category=%{x}<br>Credit_Limit=%{y}<extra></extra>",
         "legendgroup": "2",
         "marker": {
          "color": "#00cc96"
         },
         "name": "2",
         "notched": false,
         "offsetgroup": "2",
         "orientation": "v",
         "showlegend": true,
         "type": "box",
         "x": {
          "bdata": "AgICAgICAgICAgICAgICAgICAgICAgICAgICAgICAgICAgICAgICAgICAgICAgICAgICAgICAgICAgICAgICAgICAgICAgICAgICAgICAgICAgICAgICAgICAgICAgICAgICAgICAgICAgICAgICAgICAgICAgICAgICAgICAgICAgICAgICAgICAgICAgICAgICAgICAgICAgICAgICAgICAgICAgICAgICAgICAgICAgICAgICAgICAgICAgICAgICAgICAgICAgICAgICAgICAgICAgICAgICAgICAgICAgICAgICAgICAgICAgICAgICAgICAgICAgICAgICAgICAgICAgICAgICAgICAgICAgICAgICAgICAgICAgICAgICAgICAgICAgICAgICAgICAgICAgICAgICAgICAgICAgICAgICAgICAgICAgICAgICAgICAgICAgICAgICAgICAgICAgICAgICAgICAgICAgICAgICAgICAgICAgICAgICAgICAgICAgICAgICAgICAgICAgICAgICAgICAgICAgICAgICAgICAgICAgICAgICAgICAgICAgICAgICAgICAgICAgICAgICAgICAgICAgICAgICAgICAgICAgICAgICAgICAgICAgICAgICAgICAgICAgICAgICAgICAgICAgICAgICAgICAgICAgICAgICAgICAgICAgICAgICAgICAgICAgICAgIC",
          "dtype": "i1"
         },
         "x0": " ",
         "xaxis": "x",
         "y": {
          "bdata": "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",
          "dtype": "f8"
         },
         "y0": " ",
         "yaxis": "y"
        },
        {
         "alignmentgroup": "True",
         "hovertemplate": "Card_Category=%{x}<br>Credit_Limit=%{y}<extra></extra>",
         "legendgroup": "4",
         "marker": {
          "color": "#ab63fa"
         },
         "name": "4",
         "notched": false,
         "offsetgroup": "4",
         "orientation": "v",
         "showlegend": true,
         "type": "box",
         "x": {
          "bdata": "BAQEBAQEBAQEBAQEBAQEBAQEBAQ=",
          "dtype": "i1"
         },
         "x0": " ",
         "xaxis": "x",
         "y": {
          "bdata": "AAAAAIDa4EAAAAAAgNrgQAAAAACAOc9AAAAAAIDa4EAAAAAAQGvXQAAAAACA2uBAAAAAAIDa4EAAAAAAgNrgQAAAAACAOc9AAAAAAIDa4EAAAAAAgNrgQAAAAACA2uBAAAAAAIA5z0AAAAAAgNrgQAAAAACA2uBAAAAAAIDa4EAAAAAAgDnPQAAAAACA2uBAAAAAAIDa4EAAAAAAgNrgQA==",
          "dtype": "f8"
         },
         "y0": " ",
         "yaxis": "y"
        }
       ],
       "layout": {
        "boxmode": "overlay",
        "legend": {
         "title": {
          "text": "Card_Category"
         },
         "tracegroupgap": 0
        },
        "template": {
         "data": {
          "bar": [
           {
            "error_x": {
             "color": "#2a3f5f"
            },
            "error_y": {
             "color": "#2a3f5f"
            },
            "marker": {
             "line": {
              "color": "#E5ECF6",
              "width": 0.5
             },
             "pattern": {
              "fillmode": "overlay",
              "size": 10,
              "solidity": 0.2
             }
            },
            "type": "bar"
           }
          ],
          "barpolar": [
           {
            "marker": {
             "line": {
              "color": "#E5ECF6",
              "width": 0.5
             },
             "pattern": {
              "fillmode": "overlay",
              "size": 10,
              "solidity": 0.2
             }
            },
            "type": "barpolar"
           }
          ],
          "carpet": [
           {
            "aaxis": {
             "endlinecolor": "#2a3f5f",
             "gridcolor": "white",
             "linecolor": "white",
             "minorgridcolor": "white",
             "startlinecolor": "#2a3f5f"
            },
            "baxis": {
             "endlinecolor": "#2a3f5f",
             "gridcolor": "white",
             "linecolor": "white",
             "minorgridcolor": "white",
             "startlinecolor": "#2a3f5f"
            },
            "type": "carpet"
           }
          ],
          "choropleth": [
           {
            "colorbar": {
             "outlinewidth": 0,
             "ticks": ""
            },
            "type": "choropleth"
           }
          ],
          "contour": [
           {
            "colorbar": {
             "outlinewidth": 0,
             "ticks": ""
            },
            "colorscale": [
             [
              0,
              "#0d0887"
             ],
             [
              0.1111111111111111,
              "#46039f"
             ],
             [
              0.2222222222222222,
              "#7201a8"
             ],
             [
              0.3333333333333333,
              "#9c179e"
             ],
             [
              0.4444444444444444,
              "#bd3786"
             ],
             [
              0.5555555555555556,
              "#d8576b"
             ],
             [
              0.6666666666666666,
              "#ed7953"
             ],
             [
              0.7777777777777778,
              "#fb9f3a"
             ],
             [
              0.8888888888888888,
              "#fdca26"
             ],
             [
              1,
              "#f0f921"
             ]
            ],
            "type": "contour"
           }
          ],
          "contourcarpet": [
           {
            "colorbar": {
             "outlinewidth": 0,
             "ticks": ""
            },
            "type": "contourcarpet"
           }
          ],
          "heatmap": [
           {
            "colorbar": {
             "outlinewidth": 0,
             "ticks": ""
            },
            "colorscale": [
             [
              0,
              "#0d0887"
             ],
             [
              0.1111111111111111,
              "#46039f"
             ],
             [
              0.2222222222222222,
              "#7201a8"
             ],
             [
              0.3333333333333333,
              "#9c179e"
             ],
             [
              0.4444444444444444,
              "#bd3786"
             ],
             [
              0.5555555555555556,
              "#d8576b"
             ],
             [
              0.6666666666666666,
              "#ed7953"
             ],
             [
              0.7777777777777778,
              "#fb9f3a"
             ],
             [
              0.8888888888888888,
              "#fdca26"
             ],
             [
              1,
              "#f0f921"
             ]
            ],
            "type": "heatmap"
           }
          ],
          "histogram": [
           {
            "marker": {
             "pattern": {
              "fillmode": "overlay",
              "size": 10,
              "solidity": 0.2
             }
            },
            "type": "histogram"
           }
          ],
          "histogram2d": [
           {
            "colorbar": {
             "outlinewidth": 0,
             "ticks": ""
            },
            "colorscale": [
             [
              0,
              "#0d0887"
             ],
             [
              0.1111111111111111,
              "#46039f"
             ],
             [
              0.2222222222222222,
              "#7201a8"
             ],
             [
              0.3333333333333333,
              "#9c179e"
             ],
             [
              0.4444444444444444,
              "#bd3786"
             ],
             [
              0.5555555555555556,
              "#d8576b"
             ],
             [
              0.6666666666666666,
              "#ed7953"
             ],
             [
              0.7777777777777778,
              "#fb9f3a"
             ],
             [
              0.8888888888888888,
              "#fdca26"
             ],
             [
              1,
              "#f0f921"
             ]
            ],
            "type": "histogram2d"
           }
          ],
          "histogram2dcontour": [
           {
            "colorbar": {
             "outlinewidth": 0,
             "ticks": ""
            },
            "colorscale": [
             [
              0,
              "#0d0887"
             ],
             [
              0.1111111111111111,
              "#46039f"
             ],
             [
              0.2222222222222222,
              "#7201a8"
             ],
             [
              0.3333333333333333,
              "#9c179e"
             ],
             [
              0.4444444444444444,
              "#bd3786"
             ],
             [
              0.5555555555555556,
              "#d8576b"
             ],
             [
              0.6666666666666666,
              "#ed7953"
             ],
             [
              0.7777777777777778,
              "#fb9f3a"
             ],
             [
              0.8888888888888888,
              "#fdca26"
             ],
             [
              1,
              "#f0f921"
             ]
            ],
            "type": "histogram2dcontour"
           }
          ],
          "mesh3d": [
           {
            "colorbar": {
             "outlinewidth": 0,
             "ticks": ""
            },
            "type": "mesh3d"
           }
          ],
          "parcoords": [
           {
            "line": {
             "colorbar": {
              "outlinewidth": 0,
              "ticks": ""
             }
            },
            "type": "parcoords"
           }
          ],
          "pie": [
           {
            "automargin": true,
            "type": "pie"
           }
          ],
          "scatter": [
           {
            "fillpattern": {
             "fillmode": "overlay",
             "size": 10,
             "solidity": 0.2
            },
            "type": "scatter"
           }
          ],
          "scatter3d": [
           {
            "line": {
             "colorbar": {
              "outlinewidth": 0,
              "ticks": ""
             }
            },
            "marker": {
             "colorbar": {
              "outlinewidth": 0,
              "ticks": ""
             }
            },
            "type": "scatter3d"
           }
          ],
          "scattercarpet": [
           {
            "marker": {
             "colorbar": {
              "outlinewidth": 0,
              "ticks": ""
             }
            },
            "type": "scattercarpet"
           }
          ],
          "scattergeo": [
           {
            "marker": {
             "colorbar": {
              "outlinewidth": 0,
              "ticks": ""
             }
            },
            "type": "scattergeo"
           }
          ],
          "scattergl": [
           {
            "marker": {
             "colorbar": {
              "outlinewidth": 0,
              "ticks": ""
             }
            },
            "type": "scattergl"
           }
          ],
          "scattermap": [
           {
            "marker": {
             "colorbar": {
              "outlinewidth": 0,
              "ticks": ""
             }
            },
            "type": "scattermap"
           }
          ],
          "scattermapbox": [
           {
            "marker": {
             "colorbar": {
              "outlinewidth": 0,
              "ticks": ""
             }
            },
            "type": "scattermapbox"
           }
          ],
          "scatterpolar": [
           {
            "marker": {
             "colorbar": {
              "outlinewidth": 0,
              "ticks": ""
             }
            },
            "type": "scatterpolar"
           }
          ],
          "scatterpolargl": [
           {
            "marker": {
             "colorbar": {
              "outlinewidth": 0,
              "ticks": ""
             }
            },
            "type": "scatterpolargl"
           }
          ],
          "scatterternary": [
           {
            "marker": {
             "colorbar": {
              "outlinewidth": 0,
              "ticks": ""
             }
            },
            "type": "scatterternary"
           }
          ],
          "surface": [
           {
            "colorbar": {
             "outlinewidth": 0,
             "ticks": ""
            },
            "colorscale": [
             [
              0,
              "#0d0887"
             ],
             [
              0.1111111111111111,
              "#46039f"
             ],
             [
              0.2222222222222222,
              "#7201a8"
             ],
             [
              0.3333333333333333,
              "#9c179e"
             ],
             [
              0.4444444444444444,
              "#bd3786"
             ],
             [
              0.5555555555555556,
              "#d8576b"
             ],
             [
              0.6666666666666666,
              "#ed7953"
             ],
             [
              0.7777777777777778,
              "#fb9f3a"
             ],
             [
              0.8888888888888888,
              "#fdca26"
             ],
             [
              1,
              "#f0f921"
             ]
            ],
            "type": "surface"
           }
          ],
          "table": [
           {
            "cells": {
             "fill": {
              "color": "#EBF0F8"
             },
             "line": {
              "color": "white"
             }
            },
            "header": {
             "fill": {
              "color": "#C8D4E3"
             },
             "line": {
              "color": "white"
             }
            },
            "type": "table"
           }
          ]
         },
         "layout": {
          "annotationdefaults": {
           "arrowcolor": "#2a3f5f",
           "arrowhead": 0,
           "arrowwidth": 1
          },
          "autotypenumbers": "strict",
          "coloraxis": {
           "colorbar": {
            "outlinewidth": 0,
            "ticks": ""
           }
          },
          "colorscale": {
           "diverging": [
            [
             0,
             "#8e0152"
            ],
            [
             0.1,
             "#c51b7d"
            ],
            [
             0.2,
             "#de77ae"
            ],
            [
             0.3,
             "#f1b6da"
            ],
            [
             0.4,
             "#fde0ef"
            ],
            [
             0.5,
             "#f7f7f7"
            ],
            [
             0.6,
             "#e6f5d0"
            ],
            [
             0.7,
             "#b8e186"
            ],
            [
             0.8,
             "#7fbc41"
            ],
            [
             0.9,
             "#4d9221"
            ],
            [
             1,
             "#276419"
            ]
           ],
           "sequential": [
            [
             0,
             "#0d0887"
            ],
            [
             0.1111111111111111,
             "#46039f"
            ],
            [
             0.2222222222222222,
             "#7201a8"
            ],
            [
             0.3333333333333333,
             "#9c179e"
            ],
            [
             0.4444444444444444,
             "#bd3786"
            ],
            [
             0.5555555555555556,
             "#d8576b"
            ],
            [
             0.6666666666666666,
             "#ed7953"
            ],
            [
             0.7777777777777778,
             "#fb9f3a"
            ],
            [
             0.8888888888888888,
             "#fdca26"
            ],
            [
             1,
             "#f0f921"
            ]
           ],
           "sequentialminus": [
            [
             0,
             "#0d0887"
            ],
            [
             0.1111111111111111,
             "#46039f"
            ],
            [
             0.2222222222222222,
             "#7201a8"
            ],
            [
             0.3333333333333333,
             "#9c179e"
            ],
            [
             0.4444444444444444,
             "#bd3786"
            ],
            [
             0.5555555555555556,
             "#d8576b"
            ],
            [
             0.6666666666666666,
             "#ed7953"
            ],
            [
             0.7777777777777778,
             "#fb9f3a"
            ],
            [
             0.8888888888888888,
             "#fdca26"
            ],
            [
             1,
             "#f0f921"
            ]
           ]
          },
          "colorway": [
           "#636efa",
           "#EF553B",
           "#00cc96",
           "#ab63fa",
           "#FFA15A",
           "#19d3f3",
           "#FF6692",
           "#B6E880",
           "#FF97FF",
           "#FECB52"
          ],
          "font": {
           "color": "#2a3f5f"
          },
          "geo": {
           "bgcolor": "white",
           "lakecolor": "white",
           "landcolor": "#E5ECF6",
           "showlakes": true,
           "showland": true,
           "subunitcolor": "white"
          },
          "hoverlabel": {
           "align": "left"
          },
          "hovermode": "closest",
          "mapbox": {
           "style": "light"
          },
          "paper_bgcolor": "white",
          "plot_bgcolor": "#E5ECF6",
          "polar": {
           "angularaxis": {
            "gridcolor": "white",
            "linecolor": "white",
            "ticks": ""
           },
           "bgcolor": "#E5ECF6",
           "radialaxis": {
            "gridcolor": "white",
            "linecolor": "white",
            "ticks": ""
           }
          },
          "scene": {
           "xaxis": {
            "backgroundcolor": "#E5ECF6",
            "gridcolor": "white",
            "gridwidth": 2,
            "linecolor": "white",
            "showbackground": true,
            "ticks": "",
            "zerolinecolor": "white"
           },
           "yaxis": {
            "backgroundcolor": "#E5ECF6",
            "gridcolor": "white",
            "gridwidth": 2,
            "linecolor": "white",
            "showbackground": true,
            "ticks": "",
            "zerolinecolor": "white"
           },
           "zaxis": {
            "backgroundcolor": "#E5ECF6",
            "gridcolor": "white",
            "gridwidth": 2,
            "linecolor": "white",
            "showbackground": true,
            "ticks": "",
            "zerolinecolor": "white"
           }
          },
          "shapedefaults": {
           "line": {
            "color": "#2a3f5f"
           }
          },
          "ternary": {
           "aaxis": {
            "gridcolor": "white",
            "linecolor": "white",
            "ticks": ""
           },
           "baxis": {
            "gridcolor": "white",
            "linecolor": "white",
            "ticks": ""
           },
           "bgcolor": "#E5ECF6",
           "caxis": {
            "gridcolor": "white",
            "linecolor": "white",
            "ticks": ""
           }
          },
          "title": {
           "x": 0.05
          },
          "xaxis": {
           "automargin": true,
           "gridcolor": "white",
           "linecolor": "white",
           "ticks": "",
           "title": {
            "standoff": 15
           },
           "zerolinecolor": "white",
           "zerolinewidth": 2
          },
          "yaxis": {
           "automargin": true,
           "gridcolor": "white",
           "linecolor": "white",
           "ticks": "",
           "title": {
            "standoff": 15
           },
           "zerolinecolor": "white",
           "zerolinewidth": 2
          }
         }
        },
        "title": {
         "text": "Credit Limit by Card Category"
        },
        "xaxis": {
         "anchor": "y",
         "categoryarray": [
          1,
          3,
          2,
          4
         ],
         "categoryorder": "array",
         "domain": [
          0,
          1
         ],
         "title": {
          "text": "Card_Category"
         }
        },
        "yaxis": {
         "anchor": "x",
         "domain": [
          0,
          1
         ],
         "title": {
          "text": "Credit_Limit"
         }
        }
       }
      }
     },
     "metadata": {},
     "output_type": "display_data"
    }
   ],
   "source": [
    "import plotly.express as px\n",
    "\n",
    "fig = px.box(data, x='Card_Category', y='Credit_Limit', color='Card_Category',\n",
    "             title='Credit Limit by Card Category')\n",
    "fig.show()\n"
   ]
  },
  {
   "cell_type": "markdown",
   "metadata": {},
   "source": [
    "- Platinum Card have the highest credit limit, followed by Gold Card, Silver Card, and Blue Card."
   ]
  },
  {
   "cell_type": "markdown",
   "metadata": {},
   "source": [
    "### Finding relationship between Gender and Income Category"
   ]
  },
  {
   "cell_type": "code",
   "execution_count": 9,
   "metadata": {},
   "outputs": [
    {
     "data": {
      "application/vnd.plotly.v1+json": {
       "config": {
        "plotlyServerURL": "https://plot.ly"
       },
       "data": [
        {
         "hovertemplate": "Gender=%{x}<br>Income_Category=%{y}<extra></extra>",
         "legendgroup": "",
         "marker": {
          "color": "#636efa",
          "symbol": "circle"
         },
         "mode": "markers",
         "name": "",
         "showlegend": false,
         "type": "scattergl",
         "x": {
          "bdata": "AAEAAQAAAAAAAAAAAAABAAAAAAEAAQABAAEAAAEAAAAAAQABAQEBAQAAAQABAAAAAAABAQEAAAEBAAEAAAAAAAAAAAEAAAABAAAAAAEBAAAAAAEBAAAAAQAAAQAAAAEAAAAAAAEBAAEAAQAAAQAAAAABAAAAAAABAAEAAQAAAAAAAQEAAAAAAQAAAQEBAAABAAEBAAEAAAABAAEBAQABAQABAAEBAQEBAAABAQAAAQEAAQEBAAABAAABAAEBAQAAAQABAQAAAAAAAAAAAAEBAAAAAQAAAAAAAQAAAQABAAEBAAABAQABAAAAAAAAAAAAAQAAAQAAAQAAAAAAAAAAAQAAAQAAAQABAAEBAQEAAAAAAAABAAEAAQAAAQEAAAABAQEAAQAAAAAAAQEAAAAAAAAAAQAAAQAAAAEAAQABAQAAAAEAAQAAAQABAQEBAQAAAQABAAEAAAAAAAEAAAEAAQABAAAAAAEAAQAAAQEAAQEBAAAAAQEBAQAAAAEBAAAAAQAAAAABAAEAAQEAAAAAAAAAAAAAAAAAAAEAAAABAAABAAAAAQAAAAEAAAAAAQEBAQEAAQEBAAAAAQAAAQABAQEAAAABAQEAAAEBAAEAAAAAAAABAAABAQAAAAEBAAAAAAEAAQABAQABAAAAAQEAAAAAAAEBAAEBAAEAAAEBAQAAAQABAQAAAAEAAAAAAAABAAEBAAABAQEAAAAAAAABAQEAAAEBAAEAAAAAAQAAAAAAAAEAAAAAAAAAAAAAAAEAAQABAQAAAQAAAAEAAAABAAABAQAAAAEAAAEAAQEBAQAAAAABAQABAAEBAQABAAEAAAAAAQEBAAABAQAAAAEAAAAAAQAAAQAAAAEBAAAAAQABAQABAAEAAAAAAQEAAAEBAQAAAAAAAAEBAAEBAQAAAAAAAAEBAAEAAQAAAAEAAAAAAQEAAQABAAEBAAAAAAEAAAEAAAEAAAABAAEAAQEBAQEAAAAAAQAAAQAAAAEAAQEAAAABAQAAAQEAAAABAQAAAAAAAQAAAAEBAAAAAAEAAQAAAQAAAAAAAQABAQEBAAEAAAAAAAABAQAAAAAAAAEAAAABAAABAQEBAAABAAAAAAEAAQABAAAAAQEAAAEBAAAAAQEBAQAAAQABAAEAAQEAAAEAAAEAAAAAAQEAAAEBAAAAAQEAAQEAAAABAQABAAAAAQEBAAAAAAAAAAABAAAAAAAAAAEBAAABAAABAQAAAAEBAQEAAQEAAAEBAAEAAAEBAQEAAAEAAAEAAAEAAAAAAQAAAQAAAAAAAAEBAAAAAAAAAAEBAAABAAABAQEBAAAAAAAAAAEAAAAAAAEBAQAAAQABAAABAQEBAAAAAAAAAQAAAAABAQAAAAABAAEBAQEBAQABAQAAAQABAAEBAAEAAAAAAQEBAQAAAQAAAQAAAQABAQEBAAEBAAABAAEBAAAAAAAAAAEBAQEAAAAAAAEBAAEAAAAAAAAAAAEAAAAAAAABAAEAAQEAAAABAAAAAQAAAQABAAEAAAABAAAAAAEBAQEBAQAAAAAAAAAAAQEBAAABAAEAAQABAAEBAQAAAAAAAQEBAAAAAAABAQAAAAABAQEBAAABAQABAAEAAQABAQEAAQEAAAAAAQEAAQAAAAAAAQEBAAEAAAABAQABAQAAAQABAAEBAQEAAQEBAQAAAAABAAAAAQEBAQAAAAEBAQAAAQEAAQABAQEAAAEAAAEAAAEBAAEBAAABAAEBAAEAAAEAAAEAAAEAAAAAAAEAAAAAAAAAAAEAAAEBAQABAAABAQEAAQEAAQAAAAEBAAEBAAAAAQAAAQEBAAEAAAEBAQAAAAEAAQAAAAEAAAEBAQABAQAAAQAAAQABAAEAAAEAAQAAAQAAAQABAAEBAAEBAAABAQABAAAAAQAAAAABAAAAAAEAAQAAAAABAAEBAAEBAQEAAAABAAEAAQEAAQAAAAAAAAAAAAEAAQABAQAAAAABAQAAAQEAAAABAQABAQABAQEBAAABAQAAAAAAAAAAAAAAAAEAAAEAAAEBAAAAAAABAQEBAQAAAAAAAQABAAABAAEBAAEBAAAAAQEAAAAAAAAAAAAAAAABAQEAAAEBAQEAAAABAAAAAQABAQAAAAAAAQEAAQABAQAAAQAAAQEAAQEAAAABAAEBAQAAAQEBAQEAAAABAAEAAAAAAAAAAAEBAAAAAQEAAAAAAQEAAAABAAEBAAAAAAAAAAEAAAAAAAABAQEBAAEBAAEBAAEAAQABAAABAAEAAAAAAAAAAAEBAQEAAAEAAAEBAQAAAAAAAQEAAAEBAAABAQABAAAAAAAAAQABAQABAQAAAQEAAQAAAQABAQEBAAEAAAEBAAAAAAEBAQABAAABAAAAAQEBAAEAAQABAAAAAAABAAAAAQAAAAEBAAAAAAAAAAAAAQEAAQAAAAAAAAAAAQEAAQEAAAAAAAAAAQEAAAEAAAEBAQAAAQAAAQAAAQEAAAEAAAAAAQEAAAAAAQEBAAEBAAAAAAAAAAAAAAEBAQABAAEAAQAAAAABAAEAAAAAAQAAAAEAAAABAAEBAAABAQAAAQAAAAABAAAAAAAAAQAAAAAAAQAAAAABAQEBAAAAAQAAAAEBAAABAAEAAAAAAQAAAQEBAQABAAAAAAAAAQAAAAABAAABAAEBAQEAAAAAAAAAAAEAAAAAAAABAAAAAAAAAQAAAQEAAQAAAAABAQEAAAEAAAAAAAABAQEAAAABAAEAAAEAAAEBAAEAAAAAAAEAAQEBAAABAAEBAQABAAAAAAEAAAEBAAABAQEBAAEBAAEBAAAAAAABAAABAQEAAAABAAABAAEBAQABAAABAAAAAQEAAAAAAAABAAAAAAAAAAAAAAABAQABAQAAAAAAAAEBAQAAAQAAAQABAAEBAAAAAQAAAAAAAAABAAABAAAAAQABAAAAAAEAAAEBAAEAAAEBAAAAAAAAAQEBAQAAAQABAQEBAAEAAAABAAABAAEBAQABAAAAAAABAQABAQEAAAEAAAAAAAAAAAEBAQEBAAABAAABAAEAAAAAAAAAAAAAAQEBAAAAAQEAAAAAAQAAAAEBAQABAAEAAAAAAAEBAAABAAEAAQEAAAEBAQAAAQAAAQAAAQAAAQABAAABAQAAAAEBAQEAAAEBAQAAAAEAAQABAAEAAAABAQEAAQEAAAEAAAABAQEAAQAAAAAAAAABAQABAAEAAQEAAQABAAAAAAAAAAAAAAEBAQEAAAABAAEAAQAAAQABAAABAAEBAAABAQABAQAAAAABAQAAAAEAAQEBAAEAAQAAAAEAAQEAAQAAAAABAAABAAABAAAAAAEBAQAAAAAAAQAAAAABAAEAAAEAAQEAAAEAAQEAAQAAAAEAAQAAAAAAAAAAAQEAAAAAAQAAAAAAAQAAAAAAAAEAAAEAAQEAAQAAAAAAAAEAAAEBAAAAAAABAAABAAEBAQAAAAEAAAAAAAEAAQAAAQEAAAEAAQEBAQABAAAAAAABAQAAAAAAAQAAAAAAAAEAAAEAAQAAAQEBAAABAQABAAEAAAAAAAABAQABAQABAAABAAABAAEAAAEAAQEAAQEBAAEBAAABAAEBAAAAAQAAAAAAAQAAAAAAAAABAAEAAAABAAABAAEBAQABAAABAQEAAQEBAAEAAQAAAQABAAABAAEBAQAAAAAAAAEAAAABAAEAAAEBAAABAQAAAQEBAAAAAQEAAAEAAAABAAABAAEAAQAAAAABAAEAAAAAAAEAAAABAQEBAQABAAEBAAEBAAAAAAEAAAAAAQAAAQEAAAEBAAABAAEBAQEBAAAAAAAAAAAAAAAAAAEAAQAAAAAAAQABAQEAAAAAAAABAAEAAAABAAAAAAABAQAAAQEBAQAAAQAAAAAAAAAAAAEAAQABAQABAQEAAAABAAEBAAAAAAAAAAEAAQEAAAEAAQEAAAEAAQAAAAEAAQEAAAAAAAAAAQABAAAAAAAAAAAAAQABAAEBAQAAAAEBAAEBAAABAAABAAAAAQEBAAEAAAEAAQABAAAAAQAAAQAAAAABAAABAAAAAAEAAAAAAQABAQEAAAABAQAAAAAAAAAAAQEBAAAAAQAAAQABAQEAAQEAAQEAAQEAAQABAAABAAABAAAAAAAAAQABAQABAQAAAQAAAQABAAEBAAAAAAEAAQAAAAEBAAABAAEBAAEBAQEAAAABAAAAAAEBAAABAQAAAQAAAAAAAAEAAQABAAEAAAABAQEBAAEAAAAAAQAAAAAAAAEAAAABAQAAAQAAAQAAAAAAAAABAAAAAQAAAAAAAAAAAAEBAAABAAAAAAABAQABAAEAAQEBAAAAAAAAAAABAAAAAAABAAEBAAAAAAABAAABAAEBAQABAAABAQEBAQAAAQABAAAAAQABAQAAAAEAAAAAAQAAAQEAAAABAQEBAAAAAAABAAABAAEBAAABAAEAAAEAAAEAAQABAAAAAQEBAQAAAAAAAQAAAQEAAAEAAQAAAQEAAAEBAAEBAAAAAAAAAQEBAQEAAAEAAAEAAAABAAAAAQABAAEBAQEAAQEAAAEBAQEAAQEBAAABAAABAQAAAAEAAQABAAEAAAEAAAABAQEAAAEAAAEAAAEAAAABAAAAAAABAAABAAABAQABAQEBAAEBAAEAAAEAAAAAAAAAAQAAAAAAAQAAAAABAQEBAQEBAAEBAAAAAQABAAEAAQAAAQAAAAAAAQABAQAAAQAAAQEAAQEBAAEAAAABAAAAAQEAAQABAQAAAAEAAQEBAQEAAQEBAAABAQABAQAAAAEAAAAAAQABAAAAAQEAAAABAAAAAQAAAQEAAQABAAABAQEBAQAAAQAAAQEBAAEBAAAAAAEBAAABAQABAQABAAAAAQAAAQAAAAEAAAEAAAABAQAAAQEBAAABAQAAAAABAAAAAAABAQEAAQEAAQEAAQEBAQABAAEAAAAAAAAAAAEBAAEBAAEBAQEBAAEAAAAAAAAAAAEAAAABAQABAQABAAABAAEBAQABAQEAAAABAQAAAQEAAAABAQABAQEBAAEBAQAAAAABAQEBAQAAAQABAQABAQABAAEAAAABAAEBAAABAAEAAQEAAAEAAQEBAAEBAAABAAAAAAAAAAABAQABAQABAQEAAQABAAEBAQEAAAEBAAEAAAABAAEAAQEAAAABAQEBAQAAAAEBAQABAQABAQAAAAEAAAEAAQABAQEAAQEBAQEBAQAAAQEBAAEBAAEAAAEAAQAAAQABAAEAAQEBAQEBAAAAAAAAAQEAAAAAAAEBAQEAAQEAAAEBAAEAAQEBAQEAAQEBAAAAAAABAQABAAABAQAAAAABAQAAAAEAAQEBAQEAAQEBAAEBAAEBAQAAAQAAAQAAAAEAAQAAAQABAAAAAQABAAEAAAAAAAEBAAAAAAABAQEBAAEAAAEAAQEBAQEBAQEBAQABAQAAAAEBAAAAAAEBAQABAQEBAQEBAAAAAAEBAAAAAQABAQEBAQEBAAAAAAABAAEAAAEBAAEAAAAAAAEBAQAAAAEAAAABAAEBAQEAAQABAQEBAAABAAAAAQAAAAAAAAEAAAEBAAAAAQAAAAEAAAEBAQEAAAEBAAAAAAEBAQAAAQEAAAEBAAABAQEAAQEAAAEBAQAAAQABAAEAAAEAAQABAQABAAEAAQEBAQAAAQEBAQEAAQAAAQEBAAEAAQEAAQEBAAEAAQAAAAEAAQABAQEAAAAAAQABAAAAAAAAAAEBAQABAQEAAQEBAAABAAABAQABAAAAAAAAAQEBAQAAAQAAAAEAAQEBAQABAQEBAAEBAQABAAAAAAEAAQEBAAEBAQEBAAEAAAEAAQEBAQAAAAAAAAABAAEBAAAAAQEBAQEBAAABAQEAAQEAAAEBAQAAAAEAAQABAAABAAEBAQABAAEBAQAAAQEBAAAAAQEBAQEBAQEBAAEBAAEAAAABAAEAAQEBAQEAAQABAQEAAQEBAAEBAQEBAAAAAQABAQABAQEBAAAAAQEBAQABAQABAQABAQAAAQABAQABAAEBAAEBAQEAAAAAAAEAAAEAAAEAAAEAAAEAAAABAAEBAAEBAQABAAEBAQEBAQEBAAEAAAEAAQEBAQAAAAABAQEBAQABAAEBAQAAAAAAAQABAAEBAAEBAQEBAQABAQEAAQEBAQEBAAABAQAAAQEAAAABAAABAAAAAAEAAQEAAQEAAAAAAQABAQAAAAEBAAABAAEAAAEBAQABAQEAAQABAAEBAQEBAAEBAAEBAQEAAQEBAAABAQEAAAEAAQEBAQABAAEAAQEBAAAAAQEBAAEAAQEBAAABAAEBAQEBAAEAAQEBAAAAAQEBAAABAQAAAQEBAQEBAQEBAQEBAQEBAAEAAQEBAQEAAQABAQAAAAEAAQAAAQEBAQABAQAAAQABAQEBAAEBAQABAQABAQABAQABAQEBAQEBAQEAAQAAAQEAAQEBAQEBAQEAAQABAQEBAQABAQAAAQEAAAEBAQABAQAAAQEBAAEAAAEBAQABAQEAAAAAAQABAAAAAQABAAABAAEBAAEBAQEAAQEBAQABAAEBAAEBAQAAAAEBAAABAQEBAQAAAQEBAQEBAAEAAQABAAEAAAEAAQEAAAEAAQABAAEBAAABAQABAQEBAQEAAQABAQEAAAEBAQEAAAAAAQEBAQEBAQEBAQEAAQEBAQAAAQEAAAEBAQABAAAAAAABAQABAQEAAQEAAQEAAAEAAAEBAQEBAAEBAAEAAQEBAAABAQEAAQEBAQEBAQABAQEAAQAAAAEBAQAAAAAAAQEAAQEBAQAAAAEAAQEAAQEBAAEBAAEBAQABAAAAAQAAAQEBAQEBAAEBAQEBAQABAAEBAQEAAQEBAQEBAAEAAQEBAQEAAQEAAQEBAQEBAQABAAEBAQEBAAABAQABAAABAQEAAQEBAAABAQEBAQABAQEBAQAAAAAAAQEBAQEAAQEBAQEAAQABAAAAAAABAQAAAQABAQEAAQEBAQEAAAEBAQEBAQEAAQEBAQEAAAEBAQEAAQAAAAEBAQEBAQEAAQEAAQEBAAEBAQABAAEBAQEBAQEBAQEBAQEBAQAAAQEBAAEBAQEAAQEBAQEBAQEAAAABAQEAAAABAAEBAQEAAQABAQEBAAEBAQEBAQEBAQEBAAEBAQEBAQAAAAABAAEBAQABAQAAAAEBAQEBAQEBAQEBAAEBAQAAAAEBAQABAQEBAAEBAAEAAQEBAQEBAQEBAQEAAQABAQEBAQEBAQEBAQEAAQAAAQEBAAEAAQEBAQEBAQEBAQEAAAEAAAEBAAEAAAEBAQEBAAEAAQEBAAEBAQEBAAABAAEBAQEAAQABAQEBAQEBAAAAAQABAQABAQEBAAABAAEBAQEAAQEAAQEAAQEBAAEBAQEBAQAAAQEBAQEBAQABAQEBAAEAAAEAAQAAAQEAAAABAQABAAEBAQEAAQEAAAEBAAEBAAABAQEBAQEBAQEAAQEBAQEAAQABAQEBAQEBAQEBAQEAAQEBAQEAAQEBAQEBAQAAAAABAQEBAAEBAAEAAAEAAQEBAAEAAAABAQEAAQABAQEBAAAAAAEAAQEBAQEAAQEAAAEAAAABAQEBAQEBAAEBAQEBAQABAQEBAQEAAQABAQEBAAEBAAEAAQABAQEAAQEBAAEBAAEAAQAAAQAAAQEBAQEAAAEBAQEBAQEBAQABAQEBAAEBAAEBAQEBAAEAAAEBAQEBAQABAQEBAQABAQEBAAABAQABAQABAAEAAQABAQEBAQAAAQEBAQAAAQEBAQEBAQEBAAEBAAEBAQEBAQABAQABAQEBAQEBAQEBAQEBAQAAAQEBAQAAAQEAAQEAAQEBAQEBAAEBAAEAAQABAQABAQEBAAEBAQEBAQEBAQEBAQEBAQEAAQEAAAEBAAEAAQABAQEBAQABAAEBAQEBAAEAAAEBAAEAAQEBAQEAAQEBAQEBAAEAAQEBAAEAAQABAQEBAQAAAQAAAAABAAABAQEAAAEAAAABAAAAAQEBAQEBAQABAQABAAEBAQEAAQABAQABAQEBAQABAQEBAQEAAQEAAAABAAEBAAEBAAEAAQABAQEBAQEBAQABAQAAAQEAAQEBAQAAAQABAAEBAAABAQABAAEBAQEBAAABAAEAAQEBAAEAAQAAAQEAAQABAAEBAQEBAQEBAAEBAQEBAQEAAAEBAQEBAAEBAQEBAAEAAAEBAAEBAQEBAQEAAQEBAQEBAAEAAQAAAQABAAABAQEBAQEBAQEBAAEBAQAAAQEBAQEAAQABAQEBAAEBAQEBAQEBAQEBAAEBAQEBAQABAQEBAQEAAQABAQEAAQAAAQEBAQEBAQABAQEAAQEAAQEBAQEBAQEBAQEBAQABAQEBAAABAQEBAAEAAQEBAQEBAQEBAQEBAAEAAQEBAAEBAQABAQEBAAEBAAEBAAAAAQABAAEBAAEBAAAAAQABAQEAAQEBAAABAAABAQAAAQABAAEAAAEBAQEAAQEBAQABAQEAAQEBAAAAAQAAAAEBAAEAAQEAAQEBAQABAQABAQEAAQEAAQEBAQEBAQEAAQABAAABAQEBAQABAQEBAQEBAAEBAQEBAAEAAQEAAQEBAAAAAQEAAQEBAAEBAAABAAEAAQEBAQABAAABAQEBAQEBAQEBAAEBAQEBAQABAQEAAAEBAAEBAQEAAQEAAQAAAAABAAAAAQEAAAEAAQEAAQEBAQEBAQEBAAEBAQABAAEBAQEAAAABAQEAAQEBAQABAAEAAQABAQABAQEAAQEBAAEBAQEAAAEAAAAAAQEBAAEBAQEBAQEBAQEBAAAAAQABAQABAQEBAAABAQEBAQEBAQEAAAEBAQEAAAEBAQABAQEBAQEBAQAAAQEAAAEAAQEBAAEBAAABAQABAAEAAAEAAQEAAQEBAQAAAQEBAQEBAAAAAAEBAQABAAABAQEAAQEBAQEBAQEBAQEAAQABAAABAQABAQEBAQABAAEBAAEBAQEBAQEBAAEBAAEBAQEAAAEBAQEBAAEAAAEBAQEBAQEBAQEBAQEBAQEBAQEBAQEAAQEAAQEBAQEBAQEAAQEBAAAAAQEBAQABAQABAAAAAQEBAQEBAQEBAQEBAQEBAQABAAEBAAEBAQABAQEBAAEBAQEBAQEBAQEBAAEAAQEBAQEBAAEBAQEBAQEBAAABAAEAAQEBAAEBAQEAAQEBAQEBAQEBAQEBAAEAAQAAAAABAQEAAAEAAQEBAQABAQABAQEBAQEBAQEBAQABAQEAAQABAAABAAEAAQEAAQAAAAEBAAEAAQABAAEBAQEAAQABAQEBAAEBAQABAQAAAAAAAQEAAAEBAQEBAQABAQEBAQABAAEAAQABAQEBAQEBAQEAAQEAAQEBAQEBAAEBAQEBAAEBAQAAAAEBAAABAQABAAAAAQEBAQABAAEAAQAAAQAAAQEBAQAAAQEBAAABAQAAAQEBAQEBAQEBAQABAQABAQEAAAEBAAEBAQEBAAEBAQEBAQAAAQABAAABAQEBAQEAAAEBAQEBAAEBAQABAQEAAAEBAQEBAQABAQAAAQEAAQEBAQEBAAABAQEBAQABAQEBAQEBAQEBAQAAAAEAAQEBAQEBAAEBAQEBAQEBAAABAAEAAAEBAQEAAAABAQEBAQEBAQEAAQEBAAEBAQEBAQEBAQAAAAEAAQABAQAAAQAAAQABAQEBAQEBAAEBAQEBAAEBAAABAQEAAQAAAAEBAQEBAQEBAQEBAQABAQEBAQEAAQABAQEAAAABAQABAQEBAQEBAQEAAQEBAQEBAQEBAQABAAEBAQEAAAEAAQEBAQABAAEBAQEBAQEAAQABAQABAAEBAAEBAQABAQAAAQEBAQEAAQEBAQEBAQABAQEBAQAAAQABAQEAAQEAAQEAAQEAAQEBAAEBAQABAAEBAQEBAQEAAQEBAQEBAQEAAQEBAQEBAQEBAQEAAQEBAQEBAQEBAQEBAQABAQEBAQABAQEAAQEBAQEBAAABAQEAAAEBAQABAQAAAQEBAAEBAQAAAAEBAQEBAAEBAQEBAAABAQEAAQEBAQEBAAEBAQEBAQABAAEAAQEAAAEAAQEBAAEBAQEBAQEAAQEAAAAAAQEBAQABAAEBAAEBAQEAAAEAAAEBAAAAAQEBAQEBAQABAQAAAQEBAQABAAEBAAEBAQABAQABAQEBAQEBAQEBAQEBAQEBAQABAQABAQEBAAEBAQABAQEBAQEBAAABAQEBAAEBAQEBAQEBAAEBAQEAAQEAAQEBAQEBAAEBAQEBAQABAQEBAQEBAQABAQEBAQEBAQEBAQEBAAEBAQABAQEBAAEBAQEAAQEAAQABAQAAAQEBAQEAAQEBAAABAQABAQEBAQEBAAEBAQEBAQEBAQEBAQABAAAAAAEBAAAAAQEAAAEBAQEBAQEBAQEAAAEBAQABAAAAAQEAAQEAAQEAAQEBAQEBAAEAAAEBAAEAAQEBAQEBAQEBAQABAQAAAQEAAAEAAQABAQEBAQEBAAEAAAEBAQEAAQEAAQEBAQEBAQABAQEAAQEAAQEAAQEBAQEBAQEBAQEBAQEBAQEAAQEBAAEBAAEBAQEBAQEBAAEBAQABAQEBAQEAAAEAAAEBAAAAAQEBAQEBAQEBAQEBAQEBAQEBAQEBAAEBAQEBAQEBAQEBAAABAQAAAQEAAQEBAAEBAQAAAAEAAQEBAQEBAQEBAQABAAEBAAEAAQEBAAEBAQABAQEBAQEAAQEAAQEBAQAAAQEBAQEBAAEBAQEBAQEBAQEBAQEBAAEBAQEBAQABAQABAQAAAQABAAABAQEAAQEBAQEBAQEBAQEBAQAAAQABAQABAQABAQEBAQEBAQEAAQABAQEBAQEBAQABAQABAQEAAQEAAQEBAQEBAAEAAQEAAQABAQABAAAAAAAAAQEBAAEBAQEBAAEBAQEBAQEAAQEAAQEBAAAAAQABAQEBAQEBAAEAAAEBAQEBAQEBAQEBAQEBAQABAQEBAAEBAQEAAQABAQEBAQABAAEBAQEAAAEBAQEAAQEBAQAAAAEBAAABAQAAAQABAQABAAEBAQEAAAAAAQABAQEBAQABAQEBAAEBAQEBAAABAQABAQEBAAABAQEBAQAAAQEBAQEAAQEAAQEBAQEBAQEBAQEBAQEBAQEAAQEAAAEAAQAAAAEBAQAAAQEBAAEBAAEAAQEAAQEBAQEBAQEBAQEAAQEBAQEBAAEBAQEBAQEAAQEBAQEAAQEBAQEBAQEBAQEBAQEBAQEBAAEAAQEBAQABAQEBAQEBAAAAAQABAQEAAAEBAQEBAQEBAQEBAQEBAQEBAQEAAQEBAAEBAQEBAQEAAAEBAAEAAAEBAQEBAAABAAABAAEBAQEAAQEBAQEBAAEBAQABAQEAAQEBAQEBAAEBAQEBAQABAQEBAQEBAQEBAQEBAAABAQEBAAEBAQEBAQEBAQEAAAAAAAABAQAAAQABAQEBAAEBAAAAAAEAAQABAQAAAAAAAAEAAAEAAAEAAQABAQEAAQABAQABAAEAAAABAAAAAQABAQAAAAEBAQEBAAAAAAAAAQEAAQABAQABAAAAAQEAAAEAAAEAAAEAAQABAQEAAAAAAQEBAAABAQABAQAAAAABAQABAQAAAAEBAAAAAAEBAQAAAQAAAAABAQEAAQAAAAAAAAABAAABAAEAAQABAQABAAAAAQABAQABAAEBAAAAAAEBAAAAAAABAAAAAAAAAQEAAQAAAQAAAQABAQAAAQEAAAEBAQEAAQEBAQEBAQEBAAABAAEAAQEAAAABAQABAQAAAAEBAAEBAQEBAAEAAAAAAQEAAAABAAAAAAEAAQAAAQEBAAABAAABAQABAAABAAAAAAABAAAAAAAAAAABAQEBAAEAAAAAAQAAAQAAAAAAAAEAAQAAAQAAAQABAQAAAQAAAQAAAAAAAAEAAAAAAAABAAABAAAAAQABAAAAAAAAAAABAAEAAAABAQEAAAEBAAEBAQEBAAAAAAAAAAABAAEBAAAAAAAAAAAAAAEBAAAAAAABAAEAAAABAQAAAAEBAQAAAQABAQEBAAEBAQAAAAAAAAAAAAAAAAEAAQEAAAEBAAAAAAEAAAAAAQEAAAEAAAABAAAAAAAAAAAAAAAAAQABAAEAAAAAAAEAAQEAAAEBAQEBAAEAAAEAAAABAAEAAAAAAQEAAAEAAAAAAAEAAAABAQABAAEAAQEAAAEAAQEBAQEBAAABAAABAQEBAAAAAAABAQEBAAEAAAEAAQEAAQABAAEBAQEAAAABAAAAAQABAQAAAQABAAAAAAABAAEBAAEBAQEAAQABAAABAAAAAQABAAEAAAABAQAAAQAAAAEAAAEBAAAAAAABAQAAAQAAAQABAAAAAAEAAAEAAQEAAQABAQEBAQEBAQAAAQAAAQEBAQAAAQAAAQAAAAAAAQAAAAABAAABAAAAAAEAAAAAAAEBAAEAAAABAQAAAAABAQABAAAAAAABAAEAAAAAAQEAAQEAAQAAAAAAAAAAAAEAAQEBAAEBAQABAAAAAQAAAAABAQAAAAABAAEBAAAAAQEAAAEAAAABAAEBAAAAAAABAQABAAAAAAAAAAAAAAAAAQAAAAAAAAABAQEBAAAAAAAAAQABAAAAAQAAAAAAAQAAAQAAAAEAAAAAAQAAAAABAAABAQEBAAABAAABAAABAQAAAQAAAAABAAABAAEAAQEAAQEAAAABAQAAAQEBAQEAAAEAAAABAQEAAQEAAQAAAQEAAAAAAQAAAAEBAAEAAAABAAEAAQEAAAAAAQEBAAAAAAAAAAAAAAEBAAEAAAABAAAAAAAAAAAAAAEAAQEBAQEBAAEBAAEAAAAAAAABAAAAAAEBAQABAQEAAAABAQABAAEAAAEAAAEAAQABAAAAAQEBAAEAAAAAAQEBAAABAAAAAAABAAABAQEAAAAAAAEAAAEAAAEBAQABAQAAAAEAAAAAAAEAAAEBAQEBAAAAAQAAAQEBAQABAAABAAEAAAEBAAABAAAAAQAAAAEAAQEAAAEAAQABAAEBAQEBAAAAAAAAAQAAAQAAAAAAAQABAQAAAAAAAQABAAAAAQEBAQEAAQAAAQAAAAAAAQEAAAABAAEAAQAAAAEAAAAAAAEAAAEAAQAAAQABAAEAAAEBAAABAQABAAABAAEBAAABAAEAAAAAAAAAAAABAQAAAQABAAEAAQABAQABAAAAAAEAAAABAAABAQAAAAEAAAEBAAEBAAABAQAAAAEAAAAAAQEAAAAAAAEAAAEAAAEAAAAAAQEAAQAAAQEAAQAAAAEAAQABAAAAAAABAAAAAQAAAAABAAABAQAAAAAAAQEBAAAAAAAAAAABAQABAQEAAQEAAAEAAAAAAAABAQABAAEAAAABAAAAAAEAAAABAAEAAAEAAQEAAQAAAQEBAAEAAQAAAQAAAAABAAAAAQABAAAAAAAAAQEAAQAAAQABAAABAAABAQAAAAAAAAEAAQAAAQAAAQEAAAAAAQEAAQAAAAAAAAEAAAEAAAEBAAAAAAAAAAAAAAAAAQABAAABAAE=",
          "dtype": "i1"
         },
         "xaxis": "x",
         "y": {
          "bdata": "AwEEAQMCBQMDBAUCBAMBBAQEAv8DAQIBBAECA/8CBAMDAQQBAQEC/wQCAgP/BAMCBAQBAQEFBQEBAv8DBAMDBQUEAwEDBAUBAwQDBAEBAwQDBQL/BAMFAQMFAQQCBP8BAgIFBP//BQEDAQUDAQUDAwMBBAQEBAMBBQEEAgUDBQQCAQECBAQBAgMD/wEBBQQBAwEBBf8EBP8CAwECAgX/AQT/AwECAQEBBAP/AQQEAgIEAQICAgQBAwP/BAEB/wQEAQUBAQUEAQMEAwQDAwEBAwIFAQQFAwIBAQMEAQIBBAIBBAMBAQUCBAUEAwMEBAIEAQQCAQQE/wUDAwUCAgIBAQMFAgIEAgMBAgEB/wIDAgMCBAQBAwEEAgQEAv8CBAUB//8D/wMCAwICAgECBQMDAwMF/wQFAQIDAwEF/wMBAQQCBAEE/wMFAQQBAgEBAQUFAQIBAQEDBAIEBQEDAwEBAQQCAgMDA/8EAQQFAgEFAgEBBQMCAQEB/wICBAEBBAUDAQQEAwEBAwEDAQICAwQFBAIFBAUFAgMDBQECAwMBAgMBBAMDAQQDBAECAwQFAQEC/wEDAgICAwQEAQIEAgQBAQIEBAMC/wEEBAEBBAEDAQQDBAMBBAMB/wUFAwECAgIDBAIEAQQCAgQBAgQE/wEDBAUC/wH/BAIBAwEEAwH/AQUDAgMBAQMCBQIBBAQFAwQBAgIBBAMB/wIFAwMDAgQBAQEEBf8BA/8CAQMC/wMEBAMCAQEDAgIDAwQFBQQDBAIDAQMBAgMDAQIDBP8FAQQBBAEBAQQDAwEFBAICAQH/AQQEAwQBAQEBBP8C/wMCBQEEAwUEAf8BAgQBAQIDAgEEAwQDAgQDAgQDAgH/BAQEAQMCAQMBAwEDBQMEAQEEAgEBAgUEBAIEAwEBAwEBAQMEAgQDAwH/A/8E/wQEAwIFBQMDAgIEAgICAgEBBAQDAgECBAEEBP8DBQP/BAEFAQEB//8CAwUBAgMEAgQEBAEEAQECAgP/AgMD/wIEAwMBAgQFBAUEAQT/Bf8CBQUCAgEEAQQDAgEEAQMFAQUB/wECBAEFAwUDAwIBAQIEBAMCBQEEBAEBBAMCAv//AwP/AgIEAQEDAQMBAwMEAQEDBAECAwUCAQH/AQME/wQBAQEC/wIDAwIBA/8DBQMB/wIEBf8BBAQDAQIEAf8DAwT/AgT/AwIEAQEBBQUDAQIFAgQBAv8DAwMEAgH/BAT/AQQBAQMFBP8BAQEE/wEDBP8BBAEDAgICAf8CBAIDBQEEBAEEBQMCAQUBAQIDBQQDBf8BAQMDAgQDAwECAgMBAwIBAQIBAQMCAwQFAgIEAwMEAwEBAQQE/wMCAQUBAf8BAwMFBQQFAgEEBQUCAQUCBAT/BAICAQH/AQQB/wIEAgUBBAECBAEEAgQBAQH//wME/wED/wQD/wQBAgEBAwEBBAUCBAL/Bf8E/wQCBQIBAgEFAwQDBAEBAgEEAwIEAgQBAgEDBAICAgIBA/8CAgEDBAT/BAQFAQQEAQUBAwIBBQQCAwQDAwEBAv8BAQUCAwICBAQEAQIBAQMBBAEDAQIBBP8BAgIDAgQEAQL//wQEAwMBAQQBAgUBAQH/AwMBAQMBBAECAgMB//8EAf8EAgUEAQEEAQEEBAUEAgEBBAEEAgT//wMBAQQEAQQBBQEBAQIEAf8CAgMDBAP/BAMEAQEBAQMBBQL//wUEAQEBAQQBAf8FAwECBAECAv8BAQH/BQMBAgEBAv8DBAH/AwEDBQECBQEEAv8FAwMDAwQDAgEDAgECAQT/BAQBAgIFAQEE/wQEAwEBBQECAgMC/wICAv8BBAEDAQEB/wEDAv8DAgQDAgEDBAICAgIB/wMBAQMDAgMCBP8CA/8CAQMC/wMDAgMCBAIBBQEBBQQBAQQBBQMDAQQEBQMBBQQBBf8C/wQCAgL/AwH/BAEB//8DAwUBBQECAv8FAQQDAgUBAwIFAgED/wQBAgMDBAIBAgMFAQEEBf8BAQMCAQX///8BBQIBAgUEAwIDAwQDBAQDAwH/AwIEBAEBAwMEAgQC/wEB/wIDAwUCAQQBBAUCBAH/AwEBAwED/wEDBAUBBQQBBQMDAgMCAQIFBAEB/wEEAwUBAgQCAgP/AQMFAwUE/wED/wMBAQICAgMFAQEDAQEFBAP/AwIBAQQBAQEBAQIFBAICA/8CAwMEBAQDAgEBAwQDAf8DBAMCAQIDBAQBAwEBBQIDBAMCAgEEAgQBBAX/Av8BAv8CAgEBAwIEAQT/BAQBAwEEAgEDBAICBAEBAQECBQIEAgIBAgIFAwQB//8EAwECBAQB/wEBBQMEAwIE/wEBAQH/AQMCAQIDAgQDAQEBAf//AwEFBQECBAICBAH/AQQBAgMBAwMEAgEBAgEDAQIBBQQDAwEBAwUB/wQDBQEBAgQCAgMBBAIBAQECAQMCAwEDBAIDAQECAf8EAwIFAwMEAQEEAQEDAgEB/wEF/wQCAQMEAgIBBAEEBAUFAQEDAQMEAQH/BAICAgUEAwQDA/8EAQEBAQUBBf8EAQMEAgT/Bf8DAQIEAgMEAQEDAQT/BP8BBAP/AQMEAQIEBQQBBAMEAwMCAQICBAMFAQUEAwIBAQEBAgEEAQEEBAH/AgH/BAEBAwIE/wIFAgICAQECBAP/BAEDAf8FBAEBBAIBAwEBAQIEBAUDBAIEBf8DBAIBAgMBAwMEBAIEAQIEAf8CAQQCAQT/Af8DBAEDBQIFBAIBAv8CBAMCBQEEAwECAwH/AgECAwMDBAIDAQEBBQUBAwECAgQCBAMFAgH/AwH//wP/AgH/AwECBAIBAwQDBQQBBAMBAQEEAwQBBQEBBAIBAgH/AgL/AgIC/wEBBAUBBAP/AwUEBQQBAgUDAgEBAQUB/wIDAQUDAwECAQEFAgQBAQIBBP//BAQDAQIBBAIFAwQBBQQBBQMDAQX/BQQCAgEBBf//BAEEAgEBBAMDAwIDAQEBAQECAQT//wL/AgEFBAIBA/8CAwEBAf//BAICBAIB/wIBAQEDBAIFAQEEAwUFBP8BAf8BBQIBBAIBAf8DBQMEBAL/AQQDAQEBAwIEAQEDAwUCAQMCBQIBAQUBBAEEAwUDAf8BAQMCAwECAf//Av8CAgQDAQUE/wMCAgX/AgQB/wQB/wQE/wEB//8CBAEBAQQEAwEFAQQBA/8BAgMBAv8D/wEEAgEBAwMBAf8EAQUDBAUDBAIBAQT/AgEFAgEEAgQBAgIDAwUDAgMDBQIBAv8EAwL/BAECAgQC/wUBAgQBAwEBBQECAQMBAQQEAwQCAgUEAgEE/wIBAwEDAQQEAQECAQECAgQEBQIBAwL/AwUBBAEDBP8BAQMCBAEC/wQCAwT/AgEEAQIEAQIFBAED/wIDAQUCBAIEAQIE/wMDAwMEAQEEBf8EAgQEBAMD/wQDAwQFAwIFBQEC/wEEAQQEBQQBBQEEAwEBBQMEBAMBAwIBBP8BAQMCBAEEAgUDBQIDAQQFAQECAQIE/wH/AQECBAQEAwIBAQUEAgQFAQMCBAIFBQEEAQIBAQQDAQEBAwQBAQQCBAEEBAICBAQBAgUBAQQBAwMBAwX/BAEDAwIDAQIBAQH/AgECAwIBAgEBAwIEAQQDBAMEAQQDAwEEAwMBBQEEAwECBAX/BAIBAQEBAwP/AgECAgH/Av8DAQIBAQH/AgP/AwIBAQT//wQEBAIFBAECAgIDBQEBAwMB/wEFAQECBAIF/wEEA/8CBQUBAwQBBAIEAQQCBAQBAf8FBAQEBQIFBQUBAgIBAQMBAgH/AQEBBAQEAQEEBAQBAQIDAf8FBQECAQUBBAEBAQH/AwMDAgQDAwQBAwICAwEEAQQCBAMF/wIBAQEE/wMEBAQBAwEEBAECAwQEAgQB/wQDAgEBAQQDAQMFBAQFAQQFAf8DAQMC/wMBAQIEBQUBAwEBBAQCBQQBAgED/wIF/wEF/wEDBAIDAQEEAwED//8DAQUDBAQDAgEBBQMEAgQEBAQEAgQBBAH/AQMDBQEBAwEBBAQBAwICAwUEAgEBBAEEA/8EAQUBAwQD/wQDAQMDBAQBBAUBBQUDAgEDAgQEAQUBAQEEBAMBAgIDBQQDAwQEAQH/BAQD/wMDAQUBAQEEAQEFAf8C//8CAQEBBQMBBAQCAwIDAwQEAgQBAQMB/wQFAgMFAQUBAgEBBQMFA/8F/wMEAgICBQT/Av//AwIB/wEFAwUCAwQBBAH/AwL/AQP//wMEAwQDBQEEAgIBAf8DAwQCAQEBBQEEAgUFAQMEAgUDAwECBAT/AgUDAQQC/wMDAwUFAwP/AwMDAgMEAgIDAgUCAgH/BQIBAwIDBAIB/wMBAgIEAQEBBQIEBAUEAwIBBAQCBAX/AwH/BAQCAwQBBQQBBAEBAgQBAgUCAQEC/wEEAQMBBAIDAQIBAQMFAQIDBAQD/wUEAQEDAgT/////AgQEAgX/BAT/AgEBAgIBAwEDAQEEBAEDAQMCBQQB/wEBAgMDAgMDAgMDAv8DAgEEAgQDAgEDAgIBBAIBAQUDBAMCAQEBAv8FBf8FA/8DBAEBBAIEAQT/AwIBAQEC/wEEAwICAQECAQEBAgQBBAMBAQQFAQIEAQMBAwEEAwIEAgIBAQEDBAEDBQIEBQEBBAMBAwQDBQT/AQQBBAUB/wT/AQEBAgH/BAEDAwEEAwMFAwUDAQMFAQQDAQIEAQMCAv//AQECAv8BBAUDAQL/AgEF/wIDAQQCAwUBAQQBAgUCAQQC/wEFAQEBBP8DAgQCBQME/wECAv8CAQQEBAEDAgEBAf8CAQIBAwMBAQQBAgMEBAED/wMDAQQCBQICAQIDBQUB/wMCAgEEAQEFAQECBAT/AQEBAQMDAgME/wEBBAIBBAMFA/8BAgQBAQIB/wICAwQE/wQEAQUBBAEEAgEFAwQC/wQDAv8BBQQBAQQDBAUBBAMDAwQB/wEE/wEC//8EAQEBAQMBAwEDBAMEBAIEAwEBA/8BA/8BAQECBP8FAgICBQMCAwEDAwUBAQQBAQH/BQQBBQH/AQQB//8BAgMCAgMBAQEDAwUBAQQB/wL/AQEBAQEDBAIB//8BAQMDAQIBAQMB/wIBAwEFBQQBA/8BAwMCAwEEAQIEAwEEAQEBAgEBBAIBBQQCBAMEBAMBAgL/AQUBAQEE/wQBBAEBAQIEAf8BAwEEBAP/AgECAv8BBQQBAQEBAQECAwIC/wQC/wX/AgQDBAIEBQIFAQQBAQIDAQIBAgEBAQMDAgEBBAIB/wEEA/8EAQEE/wX/AwEEAQIBAQH/AwQEBAMDAQEDBQMFBQH/AgECAQEDAwL/AgEEAQEBAgIEAQH/BAQEBQP/AQX/BAUB/wQDAwMB/wMCBQEDAQH/Af8CAQEBBP8BAQIBAQMDAQQDAQQDBAECAQEF/wUBAwMEAQP/BQEDAQQCAwEBAgMEAwQBAQIBAwEEA/8EAgH/AQEBAQEBAQICAgMEAgIBAgQDBQIB/wMC/wIBAQIBAgICAwECBAQDAQUBAQH/AgH/BAQEBQX/BQIC/wIBAQEEBQMEA/8B/wMEBAEDBAIBBAICAQEDAQMBAQEBAgMCBAQDAQIEAwQEAwIBAv8CAwMDAQQFBQED//8BAQEEAwEBAwQDAv8CAQIE//8CBQEBBQUB/wEDAQEFBP//AQUEAQT/AwIFAgED/wQB/wQBBAEDAQEBAQIFAQH//wIFAQMEAgECBQEEAQEE/wEBBAIE/wMEBP8FAQP/AQEFBAIFAQQCBAEFBAMDBQH//wMBAQEDAf8BBAUBAgIBAQIBBQMBAwQB//8B/wUEAQMFBP8DAv8BAQT/AQH/BP//AgQBAgQFBP8DAv8BAgH/AQEBAwEEAwEF/wIBAQUEAgQFAwMBAv8CBAQCAQEC/wEBBQP/AQEDAQEEAwIBAQQDAwECAQQBAQUCAQEC/wUCAgIBAgMDAQH/AwQEAgEBAgEBAf8BAwEB/wICAgMBBP8DAQICAQIDAQIBAQEDAQH/A/8BAQIBBAMEAQL/AQUBAQH/AwUEAf//AQQB/wMBAQQB/wT/AQIBAgT/BAEBAwEBAf8DAgQDAQEEBAICBP8FAgEDAwEEAwMBAwEBAQEBAQUBBAH/AQEBAQEBBAEEBAEEAQIBAQQEAwQBAQEB/wUBBAECAQICAwMCAQMBA///BAECAQECAQMB/wEEAgH/AQEBBAQBAQIEAgIEAQICBAUBAwMEBAED/wEDAQEEBQMEAQQBAQMEBf8BAgUBAwIFAwIBAQEBAQIFAQMBBAEBAf//AgEBAwEBAQED/wECBQQCAQEEBQEFAQH/AQUCBAEDAf8CAgEEAQEBBAIDAf//AwMCAwEBAQEBBQECAQIBAwQFAf8CBQMBAQED/wEBAQIB/wEBAQEB/wEBAwECAQH/AQEEAgL/AgMFBf8EAQMC/wECAQMBAQIFAQMCAf//BQEBAQX/AQQBAQUBAQX/AgEBAv8BAQEEAQMC//8FAgL/AQIBAgEEAQQC/wEBAgMBAQME//8DAwICAQQBAQUDAQH/BAEDAwIBAQECAQEEBAH/AQQBAwME/wMBAwQBBAEBAwIBAQEE//8BAQUBAwEBA/8BAQMEAv//BAIBAQEBAgQEAgEBAgH/BAED/wMBA/8DBAEDAQECAwEE/wEBAwIBAgMCAQIBAgEBAgEDAQT/AQEEAwEBAv8FBAMFAQIB//8BAQEBAgIFAQIBAgQDAQIEAwEB/wP/BQUDAwP/AQP/AQEFAQEBAQIDAgICAv8BAQIBAwECAQEFAQEBBQEB/wICAQH/AQEB/wX/AQEFAQQCBAEBAgMFAgICAf8EAQH/AQUEBP8DAQEFAQEBAgIBAgICAQMCBAQDAQMCAQIBAgIBAwIBAQIBAQQCBAECAQEDAQIBAQIBBAEEAgECAQEEAQEEAf8CAQH/AQP/BAEB/wEBAwQB/wQBBQP/AQECAQEBBAUBAv8BAQMCAf//AQQEBAMDAQEBAQEEAQEC/wICAQQBBAQCBAX//wX/AQQBAv8BAQEBAQEBBAEBAQEC/wEEAQH/AQIDBQEBAgEEAQIDBQEBAQEBAQEDAQEEAQICBP//AQEBBAEB/wEBAgH/AQEBAQIB/wQE/wIBAwH/AQECAv8BAQEBAgEDAgH/Af8CA/8BBAEC//8DAQUCAQEBAgEB//8CAf8CAQEBA/8BAQECAgQCBAIBBAEBAQMBAgQDBAIBAQEBAQIB/wEBBQIBAQQCBAICAgP/AQEBBAEBA/8F/wEBAQL/AQEBAgIDAQMCAgECAQEBAgH/Af8F/wQF/wEBAwIEAgEBAv//AQEB/wIEAgEDAwH/AgEEBQEBAQIBAgIEAQEBBAEBAgECAwL/BAH/AQEDAQT/AQH/Av8CBAMC/wMBAgQB/wEBBQQBAwECAQIDAQECAgED/wEBAwECAQL/AQIF/wEBAQH/AQP//wEBAwECAwEFAQEDAQEDAwMCAQUCBAEBAv8CAf8EBQECAwL/AwP///8B/wEB/wEDAf8B/wID/wQC/wIBAQICAf//Af//AQEBAQEEAQEBAQEB/wQFBAMBAgECBAICBP8EBP8EAQEBBAEDAQP/AQEE/wT/AQH/BAUFBP8EAQEBAQEDAQECAv8CAQMB/wEBAQEBBf//AQEC/wQBAQIBAgIFAQMBAQH/BQECAQECAQMCAgED/wEBBQH/AgIEAQMFAQUC/wEBAf8DAgICAv8B/wEB/wICAQIBBP8BAgH/AgEBAgICBQEBAQEBAQQBAf//AgIBAQEBAwL/AQMCAQUBBQEEAQEBAQEB/wMD/wIBAgIDAQEBAQIBAQIBBQH/AwEB/wIBAQMBAgMBAQEBAQECAgEBAf8BAQUEAQEBAQME/wIE/wEEAgEBAf8BBQEBAwIDAQQBAQIB//8BAwIBAQH//wEBAQH/AQEBAQED/wEDAgEBBP8DAQQCAQH/AQQCBQEBAQIBBP8EBQEBBAEF/wEBAgICAQIBAQEBAgEBAgH/BP8FAQX//wECAQMDAQQDBAMCBAMBAQECAwIEBQIBAwQD//8BAf8BAQUCAQQCAwH/Af8C/wQBAgMBAQH/Af///wEC//8DAf8FBAT/AgEBBAEBBf8BAQMCAgEC/wEBAQMBAQICAQEF/wEBAQMDAQIBAwECAwQBAQP/BQIBAQL/BAMCA/8DAQEBBAEEAQQCAQIDAQQBAgECAQH/Af8CBAEBAf8BAgIEBAIBAQEBBAECAQEBBP8EAwICBAIB/wEB/wEEAQEBAQEBBAEDAQQD/wT/BAMBAf8BAQECAf8BAgECAQQBAQECAQECAgH/Af8BBAH/AQH/AQEBAQEBBAH/AQEBAQMB/wIBAQID/wMBAQEDAQQEAQIBAQIB/wMBAQEDAQEDAQEBAQEC/wECAgEC/wIBAQECBQEBAgICAwEEAQEBAQECAQEBAQIBBAEEAf//AQECAQIBAQEBAwEBBAEBBAEFAQQBAwEBBAECAwIDAQP/Af8DAgH/AgIBAwT/AQMDAQP/BAECBAEBAQEDAQEB/wUBAQID/wEBAwQEAQMDAwL/BAECAgIE//8BAgMBAQUBAf8CAgEEAgEB//8CAQIEAQQBBAIB////AgMCAgEBAQEBAQEBAgEBBQEEAQEEAQECBAQF//8DAQECAgECBAMBAwEEAf//AQIBAwMCAgEC/wEBAQECAgEC/wIC/wIBAQEEAgEBBAEBAQEFAgEEAQMBAQUBAgMDAQEDAwEDAv8DAQIBAf8BAQEBBAIBAgUCBAEBAQEBBAMBAf8CAgECAQMBAgEDAQUBAgMBAQICAf8CBAECAQEEBQEDBAIEAQEBAwEBAQIBAQECAQEBBAQFAQUBAQUBAQEBBQMBAgEBAQL/Af8CA/8BAQIEA/8CAgMBAQIB//8BAQIFAgEFAQEF/wEBBAH/BQEBAgT/BP8DAgECAQICAQL/AQICAf///wH/BAEDBAEB/wP/AwH/Af8E/wIBAgICAQEBAf8EAQQCAwQB/wUC/wL//wMBAQL/Av8BAQL/AQIBAgIBA///AQIDAwIBAQEBAgEFAgL/AQEB/wEBAQEBAQICAgIBAQEBAgEE/wECAgEBAQIBAv8EAf//AQQEAQEBAQICAQMBAwQDAQECAQECAQICAQEC/wEBAgQBBAEBBAH/AgQBAQEBAgH/AQIB/wEBAf8BAwIEAQIC/wECAQEB/wECAf//BQICBP8CAf8CBQEBAQECAQICAQEB/wEBAgEBBAEBAQQDAwMBAgEBBAIDAQL/AgMBAQQBAgIBAQIB/wIC/wL/AQECAQMBBAMBBAECAQEDAQIDBAEBBQECAQIBBQEBAQEEAgMBAQEBAv8BAgMBAQQFAgQCAv8BAwEBAgEBAQX/AQEBAQMCAgECAQICAf8BAQEBAgEFAQEEAgEBAQH/BP8BAQECBAIBAgIEBQEBAwQBAgEBBQMFAQEB/wMBA/8FAQQD/wIFAQEBAQQDAgIBAgQCAQIFAQL/AQECAgEBAQQCAQX//wEEBAEBBAH/AgECAwH/AQEBAgIEAgMBAgMB/wIBAQEBBAIBAQEBBQH/AQQBAgEEAwH/AQICAQQCAgMEAgEEAQEBAQECBAMB/wEBAQIBAf///wIBAQEBAgMEAgIEAQEB//8BBAECAQECAQH/BAQCAwIDAQICAQEEBQT/AQEBAf8C//8BAgEBAwECAQH/AQH//wMEBP8EAgQB/wMEAQMEAgL/AQH//wEBAQIBAQH/AwEBBQMBAQIF/wMDAgEB/wEBAQEBAgEB/wUBAf8CAQECAQECAQEFBQT/AQQCAQIBAQH/AQECAQEBAQIBAf8CAQL/AgICAQEDBAICAgEBAgP/AgECAQEBAQIFAgMBAQP/AwH/AwH/AQQCAQMEAf//AQEDAQEBAf8BAgMB/wEBAQEF/wMCAQECAf8EAf8EAQEDAQEBAwEBAQUBAwEBAQH/AQIE/wICAQEBAgIF////AQH/AgH/AQIEAf8CAv///wL//wEBAgMB/wL/AQIB//8CAQEBAQL/AwIBAf8EBQEBAgMBAQMD/wEBBAICAQP/A/8BAf8CBAECAQICAgQCAf8EAf8BAgEBAwEC/wEB/wUBBAEDAgECA/8EAQEBBAH//wH/AQIEAQIFAwME/wL/AQMBBQL/AwEB/wEDBAEDBQEBAwUFAQEBAQIB/wQB/wQE//8CAQQBBf8CBP8BAQP//wQBAf8B/wH/AQECAQEBAQIBAQQBAgX/Af//BQIBAQX/AQEC/wEBAwMBAQEBAgEBAgH/AQH/BAEBAQIDAQEBAQEBAQIBBQEB/wEB/wX///8B//8CAQMBAgEC/wECAQEB//8BA/8BAQQBAf8BBP8BAQIF//8E/wT//wUCAQIC/wIDAQH/BAP/AQQCAQEBAQIBBAL/AQEBAQIBAQECAgMBBAUF/wEBAQUCAf8DAwEBAgEBAQEBAQEEBAEBAQQBAQIEAf8EAQEE//8C/wEBAQEBBAIEAwICAwEDAv8BAQIBAv8CAQQC/wQEAQEFBQEDAQUBAQECAQEC/wEFAgEB/wEDAQIFAQEBAQL/AQUBAv8DAQEDAQIEAQEB/wECAf8BAQH//wH/Av8EAv8BAgH/BAEBAQECAQECBP8BAQL/AQEB//8DBQECBAEBAwQEAQIBAQEBAQIBAQEC/wECAQL/Av8BBQEBAQEBAQEBAQEBBQT/AQQDAgIDAf8BBf//AgMCAgEEAQIBAQEBAgH/AQQBBAECAgEE//8BBAH/AQT/Af8BAgEF/wEFAQECAgMDAQECAQH/AwECAQEBAgH///8BAQECBQECAQH/AQP/AQQBAQMFAQICAQL//wEEAQECAgEBAQH/AQEBAgQEAQQB/wMBAQQCAQEBAf8BAgICAQUBAgEBAQEBAQEBAQQBAgEDAgICAQL///8BAwEC//8EAQX/AgMBAgQEBQUDAQH/AwEBAQEBBQEBAQIB//8EAgIDAgEBA/8BAQMBAQEB//8BBAECAwEB/wEBAQEB/wEBAQICAQMBAgEBA/8BAQECAQUC/wIBAQMBAwIBAf8CAgECAQECAQEBAQQDBQL/AwUBAQUDAQP/AQMCBAEBAQEEAwMDAQMB/wEB/wMBAgEBBQEBAQECAwP//wMBAQH/AQMB/wICAQUF//8CAgEF/wID////AgEB/wEBAgIBAQEBAgEDAQIDAgEDAQMCAwEBAgQFAQH/AwICBQEDAgIDAQICAgICAQEB//8EAv8BAQEBAwH/Av8CAf8EAQEBAgEEAQH/AQL/Af8BAQH/Af//Af8BA/8CAf8BAQT/AQIBAQEBBQMCAQMB/wEFAQH//wEB/wECAQEBAgECAQIBAf8BAQEBBAEB//8BAf8DBP8CBAEFAwIC/wEBAgH/AwMBAgL//wEEAQIBAgECBAL/AQIBAgECAQEBAQH/AwECAQIBAQMBAQEBAQEC/wEBAgEBAgEBAgH/BAIB/wH/AQEBAQEDAgMCBAQCAgIFAQMBAQICAwEBBAQDAwIEAQQBAQQFBQIFAwEEAgEDBAIE/wEBAQECAQQBAgIBAwEEBAMBAwME/wP/AgIEBP8BAQEBBQQBAwQD/wEFAQP/AQMBBQUDAgEEBAIFAgIEBAIEAQP/Af8EAwICAQEBAwQB/wMBAQUDAwICAQIBAgIDAQEBBAQDBAIBAgIEAQUEBQMCAgH/AgQFAwMDBAQB/wMBBAEEAQICAgQBBAMEAQX///8CBAEBBQMCBAECBAQDAQX/BQEDBAUEAgIDAQMFAgQEAQMBAQUC/wEFBP8CAf8FAQH//wEB//8BBAIBAgIEAgEEBQL//wQB/wQEAwEBBQH//wH/BQEDAgQCAQIEBAUBAgMEBAECAgMEAf8BAQUBAwEBAQIBAwUBBAMFAgIBBAUEBQUDBQUCAQEBAgEDBQQCAQUEAQME/wUFBQEEAQUF/wQDAQL/AQUFAgQEAQUEAwQEBP8DAwUEBQL/BAQBAwMCAQP/AgUCAwQDBQICBAEBAwIB/wIEAwEBAwEBAQECBAUD/wUEBAH/AwIBBAUEAwQFAgQCAwEBBAMEBAQBAwEEAwQB/wMEBQECAQUDAQX/AQEBBAECAQUEAgIEAwIEBQIDBQEEAgICAwEBAwQCBQIEBQIFAQEEBQEEBAMCBAMEBAMDBAMDBAMC/wH/AwIDAwQDBAIDAQEDAgICAgECBQIDBAEEAwQCBQEBAgQE/wEEA/8FBAUCBAIDAwX/AgIBAgICAQECBP8DAQEBAv//AwQBBAMC/wIBAwMDAwEBAQIBAgEEBQEE/wEEAQUBAwEBAQEDBQIBBAQCAgP/AgMCAQL/AgMDBQUCAwIBBAEBAQECAQQBBAQCAwIDAQMCA/8EBQMBAQUEAQQFAwEEBAEBBAQDBAEBAgEDAQED/wQBBAMFAgECAgIEAgIFAQUBAQL//wEBAQEC/wID/wH/AQIEAQQFAgMFAgQEAQMFBAIBAwQCBAMEBAEDBQQCBQIBBQEDAwMBAgIDBAMB/wUBBQMDAwUBBAEDBAMFAQEEAQEBAQMCAwQFAgEDBAIEAQEBBAH/AQIBAwQFAQMEAwUBAQMEBAMBBAEBAgQF/wECBQEFAgQCBAEBBQUEAwQC/wMBAwMDAgMEAgMCAgQDAQQCAwUDBAUCAQICAwMDBAIC/wQCAwQEAQQDBQED/wMFAQIDAgEEBAEEAQQEBAQBAwIBAQECBAL/BAMBAwQB/wMCAgEDBQIBAgQBBAEEAQEBAQECBAQBAQIDAv8BAQECAwEEBAIBAQEEAgED/wQEAQIDBAQEAQMCBf8CBAECBAQBAwEEAQEEBQQEAv//BAQDBAMBAwUBBP8BBP8EAwUCBAICBQEEBQEEA/8E//8CAv8BAQH/BAECBAMEBAMBAwMDAwEBAgEBAgICBQQBAQT/BAECAwEDBf8EAQIBAgQCAQEBAQIFBAMDAf8BBAUBAgQEAwMBAwEBAf8EBAMDBf8DAQEEAwEBAQQB/wUCAgEDAgMCA/8FAwH//wEBAwQDAQQEAf8BAQMBAwQBBf8BAgIBAgEBAwQEAQUFBP8EAQEDBAECAQQBBAECAQH/AwQFBAQCAQIBAQEEBQQDAQT//wQEBQEFAQEBBQQEAQEBAQIEAQIFAQIBBAUD/wICAwUBBP8CAQUEBQECAgQEBAECBQIEAQT/AQQBAgEEAgEBAwP/AQIBBAQBA/8BAwUBAQIFBQMCBQMFBAMCAgMD/wUCBf8BAQQCAQMCBAIFAwECAwMCAwT/AgQEBAEDBAICAf//AgIBAQQFAgEEAgQEAQEEBAQDBAEDAf8DBP8DBAMEAf8DAgIDAQEFAQMCBAEDAgQBBQUEBAIBBAUF/wIEBAL/AgUBAQQDAwMFAf//BQQBBAICBAUBAQIBAQEDAf8EAwIFAwUEBAMBAQMBBP8CBAMBBQQDBQEBAwQBBP8CAgEE//8DAQUEAQEBAgEFAQEDAQUFAwX/AwMCAQMCAgQBBQMCAgEBAQUEAQIBAgQBAwQCAQEEAgQDAwEEAgMDAQIC/wEFBAIDAQIE/wMDBAQCBQEDAgEEAwEBAwQBBAMFAwECBAQE/wMBAgIBAgE=",
          "dtype": "i1"
         },
         "yaxis": "y"
        }
       ],
       "layout": {
        "legend": {
         "tracegroupgap": 0
        },
        "template": {
         "data": {
          "bar": [
           {
            "error_x": {
             "color": "#2a3f5f"
            },
            "error_y": {
             "color": "#2a3f5f"
            },
            "marker": {
             "line": {
              "color": "#E5ECF6",
              "width": 0.5
             },
             "pattern": {
              "fillmode": "overlay",
              "size": 10,
              "solidity": 0.2
             }
            },
            "type": "bar"
           }
          ],
          "barpolar": [
           {
            "marker": {
             "line": {
              "color": "#E5ECF6",
              "width": 0.5
             },
             "pattern": {
              "fillmode": "overlay",
              "size": 10,
              "solidity": 0.2
             }
            },
            "type": "barpolar"
           }
          ],
          "carpet": [
           {
            "aaxis": {
             "endlinecolor": "#2a3f5f",
             "gridcolor": "white",
             "linecolor": "white",
             "minorgridcolor": "white",
             "startlinecolor": "#2a3f5f"
            },
            "baxis": {
             "endlinecolor": "#2a3f5f",
             "gridcolor": "white",
             "linecolor": "white",
             "minorgridcolor": "white",
             "startlinecolor": "#2a3f5f"
            },
            "type": "carpet"
           }
          ],
          "choropleth": [
           {
            "colorbar": {
             "outlinewidth": 0,
             "ticks": ""
            },
            "type": "choropleth"
           }
          ],
          "contour": [
           {
            "colorbar": {
             "outlinewidth": 0,
             "ticks": ""
            },
            "colorscale": [
             [
              0,
              "#0d0887"
             ],
             [
              0.1111111111111111,
              "#46039f"
             ],
             [
              0.2222222222222222,
              "#7201a8"
             ],
             [
              0.3333333333333333,
              "#9c179e"
             ],
             [
              0.4444444444444444,
              "#bd3786"
             ],
             [
              0.5555555555555556,
              "#d8576b"
             ],
             [
              0.6666666666666666,
              "#ed7953"
             ],
             [
              0.7777777777777778,
              "#fb9f3a"
             ],
             [
              0.8888888888888888,
              "#fdca26"
             ],
             [
              1,
              "#f0f921"
             ]
            ],
            "type": "contour"
           }
          ],
          "contourcarpet": [
           {
            "colorbar": {
             "outlinewidth": 0,
             "ticks": ""
            },
            "type": "contourcarpet"
           }
          ],
          "heatmap": [
           {
            "colorbar": {
             "outlinewidth": 0,
             "ticks": ""
            },
            "colorscale": [
             [
              0,
              "#0d0887"
             ],
             [
              0.1111111111111111,
              "#46039f"
             ],
             [
              0.2222222222222222,
              "#7201a8"
             ],
             [
              0.3333333333333333,
              "#9c179e"
             ],
             [
              0.4444444444444444,
              "#bd3786"
             ],
             [
              0.5555555555555556,
              "#d8576b"
             ],
             [
              0.6666666666666666,
              "#ed7953"
             ],
             [
              0.7777777777777778,
              "#fb9f3a"
             ],
             [
              0.8888888888888888,
              "#fdca26"
             ],
             [
              1,
              "#f0f921"
             ]
            ],
            "type": "heatmap"
           }
          ],
          "histogram": [
           {
            "marker": {
             "pattern": {
              "fillmode": "overlay",
              "size": 10,
              "solidity": 0.2
             }
            },
            "type": "histogram"
           }
          ],
          "histogram2d": [
           {
            "colorbar": {
             "outlinewidth": 0,
             "ticks": ""
            },
            "colorscale": [
             [
              0,
              "#0d0887"
             ],
             [
              0.1111111111111111,
              "#46039f"
             ],
             [
              0.2222222222222222,
              "#7201a8"
             ],
             [
              0.3333333333333333,
              "#9c179e"
             ],
             [
              0.4444444444444444,
              "#bd3786"
             ],
             [
              0.5555555555555556,
              "#d8576b"
             ],
             [
              0.6666666666666666,
              "#ed7953"
             ],
             [
              0.7777777777777778,
              "#fb9f3a"
             ],
             [
              0.8888888888888888,
              "#fdca26"
             ],
             [
              1,
              "#f0f921"
             ]
            ],
            "type": "histogram2d"
           }
          ],
          "histogram2dcontour": [
           {
            "colorbar": {
             "outlinewidth": 0,
             "ticks": ""
            },
            "colorscale": [
             [
              0,
              "#0d0887"
             ],
             [
              0.1111111111111111,
              "#46039f"
             ],
             [
              0.2222222222222222,
              "#7201a8"
             ],
             [
              0.3333333333333333,
              "#9c179e"
             ],
             [
              0.4444444444444444,
              "#bd3786"
             ],
             [
              0.5555555555555556,
              "#d8576b"
             ],
             [
              0.6666666666666666,
              "#ed7953"
             ],
             [
              0.7777777777777778,
              "#fb9f3a"
             ],
             [
              0.8888888888888888,
              "#fdca26"
             ],
             [
              1,
              "#f0f921"
             ]
            ],
            "type": "histogram2dcontour"
           }
          ],
          "mesh3d": [
           {
            "colorbar": {
             "outlinewidth": 0,
             "ticks": ""
            },
            "type": "mesh3d"
           }
          ],
          "parcoords": [
           {
            "line": {
             "colorbar": {
              "outlinewidth": 0,
              "ticks": ""
             }
            },
            "type": "parcoords"
           }
          ],
          "pie": [
           {
            "automargin": true,
            "type": "pie"
           }
          ],
          "scatter": [
           {
            "fillpattern": {
             "fillmode": "overlay",
             "size": 10,
             "solidity": 0.2
            },
            "type": "scatter"
           }
          ],
          "scatter3d": [
           {
            "line": {
             "colorbar": {
              "outlinewidth": 0,
              "ticks": ""
             }
            },
            "marker": {
             "colorbar": {
              "outlinewidth": 0,
              "ticks": ""
             }
            },
            "type": "scatter3d"
           }
          ],
          "scattercarpet": [
           {
            "marker": {
             "colorbar": {
              "outlinewidth": 0,
              "ticks": ""
             }
            },
            "type": "scattercarpet"
           }
          ],
          "scattergeo": [
           {
            "marker": {
             "colorbar": {
              "outlinewidth": 0,
              "ticks": ""
             }
            },
            "type": "scattergeo"
           }
          ],
          "scattergl": [
           {
            "marker": {
             "colorbar": {
              "outlinewidth": 0,
              "ticks": ""
             }
            },
            "type": "scattergl"
           }
          ],
          "scattermap": [
           {
            "marker": {
             "colorbar": {
              "outlinewidth": 0,
              "ticks": ""
             }
            },
            "type": "scattermap"
           }
          ],
          "scattermapbox": [
           {
            "marker": {
             "colorbar": {
              "outlinewidth": 0,
              "ticks": ""
             }
            },
            "type": "scattermapbox"
           }
          ],
          "scatterpolar": [
           {
            "marker": {
             "colorbar": {
              "outlinewidth": 0,
              "ticks": ""
             }
            },
            "type": "scatterpolar"
           }
          ],
          "scatterpolargl": [
           {
            "marker": {
             "colorbar": {
              "outlinewidth": 0,
              "ticks": ""
             }
            },
            "type": "scatterpolargl"
           }
          ],
          "scatterternary": [
           {
            "marker": {
             "colorbar": {
              "outlinewidth": 0,
              "ticks": ""
             }
            },
            "type": "scatterternary"
           }
          ],
          "surface": [
           {
            "colorbar": {
             "outlinewidth": 0,
             "ticks": ""
            },
            "colorscale": [
             [
              0,
              "#0d0887"
             ],
             [
              0.1111111111111111,
              "#46039f"
             ],
             [
              0.2222222222222222,
              "#7201a8"
             ],
             [
              0.3333333333333333,
              "#9c179e"
             ],
             [
              0.4444444444444444,
              "#bd3786"
             ],
             [
              0.5555555555555556,
              "#d8576b"
             ],
             [
              0.6666666666666666,
              "#ed7953"
             ],
             [
              0.7777777777777778,
              "#fb9f3a"
             ],
             [
              0.8888888888888888,
              "#fdca26"
             ],
             [
              1,
              "#f0f921"
             ]
            ],
            "type": "surface"
           }
          ],
          "table": [
           {
            "cells": {
             "fill": {
              "color": "#EBF0F8"
             },
             "line": {
              "color": "white"
             }
            },
            "header": {
             "fill": {
              "color": "#C8D4E3"
             },
             "line": {
              "color": "white"
             }
            },
            "type": "table"
           }
          ]
         },
         "layout": {
          "annotationdefaults": {
           "arrowcolor": "#2a3f5f",
           "arrowhead": 0,
           "arrowwidth": 1
          },
          "autotypenumbers": "strict",
          "coloraxis": {
           "colorbar": {
            "outlinewidth": 0,
            "ticks": ""
           }
          },
          "colorscale": {
           "diverging": [
            [
             0,
             "#8e0152"
            ],
            [
             0.1,
             "#c51b7d"
            ],
            [
             0.2,
             "#de77ae"
            ],
            [
             0.3,
             "#f1b6da"
            ],
            [
             0.4,
             "#fde0ef"
            ],
            [
             0.5,
             "#f7f7f7"
            ],
            [
             0.6,
             "#e6f5d0"
            ],
            [
             0.7,
             "#b8e186"
            ],
            [
             0.8,
             "#7fbc41"
            ],
            [
             0.9,
             "#4d9221"
            ],
            [
             1,
             "#276419"
            ]
           ],
           "sequential": [
            [
             0,
             "#0d0887"
            ],
            [
             0.1111111111111111,
             "#46039f"
            ],
            [
             0.2222222222222222,
             "#7201a8"
            ],
            [
             0.3333333333333333,
             "#9c179e"
            ],
            [
             0.4444444444444444,
             "#bd3786"
            ],
            [
             0.5555555555555556,
             "#d8576b"
            ],
            [
             0.6666666666666666,
             "#ed7953"
            ],
            [
             0.7777777777777778,
             "#fb9f3a"
            ],
            [
             0.8888888888888888,
             "#fdca26"
            ],
            [
             1,
             "#f0f921"
            ]
           ],
           "sequentialminus": [
            [
             0,
             "#0d0887"
            ],
            [
             0.1111111111111111,
             "#46039f"
            ],
            [
             0.2222222222222222,
             "#7201a8"
            ],
            [
             0.3333333333333333,
             "#9c179e"
            ],
            [
             0.4444444444444444,
             "#bd3786"
            ],
            [
             0.5555555555555556,
             "#d8576b"
            ],
            [
             0.6666666666666666,
             "#ed7953"
            ],
            [
             0.7777777777777778,
             "#fb9f3a"
            ],
            [
             0.8888888888888888,
             "#fdca26"
            ],
            [
             1,
             "#f0f921"
            ]
           ]
          },
          "colorway": [
           "#636efa",
           "#EF553B",
           "#00cc96",
           "#ab63fa",
           "#FFA15A",
           "#19d3f3",
           "#FF6692",
           "#B6E880",
           "#FF97FF",
           "#FECB52"
          ],
          "font": {
           "color": "#2a3f5f"
          },
          "geo": {
           "bgcolor": "white",
           "lakecolor": "white",
           "landcolor": "#E5ECF6",
           "showlakes": true,
           "showland": true,
           "subunitcolor": "white"
          },
          "hoverlabel": {
           "align": "left"
          },
          "hovermode": "closest",
          "mapbox": {
           "style": "light"
          },
          "paper_bgcolor": "white",
          "plot_bgcolor": "#E5ECF6",
          "polar": {
           "angularaxis": {
            "gridcolor": "white",
            "linecolor": "white",
            "ticks": ""
           },
           "bgcolor": "#E5ECF6",
           "radialaxis": {
            "gridcolor": "white",
            "linecolor": "white",
            "ticks": ""
           }
          },
          "scene": {
           "xaxis": {
            "backgroundcolor": "#E5ECF6",
            "gridcolor": "white",
            "gridwidth": 2,
            "linecolor": "white",
            "showbackground": true,
            "ticks": "",
            "zerolinecolor": "white"
           },
           "yaxis": {
            "backgroundcolor": "#E5ECF6",
            "gridcolor": "white",
            "gridwidth": 2,
            "linecolor": "white",
            "showbackground": true,
            "ticks": "",
            "zerolinecolor": "white"
           },
           "zaxis": {
            "backgroundcolor": "#E5ECF6",
            "gridcolor": "white",
            "gridwidth": 2,
            "linecolor": "white",
            "showbackground": true,
            "ticks": "",
            "zerolinecolor": "white"
           }
          },
          "shapedefaults": {
           "line": {
            "color": "#2a3f5f"
           }
          },
          "ternary": {
           "aaxis": {
            "gridcolor": "white",
            "linecolor": "white",
            "ticks": ""
           },
           "baxis": {
            "gridcolor": "white",
            "linecolor": "white",
            "ticks": ""
           },
           "bgcolor": "#E5ECF6",
           "caxis": {
            "gridcolor": "white",
            "linecolor": "white",
            "ticks": ""
           }
          },
          "title": {
           "x": 0.05
          },
          "xaxis": {
           "automargin": true,
           "gridcolor": "white",
           "linecolor": "white",
           "ticks": "",
           "title": {
            "standoff": 15
           },
           "zerolinecolor": "white",
           "zerolinewidth": 2
          },
          "yaxis": {
           "automargin": true,
           "gridcolor": "white",
           "linecolor": "white",
           "ticks": "",
           "title": {
            "standoff": 15
           },
           "zerolinecolor": "white",
           "zerolinewidth": 2
          }
         }
        },
        "title": {
         "text": "Relation between Gender and Income Category"
        },
        "xaxis": {
         "anchor": "y",
         "domain": [
          0,
          1
         ],
         "title": {
          "text": "Gender"
         }
        },
        "yaxis": {
         "anchor": "x",
         "domain": [
          0,
          1
         ],
         "title": {
          "text": "Income_Category"
         }
        }
       }
      }
     },
     "metadata": {},
     "output_type": "display_data"
    }
   ],
   "source": [
    "fig = px.scatter(data, x= 'Gender', y='Income_Category',title= 'Relation between Gender and Income Category')\n",
    "fig.show()"
   ]
  },
  {
   "cell_type": "markdown",
   "metadata": {},
   "source": [
    "- Shows Men have more income compared to Women"
   ]
  },
  {
   "cell_type": "markdown",
   "metadata": {},
   "source": [
    "### Finding relationship between Credit Limmit and Income Category"
   ]
  },
  {
   "cell_type": "code",
   "execution_count": 12,
   "metadata": {},
   "outputs": [
    {
     "data": {
      "application/vnd.plotly.v1+json": {
       "config": {
        "plotlyServerURL": "https://plot.ly"
       },
       "data": [
        {
         "bingroup": "x",
         "histfunc": "sum",
         "hovertemplate": "Income_Category=%{x}<br>sum of Credit_Limit=%{y}<extra></extra>",
         "legendgroup": "",
         "marker": {
          "color": "#636efa",
          "pattern": {
           "shape": ""
          }
         },
         "name": "",
         "orientation": "v",
         "showlegend": false,
         "type": "histogram",
         "x": {
          "bdata": "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",
          "dtype": "i1"
         },
         "xaxis": "x",
         "y": {
          "bdata": "AAAAAIDJyEAAAAAAACDAQAAAAAAAtKpAAAAAAADiqUAAAAAAAGyyQAAAAAAAVK9AAAAAAIDa4EAAAAAAQGbcQAAAAAAA1NVAAAAAAADExkAAAAAAAFy6QAAAAACAw8FAAAAAAIDzxkAAAAAAgLHAQAAAAAAACKNAAAAAAACKsEAAAAAAwKfdQAAAAACAb8pAAAAAAADyqEAAAAAAAEPMQAAAAADAfNRAMzMzMzN5lkAAAAAAAHaxQAAAAAAAeKNAAAAAAIDcx0AAAAAAAFi+QAAAAAAA4MxAAAAAAIDzw0AAAAAAALrDQAAAAAAAsbJAAAAAAACCpUAAAAAAACajQAAAAACAbcFAAAAAAAC0pEAAAAAAgIXIQAAAAAAAgKtAAAAAAAC2p0AAAAAAgCTOQAAAAAAAsKxAAAAAAADKvkAAAAAAgKrfQAAAAAAAPbhAAAAAAADm0EAAAAAAAISuQAAAAAAAM8NAAAAAAIDa4EAAAAAAANahQAAAAAAA6KNAAAAAAIAA00AAAAAAAImyQAAAAAAAfKRAMzMzMzN5lkAAAAAAAMaoQAAAAADATNNAAAAAAIDMzkAAAAAAAMSpQAAAAAAA5KVAAAAAAABqsUAAAAAAAIG4QAAAAAAAEKpAAAAAAADYqkAAAAAAgNrgQAAAAAAAJrdAAAAAAEBl10AAAAAAAMfMQAAAAACA2uBAAAAAAAC4uUAAAAAAAEigQAAAAAAAXJpAAAAAAAC12EAAAAAAgNrgQAAAAAAAUKFAAAAAAAC8pkAAAAAAQGDWQAAAAAAAvtdAAAAAAACYtEAAAAAAAFi7QAAAAAAAfrtAAAAAAADQo0AAAAAAADrcQAAAAACAu8BAAAAAAIDa4EAAAAAAANygQAAAAACAysNAAAAAAIDa4EAAAAAAABqoQAAAAAAAmNJAAAAAAAB0r0AAAAAAAOrIQAAAAAAAkrRAAAAAAABlw0AAAAAAgJHeQAAAAAAAsLlAAAAAAADQpEAAAAAAAM6jQAAAAAAAtJpAAAAAAAD8qkAAAAAAAJqtQAAAAACA7MJAAAAAAABJtUAAAAAAAH7WQAAAAACA2uBAAAAAAAD4pkAAAAAAAK6nQAAAAAAAGJ1AAAAAAABTwEAAAAAAgNrgQAAAAAAAOcxAMzMzMzN5lkAAAAAA4H/gQAAAAAAAicBAAAAAAAB4zUAAAAAAAH6pQAAAAAAAWJdAAAAAAIB3ykAAAAAAgHHSQAAAAAAAZMdAAAAAAAB2w0AAAAAAwJfXQAAAAAAA8rRAAAAAAIDa4EAAAAAAAMyoQAAAAAAA88dAAAAAAACYrUAAAAAAgNrgQAAAAAAA3KZAAAAAAIBW30AAAAAAgMrGQAAAAAAAbspAAAAAAAA4x0AAAAAAALKiQAAAAAAA37dAAAAAAIDR0kAAAAAAAPysQAAAAAAARqlAAAAAAIDyxkAAAAAAAEm+QAAAAAAAVMRAAAAAAAD+rkAAAAAAAD24QAAAAAAAWb9AAAAAAACmwUAAAAAAACfNQAAAAAAAv7hAAAAAAIBBzUAAAAAAAFilQAAAAAAAlKFAAAAAAABSxUAAAAAAAOW0QAAAAAAAS8JAAAAAAEAc1UAAAAAAABLLQAAAAACA9NFAAAAAAADKokAAAAAAANSgQAAAAAAA2J9AAAAAAADHv0AAAAAAAErCQAAAAADA4N9AAAAAAAD2qEAAAAAAAEimQAAAAAAAgLBAAAAAAMD600AAAAAAADSrQAAAAAAA8qdAAAAAAAASoUAAAAAAACyZQAAAAAAADKZAAAAAAOAZ4EAzMzMzM3mWQAAAAACAAc9AAAAAAAAvukAAAAAAABipQAAAAACA2uBAAAAAAIAiw0AAAAAAAFDEQAAAAAAAKtpAAAAAAAB8p0AAAAAAgAbTQAAAAAAAOKpAAAAAAACLtkAAAAAAALHFQAAAAAAAlKZAAAAAAABoqkAAAAAAwNTUQAAAAAAAHslAAAAAAACGuEAzMzMzM3mWQAAAAACARcJAAAAAAIBF1EAAAAAAAIrMQAAAAADAntpAAAAAAADLuEAAAAAAABbVQAAAAAAA8qpAAAAAAACMt0AAAAAAgMnRQAAAAABAAtBAMzMzMzN5lkAAAAAAAL++QAAAAAAAqLRAAAAAAAA4xkAAAAAAAAfIQAAAAACA2uBAAAAAAIDa4EAAAAAAAInEQDMzMzMzeZZAMzMzMzN5lkAAAAAAAHakQAAAAADA1ddAAAAAAACSokAAAAAAgNrgQAAAAAAAp8VAAAAAAABUxkAAAAAAAOXJQAAAAAAAFqRAAAAAAACVtkAAAAAAAMC+QAAAAACA2uBAAAAAAIC7xUAAAAAAAASdQAAAAAAA5J1AAAAAAAD+rUAAAAAAAIagQDMzMzMzeZZAAAAAAAAb20AzMzMzM3mWQAAAAAAAG8tAAAAAAABEqEAAAAAAgNrgQDMzMzMzeZZAAAAAAMBt0kAAAAAAAFe0QAAAAABAi9FAAAAAAABapUAAAAAAgE/BQAAAAAAABJ1AAAAAAIDa4EAAAAAAgLHFQAAAAABAEdVAAAAAAABWpkAAAAAAAJW0QDMzMzMzeZZAAAAAAAB2qkAAAAAAAPieQAAAAAAAJbJAAAAAAAAaoUAAAAAAABSjQAAAAAAAztRAAAAAAACZvUAAAAAAAESpQAAAAAAAdbFAAAAAAAC8pkAAAAAAAECsQAAAAAAAaKlAAAAAAABsokAAAAAAgMzVQAAAAAAAeqhAAAAAAACoq0AAAAAAAE67QAAAAACA2uBAMzMzMzN5lkAAAAAAANPXQAAAAAAAVKNAAAAAAABetEAAAAAAAFe0QAAAAAAAlMJAAAAAAADmqEAAAAAAADKqQAAAAAAA5KFAAAAAAACftEAAAAAAwAzXQAAAAAAAUqRAAAAAAADbuEAAAAAAAF2/QAAAAAAA1KJAAAAAAACSqkAAAAAAAKihQAAAAACARNFAAAAAAABusEAAAAAAgNrgQAAAAACAetZAAAAAAAC0tUAAAAAAAM63QAAAAAAA9qZAAAAAAADytEAAAAAAgH3aQAAAAAAAHKpAAAAAAADIo0AAAAAAALCdQAAAAAAAacxAAAAAAACyo0AAAAAAwArQQAAAAAAAhslAAAAAAICs1kAAAAAAAKKpQAAAAAAAMKhAAAAAAAAIoEAzMzMzM3mWQAAAAAAAbMJAAAAAAAAtzUAAAAAAAFqhQAAAAAAAY7ZAAAAAAIDa4EAAAAAAAEm7QAAAAABAp9dAAAAAAIAnzkAAAAAAQCHVQAAAAACAZ8xAAAAAAADqwkAAAAAAAI+zQAAAAAAAQJlAAAAAAACr0kAAAAAAAI6lQAAAAACAHMBAAAAAAIBsy0AAAAAAAJC0QAAAAAAA6KJAAAAAAAAUpkAAAAAAAHPIQAAAAAAA9LZAAAAAAIDa4EAAAAAAANjCQAAAAACA2uBAAAAAAACip0AAAAAAAIKpQAAAAAAAmbdAAAAAAADqoUAAAAAAgCvKQAAAAAAA3bBAAAAAAABkqkAAAAAAAJSzQAAAAAAAEqRAAAAAAAAeq0AAAAAAgNrgQAAAAAAA4KlAAAAAAAAkpEAAAAAAAKymQAAAAAAAbKVAAAAAAAA6oEAAAAAAAHm4QAAAAAAAi75AAAAAAABWpUAzMzMzM3mWQAAAAAAAz89AAAAAAIDa4EAAAAAAAGKkQAAAAAAAj71AAAAAAIA81kAAAAAAAJ6tQAAAAAAAHKVAAAAAAAD2o0AAAAAAAGaiQAAAAAAA1LRAAAAAAACMlkAAAAAAgPrEQAAAAAAAML9AAAAAAAAm0kAAAAAAANG1QAAAAACA2uBAMzMzMzN5lkAAAAAAAFyjQAAAAACA2uBAAAAAAABGokAAAAAAAEylQAAAAACAEM1AAAAAAABwmUAAAAAAAKioQAAAAAAAibJAAAAAAMBD00AAAAAAADDWQAAAAAAAwb9AAAAAAABOrUAAAAAAAOiYQAAAAAAAEqRAAAAAAIDH0UAAAAAAAECoQAAAAAAAzKJAAAAAAMD+10AAAAAAAFfOQAAAAACABshAAAAAAAA8pkAAAAAAAB7DQAAAAAAAP7xAAAAAAAAookAAAAAAANjHQAAAAAAAB7ZAAAAAAICSw0AAAAAAAE6hQAAAAAAArJ9AAAAAAADbuEAAAAAAAKCuQAAAAAAABcJAAAAAAABQwkAAAAAAAGCeQAAAAACAv8JAAAAAAICK20AAAAAAgETYQAAAAAAAuq1AAAAAAABapUAAAAAAgPbIQAAAAAAARKhAAAAAAAA1vUAAAAAAgNrgQAAAAADAQt1AAAAAAABtuUAAAAAAAEXKQAAAAAAAXtpAAAAAAIDa4EAAAAAAAMu4QAAAAAAARKhAAAAAAADQo0AAAAAAAHzJQAAAAAAAKqNAAAAAAACFz0AAAAAAAI2/QAAAAAAAJJ5AAAAAAABuqEAAAAAAgOLAQDMzMzMzeZZAAAAAAAASoUAAAAAAwOnXQAAAAAAADqRAAAAAAAAjsEAAAAAAABPFQAAAAAAA5LpAAAAAAIBEy0AAAAAAQBrdQAAAAACA0clAAAAAAADQo0AAAAAAAIPCQAAAAAAAXKtAAAAAAICGxEAAAAAAAEyXQAAAAAAAA8NAAAAAAAACokAAAAAAgNDLQAAAAAAAtbJAAAAAAICY1kAAAAAAAHjWQAAAAAAAdqhAAAAAAACmtkAAAAAAAOC6QAAAAACA2uBAAAAAAAA2oEAAAAAAAO2xQAAAAAAAGqJAAAAAAAD0nkAAAAAAAJa3QAAAAAAAH81AAAAAAMD23EAAAAAAAOCwQAAAAACA5sVAAAAAAECR2UAAAAAAAI22QAAAAAAAl7FAAAAAAIAS3UAAAAAAAJazQAAAAAAA6qpAAAAAAADd1kAAAAAAAMinQAAAAAAAgsxAAAAAAAAwrkAAAAAAgKHQQAAAAACAjNZAAAAAAECF3EAAAAAAgGnLQAAAAAAAJKdAAAAAAIAk0kAAAAAAADKhQAAAAAAAGqBAAAAAAIAG2EAAAAAAgBPPQAAAAADAeNBAAAAAAAC+pUAAAAAAADinQAAAAAAABLRAAAAAAACApkAAAAAAAMu1QAAAAAAAdcdAAAAAAIDa4EAAAAAAACqxQAAAAABA5dFAAAAAAAB6rUAAAAAAAC3VQAAAAAAA/J1AAAAAAICFw0AAAAAAAEPHQAAAAAAAzqFAAAAAAACmq0AAAAAAwNzdQAAAAAAA6NdAAAAAAEAm0UAAAAAAAJiZQAAAAAAABqdAAAAAAABqtkAAAAAAAEPgQAAAAAAAU7xAAAAAAACKpkAAAAAAAKKkQAAAAAAA4qVAAAAAAIBm0EAAAAAAADzCQAAAAAAAlqVAAAAAAMD70EAAAAAAAPyoQAAAAAAA7LNAAAAAAADmrkAAAAAAAIioQAAAAAAAeK9AAAAAAACwoUAAAAAAAB3VQAAAAAAA8bhAAAAAAACOokAAAAAAAKyeQAAAAAAAoLBAAAAAAADps0AAAAAAADipQAAAAADAwdNAAAAAAADe2kAAAAAAACSeQAAAAAAAMqRAAAAAAIC7x0AAAAAAgNrgQAAAAACA2uBAAAAAAACAtUAAAAAAgJLDQAAAAAAAzKtAAAAAAEBj00AAAAAAAGmzQAAAAAAAWqhAAAAAAIAF1UAAAAAAAIC1QAAAAAAAiLVAMzMzMzN5lkAAAAAAAF68QAAAAAAAl7xAMzMzMzN5lkAAAAAAACC+QAAAAAAACqBAAAAAAAACyUAAAAAAwNLZQAAAAAAAaqhAAAAAAABCs0AAAAAAAILCQAAAAAAA5cZAAAAAAID6yUAzMzMzM3mWQDMzMzMzeZZAAAAAAAAxukAAAAAAgC/WQAAAAABAa9dAAAAAAAAcokAAAAAAAN/SQAAAAAAA07RAAAAAAACqzkAAAAAAQDbRQAAAAACAB9FAAAAAAAConkAAAAAAAI2/QAAAAAAAtKlAAAAAAADEokAAAAAAABTCQAAAAAAAtKxAAAAAAAA+uUAAAAAAAJiZQAAAAAAA77BAAAAAAABCqUAAAAAAACvHQAAAAACA2uBAAAAAAIBW00AAAAAAQEnYQAAAAAAAUKxAAAAAAAAfuEAAAAAAgGTFQAAAAAAAJcZAAAAAAACotUAAAAAAQDTTQAAAAAAA3qZAAAAAAAAatEAAAAAAAKCaQDMzMzMzeZZAAAAAAAA8p0AAAAAAAGC1QAAAAAAAYKVAMzMzMzN5lkAAAAAAAB61QAAAAACA2uBAAAAAAADgnkAAAAAAAAXBQAAAAACA+sBAAAAAAIAPwkAAAAAAACW+QAAAAAAALLNAAAAAAAA2vEAAAAAAADvVQAAAAAAAJqJAAAAAAABsvkAzMzMzM3mWQAAAAAAAJddAAAAAAADfxkAAAAAAAMyhQAAAAAAAoK9AAAAAAACerEAzMzMzM3mWQAAAAAAAfKtAAAAAAADUmkAAAAAAQGvQQAAAAACADNBAAAAAAABc1UAAAAAAgAzPQAAAAAAAr7BAAAAAAADBvEAzMzMzM3mWQAAAAAAA2sBAAAAAAIBP0kAAAAAAgL7UQAAAAAAAIqdAAAAAAIAfxkAAAAAAADrAQAAAAAAAYqlAAAAAAABKp0AAAAAAgD7BQAAAAAAABK1AAAAAAACsvEAAAAAAAI7QQAAAAABAYNRAAAAAAAAWqEAAAAAAAKzEQAAAAAAAgKFAAAAAAADox0AAAAAAAAC0QAAAAAAAaKhAAAAAAID+xUAAAAAAAEijQAAAAABAo9VAAAAAAIBqxkAAAAAAALquQAAAAAAAVr9AAAAAAIDlykAAAAAAwI/dQAAAAAAAWKlAAAAAAADwpkAzMzMzM3mWQAAAAAAAYrhAAAAAAAAfuEAAAAAAAA/HQAAAAAAAfrJAAAAAAABkuEAzMzMzM3mWQAAAAACA2uBAAAAAAEAC10AAAAAAgCnYQAAAAAAA6tpAAAAAAAAjt0AAAAAAgMLAQAAAAAAAqKhAAAAAAADvu0AAAAAAAPyXQAAAAAAAlKBAAAAAAMC60EAAAAAAAL62QAAAAAAAoqtAAAAAAIDa4EAAAAAAAODPQAAAAAAAzqJAAAAAAACkq0AAAAAAAPikQAAAAACA2uBAAAAAAIAxzkAAAAAAANOwQAAAAAAAQqBAAAAAAABApkAAAAAAgNrgQAAAAAAA2bhAAAAAAAAizkAAAAAAAOCjQAAAAACAc8NAAAAAAAAuwUAAAAAAAMiqQDMzMzMzeZZAAAAAAECU0UAAAAAAAPCkQAAAAAAAQ7JAAAAAAAAgo0AAAAAAAKKvQAAAAAAA2r9AAAAAAADPsUAAAAAAgObSQAAAAAAASKJAAAAAAAAMy0AAAAAAAHSjQAAAAAAAZ99AAAAAAAAkpEAAAAAAAK3BQAAAAACA2uBAAAAAAABVwEAAAAAAAHK5QAAAAAAApq9AAAAAAIBbx0AAAAAAACygQAAAAAAAIMdAAAAAAABorEAAAAAAgJ3FQAAAAAAA/8VAAAAAAAD0s0AAAAAAADCgQAAAAAAAF7BAAAAAAAAPt0AAAAAAALS+QAAAAAAAHrdAAAAAAABVukAAAAAAAFCuQAAAAAAAfKNAAAAAAECh1UAAAAAAgNrgQAAAAAAASrVAMzMzMzN5lkAAAAAAAEyfQAAAAAAAK75AAAAAAIDM0UAAAAAAAMC/QAAAAAAA27ZAAAAAAAAKxEAAAAAAQFDaQAAAAAAAhqFAAAAAAIDa4EAAAAAAAOzHQDMzMzMzeZZAAAAAAMBg00AAAAAAAOagQAAAAAAAieBAAAAAAACzsUAAAAAAAAynQAAAAAAAGr5AAAAAAEAO2UAAAAAAACDRQAAAAAAAdK1AAAAAAAA0xEAAAAAAQNHZQAAAAAAAJKNAAAAAAACAqEAAAAAAAEC7QAAAAACAo9RAAAAAAACMn0AAAAAAgNrgQAAAAACAc8NAAAAAAEDE00AAAAAAAOqiQAAAAAAAOd5AAAAAAACkpEAAAAAAAIa/QAAAAAAA6q9AAAAAAAAWoUAAAAAAgNrgQAAAAAAAPKpAAAAAAACAnUAAAAAAgDfMQAAAAABAl99AAAAAAICeyEAAAAAAACinQAAAAAAAkq1AAAAAAABOpUAAAAAAAB6qQAAAAAAAHcNAAAAAAAAHuUAAAAAAAD6wQAAAAABAMNVAAAAAAMCl3kAAAAAAwCjeQAAAAAAAO8lAAAAAAACkwEAAAAAAAPPLQAAAAAAAMcxAAAAAAABxvkAAAAAAAI/BQAAAAAAA97BAAAAAAABwpkAAAAAAgPDCQAAAAAAALqdAAAAAAADIoEAAAAAAAOS3QAAAAABAqdFAAAAAAAC4o0AAAAAA4JPgQAAAAAAA4KlAAAAAAAByw0AAAAAAAGCuQAAAAADA791AAAAAAABqp0AAAAAAAJHFQAAAAAAAdKpAAAAAAIA5z0AAAAAAAJnYQAAAAAAA1KJAAAAAAADbsEAAAAAAAECkQAAAAAAAZLVAAAAAAABAo0AAAAAAAJSiQAAAAAAAltNAAAAAAABNv0AAAAAAAHSqQAAAAAAA4r5AAAAAAIB2xkAAAAAAAKDKQAAAAAAAaqFAAAAAAAAmtEAAAAAAANygQAAAAADAudZAAAAAAAACxEAAAAAAADikQAAAAACA/cRAAAAAAAAyvUAAAAAAAMarQAAAAAAAn9VAAAAAAIB4wkAAAAAAAEq4QAAAAAAAKKRAMzMzMzN5lkAAAAAAAFC4QAAAAAAAKqhAAAAAAADYr0AAAAAAAP2yQAAAAACAPcNAAAAAAAC1vEAAAAAAAEqmQAAAAADAn9BAAAAAAACmw0AAAAAAAOyYQAAAAACAjcBAAAAAAAC3tUAAAAAAAMqmQAAAAAAAJLpAAAAAAICzwEAAAAAAgKTEQAAAAAAAi7tAAAAAAIDCw0AAAAAAgDvAQAAAAACA0tlAAAAAAAA4s0AzMzMzM3mWQAAAAACAH9pAAAAAAIDa4EAzMzMzM3mWQAAAAAAANJ1AAAAAAIBlzEAAAAAAQFjaQAAAAAAAMrVAAAAAAADHvUAAAAAAAOyyQAAAAAAA9qRAAAAAAAAcqUAAAAAAAP60QAAAAAAARL9AMzMzMzN5lkAAAAAAANqmQAAAAACACcJAAAAAAIBCwUAAAAAAgDDBQAAAAAAA1qtAAAAAAADKv0AzMzMzM3mWQAAAAAAANKNAAAAAAADwsUAzMzMzM3mWQAAAAAAAMJ1AAAAAAACVtEAAAAAAAK/TQAAAAAAA8rxAAAAAAIDBx0AAAAAAAFC4QAAAAAAAmrBAAAAAAICNx0AAAAAAAN6lQAAAAABAndFAAAAAAAAZtkAAAAAAAOXKQAAAAAAAJrJAAAAAAACko0AAAAAAgFLMQAAAAACA68BAAAAAAAA6okAAAAAAALynQAAAAACAScFAAAAAAAACp0AAAAAAAJO0QAAAAAAAoMBAAAAAAMCd0kAAAAAAAAC1QAAAAAAAXL5AAAAAAIDqwUAAAAAAgNrgQAAAAACAY8dAAAAAAIAWzkAAAAAAAG6kQAAAAADAbddAAAAAAACAnUAAAAAAADyoQAAAAAAAxKhAAAAAAIDa4EAAAAAAAC3NQAAAAACA5NBAAAAAAAB2qEAAAAAAgEXHQAAAAAAAedBAAAAAAACEqUAAAAAAAKSlQAAAAAAAyKtAAAAAAIDewUAzMzMzM3mWQAAAAACAtsxAAAAAAID0zEAAAAAAgMfDQAAAAAAA4qZAAAAAAAAurUAAAAAAAOSmQAAAAAAA1shAAAAAAACa1UAzMzMzM3mWQAAAAAAAwrFAAAAAAAB8m0AAAAAAAN2yQAAAAAAADL5AAAAAAADYoEAAAAAAgJjCQAAAAACAFtpAAAAAAABYoEAAAAAAAKXGQAAAAAAAJKZAAAAAAAB0skAAAAAAANKnQAAAAACAIdRAAAAAAABkqUAAAAAAAHCoQAAAAAAADrlAAAAAAACUo0AAAAAAAC29QAAAAAAACKtAAAAAAIBzw0AAAAAAAE+wQAAAAAAADMRAAAAAAAAhsEAAAAAAAMSkQAAAAAAA7bFAAAAAAAC6pUAAAAAAAEzYQAAAAAAAnMBAAAAAAACbv0AAAAAAALKqQAAAAAAA+sFAAAAAAADvy0AAAAAAAOaoQAAAAAAAqbhAAAAAAAAQz0AAAAAAANjGQAAAAADA5NNAAAAAAIDa4EAAAAAAAIC9QAAAAAAAubVAAAAAAACElkAAAAAAwEDTQAAAAAAAbKNAAAAAAADasUAAAAAAADyuQAAAAAAARclAAAAAAICu1EAAAAAAAMvHQAAAAAAA/qtAAAAAAICe0EAAAAAAgE/PQAAAAAAAa7BAAAAAAAB1sEAAAAAAAAvVQAAAAABAFNJAAAAAAABmo0AAAAAAAAirQAAAAAAAb7lAMzMzMzN5lkAAAAAAAG6kQAAAAAAAUqdAAAAAAEBb0kAAAAAAAFamQAAAAAAAkKZAAAAAAADqwUAAAAAAgOTLQAAAAAAAubxAAAAAAAAZtEAAAAAAAJGyQAAAAAAA9qBAAAAAAAA2sEAAAAAAAMnBQAAAAAAA/KRAAAAAAID/w0AAAAAAgNrgQAAAAACAVM1AAAAAAABKsUAAAAAAANagQAAAAAAAI9RAAAAAAABMqUAAAAAAAPbLQAAAAAAAXqRAAAAAAABXuEAAAAAAACStQAAAAAAALKhAAAAAAADmuUAAAAAAABSeQAAAAADAT+BAAAAAAADKpkAAAAAAAHbCQAAAAAAA5KBAMzMzMzN5lkAAAAAAgNrgQAAAAAAAkKZAAAAAAADWrkAAAAAAADHPQAAAAAAAmJxAAAAAAAAgvkAAAAAAwFLUQAAAAACABsdAAAAAAAACqEAAAAAAgNrgQAAAAACA2uBAAAAAAABFukAAAAAAAESnQAAAAACA2uBAAAAAAIDa4EAAAAAAQPjXQDMzMzMzeZZAAAAAAAB0o0AAAAAAAK3DQAAAAAAApqFAAAAAAIDa4EAAAAAAgJfCQAAAAAAA9KxAAAAAAABWsUAzMzMzM3mWQAAAAAAAiKJAAAAAAAB2sEAzMzMzM3mWQAAAAAAAaqRAAAAAAADrsEAAAAAAAKKsQDMzMzMzeZZAAAAAAAA7sUAAAAAAgP/OQAAAAACAschAAAAAAADIt0AAAAAAgBjLQAAAAAAADrhAAAAAAAAGtkAAAAAAAAShQAAAAAAAlshAAAAAAABTx0AAAAAAAJSuQAAAAAAAvKdAAAAAAADLtUAAAAAAQEHSQAAAAAAA/qZAAAAAAAAGo0AAAAAAADqgQAAAAAAAfLZAAAAAAECS1EAAAAAAAGrCQAAAAAAAsbdAAAAAAACgs0AAAAAAAPygQAAAAAAAjKpAAAAAAADfsEAAAAAAALKsQAAAAAAAXJxAAAAAAAB+o0AAAAAAgNrgQAAAAAAAUKpAAAAAAAA5vEAAAAAAAFK0QAAAAAAADJ5AAAAAAAARu0AAAAAAAAyxQAAAAAAAwKJAAAAAAIBF2UAAAAAAADLHQAAAAAAA2LFAAAAAAACEskAAAAAAAFWzQAAAAACA2sVAAAAAAIDa4EAAAAAAANO3QAAAAAAA7qtAAAAAAADgqEAAAAAAgBnKQAAAAAAA5qBAAAAAAAD4qkAAAAAAAHKxQAAAAAAArKdAAAAAAACAoEAAAAAAAJ+9QAAAAAAA+MZAAAAAAACmoUAAAAAAgEzTQAAAAAAA5qVAAAAAAIAQ2UAAAAAAgCjCQAAAAAAAbqdAAAAAAACKsEAAAAAAgDnPQAAAAADADNBAAAAAAADXtEAAAAAAAGSrQAAAAAAANKxAAAAAAADIqEAAAAAAAAfAQAAAAAAA4KJAAAAAAAA0o0AAAAAAADSaQAAAAACAFcdAAAAAAIDa4EAAAAAAAMyWQAAAAAAAyJZAMzMzMzN5lkAAAAAAAE6+QAAAAAAAKsVAAAAAAADGs0AAAAAAAI6qQAAAAAAASKFAAAAAAADkqEAAAAAAACe3QAAAAAAAOLRAAAAAAABsqEAAAAAAAD6yQAAAAAAA5KBAAAAAAIDVw0AAAAAAAMXNQAAAAACA2uBAMzMzMzN5lkAAAAAAgNrgQAAAAACAVc9AAAAAAADaqEAAAAAAAHTaQAAAAAAAOLZAAAAAAABvxEAAAAAAAIG0QAAAAAAAI7RAAAAAAIDoxEAAAAAAgBvQQAAAAAAARblAAAAAAAAatEAAAAAAAOClQAAAAAAAJ7RAAAAAAACAtEAAAAAAAPm2QAAAAAAA7JZAAAAAAACHs0AAAAAAADyyQDMzMzMzeZZAAAAAAADfwEAAAAAAgD/CQAAAAAAAoKFAAAAAAIAlwEAAAAAAAHahQAAAAAAALq1AAAAAAAB+oEAAAAAAALbEQAAAAACARdVAAAAAAACqoEAAAAAAQEnQQAAAAAAAOqVAAAAAAAAYr0AAAAAAgG3AQAAAAAAAZqFAAAAAAIDa4EAAAAAAABCdQAAAAAAAGqZAAAAAAABorUAAAAAAAM+xQAAAAAAAXbJAAAAAAAB8mUAAAAAAAKC/QAAAAAAAAKJAAAAAAABatEAAAAAAAEy1QAAAAAAAM71AAAAAAABuokAAAAAAAI2wQAAAAACAJdJAAAAAAAAivEAzMzMzM3mWQAAAAACA6sVAAAAAAEBy0kAAAAAAACSgQAAAAACA2uBAAAAAAABspUAAAAAAgJTTQAAAAAAAzKdAAAAAAAAxuEAAAAAAAAK2QAAAAAAAm7FAAAAAAADAp0AAAAAAgIPUQAAAAAAAnrxAAAAAAACGrEAAAAAAALCqQAAAAAAAoKxAAAAAAADFt0AAAAAAAM/VQAAAAAAAHqBAAAAAAABNsUAAAAAAAC6vQAAAAAAAMqFAAAAAAABIpkAAAAAAgP3CQAAAAAAAzbRAAAAAAAADvUAAAAAAAPO1QAAAAAAAJbVAAAAAAADevUAAAAAAAOiiQAAAAAAAnLBAAAAAAAC8n0AAAAAAAM26QAAAAAAA/qlAAAAAAACKpkAAAAAAAGi8QAAAAACA2uBAAAAAAACmo0AAAAAAANylQAAAAACA2uBAMzMzMzN5lkAAAAAAgKDIQAAAAADAtdJAAAAAAADVwkAAAAAAAGbAQAAAAAAAQrtAAAAAAAA2o0AAAAAAAE7JQAAAAAAA2LtAAAAAAEBP0kAAAAAAACKhQAAAAAAAqrFAAAAAAADaoEAAAAAAgEvHQAAAAACAJsZAAAAAAACxvEAAAAAAAJS3QAAAAAAAYKBAAAAAAADInUAAAAAAAK+zQAAAAAAARrhAAAAAAACgl0AAAAAAgNrgQAAAAAAAJKpAAAAAAIDa4EAAAAAAAAS6QAAAAAAAdKFAAAAAAIDjwkAAAAAAAM25QAAAAAAAFqhAAAAAAABQtUAAAAAAACqxQAAAAAAA8K9AAAAAAAC0rkAAAAAAAFywQAAAAAAAaqxAAAAAAICAxkAAAAAAAJqhQAAAAAAARqJAAAAAAMDJ3UAAAAAAAPSxQAAAAAAARbZAAAAAAAAqqUAAAAAAAJynQAAAAAAAFqVAAAAAAABEoUAzMzMzM3mWQAAAAAAA5J9AAAAAAABkqUAAAAAAAKyZQAAAAACA2uBAAAAAAMDZ3EAAAAAAAKyoQAAAAAAApqZAAAAAAAA4p0AAAAAAAA22QAAAAAAAPqNAMzMzMzN5lkAAAAAAgNrgQAAAAAAAoqZAAAAAAAAPtUAAAAAAAGymQAAAAADAZddAAAAAAAAjzUAAAAAAAAysQAAAAAAA8qFAAAAAAIB42EAAAAAAAPq8QAAAAAAAiKdAAAAAAADSsUAAAAAAgPHEQAAAAAAAqJhAAAAAAABcoEAAAAAAACqwQAAAAAAAKbVAAAAAAIDa4EAAAAAAALzCQAAAAACAWMFAMzMzMzN5lkAAAAAAAGquQAAAAAAAVKlAAAAAAACTt0AAAAAAgDrRQAAAAAAA57BAAAAAAIDa4EAAAAAAAPSyQAAAAAAA67tAAAAAAAAoxEAAAAAAAMKpQAAAAACAfsNAAAAAAAACqkAAAAAAAGe3QAAAAAAARqlAAAAAAABzuEAAAAAAANqjQAAAAADA2dRAAAAAAACTwUAAAAAAgAPEQAAAAADA1dNAAAAAAMAz4EAAAAAAAFiaQAAAAAAAhrJAAAAAAAD4mkAAAAAAAHLAQAAAAAAAMKpAAAAAAAD4uUAAAAAAAD6iQAAAAACANshAMzMzMzN5lkAAAAAAAIChQAAAAAAA0rRAAAAAAAAMnEAAAAAAAG22QAAAAAAASJ9AAAAAAIAP2UAAAAAAwJXVQDMzMzMzeZZAAAAAAIAhyEAAAAAAAECfQAAAAACABMFAAAAAAIDmwUAAAAAAgJ/GQDMzMzMzeZZAAAAAAADVv0AAAAAAAECsQAAAAAAAecBAAAAAAIAfw0AAAAAAAH7AQAAAAAAAaKFAAAAAAIDZx0AzMzMzM3mWQAAAAAAAyJhAAAAAAACOoUAAAAAAAMqlQAAAAAAAkbBAAAAAAABnwEAAAAAAABCwQAAAAAAAbc5AAAAAAABQr0AAAAAAAO/IQAAAAAAA3KpAAAAAAABN0EAAAAAAAMSvQAAAAAAAjMlAAAAAAAA4nkAAAAAAADypQAAAAAAAPqxAAAAAAAAknEAAAAAAANKkQAAAAACAJdxAAAAAAACUzEAAAAAAADu6QAAAAAAAArpAAAAAAABAqkAAAAAAgALNQAAAAAAAwLJAAAAAAAACskAzMzMzM3mWQAAAAACAXMBAAAAAAAAzsEAAAAAAAKikQAAAAACAFcpAAAAAAABmqUAAAAAAAGigQAAAAAAA3KtAAAAAAIAhzUAAAAAAgGXJQAAAAAAAeKNAAAAAAAB4m0AAAAAAAIa1QAAAAAAAy9BAAAAAAAD1tkAAAAAAAPO9QAAAAAAA9qZAAAAAAAAKt0AAAAAAwIbTQAAAAAAAqqVAAAAAAAD2qUAAAAAAgFjPQAAAAAAAIqxAAAAAAAAGokAAAAAAADytQAAAAAAA8qZAAAAAAAASqUAAAAAAAIXIQAAAAAAAXrJAAAAAAAANtkAAAAAAAPLLQAAAAAAAErNAAAAAAKBP4EAAAAAAABilQAAAAAAA7KZAAAAAAAAwmEAAAAAAAJW1QAAAAAAAdrZAAAAAAECF2kAAAAAAAA/JQAAAAAAAmrVAAAAAAAD4pEAAAAAAAAqjQAAAAAAA5q1AAAAAAIDa4EAAAAAAADS3QAAAAAAAtclAAAAAAACsnkAAAAAAQEbSQAAAAAAAnqdAAAAAAADXt0AAAAAAgLfEQAAAAAAAyqZAAAAAAIDa4EAAAAAAQJvYQAAAAAAAbqVAAAAAAAAPsEAAAAAAAKasQAAAAAAA1KhAAAAAAAAqtkAAAAAAAFrGQDMzMzMzeZZAAAAAAADzuEAAAAAAABm2QAAAAACAGcdAAAAAAABgpEAAAAAAAAapQAAAAACA2uBAAAAAAABQo0AAAAAAAMagQAAAAAAAsKpAAAAAAAB6v0AAAAAAAKSqQAAAAAAAmdJAAAAAAAAYmUAAAAAAAMTXQAAAAAAAprNAAAAAAEAA2EAAAAAAAHqrQAAAAAAA6LxAAAAAAAAYp0AAAAAAAPSrQAAAAAAA9chAAAAAAABYnkAAAAAAQELdQAAAAADgf+BAAAAAAEA+0UAAAAAAAAqmQAAAAAAAHJdAMzMzMzN5lkAAAAAAAMu6QAAAAAAAmKpAAAAAAADcoEAAAAAAAIidQAAAAACA9NFAAAAAAAAkrEAAAAAAAGytQAAAAAAAArZAAAAAAABsqEAAAAAAAJKnQAAAAAAAZrVAAAAAAAB7yUAAAAAAgPfAQAAAAAAAHrhAAAAAAAAXtkAAAAAAABW1QAAAAABAzNtAAAAAAADoqkAAAAAAAHCgQAAAAAAAfc5AAAAAAIDa4EAAAAAAAITQQAAAAAAAVrVAAAAAAABopkAAAAAAAPqkQAAAAAAAdrRAAAAAAADRsUAAAAAAgJHJQAAAAAAAJcVAAAAAAABQpEAAAAAAAAKkQAAAAAAAr7tAAAAAAIDa4EAAAAAAAA3EQAAAAAAARJhAAAAAAABMukAAAAAAgMrHQAAAAAAAkLtAAAAAAIAOzEAAAAAAgGjGQAAAAAAAb9dAAAAAAABsp0AAAAAAwE7dQAAAAAAAyqJAAAAAAMBp1UAAAAAAAISuQAAAAACAlsNAAAAAAABGs0AAAAAAAB3LQAAAAAAAVqJAAAAAAAAUsEAAAAAAACjLQAAAAACAy99AAAAAAAAzyUAAAAAAAJqjQAAAAAAAaKNAAAAAAAC4pUAAAAAAAGO0QAAAAACArdFAAAAAAAC0sUAAAAAAwN/VQAAAAAAAibFAAAAAAIAsxEAAAAAAAJqkQAAAAAAAIJ1AAAAAAADuyUAAAAAAADyeQAAAAAAAgLpAAAAAAMCt0kAAAAAAQODfQDMzMzMzeZZAAAAAAADiokAAAAAAwM7SQAAAAAAAqK1AAAAAAACUr0AAAAAAwDDRQAAAAAAAnKZAAAAAAIBW0EAAAAAAAKSpQAAAAACA485AAAAAAAAgmkAAAAAAALm/QAAAAAAA3KhAAAAAAADcqEAAAAAAAMWzQAAAAAAAULhAAAAAAABepUAAAAAAAECjQAAAAAAAKqtAAAAAAABUqUAAAAAAgDTbQDMzMzMzeZZAAAAAAIDa4EAAAAAAANm4QAAAAAAAdKNAAAAAAIB0y0AAAAAAADqjQAAAAAAAVr5AAAAAAADP1EAAAAAAAKSxQAAAAAAAMLVAAAAAAACQm0AAAAAAAFSXQAAAAADAINFAAAAAAIDa4EAAAAAAAMqgQAAAAAAAcLhAAAAAAABJx0AAAAAAANavQAAAAAAAerxAAAAAAABNt0AAAAAAgJfBQAAAAAAAvbdAAAAAAABAnEAAAAAAAAXJQAAAAAAAuqpAAAAAAABcqEAAAAAAQIvTQAAAAAAAK7FAAAAAAIDewkAAAAAAANSeQAAAAAAAY8NAAAAAAAAMsEAAAAAAQEHUQAAAAACA589AAAAAAADssUAAAAAAAFC2QAAAAAAA17RAAAAAAADAyUAAAAAAAMjAQAAAAAAA2J1AAAAAAABCuEAAAAAAAFihQAAAAAAARdRAAAAAAACepkAAAAAAAKarQAAAAAAAHcJAAAAAAADmqEAAAAAAAOSlQAAAAAAAPKJAMzMzMzN5lkAAAAAAAH6rQAAAAAAAIKhAAAAAAIDa4EAAAAAAAEHHQAAAAAAArcVAAAAAAABgoUAAAAAAAPyqQAAAAAAAW7ZAAAAAAIALwkAAAAAAALqvQAAAAAAAXbBAAAAAAADluEAAAAAAAGihQAAAAAAAeqlAAAAAAABOv0AAAAAAAHLFQAAAAAAAKKhAAAAAAID1y0AAAAAAAMCZQAAAAAAACJtAAAAAAADkykAAAAAAALSaQAAAAAAApJpAAAAAAIDwwEAAAAAAAPe4QAAAAAAAr8VAAAAAAEAv2EAAAAAAAB7fQAAAAAAA4rRAAAAAAADipUAAAAAAAJioQAAAAAAAxKVAAAAAAAA7x0AAAAAAAG+9QAAAAACAM+BAAAAAAABUp0AAAAAAAEm6QAAAAAAAUqRAAAAAAABoqkAAAAAAAFSlQAAAAAAA+KlAAAAAAADSpEAAAAAAAJezQAAAAAAA+bpAAAAAAADYtkAAAAAAALDSQAAAAAAAWKtAAAAAAAAdvUAAAAAAAHq4QAAAAAAAUbNAAAAAAABW20AAAAAAAC6tQAAAAAAAL7pAAAAAAAASuEAAAAAAABKqQAAAAAAAOqFAAAAAAABisUAzMzMzM3mWQAAAAAAA+KBAAAAAAADjsEAAAAAAADGwQAAAAAAAwJ9AAAAAAABiu0AAAAAAAAqpQAAAAADAKNBAAAAAAAAqt0AAAAAAAC29QAAAAAAAdqFAAAAAAAD8n0AAAAAAgNrgQAAAAAAAmKRAAAAAAAAZuUAAAAAAAKymQAAAAAAARK9AAAAAAAA3tEAAAAAAAPexQAAAAACAht5AAAAAAAD2pEAAAAAAALvGQAAAAAAAlJxAAAAAAAAqwEAAAAAAwPzWQAAAAAAAYKJAAAAAAIA1xkAAAAAAAFKmQAAAAACA2uBAAAAAAAAiukAAAAAAAFexQAAAAAAA4LRAAAAAAICr2kAAAAAAAMajQAAAAAAAxMFAAAAAAIDa4EAAAAAAAAG8QAAAAAAAF7VAAAAAAADQoUAAAAAAAKu4QAAAAAAAMrFAAAAAAAAV20AAAAAAAFOzQAAAAAAA1K5AAAAAAIAByEAAAAAAAPanQDMzMzMzeZZAAAAAAIDcwEAAAAAAALSiQAAAAAAAN8ZAAAAAAAAJu0AAAAAAAAikQAAAAAAAQKVAAAAAAIA5w0AAAAAAwC7VQAAAAAAAiJxAAAAAAABytkAAAAAAANymQAAAAAAAlbtAAAAAAADVtUAAAAAAAMrCQAAAAAAA1qNAAAAAAAB0rEAAAAAAAPaqQAAAAAAAxJxAAAAAAACEtkAAAAAAgNnRQAAAAACAXc9AAAAAAAD/tkAAAAAAAKCoQAAAAAAAWMhAAAAAAACwskAAAAAAAHieQAAAAAAANr1AMzMzMzN5lkAAAAAAAKyaQAAAAAAAYK9AAAAAAACEokAAAAAAACyrQAAAAAAADJhAMzMzMzN5lkAAAAAAAIyoQAAAAAAA1dBAMzMzMzN5lkAAAAAAAMvJQAAAAAAAYKNAAAAAAACkpkAAAAAAAIiYQAAAAAAAbLFAAAAAAAAgmEAAAAAAAACrQAAAAAAAfqVAAAAAAAA5sEAAAAAAAMqsQAAAAAAAY8FAAAAAAAAAp0AAAAAAAHChQAAAAAAAhJhAAAAAAIAR10AAAAAAAPypQAAAAAAA5LdAAAAAAAAsxkAAAAAAAB/NQAAAAADAHtFAAAAAAAAqsEAAAAAAAFvAQAAAAAAAibtAAAAAAAAWrkAAAAAAACDPQAAAAAAA3KZAAAAAAIAgxEAAAAAAAFanQAAAAACA2uBAAAAAAACDuEAAAAAAABG8QAAAAAAAoqlAAAAAAAAKqEAAAAAAAOifQAAAAAAARJ9AAAAAAABSrEAAAAAAAHu+QAAAAAAAP7dAAAAAAADazkAAAAAAAIa9QAAAAAAABbVAAAAAAADIq0AAAAAAAMqkQAAAAAAAZKtAAAAAAAAkoEAAAAAAgETAQAAAAAAArKVAAAAAAAAmsEAAAAAAgCDGQAAAAACAr8FAAAAAAED80EAAAAAAABS3QAAAAAAAwbZAAAAAAACirEAAAAAAAKqtQAAAAAAALKtAAAAAAADTykAAAAAAALSnQAAAAAAAOqdAAAAAAAC610AAAAAAgITBQAAAAAAA7KNAAAAAAIA6xEAAAAAAAAyXQAAAAAAAIrRAAAAAAAAErEAAAAAAACayQAAAAAAAoJlAAAAAAACWokAAAAAAALyqQAAAAAAADbFAAAAAAEAV4EAAAAAAADa6QAAAAAAAlqNAAAAAAAAouEAAAAAAALSfQAAAAADARNBAAAAAAAA2oUAAAAAAAAK0QAAAAAAABKhAAAAAAAAwpEAAAAAAANSfQAAAAAAALc1AAAAAAAB4n0AAAAAAAGicQAAAAAAAJ81AAAAAAAAWpkAAAAAAAKqlQAAAAACAUM9AAAAAAAAaqUAAAAAAAECsQAAAAAAAJLdAAAAAAIBjzEAAAAAAACKmQAAAAAAAHJdAAAAAAABEmUAAAAAAAHqhQAAAAAAAqKZAAAAAAACjyUAAAAAAgPvAQAAAAAAAJLpAAAAAAADeoEAAAAAAAIqjQAAAAAAAwrhAAAAAAAAcoUAAAAAAAJq9QAAAAAAAJqdAAAAAAAAiwEAAAAAAgDrAQAAAAAAAMK5AAAAAAAD7w0AAAAAAgNvVQAAAAACAL9lAAAAAAADmpEAAAAAAANCZQAAAAAAAt7ZAAAAAAABGpEAAAAAAALqqQAAAAAAACrtAAAAAAABDu0AAAAAAAESkQAAAAADAhNBAAAAAAIDa4EAAAAAAALajQAAAAAAAW7hAAAAAAAAEl0AAAAAAALfQQAAAAAAAF7JAAAAAAADOp0AAAAAAgJTfQAAAAAAAmqFAAAAAAMA40EAAAAAAgFnWQAAAAAAAsKtAAAAAAAAwq0AAAAAAALqrQDMzMzMzeZZAAAAAAACAqEAAAAAAgNrgQAAAAAAAnrpAAAAAAIDa4EAAAAAAAJrAQAAAAACAgttAAAAAAADSuUAAAAAAgMXOQAAAAAAALqVAAAAAAAAurUAAAAAAAPTDQAAAAAAA8dNAAAAAAACvykAAAAAAALynQAAAAAAAirtAAAAAAAC8m0AAAAAAAIDBQAAAAAAAZqJAAAAAAACTukAAAAAAAMKgQAAAAAAAnq5AAAAAAACUsUAAAAAAAPqmQAAAAAAAvrtAAAAAAADSukAAAAAAAEXEQAAAAACAUMpAAAAAAIDA0UAAAAAAAOu/QDMzMzMzeZZAAAAAAACSv0AAAAAAQAPYQAAAAACAmd1AAAAAAAAup0AAAAAAACioQAAAAAAASJlAAAAAAACEo0AAAAAAAAikQAAAAAAAlsRAAAAAAAAkykAAAAAAAKjPQAAAAAAA0qdAAAAAAIDD0kAAAAAAAP6nQAAAAACAKcpAAAAAAIC50EAAAAAAAJO/QAAAAACAkcFAAAAAAADIokAAAAAAAO6lQAAAAAAAMqhAAAAAAIDNxEAAAAAAAP6gQAAAAAAAXdtAAAAAAACgpEAAAAAAQJTeQAAAAAAAiLxAAAAAAABsqUAzMzMzM3mWQAAAAAAAsqhAAAAAAABOvEAAAAAAACCoQAAAAACAy8pAAAAAAAB2skAAAAAAANS3QAAAAADA09JAAAAAAACgrUAAAAAAAEigQAAAAACA2uBAAAAAAADBukAAAAAAAOKiQAAAAAAAqrZAAAAAAADOpkAAAAAAADyjQAAAAAAAbJ5AAAAAAMAg0kAAAAAAADCvQAAAAAAA4KtAAAAAAABgvkAzMzMzM3mWQAAAAACARcJAAAAAAAAt00AAAAAAAJ+8QAAAAAAAibtAAAAAAADEn0AAAAAAACG0QAAAAAAAHKBAAAAAAABUn0AAAAAAAF6jQAAAAAAA7bFAAAAAAACuoUAAAAAAAPi/QAAAAAAAC8JAAAAAAICA3UAAAAAAAB67QAAAAACAa8xAMzMzMzN5lkAAAAAAACLGQAAAAADAPd5AAAAAAAC6vkAAAAAAADylQAAAAAAAGKhAAAAAAIDl0EAAAAAAgL/HQAAAAAAA2qVAAAAAAAB0pEAAAAAAAIiWQAAAAAAAHqBAAAAAAADav0AAAAAAgAPDQAAAAAAA1rBAAAAAAABdxkAAAAAAAGXBQAAAAAAAlbBAAAAAAEBw1UAAAAAAADiZQAAAAAAAFLRAAAAAAIAE30AAAAAAANbGQAAAAACAVc9AAAAAAABAzkAAAAAAAI6jQAAAAAAA4KlAAAAAAAB9uEAAAAAAQNzTQAAAAAAAYKFAAAAAAAA4qEAAAAAAQNHZQAAAAACAc8NAAAAAAABs2EAAAAAAALyfQAAAAAAA2JlAAAAAAAAAskAAAAAAAIiuQAAAAAAA3KVAAAAAAADuo0AAAAAAgNbAQAAAAAAAG71AAAAAAABypEAAAAAAAK3IQAAAAAAAB7lAMzMzMzN5lkAAAAAAAOCkQAAAAAAAVsdAAAAAAADqpEAAAAAAwB/YQAAAAAAAgKFAAAAAAACkt0AAAAAAAASkQAAAAACACM5AAAAAAADnwEAzMzMzM3mWQDMzMzMzeZZAAAAAAABUz0AAAAAAAOKlQAAAAAAAxKRAAAAAAIBDyEAAAAAAgEHCQAAAAAAAjqhAAAAAAADys0AAAAAAgEfDQAAAAAAA1JdAAAAAAIAr00AAAAAAgIHIQAAAAACARdFAAAAAAAByqUAAAAAAANiyQAAAAACAzcBAAAAAAAB1xkAAAAAAANStQAAAAACANNBAAAAAAAALtUAAAAAAAOSmQAAAAACAk8NAAAAAAIArwkAAAAAAABinQAAAAAAAVKFAAAAAAIBzw0AAAAAAANe0QAAAAAAAE7xAAAAAAAA8pEAAAAAAAJ+wQAAAAAAAtKVAAAAAAIDrxEAAAAAAgJHPQAAAAAAAoqNAAAAAAAC2qUAAAAAAgGrBQAAAAAAAW7NAAAAAAAC6pkAAAAAAgNrgQDMzMzMzeZZAAAAAAIBfy0AAAAAAANijQAAAAAAAUqtAAAAAAADErEAAAAAAAE6xQAAAAAAASq5AAAAAAACKzUAAAAAAACC+QAAAAABA69JAAAAAAIAV1UAAAAAAAJKsQAAAAAAAr99AAAAAAADGtkAzMzMzM3mWQAAAAAAAP7lAAAAAAADAokAAAAAAAA6iQAAAAAAAAqxAAAAAAIDVwUAzMzMzM3mWQDMzMzMzeZZAAAAAAABftUAAAAAAgDvBQAAAAAAA+qBAAAAAAADwtUAAAAAAgL3AQAAAAAAA5qVAAAAAAACorkAAAAAAAB+2QAAAAAAA5q5AAAAAAAA9v0AAAAAAAIisQAAAAAAAz8hAAAAAAAAVvEAAAAAAgELIQAAAAAAAMqRAAAAAAAAEpkAAAAAAAF6iQAAAAAAAjqhAAAAAAAByuUAAAAAAAF6oQAAAAAAAkslAMzMzMzN5lkAAAAAAAOysQAAAAACAw8FAAAAAAAAapUAAAAAAAFScQAAAAAAA17RAAAAAAABKo0AAAAAAACaoQAAAAAAA9qRAAAAAAABYtUAAAAAAAPymQAAAAAAAXqVAAAAAAIDXzUAAAAAAAC3NQAAAAAAA6LBAAAAAAIDa4EAAAAAAAMC2QAAAAACACMZAAAAAAAAXv0AAAAAAAGuxQAAAAACAwtBAAAAAAAC/z0AAAAAAAJypQAAAAAAABbxAAAAAAAC+qUAAAAAAQHLYQAAAAAAAiLBAAAAAAAAepUAAAAAAACylQAAAAAAAJKJAAAAAAAArt0AAAAAAAMipQDMzMzMzeZZAAAAAAIDa4EAAAAAAAPXAQAAAAAAApMhAAAAAAADawkAAAAAAAMyZQAAAAAAAIKRAAAAAAABIoUAAAAAAANqgQAAAAAAAHqRAAAAAAIAAwUAAAAAAAPytQAAAAAAAIcRAAAAAAAD2tEAAAAAAAGSnQAAAAAAAl7BAAAAAAAAkm0AAAAAAwP/RQAAAAAAArqFAAAAAAAA8pUAAAAAAAM+2QAAAAAAAEbRAAAAAAIBCx0AAAAAAgOPUQAAAAAAAGMJAAAAAAABstUAAAAAAAIOyQAAAAAAAIr9AAAAAAABuqEAAAAAAAEy+QAAAAACA2uBAAAAAAADltUAAAAAAAASnQAAAAAAAW8FAAAAAAABAqEAAAAAAwPrSQAAAAAAA4KlAAAAAAIDa4EAAAAAAAH60QAAAAAAAAKNAAAAAAAA+qEAAAAAAgAbeQAAAAACA2uBAAAAAAABdx0AAAAAAALHMQAAAAAAA5blAAAAAAACftUAAAAAAAOCjQAAAAAAA0qlAAAAAAIDa4EAAAAAAAH3CQAAAAAAAsbRAAAAAAACksEAAAAAAAHu8QAAAAAAAHctAAAAAAABkuUAAAAAAAGiZQAAAAAAABrpAAAAAAADWtkAAAAAAAH+/QAAAAAAAULhAAAAAAAD1sUAAAAAAAL2+QAAAAAAAd9FAMzMzMzN5lkAAAAAAAPifQAAAAAAA4rhAAAAAAABipUAAAAAAAHykQAAAAAAAYrxAAAAAAACkoUAAAAAAAG65QAAAAAAAmKNAAAAAAABMr0AAAAAAAGipQAAAAACA3s9AAAAAAAB6oEAAAAAAAG+7QAAAAAAAN8BAAAAAAIBzw0AAAAAAAGisQAAAAAAAQLRAAAAAAIB3zEAAAAAAAEaoQDMzMzMzeZZAAAAAAAAoqEAAAAAAAEHAQAAAAAAAv8NAAAAAAAAmpUAAAAAAAC2xQAAAAAAAo7ZAAAAAAAAQw0AAAAAAANe3QAAAAAAAjKFAAAAAAABCs0AAAAAAANSoQAAAAAAAdqdAAAAAAAAcokAAAAAAAJykQAAAAAAAUJ9AAAAAAADcokAzMzMzM3mWQAAAAAAA7J9AAAAAAIDa4EAAAAAAAE6oQAAAAAAAMqRAAAAAAABKo0AAAAAAABTBQAAAAAAAWbBAAAAAAACXskAAAAAAQOLXQAAAAAAA0stAAAAAAACsuUAAAAAAQNXWQAAAAAAAHqtAAAAAAACUoUAAAAAAgC7PQAAAAACAbMJAAAAAAADuwUAAAAAAADnBQAAAAAAAxK9AAAAAAICjwUAAAAAAgE/DQAAAAAAAQbBAAAAAAABopUAAAAAAAAi4QAAAAAAA579AAAAAAIAv10AAAAAAwGXQQAAAAADAJ9pAAAAAAADr2EAAAAAAAM+yQAAAAAAA/KhAAAAAAABUoUAAAAAAgOnWQAAAAAAAmKFAAAAAAAD6o0AAAAAAAPihQAAAAAAAqKtAAAAAAIBm1kAAAAAAgKTJQAAAAACA2uBAAAAAAACIqkAAAAAAAGiyQAAAAAAA1r1AAAAAAACApEAAAAAAgIPRQAAAAAAAr81AAAAAAADuqEAAAAAAAKW3QAAAAAAAhrVAAAAAAIAlyUAAAAAAAFSkQAAAAAAA5J9AAAAAAADoo0AAAAAAAFqyQAAAAAAAXKFAAAAAAIAMwEAAAAAAgLXDQAAAAACAoNJAAAAAAIDa4EAAAAAAABrJQAAAAACA7chAAAAAAAAWpkAAAAAAABnAQAAAAAAAhJxAMzMzMzN5lkAAAAAAAHm1QAAAAAAAerpAAAAAAACrsEAAAAAAAJKpQAAAAACATcJAMzMzMzN5lkAAAAAAgGLAQAAAAACAvttAAAAAAAAYuEAAAAAAAH6gQAAAAAAAiqhAAAAAAIA5wEAAAAAAQAjeQAAAAAAAVqVAAAAAAACUpkAAAAAAgNrgQAAAAAAAer9AAAAAAAActkAAAAAAAIawQAAAAACAlcJAAAAAAABpxUAAAAAAAErXQAAAAAAA0MNAAAAAAABqp0AAAAAAAK6kQAAAAAAA5LFAAAAAAABgpEAAAAAAgNrgQAAAAAAAqKhAAAAAAABa2EAAAAAAQH3ZQAAAAAAA38tAAAAAAIAE2UAAAAAAADypQAAAAACAWMFAAAAAAICOxUAAAAAAwF7QQAAAAAAAeqRAAAAAAABLs0AAAAAAAEOxQAAAAACACcJAAAAAAADep0AAAAAAAPXSQAAAAAAA+chAAAAAAAA6skAAAAAAAB6zQAAAAABAv9pAAAAAAACooEAAAAAAAL65QAAAAAAA0KhAAAAAAADAsEAAAAAAgKjTQAAAAAAAObdAAAAAAAAsqkAAAAAAAFCvQAAAAAAAlLZAAAAAAACCo0AAAAAAABfEQAAAAAAAVqJAAAAAAECV1kAAAAAAALSnQAAAAAAAqbtAAAAAAACoukAzMzMzM3mWQAAAAAAA9qRAAAAAAAD8x0AAAAAAgIfMQAAAAAAAtqFAAAAAAAD4o0AAAAAAAHDIQAAAAAAAIsZAAAAAAAACqEAAAAAAgNrgQAAAAAAAy7RAAAAAAAC7wUAAAAAAQGXaQAAAAACAQcNAAAAAAAB0r0AAAAAAAGCkQAAAAAAAwKtAAAAAAAAFskAAAAAAAEnEQAAAAACA2uBAAAAAAADCpEAAAAAAAKezQAAAAACA2uBAAAAAAAAwmUAAAAAAAO6iQAAAAAAA5LtAAAAAAABiqkAAAAAAgNrgQAAAAAAA7qFAAAAAAACcqEAAAAAAAOqgQAAAAAAAmbBAAAAAAAAsp0AAAAAAADCZQAAAAACAgMxAAAAAAIBDwEAAAAAAgNrgQAAAAAAAT7lAAAAAAIAC0kAAAAAAAOClQAAAAAAAsKdAAAAAAADOoEAAAAAAQILXQAAAAABA69hAAAAAAAAdvkAAAAAAAMKvQAAAAACAuMlAAAAAAIARx0AAAAAAABC9QAAAAAAA1chAAAAAAAAurUAAAAAAgEbZQAAAAAAASq5AAAAAAACgqUAAAAAAgIfFQAAAAAAAJrhAAAAAAAAUoUAAAAAAAJPRQAAAAAAABKJAAAAAAADv2UAAAAAAAJO2QAAAAAAAdrVAAAAAAACTvUAAAAAAAKKmQAAAAAAAdqhAAAAAAACysEAAAAAAAHSzQAAAAAAAqKhAAAAAAADNukAAAAAAAGHOQAAAAACA8tlAAAAAAAC01UAAAAAAALfEQAAAAAAA6bZAAAAAAAD5tEAAAAAAAES0QAAAAACAU9FAAAAAAAA+pEAAAAAAAOClQAAAAAAAj7lAAAAAAEBx2UAAAAAAAKy4QAAAAAAAMrJAAAAAAABMuUAAAAAAAJe/QAAAAACApMFAAAAAAAAMqUAAAAAAwBPcQAAAAAAA9KZAAAAAAABTtkAAAAAAAH6gQAAAAAAAK8dAAAAAAADOpUAAAAAAAJe5QAAAAAAAtbFAAAAAAAD4nEAAAAAAADC6QAAAAACA2uBAAAAAAABxtUAAAAAAgL3EQAAAAAAAYqNAAAAAAADss0AAAAAAABG3QAAAAACAJsJAAAAAAAB4tEAAAAAAAFawQAAAAACAQMNAAAAAAECl00AAAAAAAHy3QAAAAAAA4bhAAAAAAIBmyUAAAAAAAJyYQAAAAAAAF7pAAAAAAAA6uUAAAAAAwFDUQAAAAAAApLVAAAAAAADipUAAAAAAAOaiQAAAAAAAJLRAAAAAAADKy0AAAAAAgAjEQAAAAAAAsKdAMzMzMzN5lkAAAAAAAFjfQAAAAAAAjKdAAAAAAACCtkAAAAAAAPajQAAAAACA2uBAAAAAAAC4oEAAAAAAAJiyQAAAAAAAwdlAAAAAAIAFwEAAAAAAAL6kQAAAAACAq8pAAAAAAIDEx0AAAAAAABinQAAAAAAATKRAAAAAAACjxEAAAAAAABTAQAAAAABAv9lAAAAAAAA/skAAAAAAgArNQAAAAAAA+KFAAAAAAADapUAAAAAAAMKkQAAAAACA3sFAAAAAAACKpEAAAAAAANCoQAAAAADAXNVAAAAAAAB+p0AAAAAAAP/QQAAAAAAAXqZAAAAAAIDa4EAAAAAAgC/LQAAAAAAAPNJAAAAAAABssEAAAAAAAMu6QAAAAAAAWc9AAAAAAIDa4EAAAAAAgF/QQAAAAADAZ9RAAAAAAADJvkAAAAAAgDnKQAAAAAAA0qFAAAAAAABvxUAAAAAAgG7BQAAAAAAAkbRAAAAAAADB0EAAAAAAgEjKQAAAAAAAbKVAAAAAAABkrkAAAAAAgMvQQAAAAAAAkqpAAAAAAMCB0kAAAAAAALiWQAAAAADA2tpAAAAAAIAY4EAAAAAAAPO8QAAAAAAAILxAAAAAAIBzx0AAAAAAAJaoQAAAAAAA9rNAAAAAAAA+tUAAAAAAgArRQAAAAAAA7NFAAAAAAACms0AAAAAAgNrgQAAAAAAAxJhAAAAAAABmqUAAAAAAAFSmQAAAAACA2uBAAAAAAMAO0EAAAAAAAM6sQAAAAAAA6LJAAAAAAACCzUAAAAAAANSdQAAAAADAndJAAAAAAAA3z0AzMzMzM3mWQAAAAAAA6qNAAAAAAABPt0AAAAAAAAyhQAAAAAAAAqVAAAAAAIDn3UAAAAAAAGuwQAAAAAAANblAAAAAAADsqUAAAAAAwI7VQAAAAAAAWrpAAAAAAAA4sUAAAAAAAOayQAAAAACA2uBAAAAAAADerUAAAAAAgCnVQAAAAAAA+L5AAAAAAICZ4EAAAAAAAA2xQAAAAAAAkKFAAAAAAAC0nUAAAAAAgNrgQAAAAAAA8N5AAAAAAABAnUAAAAAAAA6gQAAAAACAd8VAAAAAAADGrkAAAAAAAJ6gQAAAAABAm+BAAAAAAAA7u0AAAAAAADSbQAAAAAAAUthAMzMzMzN5lkAAAAAAAHqkQAAAAACAtcVAAAAAAIDcyUAAAAAAADPMQAAAAAAAbLRAAAAAAACutUAzMzMzM3mWQAAAAAAAIKBAAAAAAAD0qkAAAAAAgNrgQAAAAACAU91AAAAAAADOoEAAAAAAAA28QAAAAABAGNtAAAAAAAD0skAAAAAAAE+6QAAAAAAA8LdAAAAAAACV1kAAAAAAANiqQAAAAAAA0KhAAAAAAABVwUAAAAAAAJSqQAAAAAAAAqVAAAAAAABQmEAAAAAAAMy8QAAAAAAAUbZAAAAAAAAqp0AAAAAAgC3DQAAAAAAA+r9AAAAAAAAMrkAAAAAAgKXJQAAAAAAAAKdAAAAAAIDa4EAAAAAAABy2QAAAAAAAgr1AAAAAAAB8o0AAAAAAwJ/YQAAAAAAAXKRAAAAAAADFv0AAAAAAADqoQAAAAACA39dAAAAAAAByokAAAAAAABKjQAAAAAAAqsBAAAAAAICO0EAAAAAAAKimQAAAAAAAq7pAAAAAAAChsUAAAAAAwLTaQAAAAAAAMJpAAAAAAADkpUAAAAAAgE/XQAAAAAAABLNAAAAAAED100AAAAAAAH6hQAAAAAAA+KJAAAAAAIBZzUAAAAAAAE7fQAAAAACA2uBAAAAAAADitEAAAAAAAL6gQAAAAACA2uBAAAAAAMD01kAAAAAAACCdQAAAAAAAftZAAAAAAAC1sEAAAAAAAKalQAAAAAAAsqFAAAAAAABKpkAAAAAAAAaoQAAAAAAA9s1AAAAAAADyp0AzMzMzM3mWQAAAAAAAzrtAAAAAAIBNxkAAAAAAAMaiQAAAAAAACqZAAAAAAAAkpUAAAAAAAG6nQAAAAAAAZKFAAAAAAAAuqkAAAAAAAMK1QAAAAAAAaMRAAAAAAAD8oEAAAAAAQMPeQAAAAADAL9VAAAAAAIDa4EAAAAAAAKnKQAAAAAAAjs9AAAAAAADaokAAAAAAACC3QAAAAAAA0bZAAAAAAABxwEAAAAAAAHSjQAAAAAAAKNRAAAAAAIB2wkAAAAAAAA2/QAAAAAAAjKVAAAAAAACt00AzMzMzM3mWQAAAAACA8dlAAAAAAIBSykAAAAAAAPXCQAAAAAAAIb1AAAAAAIDa4EAAAAAAQKLSQAAAAAAAHqNAAAAAAIAn3EAAAAAAAAakQAAAAAAAeLRAAAAAAACKqkAAAAAAAMicQAAAAAAAnqJAAAAAAMBN1EAAAAAAAG/TQAAAAAAARt9AAAAAAADqrEAAAAAAAGewQAAAAAAAAbFAAAAAAAAxs0AAAAAAAE61QAAAAAAA+KBAAAAAAAA6pkAAAAAAgCLSQAAAAADATNlAAAAAAAA8oUAAAAAAAInHQAAAAAAAdqBAAAAAAAB2oEAAAAAAAKarQAAAAADAidpAAAAAAEB80UAAAAAAAEyzQAAAAAAAsqhAAAAAAABAo0AAAAAAAAapQAAAAAAArJxAAAAAAAAkn0AAAAAAgNrgQAAAAAAA2rtAAAAAAIB9yEAAAAAAAAjAQAAAAACAm9lAAAAAAKCv4EAAAAAAAGKqQAAAAAAA+rZAAAAAAAD2u0AAAAAAAMm2QAAAAAAAOLBAAAAAAIDZxkAAAAAAAJmxQAAAAAAA871AAAAAAIDa4EAAAAAAAPKmQAAAAAAAibRAAAAAAIAtxEAAAAAAQCXRQAAAAAAADrFAAAAAAABlv0AAAAAAABLBQAAAAAAAocBAAAAAAABIn0AAAAAAAHioQAAAAAAAaJ9AAAAAAACPvUAAAAAAAJqiQAAAAACA2uBAAAAAAMAG0EAzMzMzM3mWQAAAAAAALq1AAAAAAMCb1UAAAAAAADW2QAAAAAAAtLxAAAAAAADaxUAAAAAAAISsQAAAAAAA1LNAAAAAAIDk30AAAAAAgPbbQAAAAAAArKpAAAAAAIANyEAAAAAAAASlQAAAAACAwsdAAAAAAAAAnEAAAAAAANnSQAAAAAAAuL9AAAAAAADooUAAAAAAgO7UQAAAAAAAwKpAAAAAAADGpUAAAAAAAPzAQAAAAACAr99AAAAAAIDWwUAAAAAAAPyzQAAAAACAh9JAAAAAAICix0AAAAAAAAO1QAAAAAAA6d9AAAAAAIDa4EAAAAAAALHNQAAAAAAAXKFAAAAAAADitkAAAAAAAAilQAAAAAAA/btAMzMzMzN5lkAAAAAAAFvaQAAAAAAAqqNAAAAAAICpxUAAAAAAgPzEQAAAAACA2uBAAAAAAAA8pEAAAAAAAESlQAAAAAAAEsBAAAAAAIAAx0AAAAAAgNrgQAAAAACA8sxAMzMzMzN5lkAAAAAAAPO3QAAAAAAA/J9AAAAAAADb1UAAAAAAgC7JQAAAAAAALqpAAAAAAADls0AzMzMzM3mWQAAAAAAA6qBAAAAAAAAcnkAAAAAAQJvVQAAAAACA2uBAAAAAAACMtEAzMzMzM3mWQAAAAAAA7bBAAAAAAADtuUAAAAAAAMyoQAAAAAAALLFAAAAAAIDa4EAzMzMzM3mWQAAAAAAAxbpAAAAAAAAUpEAAAAAAAOygQAAAAAAAfqxAAAAAAADSxkAAAAAAAHuxQAAAAAAAN9BAAAAAAABGtUAAAAAAAAfcQAAAAAAAkKZAAAAAAIB1wkAAAAAAgDbLQAAAAAAA8rdAAAAAAABQzUAAAAAAAOexQAAAAAAAlLRAAAAAAABAzUAAAAAAANShQAAAAAAACrRAAAAAAABGtkAAAAAAAEjMQAAAAAAAkr1AAAAAAAAnyUAAAAAAgJrZQAAAAACA2uBAAAAAAADopUAAAAAAAKm2QAAAAAAAvqFAAAAAAABGqEAAAAAAAESfQDMzMzMzeZZAAAAAAABxsUAAAAAAAICpQAAAAAAAOtpAAAAAAIDa4EAAAAAAAD/VQAAAAAAAdrJAAAAAAIDa4EAAAAAAANy1QAAAAAAA781AAAAAAIA2xkAAAAAAAKikQAAAAAAA4qRAAAAAAAA1vUAAAAAAgLHPQAAAAACAqdJAAAAAAABip0AAAAAAALSpQAAAAAAA1MVAAAAAAADq1EAAAAAAAHijQAAAAACA3MtAAAAAAECW0EAAAAAAAC29QAAAAAAA8LFAAAAAAAD1sEAAAAAAgNrgQAAAAACAD9tAAAAAAIA7ykAAAAAAAKqkQAAAAAAAZstAAAAAAIDa4EAAAAAAAEO2QAAAAAAAzs9AAAAAAAA0qUAAAAAAAOalQAAAAACA2uBAAAAAAAAgoUAAAAAAAD/AQAAAAAAA97hAAAAAAACAskAAAAAAAGzDQAAAAAAAbbJAAAAAAAD1yEAAAAAAAIbQQAAAAAAAUKlAAAAAAABgskAAAAAAgEXNQAAAAAAAxKtAAAAAAIAFwkAAAAAAAGK9QAAAAAAANJpAAAAAAAAeokAAAAAAAESlQAAAAAAA+J9AAAAAAIDa4EAAAAAAwBjSQAAAAAAAELBAAAAAAIDa4EAAAAAAgNrgQAAAAAAAS7JAMzMzMzN5lkAAAAAAAICwQAAAAAAA3btAAAAAAIAGxEAAAAAAAHKwQAAAAAAAq8hAAAAAAACX1EAAAAAAAG6sQAAAAABAMt9AAAAAAAAGt0AAAAAAAEKhQAAAAADA5dZAAAAAAABUsEAAAAAAAEKzQAAAAAAAsqpAAAAAAACxskAAAAAAgMbIQAAAAACA39RAAAAAAADcnUAAAAAAAO3AQAAAAAAAjqVAAAAAAABgt0AAAAAAAHbWQDMzMzMzeZZAAAAAAABAp0AAAAAAgNrgQDMzMzMzeZZAAAAAAIBxz0AAAAAAwCLTQAAAAACAxMlAAAAAAAD4v0AAAAAAAF6kQAAAAAAAfrZAAAAAAEBE2UAAAAAAAA6lQAAAAAAAX9RAAAAAAACQnUAAAAAAwBnbQAAAAACA2uBAAAAAAAAB2EAAAAAAQDHdQAAAAABAq9RAAAAAAADewUAAAAAAgHHFQAAAAAAAd7lAAAAAAACao0AAAAAAANCkQAAAAACAS81AAAAAAAAuxEAAAAAAAPnDQAAAAAAAicdAAAAAAACD2UAAAAAAACzDQAAAAAAAvqVAAAAAAAAjz0AAAAAAAN/HQAAAAAAARK9AAAAAAIDa4EAAAAAAgPnDQAAAAAAAqbBAAAAAAIAVy0AAAAAAAIahQAAAAACA88VAAAAAAIAH1kAAAAAAgNrgQAAAAACA9dZAAAAAAADMmUAAAAAAgPrAQAAAAAAAxbFAAAAAAADMq0AAAAAAAAi8QAAAAACA2uBAAAAAAEDd0UAAAAAAAOfRQAAAAAAA77hAAAAAAIBAykAAAAAAgKTTQAAAAAAAjJ9AAAAAAIDa4EAzMzMzM3mWQAAAAAAAUb9AAAAAAICjwEAAAAAAgNrgQAAAAAAAgcJAAAAAAAC7uUAAAAAAAG6nQAAAAAAA8rtAAAAAAACOr0AAAAAAAIy1QAAAAAAAybVAAAAAAADawEAAAAAAQG7dQAAAAAAAGcNAAAAAAABs1EAAAAAAgLXMQAAAAAAAN8RAAAAAAAApxkAAAAAAgDnPQAAAAADAP9NAAAAAAADlwEAAAAAAgNrgQAAAAAAACsNAAAAAAAAso0AAAAAAgNrgQAAAAAAAn7BAAAAAAACOqUAAAAAAADCrQAAAAAAA/clAAAAAAICiykAAAAAAAE26QAAAAAAAUKVAAAAAAABquEAAAAAAAIqsQAAAAADAYdZAAAAAAIDa4EAAAAAAAGawQAAAAAAAbL1AAAAAAADrsUAAAAAAAO3HQAAAAABAVtFAAAAAAIB7yEAAAAAAAKqrQAAAAAAAj8xAAAAAAEBp10AAAAAAAITcQAAAAACArsNAAAAAAIDtwEAAAAAAgCPJQAAAAAAAVKJAAAAAAIBfw0AAAAAAwK/QQAAAAAAAgbVAAAAAAAC4nUAAAAAAAJ6wQAAAAAAAP8NAAAAAAAAfvkAAAAAAABqpQAAAAAAAeKhAAAAAAIB8w0AAAAAAABu2QAAAAABAwtBAAAAAAACas0AAAAAAAGnGQAAAAAAA9b5AAAAAAID8yEAAAAAAAOKyQDMzMzMzeZZAAAAAAABKyUAAAAAAAB62QAAAAAAA3qVAAAAAAACOt0AAAAAAAHu6QAAAAAAAyM1AAAAAAIBvzkAAAAAAACCkQAAAAACArdhAAAAAAIAGwUAzMzMzM3mWQAAAAABge+BAAAAAAAByvEAAAAAAAFy8QAAAAAAATMlAAAAAAADptEAAAAAAgO7GQAAAAAAAYqRAAAAAAIDPxUAAAAAAgGTUQAAAAACA2uBAAAAAAAD+p0AAAAAAALahQAAAAAAA2blAAAAAAACYqUAAAAAAgLjDQAAAAAAAIsBAAAAAAACQtkAzMzMzM3mWQAAAAAAAJ7xAAAAAAAB0oEAAAAAAgKnUQAAAAACAXtZAAAAAAACwpEAAAAAAgPvdQAAAAACA2uBAAAAAAICn0EAAAAAAgN7PQAAAAAAAYq1AAAAAAAD6oEAAAAAAgPLOQAAAAAAAfb9AAAAAAIDa4EAAAAAAgPnSQAAAAADArdJAAAAAAAAopUAAAAAAgAPXQAAAAAAAyKNAAAAAAIAyw0AAAAAAADq8QAAAAAAA0K9AAAAAAIAj1UAzMzMzM3mWQAAAAAAAb8tAAAAAAAAF2UAAAAAAgNrgQAAAAACA29RAAAAAAAAAnUAzMzMzM3mWQAAAAAAANKRAAAAAAACiqUAAAAAAAMu7QAAAAAAA0slAAAAAAABst0AAAAAAALzBQAAAAAAAi71AAAAAAIAWwUAAAAAAgD7NQAAAAAAAxLtAAAAAAMB31kAAAAAAAK7XQAAAAACAsMZAAAAAAAC33UAAAAAAAJW6QAAAAACA2MtAAAAAAIDa4EAAAAAAAFe2QAAAAACAlsJAAAAAAADFtEAAAAAAALyjQAAAAAAANqdAAAAAAACyukAAAAAAAHSnQAAAAADAVdBAAAAAAADdsUAAAAAAABnOQAAAAAAAxqlAAAAAAIBGykAAAAAAANq4QAAAAAAA7qRAAAAAAAARsUAAAAAAAOSaQAAAAAAAKKFAAAAAAAA6pkAAAAAAAKbUQAAAAAAA4K5AAAAAAAB8q0AAAAAAwO/QQAAAAAAAVKtAAAAAAIDQwUAAAAAAgMHTQAAAAAAAH85AAAAAAADWwUAAAAAAAHa/QAAAAAAAoJlAAAAAAIARwUAAAAAAAGicQAAAAABAXdhAAAAAAABWqEAAAAAAwP/cQAAAAAAAXbxAAAAAAABUmUAAAAAAAFjgQAAAAAAAfMZAAAAAAIBXyEAAAAAAgJ/AQAAAAAAA1bJAAAAAAABgo0AAAAAAgNrgQAAAAAAAysBAAAAAAAA3vEAAAAAAAHSZQAAAAAAAt9BAAAAAAAAwvEAAAAAAQLvbQAAAAAAAzMpAAAAAAACBvUAAAAAAABCnQAAAAACA7sVAAAAAAADFu0AAAAAAABidQAAAAAAAn7FAAAAAAADKo0AAAAAAAICfQAAAAAAAaq5AAAAAAACatUAAAAAAACSbQAAAAAAAxbpAAAAAAIDa4EAAAAAAAJ7FQAAAAAAAqrVAAAAAAABtvEAAAAAAAGnCQAAAAAAA6JhAAAAAAADcoEAAAAAAAESrQAAAAAAAeKJAAAAAAACszkAAAAAAQNPRQAAAAAAA4KxAAAAAAAAWwUAAAAAAAOi1QAAAAACA2uBAAAAAAABIqUAAAAAAAGClQAAAAAAAS7RAAAAAAIDa4EAAAAAAALe4QAAAAAAAeLJAAAAAAIDa4EAAAAAAAIS4QAAAAAAAO8pAAAAAAADYpUAAAAAAADKjQAAAAAAAo7tAAAAAAAAxyEAAAAAAgHTfQAAAAAAAsKBAAAAAAIAxxUAAAAAAADqlQAAAAAAA9KtAAAAAAADlxEAAAAAAADyyQAAAAAAAdLpAAAAAAADkxEAAAAAAgCXHQAAAAAAAk8ZAAAAAAICnwkAAAAAAwDjdQDMzMzMzeZZAAAAAAIDa4EAAAAAAgKTBQAAAAAAAtqxAAAAAAIDvwUAAAAAAAPS+QAAAAAAAB7VAAAAAAEDs1EAAAAAAQAzgQDMzMzMzeZZAAAAAAIBxxEAAAAAAABzJQAAAAACA/MJAAAAAAAAar0AAAAAAAKO9QAAAAAAAsqpAAAAAAABMv0AAAAAAAMitQAAAAACA4NRAAAAAAIAkyUAAAAAAQMHTQAAAAAAAC7VAAAAAAIAo0EAAAAAAgNvFQAAAAAAAKtFAAAAAAABWsEAAAAAAgA/EQAAAAAAAvJlAAAAAAABgmEAAAAAAAOyZQAAAAADA9dVAAAAAAAAbtUAAAAAAAG2yQAAAAAAAPLRAAAAAAAAzs0AAAAAAAL3HQAAAAAAAdKlAAAAAAIASykAAAAAAgNrgQAAAAACAuN5AMzMzMzN5lkAAAAAAgGjFQAAAAAAAZMFAAAAAAACEo0AAAAAAgHTPQAAAAACA2uBAAAAAAABcoUAAAAAAwGvQQAAAAAAAicZAAAAAAICwwkAAAAAAABiqQAAAAAAAjKxAAAAAAICWxEAAAAAAgNrgQAAAAACA2uBAAAAAAAA0mUAzMzMzM3mWQAAAAAAAo8lAAAAAAAAInkAAAAAAgFzMQAAAAAAALJ5AAAAAAICgwEAAAAAAAOqiQAAAAAAAGJdAAAAAAABEo0AAAAAAAIqjQAAAAAAAkcpAAAAAAAAsqEAAAAAAAGqjQAAAAACA8MxAAAAAAAAAy0AzMzMzM3mWQAAAAAAAqq1AAAAAAAAtuEAAAAAAAGvWQAAAAAAAzq5AAAAAAADBtUAAAAAAAOSiQAAAAAAArJ5AAAAAAAAev0AAAAAAAD6+QAAAAAAANKBAAAAAAABUs0AAAAAAAHyzQAAAAABAB9xAAAAAAADPuUAAAAAAAFHPQAAAAABAlddAAAAAAMCB0EAzMzMzM3mWQAAAAABAFNhAAAAAAACis0AAAAAAAETCQAAAAAAAS7NAAAAAAACPwkAAAAAAAPCmQAAAAADAUdZAAAAAAADKuUAAAAAAACCtQAAAAAAAlJ9AAAAAAACeoUAAAAAAAKzOQAAAAAAAcrZAAAAAAAB6wEAzMzMzM3mWQAAAAAAASsBAAAAAAACCzUAAAAAAAIDNQAAAAAAAdKNAAAAAAABkn0AAAAAAAO3eQAAAAAAAZ7ZAAAAAAADRvUAAAAAAgBbXQAAAAAAAKrpAMzMzMzN5lkAzMzMzM3mWQAAAAAAABqRAAAAAAIBl0UAAAAAAADq+QAAAAAAAnclAAAAAAIDa4EAAAAAAQPDQQAAAAAAAAcFAAAAAAADS0kAAAAAAAL6yQAAAAAAA78dAAAAAAICmwkAAAAAAAJjGQAAAAAAANbhAAAAAAIDa4EAAAAAAABG0QAAAAAAA/JtAAAAAAABGvEAAAAAAAKKxQAAAAAAA9rRAAAAAAAAd3UAAAAAAgKvCQAAAAACAUMBAAAAAAABPtUAAAAAAgFXDQAAAAAAAbc5AAAAAAICMzkAAAAAAAGCrQAAAAAAAANJAAAAAAACCokAAAAAAAEHFQAAAAAAAaqtAAAAAAABKo0AAAAAAgP/LQAAAAAAASq9AAAAAAADgnkAAAAAAAKCsQAAAAAAALK1AAAAAAACRt0AAAAAAALOxQAAAAAAAZbhAAAAAAIDa4EAAAAAAADTHQAAAAAAAXLBAAAAAAABAwkAAAAAAgI/XQAAAAACA2uBAAAAAAADuoUAAAAAAAHi1QAAAAAAAG8hAAAAAAAAgnkAAAAAAAAfJQAAAAAAAerRAAAAAAAA0wUAAAAAAAHWxQAAAAAAAX79AAAAAAAAAw0AAAAAAAIyyQAAAAADAh9NAAAAAAAC7uEAAAAAAAN/CQAAAAAAAdJpAAAAAAAAop0AAAAAAAGu1QAAAAAAAqc1AAAAAAABQ4EAAAAAAAGqoQAAAAAAA7KZAAAAAAIDa4EAAAAAAAOW0QAAAAAAAKcNAAAAAAACsu0AAAAAAAKKrQAAAAAAAYMFAAAAAAEAD3kAAAAAAgODDQAAAAAAAwLpAAAAAAEDD0EAAAAAAgMzTQAAAAADAeNNAAAAAAABkqkAAAAAAgBbDQAAAAAAAqKxAAAAAAAD4qEAAAAAAgNrgQAAAAAAAdrtAAAAAAABhwkAAAAAAgNrgQAAAAAAAALBAAAAAAAAqvEAAAAAAAFq/QAAAAAAApNFAAAAAAADctUAAAAAAAPG6QAAAAACAU8tAAAAAAAAzxkAAAAAAAKyaQAAAAAAAI9dAAAAAAIDbxUAAAAAAACirQAAAAABAIdtAAAAAAACTxEAAAAAAAEKlQAAAAAAAbcRAAAAAAACAyEAAAAAAAGTGQAAAAAAAQKhAAAAAAAD9xkAAAAAAgNrgQAAAAAAAe8VAAAAAAACKpUAAAAAAAHG1QAAAAABAP9NAAAAAAAA3u0AAAAAAAODWQAAAAACANdVAAAAAAAAss0AAAAAAAPiWQAAAAACA2uBAAAAAAAAAv0AAAAAAAA/MQAAAAACAB8JAAAAAAMA90kAAAAAAAOHTQAAAAAAApqFAAAAAAAAHukAAAAAAAPCiQAAAAACAns5AAAAAAAA8okAAAAAAAGCcQAAAAAAAVrNAAAAAAIDa4EAAAAAAAJvXQAAAAACApsFAAAAAAADAvUAAAAAAgOTFQAAAAAAAWsNAAAAAAEBM0kAAAAAAANK0QAAAAAAAltJAAAAAAAAct0AAAAAAgMrPQAAAAAAAccJAAAAAAABcp0AAAAAAAEShQAAAAAAA3JdAAAAAAACGt0AAAAAAQBraQAAAAAAA1rdAAAAAAACTukAAAAAAAKW/QAAAAAAAGLJAAAAAAAAwn0AAAAAAAKjGQAAAAAAAwqRAAAAAAACIwEAAAAAAwFLcQAAAAAAAiLNAAAAAAIA5zUAAAAAAAB6uQAAAAAAAittAAAAAAAAMokAAAAAAAKCeQAAAAAAAeq1AAAAAAIAVw0AAAAAAABG5QAAAAACAUs9AAAAAAID7zEAAAAAAgNrgQAAAAACAIMFAAAAAAAB61EAAAAAAABihQAAAAACAmt1AAAAAAMBb0kAAAAAAAJiZQAAAAAAApKtAAAAAAADko0AAAAAAgAvFQAAAAAAAvrJAAAAAAAC4tkAAAAAAQA3UQAAAAAAAUcNAAAAAAAAZ3kAAAAAAAMu3QAAAAAAA7cJAAAAAAACNukAAAAAAAHmzQAAAAAAAmqBAAAAAAABYr0AAAAAAgEzXQAAAAAAAdqRAAAAAAABIukAAAAAAAPCkQAAAAAAA8KZAAAAAAAA2vUAAAAAAAL6jQAAAAAAADLZAAAAAAAAqpkAAAAAAACbSQAAAAAAANbdAAAAAAAC0wkAAAAAAgLDCQAAAAAAAGs5AAAAAAADOpEAzMzMzM3mWQAAAAAAAALVAAAAAAEBu0kAAAAAAAN20QAAAAAAAWMNAAAAAAACsu0AAAAAAAEq9QAAAAAAASrVAAAAAAMDz30AAAAAAAGSpQAAAAAAA37dAAAAAAACXyEAAAAAAAPieQAAAAABAi9hAAAAAAIBm0UAAAAAAACO0QAAAAAAAdrdAAAAAAAAWpEAAAAAAAIqpQAAAAAAA3KVAAAAAAABtvEAAAAAAAJitQAAAAACAmdtAAAAAAADyoEAAAAAAAG6tQAAAAACAjsFAAAAAAAAspkAAAAAAAB+8QAAAAACAl8BAAAAAAIDa4EAAAAAAAKrLQAAAAAAAKKxAAAAAAABgm0AAAAAAAGywQAAAAAAAUb9AAAAAAAC0pUAAAAAAAPm5QAAAAAAAnbpAAAAAAADapUAAAAAAAJXRQAAAAAAA9cVAAAAAAIDixEAAAAAAAKSnQDMzMzMzeZZAAAAAAIDa4EAAAAAAABLJQAAAAAAAkJ1AAAAAAIAGxkAAAAAAgAfJQAAAAAAAdNdAAAAAAAA0q0AAAAAAAOXZQAAAAAAA2qFAAAAAAIDIwkAAAAAAgNrgQAAAAAAAZKJAAAAAAICGxkAAAAAAALKzQAAAAAAAMKRAMzMzMzN5lkAAAAAAAJSqQAAAAAAARJxAAAAAAADYwEAAAAAAQGHWQAAAAACA+tFAAAAAAIDa4EAAAAAAgNrgQAAAAAAAycNAAAAAAAA2qEAAAAAAQGLTQAAAAAAA1qFAAAAAAADLuEAAAAAAAIylQAAAAACA2uBAAAAAAAAaq0AAAAAAACO0QAAAAACA2uBAAAAAAAD4r0AAAAAAAEOyQAAAAAAA8qFAAAAAAACMtEAAAAAAAASrQAAAAAAAzq5AAAAAAACop0AzMzMzM3mWQAAAAAAANsdAAAAAAIDa4EAAAAAAgHLZQAAAAAAA8KVAAAAAAABInUAAAAAAgNrgQAAAAAAA8sVAAAAAAADsuEAAAAAAgNrgQAAAAAAA0KRAAAAAAAC0mUAAAAAAAKW2QAAAAABANtVAAAAAAAAD30AAAAAAgEbAQAAAAAAAJqBAAAAAAABMoUAAAAAAAH6tQAAAAAAAJLFAAAAAAAAEsEAAAAAAACW0QAAAAACAIc9AAAAAAAAAwkAAAAAAAKqqQAAAAAAA39NAAAAAAACXs0AAAAAAABCjQAAAAAAAVLNAAAAAAABIo0AAAAAAACDGQDMzMzMzeZZAAAAAAIDa4EAAAAAAAN6oQDMzMzMzeZZAAAAAAIBIyUAAAAAAADSjQAAAAACA2uBAAAAAAABypEAAAAAAAGS5QAAAAAAA9NdAAAAAAAANz0AAAAAAAKLAQAAAAAAAp8NAAAAAAIC6wkAAAAAAAMK2QAAAAAAAgqtAAAAAAABhwEAAAAAAgCzOQAAAAAAAm7xAAAAAAABuwUAzMzMzM3mWQAAAAABAhdJAAAAAAAAov0AAAAAAANynQAAAAAAAvsRAAAAAAAAgr0AAAAAAAJajQAAAAAAAr71AAAAAAIA030AAAAAAgDTTQAAAAAAA5LlAAAAAAIB8yUAAAAAAALinQAAAAADAL9BAAAAAAMDX1kAAAAAAgFbXQAAAAAAAULNAAAAAAAAJu0AAAAAAgJrRQAAAAAAAYLRAAAAAAAATvkAAAAAAAEC8QAAAAAAAjsBAAAAAAEA72UAAAAAAAACYQAAAAAAAZbFAAAAAAIDa4EAAAAAAACWxQAAAAACAOspAAAAAAADAnEAAAAAAgG3RQAAAAACAmsFAAAAAAIBr0kAAAAAAADypQAAAAAAAFr9AAAAAAADztUAAAAAAAPayQAAAAAAAvq1AAAAAAADCo0AAAAAAAAGwQAAAAAAA4qdAAAAAAACUnkAAAAAAAPqmQAAAAAAA+sVAAAAAAID110AAAAAAAE3gQAAAAAAAcKFAAAAAAACevUAAAAAAAB7LQAAAAAAAF7hAAAAAAICMxkAAAAAAAHCmQAAAAAAAIrZAAAAAAABBsUAAAAAAAF6nQAAAAACAmslAAAAAAABDtUAAAAAAADqlQAAAAAAAiKRAAAAAAABbz0AAAAAAACCpQDMzMzMzeZZAAAAAAIADyEAAAAAAAKK2QAAAAAAACJ1AAAAAAABCpEAAAAAAAELIQAAAAAAArqVAAAAAAACMpkAAAAAAAH27QAAAAAAAmbtAAAAAAACgnUAAAAAAALnGQAAAAACAOc9AAAAAAIDTykAAAAAAAFCuQAAAAAAA87pAAAAAAABsuUAAAAAAAOKzQAAAAAAAZ7tAAAAAAADY3UAAAAAAACCxQAAAAAAADKdAAAAAAACcl0AAAAAAAFKzQAAAAAAANb1AAAAAAIBt30AAAAAAAFO2QAAAAACAvcJAAAAAAABw1UAAAAAAAFykQAAAAAAAFKZAMzMzMzN5lkAAAAAAACO2QAAAAAAA3rhAAAAAAACUoEAAAAAAAFyaQAAAAAAA+MtAAAAAAABUt0AAAAAAgCHBQAAAAAAAyLtAAAAAAAClvEAAAAAAAESfQDMzMzMzeZZAAAAAAIDa4EAAAAAAAG+wQAAAAAAATJhAAAAAAIDa4EAAAAAAAL66QAAAAAAALqBAAAAAAAAkxkAAAAAAgLrNQAAAAADA29RAAAAAAIDp0kAAAAAAAIahQAAAAAAA1qZAAAAAAACtvkAAAAAAgADQQAAAAAAAzsVAAAAAAAAgp0AAAAAAACDFQAAAAAAAyqZAAAAAAAAQpEAAAAAAALuxQAAAAAAAxrJAAAAAAACkn0AAAAAAAGm4QAAAAAAAWJpAAAAAAID/w0AAAAAAALywQAAAAAAAUqRAAAAAAAAom0AAAAAAAK+xQAAAAACA2uBAAAAAAACYq0AAAAAAAO6yQAAAAAAAQMZAAAAAAACF1UAAAAAAAKilQAAAAAAAMr1AAAAAAIDa4EAAAAAAgLbFQAAAAAAA7cRAAAAAAAAstUAAAAAAALikQAAAAAAAXLlAAAAAAAAsxkAAAAAAAL6oQAAAAAAAZ7tAAAAAAIDa4EAAAAAAAFipQAAAAAAA/qJAAAAAAADUp0AAAAAAAB6hQAAAAAAALbZAAAAAAABQsEAAAAAAACKkQAAAAAAA0qlAAAAAAIAWwkAAAAAAAHCYQAAAAAAA4shAAAAAAIDa4EAAAAAAACaoQAAAAAAAyK1AAAAAAACErUAAAAAAAM3IQAAAAABAndlAAAAAAABNwEAAAAAAABO1QAAAAAAASJdAAAAAAIDY0UAAAAAAADmxQAAAAAAAiL1AAAAAAMBL1EAAAAAAACy4QAAAAAAAOdtAAAAAAAAQnkAAAAAAQHfcQDMzMzMzeZZAAAAAAACwqEAzMzMzM3mWQDMzMzMzeZZAAAAAAAD8l0AzMzMzM3mWQAAAAAAANqJAAAAAAADcv0AAAAAAAK2/QAAAAAAA3bZAAAAAAABtt0AAAAAAACTFQAAAAAAAKsJAAAAAAADntEAAAAAAAGKgQAAAAAAAtKFAAAAAAACPykAAAAAAACycQAAAAAAAlLhAAAAAAIAD10AAAAAAAJSbQAAAAAAAZLNAAAAAAAA6rUAAAAAAwOPeQAAAAAAAlrNAAAAAAABoo0AAAAAAANS9QAAAAAAArMVAAAAAAMBw2EAAAAAAwL/aQAAAAAAAhKlAAAAAAACKu0AAAAAAACClQAAAAACA5MZAAAAAAAAAo0AAAAAAAJPNQAAAAAAAQJ5AAAAAAACUnEAAAAAAAMSlQAAAAADAItNAAAAAAADorUAAAAAAALKyQAAAAADAn9VAAAAAAADuu0AAAAAAgOfYQAAAAACAtNNAAAAAAACKtEAAAAAAAGSYQAAAAAAAj8ZAAAAAAIDy20AAAAAAAN+5QAAAAAAAyL9AAAAAAAC10kAAAAAAAC6/QAAAAAAAYKhAAAAAAAD+sUAAAAAAAFSfQAAAAACAbsNAAAAAAACYpkAAAAAAALW7QAAAAAAAoJ1AAAAAAADiq0AAAAAAADeyQAAAAAAA8qNAAAAAAADytEAAAAAAAHKmQAAAAAAAoL5AAAAAAABCoUAAAAAAAMyeQDMzMzMzeZZAAAAAAABWuEAAAAAAAJikQAAAAADAuNVAAAAAAABOpkAAAAAAAJq9QAAAAAAAfMBAAAAAAABasEAAAAAAgI7VQAAAAADAQNFAAAAAAADt2UAAAAAAAJirQAAAAACALcFAAAAAAADkoEAAAAAAgNrgQAAAAACA2uBAAAAAAIDa4EAAAAAAAEarQAAAAAAArLdAAAAAAAC0vkAAAAAAgJnYQAAAAACAK8tAAAAAAADSoUAAAAAAABS2QAAAAAAAGJlAAAAAAACypUAAAAAAAF6hQAAAAAAAyKZAAAAAAAAX0EAAAAAAAL/CQAAAAACAItJAAAAAAACdykAAAAAAAPShQAAAAACA88FAMzMzMzN5lkAAAAAAAFWwQAAAAAAAQKRAAAAAAAB0vUAAAAAAABSXQAAAAAAAiKRAAAAAAABqwUAAAAAAACSXQAAAAAAATJhAAAAAAADCwEAAAAAAwKrUQAAAAAAA8KZAMzMzMzN5lkAAAAAAANPdQAAAAAAAvbxAAAAAAIAzx0AAAAAAQF3VQAAAAAAAV7xAAAAAAAD6uEAAAAAAgNrgQAAAAAAA3bVAAAAAAMDF30AAAAAAACexQAAAAAAAEcFAAAAAAADgmEAAAAAAALasQAAAAABABNhAAAAAAAC9vUAAAAAAwH7ZQAAAAAAAv7BAAAAAAIA5w0AAAAAAgPbEQAAAAAAACKtAAAAAAAAwn0AAAAAAAKC1QAAAAAAA9JZAAAAAAADdtUAAAAAAAIDBQAAAAAAAPbZAAAAAAAACsEAAAAAAgO3RQAAAAAAAQqJAAAAAAICOwUAAAAAAAJigQAAAAAAAAK9AAAAAAADSpUAAAAAAgGTKQAAAAACA789AAAAAAIDJwkAAAAAAgJXSQAAAAAAAdqBAAAAAAACqo0AAAAAAANaoQAAAAAAAAK9AAAAAAADJs0AAAAAAgELFQDMzMzMzeZZAAAAAAIAgxUAAAAAAALHKQAAAAAAAyqBAAAAAAAAXvEAAAAAAANagQAAAAAAAE7VAAAAAAAAsqUAAAAAAAOifQAAAAAAAKJlAAAAAAADCrUAAAAAAAKi1QAAAAAAAqKJAAAAAAABSo0AAAAAAgJfJQAAAAAAAQqNAAAAAAADBt0AAAAAAwE3VQAAAAACA2uBAAAAAAAAEq0AAAAAAACTAQAAAAAAAhJpAAAAAAAD6p0AAAAAAgCLEQAAAAAAAd7NAAAAAAAA+qEAAAAAAAPyZQAAAAAAADqVAAAAAAIDA0UAAAAAAAN/MQAAAAAAAcKNAAAAAAADkm0AAAAAAAF2yQDMzMzMzeZZAAAAAAAAUpkAAAAAAAPWxQAAAAAAAPqRAAAAAAAB8o0AAAAAAAK+zQAAAAAAA2b5AAAAAAACkskAAAAAAANiqQAAAAAAAkMdAAAAAAIC0wUAAAAAAgNrgQAAAAAAAGcRAAAAAAADSqkAAAAAAgNrgQAAAAAAAUKlAMzMzMzN5lkAAAAAAAD65QAAAAAAAOLFAMzMzMzN5lkAzMzMzM3mWQAAAAAAAtJtAAAAAAADLsUAAAAAAgPLdQAAAAAAAnJhAAAAAAACMnUAAAAAAgD7QQAAAAAAAMb9AAAAAAADQqUAAAAAAAGe4QAAAAAAAeqxAAAAAAEDU1EAAAAAAAEK8QAAAAAAArKFAMzMzMzN5lkAAAAAAAFuwQAAAAAAA9c9AAAAAAIDa4EAAAAAAAHilQAAAAAAAerRAAAAAAEAU1UAAAAAAAHCjQAAAAAAAd8NAAAAAAAAn20AAAAAAAIXOQAAAAAAAXNJAAAAAAACsnkAAAAAAAOOxQAAAAAAAONlAAAAAAADKqkAAAAAAgODOQAAAAAAAeqNAAAAAAADBuUAAAAAAAGSZQAAAAAAAkqBAAAAAAACVskAAAAAAAO7AQAAAAABAW9VAAAAAAABgo0AAAAAAAP6/QAAAAAAA6JxAAAAAAABmo0AAAAAAANqmQAAAAAAAmrtAAAAAAACko0AAAAAAAHCsQAAAAAAAl7VAAAAAAEDi3kAAAAAAQKbfQAAAAACAMcNAAAAAAAB+pEAAAAAAAGKnQAAAAAAASMlAAAAAAAABuUAAAAAAAIK1QAAAAACA2uBAAAAAAEBC0UAAAAAAAMCkQAAAAAAA5rdAAAAAAEAH0UAAAAAAANSWQAAAAAAAtJ5AAAAAAMAs3kAAAAAAAFbBQAAAAAAAEKNAAAAAAADQmUAAAAAAgFfOQAAAAAAAFcpAAAAAAMAY2kAAAAAAANquQAAAAAAAMbdAAAAAAIBd0kAAAAAAAHCrQAAAAAAA3J5AAAAAAACQpkAAAAAAAK6hQAAAAAAAKtpAAAAAAIBPwkAAAAAAAOylQAAAAAAAGJdAAAAAAAC0ukAAAAAAgBrBQAAAAACAkMRAAAAAAACUoEAAAAAAAIamQAAAAAAARqJAAAAAAABptEAAAAAAACykQAAAAAAAgsZAAAAAAIB3yUAAAAAAAJqjQAAAAAAAwJZAAAAAAADstUAAAAAAAKKnQAAAAAAAbbBAAAAAAAB2q0AAAAAAgI/ZQAAAAAAACJlAAAAAAMA83UAAAAAAAIagQAAAAAAAsrRAAAAAAAACo0AAAAAAAIyWQAAAAAAAD8NAAAAAAADSsUAzMzMzM3mWQAAAAAAAcrBAMzMzMzN5lkAAAAAAwFjYQAAAAAAAS8FAAAAAAABsoUAAAAAAwKnbQAAAAAAAiKNAAAAAAAAPwkAAAAAAgMnFQAAAAAAAS8dAAAAAAAB9tUAAAAAAAHygQAAAAAAAYclAAAAAAMDb3EAAAAAAAL6zQAAAAAAAgKhAAAAAAADdt0AAAAAAACqvQAAAAAAA5qlAAAAAAIDa4EAAAAAAAAicQAAAAAAAabdAAAAAAABAwEAAAAAAACieQAAAAAAAMqJAMzMzMzN5lkAAAAAAALTRQAAAAAAAycRAAAAAAABsoUAAAAAAACK7QAAAAAAA+sJAAAAAAAAZsUAAAAAAAKijQAAAAACA2uBAAAAAAADQnEAAAAAAgNjJQAAAAACA2uBAAAAAAADkmEAAAAAAgMbAQAAAAAAAyJpAMzMzMzN5lkAAAAAAAAKjQAAAAAAAp9RAAAAAAAA/vUAAAAAAAKa2QAAAAACA2uBAAAAAAAC4vUAAAAAAABChQAAAAAAAGqFAAAAAAABOq0AAAAAAAFK/QAAAAADAD9RAAAAAAMBg0kAAAAAAwGTRQAAAAAAAKcxAAAAAAADArkAAAAAAAGq2QAAAAACA2uBAAAAAAACkl0AAAAAAwKbRQAAAAAAAZbdAAAAAAAB0o0AAAAAAAMakQAAAAACA2uBAAAAAAABZykAAAAAAAACaQAAAAAAASb5AAAAAAAC6pkAAAAAAgNrgQAAAAAAAKKtAAAAAAABNz0AAAAAAACKlQAAAAAAAiKZAAAAAAMC610AAAAAAwETUQAAAAAAAmtRAAAAAAAA5uUAAAAAAAAyZQAAAAACArcFAAAAAAICkw0AAAAAAAOyfQAAAAAAA5KVAAAAAAACgnkAAAAAAAFiiQAAAAAAARKdAAAAAAACEn0AAAAAAgJbKQAAAAAAAsbVAAAAAAADKuEAAAAAAgNrgQDMzMzMzeZZAAAAAAICOzUAAAAAAAIyjQAAAAAAAOqRAAAAAAAACoEAAAAAAANCrQDMzMzMzeZZAAAAAAEBU2UAAAAAAAKaiQAAAAAAAwKZAAAAAAACWu0AAAAAAAM3HQAAAAAAA5KtAAAAAAAAAqEAAAAAAQMPeQAAAAAAAKLdAAAAAAACRwEAAAAAAwFnXQDMzMzMzeZZAAAAAAAB6qUAAAAAAABqiQAAAAAAgj+BAAAAAAIDa4EAAAAAAAJSZQAAAAAAASLVAAAAAAAAgtEAAAAAAgK3NQAAAAAAA3qVAMzMzMzN5lkAAAAAAAGScQAAAAAAA5qpAAAAAAAC5sEAAAAAAALSfQDMzMzMzeZZAAAAAAICG20AAAAAAgNrgQAAAAAAA1K1AAAAAAABzxkAAAAAAgHvbQAAAAAAAGKJAAAAAAICSxEAAAAAAAPnLQAAAAACA2uBAAAAAAACOukAzMzMzM3mWQAAAAAAAGqNAAAAAAAAypEAzMzMzM3mWQAAAAAAA1JtAAAAAAAAYmUAAAAAAADqhQAAAAAAAvKFAAAAAAAAQpEAAAAAAALipQAAAAACAFsVAAAAAAEDJ3UAAAAAAAPu0QAAAAACAQMpAAAAAAIDYwUAAAAAAANi2QAAAAAAAu8RAAAAAAACGr0AAAAAAAG2wQAAAAAAANKRAAAAAAABCvEAAAAAAgNrgQAAAAACAntRAAAAAAAC0o0AAAAAAgBbGQAAAAACAHctAAAAAAABEykAAAAAAwGHZQAAAAAAA0qNAMzMzMzN5lkAAAAAAgG3JQAAAAAAAFqpAAAAAAIC520AAAAAAQBzXQDMzMzMzeZZAAAAAAAA2o0AAAAAAAGCZQAAAAAAAYsFAAAAAAAB3tEAAAAAAgEPCQAAAAAAAvqRAAAAAAADKqEAAAAAAAGO4QAAAAAAASrpAAAAAAAB0o0AAAAAAAEibQAAAAAAALbBAAAAAAADSxkAAAAAAAHaiQAAAAACA2uBAAAAAAEAn3EAzMzMzM3mWQAAAAAAAVKVAAAAAAAAon0AAAAAAgP/CQAAAAABgfeBAAAAAAABqxEAAAAAAAFSmQAAAAAAAY7JAAAAAAACiq0AAAAAAACHAQAAAAAAAAKhAAAAAAABewUAAAAAAAAKuQAAAAAAAAJ5AAAAAAAB6vkAAAAAAAKSaQAAAAAAAeJxAAAAAAAAnwkAAAAAAAOzHQAAAAAAADMRAAAAAAIBuzUAAAAAAACqyQAAAAAAAyqxAAAAAAAA/vEAAAAAAgIvDQAAAAAAAoqRAAAAAAAAuqEAAAAAAAC6sQAAAAAAAiJ5AAAAAAEDR1EAAAAAAgPLSQAAAAAAAf79AAAAAAAAyqEAzMzMzM3mWQAAAAAAAsqhAAAAAAAAGo0AAAAAAANScQAAAAAAADJlAAAAAAABmskAAAAAAAH6lQDMzMzMzeZZAAAAAAMC310AAAAAAAHiaQAAAAAAAxJZAAAAAAEB12EAAAAAAgDXFQAAAAAAAiNBAAAAAAADJsEAAAAAAADfAQAAAAAAAXKVAAAAAAIC72kAAAAAAACCnQAAAAAAAy8FAAAAAAAAMmEAAAAAAAGyeQAAAAAAA1qRAAAAAAADsp0AAAAAAAFSoQAAAAAAAMs1AAAAAAABUm0AAAAAAAMyjQAAAAAAAjqNAAAAAAAD4nEAAAAAAAPivQAAAAAAA8slAAAAAAADeskAAAAAAABe3QAAAAAAAgsVAAAAAAAC90kAAAAAAAKLRQDMzMzMzeZZAAAAAAAACqUAAAAAAAByXQAAAAAAAkKhAAAAAAAD4nEAAAAAAAKCeQAAAAAAAG8NAAAAAAACQqEAAAAAAAIKyQAAAAACA2uBAMzMzMzN5lkAAAAAAgNrgQAAAAAAA2KBAAAAAAABInkAzMzMzM3mWQAAAAAAAiq1AAAAAAIDa4EAzMzMzM3mWQAAAAAAAeqlAAAAAAABGoUAAAAAAAFSXQAAAAADAJdRAAAAAAACeoUAAAAAAAIyXQAAAAACArMVAAAAAAADiv0AAAAAAQEjSQAAAAAAAWrRAAAAAAAAgm0AAAAAAACCdQAAAAAAA07lAAAAAAAAGv0AAAAAAACPKQAAAAACAHdJAAAAAAAC0pEAAAAAAAICaQAAAAAAAiKRAAAAAAADElkAAAAAAgNrgQAAAAAAA4KdAAAAAAAC0pEAAAAAAAAaqQAAAAAAAHqpAAAAAAAAbsEAAAAAAAOqkQAAAAAAAnqdAAAAAAAB8oUAAAAAAAEauQAAAAADAUNRAAAAAAACQpUAAAAAAAL/BQAAAAACApdRAAAAAAACKrEAAAAAAAMSaQAAAAACA2uBAAAAAAACUuUAAAAAAAISeQAAAAAAA1qdAAAAAAACq2EAAAAAAAHiZQAAAAACA2uBAAAAAAAAYxUAAAAAAAFCdQAAAAAAAY7NAAAAAAMBY0EAAAAAAAD6jQAAAAACA2uBAAAAAAACHskAAAAAAAFPCQAAAAAAAFqBAAAAAAIDu00AAAAAAAI66QAAAAAAASLlAAAAAAACcpUAzMzMzM3mWQAAAAAAApqlAAAAAAABMo0AAAAAAwDXUQAAAAAAAhLBAAAAAAMD/3kAAAAAAABipQAAAAAAA/LZAAAAAAADwmkAAAAAAAEijQDMzMzMzeZZAAAAAAABOqEAAAAAAAN6lQAAAAAAA4J1AAAAAAMB70kAAAAAAAICfQAAAAAAA3rJAMzMzMzN5lkAAAAAAAAifQAAAAAAAeqZAAAAAAAAQokAAAAAAAKikQAAAAAAAHKBAAAAAAABsq0AAAAAAAFnNQAAAAACAjNpAAAAAAAD8oEAAAAAAwNfcQAAAAAAAPKdAMzMzMzN5lkAAAAAAANS/QAAAAAAArKRAAAAAAAAMoEAAAAAAgNrgQAAAAAAAXJ1AAAAAAIAUz0AAAAAAgPbAQAAAAAAA6KRAMzMzMzN5lkAAAAAAALyaQAAAAAAAGKRAAAAAAAC3sUAAAAAAAD63QAAAAAAAUKBAAAAAAABxxEAAAAAAAJmyQAAAAAAAQJdAAAAAAICq0kAAAAAAAHC9QAAAAAAAEqNAAAAAAIDCyUAAAAAAAOidQAAAAAAASKNAAAAAAAAIpEAAAAAAADyaQAAAAAAApKpAAAAAAABQpUAAAAAAAM+7QAAAAAAAmKtAAAAAAAAjvUAAAAAAAOyhQAAAAAAA/JlAAAAAAAAJtEAAAAAAAOiaQAAAAAAANKRAAAAAAAACwUAAAAAAgFLBQAAAAAAAoqRAAAAAAIDa4EAAAAAAgNrgQAAAAAAAtJ5AAAAAAACkl0AAAAAAgJfEQAAAAAAAWdFAMzMzMzN5lkAAAAAAAOO4QAAAAAAAvdJAAAAAAAAIqEAAAAAAAAymQAAAAAAAK7BAAAAAAIDa4EAAAAAAABmwQAAAAAAArcNAAAAAAAB6pEAAAAAAAISqQAAAAAAAN9FAAAAAAACAsUAAAAAAAFSqQAAAAACAI8lAAAAAAABQqEAAAAAAADyYQAAAAAAASJpAAAAAAACMpUAAAAAAANSdQAAAAAAAIsZAAAAAAACPvUAAAAAAAFe6QAAAAADACOBAMzMzMzN5lkAAAAAAAJyjQAAAAAAA/qhAAAAAAAD4nUAAAAAAADnSQAAAAAAAp71AAAAAAID1y0AAAAAAgJ3RQAAAAAAA9JxAAAAAAABXs0AAAAAAgNrgQAAAAAAAdJtAAAAAAEB410AAAAAAAJipQAAAAAAAPKxAAAAAAABcnkAAAAAAAKatQAAAAAAA1q9AAAAAAAByp0AAAAAAAF62QAAAAAAAOqBAAAAAAADaoEAAAAAAANSfQAAAAAAAIc1AAAAAAACwmEAAAAAAgD3OQAAAAAAA8J1AAAAAAAA0rEAAAAAAAAyaQDMzMzMzeZZAAAAAAABYnkAAAAAAAG6hQAAAAAAAQblAAAAAAIDLwEAzMzMzM3mWQAAAAAAAMrFAAAAAAABEtUAzMzMzM3mWQDMzMzMzeZZAAAAAAADupEAAAAAAAJylQAAAAABAs9hAAAAAAAAmpUAAAAAAAFCbQAAAAAAAhK9AAAAAAECE2UAAAAAAABvNQAAAAAAA4sdAAAAAAADwmkAzMzMzM3mWQAAAAABARtBAAAAAAIB71EAAAAAAAIaoQAAAAABAZtNAAAAAAAAqoEAAAAAAAG6hQAAAAABgS+BAAAAAAADgo0AAAAAAgNrgQAAAAAAA+rRAAAAAAEDp1UAAAAAAAOqrQAAAAAAAnJ5AAAAAAAD0mUAAAAAAAPO0QAAAAAAAgqdAAAAAAMAZ0kAAAAAAAPagQAAAAACA2uBAAAAAAACQokAAAAAAAISmQAAAAAAAmqlAAAAAAACko0AAAAAAAMqpQAAAAACAM8hAAAAAAADwoEAAAAAAAFK+QAAAAACAlchAAAAAAIDgzEAAAAAAANKqQAAAAAAA8qJAAAAAAICxxkAAAAAAACqvQAAAAAAA+qBAAAAAAACyokAAAAAAADSaQAAAAAAAzJ9AAAAAAABFwUAAAAAAAGajQAAAAACAMMtAAAAAAACSpUAAAAAAAH6kQAAAAAAAQKlAAAAAAMCg0kAAAAAAgDrfQAAAAACA2uBAAAAAAABRuEAAAAAAAOCkQAAAAAAAPMRAAAAAAID9xEAAAAAAAH6oQDMzMzMzeZZAAAAAAADqqEAAAAAAgIHBQAAAAAAA7JpAAAAAAADioEAAAAAAAHquQDMzMzMzeZZAAAAAAAB2qEAAAAAAADaiQAAAAAAAnJ1AAAAAAADg2UAAAAAAALyYQDMzMzMzeZZAAAAAAAAwoEAAAAAAACalQAAAAAAAlMpAAAAAAIAQxEAAAAAAAGKkQAAAAACAd8BAAAAAAADctkAAAAAAAIioQAAAAAAAOclAAAAAAAD7wEAAAAAAABybQAAAAAAA3KFAAAAAAAAKrEAAAAAAAOKkQAAAAACAbsJAAAAAAAB+pUAAAAAAgJLGQAAAAACA98xAAAAAAABcl0AAAAAAAM6lQAAAAACA88JAAAAAAABirkAAAAAAAJ7LQAAAAAAAycFAAAAAAAAMpUAAAAAAQCvTQAAAAAAAa7lAAAAAAIDpw0AAAAAAAGCgQAAAAAAAGcZAAAAAAAC0nEAAAAAAAI2+QAAAAAAAAJ9AAAAAAADOo0AAAAAAAMieQAAAAACA2uBAAAAAAAAMpUAAAAAAAHyxQAAAAAAAjJpAAAAAAACEnkAAAAAAAJC0QAAAAAAA5KxAAAAAAIDa4EAAAAAAADClQAAAAAAAbrVAAAAAAAB2oEAAAAAAAKzRQAAAAAAAQqVAAAAAAABAp0AAAAAAQFnQQAAAAAAABK1AAAAAAAAYu0AAAAAAgK3FQAAAAACAOc9AAAAAAAA2sUAAAAAAgNrgQAAAAAAA8LNAAAAAAAAbvEAAAAAAAJCeQAAAAAAA6qlAAAAAAACOpUAAAAAAAJa3QAAAAAAA/KZAAAAAAADns0AzMzMzM3mWQAAAAACAv8NAAAAAAAACqUAAAAAAAJKlQAAAAAAAY7dAAAAAAAD+tUAAAAAAAN65QAAAAABAS9JAAAAAAACyoUAAAAAAALamQAAAAACAK8FAAAAAAAD8oUAAAAAAAHG1QAAAAAAADqBAAAAAAADGoEAAAAAAAHSbQAAAAAAAqKZAAAAAAADcpEAAAAAAgOHUQAAAAAAAnKFAAAAAAABRsUAzMzMzM3mWQAAAAAAAsKNAAAAAAAAXtkAzMzMzM3mWQAAAAAAAxKVAAAAAAADyrkAAAAAAAFijQAAAAAAAq8ZAAAAAAICFwEAAAAAAAKnCQAAAAAAAJLFAAAAAAIBc00AAAAAAAPqgQAAAAAAA4qNAAAAAAAB0m0AAAAAAALioQAAAAAAAhrdAAAAAAAAwnEAAAAAAACLWQAAAAAAAvqNAAAAAAAC2q0AzMzMzM3mWQAAAAAAAJrhAAAAAAMAE3UAAAAAAANSgQAAAAAAABqFAAAAAAAAqs0AAAAAAAFSiQAAAAAAAkbJAAAAAAABgnUAAAAAAgL3HQAAAAAAAQqVAAAAAAAAQuEAAAAAAACqgQAAAAACAwdtAMzMzMzN5lkAzMzMzM3mWQAAAAAAAHJpAAAAAAABMl0AAAAAAAE/GQAAAAAAAE7RAAAAAAACvskAAAAAAADqkQAAAAAAAyr9AAAAAAACWsUAAAAAAIF7gQAAAAAAACbFAAAAAAAByu0AAAAAAAAHQQAAAAAAAsqZAAAAAAADIokAAAAAAABSXQAAAAAAAyKtAAAAAAAARtkAAAAAAgATMQAAAAAAAfLlAAAAAAADSoUAAAAAAAJKkQAAAAAAADb5AAAAAAAALxEAAAAAAABzGQAAAAAAAZKNAAAAAAAC2p0AAAAAAALHZQAAAAAAAQbpAAAAAAAA9uEAAAAAAAICkQAAAAAAAHJdAAAAAAACJsUAAAAAAANK2QAAAAACAJMFAAAAAAABkqUAAAAAAAGrNQAAAAAAAnKBAAAAAAAArs0AAAAAAAMKrQAAAAAAApqNAAAAAAABMsUAAAAAAAECZQAAAAAAAQ7pAAAAAAACIpUAAAAAAAKKmQAAAAAAAULVAAAAAAADiq0AAAAAAwLLgQAAAAACA2uBAAAAAAAACpkAAAAAAAJygQAAAAAAAGqRAAAAAAACAn0AAAAAAAEyvQAAAAAAA7bZAAAAAAADqsUAzMzMzM3mWQAAAAAAA+JtAAAAAAADmtkAAAAAAAPO8QAAAAAAAI7ZAAAAAAAB1zkAAAAAAAEnGQAAAAAAAwJhAAAAAAAD5yUAAAAAAAISgQAAAAAAA2KNAAAAAAACIm0AAAAAAAIqhQAAAAAAA6L9AAAAAAAB8oUAAAAAAAFKuQAAAAABAAdRAAAAAAABAw0AAAAAAAH6gQAAAAAAAsqZAAAAAAAB930AAAAAAAPi1QAAAAAAA4JlAAAAAAACwp0AAAAAAgKnOQAAAAAAA0LlAAAAAAADGs0AAAAAAACyYQAAAAAAAmsVAMzMzMzN5lkAAAAAAAKysQAAAAAAACJhAMzMzMzN5lkAAAAAAADSiQAAAAAAAxKhAAAAAAACQoEAAAAAAwMHTQDMzMzMzeZZAAAAAAADPtUAAAAAAAFS+QAAAAACAEdlAAAAAAAACrkAAAAAAAESfQAAAAAAAoMBAAAAAAADttkAAAAAAAJ+2QAAAAACA2uBAAAAAAAAeoUAAAAAAAGKmQAAAAAAAQ7lAAAAAAADwlkAAAAAAAAq1QDMzMzMzeZZAAAAAAAAatUAAAAAAAB6uQAAAAAAATqdAMzMzMzN5lkAAAAAAAAezQAAAAAAAmKRAAAAAAABEmEAAAAAAANCpQAAAAACA2uBAAAAAAABkqkAAAAAAABKiQAAAAAAABKNAMzMzMzN5lkAAAAAAAGjMQAAAAABAC9hAAAAAAABCokAAAAAAAEClQAAAAAAAtJ5AAAAAAEAs4EAzMzMzM3mWQAAAAAAAKqVAAAAAAADIokAAAAAAAJOxQAAAAAAAfrJAAAAAAABZskAAAAAAgNrgQAAAAAAAGKRAAAAAAABMqEAAAAAAABibQAAAAAAA1KtAAAAAAAAAmEAAAAAAgL/SQAAAAAAAvLFAMzMzMzN5lkAAAAAAABifQAAAAAAAvKpAAAAAAAAgoUAAAAAAACC0QAAAAAAApqNAAAAAAABcoEAAAAAAAMidQAAAAAAA6LNAAAAAAABcoUAAAAAAAI6nQAAAAAAAlK1AAAAAAACXx0AAAAAAADC5QAAAAAAAFrVAMzMzMzN5lkAzMzMzM3mWQAAAAAAAeKRAAAAAAIA9ykAAAAAAAOSoQAAAAAAAeJ5AAAAAAAC6u0AAAAAAAJShQAAAAACA2uBAAAAAAAB+o0AAAAAAAByoQAAAAAAAwJdAAAAAAACWr0AAAAAAAPexQDMzMzMzeZZAAAAAAAC9vkAAAAAAAPK0QAAAAABAJ9BAAAAAAAA+vUAzMzMzM3mWQAAAAACAVsBAAAAAAAA8pkAAAAAAAG2+QDMzMzMzeZZAAAAAAABYoUAAAAAAAOK5QAAAAAAAq7VAAAAAAAAYm0AAAAAAAOymQAAAAACAX8xAAAAAAACspEAAAAAAAPm/QAAAAAAAxLhAAAAAAABPtkAAAAAAAKShQAAAAAAATKBAAAAAAABwqUAAAAAAAAPNQAAAAAAAELxAAAAAAACNuUAAAAAAgLTBQAAAAAAAxKxAMzMzMzN5lkAAAAAAANyhQAAAAACAu8hAMzMzMzN5lkAzMzMzM3mWQAAAAAAAwLNAMzMzMzN5lkAAAAAAADTeQAAAAAAAMJxAAAAAAAAUmkAAAAAAgP7CQAAAAAAAMNVAAAAAAABgp0AAAAAAADieQAAAAACA2uBAAAAAAAAYm0AzMzMzM3mWQDMzMzMzeZZAAAAAAIDkwkAAAAAAADKsQDMzMzMzeZZAAAAAAAAXuUAAAAAAgBnNQAAAAAAAMKlAAAAAAAAnsEAAAAAAAGmzQAAAAAAAXMBAAAAAAAD8qkAAAAAAAFbZQDMzMzMzeZZAAAAAAABQmEAAAAAAgP7AQAAAAAAA4LVAAAAAAACopkAAAAAAACqzQAAAAAAA/qRAAAAAAABwsUAzMzMzM3mWQAAAAAAAWqFAAAAAAAAsp0AAAAAAAOSYQAAAAAAAJKNAAAAAAADkl0AAAAAAAIK4QDMzMzMzeZZAAAAAAACsoEAAAAAAgMHQQAAAAAAAPqpAAAAAAIBux0AAAAAAAMypQAAAAAAA/qRAMzMzMzN5lkAAAAAAACScQAAAAAAA3bFAAAAAAABYpkAAAAAAgCXKQAAAAAAA1qFAAAAAAADEn0AAAAAAAJSjQDMzMzMzeZZAAAAAAAAeo0AzMzMzM3mWQAAAAACAPMVAAAAAAACsvUAAAAAAANKmQAAAAAAAzMNAAAAAAAAWoUAAAAAAAMypQAAAAABARd5AAAAAAAAkpEAzMzMzM3mWQAAAAAAAtKdAMzMzMzN5lkAAAAAAAGakQAAAAAAAXKFAAAAAAAAAqkAAAAAAABCjQAAAAACA/cJAAAAAAABUokAAAAAAgIfZQAAAAACAOshAAAAAAMA90UAAAAAAAE2zQAAAAAAAsJlAAAAAAAAuqEAAAAAAAOitQAAAAAAADKFAAAAAAAApy0AAAAAAAK7EQAAAAAAAOqdAAAAAAACar0AAAAAAAOqgQAAAAAAA1bZAAAAAAID2zUAAAAAAALanQAAAAAAACJ9AAAAAAAD6sUAAAAAAAAKlQAAAAACAU8JAMzMzMzN5lkAAAAAAAIyWQAAAAAAAPqZAAAAAAACLzkAAAAAAAObEQDMzMzMzeZZAAAAAAAB4mkAAAAAAAAO/QAAAAAAA9qNAAAAAAABEpkAAAAAAgIbBQAAAAAAAMLtAAAAAAABHsEAAAAAAAOuzQAAAAAAAvKVAAAAAAAAgl0AAAAAAAM6zQAAAAAAAiqVAAAAAAACOtkAAAAAAAKa3QAAAAACApNJAAAAAAAAqoEAAAAAAAB6jQAAAAAAAnKdAAAAAAAB5sUAAAAAAAJO0QAAAAAAAH7xAMzMzMzN5lkAAAAAAAFqpQAAAAAAAYK5AAAAAAADEzEAzMzMzM3mWQAAAAAAABMZAAAAAAAAipUAAAAAAAPfHQAAAAAAAfKdAAAAAAADdvkAAAAAAAF+3QAAAAAAAwrxAAAAAAADMp0AAAAAAgNrgQAAAAAAAVslAAAAAAEBe0UAAAAAAAKqnQAAAAACAxMFAMzMzMzN5lkAAAAAAAI6iQAAAAAAArb9AAAAAAAB0pEAAAAAAALqrQAAAAAAAPKVAAAAAAABsoUAAAAAAALStQAAAAAAAYKVAAAAAAACkoUAzMzMzM3mWQAAAAAAAFKdAAAAAAAA1x0AzMzMzM3mWQDMzMzMzeZZAAAAAAAC0pUAAAAAAAFSjQAAAAAAAALZAAAAAAICIxUAAAAAAAKSkQAAAAABApd1AAAAAAAAyoUAAAAAAAEifQAAAAACAJMFAAAAAAAAepEAAAAAAAD60QAAAAAAAjq1AAAAAAIDa4EAAAAAAAKyXQAAAAAAAYqZAAAAAAAAupUAAAAAAAEqiQAAAAACA88lAMzMzMzN5lkAAAAAAAJyZQAAAAAAAJLZAAAAAAID310AAAAAAAJyeQAAAAAAAuJxAAAAAAABOqEAAAAAAAK6uQAAAAAAA+bBAAAAAAAB2p0AzMzMzM3mWQAAAAAAA2qNAAAAAAADsokAAAAAAAICWQAAAAAAAf9lAAAAAAACoo0AAAAAAAHysQAAAAAAATKFAAAAAAAArx0AAAAAAgAzBQAAAAAAA7qJAAAAAAADSr0AAAAAAAF7DQDMzMzMzeZZAAAAAAAA0uUAAAAAAAICeQDMzMzMzeZZAAAAAAACUsUAAAAAAAJihQAAAAAAAhKJAAAAAAABkpEAAAAAAAOyhQAAAAAAAxrNAAAAAAADeokAAAAAAAMymQAAAAAAAKKVAAAAAAACkrEAzMzMzM3mWQDMzMzMzeZZAAAAAAADypUAAAAAAwK/ZQAAAAAAAN89AAAAAAAB52EAAAAAAACSYQDMzMzMzeZZAAAAAAAAQsEAAAAAAAKyWQAAAAAAACtBAAAAAAABIokAAAAAAABieQAAAAAAAFKdAAAAAAADgnEAAAAAAAIiZQAAAAAAA6LBAAAAAAAD+pkAAAAAAAGakQAAAAAAA5qJAAAAAAABptUAAAAAAAKKgQAAAAAAAocFAAAAAAACEm0AAAAAAAOipQAAAAAAAyJ5AMzMzMzN5lkAAAAAAAMyhQAAAAAAAGspAAAAAAADipUAAAAAAAKHbQAAAAAAA6qZAAAAAAIAf1UAAAAAAAHioQAAAAAAAIqdAAAAAAABNsEAAAAAAADSjQAAAAACA4sdAAAAAAADAoUAAAAAAACm7QAAAAAAAAJxAAAAAAACapUAAAAAAAJ6mQAAAAAAA+LpAAAAAAABYoUAAAAAAAFyXQAAAAAAA2qNAAAAAAABrvUAAAAAAAOLAQAAAAAAA7JdAAAAAAACIpkAAAAAAgADEQAAAAAAAVrBAAAAAAAA6qEAAAAAAAL6xQAAAAAAAWKpAAAAAAAA2qEAAAAAAAOCiQAAAAAAAs7RAAAAAAAC0oEAAAAAAAOicQAAAAAAAAqxAAAAAAAAEpUAAAAAAAGvcQAAAAAAAFqVAAAAAAABcwEAAAAAAgGLKQAAAAAAAuKJAAAAAAACF0kAAAAAAAISgQAAAAAAAXJlAAAAAAAAmpEAAAAAAALWzQAAAAAAAUqBAAAAAAABkpkAAAAAAAAXDQAAAAAAAErFAAAAAAAA2qkAAAAAAAM6zQAAAAAAAGKRAAAAAAACAn0AAAAAAAMCrQAAAAAAAKqJAAAAAAADKo0AAAAAAAD6uQAAAAAAAHq9AAAAAAADMn0AAAAAAALSbQAAAAAAAtJ9AAAAAAABBzkAAAAAAAPqmQAAAAAAAFKJAAAAAAAB0sEAAAAAAAGi4QAAAAAAA/KJAAAAAAACntUAAAAAAAEyjQAAAAAAAbqlAAAAAAABsmkAAAAAAQM3RQAAAAAAAFqZAAAAAAABeokAAAAAAAGqwQAAAAAAAaLJAAAAAAABmpEAAAAAAAAypQAAAAAAAfbRAAAAAAAAupEAzMzMzM3mWQAAAAAAAKL1AAAAAAABAs0AAAAAAgEPDQAAAAAAAoLNAMzMzMzN5lkAAAAAAALCWQAAAAAAA6qlAMzMzMzN5lkAAAAAAACCjQAAAAAAAKJhAAAAAAAB0n0AAAAAAAOqhQDMzMzMzeZZAAAAAAAAGpkAAAAAAAJiaQAAAAAAALJlAMzMzMzN5lkAAAAAAAF6mQAAAAAAAkKlAAAAAAADqpEAAAAAAACilQAAAAAAAKJtAAAAAAAABuEAAAAAAAKCZQAAAAAAAWKJAAAAAAADkmUAAAAAAAMqxQAAAAAAA/7NAAAAAAAC0xEAAAAAAQEjUQAAAAAAAzLtAAAAAAADookAAAAAAAESgQAAAAAAAPKVAAAAAAAD6tUAAAAAAANCmQAAAAAAAfrlAAAAAAAAEnEAAAAAAANylQAAAAAAA9qJAAAAAAACGp0AAAAAAAJ6hQAAAAAAAT7lAAAAAAABEvUAAAAAAAGCsQAAAAAAAQJtAAAAAAAARt0AAAAAAABqkQAAAAAAA28JAAAAAAAAUmUAAAAAAgOnDQAAAAACA2uBAAAAAAICmxEAAAAAAAPSbQAAAAAAAq71AAAAAAACQqUAAAAAAAJyiQAAAAAAA9J5AAAAAAIDF1UAAAAAAABykQAAAAAAAgKBAAAAAAABBtUAAAAAAACexQAAAAAAAyKdAAAAAAABCpUAAAAAAAHOxQAAAAAAAqbNAAAAAAADOwEAAAAAAACqiQAAAAAAAjKVAAAAAAID0wkAAAAAAAPqkQAAAAAAADKVAAAAAAABImEAzMzMzM3mWQAAAAAAA6JtAAAAAAACwpEAAAAAAAFqjQAAAAAAAqLxAAAAAAIDa4EAAAAAAAF6jQAAAAAAAWsJAAAAAAAACpEAAAAAAAGivQAAAAAAAQNlAAAAAAADmvEAAAAAAgNrgQAAAAAAAtK9AAAAAAADEp0AAAAAAAAClQAAAAAAAeKpAAAAAAAAms0AAAAAAAFKpQAAAAAAAzbNAAAAAAICcykAAAAAAAB/BQAAAAAAA4KVAAAAAAICWwUAAAAAAADKlQDMzMzMzeZZAAAAAAABIm0AAAAAAAOSmQAAAAAAABKFAMzMzMzN5lkAAAAAAAJSfQAAAAAAAyJxAAAAAAADb0UAAAAAAgNrgQAAAAAAAgJpAAAAAAAAvvEAAAAAAAAScQAAAAAAAY7ZAAAAAAADiokAzMzMzM3mWQAAAAAAAStVAAAAAAAAsmEAAAAAAADSXQAAAAAAAkqNAAAAAAACOpEAAAAAAABilQAAAAAAA1qlAAAAAAIDx3EAAAAAAACSgQAAAAAAADJ1AAAAAAAAZykAAAAAAAP6iQAAAAAAAkrdAAAAAAAAkoUAAAAAAAKyeQDMzMzMzeZZAAAAAAADUpkAAAAAAAB+7QAAAAACA2uBAAAAAAAD5sEAAAAAAAJiwQDMzMzMzeZZAAAAAAACeokAAAAAAADSaQAAAAAAAsKJAAAAAAAAkq0AAAAAAgBDBQAAAAAAAeqtAAAAAAIAqykAAAAAAANC4QAAAAAAA7JtAAAAAAIBL0kAzMzMzM3mWQAAAAAAAiqtAAAAAAAAmoEAAAAAAAAagQAAAAACAvNpAAAAAAAA4mUAAAAAAALa+QAAAAAAAvLBAMzMzMzN5lkAzMzMzM3mWQAAAAABAS9VAAAAAAABoskAAAAAAAIiaQAAAAAAAsKFAAAAAAABApUAAAAAAgIfOQAAAAAAARKRAAAAAAIBRzUAAAAAAADCYQAAAAAAAGKVAAAAAAADOpkAAAAAAgPDEQAAAAAAA7bdAAAAAAAAAqUAAAAAAAP/HQAAAAADACdVAAAAAAADTuEAAAAAAAPC1QAAAAAAAyqRAAAAAAAAopkAzMzMzM3mWQAAAAAAAeqBAAAAAAIAzzUAAAAAAANyYQAAAAAAAccFAAAAAAABNskAAAAAAAPajQAAAAAAA+KBAAAAAAADApkAAAAAAAHyqQAAAAAAAIqFAAAAAAAAB0UAAAAAAAOKlQAAAAAAA2cVAAAAAAAAEo0AAAAAAAPibQAAAAAAAOKVAAAAAAAB0pkAzMzMzM3mWQAAAAAAAVtJAMzMzMzN5lkAAAAAAQFTTQAAAAAAAUKNAAAAAAAAlyEAzMzMzM3mWQAAAAAAA6qhAAAAAAABYoEAAAAAAAASnQAAAAAAA/KJAAAAAAAAvsEAAAAAAACqhQAAAAAAAMcJAAAAAAAAOrUAAAAAAAFS7QAAAAAAAirxAAAAAAAC0n0AAAAAAgMfJQAAAAAAA0KlAAAAAAABqqEAzMzMzM3mWQAAAAAAAdqNAAAAAAADknkAAAAAAADicQAAAAAAASJ5AAAAAAADoqEAAAAAAAOChQAAAAAAA0JtAAAAAAACKokAAAAAAgLTWQAAAAACA2uBAAAAAAAApyUAAAAAAAMy4QAAAAAAAeqRAAAAAAADMnEAAAAAAADipQAAAAAAA/qFAAAAAAMCC3EAAAAAAAFynQAAAAAAAcqZAAAAAAECX20AAAAAAAGidQAAAAAAAeJlAAAAAAADCsUAAAAAAALaiQAAAAAAACq5AAAAAAAAopkAAAAAAAIiXQAAAAAAAFJlAAAAAAAABx0AAAAAAAHalQAAAAAAAiqNAAAAAAAAGpEAAAAAAAOyZQAAAAAAA+KdAAAAAAADEqkAAAAAAABypQAAAAAAANclAAAAAAAACwUAAAAAAAOC+QAAAAAAAxbFAMzMzMzN5lkAAAAAAAHyxQAAAAAAASJ9AAAAAAAB3xkAAAAAAAPS+QAAAAACAo89AAAAAAACwlkAAAAAAAAahQAAAAAAAi8pAAAAAAAB8mkAAAAAAAE6xQAAAAAAAzqZAAAAAAADYpUAAAAAAACikQAAAAAAAJKZAAAAAAABypEAAAAAAAMiXQAAAAABAH9BAAAAAAACUvEAAAAAAAMu9QAAAAACAfMJAAAAAAIAtwUAAAAAAgP3HQAAAAAAANqVAAAAAAEBu00AAAAAAAGKgQAAAAAAAqKdAAAAAAAB8mkAzMzMzM3mWQDMzMzMzeZZAAAAAAICu10AAAAAAANSzQAAAAAAAVrFAAAAAAACwnkAAAAAAAMCdQAAAAAAA6qZAAAAAAIDG0UAAAAAAgNrgQAAAAAAA6qJAAAAAAADMokAAAAAAAHqkQAAAAAAA5qFAAAAAAAB6rEAAAAAAAF6qQAAAAAAATMFAAAAAAABIp0AAAAAAAD7RQAAAAAAAVqNAAAAAAADMrkAAAAAAAKybQAAAAACAQ9FAAAAAAIB31EAAAAAAABWwQAAAAAAAF9JAAAAAAABcoUAAAAAAAF6oQAAAAAAALJlAAAAAAAD0r0AAAAAAAOyWQAAAAAAAFKNAAAAAAABgnEAzMzMzM3mWQAAAAAAAN81AAAAAAEBy1UAAAAAAAGSZQAAAAAAAfqdAAAAAAIC2xkAAAAAAAIyXQAAAAAAATqhAAAAAAADgnEAAAAAAAC6wQDMzMzMzeZZAAAAAAAA0oUAAAAAAAA6sQAAAAAAArbJAAAAAAADwrUAAAAAAgKDBQAAAAACAtcZAAAAAAAA2tkAAAAAAAJikQDMzMzMzeZZAAAAAAABws0AAAAAAgD/LQAAAAAAAEcxAAAAAAEAs1UAAAAAAAJSkQAAAAAAAOKFAAAAAAAAeo0AAAAAAAPinQAAAAAAAeJdAAAAAAABVsEAAAAAAAICoQAAAAAAAfrFAAAAAAAC/vEAAAAAAAJHJQAAAAAAAwbpAAAAAAACEsEAAAAAAAC62QAAAAAAA+K5AAAAAAAAiv0AAAAAAAFSyQAAAAAAAWJ5AAAAAAAC9tkAAAAAAAGqiQAAAAAAAM8BAAAAAAADMqEAzMzMzM3mWQAAAAAAA8JxAAAAAAABEnEAAAAAAAF6rQAAAAADAatFAAAAAAABuqkAAAAAAANi7QDMzMzMzeZZAAAAAAADOrUAAAAAAALidQAAAAAAAOqBAAAAAAACko0AAAAAAgNrgQAAAAAAAwKBAAAAAAAA/t0AAAAAAAMayQAAAAAAAOdBAAAAAAADepUAAAAAAAKTRQAAAAAAAAKRAAAAAAAC9tkAAAAAAABKgQAAAAAAA0J5AAAAAAADmpEAAAAAAAE+4QAAAAAAA0L1AAAAAAAB0qUAAAAAAgNrgQAAAAAAA3KdAMzMzMzN5lkAAAAAAACK/QAAAAAAAsJxAAAAAAIBawkAAAAAAAASZQAAAAACA2uBAAAAAAAB4nEAAAAAAADiZQAAAAAAATJdAAAAAAADeo0AAAAAAAAyrQAAAAAAAjJpAAAAAAICTyUAAAAAAgDvBQAAAAAAATbFAAAAAAAAUtUAAAAAAAOSiQAAAAAAATKBAAAAAAACsnUAAAAAAAIy9QAAAAAAAnslAMzMzMzN5lkAAAAAAAAitQAAAAAAA+qdAAAAAAABYn0AAAAAAAAinQDMzMzMzeZZAMzMzMzN5lkAAAAAAAD2yQAAAAAAAVctAAAAAAAAcwUAAAAAAAGCaQAAAAACATMNAAAAAAAC2sUAAAAAAALKrQAAAAAAABJ1AAAAAAAAMqkAAAAAAAICjQDMzMzMzeZZAMzMzMzN5lkAAAAAAgEbCQAAAAAAA7qJAAAAAAABAnkAAAAAAANybQDMzMzMzeZZAMzMzMzN5lkAAAAAAAKrEQAAAAAAA9bFAAAAAAADgmUAAAAAAAJ6pQAAAAAAAJKRAAAAAAADIr0AAAAAAAKCgQAAAAAAAIKVAAAAAAABYnUAAAAAAALTEQAAAAACAWsNAAAAAAAAEmkAAAAAAAOCZQAAAAACAj8tAAAAAAABwn0AAAAAAACqmQAAAAAAAtJpAAAAAAABStkAAAAAAAM+zQAAAAAAAd9dAAAAAAAAdy0AAAAAAAAKsQAAAAAAA0sFAAAAAAAAipUAAAAAAAECeQAAAAAAAc79AAAAAAABmrEAAAAAAAMijQAAAAAAAsJ9AAAAAAADQsEAAAAAAAPS5QAAAAAAAmJxAAAAAAAC3vUAAAAAAABigQDMzMzMzeZZAAAAAAABsqEAAAAAAAOW6QAAAAAAAPJ1AAAAAAADGpUAAAAAAACydQDMzMzMzeZZAAAAAAABSo0AAAAAAACCyQAAAAAAAMKVAAAAAAIBSwUAAAAAAABquQDMzMzMzeZZAAAAAAIAkzEAAAAAAAASaQAAAAAAAnqRAAAAAAABEokAAAAAAAKylQAAAAAAAu7BAAAAAAAB3uEAAAAAAABqiQAAAAAAAfqFAAAAAAABioUAAAAAAALyXQAAAAAAAd7VAAAAAAAC6oEAAAAAAAHCkQAAAAAAAdrVAAAAAAABMn0AAAAAAAFigQAAAAAAAzrlAAAAAAAC+u0AAAAAAAPrKQAAAAAAAo7tAAAAAAACysEAAAAAAABqiQDMzMzMzeZZAAAAAAACQpkAAAAAAAAvIQAAAAAAAWJlAMzMzMzN5lkAAAAAAgIfIQAAAAAAA4qZAMzMzMzN5lkAAAAAAAB6iQAAAAAAA975AAAAAAADgmkAAAAAAAHSsQAAAAAAAUq5AAAAAAAD/t0AzMzMzM3mWQAAAAAAAzJ9AAAAAAAB2rkAAAAAAAPSeQAAAAAAA7KJAAAAAAABex0AAAAAAACyuQAAAAADALuBAAAAAAIDa4EAAAAAAAPyqQAAAAAAAWKVAAAAAAABcmkAAAAAAAIarQAAAAAAAjbZAAAAAAABusUAAAAAAABCvQAAAAAAA7qRAAAAAAABwmEAAAAAAAACYQAAAAAAAjqJAAAAAAAA+pUAAAAAAAFKqQAAAAAAAyqhAAAAAAACGqEAAAAAAALigQAAAAAAApKFAAAAAAADuokAAAAAAAJCiQAAAAAAAaJpAAAAAAIDDwEAAAAAAAGinQAAAAAAAgKZAAAAAAIDa4EAAAAAAADa7QAAAAAAAGsZAMzMzMzN5lkAAAAAAADHGQAAAAAAAKrxAAAAAAABuvkAAAAAAAJyfQAAAAACAzsFAAAAAAAAknEAAAAAAgCnBQAAAAAAAy9pAAAAAAAAmoUAAAAAAANPKQAAAAAAAVqVAAAAAAAAqo0AAAAAAABu9QAAAAAAAqKRAAAAAAIDa4EAAAAAAAN+xQAAAAAAA/LJAMzMzMzN5lkAAAAAAAGiaQDMzMzMzeZZAAAAAAADw10AAAAAAANiZQAAAAACA7dRAAAAAAIDa4EAzMzMzM3mWQAAAAAAA4KVAAAAAAABaqEAAAAAAAPyjQAAAAACApsNAAAAAAACwqkAAAAAAgE3CQAAAAAAAlqhAAAAAAABImEAAAAAAAFyrQAAAAAAAMKVAMzMzMzN5lkAAAAAAAKKpQDMzMzMzeZZAAAAAAABKo0AAAAAAAFKrQAAAAAAAkqNAAAAAAACWpUAAAAAAAEKgQAAAAAAA/qVAAAAAAAAkm0AAAAAAALvBQAAAAAAAKbhAAAAAAAAqoEAAAAAAAAnCQAAAAAAA+KRAAAAAAADOoEAAAAAAAHqlQAAAAAAA8J5AAAAAAACIsEAzMzMzM3mWQAAAAAAAE7tAAAAAAADMqUAAAAAAAIuwQAAAAAAAZblAAAAAAADouEAAAAAAAMSWQAAAAAAAyLVAMzMzMzN5lkAAAAAAAFyjQAAAAAAAhKxAAAAAAAB+oEAAAAAAgDrJQAAAAAAAn7xAAAAAAAAGykAAAAAAAMnFQAAAAACAn8JAAAAAAAD5w0AAAAAAALigQAAAAAAAsKZAAAAAAACom0AAAAAAAPiXQAAAAAAA9KBAAAAAAICIw0AAAAAAAEmwQAAAAAAA87RAAAAAAAAMqUAAAAAAQKnRQAAAAAAADKRAMzMzMzN5lkAAAAAAAJy6QAAAAAAAGKVAAAAAAABftUAAAAAAAOywQAAAAAAAHqNAAAAAAADcm0AAAAAAgPjGQAAAAAAASKJAAAAAAABWpkAAAAAAALajQAAAAAAAqLJAAAAAAAASpUAAAAAAAKyrQAAAAACA2uBAAAAAAIA7wUAAAAAAAJCbQAAAAAAASKtAAAAAAABCp0AAAAAAAEDeQAAAAAAA9KVAMzMzMzN5lkAAAAAAgJLBQAAAAAAASJ9AAAAAAACGs0AAAAAAAAyiQAAAAAAAaK5AAAAAAABSokAAAAAAAK6gQAAAAAAAwKNAAAAAAACKqkAAAAAAwEHTQAAAAAAA3s1AAAAAAED93kAzMzMzM3mWQAAAAAAAmJlAAAAAAACupUAAAAAAAOajQAAAAAAATLZAAAAAAIBf00AAAAAAAPSbQAAAAAAA2KFAAAAAAICHxkAAAAAAAIirQAAAAACAet1AMzMzMzN5lkAAAAAAAFCZQAAAAAAAjK9AAAAAAAA8oEAAAAAAAIyYQAAAAAAAdrJAAAAAAAD8sUAAAAAAgNrgQDMzMzMzeZZAAAAAAADwpEAAAAAAANiwQAAAAAAAOqFAAAAAAADupEAAAAAAgNrgQAAAAAAAZKpAAAAAAAAEnEAAAAAAAGihQAAAAAAAIqRAAAAAAADYlkAAAAAAAIyvQDMzMzMzeZZAAAAAAAA4sUAAAAAAAEOwQAAAAAAAIbxAAAAAAABsnUAAAAAAANipQAAAAAAAmJ9AAAAAAIDKwEAAAAAAAFWyQAAAAAAAcqZAAAAAAACQqkAAAAAAAMqiQAAAAACA2uBAAAAAAIAYwEAzMzMzM3mWQAAAAAAAYKRAAAAAAABuokAAAAAAAPibQAAAAAAAjqFAAAAAAABQrEAzMzMzM3mWQAAAAAAAqqZAAAAAAIAPw0AAAAAAALqjQAAAAAAAYqVAAAAAAIDP0kAAAAAAAJihQAAAAAAApbtAAAAAAAAkpUAAAAAAAH6pQAAAAAAAoqlAAAAAAADpv0AAAAAAAJipQAAAAAAAuJ5AAAAAAADttkAzMzMzM3mWQAAAAAAAxKxAAAAAAIA/ykAAAAAAAHiaQAAAAAAAkJlAAAAAAACklkAAAAAAAKSXQDMzMzMzeZZAAAAAAAAYsEAAAAAAAOKhQAAAAAAAgJ9AAAAAAACao0AAAAAAAG6rQAAAAAAAfqVAAAAAAAD0okAAAAAAAOPHQAAAAAAAoLxAAAAAAACwoUAAAAAAAMynQAAAAAAA+bZAAAAAAICnz0AAAAAAADbOQAAAAAAAPrdAAAAAAABeqEAAAAAAAIyXQAAAAAAArKZAAAAAAADEmEAAAAAAAKamQAAAAAAA7qFAAAAAAABmqUAAAAAAAFKvQAAAAAAApqpAAAAAAIBSzkAAAAAAAIygQAAAAAAAxqFAAAAAAABSpEAAAAAAACKyQDMzMzMzeZZAAAAAAAAInUAAAAAAAJikQAAAAAAAPq1AMzMzMzN5lkAAAAAAACKwQAAAAAAAaMVAAAAAAAB4rkAAAAAAAFy4QAAAAAAAPqRAAAAAAAA8mUAAAAAAAEbAQAAAAAAAxJ9AAAAAAACSv0AAAAAAAJyXQAAAAAAAiMZAAAAAAABUr0AAAAAAABSaQAAAAACAQMdAAAAAAADYp0AAAAAAADClQAAAAAAA6J5AMzMzMzN5lkAAAAAAABiZQAAAAAAAzKJAAAAAAAD1tkAAAAAAANilQAAAAAAAeKZAAAAAAADEq0AAAAAAgJDCQAAAAAAAoJhAMzMzMzN5lkAAAAAAADqnQDMzMzMzeZZAAAAAAAAPtkAAAAAAAJibQAAAAAAAGJlAAAAAAABeoUAAAAAAAKCmQAAAAAAA2qBAAAAAAAC0rUAAAAAAAAjLQAAAAAAA8qBAAAAAAAD+skAAAAAAAOKhQAAAAADAHtZAAAAAAADMokAAAAAAAJynQAAAAACAQ8lAMzMzMzN5lkAzMzMzM3mWQAAAAAAAoKFAAAAAAACwl0AAAAAAAGqjQAAAAAAAcJxAAAAAAADYoEAAAAAAAMK2QAAAAAAA58NAAAAAAADMn0AAAAAAAKScQAAAAAAAXJlAAAAAAACsnEAAAAAAAIqxQAAAAAAAm8VAAAAAAACYmEAAAAAAAISiQAAAAAAAxKRAAAAAAAD4oUAAAAAAAICiQAAAAAAAhqZAAAAAAACAqUAAAAAAAESeQAAAAAAA7KBAAAAAAADfu0AzMzMzM3mWQAAAAAAAPq1AAAAAAABGtEAAAAAAAKu3QAAAAAAAIqRAAAAAAABirUAAAAAAAJCYQAAAAAAAlJlAAAAAAADu20AAAAAAADKxQAAAAAAAuKRAAAAAAADKuUAAAAAAALCdQAAAAAAA/qpAAAAAAMCy0UAAAAAAAO6hQAAAAAAAuJdAAAAAAABGpUAAAAAAAMCbQAAAAAAAwJ5AAAAAAAAQnUAAAAAAAPikQAAAAAAACKFAAAAAAAD0mUAAAAAAADyaQAAAAAAAbJpAAAAAAACQpkAAAAAAADydQAAAAAAANKlAAAAAAACpx0AAAAAAAF+zQAAAAAAAQ8RAMzMzMzN5lkAAAAAAADiXQAAAAAAA3KNAAAAAAAAsnkAAAAAAALCZQAAAAAAA1qFAAAAAAABPs0AzMzMzM3mWQDMzMzMzeZZAMzMzMzN5lkAAAAAAAICbQAAAAAAA8JxAAAAAAAACoEAAAAAAABiaQAAAAAAAnJdAAAAAAACCt0AAAAAAAKynQAAAAAAAhqVAAAAAAIAnwUAAAAAAABSdQAAAAACAxspAAAAAAABmskAAAAAAQOHQQDMzMzMzeZZAAAAAAAC6vkAAAAAAAByhQAAAAAAA3bJAAAAAAAAUqUAAAAAAAGybQDMzMzMzeZZAAAAAAIBKzEAAAAAAAJu3QAAAAAAAzLhAMzMzMzN5lkAAAAAAwNXQQAAAAAAAANJAAAAAAACQmUAAAAAAAA+/QAAAAACAvMtAAAAAAABGpUAAAAAAAIyfQAAAAACAIMRAAAAAAABUqEAAAAAAAOOwQAAAAAAAfqxAAAAAAADknEAAAAAAANijQAAAAAAAbLNAAAAAAIB+ykAAAAAAALy4QAAAAAAArrdAAAAAAACipkAAAAAAgC/KQAAAAAAA0rlAMzMzMzN5lkAAAAAAALifQAAAAAAAlKhAAAAAAAC2tEAAAAAAAOKoQAAAAAAA6LBAAAAAAAB8oUAAAAAAAMSkQAAAAAAAwcFAAAAAAADwokAzMzMzM3mWQDMzMzMzeZZAAAAAAAD+oUAAAAAAANClQAAAAAAAqKZAAAAAAAC2oUAAAAAAAF2wQAAAAAAALclAAAAAAACKqUAAAAAAAI6lQAAAAAAA7JtAAAAAAADGukAAAAAAALCmQAAAAAAArbRAAAAAAADUm0AAAAAAAJipQAAAAACA2uBAAAAAAACnzEAAAAAAABexQAAAAAAA8KpAAAAAAAB+oEAAAAAAAGaoQAAAAAAAW8BAAAAAAICwzkAAAAAAABOwQAAAAAAADbtAAAAAAAConUAAAAAAAJSfQAAAAAAAeJlAAAAAAAAImEAAAAAAwBvWQAAAAAAAKKNAMzMzMzN5lkAAAAAAAGLDQAAAAAAANKRAAAAAAAAIokAAAAAAAInEQAAAAAAA3JlAAAAAAACgpUAAAAAAAMqjQAAAAACADtlAAAAAAAA6sUAAAAAAABirQDMzMzMzeZZAMzMzMzN5lkAAAAAAADi7QAAAAAAAEqNAAAAAAACwnEAAAAAAAACkQAAAAABA999AAAAAAAAop0AAAAAAgD3AQAAAAAAAzqFAAAAAAIDa4EAzMzMzM3mWQAAAAAAAkJ9AAAAAAIDa4EAAAAAAAI20QAAAAAAACKVAAAAAAAAon0AAAAAAALSpQAAAAAAAtqdAAAAAAADOokAAAAAAANSbQAAAAAAAwKxAAAAAAABopUAAAAAAANewQAAAAAAALJ5AAAAAAAAorEAAAAAAAByhQAAAAAAAe8BAAAAAAACqqkAAAAAAAOagQAAAAAAAFqxAAAAAAACmwUAAAAAAABaiQAAAAACA2uBAAAAAAABQr0AAAAAAAI6oQAAAAAAAxqpAAAAAAAAWpUAAAAAAAAiYQAAAAAAAxbVAAAAAAAAUpEAAAAAAAJbRQAAAAACA2uBAAAAAAIBVykAAAAAAAP2wQAAAAAAA2cZAAAAAAAA/wEAzMzMzM3mWQAAAAAAArJlAAAAAAAB8l0AAAAAAANKlQDMzMzMzeZZAAAAAAADDwUAAAAAAANq4QAAAAAAAtKJAAAAAAAB+zUAAAAAAAN6mQAAAAAAAo8FAAAAAAAAcmEAAAAAAAE2zQAAAAAAAzqFAAAAAAABUnUAzMzMzM3mWQDMzMzMzeZZAAAAAAIC0wkAAAAAAADO1QAAAAAAAGbdAAAAAAABmpkAAAAAAAJSjQAAAAAAAdJpAAAAAAACCqEAAAAAAAAqjQDMzMzMzeZZAAAAAAACSrkAAAAAAAFmzQAAAAAAAXLZAMzMzMzN5lkAAAAAAAHidQAAAAAAArJZAAAAAAAAMp0AzMzMzM3mWQAAAAAAAoJ9AAAAAAAD2oUAAAAAAALapQDMzMzMzeZZAAAAAAACyoEAzMzMzM3mWQAAAAACAZtBAAAAAAIDdx0AAAAAAADCcQAAAAAAATqJAAAAAAABD00AAAAAAANquQAAAAAAASJpAAAAAAADwmkAAAAAAAIiiQAAAAAAAIrJAAAAAAACapUAAAAAAAPajQAAAAAAAnKhAAAAAAAAUpEAAAAAAACKxQAAAAAAA1qJAAAAAAAD9uEAAAAAAgGXXQAAAAAAAYKRAAAAAAAA5sUAAAAAAgJjDQAAAAAAApJlAAAAAAAAso0AAAAAAAOieQAAAAAAAWLVAAAAAAAA/t0AAAAAAAJqiQAAAAAAApsZAAAAAAAAqtEAAAAAAANzPQAAAAAAAr9hAAAAAAABMnkAAAAAAAMilQDMzMzMzeZZAAAAAAAAgo0AAAAAAgCbEQAAAAAAAXqhAAAAAAADmpUAAAAAAALqiQAAAAAAAdJpAAAAAAABkpkAAAAAAAISjQAAAAAAAWJ1AAAAAAAAwpUAAAAAAgNrgQAAAAAAAGbhAAAAAAAA9uEAAAAAAANCbQDMzMzMzeZZAAAAAAAD2pUAAAAAAAE29QAAAAAAAUKZAAAAAAIAy3UAAAAAAAEyeQAAAAAAAKqdAAAAAAAD4pUAAAAAAgJfDQAAAAAAAoq9AAAAAAADapEAAAAAAAHyeQAAAAAAA4JdAMzMzMzN5lkAAAAAAAI6oQDMzMzMzeZZAAAAAAABrwEAAAAAAAIShQAAAAAAAirlAAAAAAABmskAAAAAAAHTJQAAAAAAAYqFAAAAAAACOqEAAAAAAAJWzQAAAAAAAFKtAAAAAAABYmkAAAAAAAGSaQAAAAAAAaJlAAAAAAAA4mUAAAAAAAPqiQDMzMzMzeZZAAAAAAMAc0UAAAAAAABqkQAAAAAAAqKZAAAAAAABgokAAAAAAAEihQAAAAAAA1cJAAAAAAIAUwkAAAAAAAAybQAAAAABAiNBAAAAAAAAsrEAAAAAAAMiaQAAAAAAA9tZAAAAAAAD8nEAAAAAAABSZQAAAAAAA/KFAAAAAAAB1ykAAAAAAABCjQAAAAAAA2qRAAAAAAADEokAAAAAAAHKnQAAAAAAA8KNAAAAAAADupEAAAAAAAHiXQDMzMzMzeZZAAAAAAAAGqkAzMzMzM3mWQAAAAAAA9KJAAAAAAADOpUAAAAAAwPLRQAAAAAAAVqtAMzMzMzN5lkAAAAAAwN3RQAAAAAAAgJhAAAAAAAAwpUAAAAAAgNrgQAAAAAAAAqFAAAAAAADwoUAAAAAAAAajQAAAAAAAXJdAAAAAAAACwkAAAAAAAJbWQAAAAAAAnrBAAAAAAIAYzUAAAAAAAMSrQAAAAAAAGJxAAAAAAAD6okAAAAAAAFqjQAAAAAAA8MtAAAAAAAAAmEAAAAAAAAXOQAAAAABAa9dAAAAAAACuuEAAAAAAAMyrQAAAAAAANJpAAAAAAABcpUAAAAAAALiiQAAAAAAAPsNAAAAAAACsmEAAAAAAALCdQAAAAAAAcJxAAAAAAADMokAAAAAAAL2xQAAAAAAAaKhAAAAAAACAoUAAAAAAALSbQAAAAAAAKJpAAAAAAAByqUAAAAAAwNjfQAAAAAAApqdAAAAAAABysEAAAAAAgFnFQAAAAACA2uBAAAAAAACapEAAAAAAAKamQDMzMzMzeZZAAAAAAACUmEAAAAAAACi4QAAAAACA2uBAAAAAAAB4nEAAAAAAABqlQAAAAAAAjKxAAAAAAACEpEAzMzMzM3mWQAAAAAAAIMpAAAAAAADl3kAAAAAAAPqqQAAAAAAAYq5AAAAAAABQoUAAAAAAAFXGQAAAAAAAlKhAAAAAAADMpUAAAAAAACyxQAAAAAAA9ctAAAAAAACEnUAAAAAAABidQAAAAAAAdqZAAAAAAACMm0AzMzMzM3mWQAAAAAAAfqRAAAAAAABgnkAzMzMzM3mWQAAAAAAAiKZAAAAAAADwpkAAAAAAAJ+2QDMzMzMzeZZAAAAAAADgnUAAAAAAALCpQAAAAAAAHrFAAAAAAAAWrEAAAAAAAK6oQAAAAAAAEbVAAAAAAADfx0AzMzMzM3mWQAAAAAAAyqpAAAAAAAClyEAAAAAAAKG3QAAAAAAAyqNAAAAAAADWokAAAAAAAESfQAAAAAAA6J9AAAAAAAC+o0AzMzMzM3mWQAAAAAAA/MpAAAAAAACgoUAAAAAAgNrgQAAAAAAAALlAAAAAAABgnEAAAAAAACaqQAAAAAAAIqVAAAAAAADsn0AAAAAAAOCdQAAAAAAAqKdAAAAAAACol0AzMzMzM3mWQAAAAAAAPqhAAAAAAACQo0AAAAAAALSsQAAAAAAAyKZAAAAAAACEmUAAAAAAAFq1QAAAAAAAwJ9AAAAAAAC6rkAAAAAAANTUQAAAAAAA1KtAAAAAAAAqoEAAAAAAAJyrQAAAAAAAxKJAAAAAAACAqEAAAAAAAOSlQAAAAAAAFqJAAAAAAADzxUAAAAAAANCWQAAAAAAAVKRAAAAAAACBsEAAAAAAACCkQAAAAAAALJ5AAAAAAABQokAAAAAAAGa8QAAAAAAAtqJAAAAAAAAmpkAAAAAAABCYQAAAAAAAkqdAMzMzMzN5lkAzMzMzM3mWQAAAAAAAwJhAAAAAAADopEAAAAAAANyzQAAAAAAAkJtAAAAAAEBd10AAAAAAAIymQAAAAAAAQLpAAAAAAIBozkAAAAAAAHSYQAAAAAAAO7dAAAAAAEBh0kAAAAAAACCYQAAAAAAAbJtAMzMzMzN5lkAAAAAAANKgQAAAAAAAUJpAAAAAAAAetkAAAAAAAN6lQAAAAAAAN8hAAAAAAABtsUAAAAAAAEqkQAAAAACAAsNAAAAAAACqoUAAAAAAAAymQAAAAACALMFAAAAAAADTtkAAAAAAAPSpQAAAAAAA0J9AAAAAAACmokAAAAAAAHCdQAAAAAAARq1AAAAAAABYoUAAAAAAAPiiQDMzMzMzeZZAAAAAAADonEAAAAAAAEHPQDMzMzMzeZZAAAAAAABmtEAzMzMzM3mWQAAAAAAALKRAAAAAAAD0l0AzMzMzM3mWQAAAAAAAg7ZAAAAAAADYnUAAAAAAAKyXQAAAAAAACJhAAAAAAACQmEAzMzMzM3mWQAAAAAAA/KVAAAAAAABcl0AAAAAAAJyeQAAAAAAArqZAAAAAAAC/sUAAAAAAAF6oQAAAAACAGNFAMzMzMzN5lkAAAAAAAHCoQAAAAAAARLdAAAAAAABRsEAAAAAAgEjKQAAAAAAA/JdAAAAAAAAGqUAAAAAAAFigQAAAAAAA6KJAAAAAAAASokAAAAAAAOanQAAAAAAAdqFAAAAAAAAQqUAAAAAAAG69QAAAAAAAWJ9AMzMzMzN5lkAAAAAAAG7LQAAAAAAAjbNAAAAAAABwmUAAAAAAALKnQAAAAAAAVLRAAAAAAAAUo0AAAAAAAPqiQAAAAAAASqFAAAAAAACApEAAAAAAAOCeQAAAAAAASKtAAAAAAAC0q0AAAAAAAFqnQDMzMzMzeZZAMzMzMzN5lkAzMzMzM3mWQDMzMzMzeZZAAAAAAACeokAAAAAAgInKQAAAAAAAGqhAAAAAAMCr30AAAAAAAD6hQAAAAAAAuqVAAAAAAAAJu0AAAAAAAKy9QAAAAAAA2LFAAAAAAABLuUAAAAAAgG7DQAAAAAAAfKFAMzMzMzN5lkAAAAAAANykQDMzMzMzeZZAAAAAAAC8oEAAAAAAAGyqQAAAAACAgMFAAAAAAACIm0AAAAAAAPydQAAAAAAA3KdAAAAAAABUnUAAAAAAAH+wQAAAAAAACJpAAAAAAADsokAAAAAAANWyQAAAAAAAgKlAAAAAAADVsUAAAAAAAJSbQAAAAAAAWc9AAAAAAAAYoUAAAAAAAOSaQAAAAAAAJJtAAAAAAACCokAAAAAAALikQDMzMzMzeZZAMzMzMzN5lkAzMzMzM3mWQAAAAAAAYqNAAAAAAIAsw0AAAAAAAJ+wQDMzMzMzeZZAAAAAAABqs0AzMzMzM3mWQAAAAAAAOqJAAAAAAIDa4EAAAAAAABWxQAAAAAAAZJhAAAAAAICUx0AzMzMzM3mWQDMzMzMzeZZAAAAAAAC6o0AAAAAAADO5QAAAAAAALrBAAAAAAIDa4EAAAAAAAKSdQAAAAAAAPqlAAAAAAACkmEAAAAAAAOqnQAAAAAAA+KFAAAAAAADYpUAAAAAAAKCnQAAAAAAArbRAAAAAAACwnkAAAAAAAAagQAAAAAAAOJ9AAAAAAIA0x0AAAAAAADCnQAAAAAAA2qVAAAAAAABQy0AAAAAAAJKjQAAAAAAAOKdAAAAAAADgtkAAAAAAAA68QAAAAAAA1LZAAAAAAACEoEAAAAAAAAjAQAAAAAAAyK5AAAAAAACYtkAAAAAAANzAQDMzMzMzeZZAAAAAAACeoUAAAAAAAEnDQAAAAAAARJ1AAAAAAACwqUAAAAAAAAyqQAAAAAAAxqlAAAAAAACEpUAAAAAAAMyfQAAAAAAAFq9AAAAAAACkpEAAAAAAQJHbQAAAAAAAOqdAAAAAAAAwmUAAAAAAAJrHQAAAAAAA5KZAAAAAAACsnkAAAAAAAJSlQAAAAAAATKFAAAAAAADooUAAAAAAAKqmQAAAAAAAYqZAAAAAAAC8rkAAAAAAAPiiQAAAAAAAtrRAAAAAAIDZwUAAAAAAAGO0QAAAAACAN8RAAAAAAACbukAzMzMzM3mWQAAAAAAAnqFAAAAAAAA0m0AAAAAAABqhQAAAAAAA4J9AAAAAAADQnEAAAAAAAGrAQDMzMzMzeZZAAAAAAABgnkAzMzMzM3mWQAAAAAAAArFAAAAAAAAEnUAAAAAAACilQAAAAAAAe8NAAAAAAAC+oUAAAAAAAPalQAAAAAAAd7lAAAAAAADcsEAzMzMzM3mWQAAAAAAAWKhAAAAAAABJ2EAzMzMzM3mWQDMzMzMzeZZAMzMzMzN5lkAAAAAAgErRQAAAAAAAbJxAAAAAAIDl0kAAAAAAAASoQAAAAAAA0qFAAAAAAAC2p0AAAAAAACypQAAAAACAhsdAAAAAAICtxEAAAAAAAEikQAAAAAAAgKdAAAAAAACgqUAzMzMzM3mWQAAAAAAAJqZAMzMzMzN5lkAAAAAAAJi1QAAAAAAAuJ9AAAAAAADaokAAAAAAANW8QDMzMzMzeZZAAAAAAABEn0AAAAAAAK6nQAAAAAAALcZAAAAAAABwn0AAAAAAgH7WQAAAAAAAU7NAAAAAAADQnEAzMzMzM3mWQAAAAAAAkLJAAAAAAADit0AzMzMzM3mWQAAAAAAA3KFAAAAAAACwskAAAAAAANakQAAAAAAAUqNAAAAAAABEn0AAAAAAAM7RQDMzMzMzeZZAAAAAAADMpkAAAAAAABCeQAAAAAAAqJtAAAAAAACyoUAAAAAAADiuQAAAAAAAGqVAAAAAAACWo0AAAAAAAOiiQAAAAADAKNBAAAAAAABUmUAAAAAAAMCtQAAAAAAA+qBAAAAAAAAEoUAzMzMzM3mWQAAAAAAAWJtAMzMzMzN5lkAAAAAAAESjQAAAAAAAzqNAAAAAAACiokAAAAAAAEycQAAAAAAAGqVAAAAAAAALtUAzMzMzM3mWQAAAAABAoeBAAAAAAADRz0AzMzMzM3mWQAAAAAAAKqBAAAAAAADkpUAAAAAAAHyqQAAAAAAAQq1AAAAAAIAQ2kAAAAAAgKDAQDMzMzMzeZZAAAAAAACkoUAAAAAAANiZQAAAAAAAoKVAAAAAAABzzEAAAAAAAGSpQAAAAAAAYqJAMzMzMzN5lkAAAAAAAFywQAAAAACA/dZAAAAAAAAcwkAAAAAAALyeQAAAAAAA1JpAAAAAAIDa4EAAAAAAAMyzQDMzMzMzeZZAAAAAAAASpUAzMzMzM3mWQAAAAAAAS71AAAAAAAD+wEAAAAAAAN3LQAAAAAAACKVAAAAAAAAap0AzMzMzM3mWQAAAAAAAfqdAAAAAAADGqkAzMzMzM3mWQAAAAAAAXKdAAAAAAABfw0AAAAAAAN+/QAAAAADAHdJAMzMzMzN5lkAzMzMzM3mWQAAAAAAAQ8VAAAAAAIBsxEAAAAAAANSbQAAAAACA2uBAAAAAAAB2okAAAAAAAOSlQAAAAAAAoJlAAAAAAABgs0AAAAAAAPmxQAAAAAAABLBAAAAAAABqpUAAAAAAADiwQAAAAAAAdKpAAAAAAAAqq0AAAAAAQKrWQAAAAAAAochAAAAAAABUoEAAAAAAACiZQAAAAAAAuqFAAAAAAACmokAAAAAAAIivQAAAAAAA3rRAAAAAAAB8mkAzMzMzM3mWQAAAAAAAwJtAAAAAAAAItkAAAAAAAMaiQAAAAAAAKqpAAAAAAADKqEAAAAAAAICXQAAAAAAAFJdAAAAAAACIn0AAAAAAgNrgQAAAAAAAcqBAAAAAAACc00AAAAAAACK6QAAAAAAA6JdAAAAAAADGpkAzMzMzM3mWQAAAAAAA7qJAAAAAAADvxkAAAAAAAPqnQAAAAACA2uBAAAAAAACqo0AzMzMzM3mWQAAAAAAAUKFAAAAAAABAqUAAAAAAACyrQAAAAAAAWJxAMzMzMzN5lkAAAAAAAJiWQAAAAAAAVJdAAAAAAACUsEAAAAAAAFCnQAAAAAAAMqVAAAAAAABOo0AAAAAAQMvaQAAAAAAARrBAAAAAAACWyUAzMzMzM3mWQAAAAAAAhKFAAAAAAABJw0AAAAAAAFCxQAAAAAAAb7NAAAAAAAC4pEAAAAAAAOyfQAAAAAAAQqtAAAAAAAAFzUAAAAAAAAymQAAAAAAAqqZAAAAAAADomEAAAAAAAIKhQAAAAAAAKqRAAAAAAIC8zEAAAAAAALymQAAAAAAAfKJAAAAAAAAopUAAAAAAAESaQAAAAAAARKRAAAAAAACgoEAzMzMzM3mWQDMzMzMzeZZAAAAAAABYskAAAAAAAAykQAAAAAAAQKRAAAAAAACImkAAAAAAAEqyQAAAAAAAV7FAAAAAAAACpUAAAAAAAMvGQAAAAAAA8JhAAAAAAAA4qkAAAAAAANiYQAAAAAAAgrNAAAAAAIAF0EAAAAAAACajQAAAAACAysFAAAAAAACQpEAzMzMzM3mWQAAAAAAAdJtAAAAAAAAupUAAAAAAALClQDMzMzMzeZZAAAAAAACXs0AAAAAAgKjAQAAAAAAAEJlAAAAAAACnsEAAAAAAAHqjQAAAAAAAgJhAAAAAAADEl0AAAAAAAHqpQAAAAAAA1JtAAAAAAACktEAAAAAAANa1QAAAAAAAGJtAAAAAAADdvUAzMzMzM3mWQAAAAAAAPqFAAAAAAADsmkAAAAAAALCZQAAAAAAARJtAAAAAAABgqkAAAAAAAIK8QAAAAACAX8BAAAAAAAAgrEAAAAAAAPOxQAAAAAAA1qVAAAAAAACgm0AAAAAAANCbQAAAAAAAVqdAAAAAAAA6pUAAAAAAAI6mQDMzMzMzeZZAAAAAAIA/xUAAAAAAAEScQAAAAAAAcJlAMzMzMzN5lkAAAAAAAMiYQAAAAAAADqJAAAAAAAB6oEAAAAAAAGiYQDMzMzMzeZZAAAAAAABKp0AAAAAAAK+0QAAAAAAAZLJAAAAAAABEoUAAAAAAANCeQAAAAAAAoKJAAAAAAAAOokAAAAAAAOCdQAAAAAAAxqBAAAAAAAAcqUAAAAAAAHynQAAAAAAAXqVAAAAAAAB8qkAAAAAAgNrgQAAAAACA+MVAAAAAAABoo0AAAAAAAOimQAAAAAAAhKZAAAAAAADEpEAAAAAAANW1QAAAAAAAMJdAAAAAAAA4mkAAAAAAgCrIQAAAAAAAPKZAAAAAAADEmEAAAAAAACqmQAAAAAAAJKBAAAAAAEBN1EAAAAAAAKSWQAAAAAAAjq5AAAAAAAAkm0AAAAAAAFycQAAAAAAA8LJAAAAAAADgmEAAAAAAAKCbQAAAAAAAwL9AAAAAAAD6o0AAAAAAAF6nQAAAAACA2uBAAAAAAMCm0kAAAAAAAM+xQAAAAABAcdZAAAAAAABsokAAAAAAwIzVQAAAAAAAnJ9AAAAAAABcoUAzMzMzM3mWQAAAAAAAf8FAAAAAAABEnkAAAAAAwKDYQAAAAAAAXJxAAAAAAABCqkAAAAAAALKyQDMzMzMzeZZAMzMzMzN5lkAAAAAAAEqlQAAAAACAm8NAAAAAAABGo0AzMzMzM3mWQAAAAAAAfJtAAAAAAAA8oUAAAAAAAPSfQAAAAAAASrBAAAAAAADIqUAAAAAAAC61QAAAAAAAfJ9AAAAAAAAAoEAAAAAAANCgQAAAAAAAkqdAAAAAAIDa4EAAAAAAAGycQAAAAAAAaKFAAAAAAADOoUAzMzMzM3mWQAAAAAAAWJpAAAAAAABYnkAAAAAAACSuQAAAAACAwcZAAAAAAIB0wkAAAAAAAL6qQAAAAAAAxqZAAAAAAABvxkAAAAAAAFCnQAAAAAAA1JlAAAAAAABGpUAzMzMzM3mWQAAAAAAAaJxAAAAAAAAgsUAAAAAAAICcQAAAAAAATLVAAAAAAAAQwkAAAAAAwDbRQDMzMzMzeZZAAAAAAADttEAAAAAAANyjQAAAAAAAxqFAAAAAAAComkAAAAAAAA6sQAAAAAAA6NJAAAAAAACsmkAAAAAAAAiuQAAAAAAARqZAAAAAAAAOp0AzMzMzM3mWQAAAAAAAwcFAAAAAAIDa4EAAAAAAALScQAAAAAAA+KFAAAAAAABmpEAAAAAAwFPWQAAAAAAAIKFAAAAAAADKpkAzMzMzM3mWQAAAAAAA4JtAAAAAAIBrwUAAAAAAAOigQAAAAAAA0KVAAAAAAACImUAAAAAAAMCgQAAAAAAAoKxAAAAAAAC0skAAAAAAAOigQAAAAAAA8JdAAAAAAABsnUAAAAAAAJasQAAAAAAABKdAAAAAAAASpUAAAAAAAMatQAAAAAAANJlAAAAAAADsn0AAAAAAAFCaQAAAAAAAbqhAAAAAAADCu0AAAAAAAMClQAAAAAAAoLVAAAAAAADUmkAzMzMzM3mWQAAAAAAAKJ1AAAAAAACoo0AAAAAAAAioQAAAAAAAWr1AAAAAAADopUAAAAAAAGScQAAAAAAAPKRAAAAAAABKs0AAAAAAAHnTQAAAAAAAJ8hAAAAAAAAupEAAAAAAAHCkQAAAAAAApbdAAAAAAACwmkAAAAAAALKiQAAAAAAAwKpAAAAAAACgpEAAAAAAACyeQAAAAAAAlqBAAAAAAAAYmUAAAAAAAAG2QDMzMzMzeZZAAAAAAAA8pEAAAAAAAMyxQAAAAAAABJhAAAAAAAAImUAAAAAAAECgQAAAAAAAjb1AAAAAAACyskAAAAAAAI6iQAAAAAAAf8BAAAAAAADknkAAAAAAACrLQAAAAAAAxdJAAAAAAAAqpUAAAAAAAHyXQAAAAAAA8cFAAAAAAADqoEAzMzMzM3mWQAAAAAAAEbpAAAAAAADIokAAAAAAAAiaQAAAAAAAEsBAAAAAAADkqEAAAAAAAEikQAAAAAAA+JlAAAAAAAAKoEAAAAAAAPKoQAAAAAAAHJ5AAAAAAAAKpkAAAAAAAE6uQAAAAAAAzJ5AAAAAAABsm0AAAAAAALyfQAAAAAAANKJAMzMzMzN5lkAzMzMzM3mWQAAAAAAACrRAAAAAAAAJx0AAAAAAALO9QAAAAAAALKxAAAAAAAAhtEAAAAAAAIijQAAAAAAAvKRAAAAAAAA2rEAAAAAAAGidQAAAAAAA/bxAAAAAAAD+sUAAAAAAAPbHQAAAAACASMNAAAAAAABMmEAAAAAAAOCgQAAAAAAAwq1AAAAAAADytEAAAAAAAKicQAAAAAAAIqRAAAAAAABCpUAAAAAAANqmQAAAAAAAJJhAAAAAAABIoUAAAAAAgGTJQAAAAAAAwKVAAAAAAAAaokAAAAAAACydQAAAAAAARqRAMzMzMzN5lkAAAAAAAICaQAAAAAAADKVAAAAAAADOpUAAAAAAAMSgQDMzMzMzeZZAMzMzMzN5lkAAAAAAAK2wQAAAAAAAY7BAAAAAAACgnEAAAAAAADikQAAAAAAA77JAAAAAAADuokAAAAAAAFO9QAAAAAAAcLRAMzMzMzN5lkAAAAAAAJCcQAAAAAAA+qNAAAAAAADWoUAAAAAAAPikQAAAAAAAQrxAMzMzMzN5lkAAAAAAAFSlQAAAAAAA8KVAAAAAAACDuEAzMzMzM3mWQAAAAAAAKcVAAAAAAADIl0AAAAAAADqmQAAAAAAAMqJAAAAAAABmoEAAAAAAAOuzQAAAAAAAuq1AAAAAAABXxkAAAAAAAASjQAAAAAAAX7JAAAAAAACGtEAzMzMzM3mWQAAAAAAAPKFAAAAAAAAgrEAAAAAAAMy7QAAAAAAA8JtAAAAAAABUvUAAAAAAAAqqQAAAAACA2MpAAAAAAACds0AAAAAAACyxQAAAAAAA/KNAAAAAAIDUwkAAAAAAgKbIQAAAAAAAEqJAMzMzMzN5lkAAAAAAAPybQAAAAAAA+KFAAAAAAAC8o0AAAAAAAMymQAAAAAAAurdAAAAAAACDs0AAAAAAAPapQAAAAAAAQKNAAAAAAABUpUAzMzMzM3mWQAAAAAAACbJAAAAAAAAOwEAAAAAAAFS2QAAAAAAAjJlAAAAAAACjsEAAAAAAAO22QAAAAAAAwKFAAAAAAABMpEAAAAAAAAXFQAAAAAAA+J5AAAAAAAArskAAAAAAAAqjQAAAAAAABqRAAAAAAADgsUAAAAAAAIqhQAAAAAAAwJtAAAAAAAC+pkAAAAAAAKKhQAAAAABABtJAAAAAAABEmkAAAAAAANSWQAAAAAAAdqJAMzMzMzN5lkAAAAAAAMCcQAAAAAAA1rxAAAAAAAAqrkAAAAAAAGiYQAAAAAAAIKhAMzMzMzN5lkAAAAAAAPCgQAAAAAAAAKNAAAAAAAAqoUAAAAAAgIzDQAAAAAAAFq9AAAAAAAAaoUAAAAAAgBnAQAAAAAAAVcdAAAAAAAB+oUAAAAAAAHKvQAAAAAAA/JlAAAAAAACCrEAzMzMzM3mWQAAAAAAAnKZAAAAAAABUmUAAAAAAAGilQAAAAAAAurVAAAAAAIDSykAAAAAAAIyiQAAAAAAAtqFAAAAAAADyt0AAAAAAAMG8QAAAAAAAhJhAAAAAAABomUAAAAAAANygQAAAAAAA1qFAAAAAAADco0AzMzMzM3mWQAAAAAAAPqJAAAAAAADEn0AAAAAAAIOyQAAAAAAAvbZAAAAAAAAMoUAAAAAAAO6pQAAAAAAAmqdAAAAAAMCI3EAzMzMzM3mWQAAAAAAAT7FAAAAAAAB2qEAAAAAAADiXQAAAAAAA8LhAAAAAAAA6oEAAAAAAAJCeQAAAAACA49dAAAAAAABKpUAAAAAAAAiXQAAAAAAATMNAAAAAAABGo0AAAAAAABW1QAAAAAAAVKpAAAAAAIDzxUAAAAAAAIChQAAAAAAAYqVAAAAAAABKsEAAAAAAwFPVQAAAAAAAHJ9AAAAAAMAY3UAzMzMzM3mWQAAAAABAp9dAAAAAAACmoEAAAAAAAMalQDMzMzMzeZZAAAAAAAAwpUAAAAAAAFqkQAAAAAAAMbRAAAAAAABWskAAAAAAAOCcQAAAAAAAl7dAAAAAAACItEAAAAAAALCaQAAAAAAAdJlAAAAAAEDs00AAAAAAAMCpQAAAAAAAfsFAMzMzMzN5lkAAAAAAAN6kQAAAAAAAeqNAAAAAAAD+pEAAAAAAAEChQAAAAAAAZLBAAAAAAICSyEAAAAAAgHjRQAAAAAAAKJ5AAAAAAICgwEAAAAAAgL/CQAAAAAAA8KhAAAAAAAC0pUAAAAAAALqpQAAAAAAAZLxAAAAAAADkmkAAAAAAABCvQAAAAAAAiJ5AAAAAAIDayEAAAAAAAASlQAAAAAAA3KZAAAAAAACGokAAAAAAAEe+QAAAAAAABJlAAAAAAADCokAAAAAAABahQAAAAAAANbJAAAAAAACXwEAAAAAAAKyhQAAAAAAAuqNAAAAAAAAko0AAAAAAAKyuQDMzMzMzeZZAAAAAAAC1skAAAAAAAGCmQAAAAAAA/7FAAAAAAADMnkAAAAAAAASXQAAAAAAA5qhAAAAAAADVtUAAAAAAAFSiQDMzMzMzeZZAAAAAAACInEAAAAAAAEChQAAAAAAAEJdAAAAAAADepkAAAAAAAKqyQDMzMzMzeZZAAAAAAIC3z0AAAAAAAOfGQDMzMzMzeZZAAAAAAACupEAAAAAAAHijQAAAAAAA5KJAAAAAAMBo0UAzMzMzM3mWQAAAAAAAkJtAAAAAAADAm0AzMzMzM3mWQAAAAAAATJdAAAAAAADwo0AAAAAAAGinQAAAAAAAlJpAAAAAAAA8r0AAAAAAAKKnQAAAAAAAZqlAAAAAAACup0AAAAAAYDfgQAAAAAAAHJ1AAAAAAAAGpUAAAAAAAOChQAAAAAAAqqpAAAAAAIA3zkAAAAAAANifQAAAAAAAhJ5AAAAAAABOsUAAAAAAAIyqQAAAAAAAlJ9AAAAAAAAyokAAAAAAAICaQAAAAAAAfrBAAAAAAADWuUAAAAAAAFKpQAAAAAAAbLBAAAAAAABEqUAAAAAAAFKjQAAAAAAA5LJAMzMzMzN5lkAzMzMzM3mWQDMzMzMzeZZAAAAAAIDByEAAAAAAAGihQAAAAAAA+qVAAAAAAAAuqUAAAAAAALqkQAAAAAAAcqVAAAAAAIDa4EAAAAAAAKijQAAAAAAAOJ1AAAAAAAC8rkAAAAAAALynQAAAAAAA+J5AAAAAAABcmUAAAAAAACCoQAAAAAAAgL9AAAAAAACQw0AAAAAAAKuxQAAAAAAAYJ5AAAAAAADDt0AAAAAAAPKiQAAAAAAAXqRAAAAAAACEnkAAAAAAALW2QDMzMzMzeZZAAAAAAADQmEAAAAAAAEqtQAAAAAAALK1AAAAAAAAQnEAAAAAAAC6pQAAAAAAAeKVAAAAAAAAgo0AAAAAAAOijQAAAAAAARJdAAAAAAIB8wUAAAAAAAOaoQAAAAAAAdJtAAAAAAABKpEAAAAAAAG+3QAAAAAAAQqxAAAAAAAAmqUAAAAAAgFHTQAAAAAAAtKNAAAAAAAD+qUAAAAAAAGSyQAAAAAAAQq1AAAAAAICUxkAAAAAAgI7AQAAAAAAAkKBAAAAAAABmpkAAAAAAAOqhQAAAAACA78BAAAAAAIDa4EAAAAAAAO6kQAAAAAAAMKlAMzMzMzN5lkAAAAAAAF2+QAAAAAAAi79AAAAAAADYp0AAAAAAAPy+QAAAAAAAZJtAAAAAAAC2tkAAAAAAABSfQAAAAAAAzJxAMzMzMzN5lkAAAAAAAF6nQAAAAAAArMJAAAAAAABwpEAAAAAAAPamQAAAAAAAGqhAAAAAAACbtEAAAAAAAHieQAAAAAAASqJAAAAAAABcrUAAAAAAAFSZQAAAAAAAYcVAAAAAAAC8qkAAAAAAAEioQAAAAAAABKlAAAAAAAD8nEAAAAAAANagQAAAAAAANrBAAAAAAABkoUAAAAAAACiZQAAAAAAA+J9AAAAAAAAMnEAAAAAAAOyXQAAAAAAAAJdAMzMzMzN5lkAAAAAAAIymQAAAAAAAlMNAAAAAAACAm0AAAAAAANSWQAAAAAAARMFAAAAAAAB0sUAAAAAAAKijQAAAAAAATJhAMzMzMzN5lkAAAAAAAEu0QAAAAAAA3dBAAAAAAADEmUAAAAAAACSZQAAAAAAAHKpAAAAAAAA9u0AAAAAAANPQQAAAAAAAqJ1AMzMzMzN5lkAAAAAAACKiQAAAAAAA+b9AAAAAAAAwqEAAAAAAAKKgQAAAAAAAbqRAAAAAAACqqEAAAAAAAKyaQAAAAAAAuJxAAAAAAACTtUAAAAAAAJqnQAAAAAAAlbxAAAAAAABitEAzMzMzM3mWQAAAAAAAtcVAAAAAAADMxEAAAAAAAECnQAAAAAAA5blAAAAAAAD4pUAAAAAAgATFQAAAAAAAwJ5AAAAAAAByrkAAAAAAAHGyQAAAAACA2uBAAAAAAAAepkAAAAAAABCiQAAAAAAAbsFAAAAAAACQl0AzMzMzM3mWQAAAAACA2dRAMzMzMzN5lkAAAAAAgF/EQDMzMzMzeZZAAAAAAABUokAzMzMzM3mWQAAAAAAAgqJAAAAAAACWrEAAAAAAANKgQAAAAAAAa8JAAAAAAIDa4EAAAAAAAHKuQAAAAACAy8ZAAAAAAIAzxkAAAAAAAB6kQAAAAAAA0qpAAAAAAACVvEAAAAAAAECxQAAAAAAAzJpAAAAAAACmrEAAAAAAAEidQDMzMzMzeZZAAAAAAACsmEAAAAAAAGiZQAAAAAAA8JhAAAAAAABYpEAAAAAAAD6qQAAAAAAAdqJAAAAAAABys0AAAAAAANagQAAAAAAAnq9AAAAAAAD5sEAAAAAAAPicQAAAAAAACLVAMzMzMzN5lkAAAAAAABW0QAAAAAAAEq9AAAAAAACWo0AAAAAAAB+8QAAAAAAAlK1AAAAAAAAkykAAAAAAAPiaQAAAAAAAcqZAMzMzMzN5lkAAAAAAAFybQAAAAAAACr1AMzMzMzN5lkAzMzMzM3mWQAAAAAAAwJ9AAAAAAAAvu0AAAAAAgAXAQAAAAAAAtbJAAAAAAABGp0AAAAAAAK6iQAAAAAAAYLxAAAAAAAD8sEAAAAAAAHSnQAAAAAAAQrBAAAAAAACUpUAAAAAAACKlQAAAAAAAPK1AAAAAAAAcmkAAAAAAAKSpQAAAAAAA5JdAAAAAAACao0AAAAAAAE6jQAAAAACACsNAMzMzMzN5lkAAAAAAADSzQAAAAAAA5qFAAAAAAADgl0AAAAAAgCvAQAAAAAAAObdAMzMzMzN5lkAAAAAAAASdQAAAAAAAHKhAAAAAAABMpEAAAAAAALe1QAAAAAAAir1AAAAAAAA2skAAAAAAALCmQAAAAAAA6KRAAAAAAACmtkAAAAAAANKkQAAAAAAATqJAAAAAAACWpUAAAAAAgIPEQAAAAAAAuKVAAAAAAAB0oUAAAAAAAMSZQAAAAAAAtbVAAAAAAAC6t0AAAAAAAACbQAAAAAAAyKdAAAAAAACRwEAzMzMzM3mWQAAAAAAAdK1AAAAAAAAmp0AAAAAAAPPGQAAAAAAA5JhAAAAAAAB7xEAAAAAAAPCgQAAAAAAAIrZAAAAAAIC3ykAAAAAAAL6gQAAAAAAAUbNAAAAAAAAEnkAAAAAAAHKnQAAAAAAAqKBAAAAAAAD8mUAAAAAAABCbQAAAAAAAuKRAAAAAAACts0AAAAAAAHe5QAAAAAAAVqJAAAAAAAAaoEAAAAAAAKyZQAAAAAAAr7NAAAAAAADGpkAAAAAAAIyXQAAAAAAAAqhAAAAAAAA9wEAAAAAAANylQAAAAABAcNRAAAAAAABom0AAAAAAAHGwQAAAAAAAIqNAAAAAAAAKskAAAAAAANiZQAAAAAAAIJhAAAAAAABErEAAAAAAANqqQAAAAAAATbdAAAAAAACopEAAAAAAADKrQAAAAAAAkKlAAAAAAACWp0AAAAAAACScQDMzMzMzeZZAAAAAAAC6pkAAAAAAAFCyQDMzMzMzeZZAMzMzMzN5lkAAAAAAANyZQDMzMzMzeZZAAAAAAACJskAzMzMzM3mWQAAAAAAAPrRAMzMzMzN5lkAAAAAAAL+wQAAAAAAAUJxAAAAAAAAAokAAAAAAgJvKQAAAAAAAmqVAAAAAAAAmrUAAAAAAAGqjQAAAAAAAHKNAAAAAAACQn0AAAAAAAEyhQAAAAAAATJxAAAAAAACGtEAAAAAAAHScQAAAAAAAoKdAAAAAAAAonkAAAAAAALSXQAAAAAAAoJ9AAAAAAICw0kAAAAAAwHDQQAAAAAAArbVAAAAAAADCoEAAAAAAAC6yQAAAAAAAzcFAAAAAAADGp0AAAAAAAA2yQAAAAAAAjKVAAAAAAAAwm0AAAAAAAEC+QAAAAAAALKpAAAAAAIDa4EAAAAAAAHSmQAAAAAAAoKZAAAAAAAAnwkAAAAAAgFbCQAAAAACAMsJAAAAAAAAcvUAAAAAAAGScQAAAAACAksNAAAAAAABQokAAAAAAAACoQAAAAAAAaJ5AAAAAAAD8lkAzMzMzM3mWQAAAAAAAMJdAAAAAAABCqUAAAAAAAESbQAAAAAAA+qxAAAAAAADgoEAzMzMzM3mWQAAAAAAAnKRAAAAAAADzw0AAAAAAAFCpQAAAAAAA2J9AMzMzMzN5lkAzMzMzM3mWQAAAAAAAr79AAAAAAAD1xEAAAAAAAHCmQAAAAAAAfJhAAAAAAABuvEAzMzMzM3mWQAAAAAAA7KhAAAAAAAD4lkAAAAAAABKoQAAAAAAAoq1AAAAAAAC0p0AAAAAAAH20QAAAAAAAIKdAAAAAAADMm0AAAAAAAFCZQAAAAAAALNVAAAAAAAAQp0AAAAAAAJyuQAAAAAAA7shAMzMzMzN5lkAAAAAAAK6pQAAAAAAAZq5AAAAAAACgr0AAAAAAAM6rQAAAAAAANqZAAAAAAACeoEAAAAAAAOWwQAAAAAAAfJpAAAAAAACwpEAAAAAAAFSkQAAAAAAATJxAAAAAAACMnUAAAAAAAIKmQAAAAAAAFqZAAAAAAAD+r0AAAAAAAAiaQDMzMzMzeZZAAAAAAAA6oUAAAAAAAJSmQAAAAACAWMRAAAAAAAB2okAAAAAAAIKoQAAAAAAALJdAAAAAAACCp0AAAAAAAN+zQAAAAAAAFJ5AAAAAAABCvEAAAAAAAB6gQAAAAAAAmrVAAAAAAADWrUAAAAAAAKqkQAAAAAAASLVAAAAAAABOq0AAAAAAAIq/QAAAAAAAXL5AAAAAAABoqEAAAAAAAPjAQAAAAACAOc9AAAAAAICCzUAAAAAAAFmzQAAAAAAAyNVAAAAAAACUnUAAAAAAAHChQAAAAAAAmJtAAAAAAACcrUAAAAAAAPi4QAAAAACAgsNAMzMzMzN5lkAAAAAAAP6jQAAAAACA2uBAMzMzMzN5lkAAAAAAAFKjQAAAAAAAbK9AAAAAAABsq0AAAAAAAFaiQAAAAAAAgJlAAAAAAADIl0AAAAAAAEqgQAAAAAAAtq1AAAAAAAC6qEAAAAAAABSyQAAAAAAAmqFAAAAAAAC+pEAAAAAAgGTUQAAAAAAA1KlAAAAAAAAIoEAAAAAAAJDAQAAAAAAAQqBAAAAAAAAdskAzMzMzM3mWQAAAAAAAuKpAAAAAAACwqkAAAAAAAPagQAAAAAAAzqVAAAAAAABdsUAAAAAAAOiXQDMzMzMzeZZAAAAAAABZtkAAAAAAAMKtQAAAAAAAgKtAAAAAAAAQmUAAAAAAAICZQAAAAAAAlK5AAAAAAAAwokAAAAAAgNrgQAAAAAAAVq5AMzMzMzN5lkAAAAAAADqpQAAAAAAAEKhAAAAAAAASpEAAAAAAAKWxQAAAAAAA6KFAAAAAAACco0AAAAAAAOiiQAAAAAAAHqVAAAAAAADOp0AAAAAAAJK9QAAAAAAAo7ZAAAAAAACElkAAAAAAAG6nQDMzMzMzeZZAMzMzMzN5lkAAAAAAAJqyQAAAAAAAwrJAAAAAAAC4oUAzMzMzM3mWQAAAAAAABsBAAAAAAACMnEAAAAAAANCvQAAAAAAAAJ9AAAAAAACWv0AAAAAAANCYQAAAAAAAAJhAAAAAAABssUAAAAAAgAvGQAAAAAAAzKpAAAAAAAB8m0AAAAAAAKq4QAAAAAAACLxAAAAAAADuoUAzMzMzM3mWQAAAAAAAzJxAAAAAAAAKoUAAAAAAAJKyQAAAAACA98VAAAAAAADBz0AAAAAAgNrgQAAAAAAAn7BAMzMzMzN5lkAAAAAAAKqnQAAAAACAwcFAAAAAAADsqUAAAAAAAPybQAAAAAAAUJlAAAAAAABAmEAAAAAAACCrQAAAAACAbsVAAAAAAEAL2UAAAAAAAKGwQAAAAAAAvKpAAAAAAABxs0AzMzMzM3mWQDMzMzMzeZZAAAAAAABSqkAAAAAAAMq7QAAAAAAAbsVAMzMzMzN5lkAAAAAAAByjQAAAAAAA3qpAAAAAAAB6p0AAAAAAAMSfQAAAAAAA3qJAAAAAAAC7s0AAAAAAAH6rQAAAAAAAB8RAAAAAAAD0nEAAAAAAQADcQAAAAAAAnJ1AAAAAAADkn0AzMzMzM3mWQAAAAAAAkJhAAAAAAADmqEAAAAAAAAO9QAAAAAAA0JZAAAAAAIDQ2EAAAAAAAL6gQAAAAAAAu8BAMzMzMzN5lkAAAAAAAMKpQAAAAAAAAKZAAAAAAICSxEAAAAAAAISiQAAAAAAAOJpAAAAAAABUl0AAAAAAAFyiQAAAAAAABKVAAAAAAAA6vEAAAAAAAMqoQAAAAAAAlKZAAAAAAADiqUAAAAAAAIKkQAAAAAAAqJxAAAAAAAA0qUAAAAAAAMSqQAAAAAAA/KBAAAAAAADurkAAAAAAAE6hQAAAAAAA/KVAAAAAAAAdu0AAAAAAAIqpQAAAAAAAyKhAAAAAAAAoo0AAAAAAAM6zQAAAAAAA6JZAAAAAAAD2okAAAAAAwJPRQAAAAAAAybFAAAAAAAASp0AAAAAAAAuxQAAAAAAAmJ1AAAAAAABioEAAAAAAAPyeQAAAAAAARKFAAAAAAADHvkAAAAAAABCqQAAAAAAA+JpAAAAAAADKpkAAAAAAAJ6nQAAAAAAA7J1AAAAAAAAOs0AAAAAAACSgQAAAAAAA6KBAAAAAAABquEAAAAAAADCXQAAAAAAAbrJAAAAAAADGoUAzMzMzM3mWQAAAAAAAxqxAAAAAAABEpUAAAAAAgNrgQAAAAAAAMKBAAAAAAADvuEAAAAAAAEqlQAAAAAAA5qRAMzMzMzN5lkAAAAAAAFPKQAAAAAAAMqZAAAAAAACYnEAAAAAAAHCiQAAAAAAACq1AMzMzMzN5lkAAAAAAAOKhQAAAAAAA2rRAMzMzMzN5lkAAAAAAAMihQAAAAAAA9q9AAAAAAACsrUAAAAAAAMibQAAAAAAA0KZAAAAAAABInkAAAAAAAKKvQDMzMzMzeZZAAAAAAABAxUAAAAAAAPaqQAAAAABAQ9RAAAAAAABio0AAAAAAAN6iQDMzMzMzeZZAAAAAAACwvUAzMzMzM3mWQAAAAAAAUqRAAAAAAACCpEAAAAAAAMq1QAAAAAAA5KxAMzMzMzN5lkAAAAAAAAycQAAAAAAANJ5AAAAAAECI2kAAAAAAAH6iQAAAAAAACrZAAAAAAABOqUAAAAAAAMCnQAAAAAAAwKxAAAAAAADsm0AAAAAAAJCyQAAAAAAAqJpAAAAAAACnv0AAAAAAAGitQAAAAAAAdLVAAAAAAADEq0AAAAAAAMSoQAAAAAAAQKNAAAAAAADKqkAAAAAAAJSfQAAAAAAAGKNAAAAAAAB+pUAAAAAAgJzBQAAAAAAAdqBAAAAAAAC0n0AAAAAAIAHgQAAAAAAA/7FAAAAAAIDv1kAAAAAAADSfQAAAAAAAkKhAAAAAAABKpUAAAAAAAEidQAAAAAAA37tAAAAAAABmqkAAAAAAAOilQAAAAABAKtBAAAAAAACMoUAAAAAAAHamQAAAAAAAqKxAAAAAAABKpkAAAAAAAJyiQAAAAAAAHKZAAAAAAMBm2EAAAAAAAPKsQAAAAAAALJpAAAAAAAB8lkAAAAAAAFixQAAAAAAABqRAAAAAAACgnUAAAAAAAByhQAAAAAAASKRAAAAAAABksEAAAAAAAECZQAAAAAAA2rlAAAAAAABao0AAAAAAAMCnQAAAAAAAWbJAAAAAAABUsUAAAAAAAKnJQDMzMzMzeZZAAAAAAADCqUAAAAAAAIC4QAAAAAAA6LVAAAAAAABZw0AAAAAAAFSZQAAAAAAAAqJAAAAAAICawkAAAAAAAIayQAAAAAAAwKhAAAAAAAD2pkAAAAAAAEilQAAAAAAATrtAAAAAAAA4nUAzMzMzM3mWQAAAAAAAFbJAAAAAAIDa4EAAAAAAAFiYQAAAAACAkslAMzMzMzN5lkAAAAAAAGOxQAAAAAAAGrlAAAAAAACSpUAAAAAAAMigQAAAAAAAaqNAAAAAAACEqkAAAAAAAE6qQAAAAAAAOrBAAAAAAADUoEAAAAAAAJSjQAAAAAAAuJtAAAAAAACuqUAAAAAAAHScQAAAAACA2uBAAAAAAACcrkAAAAAAAE+1QAAAAAAAiKJAAAAAAABQl0AAAAAAADiYQAAAAAAA2qRAAAAAAADeqUAAAAAAAPinQAAAAAAAQqVAAAAAAADUp0AAAAAAADiqQAAAAAAArqRAAAAAAADOokAAAAAAAHKhQAAAAACAWt9AAAAAAABSoEAAAAAAABKhQAAAAAAAsq9AAAAAAADeqEAAAAAAABalQAAAAAAAstBAAAAAAACipkAAAAAAAKi5QAAAAAAAWJlAMzMzMzN5lkAAAAAAADSaQAAAAAAAzL5AAAAAAAAQnUAAAAAAAIq/QAAAAAAAmKBAAAAAAACqqkAAAAAAAAShQAAAAAAAHKNAAAAAAAD+rkAAAAAAADKwQAAAAACA2uBAAAAAAAA0nUAAAAAAAPCgQAAAAAAAYKBAAAAAAAB9vEAzMzMzM3mWQDMzMzMzeZZAAAAAAAD0oUAAAAAAAOqtQAAAAAAAtJdAAAAAAIA5ykAAAAAAwFrQQAAAAAAAY8NAAAAAAAAGpUAAAAAAAMCWQAAAAAAAVJ9AAAAAAAC2skAAAAAAAGaoQAAAAAAAX7VAAAAAAACzykAAAAAAAAirQAAAAAAABKlAMzMzMzN5lkAAAAAAAPChQAAAAAAAEJdAAAAAAID/x0AAAAAAAEyjQAAAAADA29dAAAAAAAB4nkAAAAAAANe5QAAAAAAAfLZAMzMzMzN5lkAzMzMzM3mWQAAAAAAA4J1AAAAAAADFsUAAAAAAAOyeQAAAAAAA5qVAAAAAAADoo0AAAAAAAMSWQDMzMzMzeZZAAAAAAADwnkAAAAAAAFChQAAAAAAAprBAAAAAAAAapEAAAAAAADe1QAAAAAAAKKhAAAAAAABQp0AAAAAAABShQAAAAAAA2qRAAAAAAAD0m0AAAAAAACamQAAAAAAAWJhAAAAAAACDvEAAAAAAAMirQDMzMzMzeZZAAAAAAACMl0AAAAAAAH+9QAAAAAAASKNAAAAAAACmo0AAAAAAALrBQAAAAACA5cRAAAAAAAB8lkAAAAAAACy8QAAAAAAAIqhAAAAAAAD5xUAAAAAAAASaQAAAAAAAMKNAAAAAAID+xkAzMzMzM3mWQAAAAAAAQKhAAAAAAABCokAAAAAAALivQAAAAAAAyKpAAAAAAIBTyUAAAAAAACyiQAAAAAAAGLFAAAAAAIDkyEAAAAAAAPibQAAAAAAAMqdAAAAAAABqs0AAAAAAABi1QAAAAAAAKqBAAAAAAADwqEAAAAAAAHKgQAAAAAAAUJ1AAAAAAADYlkAAAAAAAF6iQAAAAAAA3JpAMzMzMzN5lkAAAAAAAKijQAAAAAAAE7NAAAAAAACqqkAAAAAAAPCcQAAAAAAAFqpAAAAAAACSrUAAAAAAAGihQAAAAAAAVKxAAAAAAAAkoUAAAAAAANKkQAAAAAAAGKNAAAAAAAAOqkAAAAAAAEylQAAAAAAABJpAAAAAAABcpUAAAAAAAPyaQAAAAABA5dJAAAAAAIAwykAzMzMzM3mWQAAAAAAAurhAAAAAAAAepEAAAAAAAH6qQAAAAAAAsrRAAAAAAADYo0AAAAAAAPrLQAAAAAAAeKZAAAAAAACAl0AAAAAAALycQAAAAAAAVJpAAAAAAADyskAAAAAAADCmQAAAAAAAQqdAAAAAAIDa4EAAAAAAAKSeQAAAAAAA2KBAAAAAAACopUAAAAAAACCmQAAAAAAAQJhAAAAAAADauEAAAAAAgEjGQAAAAAAAtJ5AAAAAAABYmUAAAAAAACCbQAAAAACAPcFAAAAAAACw10AAAAAAAOydQDMzMzMzeZZAAAAAAABYn0AAAAAAANq1QAAAAAAAYqtAAAAAAAAMmkAAAAAAAJCZQAAAAAAAoqlAAAAAAAAUl0AAAAAAAMSdQAAAAAAAArhAAAAAAADgpEAAAAAAADnKQAAAAAAAyMFAAAAAAACX3UAAAAAAALC7QAAAAAAAQJ1AAAAAAAB0pkAAAAAAAGu6QAAAAADAztdAAAAAAABmpkAAAAAAALrJQAAAAAAAMqFAAAAAAAB6qUAAAAAAAKOzQAAAAAAATJxAAAAAAABCo0AAAAAAAKC9QAAAAAAAwq9AAAAAAIBA3EAAAAAAAGOzQAAAAAAAAqBAAAAAAABcnkAAAAAAADqrQAAAAADA6NZAAAAAAAAEokAAAAAAQMDRQAAAAAAAaKlAAAAAAACcpkAAAAAAgNrgQAAAAACA2uBAAAAAAIDa4EAAAAAAAJ++QAAAAACAG9BAAAAAAABQuEAAAAAAAL63QAAAAACA0tRAAAAAAADYmEAAAAAAAAifQAAAAAAAgc5AAAAAAADY4EAAAAAAAOCjQAAAAAAAnbJAAAAAAMAx0EAAAAAAAAm4QAAAAACAOc9AAAAAAAATtEAAAAAAALqqQAAAAAAAfMVAAAAAAAB0o0AAAAAAgNrgQAAAAAAAdKNAAAAAAAAOoEAAAAAAAATMQAAAAAAA+qpAAAAAAADU00AAAAAAgC3AQAAAAAAAG8ZAAAAAAACgokAAAAAAgEfHQAAAAAAACKdAAAAAAAAVtUAAAAAAAAPIQAAAAAAAVbxAAAAAAIBo1UAAAAAAAEbKQAAAAADAJ9hAAAAAAABOs0AAAAAAgD7NQAAAAADAQdNAAAAAAID+3EAAAAAAAF+6QAAAAAAAhsJAAAAAAADtsEAAAAAAAGKjQAAAAAAA5qdAAAAAAIDa4EAAAAAAgJbYQAAAAAAAAbxAAAAAAADM0UAAAAAAgNrgQAAAAAAAzbJAAAAAAEBh2EAAAAAAgIzIQAAAAACA2uBAAAAAAIAhwEAAAAAAAPbKQAAAAAAARLZAAAAAAAAwuUAAAAAAAGe1QAAAAAAASq1AAAAAAICA3UAAAAAAAK+2QAAAAAAAKqxAAAAAAECt0EAAAAAAAAS1QAAAAACA2uBAAAAAAAAS20AAAAAAQOnRQAAAAAAAENtAAAAAAIAuwEAAAAAAAD7TQAAAAABA09RAAAAAAIDa4EAAAAAAAIW7QAAAAAAAGsxAAAAAAABErkAAAAAAAJCyQAAAAACA2uBAAAAAAAA8vUAAAAAAgNrgQAAAAACA2uBAAAAAAADo0UAAAAAAAKahQAAAAAAA3cRAAAAAAIDFwEAAAAAAAHa1QAAAAAAAaJ5AAAAAAABUuEAAAAAAAHG9QAAAAACAlMpAAAAAAIDa4EAAAAAAgNrgQAAAAACAOc9AAAAAAACuokAAAAAAgNrgQAAAAADAUtRAAAAAAIDa4EAAAAAAAC6tQAAAAAAAxqFAAAAAAAC2vEAAAAAAAOSdQAAAAAAAmbBAAAAAAACwoEAAAAAAAIPSQAAAAACAQspAAAAAAICJwUAAAAAAABK6QAAAAAAAebhAAAAAAIDa4EAAAAAAgNrgQAAAAACAtslAAAAAAIBzw0AAAAAAgA3CQAAAAAAAgbJAAAAAAAAspUAAAAAAAECfQAAAAACA2uBAAAAAAAAvwUAAAAAAgBfYQAAAAABA59ZAAAAAAIDa4EAAAAAAAPu3QAAAAAAA6MxAAAAAAIArw0AAAAAAAJ6uQAAAAACA9MdAAAAAAABwqUAAAAAAAI7SQAAAAACA2uBAAAAAAIDGyUAAAAAAwBHWQAAAAABA6NZAAAAAAAB2tEAAAAAAANLeQAAAAAAASrhAAAAAAIDa4EAAAAAAAOHcQAAAAAAAbqVAAAAAAAA4pkAAAAAAAOfCQAAAAACAQNpAAAAAAABXtEAAAAAAAF3NQAAAAAAARqhAAAAAAADbx0AAAAAAgIfWQAAAAAAA7qBAAAAAAIDa4EAAAAAAAO+6QAAAAACASdlAAAAAAACEqEAAAAAAgIvHQAAAAAAANNBAAAAAAIDa4EAAAAAAADTgQAAAAACAAMVAAAAAAIBzw0AAAAAAACqgQAAAAAAAMcZAAAAAAIDa4EAAAAAAQIjTQAAAAAAAKcFAAAAAAADmu0AAAAAAAH2xQAAAAAAA7bRAAAAAAIDa4EAAAAAAAH6iQAAAAACA2tZAAAAAAADrsUAAAAAAAKW5QAAAAAAAjrdAAAAAAABGu0AAAAAAAAi0QAAAAACAXsJAAAAAAIDa4EAAAAAAAJvMQAAAAAAAkchAAAAAAAASsUAAAAAAALCqQAAAAAAAULhAAAAAAID6xEAAAAAAgNrgQAAAAACA2uBAAAAAAACqt0AAAAAAgLjAQAAAAACAc8NAAAAAAADdvUAAAAAAAAieQAAAAAAA+bVAAAAAAADEoUAAAAAAgNrgQAAAAAAAZ8JAAAAAAAAtvUAAAAAAABKuQAAAAACA2uBAAAAAAACqskAAAAAAgNrgQAAAAAAAMLRAAAAAAAD+qEAAAAAAgI3UQAAAAACA2uBAAAAAAACMuUAAAAAAAM2/QAAAAAAgVOBAAAAAAAB4tUAAAAAAAKStQAAAAAAAmbZAAAAAAMDu0kAAAAAAACymQAAAAAAA7K9AAAAAAMA830AAAAAAgKnBQAAAAAAAvMVAAAAAAADsp0AAAAAAQGvXQAAAAACA2uBAAAAAAICJ1UAAAAAAAC6hQAAAAACAK8JAAAAAAIDa4EAAAAAAAI69QAAAAACAJ8ZAAAAAAICZzUAAAAAAgBXFQAAAAAAA6blAAAAAAAC+wEAAAAAAgNrgQAAAAACA2uBAAAAAAIAXzUAAAAAAAJikQAAAAACAk8JAAAAAAABIxUAAAAAAgGjAQAAAAAAAO8hAAAAAAABxukAAAAAAAGKlQAAAAAAAid9AAAAAAIDa4EAAAAAAgDnPQAAAAACA2uBAAAAAAAAKo0AAAAAAAM2xQAAAAACAYsVAAAAAAABPxEAAAAAAQNbVQAAAAAAAAq5AAAAAAIDa4EAAAAAAgNrgQAAAAACAPsVAAAAAAADYtkAAAAAAAJDGQAAAAACAPsdAAAAAAADCoUAAAAAAABSoQAAAAAAAKcJAAAAAAAAosEAAAAAAgDfIQAAAAAAAW81AAAAAAAApuUAAAAAAAC29QAAAAAAA4qtAAAAAAAC6pUAAAAAAgNrgQAAAAAAATrBAAAAAAMCt1kAAAAAAACq7QAAAAAAA4LtAAAAAAABwnEAAAAAAAPKmQAAAAAAA7LlAAAAAAEDC3kAAAAAAgNrgQAAAAAAAnJ5AAAAAAIDa4EAAAAAAAHm+QAAAAAAAN7lAAAAAAIAnxkAAAAAAQGvXQAAAAAAAfqZAAAAAAADzvUAAAAAAgNrgQAAAAAAAObpAAAAAAAB0xUAAAAAAgNrgQAAAAACAhNZAAAAAAIAx0UAAAAAAgNrgQAAAAAAAlNFAAAAAAACutUAAAAAAAFSZQAAAAAAAWKlAAAAAAACotkAAAAAAAOyjQAAAAACA2uBAAAAAAAA9xUAAAAAAgOTKQAAAAACAedFAAAAAAABUzUAAAAAAAKbBQAAAAACABslAAAAAAAA0skAAAAAAgNrgQAAAAAAAu8lAAAAAAADlxUAAAAAAwOXeQAAAAACA2uBAAAAAAIDa4EAAAAAAAHSjQAAAAACA0dlAAAAAAABQvUAAAAAAgNrgQAAAAACA2uBAAAAAAABkzUAAAAAAgEbCQAAAAAAAjsZAAAAAAIAfwUAAAAAAALq0QAAAAAAAMKxAAAAAAIA5z0AAAAAAgAnfQAAAAACA2uBAAAAAAMCo0kAAAAAAgNrgQAAAAADAPdVAAAAAAAD2vkAAAAAAgNrgQAAAAAAAVNtAAAAAAMDs10AAAAAAAFqhQAAAAAAA4rZAAAAAAICt2kAAAAAAABPDQAAAAAAAEdpAAAAAAIDa4EAAAAAAAC3NQAAAAAAAPeBAAAAAAIDa4EAAAAAAAJ+2QAAAAAAAHqJAAAAAAIBI0UAAAAAAgNrgQAAAAAAAUrlAAAAAAMCH0kAAAAAAgNrgQAAAAAAAXqNAAAAAAABNs0AAAAAAgNrgQAAAAAAAE8BAAAAAAIC01UAAAAAAAC3cQAAAAAAA7bpAAAAAAADlvUAAAAAAADbaQAAAAAAAxbFAAAAAAABv0EAAAAAAAIK5QAAAAAAAvcZAAAAAAAAOtUAAAAAAAH27QAAAAAAAY8BAAAAAAACUoEAAAAAAAOSqQAAAAAAAGLpAAAAAAIDa4EAAAAAAAEy8QAAAAACA2uBAAAAAAABYo0AAAAAAAIyfQAAAAAAAG8FAAAAAAADXt0AAAAAAAOygQAAAAAAA8qpAAAAAAABQp0AAAAAAADzKQAAAAAAAJ8VAAAAAAADipEAAAAAAgNrgQAAAAABAJtRAAAAAAAC3wUAAAAAAAFnHQAAAAACA2uBAAAAAAAB/sUAAAAAAAACvQAAAAAAATqRAAAAAAACtw0AAAAAAgErFQAAAAACAQsBAAAAAAIDa4EAAAAAAgNrgQAAAAAAAHLxAAAAAAIDa4EAAAAAAgNrgQAAAAADAE+BAAAAAAACm0UAAAAAAQPXXQAAAAAAACrNAAAAAAIAsyUAAAAAAAGu9QAAAAAAAuJxAAAAAAEBp3UAAAAAAAAu0QAAAAACA2uBAAAAAAICx10AAAAAAgNrgQAAAAAAA2bxAAAAAAAA51EAAAAAAgHTLQAAAAACA2uBAAAAAAACs0EAAAAAAQCLZQAAAAAAARqFAAAAAAICN0EAAAAAAgGHNQAAAAACAptxAAAAAAAA02UAAAAAAAJChQAAAAAAArKxAAAAAAIBOwUAAAAAAgNrgQAAAAAAATr9AAAAAAACmpUAAAAAAgNrgQAAAAACAX8BAAAAAAIACzkAAAAAAAMKmQAAAAAAAjLJAAAAAAIDa4EAAAAAAAGKkQAAAAAAAesZAAAAAAAC4okAAAAAAwIvSQAAAAAAATsVAAAAAAICRzEAAAAAAAFahQAAAAAAAItlAAAAAAAA9v0AAAAAAAEKmQAAAAADAitxAAAAAAIDa4EAAAAAAAFXIQAAAAAAAe71AAAAAAIDa4EAAAAAAgNrEQAAAAAAASKJAAAAAAEBr10AAAAAAALm4QAAAAAAAYLNAAAAAAIDa4EAAAAAAgDnPQAAAAAAAWKlAAAAAAACCvEAAAAAAwKTbQAAAAAAA/KJAAAAAAADivUAAAAAAACu5QAAAAAAAFspAAAAAAABDskAAAAAAAAKhQAAAAACA2uBAAAAAAAAKpkAAAAAAAHG6QAAAAACA2uBAAAAAAAB33UAAAAAAAD6+QAAAAAAAE8dAAAAAAMAD3EAAAAAAQA3ZQAAAAAAAYbJAAAAAAICz0kAAAAAAgNrgQAAAAACA+sZAAAAAAMA80EAAAAAAgHjKQAAAAAAAasZAAAAAAAA+tEAAAAAAgHzWQAAAAABAC9JAAAAAAIAw3UAAAAAAADHAQAAAAACAo89AAAAAAAAWrUAAAAAAgMvIQAAAAACA2uBAAAAAAMCq3UAAAAAAgEnDQAAAAACA2uBAAAAAAABQpEAAAAAAgNrgQAAAAAAA3cdAAAAAAIDa4EAAAAAAgD7VQAAAAAAAZsBAAAAAAIA5z0AAAAAAAJ/HQAAAAAAABKdAAAAAAABl0UAAAAAAgNfKQAAAAABAa9dAAAAAAIDUzkAAAAAAAI6nQAAAAAAAjtJAAAAAAADhxkAAAAAAgL/FQAAAAACA2uBAAAAAAIDa4EAAAAAAgOXJQAAAAAAAHLZAAAAAAMDO1kAAAAAAgD/UQAAAAAAAWKNAAAAAAIDa4EAAAAAAAIC9QAAAAAAAk8xAAAAAAADAt0AAAAAAQO/bQAAAAAAAjKZAAAAAAIDa4EAAAAAAADHFQAAAAAAArddAAAAAAIDQ0EAAAAAAAM3MQAAAAACA2uBAAAAAAEDT4EAAAAAAgNrgQAAAAACATMJAAAAAAEA11kAAAAAAAMvBQAAAAACA2uBAAAAAAEDf0EAAAAAAgNrgQAAAAACgY+BAAAAAAAC000AAAAAAAE6tQAAAAAAArqNAAAAAAICFyUAAAAAAAI6qQAAAAACAhMZAAAAAAAD7wEAAAAAAANi5QAAAAACAZcZAAAAAAIDmzkAAAAAAgNrgQAAAAACA2c5AAAAAAABKqEAAAAAAgELBQAAAAAAAl7lAAAAAAADYo0AAAAAAAK6/QAAAAAAAArhAAAAAAAB4oUAAAAAAAP6sQAAAAAAARKBAAAAAAIBzw0AAAAAAAInSQAAAAAAAOM5AAAAAAID+1EAAAAAAANakQAAAAAAAw7BAAAAAAABOrkAAAAAAgPLIQAAAAAAAULhAAAAAAAC9wkAAAAAAAHPIQAAAAAAAvqVAAAAAAAB6rUAAAAAAQNTSQAAAAAAA68xAAAAAAAAxvUAAAAAAAEioQAAAAACA2uBAAAAAAIAX20AAAAAAgHHMQAAAAAAAF8RAAAAAAABvvkAAAAAAACqtQAAAAACA2uBAAAAAAAAozEAAAAAAgNrgQAAAAACAgMdAAAAAAIDa4EAAAAAAAFapQAAAAACAEMNAAAAAAABbtkAAAAAAgG3DQAAAAAAAHqxAAAAAAAC0yEAAAAAAANyxQAAAAAAAaq9AAAAAAEAA2UAAAAAAANXYQAAAAAAAeLBAAAAAAACIqEAAAAAAQKrUQAAAAAAA9bZAAAAAAAC5wUAAAAAAAC6wQAAAAAAAoKhAAAAAAIA5z0AAAAAAgGvBQAAAAADAV9hAAAAAAADYqUAAAAAAAA24QAAAAAAgjOBAAAAAAABi4EAAAAAAgNrgQAAAAACAItNAAAAAAAC1vEAAAAAAgOnMQAAAAAAAoKtAAAAAAEDh0kAAAAAAgKrGQAAAAAAAAqpAAAAAAADyrkAAAAAAAFe3QAAAAAAALq1AAAAAAACUtkAAAAAAQLHSQAAAAAAACqtAAAAAAIC03EAAAAAAgK7XQAAAAACAn89AAAAAAABdvEAAAAAAAG6vQAAAAAAAaK1AAAAAAABurUAAAAAAAAe5QAAAAAAAvrZAAAAAAOB14EAAAAAAwPTeQAAAAAAAyqpAAAAAAABNwUAAAAAAAJi7QAAAAACAP85AAAAAAAAgrEAAAAAAgNrgQAAAAACA2uBAAAAAAAB0o0AAAAAAwIngQAAAAACA2uBAAAAAAAA010AAAAAAAEqvQAAAAADAjdxAAAAAAIDa4EAAAAAAAH6qQAAAAAAA9rFAAAAAAIDa4EAAAAAAANaqQAAAAAAAIdFAAAAAAICc3kAAAAAAAPawQAAAAAAABK5AAAAAAACSrUAAAAAAAI26QAAAAAAA6cJAAAAAAADuqUAAAAAAAPC9QAAAAACAyN1AAAAAAIB+00AAAAAAgOXUQAAAAAAAirJAAAAAAID000AAAAAAwNbcQAAAAAAAJK1AAAAAAADgxEAAAAAAADyyQAAAAABAMdZAAAAAAADbv0AAAAAAgNbRQAAAAAAAfsRAAAAAAADsuEAAAAAAwJvSQAAAAAAAKqtAAAAAAACaqUAAAAAAgNrgQAAAAAAAQKxAAAAAAAAKr0AAAAAAAN6wQAAAAAAA7L1AAAAAAAB2q0AAAAAAgADKQAAAAAAAvbFAAAAAAAAuwEAAAAAAAHCtQAAAAAAAF8xAAAAAAAAXxUAAAAAAQGvXQAAAAABAMtZAAAAAAIAF20AAAAAAAL6qQAAAAABAiuBAAAAAAADOqEAAAAAAACu/QAAAAACAt8pAAAAAAIDXzEAAAAAAgNrgQAAAAAAAKrJAAAAAAAAQrEAAAAAAwMXfQAAAAAAAHKlAAAAAAADTskAAAAAAQAzQQAAAAAAAx8dAAAAAAAAHwkAAAAAAANO6QAAAAACA2uBAAAAAAICf0UAAAAAAAAC+QAAAAAAAkb5AAAAAAACKs0AAAAAAgNrgQAAAAAAAk7JAAAAAAACW1UAAAAAAgFvcQAAAAAAADLJAAAAAAIDa4EAAAAAAgGPGQAAAAAAAULhAAAAAAADN0kAAAAAAgNrgQAAAAAAAQKlAAAAAAIDa4EAAAAAAQGvXQAAAAAAA1rJAAAAAAIDa4EAAAAAAAKLHQAAAAACA/NNAAAAAAMB30UAAAAAAwNnWQAAAAAAAcclAAAAAAACpzkAAAAAAANa1QAAAAADAKdFAAAAAAADW3EAAAAAAgNrgQAAAAAAAM7BAAAAAAABnyEAAAAAAgNrgQAAAAACAMcpAAAAAAIDa4EAAAAAAgDvRQAAAAACAuMVAAAAAAAANsEAAAAAAACC4QAAAAAAAoLFAAAAAAOAC4EAAAAAAAKSyQAAAAAAAtcRAAAAAAAARv0AAAAAAAFa/QAAAAACA2uBAAAAAAADCwUAAAAAAAKW1QAAAAAAAJLxAAAAAAADEsUAAAAAAACiuQAAAAACAesxAAAAAAAAYqEAAAAAAgCvIQAAAAABAa9dAAAAAAIAT00AAAAAAQHTWQAAAAACA2uBAAAAAAACezUAAAAAAAD+8QAAAAACA2uBAAAAAAIDa4EAAAAAAgP/BQAAAAACA19hAAAAAAABerUAAAAAAAKqnQAAAAAAAa7BAAAAAAIAF1UAAAAAAgNfHQAAAAABAVt9AAAAAAACqq0AAAAAAAOO7QAAAAAAAqqxAAAAAAADjtkAAAAAAAHXOQAAAAACA2uBAAAAAAAAwukAAAAAAQKjfQAAAAAAAhKVAAAAAAEBK20AAAAAAgNrgQAAAAAAAurtAAAAAAAAZyEAAAAAAwE/QQAAAAADARtBAAAAAAAAU0kAAAAAAgJnLQAAAAAAAmKlAAAAAAIDa4EAAAAAAAFqsQAAAAACAhclAAAAAAAAKrkAAAAAAAJ/HQAAAAACA2uBAAAAAAAAAykAAAAAAABSrQAAAAACAu81AAAAAAIDa4EAAAAAAAGW3QAAAAAAAp7RAAAAAAACywUAAAAAAAHuyQAAAAAAAj8JAAAAAAIAK3UAAAAAAAJyuQAAAAAAA0K5AAAAAAACxuUAAAAAAgNrgQAAAAACA2uBAAAAAAADvwEAAAAAAgMrfQAAAAACARcBAAAAAAABO30AAAAAAAFLOQAAAAAAAVK9AAAAAAACWqUAAAAAAQOvRQAAAAAAAeKpAAAAAAABer0AAAAAAgPvCQAAAAAAAUrBAAAAAAAAurUAAAAAAACjdQAAAAAAAgcZAAAAAAACyqEAAAAAAANvMQAAAAACA2uBAAAAAAAD+s0AAAAAAAK3MQAAAAAAASKhAAAAAAAAuqUAAAAAAAPHbQAAAAAAAULhAAAAAAICR10AAAAAAQEbbQAAAAAAAkqxAAAAAAIAgwEAAAAAAwILWQAAAAACA+8xAAAAAAABWrUAAAAAAACyuQAAAAAAAc71AAAAAAACuxEAAAAAAABDHQAAAAAAASM5AAAAAAICdx0AAAAAAAP3KQAAAAAAAWrFAAAAAAACitEAAAAAAgNrgQAAAAACA2uBAAAAAAIA4xEAAAAAAgHPDQAAAAAAAiLhAAAAAAAC/ykAAAAAAAHbBQAAAAAAAkrlAAAAAAMDS30AAAAAAAGnGQAAAAACA2uBAAAAAAIB7wkAAAAAAAITIQAAAAADAK9VAAAAAAICRxEAAAAAAACmzQAAAAACA2uBAAAAAAIDa4EAAAAAAgJDDQAAAAAAAFt9AAAAAAADTtkAAAAAAYM/gQAAAAACA2uBAAAAAAIDa4EAAAAAAgNrgQAAAAAAAq7JAAAAAAACYsEAAAAAAAMC+QAAAAAAAvbdAAAAAAABUrkAAAAAAACe8QAAAAAAA6bdAAAAAAIDa4EAAAAAAAJ6rQAAAAACA2uBAAAAAAIDa4EAAAAAAAFC4QAAAAAAA7cFAAAAAAADosEAAAAAAgHPDQAAAAAAA0cJAAAAAAECW0kAAAAAAANjAQAAAAAAA7qtAAAAAAACEtUAAAAAAAO+2QAAAAACAuc1AAAAAAIDa4EAAAAAAANO/QAAAAAAAiqtAAAAAAID3wkAAAAAAAC/GQAAAAAAAbbpAAAAAAAB1skAAAAAAAOasQAAAAACA2uBAAAAAAIBJwUAAAAAAAJ3AQAAAAAAA5KpAAAAAAAAmrUAAAAAAAEC+QAAAAAAAVLdAAAAAAIA01UAAAAAAAFaqQAAAAAAApcJAAAAAAAAQrkAAAAAAgPfBQAAAAACAIspAAAAAAAAipkAAAAAAgH7NQAAAAAAAJqxAAAAAAAAksEAAAAAAAA6xQAAAAAAA8LdAAAAAAIDa4EAAAAAAAOK6QAAAAAAAWcpAAAAAAICO0UAAAAAAANqtQAAAAAAAUKxAAAAAAACWrUAAAAAAAA+yQAAAAAAA97BAAAAAAADs0EAAAAAAALatQAAAAABAVNdAAAAAAIDa4EAAAAAAAD6vQAAAAAAAA8dAAAAAAAAoqUAAAAAAAAfDQAAAAAAAUrBAAAAAAIDa4EAAAAAAwDDaQAAAAAAAtsJAAAAAAAAEv0AAAAAAgNrgQAAAAAAAHqtAAAAAAAAtzUAAAAAAAHzLQAAAAAAAHM9AAAAAAIBP1EAAAAAAAAzDQAAAAAAARKlAAAAAAABD2EAAAAAAACSoQAAAAACAa8NAAAAAAABwqkAAAAAAAHCsQAAAAACA2uBAAAAAAADlw0AAAAAAgDnPQAAAAADAldBAAAAAAIDa4EAAAAAAgNrgQAAAAACA2uBAAAAAAACssEAAAAAAAP7EQAAAAACA+d5AAAAAAIBzw0AAAAAAgNrgQAAAAAAAPcdAAAAAAIDa4EAAAAAAAIDJQAAAAAAAWctAAAAAAAB8tUAAAAAAgLLAQAAAAAAAJrFAAAAAAABN2EAAAAAAAA6sQAAAAAAA6bJAAAAAAACWsEAAAAAAAC29QAAAAACARd1AAAAAAAA91EAAAAAAwJXUQAAAAAAAEK1AAAAAAICixUAAAAAAAHzHQAAAAAAAXrFAAAAAAIDa4EAAAAAAgHvGQAAAAACA2uBAAAAAAAC+0kAAAAAAAAioQAAAAAAAZLBAAAAAAABWqUAAAAAAgCHRQAAAAACgFuBAAAAAAIB+30AAAAAAgNrgQAAAAABAa9dAAAAAAAD0r0AAAAAAAJuwQAAAAAAAF7BAAAAAAIArykAAAAAAALfBQAAAAAAALb1AAAAAAIAo10AAAAAAAHi0QAAAAAAAQK1AAAAAAAB1zkAAAAAAgIDAQAAAAACA2uBAAAAAAIBzw0AAAAAAAGCwQAAAAAAAsKpAAAAAAAD0qUAAAAAAgMTLQAAAAACA8dBAAAAAAADsykAAAAAAANqoQAAAAAAAzbRAAAAAAEBr10AAAAAAAKCuQAAAAAAAJrRAAAAAAADRs0AAAAAAANSvQAAAAAAAFsRAAAAAAIDa4EAAAAAAgNrgQAAAAAAAPq9AAAAAAAAYq0AAAAAAAD7HQAAAAACA8sJAAAAAAIDa4EAAAAAAALu3QAAAAACAdclAAAAAAIDm0EAAAAAAgDnPQAAAAACA2uBAAAAAAIDa4EAAAAAAAC29QAAAAAAAO8lAAAAAAADqr0AAAAAAAPKsQAAAAAAAx7RAAAAAAADFsUAAAAAAAAvPQAAAAACAedFAAAAAAADftkAAAAAAAIPJQAAAAAAABL1AAAAAAABIwUAAAAAAAMK8QAAAAACA2uBAAAAAAAAcsUAAAAAAAG/IQAAAAAAAKNdAAAAAAIDewUAAAAAAgNrgQAAAAAAAkK1AAAAAAADowkAAAAAAgNrgQAAAAAAACq5AAAAAAIAwykAAAAAAgNrgQAAAAAAAgb9AAAAAAEAF1EAAAAAAALfWQAAAAACAuMFAAAAAAECh00AAAAAAAP+6QAAAAAAAvqpAAAAAAID0xEAAAAAAgNrgQAAAAACA2uBAAAAAAIDm20AAAAAAgGfIQAAAAAAAEMpAAAAAAMDM30AAAAAAAF6qQAAAAACABchAAAAAAAAFskAAAAAAADXFQAAAAACA2uBAAAAAAABvsEAAAAAAABCqQAAAAAAAWbVAAAAAAICsyEAAAAAAgNrgQAAAAAAASK5AAAAAAAD8qUAAAAAAgNrgQAAAAAAAgKlAAAAAAAD3ukAAAAAAAPimQAAAAACA0cpAAAAAAADaskAAAAAAAKOwQAAAAAAAhqtAAAAAAIDa4EAAAAAAgJnQQAAAAAAA4cZAAAAAAAABsEAAAAAAAOCuQAAAAADAm9xAAAAAAMDN2UAAAAAAAPioQAAAAAAAR7NAAAAAAIDa4EAAAAAAgELJQAAAAABAPN1AAAAAAIBYwUAAAAAAgN7aQAAAAADAhN9AAAAAAAALsEAAAAAAAC29QAAAAAAAn7NAAAAAAAC3t0AAAAAAgNnaQAAAAAAAwrtAAAAAAIDT0EAAAAAAQCneQAAAAAAAWqxAAAAAAIDa4EAAAAAAgIzRQAAAAACAM8RAAAAAAIAZwkAAAAAAAFKnQAAAAAAAGcxAAAAAAAD6q0AAAAAAAA6oQAAAAAAAFKxAAAAAAAB8xEAAAAAAgNrgQAAAAABAcNdAAAAAAAB8tUAAAAAAgNrgQAAAAAAAbr5AAAAAAIAexEAAAAAAwGDXQAAAAADAG9VAAAAAAAAEwUAAAAAAgNXHQAAAAACAPc5AAAAAAADh00AAAAAAALirQAAAAAAANbJAAAAAAIA5z0AAAAAAwNPdQAAAAAAAbrRAAAAAAIDa4EAAAAAAAFypQAAAAAAAkcNAAAAAAAAQxEAAAAAAAAGwQAAAAACAYdNAAAAAAAB1sUAAAAAAQDfUQAAAAAAAdcBAAAAAAIBU0EAAAAAAgNrgQAAAAAAAPbFAAAAAAADetEAAAAAAgIPAQAAAAAAA671AAAAAAICZxUAAAAAAAPqvQAAAAADAq9dAAAAAAABxvkAAAAAAAAe5QAAAAAAAiLdAAAAAAAAwqkAAAAAAgHffQAAAAACA2uBAAAAAAIDa4EAAAAAAwFzeQAAAAAAAKL1AAAAAAADlxkAAAAAAAFm+QAAAAAAA4qtAAAAAAAAgqUAAAAAAAJqtQAAAAAAAmqtAAAAAAIDa4EAAAAAAQJfaQAAAAACA2uBAAAAAAAB1uEAAAAAAAFS7QAAAAAAAWLFAAAAAAACcqEAAAAAAAMCwQAAAAACA2uBAAAAAAABFtEAAAAAAAD3MQAAAAABAg9BAAAAAAABTukAAAAAAAHazQAAAAACAI8hAAAAAAIBzw0AAAAAAgJ3AQAAAAACA/c1AAAAAAMAs10AAAAAAQH3RQAAAAAAANq9AAAAAAIDa4EAAAAAAgNrgQAAAAACANMBAAAAAAACQtUAAAAAAADCtQAAAAAAA4MJAAAAAAAAksEAAAAAAwGLbQAAAAACAc8NAAAAAAEAR0EAAAAAAACDAQAAAAACAOcpAAAAAAAB+qUAAAAAAgNrgQAAAAACA89ZAAAAAAAAFvkAAAAAAAMKvQAAAAACAK8NAAAAAAID30EAAAAAAALW7QAAAAACA2uBAAAAAAAACqkAAAAAAABSwQAAAAACAj9NAAAAAAID3wEAAAAAAAOjAQAAAAAAAsKtAAAAAAABkt0AAAAAAADWzQAAAAADAJ9JAAAAAAADCqUAAAAAAAEa2QAAAAAAAc8VAAAAAAIDa4EAAAAAAAKzTQAAAAACA7s9AAAAAAAC5xEAAAAAAANq8QAAAAAAAcLJAAAAAAACYrEAAAAAAAELJQAAAAAAAybdAAAAAAAARt0AAAAAAwI/WQAAAAAAACMZAAAAAAEAt0EAAAAAAgNrgQAAAAACA8MtAAAAAAADYt0AAAAAAAG+wQAAAAACA2uBAAAAAAIDa4EAAAAAAgNrgQAAAAAAAvq9AAAAAAIAHx0AAAAAAAFTRQAAAAACA2uBAAAAAAACK1EAAAAAAwCLSQAAAAAAALq1AAAAAAABixUAAAAAAAGXcQAAAAABAw9NAAAAAAIDa4EAAAAAAgNrgQAAAAAAA07BAAAAAAIDa4EAAAAAAAPbMQAAAAAAA/q1AAAAAAAAerUAAAAAAAOnLQAAAAAAAqr1AAAAAAABwwEAAAAAAgKvgQAAAAACA3MpAAAAAAAAgq0AAAAAAgOnNQAAAAAAAm8dAAAAAAIDa4EAAAAAAAJizQAAAAAAA7bBAAAAAAIAqxEAAAAAAgPzRQAAAAACA0MJAAAAAAAAErkAAAAAAgHfUQAAAAAAAoKdAAAAAAAD9wEAAAAAAAKi6QAAAAACA2uBAAAAAAIDa4EAAAAAAAN6pQAAAAAAAkLJAAAAAAACSr0AAAAAAQEDTQAAAAAAARbpAAAAAAIDOzUAAAAAAYH7gQAAAAAAAkM5AAAAAAIAhwkAAAAAAAASvQAAAAAAAD7hAAAAAAADdskAAAAAAgIjOQAAAAACA2uBAAAAAAICQw0AAAAAAAG6uQAAAAAAA67VAAAAAAIAw1kAAAAAAgFDPQAAAAAAAWclAAAAAAIDUwUAAAAAAAEy9QAAAAAAA6sxAAAAAAIDa4EAAAAAAgOnCQAAAAADANdNAAAAAAIDa4EAAAAAAAMCzQAAAAABAoNhAAAAAAAACrEAAAAAAwJLUQAAAAAAAu7BAAAAAAMCY2EAAAAAAAC29QAAAAACAt9FAAAAAAEAq3UAAAAAAAHiqQAAAAACA2uBAAAAAAIBrwkAAAAAAgAzeQAAAAAAAZLlAAAAAAABxsEAAAAAAAJKsQAAAAAAAC7BAAAAAAABsrEAAAAAAgELAQAAAAAAAfdpAAAAAAIDZykAAAAAAgIPbQAAAAACAssVAAAAAAIBzw0AAAAAAAFyvQAAAAACAutRAAAAAAADCrEAAAAAAgBXaQAAAAAAAp8JAAAAAAIB/z0AAAAAAAEezQAAAAACAmdFAAAAAAABb0EAAAAAAgG7FQAAAAACAn8tAAAAAAIDa4EAAAAAAAAS+QAAAAACA2uBAAAAAAEBp2UAAAAAAAAauQAAAAAAA/MxAAAAAAACyrkAAAAAAgFHGQAAAAACAe9RAAAAAAAB2rUAAAAAAgNDWQAAAAAAAx79AAAAAAICyykAAAAAAgNrgQAAAAAAAEsNAAAAAAIB3wEAAAAAAgKzEQAAAAACA2uBAAAAAAADKvkAAAAAAII7gQAAAAACAHeBAAAAAAMBm1EAAAAAAwC7WQAAAAAAA1K1AAAAAAACMq0AAAAAAAE+7QAAAAAAAxs9AAAAAAACItkAAAAAAgNrgQAAAAACAicJAAAAAAIA5z0AAAAAAAHqsQAAAAAAAFKtAAAAAAIAiw0AAAAAAAI6qQAAAAAAAO7BAAAAAAACezUAAAAAAACPLQAAAAACA2uBAAAAAAACsukAAAAAAAKa1QAAAAACAus5AAAAAAIBg3UAAAAAAAJasQAAAAACAL9ZAAAAAAAC4rEAAAAAAQE7RQAAAAAAANLFAAAAAAABHsUAAAAAAgNrgQAAAAAAAWLBAAAAAAIDa4EAAAAAAwEraQAAAAACANM9AAAAAAAAv2kAAAAAAADe0QAAAAAAA5q5AAAAAAMDU1UAAAAAAALLWQAAAAAAAZ7VAAAAAAIBoz0AAAAAAAHm1QAAAAACAm8tAAAAAAIDO3kAAAAAAgNrgQAAAAAAAAbFAAAAAAIDa4EAAAAAAANypQAAAAAAA+bFAAAAAAAAar0AAAAAAAGqxQAAAAAAAGsRAAAAAAAAkz0AAAAAAABmxQAAAAAAAQrNAAAAAAAB2s0AAAAAAQK7gQAAAAAAAnq9AAAAAAADsuEAAAAAAAJyrQAAAAAAAy7dAAAAAAEBr10AAAAAAAJi+QAAAAACA2uBAAAAAAADEykAAAAAAAEexQAAAAAAAULhAAAAAAAAlsEAAAAAAgNrgQAAAAAAAlrRAAAAAAIDa4EAAAAAAAIytQAAAAAAANbRAAAAAAAC0r0AAAAAAwAvVQAAAAACAJsNAAAAAAABqvUAAAAAAgIvBQAAAAAAA97JAAAAAAABntkAAAAAAAJrCQAAAAACAOc9AAAAAAAA9tEAAAAAAwCfcQAAAAAAASbBAAAAAAABsu0AAAAAAAPqsQAAAAACAEMlAAAAAAAC4rUAAAAAAgEjVQAAAAAAA0KlAAAAAAAAUrkAAAAAAAD6wQAAAAAAAVrBAAAAAAAASskAAAAAAADytQAAAAACAqcpAAAAAAIAq2kAAAAAAgMnQQAAAAAAAR7BAAAAAAABIyUAAAAAAABW7QAAAAACA2uBAAAAAAICKykAAAAAAAMixQAAAAAAATK1AAAAAAMA90UAAAAAAABDAQAAAAAAA1K5AAAAAAAAWtkAAAAAAAMbPQAAAAAAA5dtAAAAAAAAcuEAAAAAAADu1QAAAAAAAHNBAAAAAAABOwEAAAAAAAIq9QAAAAAAALc1AAAAAAIDa4EAAAAAAAP++QAAAAACA2uBAAAAAAIDFwkAAAAAAAE/JQAAAAAAAB7BAAAAAAADoukAAAAAAgGTVQAAAAAAAeLxAAAAAAIDa4EAAAAAAAH7IQAAAAAAAjbFAAAAAAIDa4EAAAAAAAGLBQAAAAAAAHN1AAAAAAAAurUAAAAAAAGfAQAAAAACAONZAAAAAAMD33EAAAAAAALOzQAAAAAAAy7BAAAAAAIApx0AAAAAAABjRQAAAAAAARbBAAAAAAIDa4EAAAAAAAFG5QAAAAACA2uBAAAAAAID7yUAAAAAAAFyyQAAAAAAAB7ZAAAAAAIDByUAAAAAAQIHRQAAAAACAc8NAAAAAAICgzEAAAAAAADrLQAAAAAAA0KxAAAAAAABGr0AAAAAAALWwQAAAAAAAIbVAAAAAAAChtEAAAAAAAErEQA==",
          "dtype": "f8"
         },
         "yaxis": "y"
        }
       ],
       "layout": {
        "barmode": "relative",
        "legend": {
         "tracegroupgap": 0
        },
        "template": {
         "data": {
          "bar": [
           {
            "error_x": {
             "color": "#2a3f5f"
            },
            "error_y": {
             "color": "#2a3f5f"
            },
            "marker": {
             "line": {
              "color": "#E5ECF6",
              "width": 0.5
             },
             "pattern": {
              "fillmode": "overlay",
              "size": 10,
              "solidity": 0.2
             }
            },
            "type": "bar"
           }
          ],
          "barpolar": [
           {
            "marker": {
             "line": {
              "color": "#E5ECF6",
              "width": 0.5
             },
             "pattern": {
              "fillmode": "overlay",
              "size": 10,
              "solidity": 0.2
             }
            },
            "type": "barpolar"
           }
          ],
          "carpet": [
           {
            "aaxis": {
             "endlinecolor": "#2a3f5f",
             "gridcolor": "white",
             "linecolor": "white",
             "minorgridcolor": "white",
             "startlinecolor": "#2a3f5f"
            },
            "baxis": {
             "endlinecolor": "#2a3f5f",
             "gridcolor": "white",
             "linecolor": "white",
             "minorgridcolor": "white",
             "startlinecolor": "#2a3f5f"
            },
            "type": "carpet"
           }
          ],
          "choropleth": [
           {
            "colorbar": {
             "outlinewidth": 0,
             "ticks": ""
            },
            "type": "choropleth"
           }
          ],
          "contour": [
           {
            "colorbar": {
             "outlinewidth": 0,
             "ticks": ""
            },
            "colorscale": [
             [
              0,
              "#0d0887"
             ],
             [
              0.1111111111111111,
              "#46039f"
             ],
             [
              0.2222222222222222,
              "#7201a8"
             ],
             [
              0.3333333333333333,
              "#9c179e"
             ],
             [
              0.4444444444444444,
              "#bd3786"
             ],
             [
              0.5555555555555556,
              "#d8576b"
             ],
             [
              0.6666666666666666,
              "#ed7953"
             ],
             [
              0.7777777777777778,
              "#fb9f3a"
             ],
             [
              0.8888888888888888,
              "#fdca26"
             ],
             [
              1,
              "#f0f921"
             ]
            ],
            "type": "contour"
           }
          ],
          "contourcarpet": [
           {
            "colorbar": {
             "outlinewidth": 0,
             "ticks": ""
            },
            "type": "contourcarpet"
           }
          ],
          "heatmap": [
           {
            "colorbar": {
             "outlinewidth": 0,
             "ticks": ""
            },
            "colorscale": [
             [
              0,
              "#0d0887"
             ],
             [
              0.1111111111111111,
              "#46039f"
             ],
             [
              0.2222222222222222,
              "#7201a8"
             ],
             [
              0.3333333333333333,
              "#9c179e"
             ],
             [
              0.4444444444444444,
              "#bd3786"
             ],
             [
              0.5555555555555556,
              "#d8576b"
             ],
             [
              0.6666666666666666,
              "#ed7953"
             ],
             [
              0.7777777777777778,
              "#fb9f3a"
             ],
             [
              0.8888888888888888,
              "#fdca26"
             ],
             [
              1,
              "#f0f921"
             ]
            ],
            "type": "heatmap"
           }
          ],
          "histogram": [
           {
            "marker": {
             "pattern": {
              "fillmode": "overlay",
              "size": 10,
              "solidity": 0.2
             }
            },
            "type": "histogram"
           }
          ],
          "histogram2d": [
           {
            "colorbar": {
             "outlinewidth": 0,
             "ticks": ""
            },
            "colorscale": [
             [
              0,
              "#0d0887"
             ],
             [
              0.1111111111111111,
              "#46039f"
             ],
             [
              0.2222222222222222,
              "#7201a8"
             ],
             [
              0.3333333333333333,
              "#9c179e"
             ],
             [
              0.4444444444444444,
              "#bd3786"
             ],
             [
              0.5555555555555556,
              "#d8576b"
             ],
             [
              0.6666666666666666,
              "#ed7953"
             ],
             [
              0.7777777777777778,
              "#fb9f3a"
             ],
             [
              0.8888888888888888,
              "#fdca26"
             ],
             [
              1,
              "#f0f921"
             ]
            ],
            "type": "histogram2d"
           }
          ],
          "histogram2dcontour": [
           {
            "colorbar": {
             "outlinewidth": 0,
             "ticks": ""
            },
            "colorscale": [
             [
              0,
              "#0d0887"
             ],
             [
              0.1111111111111111,
              "#46039f"
             ],
             [
              0.2222222222222222,
              "#7201a8"
             ],
             [
              0.3333333333333333,
              "#9c179e"
             ],
             [
              0.4444444444444444,
              "#bd3786"
             ],
             [
              0.5555555555555556,
              "#d8576b"
             ],
             [
              0.6666666666666666,
              "#ed7953"
             ],
             [
              0.7777777777777778,
              "#fb9f3a"
             ],
             [
              0.8888888888888888,
              "#fdca26"
             ],
             [
              1,
              "#f0f921"
             ]
            ],
            "type": "histogram2dcontour"
           }
          ],
          "mesh3d": [
           {
            "colorbar": {
             "outlinewidth": 0,
             "ticks": ""
            },
            "type": "mesh3d"
           }
          ],
          "parcoords": [
           {
            "line": {
             "colorbar": {
              "outlinewidth": 0,
              "ticks": ""
             }
            },
            "type": "parcoords"
           }
          ],
          "pie": [
           {
            "automargin": true,
            "type": "pie"
           }
          ],
          "scatter": [
           {
            "fillpattern": {
             "fillmode": "overlay",
             "size": 10,
             "solidity": 0.2
            },
            "type": "scatter"
           }
          ],
          "scatter3d": [
           {
            "line": {
             "colorbar": {
              "outlinewidth": 0,
              "ticks": ""
             }
            },
            "marker": {
             "colorbar": {
              "outlinewidth": 0,
              "ticks": ""
             }
            },
            "type": "scatter3d"
           }
          ],
          "scattercarpet": [
           {
            "marker": {
             "colorbar": {
              "outlinewidth": 0,
              "ticks": ""
             }
            },
            "type": "scattercarpet"
           }
          ],
          "scattergeo": [
           {
            "marker": {
             "colorbar": {
              "outlinewidth": 0,
              "ticks": ""
             }
            },
            "type": "scattergeo"
           }
          ],
          "scattergl": [
           {
            "marker": {
             "colorbar": {
              "outlinewidth": 0,
              "ticks": ""
             }
            },
            "type": "scattergl"
           }
          ],
          "scattermap": [
           {
            "marker": {
             "colorbar": {
              "outlinewidth": 0,
              "ticks": ""
             }
            },
            "type": "scattermap"
           }
          ],
          "scattermapbox": [
           {
            "marker": {
             "colorbar": {
              "outlinewidth": 0,
              "ticks": ""
             }
            },
            "type": "scattermapbox"
           }
          ],
          "scatterpolar": [
           {
            "marker": {
             "colorbar": {
              "outlinewidth": 0,
              "ticks": ""
             }
            },
            "type": "scatterpolar"
           }
          ],
          "scatterpolargl": [
           {
            "marker": {
             "colorbar": {
              "outlinewidth": 0,
              "ticks": ""
             }
            },
            "type": "scatterpolargl"
           }
          ],
          "scatterternary": [
           {
            "marker": {
             "colorbar": {
              "outlinewidth": 0,
              "ticks": ""
             }
            },
            "type": "scatterternary"
           }
          ],
          "surface": [
           {
            "colorbar": {
             "outlinewidth": 0,
             "ticks": ""
            },
            "colorscale": [
             [
              0,
              "#0d0887"
             ],
             [
              0.1111111111111111,
              "#46039f"
             ],
             [
              0.2222222222222222,
              "#7201a8"
             ],
             [
              0.3333333333333333,
              "#9c179e"
             ],
             [
              0.4444444444444444,
              "#bd3786"
             ],
             [
              0.5555555555555556,
              "#d8576b"
             ],
             [
              0.6666666666666666,
              "#ed7953"
             ],
             [
              0.7777777777777778,
              "#fb9f3a"
             ],
             [
              0.8888888888888888,
              "#fdca26"
             ],
             [
              1,
              "#f0f921"
             ]
            ],
            "type": "surface"
           }
          ],
          "table": [
           {
            "cells": {
             "fill": {
              "color": "#EBF0F8"
             },
             "line": {
              "color": "white"
             }
            },
            "header": {
             "fill": {
              "color": "#C8D4E3"
             },
             "line": {
              "color": "white"
             }
            },
            "type": "table"
           }
          ]
         },
         "layout": {
          "annotationdefaults": {
           "arrowcolor": "#2a3f5f",
           "arrowhead": 0,
           "arrowwidth": 1
          },
          "autotypenumbers": "strict",
          "coloraxis": {
           "colorbar": {
            "outlinewidth": 0,
            "ticks": ""
           }
          },
          "colorscale": {
           "diverging": [
            [
             0,
             "#8e0152"
            ],
            [
             0.1,
             "#c51b7d"
            ],
            [
             0.2,
             "#de77ae"
            ],
            [
             0.3,
             "#f1b6da"
            ],
            [
             0.4,
             "#fde0ef"
            ],
            [
             0.5,
             "#f7f7f7"
            ],
            [
             0.6,
             "#e6f5d0"
            ],
            [
             0.7,
             "#b8e186"
            ],
            [
             0.8,
             "#7fbc41"
            ],
            [
             0.9,
             "#4d9221"
            ],
            [
             1,
             "#276419"
            ]
           ],
           "sequential": [
            [
             0,
             "#0d0887"
            ],
            [
             0.1111111111111111,
             "#46039f"
            ],
            [
             0.2222222222222222,
             "#7201a8"
            ],
            [
             0.3333333333333333,
             "#9c179e"
            ],
            [
             0.4444444444444444,
             "#bd3786"
            ],
            [
             0.5555555555555556,
             "#d8576b"
            ],
            [
             0.6666666666666666,
             "#ed7953"
            ],
            [
             0.7777777777777778,
             "#fb9f3a"
            ],
            [
             0.8888888888888888,
             "#fdca26"
            ],
            [
             1,
             "#f0f921"
            ]
           ],
           "sequentialminus": [
            [
             0,
             "#0d0887"
            ],
            [
             0.1111111111111111,
             "#46039f"
            ],
            [
             0.2222222222222222,
             "#7201a8"
            ],
            [
             0.3333333333333333,
             "#9c179e"
            ],
            [
             0.4444444444444444,
             "#bd3786"
            ],
            [
             0.5555555555555556,
             "#d8576b"
            ],
            [
             0.6666666666666666,
             "#ed7953"
            ],
            [
             0.7777777777777778,
             "#fb9f3a"
            ],
            [
             0.8888888888888888,
             "#fdca26"
            ],
            [
             1,
             "#f0f921"
            ]
           ]
          },
          "colorway": [
           "#636efa",
           "#EF553B",
           "#00cc96",
           "#ab63fa",
           "#FFA15A",
           "#19d3f3",
           "#FF6692",
           "#B6E880",
           "#FF97FF",
           "#FECB52"
          ],
          "font": {
           "color": "#2a3f5f"
          },
          "geo": {
           "bgcolor": "white",
           "lakecolor": "white",
           "landcolor": "#E5ECF6",
           "showlakes": true,
           "showland": true,
           "subunitcolor": "white"
          },
          "hoverlabel": {
           "align": "left"
          },
          "hovermode": "closest",
          "mapbox": {
           "style": "light"
          },
          "paper_bgcolor": "white",
          "plot_bgcolor": "#E5ECF6",
          "polar": {
           "angularaxis": {
            "gridcolor": "white",
            "linecolor": "white",
            "ticks": ""
           },
           "bgcolor": "#E5ECF6",
           "radialaxis": {
            "gridcolor": "white",
            "linecolor": "white",
            "ticks": ""
           }
          },
          "scene": {
           "xaxis": {
            "backgroundcolor": "#E5ECF6",
            "gridcolor": "white",
            "gridwidth": 2,
            "linecolor": "white",
            "showbackground": true,
            "ticks": "",
            "zerolinecolor": "white"
           },
           "yaxis": {
            "backgroundcolor": "#E5ECF6",
            "gridcolor": "white",
            "gridwidth": 2,
            "linecolor": "white",
            "showbackground": true,
            "ticks": "",
            "zerolinecolor": "white"
           },
           "zaxis": {
            "backgroundcolor": "#E5ECF6",
            "gridcolor": "white",
            "gridwidth": 2,
            "linecolor": "white",
            "showbackground": true,
            "ticks": "",
            "zerolinecolor": "white"
           }
          },
          "shapedefaults": {
           "line": {
            "color": "#2a3f5f"
           }
          },
          "ternary": {
           "aaxis": {
            "gridcolor": "white",
            "linecolor": "white",
            "ticks": ""
           },
           "baxis": {
            "gridcolor": "white",
            "linecolor": "white",
            "ticks": ""
           },
           "bgcolor": "#E5ECF6",
           "caxis": {
            "gridcolor": "white",
            "linecolor": "white",
            "ticks": ""
           }
          },
          "title": {
           "x": 0.05
          },
          "xaxis": {
           "automargin": true,
           "gridcolor": "white",
           "linecolor": "white",
           "ticks": "",
           "title": {
            "standoff": 15
           },
           "zerolinecolor": "white",
           "zerolinewidth": 2
          },
          "yaxis": {
           "automargin": true,
           "gridcolor": "white",
           "linecolor": "white",
           "ticks": "",
           "title": {
            "standoff": 15
           },
           "zerolinecolor": "white",
           "zerolinewidth": 2
          }
         }
        },
        "title": {
         "text": "Credit Limit by Income Category"
        },
        "xaxis": {
         "anchor": "y",
         "domain": [
          0,
          1
         ],
         "title": {
          "text": "Income_Category"
         }
        },
        "yaxis": {
         "anchor": "x",
         "domain": [
          0,
          1
         ],
         "title": {
          "text": "sum of Credit_Limit"
         }
        }
       }
      }
     },
     "metadata": {},
     "output_type": "display_data"
    }
   ],
   "source": [
    "fig = px.histogram(data, x='Income_Category', y='Credit_Limit', title='Credit Limit by Income Category',)\n",
    "fig.show()\n"
   ]
  },
  {
   "cell_type": "markdown",
   "metadata": {},
   "source": [
    "- Shows more the Income, more is the Credit Limit"
   ]
  },
  {
   "cell_type": "markdown",
   "metadata": {},
   "source": [
    "### Finding relationship between Gender and Credit Limit"
   ]
  },
  {
   "cell_type": "code",
   "execution_count": 13,
   "metadata": {},
   "outputs": [
    {
     "data": {
      "application/vnd.plotly.v1+json": {
       "config": {
        "plotlyServerURL": "https://plot.ly"
       },
       "data": [
        {
         "hovertemplate": "Gender=%{x}<br>Credit_Limit=%{y}<extra></extra>",
         "legendgroup": "",
         "marker": {
          "color": "#636efa",
          "symbol": "circle"
         },
         "mode": "markers",
         "name": "",
         "showlegend": false,
         "type": "scattergl",
         "x": {
          "bdata": "AAEAAQAAAAAAAAAAAQAAAAEAAQABAAEAAAEAAAAAAQABAQEBAQABAAEAAAAAAQEBAAABAQABAAAAAAABAAEAAAABAQAAAQEAAAEAAAEAAAEAAAAAAAEAAQABAAEAAAABAAAAAAEBAAEAAAABAQAAAAABAAABAQEAAAEAAQEAAQAAAAEAAQEBAAEAAQABAQEBAQABAQABAQEBAQAAAQAAAQABAQEAAQABAQAAAAAAAAABAQAAAQAAAAABAAEAAQABAQABAQEAAAAAAAAAAAEAAAEAAAEAAAAAAAAAAAEAAAEAAQEAAQEBAQAAAAAAAAEAAQABAAEBAAABAQEAAQAAAAAAAQEAAAAAAAEAAAEAAAABAAEAAQEAAAEBAAABAAEBAQEBAAEAAQABAAAAAAEAAAEAAQABAAAAAAEBAAEBAAEBAQAAAAEBAQEAAAEBAAAAAQAAAAABAAEAAQEAAAAAAAAAAAEAAAABAAABAAAAAQAAAQAAAAEBAQEBAAEBAQAAAAEAAQABAQEAAAEBAAEBAAEAAAAAAAEAAAEAAAABAQAAAAEAAQABAQABAAEBAAAAAAEBAAEBAAEAAAEBAQAAAQABAQAAAQAAAAABAAEBAAABAQEAAAAAAAEBAQAAAQEAAQAAAAEAAAAAAAABAAAAAAAAAAAAAQABAAEBAAABAAAAAQAAAQAAAQEAAAABAAABAAEBAQEAAAAAAQEAAQABAQEAAQABAAAAAAEBAQAAAQEAAAABAAAAAQAAAQAAAAEAAQABAQABAAEAAAABAQABAQEAAAAAAAEBAAEBAQAAAAAAAAEAAQEAAAABAAAAAAEBAAEAAQABAQAAAAEAAAEAAAAAAQABAQEBAQAAAAEAAAEAAAEBAQAAAQEAAQEAAAABAQAAAAEAAAABAQAAAAABAAEAAQAAAAABAQEBAQABAAAAAAAAAQEAAAAAAAABAAAAAQAAAQEBAQAAAQAAAAABAAEAAQAAAQEBAQAAAQEBAQAAAQABAAEAAQEAAAEAAAEAAAAAAQEAAAEBAAAAAQEAAQEAAAABAQEAAAEBAQAAAAAAAAABAAAAAAAAAAEBAAABAAABAQAAAQEBAQABAQAAAQEAAQAAAQEBAAABAAABAAABAAAAAQAAAQAAAAAAAAEBAAAAAAAAAAEBAAABAAABAQEBAAAAAAAAAQAAAAAAAQEBAAEAAQABAQEBAAAAAAEAAQEAAAABAAEBAQEBAQABAQAAAQABAAEBAAEAAAAAAQEBAQAAAQAAAQAAAQEBAQEAAQEAAQABAQAAAAAAAAEBAQEAAAAAAQEAAQAAAAAAAAAAAQAAAAAAAQABAAEBAAAAAQAAAQABAQABAAAAAQAAAAABAQEBAQEAAAAAAAAAAAEBAQAAAQEAAQABAAEBAQAAAAAAAQEBAAAAAAEBAAAAAAEBAQEAAAEBAAEAAQABAAEBAQABAQAAAAEBAQAAAAAAAQEBAAEAAAABAQABAQAAAQEBAQEBAAEBAQEAAAAAAQAAAQEBAQAAAAEAAAEBAAEBAQEAAQABAAABAQABAQABAAEBAAEAAQAAAQAAAQAAAAAAAQAAAAAAAAABAAABAQEAAQABAQEAAQEAAQAAAAEBAAEBAAAAAQAAAQEBAAEAAAEBAQAAAQABAAAAAQAAAQEBAAEBAAABAAABAAEAAQAAAQABAAABAAABAAEBAQABAQABAQABAAABAAAAAAEAAAEAAQAAAAABAAEAAQEBAQAAAQEAAQEAAQAAAAAAAAABAAEAAQEAAAAAAQEAAQEAAAEBAAEBAAEBAQEAAQEAAAAAAAAAAAAAAQAAAQABAQAAAAAAAQEBAQEAAAAAAQABAAABAAEBAAEBAAAAAQEAAAAAAAAAAAAAAQEBAAEBAQEAAAABAAAAAQABAQAAAAAAAQEAAQABAQAAAQAAAQEAAQEAAAEAAQEBAAABAQEBAQAAAAEAAQAAAAAAAAEBAAABAQAAAAABAQAAAAEAAQEAAAAAAAABAAAAAAAAAQEBAQABAAEBAAEBAAEAAAEAAQAAAAAAAQEBAQABAAABAQEAAAAAAAEBAAABAQAAAQEAAQAAAAAAAAEAAQEAAQEAAAEBAAEAAAEAAQEBAQABAAABAQAAAAABAQEAAQAAAQAAAQEBAAEAAQABAAAAAAABAAAAAQAAAAEBAAAAAAAAAAABAQABAAAAAAAAAAEBAAEBAAAAAAAAAAEBAAABAAABAQEAAAEAAAEAAAEBAAABAAAAAQEAAAAAAQEBAQEAAAAAAAAAAAABAQEBAQEAAAAAAQABAAAAAAEAAAABAAAAAQABAQABAAABAAAAAAEAAAAAAAABAAAAAAEAAAABAQEBAAAAAQAAAQEAAAEAAQAAAAABAAABAQEBAAEAAAAAAAEAAAABAAABAAEBAQEAAAAAAAAAAQAAAAAAAAEAAAAAAQAAAQEAAQAAAAABAQAAAQAAAAAAAAEBAQAAAAEAAQAAAQAAAQEAAQAAAAAAAQABAQEAAAEAAQEBAQAAAAABAAABAQAAAQEBAAEBAAEBAAAAAAABAAABAQEAAAABAAABAAEBAQABAAABAAAAAQEAAAAAAAEAAAAAAAAAAAAAAQEAAQAAAAAAAAEBAQAAAQAAAQABAAEBAAAAAQAAAAAAAAEAAAEAAAEAAAAAAQABAQABAAABAQAAAAAAAAEBAQEAAAEAAQEBAQABAAAAAQAAAQABAQEAAQAAAAAAAQEAAQEBAAEAAAAAAAAAAQEBAQEAAAEAAAEAAQAAAAAAAAAAAQEBAAABAQAAAAABAAAAAQEBAAEAAQAAAAABAQAAAQABAAEBAAEBAQABAAEAAAEAAQABAAEAAQEBAQAAAQEBAAAAAQEAAQABAAAAAQEBAAEBAAABAAAAAQEBAAEAAAAAAAEBAAABAQEAAQEAAAAAAAAAAAABAQEAAAEAAQABAAEAAQAAAQEBAAABAQABAQAAAAEBAAAAAQABAQABAAEAAAEAAQEAAQAAAAEAAAEAAAEAAAAAAQEBAAAAAAABAAAAAQABAAEBAQAAAQABAQEAAAABAAEAAAAAAAAAAQEAAAABAAAAAAABAAAAAAAAAQEAAQEAAQAAAAAAAQABAQAAAAAAAQAAAQEBAQAAAAEAAAABAAEBAQAAAQEBAQABAAAAAAABAQAAAQAAAAAAAAEAAAEAAQAAAQEBAAEBAQABAAAAAAABAQEBAQAAAQAAAQABAAEBAAEBAQABAQAAAQABAQAAAAEAAAABAAAAAAAAAAEAAQAAAQABAQEBAAEAAAEBAAEBAQABAQAAAQAAAAEAAQEBAAAAAQAAAAEAAQABAQAAAQEAAAEBAQAAAQEAAAEAAAABAQABAAEAAAAAAQABAAAAAAEAAQEBAQEBAAEAAQEAAAABAAAAAAEAAAEBAAEBAAABAQEBAQEAAAAAAAAAAAAAAAABAAEAAAABAAEBAQAAAAABAQAAAAEAAAAAAAEBAAABAQEBAQAAAAAAAAABAAEAAQEAAQEBAAAAAQABAQAAAAABAAEBAAABAQEAAAEAAQAAAAEAAQEAAAAAAAABAAEAAAAAAQABAAEBAQAAAQEAAQEAAQAAAQAAAQEBAAEAAQABAAEAAAEAAQAAAAABAAEAAAAAAQAAAAEBAQEAAAABAQAAAAAAAAABAQEAAQAAAQABAQEAAQEAAQEAAQEAAQABAAABAAABAAAAAAEAAQEAAQEAAQAAAQABAAEBAAAAAAEAAAABAQABAAEBAAEBAQEAAQAAAAABAQAAAQEAAAEAAAABAAEAAQABAAAAAQEBAQABAAAAAAEAAAAAAAABAAAAAQABAAEAAAAAAAABAAABAAAAAAAAAAAAAQEAAQAAAAAAAQEAAQABAQEBAAAAAAAAAQAAAAABAAEBAAAAAAEAAQABAQEBAAABAQEBAQAAAQABAAAAAQABAQAAAAEAAAAAAQEBAAAAAQEBAAAAAAAAAQABAQAAAQABAAABAAABAAEAAQAAAAEBAQEAAAABAAEBAAABAAEAAAEBAAABAQABAQAAAAAAAQEBAQEAAQAAAQAAAAEAAAEAAQEBAQEAAQEAAAEBAQEAAQEBAAABAAEBAAEAAQABAAEAAAEAAAABAQEAAQABAAABAAABAAAAAAABAAEAAQEAAQEBAQABAQABAAEAAAAAAAABAAAAAAABAAAAAQEBAQEBAQABAQABAAEAAQABAAABAAAAAAEAAQEAAAEAAQEBAQEAAQAAAQAAAQEAAQABAQAAAQABAQEBAAEBAQAAAQEAAQEAAAABAAAAAAEAAQAAAQEAAAEAAAABAAEBAAEAAQABAQEBAQAAAQAAAQEBAQEAAAABAAEBAAEBAAEAAAAAAQAAAAEAAQAAAQEAAAEBAQEBAAABAAAAAAEBAQABAQABAQABAQEBAAEBAAAAAAAAAQEAAQEAAQEBAQEAAQAAAAAAAAABAAABAQABAQABAAEBAQEAAQEBAAAAAQEAAAEBAAEBAAEBAQEAAQEBAAAAAAEBAQEBAAABAAEBAAEBAAEAAQAAAQABAQABAAEAAQEAAAEAAQEBAAEBAAEAAAAAAAAAAQEAAQEAAQEBAAEAAQABAQEBAAEBAAEAAAEAAQABAQAAAQEBAQEAAAABAQABAQABAAAAAQAAAQEBAQEAAQEBAQEBAQAAAQEBAAEBAAEAAAABAAABAAEAAQEBAQEBAAAAAAABAQAAAAABAQEBAAEBAAABAQABAAEBAQEBAAEBAQAAAAABAQABAQAAAAEBAAAAAQABAQEBAQABAQEAAQEAAQEBAAEAAAEAAQABAAEBAAAAAQABAAEAAAAAAAEBAAAAAAABAQEBAAEAAAEAAQEBAQEBAQEBAQABAQAAAQEAAAAAAQEBAAEBAQEBAQEAAAAAAQEAAAEBAQEBAQEBAAAAAAEAAQAAAQEAAQAAAAABAQAAAAEAAAEAAQEBAQABAAEBAQEAAAEAAQAAAAAAAQAAAQEAAAEAAAEAAAEBAQEAAQEAAAAAAQEBAAABAQAAAQEAAQEAAQEAAAEBAQABAQABAAABAAABAQABAQABAQEBAAABAQEBAQEAAQEBAAEAAQEBAQEAAQABAAAAAQEAAQEBAAAAAQEAAAAAAAABAQEAAQEBAAEBAQABAAABAQABAAAAAAABAQEAAQABAAEBAQEAAQEBAQEBAQAAAAEAAQEBAAEBAQEBAQAAAQABAQEBAAAAAAABAAEBAAABAQEBAQEAAAEBAQABAQEBAQAAAQABAAEAAAEAAQEBAAEAAQEBAAABAQEAAAABAQEBAQEBAQEBAQEAAAABAQABAQEBAQABAAEBAQABAQEAAQEBAQEAAAABAAEBAQEBAAABAQEBAAEBAAEBAAEBAAABAAEBAQABAQABAQEBAAAAAAABAAEAAQABAAABAAABAAEBAAEBAQABAQEBAQEBAQEAAQAAAQABAQEBAAABAQEBAQEAAQEBAAAAAAABAAEAAQEAAQEBAQEBAAEBAQABAQEBAQEBAQAAAQEAAAABAAEAAAAAAQABAQABAQAAAAEAAQEAAAABAQABAQAAAQEBAAEBAQABAAEAAQEBAQEAAQEAAQEBAQEBAQABAQEAAAEAAQEBAQABAAEBAQAAAQEBAAEAAQEBAAABAAEBAQEBAAEAAQEBAAEBAQAAAQEAAAEBAQEBAQEBAQEBAQEBAAEAAQEBAQEAAQABAQAAAAEAAQAAAQEBAQABAQABAAEBAQEBAQEAAQEAAQEAAQEBAQEBAQEBAQEAAQAAAQEAAQEBAQEBAQEAAQABAQEBAQABAQAAAQEAAAEBAQABAQAAAQEBAQAAAQEBAAEBAQAAAAEAAQAAAAEBAAABAAEBAAEBAQEAAQEBAQEAAQEAAQEBAAAAAQEAAAEBAQEBAQEBAQEBAAEAAQABAAEAAAEAAQEAAAEAAQABAQEAAAEBAAEBAQEBAQABAAEBAQABAQEBAAAAAQEBAQEBAQEBAQEBAQEBAAEBAAEBAQABAAAAAAEBAAEBAQABAQABAQAAAQAAAQEBAQEAAQEAAQEBAQAAAQEBAAEBAQEBAQEAAQEBAAEAAAABAQEAAAAAAAEBAAEBAQEAAAEAAQEBAQEAAQEAAQEBAAEAAAEAAAEBAQEBAQABAQEBAQEAAQABAQEBAAEBAQEBAQABAAEBAQEBAQEAAQEBAQEBAQEAAQEBAQEAAAEBAAEAAAEBAQABAQEAAAEBAQEBAAEBAQEBAAAAAAABAQEBAQABAQEBAQABAAEAAAAAAQEAAAEAAQEBAAEBAQEBAAABAQEBAQEBAQEBAQEAAQEBAQABAAABAQEBAQEBAAEBAQEBAAEBAQABAAEBAQEBAQEBAQEBAQEBAQABAQABAQEBAAEBAQEBAQEBAAAAAQEBAAABAAEBAQEAAQABAQEBAAEBAQEBAQEBAQEBAAEBAQEBAQAAAAEAAQEBAAEBAAAAAQEBAQEBAQEBAQEAAQEBAAAAAQEBAAEBAQEAAQEAAQABAQEBAQEBAQEBAQABAAEBAQEBAQEBAQEBAQABAAABAQEAAQABAQEBAQEBAQEBAQAAAQABAQABAAABAQEBAQABAAEBAQABAQEBAQAAAQEBAQEBAQEBAQEBAQAAAAEAAQEAAQEBAQABAAEBAQEAAQEAAQEAAQEAAQEBAQEBAAEBAQEBAQEAAQEBAQABAAABAQAAAQEAAAABAQABAAEBAQEAAQEAAAEBAAEBAAABAQEBAQEBAQEAAQEBAQEAAQABAQEBAQEBAQEBAQEAAQEBAQEAAQEBAQEBAQAAAAEBAQEBAQEAAAEAAQEBAAEAAAABAQEAAQABAQEBAAAAAAEAAQEBAQEAAQEAAAEAAAABAQEBAQEBAQEBAQEBAQEBAQEBAAEAAQEBAQABAQABAAEAAQEBAAEBAQABAQABAAEAAAEAAAEBAQEBAAABAQEBAQEBAQEAAQEBAQABAQABAQEBAQABAAABAQEBAQEBAQEBAQABAQEBAAABAQEBAAEAAQEAAQEBAQEAAAEBAQEAAAEBAQEBAQEBAQABAQABAQEBAQEAAQEAAQEBAQEBAQEBAQEBAQEAAAEBAQEAAQEAAQEAAQEBAQEBAAEBAAEAAQABAQABAQEBAAEBAQEBAQEBAQEBAQEBAQEAAQEAAAEBAAEAAQABAQEBAQABAAEBAQEBAAEBAQABAAEBAQEBAAEBAQEBAQABAAEBAQEAAQABAQEBAQABAAAAAAEAAQEBAAEAAAEAAAABAQEBAQEBAAEBAAEAAQEBAQABAAEBAAEBAQEBAAEBAQEBAQABAQAAAAEAAQEAAQEAAQABAAEBAQEBAQEBAAEBAAABAQEBAQEAAQABAAEBAAABAQABAQEBAQEAAAEAAQEBAQABAAEAAQEAAQEAAQEBAQEBAQEAAQEBAQEBAQABAQEBAQABAQEBAQABAAABAQABAQEBAQEBAAEBAQEBAQABAAEAAAEAAQAAAQEBAQEBAQEBAQABAQEAAAEBAQEBAAEAAQEBAQABAQEBAQEBAQEBAQABAQEBAQEAAQEBAQEBAAEAAQEBAAEAAAEBAQEBAQEAAQEBAAEBAAEBAQEBAQEBAQEBAQEAAQEBAQABAQEBAAEAAQEBAQEBAQEBAQEBAAEAAQEBAAEBAQABAQEBAAEBAAEBAAAAAQABAAEBAAEBAAAAAQABAQEAAQEBAAABAAABAQAAAQABAAEAAAEBAQEAAQEBAQABAQEAAQEBAAAAAQAAAQEAAQABAQABAQEBAAEBAAEBAQABAQEBAQEBAQEBAQABAAEBAQEAAQEBAQEBAQABAQEBAQABAQEAAQEBAAABAQABAQEAAQEAAAEAAQABAQEBAAEAAAEBAQEBAQEBAQEAAQEBAQEBAAEBAQAAAQEAAQEBAQABAQABAAAAAQAAAAEBAAABAAEBAQEBAQEBAQEBAAEBAQEAAQEBAQAAAQEBAAEBAQEAAQABAAEAAQEAAQEBAAEBAQABAQEBAAABAAAAAAEBAQABAQEBAQEBAQEBAQAAAAEAAQEBAQEBAAABAQEBAQEBAQEAAQEBAQAAAQEBAAEBAQEBAQEAAQEAAAEBAQEAAQEAAQEAAQABAAABAAEBAAEBAQEAAAEBAQEBAQAAAAABAQEAAQAAAQEAAQEBAQEBAQEBAQEAAQABAAABAQABAQEBAQABAAEBAAEBAQEBAQEBAAEBAQEBAQAAAQEBAQEAAQAAAQEBAQEBAQEBAQEBAQEBAQEBAQEBAQABAQABAQEBAQEBAQABAQEAAAABAQEBAAEBAAEAAAABAQEBAQEBAQEBAQEBAQEBAAEBAQABAQEAAQEBAQABAQEBAQEBAQEBAQABAAEBAQEBAQABAQEBAQEBAQABAAEAAQEBAQEBAQABAQEBAQEBAQEBAQEAAQABAAAAAAEBAQAAAQABAQEBAQEAAQEBAQEBAQEBAQEAAQEBAAEAAQAAAQABAAEBAAEAAAABAQEAAQABAAEBAQEAAQABAQEBAAEBAQABAQAAAAAAAQEAAAEBAQEBAQABAQEBAQABAAEAAQABAQEBAQEBAQEAAQEBAQEBAQEBAQEBAQABAQEAAAABAQABAQABAAAAAQEBAQABAAEAAQAAAQABAQEBAAABAQEAAAEBAAABAQEBAQEBAQEBAAEBAQEBAAABAQABAQEBAAEBAQEBAQAAAQEAAAEBAQEBAQAAAQEBAQEAAQEBAAEBAQAAAQEBAQEBAAEBAAABAQABAQEBAQEAAAEBAQEBAAEBAQEBAQEBAQEBAAAAAQABAQEBAQEAAQEBAQEBAQEAAAEAAQAAAQEBAQAAAQEBAQEBAQEBAAEBAQABAQEBAQEBAQEAAAEAAQABAQAAAQABAAEBAQEBAQEAAQEBAQEAAQEAAQEBAAEAAAABAQEBAQEBAQEBAQEAAQEBAQEBAAEAAQEBAAABAQABAQEBAQEBAQEAAQEBAQEBAQEBAQABAAEBAQEAAAEAAQEBAQABAAEBAQEBAQEAAQABAQABAAEBAAEBAQABAQAAAQEBAQEAAQEBAQEBAQABAQEBAQAAAQABAQEAAQEAAQEAAQEAAQEBAAEBAQABAAEBAQEBAQEAAQEBAQEBAQEAAQEBAQEBAQEBAQEAAQEBAQEBAQEBAQEBAQABAQEBAQABAQEAAQEBAQEBAAABAQEAAAEBAQABAQAAAQEBAAEBAQAAAAEBAQEBAAEBAQEBAAABAQEAAQEBAQEBAAEBAQEBAQABAAEAAQEAAAEAAQEBAQEBAQEBAQEBAAAAAAEBAQEAAQEAAQEBAQAAAQAAAQEAAAABAQEBAQEBAAEBAAABAQEBAAEAAQEAAQEBAAEBAAEBAQEBAQEBAQEBAQEBAQEBAAEBAAEBAQEAAQEBAAEBAQEBAQEAAQEBAQABAQEBAQEBAQABAQEBAAEBAAEBAQEBAQEBAQEBAQABAQEBAQEBAQABAQEBAQEBAQEBAQEBAAEBAQABAQEBAAEBAQEAAQABAAEBAAABAQEBAQABAQEAAAEBAAEBAQEBAQEAAQEBAQEBAQEBAQEBAAEAAAAAAQEAAAABAQAAAQEBAQEBAQEBAQAAAQEBAAEAAAEBAAEBAAEBAAEBAQEBAQEAAAEBAAEAAQEBAQEBAQEBAQABAQAAAQEAAAEAAQABAQEBAQEBAAEAAAEBAQEAAQEAAQEBAQEBAQABAQEAAQEAAQEAAQEBAQEBAQEBAQEBAQEBAQEAAQEBAAEBAAEBAQEBAQEBAAEBAQABAQEBAQEAAAEAAAEBAAAAAQEBAQEBAQEBAQEBAQEBAQEBAQEBAAEBAQEBAQEBAQEBAAABAQAAAQEAAQEBAQEBAAAAAQABAQEBAQEBAQEBAAEAAQEAAQABAQEAAQEBAAEBAQEBAQABAQABAQEBAAABAQEBAQEAAQEBAQEBAQEBAQEBAQEAAQEBAQEBAAEBAAEBAAABAAEAAAEBAQEBAQEBAQEBAQEBAQEAAAEAAQEAAQEAAQEBAQEBAQEBAAEBAQEBAQEBAQABAQABAQEAAQEAAQEBAQEBAAEAAQEAAQABAQABAAAAAAABAQEAAQEBAQEBAQEBAQEBAAEBAAEBAQAAAAEBAQEBAQEBAQAAAQEBAQEBAQEBAQEBAQEBAAEBAQEAAQEBAQABAAEBAQEBAAEAAQEBAQAAAQEBAQABAQEBAAABAQAAAQEAAAEAAQEAAQABAQEBAAAAAAEAAQEBAQEAAQEBAQEBAQEBAAABAQABAQEBAAABAQEBAQABAQEBAQABAQABAQEBAQEBAQEBAQEBAQEBAAEBAAABAAEAAAABAQEAAAEBAQABAQEAAQEAAQEBAQEBAQEBAQEBAQEBAQEAAQEBAQEBAQEBAQEBAAEBAQEBAQEBAQEBAQEBAQEBAAEAAQEBAQABAQEBAQEBAAAAAQABAQEAAQEBAQEBAQEBAQEBAQEBAQEBAQABAQEAAQEBAQEBAQAAAQEAAQAAAQEBAQEAAAEAAAEAAQEBAQABAQEBAQEAAQEBAAEBAQABAQEBAQEAAQEBAQEBAAEBAQEBAQEBAQEBAQAAAQEBAQEBAQEBAQEBAQEAAAAAAAEBAAEAAQEBAQABAQAAAAEAAQABAQAAAAEAAAEAAQABAAEBAQABAQEAAQABAAAAAQAAAAEAAQAAAQEBAQEAAAABAQABAQABAAABAQEAAQABAAEAAQAAAAEBAQAAAQEBAAABAQABAQAAAAEBAAABAQEAAQAAAQEBAAEAAAAAAAEBAAEBAAEBAAEAAQABAQABAQAAAAEBAAAAAAEAAAAAAAEBAAEBAAABAAEBAAEBAAEBAQEBAQEBAQEBAAEAAQEAAAEBAAEBAAEBAAEBAQEBAAAAAQEAAQAAAAABAAEAAAEBAQABAAABAQABAQAAAAEAAAAAAAEBAQEAAQAAAAEAAAEAAAEBAQAAAQABAQEAAQAAAQAAAQABAAABAQAAAAAAAAEAAQAAAAEBAAEBAAEBAQEBAAAAAAAAAQABAQAAAAABAQABAAEAAQEAAQEBAAEBAQEBAQEBAAAAAAAAAAABAAEAAQEAAAABAAAAAQEBAAEAAAAAAAAAAAAAAQABAAABAAEBAAABAQEBAAEBAAAAAQEAAAABAAEAAAEAAQABAAEAAQEAAAABAQEBAQEAAAEAAAEBAQEAAAAAAAEBAQEAAQEAAQEBAQEBAQEAAAABAAEAAQEAAAEAAAABAAEBAAEBAQEAAQABAQAAAAEAAQAAAAEBAQABAQEAAAABAQAAAQABAAEAAAABAAABAAEBAAEBAQEBAQEBAQAAAQABAQAAAQABAAAAAAEAAAABAAEAAAEAAAABAQAAAAEBAAABAQEAAAAAAQEAAAABAQABAQABAAAAAAABAQEBAAEBAAEAAAEAAQEAAAAAAQEBAAABAQABAAAAAQEBAAABAAEAAAAAAAAAAAAAAQAAAAABAQEBAAAAAAAAAQABAAEAAAAAAAABAAAAAQABAQAAAQEBAQAAAQAAAQEAAAEAAAABAAABAAEBAQABAQAAAAEBAAABAQEBAQABAAAAAQEBAAEBAAABAQAAAQAAAQEAAQAAAQABAQEAAQEAAAAAAAAAAQEAAQAAAQAAAAAAAAAAAQEBAQABAQABAAAAAAABAAAAAAEBAAEBAQABAQABAQAAAQEAAQABAAAAAQEBAAEAAAABAQABAAAAAAEAAAEBAAABAAABAAEBAQEBAAABAAAAAAEAAAEBAQABAQEBAQEAAQEAAAEBAAABAAEAAAABAQAAAQABAQEBAQEBAAAAAAABAAABAAAAAAEAAAAAAQABAQEBAQEBAAABAAAAAAABAQABAAEAAQAAAQAAAAABAAABAQAAAQABAAEAAAEBAAEBAAEAAAEAAQEAAQABAAAAAAABAQABAQABAAEBAQAAAAEAAAABAAABAQABAAABAQABAAABAQAAAQAAAAABAQAAAAEAAQABAAABAAEAAAEBAQAAAQABAQAAAAAAAQAAAAAAAQAAAQEAAAABAAAAAAAAAAEBAAEBAQABAQABAAAAAAABAQEAAAEAAAAAAQABAQAAAQABAQABAAEBAQEBAAABAAABAAAAAQABAAAAAAABAQABAAABAAEAAAEAAQEAAAAAAAEAAQABAAABAQAAAQEAAQAAAAABAAEAAQEAAAAAAAAAAAAAAQABAAABAAE=",
          "dtype": "i1"
         },
         "xaxis": "x",
         "y": {
          "bdata": "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",
          "dtype": "f8"
         },
         "yaxis": "y"
        }
       ],
       "layout": {
        "legend": {
         "tracegroupgap": 0
        },
        "template": {
         "data": {
          "bar": [
           {
            "error_x": {
             "color": "#2a3f5f"
            },
            "error_y": {
             "color": "#2a3f5f"
            },
            "marker": {
             "line": {
              "color": "#E5ECF6",
              "width": 0.5
             },
             "pattern": {
              "fillmode": "overlay",
              "size": 10,
              "solidity": 0.2
             }
            },
            "type": "bar"
           }
          ],
          "barpolar": [
           {
            "marker": {
             "line": {
              "color": "#E5ECF6",
              "width": 0.5
             },
             "pattern": {
              "fillmode": "overlay",
              "size": 10,
              "solidity": 0.2
             }
            },
            "type": "barpolar"
           }
          ],
          "carpet": [
           {
            "aaxis": {
             "endlinecolor": "#2a3f5f",
             "gridcolor": "white",
             "linecolor": "white",
             "minorgridcolor": "white",
             "startlinecolor": "#2a3f5f"
            },
            "baxis": {
             "endlinecolor": "#2a3f5f",
             "gridcolor": "white",
             "linecolor": "white",
             "minorgridcolor": "white",
             "startlinecolor": "#2a3f5f"
            },
            "type": "carpet"
           }
          ],
          "choropleth": [
           {
            "colorbar": {
             "outlinewidth": 0,
             "ticks": ""
            },
            "type": "choropleth"
           }
          ],
          "contour": [
           {
            "colorbar": {
             "outlinewidth": 0,
             "ticks": ""
            },
            "colorscale": [
             [
              0,
              "#0d0887"
             ],
             [
              0.1111111111111111,
              "#46039f"
             ],
             [
              0.2222222222222222,
              "#7201a8"
             ],
             [
              0.3333333333333333,
              "#9c179e"
             ],
             [
              0.4444444444444444,
              "#bd3786"
             ],
             [
              0.5555555555555556,
              "#d8576b"
             ],
             [
              0.6666666666666666,
              "#ed7953"
             ],
             [
              0.7777777777777778,
              "#fb9f3a"
             ],
             [
              0.8888888888888888,
              "#fdca26"
             ],
             [
              1,
              "#f0f921"
             ]
            ],
            "type": "contour"
           }
          ],
          "contourcarpet": [
           {
            "colorbar": {
             "outlinewidth": 0,
             "ticks": ""
            },
            "type": "contourcarpet"
           }
          ],
          "heatmap": [
           {
            "colorbar": {
             "outlinewidth": 0,
             "ticks": ""
            },
            "colorscale": [
             [
              0,
              "#0d0887"
             ],
             [
              0.1111111111111111,
              "#46039f"
             ],
             [
              0.2222222222222222,
              "#7201a8"
             ],
             [
              0.3333333333333333,
              "#9c179e"
             ],
             [
              0.4444444444444444,
              "#bd3786"
             ],
             [
              0.5555555555555556,
              "#d8576b"
             ],
             [
              0.6666666666666666,
              "#ed7953"
             ],
             [
              0.7777777777777778,
              "#fb9f3a"
             ],
             [
              0.8888888888888888,
              "#fdca26"
             ],
             [
              1,
              "#f0f921"
             ]
            ],
            "type": "heatmap"
           }
          ],
          "histogram": [
           {
            "marker": {
             "pattern": {
              "fillmode": "overlay",
              "size": 10,
              "solidity": 0.2
             }
            },
            "type": "histogram"
           }
          ],
          "histogram2d": [
           {
            "colorbar": {
             "outlinewidth": 0,
             "ticks": ""
            },
            "colorscale": [
             [
              0,
              "#0d0887"
             ],
             [
              0.1111111111111111,
              "#46039f"
             ],
             [
              0.2222222222222222,
              "#7201a8"
             ],
             [
              0.3333333333333333,
              "#9c179e"
             ],
             [
              0.4444444444444444,
              "#bd3786"
             ],
             [
              0.5555555555555556,
              "#d8576b"
             ],
             [
              0.6666666666666666,
              "#ed7953"
             ],
             [
              0.7777777777777778,
              "#fb9f3a"
             ],
             [
              0.8888888888888888,
              "#fdca26"
             ],
             [
              1,
              "#f0f921"
             ]
            ],
            "type": "histogram2d"
           }
          ],
          "histogram2dcontour": [
           {
            "colorbar": {
             "outlinewidth": 0,
             "ticks": ""
            },
            "colorscale": [
             [
              0,
              "#0d0887"
             ],
             [
              0.1111111111111111,
              "#46039f"
             ],
             [
              0.2222222222222222,
              "#7201a8"
             ],
             [
              0.3333333333333333,
              "#9c179e"
             ],
             [
              0.4444444444444444,
              "#bd3786"
             ],
             [
              0.5555555555555556,
              "#d8576b"
             ],
             [
              0.6666666666666666,
              "#ed7953"
             ],
             [
              0.7777777777777778,
              "#fb9f3a"
             ],
             [
              0.8888888888888888,
              "#fdca26"
             ],
             [
              1,
              "#f0f921"
             ]
            ],
            "type": "histogram2dcontour"
           }
          ],
          "mesh3d": [
           {
            "colorbar": {
             "outlinewidth": 0,
             "ticks": ""
            },
            "type": "mesh3d"
           }
          ],
          "parcoords": [
           {
            "line": {
             "colorbar": {
              "outlinewidth": 0,
              "ticks": ""
             }
            },
            "type": "parcoords"
           }
          ],
          "pie": [
           {
            "automargin": true,
            "type": "pie"
           }
          ],
          "scatter": [
           {
            "fillpattern": {
             "fillmode": "overlay",
             "size": 10,
             "solidity": 0.2
            },
            "type": "scatter"
           }
          ],
          "scatter3d": [
           {
            "line": {
             "colorbar": {
              "outlinewidth": 0,
              "ticks": ""
             }
            },
            "marker": {
             "colorbar": {
              "outlinewidth": 0,
              "ticks": ""
             }
            },
            "type": "scatter3d"
           }
          ],
          "scattercarpet": [
           {
            "marker": {
             "colorbar": {
              "outlinewidth": 0,
              "ticks": ""
             }
            },
            "type": "scattercarpet"
           }
          ],
          "scattergeo": [
           {
            "marker": {
             "colorbar": {
              "outlinewidth": 0,
              "ticks": ""
             }
            },
            "type": "scattergeo"
           }
          ],
          "scattergl": [
           {
            "marker": {
             "colorbar": {
              "outlinewidth": 0,
              "ticks": ""
             }
            },
            "type": "scattergl"
           }
          ],
          "scattermap": [
           {
            "marker": {
             "colorbar": {
              "outlinewidth": 0,
              "ticks": ""
             }
            },
            "type": "scattermap"
           }
          ],
          "scattermapbox": [
           {
            "marker": {
             "colorbar": {
              "outlinewidth": 0,
              "ticks": ""
             }
            },
            "type": "scattermapbox"
           }
          ],
          "scatterpolar": [
           {
            "marker": {
             "colorbar": {
              "outlinewidth": 0,
              "ticks": ""
             }
            },
            "type": "scatterpolar"
           }
          ],
          "scatterpolargl": [
           {
            "marker": {
             "colorbar": {
              "outlinewidth": 0,
              "ticks": ""
             }
            },
            "type": "scatterpolargl"
           }
          ],
          "scatterternary": [
           {
            "marker": {
             "colorbar": {
              "outlinewidth": 0,
              "ticks": ""
             }
            },
            "type": "scatterternary"
           }
          ],
          "surface": [
           {
            "colorbar": {
             "outlinewidth": 0,
             "ticks": ""
            },
            "colorscale": [
             [
              0,
              "#0d0887"
             ],
             [
              0.1111111111111111,
              "#46039f"
             ],
             [
              0.2222222222222222,
              "#7201a8"
             ],
             [
              0.3333333333333333,
              "#9c179e"
             ],
             [
              0.4444444444444444,
              "#bd3786"
             ],
             [
              0.5555555555555556,
              "#d8576b"
             ],
             [
              0.6666666666666666,
              "#ed7953"
             ],
             [
              0.7777777777777778,
              "#fb9f3a"
             ],
             [
              0.8888888888888888,
              "#fdca26"
             ],
             [
              1,
              "#f0f921"
             ]
            ],
            "type": "surface"
           }
          ],
          "table": [
           {
            "cells": {
             "fill": {
              "color": "#EBF0F8"
             },
             "line": {
              "color": "white"
             }
            },
            "header": {
             "fill": {
              "color": "#C8D4E3"
             },
             "line": {
              "color": "white"
             }
            },
            "type": "table"
           }
          ]
         },
         "layout": {
          "annotationdefaults": {
           "arrowcolor": "#2a3f5f",
           "arrowhead": 0,
           "arrowwidth": 1
          },
          "autotypenumbers": "strict",
          "coloraxis": {
           "colorbar": {
            "outlinewidth": 0,
            "ticks": ""
           }
          },
          "colorscale": {
           "diverging": [
            [
             0,
             "#8e0152"
            ],
            [
             0.1,
             "#c51b7d"
            ],
            [
             0.2,
             "#de77ae"
            ],
            [
             0.3,
             "#f1b6da"
            ],
            [
             0.4,
             "#fde0ef"
            ],
            [
             0.5,
             "#f7f7f7"
            ],
            [
             0.6,
             "#e6f5d0"
            ],
            [
             0.7,
             "#b8e186"
            ],
            [
             0.8,
             "#7fbc41"
            ],
            [
             0.9,
             "#4d9221"
            ],
            [
             1,
             "#276419"
            ]
           ],
           "sequential": [
            [
             0,
             "#0d0887"
            ],
            [
             0.1111111111111111,
             "#46039f"
            ],
            [
             0.2222222222222222,
             "#7201a8"
            ],
            [
             0.3333333333333333,
             "#9c179e"
            ],
            [
             0.4444444444444444,
             "#bd3786"
            ],
            [
             0.5555555555555556,
             "#d8576b"
            ],
            [
             0.6666666666666666,
             "#ed7953"
            ],
            [
             0.7777777777777778,
             "#fb9f3a"
            ],
            [
             0.8888888888888888,
             "#fdca26"
            ],
            [
             1,
             "#f0f921"
            ]
           ],
           "sequentialminus": [
            [
             0,
             "#0d0887"
            ],
            [
             0.1111111111111111,
             "#46039f"
            ],
            [
             0.2222222222222222,
             "#7201a8"
            ],
            [
             0.3333333333333333,
             "#9c179e"
            ],
            [
             0.4444444444444444,
             "#bd3786"
            ],
            [
             0.5555555555555556,
             "#d8576b"
            ],
            [
             0.6666666666666666,
             "#ed7953"
            ],
            [
             0.7777777777777778,
             "#fb9f3a"
            ],
            [
             0.8888888888888888,
             "#fdca26"
            ],
            [
             1,
             "#f0f921"
            ]
           ]
          },
          "colorway": [
           "#636efa",
           "#EF553B",
           "#00cc96",
           "#ab63fa",
           "#FFA15A",
           "#19d3f3",
           "#FF6692",
           "#B6E880",
           "#FF97FF",
           "#FECB52"
          ],
          "font": {
           "color": "#2a3f5f"
          },
          "geo": {
           "bgcolor": "white",
           "lakecolor": "white",
           "landcolor": "#E5ECF6",
           "showlakes": true,
           "showland": true,
           "subunitcolor": "white"
          },
          "hoverlabel": {
           "align": "left"
          },
          "hovermode": "closest",
          "mapbox": {
           "style": "light"
          },
          "paper_bgcolor": "white",
          "plot_bgcolor": "#E5ECF6",
          "polar": {
           "angularaxis": {
            "gridcolor": "white",
            "linecolor": "white",
            "ticks": ""
           },
           "bgcolor": "#E5ECF6",
           "radialaxis": {
            "gridcolor": "white",
            "linecolor": "white",
            "ticks": ""
           }
          },
          "scene": {
           "xaxis": {
            "backgroundcolor": "#E5ECF6",
            "gridcolor": "white",
            "gridwidth": 2,
            "linecolor": "white",
            "showbackground": true,
            "ticks": "",
            "zerolinecolor": "white"
           },
           "yaxis": {
            "backgroundcolor": "#E5ECF6",
            "gridcolor": "white",
            "gridwidth": 2,
            "linecolor": "white",
            "showbackground": true,
            "ticks": "",
            "zerolinecolor": "white"
           },
           "zaxis": {
            "backgroundcolor": "#E5ECF6",
            "gridcolor": "white",
            "gridwidth": 2,
            "linecolor": "white",
            "showbackground": true,
            "ticks": "",
            "zerolinecolor": "white"
           }
          },
          "shapedefaults": {
           "line": {
            "color": "#2a3f5f"
           }
          },
          "ternary": {
           "aaxis": {
            "gridcolor": "white",
            "linecolor": "white",
            "ticks": ""
           },
           "baxis": {
            "gridcolor": "white",
            "linecolor": "white",
            "ticks": ""
           },
           "bgcolor": "#E5ECF6",
           "caxis": {
            "gridcolor": "white",
            "linecolor": "white",
            "ticks": ""
           }
          },
          "title": {
           "x": 0.05
          },
          "xaxis": {
           "automargin": true,
           "gridcolor": "white",
           "linecolor": "white",
           "ticks": "",
           "title": {
            "standoff": 15
           },
           "zerolinecolor": "white",
           "zerolinewidth": 2
          },
          "yaxis": {
           "automargin": true,
           "gridcolor": "white",
           "linecolor": "white",
           "ticks": "",
           "title": {
            "standoff": 15
           },
           "zerolinecolor": "white",
           "zerolinewidth": 2
          }
         }
        },
        "title": {
         "text": " Gender by Credit_limit"
        },
        "xaxis": {
         "anchor": "y",
         "domain": [
          0,
          1
         ],
         "title": {
          "text": "Gender"
         }
        },
        "yaxis": {
         "anchor": "x",
         "domain": [
          0,
          1
         ],
         "title": {
          "text": "Credit_Limit"
         }
        }
       }
      }
     },
     "metadata": {},
     "output_type": "display_data"
    }
   ],
   "source": [
    "fig = px.scatter(df, x='Gender', y='Credit_Limit', title = ' Gender by Credit_limit')\n",
    "fig.show()"
   ]
  },
  {
   "cell_type": "markdown",
   "metadata": {},
   "source": [
    "-  We can conclude that Credit Limit doesn't depend on Gender"
   ]
  },
  {
   "cell_type": "code",
   "execution_count": null,
   "metadata": {},
   "outputs": [],
   "source": [
    "# draw graphs related to attrition flag"
   ]
  },
  {
   "cell_type": "markdown",
   "metadata": {},
   "source": [
    "### Relationship between Credit Limit and Attrition Flag"
   ]
  },
  {
   "cell_type": "code",
   "execution_count": 15,
   "metadata": {},
   "outputs": [
    {
     "data": {
      "application/vnd.plotly.v1+json": {
       "config": {
        "plotlyServerURL": "https://plot.ly"
       },
       "data": [
        {
         "bingroup": "x",
         "histfunc": "sum",
         "hovertemplate": "Attrition_Flag=%{x}<br>sum of Credit_Limit=%{y}<extra></extra>",
         "legendgroup": "",
         "marker": {
          "color": "#636efa",
          "pattern": {
           "shape": ""
          }
         },
         "name": "",
         "orientation": "v",
         "showlegend": false,
         "type": "histogram",
         "x": {
          "bdata": "AAAAAAAAAAAAAAAAAAAAAAAAAAAAAQAAAAAAAAAAAAAAAAAAAAAAAQAAAAAAAAAAAAAAAQAAAQAAAAAAAAEAAAAAAAAAAAAAAAAAAAAAAAAAAAEAAAAAAAAAAAAAAAAAAAAAAQAAAAAAAAAAAAAAAAAAAAAAAAAAAAAAAAAAAAEAAAAAAAAAAAAAAAABAAAAAQEAAAAAAAAAAAAAAAAAAAAAAAAAAAAAAQAAAAEAAAAAAAAAAAAAAAAAAAAAAAAAAAAAAAAAAQAAAAAAAAABAQAAAAAAAAAAAAAAAAAAAAAAAAAAAAABAAAAAAABAAAAAQABAQAAAAEAAAAAAAEAAAAAAAAAAQAAAAAAAAEAAAAAAAAAAQAAAAAAAAEAAAEAAQAAAAAAAAAAAAAAAAAAAAAAAAAAAAAAAAABAAAAAAAAAAAAAAAAAAAAAAAAAAAAAAEAAAAAAAEAAAAAAAAAAAAAAAAAAAAAAAAAAAAAAAAAAAAAAAAAAAAAAAAAAAAAAAABAAAAAAAAAAAAAAAAAAABAAAAAAEAAAAAAAAAAAABAAAAAQAAAAAAAQAAAQAAAAAAAAAAAAAAAAAAAAABAQAAAAEAAAABAAAAAAAAAAEAAAABAAAAAAABAAEAAAAAAAAAAAAAAAAAAAAAAAAAAAAAAAAAAAAAAAAAAAABAAAAAAAAAAAAAQAAAQAAAAAAAAAAAAAAAQAAAQAAAAAAAAAAAAABAQAAAAAAAAAAAAEAAAAAAQAAAAEAAAAAAAAAAAAAAAEBAAEAAAAAAAAAAAABAQABAAEAAAAAAAEAAAAAAAAAAAAAAAAAAAAAAAAAAQABAAAAAAAAAAAAAAAAAAEAAAAAAAAAAAEAAAABAAAAAQABAAAAAAAAAAAAAAAAAAAAAAABAAAAAAAAAAAAAAABAAEAAAAAAAAAAAAAAAAAAAAAAAAAAAAAAAAAAQAAAAAAAAAAAAEBAAAAAAABAAAAAAAAAAAAAAAAAAAAAAABAAAAAAEAAAAAAAABAAAAAAAAAAAAAAEAAAAAAAAAAAABAAAAAAAAAAAAAAAAAAAAAAAAAAAAAAAAAQAAAQAAAQAAAAAAAAAAAAAAAAAAAAAAAQAAAAAAAAAAAAAAAQAAAAAAAAABAAAAAAAAAAAAAAEAAAAAAAAAAAAAAAAAAAEBAAAAAAABAAAAAAAAAAAAAAAAAAAAAAABAAAAAAAAAAAAAAAAAAAAAQEAAAAAAAAAAAAAAAABAAAAAAAAAAAAAAAAAAAAAAAAAAAAAAAAAAAAAAAAAAAAAAABAAAAAAAAAQAAAAAAAAAAAAAAAAAAAAAAAAAAAAAAAAEAAQEAAAAAAAAAAAAAAAAAAAAAAAABAAAAAAAAAAAAAAEAAAAAAAABAQABAAEAAAAAAAAAAAAAAAAAAQAAAAAAAAAAAAAAAQAAAAAAAAAAAAAAAAABAAAAAAAAAAAAAAAAAAAAAAAAAAAAAAAAAAAAAAAAAAEAAAAAAAAAAAAAAAAAAAAAAQAAAAEAAAAAAAAAAAAAAAAAAAAAAAAAAQAAAAAAAAEAAAAAAAAAAAAAAAAAAAAAAAAAAAAAAAAAAAAAAAAAAQABAAAAAAAAAAAAAAAAAAAAAAAAAAAAAAAAAAAAAAAAAAAAAAAAAAAAAAAAAAABAAAAAQAAAAAAAQAAAAAAAAAAAAABAAAAAAAAAAAAAQAAAAAAAAAAAAAAAAAAAAEAAAAAAAAAAAAAAAAAAAAAAQAAAAAAAAAAAAAAAAAAAAABAAAAAAAAAAAAAAAAAAAAAQAAAAAAAQEAAAAAAQAAAAAAAAAAAAAAAAAAAAAAAAAAAAAAAAAAAAAAAAAAAAAAAAAAAAAAAAAAAAAAAAAAAAAAAAAAAAABAAAAAAAAAAAAAAAAAAABAAAAAAAAAAAAAAAAAQAAAAAAAAAAAAAAAAAAAAAAAAAAAAEBAAAAAAAAAAAAAAEBAAAAAAAAAAAAAAAAAAAAAAAAAAAAAAAAAAAAAAAAAAAAAAAAAAAAAAAAAAAAAAAAAAAAAAAAAAAAAAAAAAAAAAAAAAAAAAAAAAAAAAAAAAEAAAAAAAAAAAAAAAAAAAAAAAEAAAAAAAEAAAAAAAABAAAAAAAAAAAAAAAAAQAAAAAAAAAAAAEAAAAAAAAAAAAAAAAAAAABAAAAAAABAAAAAAAAAAAAAAAAAAABAAAAAAABAAAAAAAAAAAAAQAAAAAAAAAAAAAAAAAAAAAAAAAAAAAAAAAAAAEAAAAAAAAAAAAAAAAAAQAAAAAAAAAAAAAAAAABAAAAAAAAAAAAAAAAAAAAAAAAAAABAAAAAAAAAAAAAQAAAAAAAAAAAAAAAAAAAAAAAAAAAAAAAAAAAAAAAAAAAAAAAAAAAAAAAQAAAAAAAAAAAAAAAAAAAAAAAAAAAAAAAQAAAAAAAAAAAQAAAQAAAAAAAAAAAAEAAAAAAAAAAAAAAAAAAAAAAAAAAQAAAAEAAAEAAAAAAAAAAAAAAQABAAAAAAAAAAAAAAAAAAAAAAAAAAAAAAAAAQAAAAAAAAAAAAAAAQAAAAAAAAAAAAAAAAAAAAAAAAAAAAAAAAAAAAAAAAAAAQAAAQAAAAAAAAAAAAAAAAAAAQAAAAEAAAAAAAAAAAAAAAAAAAAAAAAAAAAAAAAAAAEAAAAAAAEAAAAAAAAAAAAAAAAAAQAAAAAAAAAAAAAAAAEAAAAAAAAAAAAAAQAAAAAAAAAAAAAAAAAAAAAAAAAAAAAAAAAAAAAAAAAAAAEAAAAAAAAAAAAAAAAAAAAAAAAAAAEAAAAAAAAAAAAAAQAAAAAAAAAAAAAAAAEAAAABAAAAAAAAAAAAAAAAAAAAAAAAAAAAAAAAAAAAAAAAAAAAAAABAAAAAAAAAAAAAAABAAAAAAAAAAAAAAEBAAAAAAAAAAAAAAAAAAABAAAAAAAAAAAAAAAAAAAAAAAAAAEAAQAAAAABAAAAAAAAAAAAAAAAAAAAAAAAAAAAAAAAAAAAAAAAAAAAAAAAAQAAAAAAAQAAAAAAAAAAAAAAAAEAAAAAAAAAAQAAAAEAAAAAAAAAAAAAAAAAAAAAAAAAAAAAAAAAAAAAAAAAAQAAAAEAAAAAAAAAAAAAAAAAAAAAAAAAAAAAAAAAAAAAAAAAAAAAAAAAAAAAAAAAAAAAAAAAAAAAAAAAAAAAAAAAAAAAAAAAAAAAAQAAAAAAAAABAAABAAEAAAAAAAAAAAAAAAAAAAABAAAAAAAAAAAAAAAAAAAAAAAAAAAAAAAAAAAAAAAAAAAAAAAAAAAAAAAAAAAAAAAAAAAAAAAAAAAAAAAAAAAAAAAAAAEAAAAAAAAAAAABAQAAAAAAAAAAAAAAAAAAAAAAAAAAAAAAAAAAAAAAAAABAAAAAAAAAAAAAAEAAQAAAAAAAAAAAAAAAAAAAAAAAAAAAAAAAAAAAAAAAAAAAAAAAAAAAAAAAAAAAAAAAAAAAAAAAAAAAAAAAAAAAQAAAAAAAAAAAAAAAAAAAAAAAAAAAAAAAAAAAAAAAAAAAAAAAAAAAAAAAAAAAAAAAAAAAAEAAAAAAAAAAAEAAAAAAAAAAAAAAAAAAAAAAAAAAAAAAAAAAAAAAAAAAAAAAAAAAAAAAAAAAAAAAAAAAAAAAAAAAAAAAQAAAAAAAAAAAAAAAAAAAAAAAAAAAAAAAAAAAAAAAAAAAAAAAAAAAAAAAAAAAAEAAAAAAAAAAQAAAAAAAAAAAAAAAAAAAAAAAAAAAAAAAAAAAAAAAAAAAQAAAAAAAAAAAAAAAAAAAAAAAAAAAAABAAAAAQAAAAAAAAAAAAAAAAAAAAABAAABAAAAAAAAAAAAAAAAAAAAAAAAAQAAAAAAAAAAAAAAAAAAAAAAAAAAAAAAAAAAAAAAAAABAAAAAAAAAAAAAAAAAAAAAAAAAAAAAAAAAAAAAAEAAQAAAAAAAAAAAAAAAQAAAAAAAAAAAAAAAAAAAAAAAAEAAAAAAAAAAAABAAAAAAAAAAAAAAAAAAAAAAAAAAEAAAAAAAAAAAEBAAAAAAAAAAAAAAAAAAAAAAAAAAAAAAEAAAAAAAAAAAAAAAAAAAEAAAAAAAAAAAAAAAABAAAAAAAAAAABAAAAAAAAAAEAAAAAAAAAAAAAAAAAAAAAAAAAAAAAAAAAAAAAAQAAAAAAAAEAAAABAAAAAAAAAAAAAAAAAAEAAQAAAAAAAAEAAAAAAAABAAAAAQAAAQAAAAAAAAAAAQAAAAAAAAABAAAAAAABAAABAAEAAAAAAQAAAAAAAAAAAAAAAAABAAAAAAAAAAABAAAAAAAAAQAAAAAAAAAAAAAAAAAAAAAAAAAAAAAAAAAAAAAAAAAAAAAAAAABAAABAAAAAAAAAAABAQAAAAEAAAAAAAAAAAAAAAAAAAAAAQAAAAEAAAAAAAAAAAABAQAAAAAAAAEAAAABAAAAAAAAAAAAAAAAAAAAAAAAAAAAAQAAAAAAAAABAQAAAQEAAAEAAAAAAAEAAAAAAAEAAAAAAAAAAAABAAAAAAABAAAAAAAAAAAAAAAAAAAAAAAAAAEAAAAAAAEAAAAAAAAAAAAAAAEBAAAAAQAAAAAAAAABAAABAAAAAAEAAAAAAAAAAAAAAAAAAAEAAQEAAAAAAAAAAAAAAAAAAAAAAQAAAAAAAAAAAQAAAAAAAAAAAAAAAAAAAAAAAAAAAAAAAAABAAAAAAABAAAAAAAAAAAAAAAAAAAAAAAAAAAAAQAAAAAAAQAAAAAAAAAAAAAAAAABAAAAAAAAAAABAAABAQEAAAAAAQABAQEAAAEAAAAAAAAAAAAAAAAAAAABAAAAAAAAAAAAAAABAAEAAAAAAAABAAAAAAAAAAAAAAAAAQABAAEAAAAAAQAAAAABAAEAAAAAAQAAAAAAAAAAAAAAAAAAAAAAAAABAQEAAAAAAAAAAAAAAAEAAAABAAAAAAAAAAEAAAAAAAAAAQAAAAAAAQAAAAAAAAEAAAAAAAAAAAAAAAAAAAAAAAAAAAAAAAABAAEAAAABAAEAAAABAAABAAAAAAAAAAABAAAAAAAAAQAAAQABAQAAAAABAAEAAQEAAQAAAAAAAAEAAAAAAAAAAAAAAAAAAAEAAQABAAAAAAAAAAAAAAABAAAAAAAAAAEAAAAAAAAAAAAAAAAAAAAAAAAAAAAAAAAAAAAAAAEAAQABAAAAAAAAAAAAAAEBAAAAAQAAAAAAAQAAAAAAAAEAAAAAAAAAAAAAAAABAQAAAAEAAAAAAAAAAAABAAEAAQABAAABAAAAAQAAAAAAAAAAAAAAAAAAAAAAAAABAAAAAAEAAQAAAAEAAAABAAAAAAAAAQAAAAAAAAAAAAAAAQAAAAEAAAAAAAEAAAEAAAABAAEBAAAAAAAAAAEAAAAAAQAAAAAAAAAAAAAAAAEBAAAAAQAAAAABAAAAAAAAAAAAAQABAAEAAAAAAAAAAAAAAAAAAAABAAAAAAAAAAAAAAAAAQEBAAAAAAAAAAAAAAAAAAABAAAAAAAAAAABAAEAAAEAAAEBAAEAAAAAAAABAAABAAAAAAAAAAAAAAAAAAEAAAAAAAABAQAAAAEAAAEAAQEBAAEAAAABAAAAAAEAAAAAAAAAAAABAAAAAAAAAQAAAAAAAAAAAQAAAAEAAAAAAAAAAAEAAAEAAAAAAAEAAAAAAAABAAAAAAEAAAEAAQEBAAAAAAAAAAEAAAABAAAAAAAAAAAAAAABAAAAAQAAAAAAAAAAAAAAAAAAAAAAAAAAAAABAAAAAAAAAAAAAQAAAAEAAQABAQAAAAAAAAAAAAAAAAABAAAAAQAAAAEBAAAAAAEAAAAAAAAAAAABAAAAAAEBAAAAAAEAAAAAAAAAAAEAAAABAAAAAAAAAAEAAAEAAAEAAAABAAAAAAEAAAAAAAEAAAEAAAEAAQABAAEAAAABAAAAAAAAAAAAAAAAAAAAAQAAAAAAAAEAAAAAAAAAAAEAAAEBAAEAAAABAAABAAAAAAAAAAABAAAAAAEBAAEAAAAAAAAAAQABAAEAAQAAAAAAAAAAAQEAAAEBAAAAAAAAAAAAAAAAAAAAAAAAAAEBAAAAAAEAAQAAAAAAAAABAAAAAQAAAQEAAAAAAAAAAQABAAAAAAAAAAEAAAEAAAAAAAAAAAEAAAAAAAAAAAEAAAAAAAABAAAAAAAAAAABAAEAAAAAAAEBAQAAAAEBAAAAAAABAAAAAAEAAQAAAAAAAAABAQAAAQAAAAAAAAABAAAAAAEAAAEAAAEAAQAAAAEAAAAAAAEAAAAAAAABAAAAAAAAAAAAAAABAQABAAEAAAAAAQAAAQAAAAEBAAAAAAABAAAAAAAAAAEAAAAAAAAAAAABAAEAAAAAAAAAAQAAAAAAAQAAAQAAAAEBAAAAAAABAAABAAAAAAABAAAAAQAAAAAAAQAAAQAAAAAAAQAAAAAAAAABAQAAAAABAAAAAAABAQAAAAABAAAAAAAAAQAAAQAAAQAAAQAAAAAAAQAAAAAAAAABAQEBAAAAAAAAAAABAAEBAAAAAAAAAAAAAAAAAAABAAEAAAEAAAAAAQAAAAEAAAAAAAAAAAAAAQAAAAABAAEBAAEBAAAAAQEAAAAAAAAAAQEAAAAAAAAAAAEAAAABAAABAQAAAAABAAAAAQAAAAEBAAEAAAEBAAAAAAABAAAAAAAAAQABAQAAAAAAAQAAAAAAAAAAAQABAAAAAAABAQEAAAAAAAAAAAAAAQABAAAAAAAAAQABAQAAAAAAAAAAAAABAAAAAAABAQEAAAAAAQAAAAAAAAAAAAABAAABAAEAAAAAAAAAAQEBAAAAAAAAAAAAAAAAAAAAAAABAAEBAQAAAQAAAAAAAQEAAAAAAAEAAAAAAQEAAAABAAABAAAAAAAAAQABAAAAAAEAAAEAAAABAQEAAAAAAAAAAAAAAAAAAAAAAAAAAAEAAAEBAAAAAAAAAAABAAAAAAABAAAAAAEAAAEBAAAAAAAAAQAAAAEAAQAAAAAAAAAAAAEAAQABAQAAAAEAAQEAAQEAAAAAAQAAAAEAAAAAAAAAAAAAAAABAQAAAAAAAAAAAAABAQAAAAAAAAAAAAEBAAAAAAAAAAAAAQAAAAAAAAEAAQAAAAAAAAEAAQAAAAAAAAEAAAABAAAAAAAAAAEBAAAAAAAAAAEBAAABAAAAAQAAAQAAAAAAAQEAAAAAAAAAAAAAAAAAAAEAAQAAAQAAAQAAAAAAAAAAAAAAAAAAAAEAAAAAAAEBAQAAAAABAAAAAAAAAAEAAQAAAAAAAAAAAAAAAAAAAAAAAAAAAQAAAAAAAAAAAAEAAAAAAAABAAAAAAEAAAABAAAAAAABAAAAAAAAAQAAAQAAAAEAAAEAAAAAAAABAAABAQEAAAAAAQABAAAAAQAAAAAAAQAAAQAAAAEAAAAAAQAAAAAAAAAAAAAAAAAAAAABAAAAAQAAAAAAAAEAAAEAAAEAAAAAAAAAAAEAAQEBAQEAAAAAAQEAAAAAAAEBAAAAAQAAAAEAAAAAAAABAAEAAQAAAAEAAAEBAQEAAQAAAAEAAAEBAQAAAAEAAAABAQAAAAEAAAAAAAEAAQAAAAAAAAAAAAAAAAAAAAABAAABAAAAAAAAAQAAAQAAAQAAAAEAAAEAAAABAAAAAAAAAAAAAAAAAAABAAAAAQAAAAAAAQABAQAAAAAAAQAAAAAAAAAAAQAAAAAAAAAAAAAAAAAAAAAAAAEBAAAAAAAAAAAAAQAAAQAAAQAAAAAAAQAAAAAAAQAAAAAAAAEAAQAAAAAAAAAAAAAAAAEBAAABAAEAAAAAAAAAAAAAAAAAAAAAAQAAAAEAAAABAAABAQAAAQEAAQEAAAAAAQAAAAAAAAAAAQAAAAAAAAABAAAAAQAAAQAAAQAAAAAAAQABAAAAAAEAAAEAAQAAAAAAAAAAAAEAAAAAAQAAAAABAAABAAAAAAAAAAAAAAAAAQAAAAEAAAEAAAAAAAABAAAAAAEAAAABAAAAAAABAAABAAEAAAAAAQAAAQAAAAEAAAAAAAABAAAAAQAAAAEAAAAAAAAAAAEAAAABAAAAAAAAAAABAAEBAQAAAAAAAAAAAAAAAAAAAAEBAAEAAAEAAAAAAAAAAAAAAAAAAAEAAAAAAAAAAQEBAAAAAAAAAAAAAAABAAAAAAABAAAAAAAAAAABAAABAAAAAAAAAAEAAAABAAAAAQAAAAAAAAAAAAAAAAAAAAAAAAABAAAAAAAAAAAAAAEAAAAAAQAAAAAAAAAAAQAAAAAAAAEAAQABAAABAAAAAQAAAQAAAAAAAAEAAQEAAQAAAAAAAAEAAQAAAQAAAQAAAAAAAAAAAAAAAAEAAAAAAAEAAAAAAAAAAAAAAQABAAAAAAAAAAEAAQEAAAEAAAEAAAEAAAAAAAABAQAAAAAAAAAAAAABAAEBAAABAAAAAAEBAAAAAAEAAAAAAQABAAAAAAAAAAABAAAAAAABAAABAAEAAAAAAAEAAQAAAAABAAAAAQAAAAEAAAAAAAAAAQEAAQAAAQAAAQAAAAAAAQAAAAAAAAEBAQAAAAAAAAAAAAAAAAABAAAAAAABAAAAAQABAAAAAAAAAAEAAAAAAQAAAAABAQAAAQEAAAAAAAABAAEAAQABAAEAAAAAAAABAQAAAAAAAAAAAQEAAAABAAAAAAAAAAABAAAAAAABAQABAAAAAAEAAAAAAQEAAAAAAAEAAQEAAQEAAAABAAAAAAAAAAEAAQAAAQAAAAABAAEAAAAAAQEBAAEAAQEAAAAAAAAAAQAAAAAAAAEAAAABAQEAAQAAAAAAAAAAAAABAAAAAAEAAAEAAAAAAAAAAAAAAAAAAAEAAAABAAAAAAABAAAAAAAAAQAAAQAAAQEAAAEAAAABAAEAAAAAAAAAAAAAAQAAAAAAAAAAAAAAAAAAAAEAAAAAAAAAAQAAAAAAAAEAAQABAQAAAAAAAAAAAAABAAAAAAAAAAEAAAABAAAAAAAAAAAAAAAAAAAAAAABAAABAAAAAAABAAAAAAAAAQEAAAAAAQABAAAAAAEAAAAAAAAAAAAAAQAAAAAAAAAAAQEAAAAAAAAAAAAAAQAAAAEAAAAAAAAAAAAAAAABAAAAAAAAAAABAAAAAAAAAAAAAAEAAQEAAQAAAAEAAQEAAAAAAAAAAAAAAAAAAAAAAAAAAQABAAEAAAAAAQAAAAAAAAEAAAAAAAEBAAAAAAAAAAAAAQAAAQEAAAAAAAABAAAAAAAAAQABAQAAAAAAAAEAAAAAAQAAAAAAAAAAAAABAAEAAAAAAAAAAQEAAAAAAAAAAAAAAAABAAABAAABAAAAAAAAAAAAAAEAAAAAAQAAAAEAAQEAAAAAAAABAAABAAAAAAABAQEAAAAAAAAAAQAAAAEAAAAAAAAAAQAAAAEAAQAAAAABAQABAQAAAAAAAQEBAAAAAAAAAAABAAAAAAAAAAAAAAAAAAAAAAAAAAEAAQAAAAABAAAAAAAAAAEAAQAAAAABAAEAAAAAAAAAAQAAAAAAAAEAAAAAAQAAAAABAAAAAAEAAAAAAAABAAABAAAAAAAAAAAAAAABAAEAAAABAAABAAAAAAAAAQAAAAEAAAAAAAAAAAEAAQAAAAABAAABAAAAAAABAAAAAAAAAAABAAABAAAAAAAAAAABAAEAAAAAAAABAAEAAQEAAAAAAAEAAAEBAAABAAAAAQAAAQAAAQEAAAAAAQABAAEAAAAAAAABAAAAAAAAAAAAAQAAAAAAAAEAAAAAAAEBAAEAAAEAAAAAAAAAAQAAAAAAAQAAAAAAAAAAAAAAAAAAAAAAAAAAAAEAAAABAQAAAQAAAAEAAAEAAAEBAAAAAQAAAAAAAAEAAAAAAAABAQABAQABAAABAQABAAAAAAAAAAAAAAAAAAAAAAAAAAABAAAAAAAAAAAAAAAAAAAAAAEAAQAAAAABAAAAAAEAAAAAAAABAAAAAAEBAAAAAAEAAQABAAAAAQABAAAAAAAAAAAAAAAAAAAAAAAAAAAAAAAAAQAAAAEBAAAAAAAAAAAAAAAAAAABAAAAAAABAAAAAAAAAQAAAAAAAAAAAAAAAQAAAAAAAAAAAAAAAAAAAAABAAAAAAAAAAEAAAAAAAAAAAABAQEAAAAAAAABAAAAAAEAAAAAAAEAAAAAAAAAAAAAAAAAAAAAAAAAAAABAAABAAABAAAAAQAAAAEAAQEBAAEBAAABAAEAAAABAAAAAAAAAQAAAQAAAAAAAAAAAQAAAAEAAAAAAQEAAAAAAAEAAAAAAQEAAAAAAAAAAAABAAAAAAAAAAAAAQEAAAAAAAAAAAABAAAAAAAAAQAAAAAAAQABAAABAAEAAQAAAAEAAAAAAAAAAQEAAAEAAAAAAAABAAAAAAAAAAAAAQAAAQAAAAEBAAAAAAAAAAAAAAAAAAEAAAAAAAAAAAABAQAAAAAAAAAAAAEAAAEAAAAAAAEBAQEAAAAAAAEAAAAAAAEAAAAAAAAAAAEAAAAAAAAAAAAAAAAAAQEBAAEAAAEBAQEAAAEAAAAAAAAAAQEAAAAAAAEAAAAAAAAAAAAAAQAAAAAAAAAAAAABAAAAAAEAAAAAAQABAAAAAAAAAQAAAAEAAAABAQABAQABAAAAAAAAAAAAAAAAAAEAAAAAAQEBAQAAAAAAAAAAAAEAAAEBAQAAAQABAAAAAQAAAQEAAAAAAQAAAAABAAAAAAEAAAEAAAAAAAEBAAAAAAAAAAAAAAABAAEAAQAAAAAAAAABAQAAAAAAAAEBAQAAAQAAAQAAAAAAAAAAAAAAAAAAAAAAAQEAAAAAAQAAAAABAAEBAAEAAAAAAAEAAAAAAAAAAAAAAAABAAEAAQEAAAEAAAAAAAAAAAEAAAAAAAEAAAAAAAAAAAABAAAAAQAAAAABAAAAAAAAAAAAAAAAAQEBAQABAAAAAQAAAAAAAAAAAAAAAQAAAAAAAAEAAAAAAAAAAAEAAAAAAAAAAAAAAAAAAAAAAAAAAAAAAQAAAAAAAAABAQAAAAAAAAAAAAAAAAAAAAAAAAAAAAAAAAABAAABAAAAAAAAAAAAAAAAAAAAAAABAAAAAQAAAAAAAAABAAAAAAEAAQAAAQABAAABAAAAAAAAAAEAAAAAAAABAAEBAAAAAAAAAAAAAAAAAAAAAAABAQAAAAAAAAAAAAEAAAAAAAAAAAEAAAAAAAAAAAAAAAAAAAAAAAAAAAAAAAAAAAEAAAAAAAEAAQAAAAAAAAAAAQAAAQAAAAABAAAAAAAAAAAAAAAAAAEAAAEAAAEAAQAAAAAAAAAAAAAAAAABAAAAAAABAAAAAQAAAAAAAAEAAQABAAAAAAABAAAAAAAAAQAAAAEAAQAAAAAAAQAAAAAAAQAAAAABAAEAAAAAAQEAAAEAAAABAAAAAAABAAEBAQAAAAABAQABAAAAAAAAAAAAAAAAAAAAAAAAAAAAAAAAAAAAAAAAAAAAAAAAAQAAAAAAAAAAAAEAAAAAAAAAAAAAAAAAAAAAAAAAAAAAAAAAAAAAAAAAAAAAAAAAAQAAAQEAAAAAAAAAAAAAAQAAAAAAAAAAAAAAAAAAAAAAAAAAAAAAAQAAAAAAAAAAAAAAAAAAAAEAAAAAAAAAAAAAAAAAAAAAAAABAQAAAAAAAAAAAAAAAAEAAAEAAAABAQABAAAAAAAAAAEAAQABAAAAAAABAAABAAAAAQAAAAEAAAAAAAAAAAEAAAAAAAAAAAAAAAAAAAAAAQAAAQAAAQAAAAABAAAAAAAAAAEAAAAAAAAAAAAAAAAAAAAAAAAAAAAAAAEAAQAAAAEBAAAAAAAAAAAAAAAAAAAAAQEBAAAAAAABAAAAAAAAAAAAAAAAAAABAAEAAAAAAAEAAAAAAAAAAAAAAAAAAAAAAQAAAAAAAAABAAAAAQAAAAAAAAAAAAAAAQAAAAAAAAEAAQAAAAAAAQAAAAAAAAAAAAAAAAAAAAAAAAAAAAABAAEAAAAAAAABAAAAAAAAAAABAAEAAAABAAABAAAAAAAAAAABAQAAAAAAAAAAAAAAAAAAAAAAAAABAAAAAAAAAAAAAAAAAAEAAQAAAAABAAAAAAABAAAAAAAAAAAAAAEAAQAAAAAAAAAAAAEAAQEBAQAAAAAAAAAAAAEAAAAAAAAAAQEAAAAAAAAAAQAAAAAAAQEBAAAAAAEAAQAAAAABAAABAAAAAQEBAAAAAAEAAAEAAAAAAAEAAAAAAAAAAAAAAQAAAAEAAAAAAAABAQAAAAABAQAAAAAAAAABAAEBAAAAAAABAAABAAEBAAEBAQABAQEAAAAAAAAAAQAAAAEBAAAAAAEAAAAAAAAAAAAAAAAAAAABAAEAAAAAAAAAAAEAAAEBAAAAAQAAAAAAAAAAAAAAAAABAAABAAAAAAEAAAAAAAEAAAAAAAAAAQEAAAAAAQAAAAAAAQEAAAEAAAAAAAAAAAEAAAAAAAAAAAABAAEAAAAAAQAAAAAAAQAAAAAAAQAAAAAAAAEAAAAAAAEBAAAAAAAAAAAAAAEAAAAAAAAAAQEAAAAAAAEBAAEAAAAAAAAAAAAAAAAAAQAAAQAAAAAAAAAAAQAAAAAAAQAAAAAAAAEBAAABAAABAAAAAAAAAQABAQAAAAAAAAABAQABAAAAAAAAAQEAAAAAAAAAAAAAAAAAAAAAAAAAAQAAAAAAAAAAAAAAAAEAAAABAAABAAAAAQAAAQAAAQABAAAAAAABAQAAAAABAQAAAQAAAQEBAQABAQAAAAAAAQABAAAAAAAAAAAAAAAAAAAAAAAAAQABAAABAAAAAAAAAAAAAQAAAAAAAAEAAAABAAEAAQEAAAABAQAAAAAAAQABAAAAAAAAAAAAAAAAAAEAAAABAAEAAAABAAABAQAAAQAAAAAAAAABAAABAAAAAQEAAAAAAQEBAAABAAEAAAAAAAAAAQAAAAAAAQAAAQAAAAAAAAEBAAAAAAAAAAEAAAAAAAEBAAAAAAAAAQAAAAABAAEAAQABAQAAAAAAAAABAQEAAAAAAAABAQAAAAABAAEAAAEBAAAAAAEAAQEBAAABAAAAAAEAAAEBAAEAAAAAAAEAAAEAAQEAAAAAAAAAAAABAAAAAQAAAAAAAAAAAQABAAEAAAABAAEAAAEBAAAAAAAAAAEBAAAAAAAAAAEAAAAAAAEAAAAAAQEAAAAAAAAAAQEAAAAAAAAAAQEAAAAAAAAAAAEBAAAAAQAAAAABAAAAAAAAAAAAAQAAAAAAAQEAAAEAAQEBAQAAAQAAAAABAAAAAQAAAAABAAAAAQAAAQABAAAAAAAAAQEAAAEAAAABAAAAAQAAAAABAAAAAAEAAQAAAAABAAABAAEAAQEBAQEAAAAAAAAAAAABAAAAAAABAAAAAAAAAQEAAQEBAAEBAAAAAAAAAAABAQABAAAAAQAAAAAAAAAAAAAAAAAAAAAAAQAAAQAAAAAAAQAAAAABAAEAAQEAAAABAQAAAAABAQAAAAEBAQE=",
          "dtype": "i1"
         },
         "xaxis": "x",
         "y": {
          "bdata": "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",
          "dtype": "f8"
         },
         "yaxis": "y"
        }
       ],
       "layout": {
        "barmode": "relative",
        "legend": {
         "tracegroupgap": 0
        },
        "template": {
         "data": {
          "bar": [
           {
            "error_x": {
             "color": "#2a3f5f"
            },
            "error_y": {
             "color": "#2a3f5f"
            },
            "marker": {
             "line": {
              "color": "#E5ECF6",
              "width": 0.5
             },
             "pattern": {
              "fillmode": "overlay",
              "size": 10,
              "solidity": 0.2
             }
            },
            "type": "bar"
           }
          ],
          "barpolar": [
           {
            "marker": {
             "line": {
              "color": "#E5ECF6",
              "width": 0.5
             },
             "pattern": {
              "fillmode": "overlay",
              "size": 10,
              "solidity": 0.2
             }
            },
            "type": "barpolar"
           }
          ],
          "carpet": [
           {
            "aaxis": {
             "endlinecolor": "#2a3f5f",
             "gridcolor": "white",
             "linecolor": "white",
             "minorgridcolor": "white",
             "startlinecolor": "#2a3f5f"
            },
            "baxis": {
             "endlinecolor": "#2a3f5f",
             "gridcolor": "white",
             "linecolor": "white",
             "minorgridcolor": "white",
             "startlinecolor": "#2a3f5f"
            },
            "type": "carpet"
           }
          ],
          "choropleth": [
           {
            "colorbar": {
             "outlinewidth": 0,
             "ticks": ""
            },
            "type": "choropleth"
           }
          ],
          "contour": [
           {
            "colorbar": {
             "outlinewidth": 0,
             "ticks": ""
            },
            "colorscale": [
             [
              0,
              "#0d0887"
             ],
             [
              0.1111111111111111,
              "#46039f"
             ],
             [
              0.2222222222222222,
              "#7201a8"
             ],
             [
              0.3333333333333333,
              "#9c179e"
             ],
             [
              0.4444444444444444,
              "#bd3786"
             ],
             [
              0.5555555555555556,
              "#d8576b"
             ],
             [
              0.6666666666666666,
              "#ed7953"
             ],
             [
              0.7777777777777778,
              "#fb9f3a"
             ],
             [
              0.8888888888888888,
              "#fdca26"
             ],
             [
              1,
              "#f0f921"
             ]
            ],
            "type": "contour"
           }
          ],
          "contourcarpet": [
           {
            "colorbar": {
             "outlinewidth": 0,
             "ticks": ""
            },
            "type": "contourcarpet"
           }
          ],
          "heatmap": [
           {
            "colorbar": {
             "outlinewidth": 0,
             "ticks": ""
            },
            "colorscale": [
             [
              0,
              "#0d0887"
             ],
             [
              0.1111111111111111,
              "#46039f"
             ],
             [
              0.2222222222222222,
              "#7201a8"
             ],
             [
              0.3333333333333333,
              "#9c179e"
             ],
             [
              0.4444444444444444,
              "#bd3786"
             ],
             [
              0.5555555555555556,
              "#d8576b"
             ],
             [
              0.6666666666666666,
              "#ed7953"
             ],
             [
              0.7777777777777778,
              "#fb9f3a"
             ],
             [
              0.8888888888888888,
              "#fdca26"
             ],
             [
              1,
              "#f0f921"
             ]
            ],
            "type": "heatmap"
           }
          ],
          "histogram": [
           {
            "marker": {
             "pattern": {
              "fillmode": "overlay",
              "size": 10,
              "solidity": 0.2
             }
            },
            "type": "histogram"
           }
          ],
          "histogram2d": [
           {
            "colorbar": {
             "outlinewidth": 0,
             "ticks": ""
            },
            "colorscale": [
             [
              0,
              "#0d0887"
             ],
             [
              0.1111111111111111,
              "#46039f"
             ],
             [
              0.2222222222222222,
              "#7201a8"
             ],
             [
              0.3333333333333333,
              "#9c179e"
             ],
             [
              0.4444444444444444,
              "#bd3786"
             ],
             [
              0.5555555555555556,
              "#d8576b"
             ],
             [
              0.6666666666666666,
              "#ed7953"
             ],
             [
              0.7777777777777778,
              "#fb9f3a"
             ],
             [
              0.8888888888888888,
              "#fdca26"
             ],
             [
              1,
              "#f0f921"
             ]
            ],
            "type": "histogram2d"
           }
          ],
          "histogram2dcontour": [
           {
            "colorbar": {
             "outlinewidth": 0,
             "ticks": ""
            },
            "colorscale": [
             [
              0,
              "#0d0887"
             ],
             [
              0.1111111111111111,
              "#46039f"
             ],
             [
              0.2222222222222222,
              "#7201a8"
             ],
             [
              0.3333333333333333,
              "#9c179e"
             ],
             [
              0.4444444444444444,
              "#bd3786"
             ],
             [
              0.5555555555555556,
              "#d8576b"
             ],
             [
              0.6666666666666666,
              "#ed7953"
             ],
             [
              0.7777777777777778,
              "#fb9f3a"
             ],
             [
              0.8888888888888888,
              "#fdca26"
             ],
             [
              1,
              "#f0f921"
             ]
            ],
            "type": "histogram2dcontour"
           }
          ],
          "mesh3d": [
           {
            "colorbar": {
             "outlinewidth": 0,
             "ticks": ""
            },
            "type": "mesh3d"
           }
          ],
          "parcoords": [
           {
            "line": {
             "colorbar": {
              "outlinewidth": 0,
              "ticks": ""
             }
            },
            "type": "parcoords"
           }
          ],
          "pie": [
           {
            "automargin": true,
            "type": "pie"
           }
          ],
          "scatter": [
           {
            "fillpattern": {
             "fillmode": "overlay",
             "size": 10,
             "solidity": 0.2
            },
            "type": "scatter"
           }
          ],
          "scatter3d": [
           {
            "line": {
             "colorbar": {
              "outlinewidth": 0,
              "ticks": ""
             }
            },
            "marker": {
             "colorbar": {
              "outlinewidth": 0,
              "ticks": ""
             }
            },
            "type": "scatter3d"
           }
          ],
          "scattercarpet": [
           {
            "marker": {
             "colorbar": {
              "outlinewidth": 0,
              "ticks": ""
             }
            },
            "type": "scattercarpet"
           }
          ],
          "scattergeo": [
           {
            "marker": {
             "colorbar": {
              "outlinewidth": 0,
              "ticks": ""
             }
            },
            "type": "scattergeo"
           }
          ],
          "scattergl": [
           {
            "marker": {
             "colorbar": {
              "outlinewidth": 0,
              "ticks": ""
             }
            },
            "type": "scattergl"
           }
          ],
          "scattermap": [
           {
            "marker": {
             "colorbar": {
              "outlinewidth": 0,
              "ticks": ""
             }
            },
            "type": "scattermap"
           }
          ],
          "scattermapbox": [
           {
            "marker": {
             "colorbar": {
              "outlinewidth": 0,
              "ticks": ""
             }
            },
            "type": "scattermapbox"
           }
          ],
          "scatterpolar": [
           {
            "marker": {
             "colorbar": {
              "outlinewidth": 0,
              "ticks": ""
             }
            },
            "type": "scatterpolar"
           }
          ],
          "scatterpolargl": [
           {
            "marker": {
             "colorbar": {
              "outlinewidth": 0,
              "ticks": ""
             }
            },
            "type": "scatterpolargl"
           }
          ],
          "scatterternary": [
           {
            "marker": {
             "colorbar": {
              "outlinewidth": 0,
              "ticks": ""
             }
            },
            "type": "scatterternary"
           }
          ],
          "surface": [
           {
            "colorbar": {
             "outlinewidth": 0,
             "ticks": ""
            },
            "colorscale": [
             [
              0,
              "#0d0887"
             ],
             [
              0.1111111111111111,
              "#46039f"
             ],
             [
              0.2222222222222222,
              "#7201a8"
             ],
             [
              0.3333333333333333,
              "#9c179e"
             ],
             [
              0.4444444444444444,
              "#bd3786"
             ],
             [
              0.5555555555555556,
              "#d8576b"
             ],
             [
              0.6666666666666666,
              "#ed7953"
             ],
             [
              0.7777777777777778,
              "#fb9f3a"
             ],
             [
              0.8888888888888888,
              "#fdca26"
             ],
             [
              1,
              "#f0f921"
             ]
            ],
            "type": "surface"
           }
          ],
          "table": [
           {
            "cells": {
             "fill": {
              "color": "#EBF0F8"
             },
             "line": {
              "color": "white"
             }
            },
            "header": {
             "fill": {
              "color": "#C8D4E3"
             },
             "line": {
              "color": "white"
             }
            },
            "type": "table"
           }
          ]
         },
         "layout": {
          "annotationdefaults": {
           "arrowcolor": "#2a3f5f",
           "arrowhead": 0,
           "arrowwidth": 1
          },
          "autotypenumbers": "strict",
          "coloraxis": {
           "colorbar": {
            "outlinewidth": 0,
            "ticks": ""
           }
          },
          "colorscale": {
           "diverging": [
            [
             0,
             "#8e0152"
            ],
            [
             0.1,
             "#c51b7d"
            ],
            [
             0.2,
             "#de77ae"
            ],
            [
             0.3,
             "#f1b6da"
            ],
            [
             0.4,
             "#fde0ef"
            ],
            [
             0.5,
             "#f7f7f7"
            ],
            [
             0.6,
             "#e6f5d0"
            ],
            [
             0.7,
             "#b8e186"
            ],
            [
             0.8,
             "#7fbc41"
            ],
            [
             0.9,
             "#4d9221"
            ],
            [
             1,
             "#276419"
            ]
           ],
           "sequential": [
            [
             0,
             "#0d0887"
            ],
            [
             0.1111111111111111,
             "#46039f"
            ],
            [
             0.2222222222222222,
             "#7201a8"
            ],
            [
             0.3333333333333333,
             "#9c179e"
            ],
            [
             0.4444444444444444,
             "#bd3786"
            ],
            [
             0.5555555555555556,
             "#d8576b"
            ],
            [
             0.6666666666666666,
             "#ed7953"
            ],
            [
             0.7777777777777778,
             "#fb9f3a"
            ],
            [
             0.8888888888888888,
             "#fdca26"
            ],
            [
             1,
             "#f0f921"
            ]
           ],
           "sequentialminus": [
            [
             0,
             "#0d0887"
            ],
            [
             0.1111111111111111,
             "#46039f"
            ],
            [
             0.2222222222222222,
             "#7201a8"
            ],
            [
             0.3333333333333333,
             "#9c179e"
            ],
            [
             0.4444444444444444,
             "#bd3786"
            ],
            [
             0.5555555555555556,
             "#d8576b"
            ],
            [
             0.6666666666666666,
             "#ed7953"
            ],
            [
             0.7777777777777778,
             "#fb9f3a"
            ],
            [
             0.8888888888888888,
             "#fdca26"
            ],
            [
             1,
             "#f0f921"
            ]
           ]
          },
          "colorway": [
           "#636efa",
           "#EF553B",
           "#00cc96",
           "#ab63fa",
           "#FFA15A",
           "#19d3f3",
           "#FF6692",
           "#B6E880",
           "#FF97FF",
           "#FECB52"
          ],
          "font": {
           "color": "#2a3f5f"
          },
          "geo": {
           "bgcolor": "white",
           "lakecolor": "white",
           "landcolor": "#E5ECF6",
           "showlakes": true,
           "showland": true,
           "subunitcolor": "white"
          },
          "hoverlabel": {
           "align": "left"
          },
          "hovermode": "closest",
          "mapbox": {
           "style": "light"
          },
          "paper_bgcolor": "white",
          "plot_bgcolor": "#E5ECF6",
          "polar": {
           "angularaxis": {
            "gridcolor": "white",
            "linecolor": "white",
            "ticks": ""
           },
           "bgcolor": "#E5ECF6",
           "radialaxis": {
            "gridcolor": "white",
            "linecolor": "white",
            "ticks": ""
           }
          },
          "scene": {
           "xaxis": {
            "backgroundcolor": "#E5ECF6",
            "gridcolor": "white",
            "gridwidth": 2,
            "linecolor": "white",
            "showbackground": true,
            "ticks": "",
            "zerolinecolor": "white"
           },
           "yaxis": {
            "backgroundcolor": "#E5ECF6",
            "gridcolor": "white",
            "gridwidth": 2,
            "linecolor": "white",
            "showbackground": true,
            "ticks": "",
            "zerolinecolor": "white"
           },
           "zaxis": {
            "backgroundcolor": "#E5ECF6",
            "gridcolor": "white",
            "gridwidth": 2,
            "linecolor": "white",
            "showbackground": true,
            "ticks": "",
            "zerolinecolor": "white"
           }
          },
          "shapedefaults": {
           "line": {
            "color": "#2a3f5f"
           }
          },
          "ternary": {
           "aaxis": {
            "gridcolor": "white",
            "linecolor": "white",
            "ticks": ""
           },
           "baxis": {
            "gridcolor": "white",
            "linecolor": "white",
            "ticks": ""
           },
           "bgcolor": "#E5ECF6",
           "caxis": {
            "gridcolor": "white",
            "linecolor": "white",
            "ticks": ""
           }
          },
          "title": {
           "x": 0.05
          },
          "xaxis": {
           "automargin": true,
           "gridcolor": "white",
           "linecolor": "white",
           "ticks": "",
           "title": {
            "standoff": 15
           },
           "zerolinecolor": "white",
           "zerolinewidth": 2
          },
          "yaxis": {
           "automargin": true,
           "gridcolor": "white",
           "linecolor": "white",
           "ticks": "",
           "title": {
            "standoff": 15
           },
           "zerolinecolor": "white",
           "zerolinewidth": 2
          }
         }
        },
        "title": {
         "text": "Credit Limit by Attrition Flag"
        },
        "xaxis": {
         "anchor": "y",
         "domain": [
          0,
          1
         ],
         "title": {
          "text": "Attrition_Flag"
         }
        },
        "yaxis": {
         "anchor": "x",
         "domain": [
          0,
          1
         ],
         "title": {
          "text": "sum of Credit_Limit"
         }
        }
       }
      }
     },
     "metadata": {},
     "output_type": "display_data"
    }
   ],
   "source": [
    "fig = px.histogram(data, x='Attrition_Flag', y='Credit_Limit', title='Credit Limit by Attrition Flag')\n",
    "fig.show()"
   ]
  },
  {
   "cell_type": "markdown",
   "metadata": {},
   "source": [
    "- Shows lower the credit limit, higher the attrition chance"
   ]
  },
  {
   "cell_type": "markdown",
   "metadata": {},
   "source": [
    "### Relationship between Transaction Count and Attrition"
   ]
  },
  {
   "cell_type": "code",
   "execution_count": 17,
   "metadata": {},
   "outputs": [
    {
     "data": {
      "application/vnd.plotly.v1+json": {
       "config": {
        "plotlyServerURL": "https://plot.ly"
       },
       "data": [
        {
         "bingroup": "x",
         "histfunc": "sum",
         "hovertemplate": "Attrition_Flag=%{x}<br>sum of Total_Trans_Ct=%{y}<extra></extra>",
         "legendgroup": "",
         "marker": {
          "color": "#636efa",
          "pattern": {
           "shape": ""
          }
         },
         "name": "",
         "orientation": "v",
         "showlegend": false,
         "type": "histogram",
         "x": {
          "bdata": "AAAAAAAAAAAAAAAAAAAAAAAAAAAAAQAAAAAAAAAAAAAAAAAAAAAAAQAAAAAAAAAAAAAAAQAAAQAAAAAAAAEAAAAAAAAAAAAAAAAAAAAAAAAAAAEAAAAAAAAAAAAAAAAAAAAAAQAAAAAAAAAAAAAAAAAAAAAAAAAAAAAAAAAAAAEAAAAAAAAAAAAAAAABAAAAAQEAAAAAAAAAAAAAAAAAAAAAAAAAAAAAAQAAAAEAAAAAAAAAAAAAAAAAAAAAAAAAAAAAAAAAAQAAAAAAAAABAQAAAAAAAAAAAAAAAAAAAAAAAAAAAAABAAAAAAABAAAAAQABAQAAAAEAAAAAAAEAAAAAAAAAAQAAAAAAAAEAAAAAAAAAAQAAAAAAAAEAAAEAAQAAAAAAAAAAAAAAAAAAAAAAAAAAAAAAAAABAAAAAAAAAAAAAAAAAAAAAAAAAAAAAAEAAAAAAAEAAAAAAAAAAAAAAAAAAAAAAAAAAAAAAAAAAAAAAAAAAAAAAAAAAAAAAAABAAAAAAAAAAAAAAAAAAABAAAAAAEAAAAAAAAAAAABAAAAAQAAAAAAAQAAAQAAAAAAAAAAAAAAAAAAAAABAQAAAAEAAAABAAAAAAAAAAEAAAABAAAAAAABAAEAAAAAAAAAAAAAAAAAAAAAAAAAAAAAAAAAAAAAAAAAAAABAAAAAAAAAAAAAQAAAQAAAAAAAAAAAAAAAQAAAQAAAAAAAAAAAAABAQAAAAAAAAAAAAEAAAAAAQAAAAEAAAAAAAAAAAAAAAEBAAEAAAAAAAAAAAABAQABAAEAAAAAAAEAAAAAAAAAAAAAAAAAAAAAAAAAAQABAAAAAAAAAAAAAAAAAAEAAAAAAAAAAAEAAAABAAAAAQABAAAAAAAAAAAAAAAAAAAAAAABAAAAAAAAAAAAAAABAAEAAAAAAAAAAAAAAAAAAAAAAAAAAAAAAAAAAQAAAAAAAAAAAAEBAAAAAAABAAAAAAAAAAAAAAAAAAAAAAABAAAAAAEAAAAAAAABAAAAAAAAAAAAAAEAAAAAAAAAAAABAAAAAAAAAAAAAAAAAAAAAAAAAAAAAAAAAQAAAQAAAQAAAAAAAAAAAAAAAAAAAAAAAQAAAAAAAAAAAAAAAQAAAAAAAAABAAAAAAAAAAAAAAEAAAAAAAAAAAAAAAAAAAEBAAAAAAABAAAAAAAAAAAAAAAAAAAAAAABAAAAAAAAAAAAAAAAAAAAAQEAAAAAAAAAAAAAAAABAAAAAAAAAAAAAAAAAAAAAAAAAAAAAAAAAAAAAAAAAAAAAAABAAAAAAAAAQAAAAAAAAAAAAAAAAAAAAAAAAAAAAAAAAEAAQEAAAAAAAAAAAAAAAAAAAAAAAABAAAAAAAAAAAAAAEAAAAAAAABAQABAAEAAAAAAAAAAAAAAAAAAQAAAAAAAAAAAAAAAQAAAAAAAAAAAAAAAAABAAAAAAAAAAAAAAAAAAAAAAAAAAAAAAAAAAAAAAAAAAEAAAAAAAAAAAAAAAAAAAAAAQAAAAEAAAAAAAAAAAAAAAAAAAAAAAAAAQAAAAAAAAEAAAAAAAAAAAAAAAAAAAAAAAAAAAAAAAAAAAAAAAAAAQABAAAAAAAAAAAAAAAAAAAAAAAAAAAAAAAAAAAAAAAAAAAAAAAAAAAAAAAAAAABAAAAAQAAAAAAAQAAAAAAAAAAAAABAAAAAAAAAAAAAQAAAAAAAAAAAAAAAAAAAAEAAAAAAAAAAAAAAAAAAAAAAQAAAAAAAAAAAAAAAAAAAAABAAAAAAAAAAAAAAAAAAAAAQAAAAAAAQEAAAAAAQAAAAAAAAAAAAAAAAAAAAAAAAAAAAAAAAAAAAAAAAAAAAAAAAAAAAAAAAAAAAAAAAAAAAAAAAAAAAABAAAAAAAAAAAAAAAAAAABAAAAAAAAAAAAAAAAAQAAAAAAAAAAAAAAAAAAAAAAAAAAAAEBAAAAAAAAAAAAAAEBAAAAAAAAAAAAAAAAAAAAAAAAAAAAAAAAAAAAAAAAAAAAAAAAAAAAAAAAAAAAAAAAAAAAAAAAAAAAAAAAAAAAAAAAAAAAAAAAAAAAAAAAAAEAAAAAAAAAAAAAAAAAAAAAAAEAAAAAAAEAAAAAAAABAAAAAAAAAAAAAAAAAQAAAAAAAAAAAAEAAAAAAAAAAAAAAAAAAAABAAAAAAABAAAAAAAAAAAAAAAAAAABAAAAAAABAAAAAAAAAAAAAQAAAAAAAAAAAAAAAAAAAAAAAAAAAAAAAAAAAAEAAAAAAAAAAAAAAAAAAQAAAAAAAAAAAAAAAAABAAAAAAAAAAAAAAAAAAAAAAAAAAABAAAAAAAAAAAAAQAAAAAAAAAAAAAAAAAAAAAAAAAAAAAAAAAAAAAAAAAAAAAAAAAAAAAAAQAAAAAAAAAAAAAAAAAAAAAAAAAAAAAAAQAAAAAAAAAAAQAAAQAAAAAAAAAAAAEAAAAAAAAAAAAAAAAAAAAAAAAAAQAAAAEAAAEAAAAAAAAAAAAAAQABAAAAAAAAAAAAAAAAAAAAAAAAAAAAAAAAAQAAAAAAAAAAAAAAAQAAAAAAAAAAAAAAAAAAAAAAAAAAAAAAAAAAAAAAAAAAAQAAAQAAAAAAAAAAAAAAAAAAAQAAAAEAAAAAAAAAAAAAAAAAAAAAAAAAAAAAAAAAAAEAAAAAAAEAAAAAAAAAAAAAAAAAAQAAAAAAAAAAAAAAAAEAAAAAAAAAAAAAAQAAAAAAAAAAAAAAAAAAAAAAAAAAAAAAAAAAAAAAAAAAAAEAAAAAAAAAAAAAAAAAAAAAAAAAAAEAAAAAAAAAAAAAAQAAAAAAAAAAAAAAAAEAAAABAAAAAAAAAAAAAAAAAAAAAAAAAAAAAAAAAAAAAAAAAAAAAAABAAAAAAAAAAAAAAABAAAAAAAAAAAAAAEBAAAAAAAAAAAAAAAAAAABAAAAAAAAAAAAAAAAAAAAAAAAAAEAAQAAAAABAAAAAAAAAAAAAAAAAAAAAAAAAAAAAAAAAAAAAAAAAAAAAAAAAQAAAAAAAQAAAAAAAAAAAAAAAAEAAAAAAAAAAQAAAAEAAAAAAAAAAAAAAAAAAAAAAAAAAAAAAAAAAAAAAAAAAQAAAAEAAAAAAAAAAAAAAAAAAAAAAAAAAAAAAAAAAAAAAAAAAAAAAAAAAAAAAAAAAAAAAAAAAAAAAAAAAAAAAAAAAAAAAAAAAAAAAQAAAAAAAAABAAABAAEAAAAAAAAAAAAAAAAAAAABAAAAAAAAAAAAAAAAAAAAAAAAAAAAAAAAAAAAAAAAAAAAAAAAAAAAAAAAAAAAAAAAAAAAAAAAAAAAAAAAAAAAAAAAAAEAAAAAAAAAAAABAQAAAAAAAAAAAAAAAAAAAAAAAAAAAAAAAAAAAAAAAAABAAAAAAAAAAAAAAEAAQAAAAAAAAAAAAAAAAAAAAAAAAAAAAAAAAAAAAAAAAAAAAAAAAAAAAAAAAAAAAAAAAAAAAAAAAAAAAAAAAAAAQAAAAAAAAAAAAAAAAAAAAAAAAAAAAAAAAAAAAAAAAAAAAAAAAAAAAAAAAAAAAAAAAAAAAEAAAAAAAAAAAEAAAAAAAAAAAAAAAAAAAAAAAAAAAAAAAAAAAAAAAAAAAAAAAAAAAAAAAAAAAAAAAAAAAAAAAAAAAAAAQAAAAAAAAAAAAAAAAAAAAAAAAAAAAAAAAAAAAAAAAAAAAAAAAAAAAAAAAAAAAEAAAAAAAAAAQAAAAAAAAAAAAAAAAAAAAAAAAAAAAAAAAAAAAAAAAAAAQAAAAAAAAAAAAAAAAAAAAAAAAAAAAABAAAAAQAAAAAAAAAAAAAAAAAAAAABAAABAAAAAAAAAAAAAAAAAAAAAAAAAQAAAAAAAAAAAAAAAAAAAAAAAAAAAAAAAAAAAAAAAAABAAAAAAAAAAAAAAAAAAAAAAAAAAAAAAAAAAAAAAEAAQAAAAAAAAAAAAAAAQAAAAAAAAAAAAAAAAAAAAAAAAEAAAAAAAAAAAABAAAAAAAAAAAAAAAAAAAAAAAAAAEAAAAAAAAAAAEBAAAAAAAAAAAAAAAAAAAAAAAAAAAAAAEAAAAAAAAAAAAAAAAAAAEAAAAAAAAAAAAAAAABAAAAAAAAAAABAAAAAAAAAAEAAAAAAAAAAAAAAAAAAAAAAAAAAAAAAAAAAAAAAQAAAAAAAAEAAAABAAAAAAAAAAAAAAAAAAEAAQAAAAAAAAEAAAAAAAABAAAAAQAAAQAAAAAAAAAAAQAAAAAAAAABAAAAAAABAAABAAEAAAAAAQAAAAAAAAAAAAAAAAABAAAAAAAAAAABAAAAAAAAAQAAAAAAAAAAAAAAAAAAAAAAAAAAAAAAAAAAAAAAAAAAAAAAAAABAAABAAAAAAAAAAABAQAAAAEAAAAAAAAAAAAAAAAAAAAAAQAAAAEAAAAAAAAAAAABAQAAAAAAAAEAAAABAAAAAAAAAAAAAAAAAAAAAAAAAAAAAQAAAAAAAAABAQAAAQEAAAEAAAAAAAEAAAAAAAEAAAAAAAAAAAABAAAAAAABAAAAAAAAAAAAAAAAAAAAAAAAAAEAAAAAAAEAAAAAAAAAAAAAAAEBAAAAAQAAAAAAAAABAAABAAAAAAEAAAAAAAAAAAAAAAAAAAEAAQEAAAAAAAAAAAAAAAAAAAAAAQAAAAAAAAAAAQAAAAAAAAAAAAAAAAAAAAAAAAAAAAAAAAABAAAAAAABAAAAAAAAAAAAAAAAAAAAAAAAAAAAAQAAAAAAAQAAAAAAAAAAAAAAAAABAAAAAAAAAAABAAABAQEAAAAAAQABAQEAAAEAAAAAAAAAAAAAAAAAAAABAAAAAAAAAAAAAAABAAEAAAAAAAABAAAAAAAAAAAAAAAAAQABAAEAAAAAAQAAAAABAAEAAAAAAQAAAAAAAAAAAAAAAAAAAAAAAAABAQEAAAAAAAAAAAAAAAEAAAABAAAAAAAAAAEAAAAAAAAAAQAAAAAAAQAAAAAAAAEAAAAAAAAAAAAAAAAAAAAAAAAAAAAAAAABAAEAAAABAAEAAAABAAABAAAAAAAAAAABAAAAAAAAAQAAAQABAQAAAAABAAEAAQEAAQAAAAAAAAEAAAAAAAAAAAAAAAAAAAEAAQABAAAAAAAAAAAAAAABAAAAAAAAAAEAAAAAAAAAAAAAAAAAAAAAAAAAAAAAAAAAAAAAAAEAAQABAAAAAAAAAAAAAAEBAAAAAQAAAAAAAQAAAAAAAAEAAAAAAAAAAAAAAAABAQAAAAEAAAAAAAAAAAABAAEAAQABAAABAAAAAQAAAAAAAAAAAAAAAAAAAAAAAAABAAAAAAEAAQAAAAEAAAABAAAAAAAAAQAAAAAAAAAAAAAAAQAAAAEAAAAAAAEAAAEAAAABAAEBAAAAAAAAAAEAAAAAAQAAAAAAAAAAAAAAAAEBAAAAAQAAAAABAAAAAAAAAAAAAQABAAEAAAAAAAAAAAAAAAAAAAABAAAAAAAAAAAAAAAAAQEBAAAAAAAAAAAAAAAAAAABAAAAAAAAAAABAAEAAAEAAAEBAAEAAAAAAAABAAABAAAAAAAAAAAAAAAAAAEAAAAAAAABAQAAAAEAAAEAAQEBAAEAAAABAAAAAAEAAAAAAAAAAAABAAAAAAAAAQAAAAAAAAAAAQAAAAEAAAAAAAAAAAEAAAEAAAAAAAEAAAAAAAABAAAAAAEAAAEAAQEBAAAAAAAAAAEAAAABAAAAAAAAAAAAAAABAAAAAQAAAAAAAAAAAAAAAAAAAAAAAAAAAAABAAAAAAAAAAAAAQAAAAEAAQABAQAAAAAAAAAAAAAAAAABAAAAAQAAAAEBAAAAAAEAAAAAAAAAAAABAAAAAAEBAAAAAAEAAAAAAAAAAAEAAAABAAAAAAAAAAEAAAEAAAEAAAABAAAAAAEAAAAAAAEAAAEAAAEAAQABAAEAAAABAAAAAAAAAAAAAAAAAAAAAQAAAAAAAAEAAAAAAAAAAAEAAAEBAAEAAAABAAABAAAAAAAAAAABAAAAAAEBAAEAAAAAAAAAAQABAAEAAQAAAAAAAAAAAQEAAAEBAAAAAAAAAAAAAAAAAAAAAAAAAAEBAAAAAAEAAQAAAAAAAAABAAAAAQAAAQEAAAAAAAAAAQABAAAAAAAAAAEAAAEAAAAAAAAAAAEAAAAAAAAAAAEAAAAAAAABAAAAAAAAAAABAAEAAAAAAAEBAQAAAAEBAAAAAAABAAAAAAEAAQAAAAAAAAABAQAAAQAAAAAAAAABAAAAAAEAAAEAAAEAAQAAAAEAAAAAAAEAAAAAAAABAAAAAAAAAAAAAAABAQABAAEAAAAAAQAAAQAAAAEBAAAAAAABAAAAAAAAAAEAAAAAAAAAAAABAAEAAAAAAAAAAQAAAAAAAQAAAQAAAAEBAAAAAAABAAABAAAAAAABAAAAAQAAAAAAAQAAAQAAAAAAAQAAAAAAAAABAQAAAAABAAAAAAABAQAAAAABAAAAAAAAAQAAAQAAAQAAAQAAAAAAAQAAAAAAAAABAQEBAAAAAAAAAAABAAEBAAAAAAAAAAAAAAAAAAABAAEAAAEAAAAAAQAAAAEAAAAAAAAAAAAAAQAAAAABAAEBAAEBAAAAAQEAAAAAAAAAAQEAAAAAAAAAAAEAAAABAAABAQAAAAABAAAAAQAAAAEBAAEAAAEBAAAAAAABAAAAAAAAAQABAQAAAAAAAQAAAAAAAAAAAQABAAAAAAABAQEAAAAAAAAAAAAAAQABAAAAAAAAAQABAQAAAAAAAAAAAAABAAAAAAABAQEAAAAAAQAAAAAAAAAAAAABAAABAAEAAAAAAAAAAQEBAAAAAAAAAAAAAAAAAAAAAAABAAEBAQAAAQAAAAAAAQEAAAAAAAEAAAAAAQEAAAABAAABAAAAAAAAAQABAAAAAAEAAAEAAAABAQEAAAAAAAAAAAAAAAAAAAAAAAAAAAEAAAEBAAAAAAAAAAABAAAAAAABAAAAAAEAAAEBAAAAAAAAAQAAAAEAAQAAAAAAAAAAAAEAAQABAQAAAAEAAQEAAQEAAAAAAQAAAAEAAAAAAAAAAAAAAAABAQAAAAAAAAAAAAABAQAAAAAAAAAAAAEBAAAAAAAAAAAAAQAAAAAAAAEAAQAAAAAAAAEAAQAAAAAAAAEAAAABAAAAAAAAAAEBAAAAAAAAAAEBAAABAAAAAQAAAQAAAAAAAQEAAAAAAAAAAAAAAAAAAAEAAQAAAQAAAQAAAAAAAAAAAAAAAAAAAAEAAAAAAAEBAQAAAAABAAAAAAAAAAEAAQAAAAAAAAAAAAAAAAAAAAAAAAAAAQAAAAAAAAAAAAEAAAAAAAABAAAAAAEAAAABAAAAAAABAAAAAAAAAQAAAQAAAAEAAAEAAAAAAAABAAABAQEAAAAAAQABAAAAAQAAAAAAAQAAAQAAAAEAAAAAAQAAAAAAAAAAAAAAAAAAAAABAAAAAQAAAAAAAAEAAAEAAAEAAAAAAAAAAAEAAQEBAQEAAAAAAQEAAAAAAAEBAAAAAQAAAAEAAAAAAAABAAEAAQAAAAEAAAEBAQEAAQAAAAEAAAEBAQAAAAEAAAABAQAAAAEAAAAAAAEAAQAAAAAAAAAAAAAAAAAAAAABAAABAAAAAAAAAQAAAQAAAQAAAAEAAAEAAAABAAAAAAAAAAAAAAAAAAABAAAAAQAAAAAAAQABAQAAAAAAAQAAAAAAAAAAAQAAAAAAAAAAAAAAAAAAAAAAAAEBAAAAAAAAAAAAAQAAAQAAAQAAAAAAAQAAAAAAAQAAAAAAAAEAAQAAAAAAAAAAAAAAAAEBAAABAAEAAAAAAAAAAAAAAAAAAAAAAQAAAAEAAAABAAABAQAAAQEAAQEAAAAAAQAAAAAAAAAAAQAAAAAAAAABAAAAAQAAAQAAAQAAAAAAAQABAAAAAAEAAAEAAQAAAAAAAAAAAAEAAAAAAQAAAAABAAABAAAAAAAAAAAAAAAAAQAAAAEAAAEAAAAAAAABAAAAAAEAAAABAAAAAAABAAABAAEAAAAAAQAAAQAAAAEAAAAAAAABAAAAAQAAAAEAAAAAAAAAAAEAAAABAAAAAAAAAAABAAEBAQAAAAAAAAAAAAAAAAAAAAEBAAEAAAEAAAAAAAAAAAAAAAAAAAEAAAAAAAAAAQEBAAAAAAAAAAAAAAABAAAAAAABAAAAAAAAAAABAAABAAAAAAAAAAEAAAABAAAAAQAAAAAAAAAAAAAAAAAAAAAAAAABAAAAAAAAAAAAAAEAAAAAAQAAAAAAAAAAAQAAAAAAAAEAAQABAAABAAAAAQAAAQAAAAAAAAEAAQEAAQAAAAAAAAEAAQAAAQAAAQAAAAAAAAAAAAAAAAEAAAAAAAEAAAAAAAAAAAAAAQABAAAAAAAAAAEAAQEAAAEAAAEAAAEAAAAAAAABAQAAAAAAAAAAAAABAAEBAAABAAAAAAEBAAAAAAEAAAAAAQABAAAAAAAAAAABAAAAAAABAAABAAEAAAAAAAEAAQAAAAABAAAAAQAAAAEAAAAAAAAAAQEAAQAAAQAAAQAAAAAAAQAAAAAAAAEBAQAAAAAAAAAAAAAAAAABAAAAAAABAAAAAQABAAAAAAAAAAEAAAAAAQAAAAABAQAAAQEAAAAAAAABAAEAAQABAAEAAAAAAAABAQAAAAAAAAAAAQEAAAABAAAAAAAAAAABAAAAAAABAQABAAAAAAEAAAAAAQEAAAAAAAEAAQEAAQEAAAABAAAAAAAAAAEAAQAAAQAAAAABAAEAAAAAAQEBAAEAAQEAAAAAAAAAAQAAAAAAAAEAAAABAQEAAQAAAAAAAAAAAAABAAAAAAEAAAEAAAAAAAAAAAAAAAAAAAEAAAABAAAAAAABAAAAAAAAAQAAAQAAAQEAAAEAAAABAAEAAAAAAAAAAAAAAQAAAAAAAAAAAAAAAAAAAAEAAAAAAAAAAQAAAAAAAAEAAQABAQAAAAAAAAAAAAABAAAAAAAAAAEAAAABAAAAAAAAAAAAAAAAAAAAAAABAAABAAAAAAABAAAAAAAAAQEAAAAAAQABAAAAAAEAAAAAAAAAAAAAAQAAAAAAAAAAAQEAAAAAAAAAAAAAAQAAAAEAAAAAAAAAAAAAAAABAAAAAAAAAAABAAAAAAAAAAAAAAEAAQEAAQAAAAEAAQEAAAAAAAAAAAAAAAAAAAAAAAAAAQABAAEAAAAAAQAAAAAAAAEAAAAAAAEBAAAAAAAAAAAAAQAAAQEAAAAAAAABAAAAAAAAAQABAQAAAAAAAAEAAAAAAQAAAAAAAAAAAAABAAEAAAAAAAAAAQEAAAAAAAAAAAAAAAABAAABAAABAAAAAAAAAAAAAAEAAAAAAQAAAAEAAQEAAAAAAAABAAABAAAAAAABAQEAAAAAAAAAAQAAAAEAAAAAAAAAAQAAAAEAAQAAAAABAQABAQAAAAAAAQEBAAAAAAAAAAABAAAAAAAAAAAAAAAAAAAAAAAAAAEAAQAAAAABAAAAAAAAAAEAAQAAAAABAAEAAAAAAAAAAQAAAAAAAAEAAAAAAQAAAAABAAAAAAEAAAAAAAABAAABAAAAAAAAAAAAAAABAAEAAAABAAABAAAAAAAAAQAAAAEAAAAAAAAAAAEAAQAAAAABAAABAAAAAAABAAAAAAAAAAABAAABAAAAAAAAAAABAAEAAAAAAAABAAEAAQEAAAAAAAEAAAEBAAABAAAAAQAAAQAAAQEAAAAAAQABAAEAAAAAAAABAAAAAAAAAAAAAQAAAAAAAAEAAAAAAAEBAAEAAAEAAAAAAAAAAQAAAAAAAQAAAAAAAAAAAAAAAAAAAAAAAAAAAAEAAAABAQAAAQAAAAEAAAEAAAEBAAAAAQAAAAAAAAEAAAAAAAABAQABAQABAAABAQABAAAAAAAAAAAAAAAAAAAAAAAAAAABAAAAAAAAAAAAAAAAAAAAAAEAAQAAAAABAAAAAAEAAAAAAAABAAAAAAEBAAAAAAEAAQABAAAAAQABAAAAAAAAAAAAAAAAAAAAAAAAAAAAAAAAAQAAAAEBAAAAAAAAAAAAAAAAAAABAAAAAAABAAAAAAAAAQAAAAAAAAAAAAAAAQAAAAAAAAAAAAAAAAAAAAABAAAAAAAAAAEAAAAAAAAAAAABAQEAAAAAAAABAAAAAAEAAAAAAAEAAAAAAAAAAAAAAAAAAAAAAAAAAAABAAABAAABAAAAAQAAAAEAAQEBAAEBAAABAAEAAAABAAAAAAAAAQAAAQAAAAAAAAAAAQAAAAEAAAAAAQEAAAAAAAEAAAAAAQEAAAAAAAAAAAABAAAAAAAAAAAAAQEAAAAAAAAAAAABAAAAAAAAAQAAAAAAAQABAAABAAEAAQAAAAEAAAAAAAAAAQEAAAEAAAAAAAABAAAAAAAAAAAAAQAAAQAAAAEBAAAAAAAAAAAAAAAAAAEAAAAAAAAAAAABAQAAAAAAAAAAAAEAAAEAAAAAAAEBAQEAAAAAAAEAAAAAAAEAAAAAAAAAAAEAAAAAAAAAAAAAAAAAAQEBAAEAAAEBAQEAAAEAAAAAAAAAAQEAAAAAAAEAAAAAAAAAAAAAAQAAAAAAAAAAAAABAAAAAAEAAAAAAQABAAAAAAAAAQAAAAEAAAABAQABAQABAAAAAAAAAAAAAAAAAAEAAAAAAQEBAQAAAAAAAAAAAAEAAAEBAQAAAQABAAAAAQAAAQEAAAAAAQAAAAABAAAAAAEAAAEAAAAAAAEBAAAAAAAAAAAAAAABAAEAAQAAAAAAAAABAQAAAAAAAAEBAQAAAQAAAQAAAAAAAAAAAAAAAAAAAAAAAQEAAAAAAQAAAAABAAEBAAEAAAAAAAEAAAAAAAAAAAAAAAABAAEAAQEAAAEAAAAAAAAAAAEAAAAAAAEAAAAAAAAAAAABAAAAAQAAAAABAAAAAAAAAAAAAAAAAQEBAQABAAAAAQAAAAAAAAAAAAAAAQAAAAAAAAEAAAAAAAAAAAEAAAAAAAAAAAAAAAAAAAAAAAAAAAAAAQAAAAAAAAABAQAAAAAAAAAAAAAAAAAAAAAAAAAAAAAAAAABAAABAAAAAAAAAAAAAAAAAAAAAAABAAAAAQAAAAAAAAABAAAAAAEAAQAAAQABAAABAAAAAAAAAAEAAAAAAAABAAEBAAAAAAAAAAAAAAAAAAAAAAABAQAAAAAAAAAAAAEAAAAAAAAAAAEAAAAAAAAAAAAAAAAAAAAAAAAAAAAAAAAAAAEAAAAAAAEAAQAAAAAAAAAAAQAAAQAAAAABAAAAAAAAAAAAAAAAAAEAAAEAAAEAAQAAAAAAAAAAAAAAAAABAAAAAAABAAAAAQAAAAAAAAEAAQABAAAAAAABAAAAAAAAAQAAAAEAAQAAAAAAAQAAAAAAAQAAAAABAAEAAAAAAQEAAAEAAAABAAAAAAABAAEBAQAAAAABAQABAAAAAAAAAAAAAAAAAAAAAAAAAAAAAAAAAAAAAAAAAAAAAAAAAQAAAAAAAAAAAAEAAAAAAAAAAAAAAAAAAAAAAAAAAAAAAAAAAAAAAAAAAAAAAAAAAQAAAQEAAAAAAAAAAAAAAQAAAAAAAAAAAAAAAAAAAAAAAAAAAAAAAQAAAAAAAAAAAAAAAAAAAAEAAAAAAAAAAAAAAAAAAAAAAAABAQAAAAAAAAAAAAAAAAEAAAEAAAABAQABAAAAAAAAAAEAAQABAAAAAAABAAABAAAAAQAAAAEAAAAAAAAAAAEAAAAAAAAAAAAAAAAAAAAAAQAAAQAAAQAAAAABAAAAAAAAAAEAAAAAAAAAAAAAAAAAAAAAAAAAAAAAAAEAAQAAAAEBAAAAAAAAAAAAAAAAAAAAAQEBAAAAAAABAAAAAAAAAAAAAAAAAAABAAEAAAAAAAEAAAAAAAAAAAAAAAAAAAAAAQAAAAAAAAABAAAAAQAAAAAAAAAAAAAAAQAAAAAAAAEAAQAAAAAAAQAAAAAAAAAAAAAAAAAAAAAAAAAAAAABAAEAAAAAAAABAAAAAAAAAAABAAEAAAABAAABAAAAAAAAAAABAQAAAAAAAAAAAAAAAAAAAAAAAAABAAAAAAAAAAAAAAAAAAEAAQAAAAABAAAAAAABAAAAAAAAAAAAAAEAAQAAAAAAAAAAAAEAAQEBAQAAAAAAAAAAAAEAAAAAAAAAAQEAAAAAAAAAAQAAAAAAAQEBAAAAAAEAAQAAAAABAAABAAAAAQEBAAAAAAEAAAEAAAAAAAEAAAAAAAAAAAAAAQAAAAEAAAAAAAABAQAAAAABAQAAAAAAAAABAAEBAAAAAAABAAABAAEBAAEBAQABAQEAAAAAAAAAAQAAAAEBAAAAAAEAAAAAAAAAAAAAAAAAAAABAAEAAAAAAAAAAAEAAAEBAAAAAQAAAAAAAAAAAAAAAAABAAABAAAAAAEAAAAAAAEAAAAAAAAAAQEAAAAAAQAAAAAAAQEAAAEAAAAAAAAAAAEAAAAAAAAAAAABAAEAAAAAAQAAAAAAAQAAAAAAAQAAAAAAAAEAAAAAAAEBAAAAAAAAAAAAAAEAAAAAAAAAAQEAAAAAAAEBAAEAAAAAAAAAAAAAAAAAAQAAAQAAAAAAAAAAAQAAAAAAAQAAAAAAAAEBAAABAAABAAAAAAAAAQABAQAAAAAAAAABAQABAAAAAAAAAQEAAAAAAAAAAAAAAAAAAAAAAAAAAQAAAAAAAAAAAAAAAAEAAAABAAABAAAAAQAAAQAAAQABAAAAAAABAQAAAAABAQAAAQAAAQEBAQABAQAAAAAAAQABAAAAAAAAAAAAAAAAAAAAAAAAAQABAAABAAAAAAAAAAAAAQAAAAAAAAEAAAABAAEAAQEAAAABAQAAAAAAAQABAAAAAAAAAAAAAAAAAAEAAAABAAEAAAABAAABAQAAAQAAAAAAAAABAAABAAAAAQEAAAAAAQEBAAABAAEAAAAAAAAAAQAAAAAAAQAAAQAAAAAAAAEBAAAAAAAAAAEAAAAAAAEBAAAAAAAAAQAAAAABAAEAAQABAQAAAAAAAAABAQEAAAAAAAABAQAAAAABAAEAAAEBAAAAAAEAAQEBAAABAAAAAAEAAAEBAAEAAAAAAAEAAAEAAQEAAAAAAAAAAAABAAAAAQAAAAAAAAAAAQABAAEAAAABAAEAAAEBAAAAAAAAAAEBAAAAAAAAAAEAAAAAAAEAAAAAAQEAAAAAAAAAAQEAAAAAAAAAAQEAAAAAAAAAAAEBAAAAAQAAAAABAAAAAAAAAAAAAQAAAAAAAQEAAAEAAQEBAQAAAQAAAAABAAAAAQAAAAABAAAAAQAAAQABAAAAAAAAAQEAAAEAAAABAAAAAQAAAAABAAAAAAEAAQAAAAABAAABAAEAAQEBAQEAAAAAAAAAAAABAAAAAAABAAAAAAAAAQEAAQEBAAEBAAAAAAAAAAABAQABAAAAAQAAAAAAAAAAAAAAAAAAAAAAAQAAAQAAAAAAAQAAAAABAAEAAQEAAAABAQAAAAABAQAAAAEBAQE=",
          "dtype": "i1"
         },
         "xaxis": "x",
         "y": {
          "bdata": "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",
          "dtype": "i2"
         },
         "yaxis": "y"
        }
       ],
       "layout": {
        "barmode": "relative",
        "legend": {
         "tracegroupgap": 0
        },
        "template": {
         "data": {
          "bar": [
           {
            "error_x": {
             "color": "#2a3f5f"
            },
            "error_y": {
             "color": "#2a3f5f"
            },
            "marker": {
             "line": {
              "color": "#E5ECF6",
              "width": 0.5
             },
             "pattern": {
              "fillmode": "overlay",
              "size": 10,
              "solidity": 0.2
             }
            },
            "type": "bar"
           }
          ],
          "barpolar": [
           {
            "marker": {
             "line": {
              "color": "#E5ECF6",
              "width": 0.5
             },
             "pattern": {
              "fillmode": "overlay",
              "size": 10,
              "solidity": 0.2
             }
            },
            "type": "barpolar"
           }
          ],
          "carpet": [
           {
            "aaxis": {
             "endlinecolor": "#2a3f5f",
             "gridcolor": "white",
             "linecolor": "white",
             "minorgridcolor": "white",
             "startlinecolor": "#2a3f5f"
            },
            "baxis": {
             "endlinecolor": "#2a3f5f",
             "gridcolor": "white",
             "linecolor": "white",
             "minorgridcolor": "white",
             "startlinecolor": "#2a3f5f"
            },
            "type": "carpet"
           }
          ],
          "choropleth": [
           {
            "colorbar": {
             "outlinewidth": 0,
             "ticks": ""
            },
            "type": "choropleth"
           }
          ],
          "contour": [
           {
            "colorbar": {
             "outlinewidth": 0,
             "ticks": ""
            },
            "colorscale": [
             [
              0,
              "#0d0887"
             ],
             [
              0.1111111111111111,
              "#46039f"
             ],
             [
              0.2222222222222222,
              "#7201a8"
             ],
             [
              0.3333333333333333,
              "#9c179e"
             ],
             [
              0.4444444444444444,
              "#bd3786"
             ],
             [
              0.5555555555555556,
              "#d8576b"
             ],
             [
              0.6666666666666666,
              "#ed7953"
             ],
             [
              0.7777777777777778,
              "#fb9f3a"
             ],
             [
              0.8888888888888888,
              "#fdca26"
             ],
             [
              1,
              "#f0f921"
             ]
            ],
            "type": "contour"
           }
          ],
          "contourcarpet": [
           {
            "colorbar": {
             "outlinewidth": 0,
             "ticks": ""
            },
            "type": "contourcarpet"
           }
          ],
          "heatmap": [
           {
            "colorbar": {
             "outlinewidth": 0,
             "ticks": ""
            },
            "colorscale": [
             [
              0,
              "#0d0887"
             ],
             [
              0.1111111111111111,
              "#46039f"
             ],
             [
              0.2222222222222222,
              "#7201a8"
             ],
             [
              0.3333333333333333,
              "#9c179e"
             ],
             [
              0.4444444444444444,
              "#bd3786"
             ],
             [
              0.5555555555555556,
              "#d8576b"
             ],
             [
              0.6666666666666666,
              "#ed7953"
             ],
             [
              0.7777777777777778,
              "#fb9f3a"
             ],
             [
              0.8888888888888888,
              "#fdca26"
             ],
             [
              1,
              "#f0f921"
             ]
            ],
            "type": "heatmap"
           }
          ],
          "histogram": [
           {
            "marker": {
             "pattern": {
              "fillmode": "overlay",
              "size": 10,
              "solidity": 0.2
             }
            },
            "type": "histogram"
           }
          ],
          "histogram2d": [
           {
            "colorbar": {
             "outlinewidth": 0,
             "ticks": ""
            },
            "colorscale": [
             [
              0,
              "#0d0887"
             ],
             [
              0.1111111111111111,
              "#46039f"
             ],
             [
              0.2222222222222222,
              "#7201a8"
             ],
             [
              0.3333333333333333,
              "#9c179e"
             ],
             [
              0.4444444444444444,
              "#bd3786"
             ],
             [
              0.5555555555555556,
              "#d8576b"
             ],
             [
              0.6666666666666666,
              "#ed7953"
             ],
             [
              0.7777777777777778,
              "#fb9f3a"
             ],
             [
              0.8888888888888888,
              "#fdca26"
             ],
             [
              1,
              "#f0f921"
             ]
            ],
            "type": "histogram2d"
           }
          ],
          "histogram2dcontour": [
           {
            "colorbar": {
             "outlinewidth": 0,
             "ticks": ""
            },
            "colorscale": [
             [
              0,
              "#0d0887"
             ],
             [
              0.1111111111111111,
              "#46039f"
             ],
             [
              0.2222222222222222,
              "#7201a8"
             ],
             [
              0.3333333333333333,
              "#9c179e"
             ],
             [
              0.4444444444444444,
              "#bd3786"
             ],
             [
              0.5555555555555556,
              "#d8576b"
             ],
             [
              0.6666666666666666,
              "#ed7953"
             ],
             [
              0.7777777777777778,
              "#fb9f3a"
             ],
             [
              0.8888888888888888,
              "#fdca26"
             ],
             [
              1,
              "#f0f921"
             ]
            ],
            "type": "histogram2dcontour"
           }
          ],
          "mesh3d": [
           {
            "colorbar": {
             "outlinewidth": 0,
             "ticks": ""
            },
            "type": "mesh3d"
           }
          ],
          "parcoords": [
           {
            "line": {
             "colorbar": {
              "outlinewidth": 0,
              "ticks": ""
             }
            },
            "type": "parcoords"
           }
          ],
          "pie": [
           {
            "automargin": true,
            "type": "pie"
           }
          ],
          "scatter": [
           {
            "fillpattern": {
             "fillmode": "overlay",
             "size": 10,
             "solidity": 0.2
            },
            "type": "scatter"
           }
          ],
          "scatter3d": [
           {
            "line": {
             "colorbar": {
              "outlinewidth": 0,
              "ticks": ""
             }
            },
            "marker": {
             "colorbar": {
              "outlinewidth": 0,
              "ticks": ""
             }
            },
            "type": "scatter3d"
           }
          ],
          "scattercarpet": [
           {
            "marker": {
             "colorbar": {
              "outlinewidth": 0,
              "ticks": ""
             }
            },
            "type": "scattercarpet"
           }
          ],
          "scattergeo": [
           {
            "marker": {
             "colorbar": {
              "outlinewidth": 0,
              "ticks": ""
             }
            },
            "type": "scattergeo"
           }
          ],
          "scattergl": [
           {
            "marker": {
             "colorbar": {
              "outlinewidth": 0,
              "ticks": ""
             }
            },
            "type": "scattergl"
           }
          ],
          "scattermap": [
           {
            "marker": {
             "colorbar": {
              "outlinewidth": 0,
              "ticks": ""
             }
            },
            "type": "scattermap"
           }
          ],
          "scattermapbox": [
           {
            "marker": {
             "colorbar": {
              "outlinewidth": 0,
              "ticks": ""
             }
            },
            "type": "scattermapbox"
           }
          ],
          "scatterpolar": [
           {
            "marker": {
             "colorbar": {
              "outlinewidth": 0,
              "ticks": ""
             }
            },
            "type": "scatterpolar"
           }
          ],
          "scatterpolargl": [
           {
            "marker": {
             "colorbar": {
              "outlinewidth": 0,
              "ticks": ""
             }
            },
            "type": "scatterpolargl"
           }
          ],
          "scatterternary": [
           {
            "marker": {
             "colorbar": {
              "outlinewidth": 0,
              "ticks": ""
             }
            },
            "type": "scatterternary"
           }
          ],
          "surface": [
           {
            "colorbar": {
             "outlinewidth": 0,
             "ticks": ""
            },
            "colorscale": [
             [
              0,
              "#0d0887"
             ],
             [
              0.1111111111111111,
              "#46039f"
             ],
             [
              0.2222222222222222,
              "#7201a8"
             ],
             [
              0.3333333333333333,
              "#9c179e"
             ],
             [
              0.4444444444444444,
              "#bd3786"
             ],
             [
              0.5555555555555556,
              "#d8576b"
             ],
             [
              0.6666666666666666,
              "#ed7953"
             ],
             [
              0.7777777777777778,
              "#fb9f3a"
             ],
             [
              0.8888888888888888,
              "#fdca26"
             ],
             [
              1,
              "#f0f921"
             ]
            ],
            "type": "surface"
           }
          ],
          "table": [
           {
            "cells": {
             "fill": {
              "color": "#EBF0F8"
             },
             "line": {
              "color": "white"
             }
            },
            "header": {
             "fill": {
              "color": "#C8D4E3"
             },
             "line": {
              "color": "white"
             }
            },
            "type": "table"
           }
          ]
         },
         "layout": {
          "annotationdefaults": {
           "arrowcolor": "#2a3f5f",
           "arrowhead": 0,
           "arrowwidth": 1
          },
          "autotypenumbers": "strict",
          "coloraxis": {
           "colorbar": {
            "outlinewidth": 0,
            "ticks": ""
           }
          },
          "colorscale": {
           "diverging": [
            [
             0,
             "#8e0152"
            ],
            [
             0.1,
             "#c51b7d"
            ],
            [
             0.2,
             "#de77ae"
            ],
            [
             0.3,
             "#f1b6da"
            ],
            [
             0.4,
             "#fde0ef"
            ],
            [
             0.5,
             "#f7f7f7"
            ],
            [
             0.6,
             "#e6f5d0"
            ],
            [
             0.7,
             "#b8e186"
            ],
            [
             0.8,
             "#7fbc41"
            ],
            [
             0.9,
             "#4d9221"
            ],
            [
             1,
             "#276419"
            ]
           ],
           "sequential": [
            [
             0,
             "#0d0887"
            ],
            [
             0.1111111111111111,
             "#46039f"
            ],
            [
             0.2222222222222222,
             "#7201a8"
            ],
            [
             0.3333333333333333,
             "#9c179e"
            ],
            [
             0.4444444444444444,
             "#bd3786"
            ],
            [
             0.5555555555555556,
             "#d8576b"
            ],
            [
             0.6666666666666666,
             "#ed7953"
            ],
            [
             0.7777777777777778,
             "#fb9f3a"
            ],
            [
             0.8888888888888888,
             "#fdca26"
            ],
            [
             1,
             "#f0f921"
            ]
           ],
           "sequentialminus": [
            [
             0,
             "#0d0887"
            ],
            [
             0.1111111111111111,
             "#46039f"
            ],
            [
             0.2222222222222222,
             "#7201a8"
            ],
            [
             0.3333333333333333,
             "#9c179e"
            ],
            [
             0.4444444444444444,
             "#bd3786"
            ],
            [
             0.5555555555555556,
             "#d8576b"
            ],
            [
             0.6666666666666666,
             "#ed7953"
            ],
            [
             0.7777777777777778,
             "#fb9f3a"
            ],
            [
             0.8888888888888888,
             "#fdca26"
            ],
            [
             1,
             "#f0f921"
            ]
           ]
          },
          "colorway": [
           "#636efa",
           "#EF553B",
           "#00cc96",
           "#ab63fa",
           "#FFA15A",
           "#19d3f3",
           "#FF6692",
           "#B6E880",
           "#FF97FF",
           "#FECB52"
          ],
          "font": {
           "color": "#2a3f5f"
          },
          "geo": {
           "bgcolor": "white",
           "lakecolor": "white",
           "landcolor": "#E5ECF6",
           "showlakes": true,
           "showland": true,
           "subunitcolor": "white"
          },
          "hoverlabel": {
           "align": "left"
          },
          "hovermode": "closest",
          "mapbox": {
           "style": "light"
          },
          "paper_bgcolor": "white",
          "plot_bgcolor": "#E5ECF6",
          "polar": {
           "angularaxis": {
            "gridcolor": "white",
            "linecolor": "white",
            "ticks": ""
           },
           "bgcolor": "#E5ECF6",
           "radialaxis": {
            "gridcolor": "white",
            "linecolor": "white",
            "ticks": ""
           }
          },
          "scene": {
           "xaxis": {
            "backgroundcolor": "#E5ECF6",
            "gridcolor": "white",
            "gridwidth": 2,
            "linecolor": "white",
            "showbackground": true,
            "ticks": "",
            "zerolinecolor": "white"
           },
           "yaxis": {
            "backgroundcolor": "#E5ECF6",
            "gridcolor": "white",
            "gridwidth": 2,
            "linecolor": "white",
            "showbackground": true,
            "ticks": "",
            "zerolinecolor": "white"
           },
           "zaxis": {
            "backgroundcolor": "#E5ECF6",
            "gridcolor": "white",
            "gridwidth": 2,
            "linecolor": "white",
            "showbackground": true,
            "ticks": "",
            "zerolinecolor": "white"
           }
          },
          "shapedefaults": {
           "line": {
            "color": "#2a3f5f"
           }
          },
          "ternary": {
           "aaxis": {
            "gridcolor": "white",
            "linecolor": "white",
            "ticks": ""
           },
           "baxis": {
            "gridcolor": "white",
            "linecolor": "white",
            "ticks": ""
           },
           "bgcolor": "#E5ECF6",
           "caxis": {
            "gridcolor": "white",
            "linecolor": "white",
            "ticks": ""
           }
          },
          "title": {
           "x": 0.05
          },
          "xaxis": {
           "automargin": true,
           "gridcolor": "white",
           "linecolor": "white",
           "ticks": "",
           "title": {
            "standoff": 15
           },
           "zerolinecolor": "white",
           "zerolinewidth": 2
          },
          "yaxis": {
           "automargin": true,
           "gridcolor": "white",
           "linecolor": "white",
           "ticks": "",
           "title": {
            "standoff": 15
           },
           "zerolinecolor": "white",
           "zerolinewidth": 2
          }
         }
        },
        "title": {
         "text": "Credit Limit by Transaction Count"
        },
        "xaxis": {
         "anchor": "y",
         "domain": [
          0,
          1
         ],
         "title": {
          "text": "Attrition_Flag"
         }
        },
        "yaxis": {
         "anchor": "x",
         "domain": [
          0,
          1
         ],
         "title": {
          "text": "sum of Total_Trans_Ct"
         }
        }
       }
      }
     },
     "metadata": {},
     "output_type": "display_data"
    }
   ],
   "source": [
    "fig = px.histogram(data, x='Attrition_Flag', y='Total_Trans_Ct', title='Credit Limit by Transaction Count')\n",
    "fig.show()"
   ]
  },
  {
   "cell_type": "markdown",
   "metadata": {},
   "source": [
    "- Lower the No. of Transactions, more are the chances of Attrition"
   ]
  },
  {
   "cell_type": "code",
   "execution_count": 18,
   "metadata": {},
   "outputs": [
    {
     "data": {
      "text/plain": [
       "Index(['CLIENTNUM', 'Attrition_Flag', 'Gender', 'Dependent_count',\n",
       "       'Education_Level', 'Income_Category', 'Card_Category', 'Months_on_book',\n",
       "       'Total_Relationship_Count', 'Months_Inactive_12_mon',\n",
       "       'Contacts_Count_12_mon', 'Credit_Limit', 'Total_Amt_Chng_Q4_Q1',\n",
       "       'Total_Trans_Ct', 'Total_Ct_Chng_Q4_Q1', 'Avg_Utilization_Ratio',\n",
       "       'Divorced', 'Married', 'Single', 'Unknown', 'Age_Under 30', 'Age_30-40',\n",
       "       'Age_40-50', 'Age_50-60', 'Age_60+', 'Total_Trans_Amt_Binned_Low',\n",
       "       'Total_Trans_Amt_Binned_Medium', 'Total_Trans_Amt_Binned_High',\n",
       "       'Total_Trans_Amt_Binned_Very High', 'Avg_Open_To_Buy_Binned_Low',\n",
       "       'Avg_Open_To_Buy_Binned_Medium', 'Avg_Open_To_Buy_Binned_High',\n",
       "       'Avg_Open_To_Buy_Binned_Very High', 'Total_Revolving_Bal_Binned_Low',\n",
       "       'Total_Revolving_Bal_Binned_Medium', 'Total_Revolving_Bal_Binned_High',\n",
       "       'Total_Revolving_Bal_Binned_Very High'],\n",
       "      dtype='object')"
      ]
     },
     "execution_count": 18,
     "metadata": {},
     "output_type": "execute_result"
    }
   ],
   "source": [
    "data.columns"
   ]
  },
  {
   "cell_type": "markdown",
   "metadata": {},
   "source": [
    "### Finding relation between Total Relationship Count and Attrition Flag"
   ]
  },
  {
   "cell_type": "code",
   "execution_count": 22,
   "metadata": {},
   "outputs": [
    {
     "data": {
      "application/vnd.plotly.v1+json": {
       "config": {
        "plotlyServerURL": "https://plot.ly"
       },
       "data": [
        {
         "bingroup": "x",
         "histfunc": "sum",
         "hovertemplate": "Attrition_Flag=%{x}<br>sum of Total_Relationship_Count=%{y}<extra></extra>",
         "legendgroup": "",
         "marker": {
          "color": "#636efa",
          "pattern": {
           "shape": ""
          }
         },
         "name": "",
         "orientation": "v",
         "showlegend": false,
         "type": "histogram",
         "x": {
          "bdata": "AAAAAAAAAAAAAAAAAAAAAAAAAAAAAQAAAAAAAAAAAAAAAAAAAAAAAQAAAAAAAAAAAAAAAQAAAQAAAAAAAAEAAAAAAAAAAAAAAAAAAAAAAAAAAAEAAAAAAAAAAAAAAAAAAAAAAQAAAAAAAAAAAAAAAAAAAAAAAAAAAAAAAAAAAAEAAAAAAAAAAAAAAAABAAAAAQEAAAAAAAAAAAAAAAAAAAAAAAAAAAAAAQAAAAEAAAAAAAAAAAAAAAAAAAAAAAAAAAAAAAAAAQAAAAAAAAABAQAAAAAAAAAAAAAAAAAAAAAAAAAAAAABAAAAAAABAAAAAQABAQAAAAEAAAAAAAEAAAAAAAAAAQAAAAAAAAEAAAAAAAAAAQAAAAAAAAEAAAEAAQAAAAAAAAAAAAAAAAAAAAAAAAAAAAAAAAABAAAAAAAAAAAAAAAAAAAAAAAAAAAAAAEAAAAAAAEAAAAAAAAAAAAAAAAAAAAAAAAAAAAAAAAAAAAAAAAAAAAAAAAAAAAAAAABAAAAAAAAAAAAAAAAAAABAAAAAAEAAAAAAAAAAAABAAAAAQAAAAAAAQAAAQAAAAAAAAAAAAAAAAAAAAABAQAAAAEAAAABAAAAAAAAAAEAAAABAAAAAAABAAEAAAAAAAAAAAAAAAAAAAAAAAAAAAAAAAAAAAAAAAAAAAABAAAAAAAAAAAAAQAAAQAAAAAAAAAAAAAAAQAAAQAAAAAAAAAAAAABAQAAAAAAAAAAAAEAAAAAAQAAAAEAAAAAAAAAAAAAAAEBAAEAAAAAAAAAAAABAQABAAEAAAAAAAEAAAAAAAAAAAAAAAAAAAAAAAAAAQABAAAAAAAAAAAAAAAAAAEAAAAAAAAAAAEAAAABAAAAAQABAAAAAAAAAAAAAAAAAAAAAAABAAAAAAAAAAAAAAABAAEAAAAAAAAAAAAAAAAAAAAAAAAAAAAAAAAAAQAAAAAAAAAAAAEBAAAAAAABAAAAAAAAAAAAAAAAAAAAAAABAAAAAAEAAAAAAAABAAAAAAAAAAAAAAEAAAAAAAAAAAABAAAAAAAAAAAAAAAAAAAAAAAAAAAAAAAAAQAAAQAAAQAAAAAAAAAAAAAAAAAAAAAAAQAAAAAAAAAAAAAAAQAAAAAAAAABAAAAAAAAAAAAAAEAAAAAAAAAAAAAAAAAAAEBAAAAAAABAAAAAAAAAAAAAAAAAAAAAAABAAAAAAAAAAAAAAAAAAAAAQEAAAAAAAAAAAAAAAABAAAAAAAAAAAAAAAAAAAAAAAAAAAAAAAAAAAAAAAAAAAAAAABAAAAAAAAAQAAAAAAAAAAAAAAAAAAAAAAAAAAAAAAAAEAAQEAAAAAAAAAAAAAAAAAAAAAAAABAAAAAAAAAAAAAAEAAAAAAAABAQABAAEAAAAAAAAAAAAAAAAAAQAAAAAAAAAAAAAAAQAAAAAAAAAAAAAAAAABAAAAAAAAAAAAAAAAAAAAAAAAAAAAAAAAAAAAAAAAAAEAAAAAAAAAAAAAAAAAAAAAAQAAAAEAAAAAAAAAAAAAAAAAAAAAAAAAAQAAAAAAAAEAAAAAAAAAAAAAAAAAAAAAAAAAAAAAAAAAAAAAAAAAAQABAAAAAAAAAAAAAAAAAAAAAAAAAAAAAAAAAAAAAAAAAAAAAAAAAAAAAAAAAAABAAAAAQAAAAAAAQAAAAAAAAAAAAABAAAAAAAAAAAAAQAAAAAAAAAAAAAAAAAAAAEAAAAAAAAAAAAAAAAAAAAAAQAAAAAAAAAAAAAAAAAAAAABAAAAAAAAAAAAAAAAAAAAAQAAAAAAAQEAAAAAAQAAAAAAAAAAAAAAAAAAAAAAAAAAAAAAAAAAAAAAAAAAAAAAAAAAAAAAAAAAAAAAAAAAAAAAAAAAAAABAAAAAAAAAAAAAAAAAAABAAAAAAAAAAAAAAAAAQAAAAAAAAAAAAAAAAAAAAAAAAAAAAEBAAAAAAAAAAAAAAEBAAAAAAAAAAAAAAAAAAAAAAAAAAAAAAAAAAAAAAAAAAAAAAAAAAAAAAAAAAAAAAAAAAAAAAAAAAAAAAAAAAAAAAAAAAAAAAAAAAAAAAAAAAEAAAAAAAAAAAAAAAAAAAAAAAEAAAAAAAEAAAAAAAABAAAAAAAAAAAAAAAAAQAAAAAAAAAAAAEAAAAAAAAAAAAAAAAAAAABAAAAAAABAAAAAAAAAAAAAAAAAAABAAAAAAABAAAAAAAAAAAAAQAAAAAAAAAAAAAAAAAAAAAAAAAAAAAAAAAAAAEAAAAAAAAAAAAAAAAAAQAAAAAAAAAAAAAAAAABAAAAAAAAAAAAAAAAAAAAAAAAAAABAAAAAAAAAAAAAQAAAAAAAAAAAAAAAAAAAAAAAAAAAAAAAAAAAAAAAAAAAAAAAAAAAAAAAQAAAAAAAAAAAAAAAAAAAAAAAAAAAAAAAQAAAAAAAAAAAQAAAQAAAAAAAAAAAAEAAAAAAAAAAAAAAAAAAAAAAAAAAQAAAAEAAAEAAAAAAAAAAAAAAQABAAAAAAAAAAAAAAAAAAAAAAAAAAAAAAAAAQAAAAAAAAAAAAAAAQAAAAAAAAAAAAAAAAAAAAAAAAAAAAAAAAAAAAAAAAAAAQAAAQAAAAAAAAAAAAAAAAAAAQAAAAEAAAAAAAAAAAAAAAAAAAAAAAAAAAAAAAAAAAEAAAAAAAEAAAAAAAAAAAAAAAAAAQAAAAAAAAAAAAAAAAEAAAAAAAAAAAAAAQAAAAAAAAAAAAAAAAAAAAAAAAAAAAAAAAAAAAAAAAAAAAEAAAAAAAAAAAAAAAAAAAAAAAAAAAEAAAAAAAAAAAAAAQAAAAAAAAAAAAAAAAEAAAABAAAAAAAAAAAAAAAAAAAAAAAAAAAAAAAAAAAAAAAAAAAAAAABAAAAAAAAAAAAAAABAAAAAAAAAAAAAAEBAAAAAAAAAAAAAAAAAAABAAAAAAAAAAAAAAAAAAAAAAAAAAEAAQAAAAABAAAAAAAAAAAAAAAAAAAAAAAAAAAAAAAAAAAAAAAAAAAAAAAAAQAAAAAAAQAAAAAAAAAAAAAAAAEAAAAAAAAAAQAAAAEAAAAAAAAAAAAAAAAAAAAAAAAAAAAAAAAAAAAAAAAAAQAAAAEAAAAAAAAAAAAAAAAAAAAAAAAAAAAAAAAAAAAAAAAAAAAAAAAAAAAAAAAAAAAAAAAAAAAAAAAAAAAAAAAAAAAAAAAAAAAAAQAAAAAAAAABAAABAAEAAAAAAAAAAAAAAAAAAAABAAAAAAAAAAAAAAAAAAAAAAAAAAAAAAAAAAAAAAAAAAAAAAAAAAAAAAAAAAAAAAAAAAAAAAAAAAAAAAAAAAAAAAAAAAEAAAAAAAAAAAABAQAAAAAAAAAAAAAAAAAAAAAAAAAAAAAAAAAAAAAAAAABAAAAAAAAAAAAAAEAAQAAAAAAAAAAAAAAAAAAAAAAAAAAAAAAAAAAAAAAAAAAAAAAAAAAAAAAAAAAAAAAAAAAAAAAAAAAAAAAAAAAAQAAAAAAAAAAAAAAAAAAAAAAAAAAAAAAAAAAAAAAAAAAAAAAAAAAAAAAAAAAAAAAAAAAAAEAAAAAAAAAAAEAAAAAAAAAAAAAAAAAAAAAAAAAAAAAAAAAAAAAAAAAAAAAAAAAAAAAAAAAAAAAAAAAAAAAAAAAAAAAAQAAAAAAAAAAAAAAAAAAAAAAAAAAAAAAAAAAAAAAAAAAAAAAAAAAAAAAAAAAAAEAAAAAAAAAAQAAAAAAAAAAAAAAAAAAAAAAAAAAAAAAAAAAAAAAAAAAAQAAAAAAAAAAAAAAAAAAAAAAAAAAAAABAAAAAQAAAAAAAAAAAAAAAAAAAAABAAABAAAAAAAAAAAAAAAAAAAAAAAAAQAAAAAAAAAAAAAAAAAAAAAAAAAAAAAAAAAAAAAAAAABAAAAAAAAAAAAAAAAAAAAAAAAAAAAAAAAAAAAAAEAAQAAAAAAAAAAAAAAAQAAAAAAAAAAAAAAAAAAAAAAAAEAAAAAAAAAAAABAAAAAAAAAAAAAAAAAAAAAAAAAAEAAAAAAAAAAAEBAAAAAAAAAAAAAAAAAAAAAAAAAAAAAAEAAAAAAAAAAAAAAAAAAAEAAAAAAAAAAAAAAAABAAAAAAAAAAABAAAAAAAAAAEAAAAAAAAAAAAAAAAAAAAAAAAAAAAAAAAAAAAAAQAAAAAAAAEAAAABAAAAAAAAAAAAAAAAAAEAAQAAAAAAAAEAAAAAAAABAAAAAQAAAQAAAAAAAAAAAQAAAAAAAAABAAAAAAABAAABAAEAAAAAAQAAAAAAAAAAAAAAAAABAAAAAAAAAAABAAAAAAAAAQAAAAAAAAAAAAAAAAAAAAAAAAAAAAAAAAAAAAAAAAAAAAAAAAABAAABAAAAAAAAAAABAQAAAAEAAAAAAAAAAAAAAAAAAAAAAQAAAAEAAAAAAAAAAAABAQAAAAAAAAEAAAABAAAAAAAAAAAAAAAAAAAAAAAAAAAAAQAAAAAAAAABAQAAAQEAAAEAAAAAAAEAAAAAAAEAAAAAAAAAAAABAAAAAAABAAAAAAAAAAAAAAAAAAAAAAAAAAEAAAAAAAEAAAAAAAAAAAAAAAEBAAAAAQAAAAAAAAABAAABAAAAAAEAAAAAAAAAAAAAAAAAAAEAAQEAAAAAAAAAAAAAAAAAAAAAAQAAAAAAAAAAAQAAAAAAAAAAAAAAAAAAAAAAAAAAAAAAAAABAAAAAAABAAAAAAAAAAAAAAAAAAAAAAAAAAAAAQAAAAAAAQAAAAAAAAAAAAAAAAABAAAAAAAAAAABAAABAQEAAAAAAQABAQEAAAEAAAAAAAAAAAAAAAAAAAABAAAAAAAAAAAAAAABAAEAAAAAAAABAAAAAAAAAAAAAAAAAQABAAEAAAAAAQAAAAABAAEAAAAAAQAAAAAAAAAAAAAAAAAAAAAAAAABAQEAAAAAAAAAAAAAAAEAAAABAAAAAAAAAAEAAAAAAAAAAQAAAAAAAQAAAAAAAAEAAAAAAAAAAAAAAAAAAAAAAAAAAAAAAAABAAEAAAABAAEAAAABAAABAAAAAAAAAAABAAAAAAAAAQAAAQABAQAAAAABAAEAAQEAAQAAAAAAAAEAAAAAAAAAAAAAAAAAAAEAAQABAAAAAAAAAAAAAAABAAAAAAAAAAEAAAAAAAAAAAAAAAAAAAAAAAAAAAAAAAAAAAAAAAEAAQABAAAAAAAAAAAAAAEBAAAAAQAAAAAAAQAAAAAAAAEAAAAAAAAAAAAAAAABAQAAAAEAAAAAAAAAAAABAAEAAQABAAABAAAAAQAAAAAAAAAAAAAAAAAAAAAAAAABAAAAAAEAAQAAAAEAAAABAAAAAAAAAQAAAAAAAAAAAAAAAQAAAAEAAAAAAAEAAAEAAAABAAEBAAAAAAAAAAEAAAAAAQAAAAAAAAAAAAAAAAEBAAAAAQAAAAABAAAAAAAAAAAAAQABAAEAAAAAAAAAAAAAAAAAAAABAAAAAAAAAAAAAAAAAQEBAAAAAAAAAAAAAAAAAAABAAAAAAAAAAABAAEAAAEAAAEBAAEAAAAAAAABAAABAAAAAAAAAAAAAAAAAAEAAAAAAAABAQAAAAEAAAEAAQEBAAEAAAABAAAAAAEAAAAAAAAAAAABAAAAAAAAAQAAAAAAAAAAAQAAAAEAAAAAAAAAAAEAAAEAAAAAAAEAAAAAAAABAAAAAAEAAAEAAQEBAAAAAAAAAAEAAAABAAAAAAAAAAAAAAABAAAAAQAAAAAAAAAAAAAAAAAAAAAAAAAAAAABAAAAAAAAAAAAAQAAAAEAAQABAQAAAAAAAAAAAAAAAAABAAAAAQAAAAEBAAAAAAEAAAAAAAAAAAABAAAAAAEBAAAAAAEAAAAAAAAAAAEAAAABAAAAAAAAAAEAAAEAAAEAAAABAAAAAAEAAAAAAAEAAAEAAAEAAQABAAEAAAABAAAAAAAAAAAAAAAAAAAAAQAAAAAAAAEAAAAAAAAAAAEAAAEBAAEAAAABAAABAAAAAAAAAAABAAAAAAEBAAEAAAAAAAAAAQABAAEAAQAAAAAAAAAAAQEAAAEBAAAAAAAAAAAAAAAAAAAAAAAAAAEBAAAAAAEAAQAAAAAAAAABAAAAAQAAAQEAAAAAAAAAAQABAAAAAAAAAAEAAAEAAAAAAAAAAAEAAAAAAAAAAAEAAAAAAAABAAAAAAAAAAABAAEAAAAAAAEBAQAAAAEBAAAAAAABAAAAAAEAAQAAAAAAAAABAQAAAQAAAAAAAAABAAAAAAEAAAEAAAEAAQAAAAEAAAAAAAEAAAAAAAABAAAAAAAAAAAAAAABAQABAAEAAAAAAQAAAQAAAAEBAAAAAAABAAAAAAAAAAEAAAAAAAAAAAABAAEAAAAAAAAAAQAAAAAAAQAAAQAAAAEBAAAAAAABAAABAAAAAAABAAAAAQAAAAAAAQAAAQAAAAAAAQAAAAAAAAABAQAAAAABAAAAAAABAQAAAAABAAAAAAAAAQAAAQAAAQAAAQAAAAAAAQAAAAAAAAABAQEBAAAAAAAAAAABAAEBAAAAAAAAAAAAAAAAAAABAAEAAAEAAAAAAQAAAAEAAAAAAAAAAAAAAQAAAAABAAEBAAEBAAAAAQEAAAAAAAAAAQEAAAAAAAAAAAEAAAABAAABAQAAAAABAAAAAQAAAAEBAAEAAAEBAAAAAAABAAAAAAAAAQABAQAAAAAAAQAAAAAAAAAAAQABAAAAAAABAQEAAAAAAAAAAAAAAQABAAAAAAAAAQABAQAAAAAAAAAAAAABAAAAAAABAQEAAAAAAQAAAAAAAAAAAAABAAABAAEAAAAAAAAAAQEBAAAAAAAAAAAAAAAAAAAAAAABAAEBAQAAAQAAAAAAAQEAAAAAAAEAAAAAAQEAAAABAAABAAAAAAAAAQABAAAAAAEAAAEAAAABAQEAAAAAAAAAAAAAAAAAAAAAAAAAAAEAAAEBAAAAAAAAAAABAAAAAAABAAAAAAEAAAEBAAAAAAAAAQAAAAEAAQAAAAAAAAAAAAEAAQABAQAAAAEAAQEAAQEAAAAAAQAAAAEAAAAAAAAAAAAAAAABAQAAAAAAAAAAAAABAQAAAAAAAAAAAAEBAAAAAAAAAAAAAQAAAAAAAAEAAQAAAAAAAAEAAQAAAAAAAAEAAAABAAAAAAAAAAEBAAAAAAAAAAEBAAABAAAAAQAAAQAAAAAAAQEAAAAAAAAAAAAAAAAAAAEAAQAAAQAAAQAAAAAAAAAAAAAAAAAAAAEAAAAAAAEBAQAAAAABAAAAAAAAAAEAAQAAAAAAAAAAAAAAAAAAAAAAAAAAAQAAAAAAAAAAAAEAAAAAAAABAAAAAAEAAAABAAAAAAABAAAAAAAAAQAAAQAAAAEAAAEAAAAAAAABAAABAQEAAAAAAQABAAAAAQAAAAAAAQAAAQAAAAEAAAAAAQAAAAAAAAAAAAAAAAAAAAABAAAAAQAAAAAAAAEAAAEAAAEAAAAAAAAAAAEAAQEBAQEAAAAAAQEAAAAAAAEBAAAAAQAAAAEAAAAAAAABAAEAAQAAAAEAAAEBAQEAAQAAAAEAAAEBAQAAAAEAAAABAQAAAAEAAAAAAAEAAQAAAAAAAAAAAAAAAAAAAAABAAABAAAAAAAAAQAAAQAAAQAAAAEAAAEAAAABAAAAAAAAAAAAAAAAAAABAAAAAQAAAAAAAQABAQAAAAAAAQAAAAAAAAAAAQAAAAAAAAAAAAAAAAAAAAAAAAEBAAAAAAAAAAAAAQAAAQAAAQAAAAAAAQAAAAAAAQAAAAAAAAEAAQAAAAAAAAAAAAAAAAEBAAABAAEAAAAAAAAAAAAAAAAAAAAAAQAAAAEAAAABAAABAQAAAQEAAQEAAAAAAQAAAAAAAAAAAQAAAAAAAAABAAAAAQAAAQAAAQAAAAAAAQABAAAAAAEAAAEAAQAAAAAAAAAAAAEAAAAAAQAAAAABAAABAAAAAAAAAAAAAAAAAQAAAAEAAAEAAAAAAAABAAAAAAEAAAABAAAAAAABAAABAAEAAAAAAQAAAQAAAAEAAAAAAAABAAAAAQAAAAEAAAAAAAAAAAEAAAABAAAAAAAAAAABAAEBAQAAAAAAAAAAAAAAAAAAAAEBAAEAAAEAAAAAAAAAAAAAAAAAAAEAAAAAAAAAAQEBAAAAAAAAAAAAAAABAAAAAAABAAAAAAAAAAABAAABAAAAAAAAAAEAAAABAAAAAQAAAAAAAAAAAAAAAAAAAAAAAAABAAAAAAAAAAAAAAEAAAAAAQAAAAAAAAAAAQAAAAAAAAEAAQABAAABAAAAAQAAAQAAAAAAAAEAAQEAAQAAAAAAAAEAAQAAAQAAAQAAAAAAAAAAAAAAAAEAAAAAAAEAAAAAAAAAAAAAAQABAAAAAAAAAAEAAQEAAAEAAAEAAAEAAAAAAAABAQAAAAAAAAAAAAABAAEBAAABAAAAAAEBAAAAAAEAAAAAAQABAAAAAAAAAAABAAAAAAABAAABAAEAAAAAAAEAAQAAAAABAAAAAQAAAAEAAAAAAAAAAQEAAQAAAQAAAQAAAAAAAQAAAAAAAAEBAQAAAAAAAAAAAAAAAAABAAAAAAABAAAAAQABAAAAAAAAAAEAAAAAAQAAAAABAQAAAQEAAAAAAAABAAEAAQABAAEAAAAAAAABAQAAAAAAAAAAAQEAAAABAAAAAAAAAAABAAAAAAABAQABAAAAAAEAAAAAAQEAAAAAAAEAAQEAAQEAAAABAAAAAAAAAAEAAQAAAQAAAAABAAEAAAAAAQEBAAEAAQEAAAAAAAAAAQAAAAAAAAEAAAABAQEAAQAAAAAAAAAAAAABAAAAAAEAAAEAAAAAAAAAAAAAAAAAAAEAAAABAAAAAAABAAAAAAAAAQAAAQAAAQEAAAEAAAABAAEAAAAAAAAAAAAAAQAAAAAAAAAAAAAAAAAAAAEAAAAAAAAAAQAAAAAAAAEAAQABAQAAAAAAAAAAAAABAAAAAAAAAAEAAAABAAAAAAAAAAAAAAAAAAAAAAABAAABAAAAAAABAAAAAAAAAQEAAAAAAQABAAAAAAEAAAAAAAAAAAAAAQAAAAAAAAAAAQEAAAAAAAAAAAAAAQAAAAEAAAAAAAAAAAAAAAABAAAAAAAAAAABAAAAAAAAAAAAAAEAAQEAAQAAAAEAAQEAAAAAAAAAAAAAAAAAAAAAAAAAAQABAAEAAAAAAQAAAAAAAAEAAAAAAAEBAAAAAAAAAAAAAQAAAQEAAAAAAAABAAAAAAAAAQABAQAAAAAAAAEAAAAAAQAAAAAAAAAAAAABAAEAAAAAAAAAAQEAAAAAAAAAAAAAAAABAAABAAABAAAAAAAAAAAAAAEAAAAAAQAAAAEAAQEAAAAAAAABAAABAAAAAAABAQEAAAAAAAAAAQAAAAEAAAAAAAAAAQAAAAEAAQAAAAABAQABAQAAAAAAAQEBAAAAAAAAAAABAAAAAAAAAAAAAAAAAAAAAAAAAAEAAQAAAAABAAAAAAAAAAEAAQAAAAABAAEAAAAAAAAAAQAAAAAAAAEAAAAAAQAAAAABAAAAAAEAAAAAAAABAAABAAAAAAAAAAAAAAABAAEAAAABAAABAAAAAAAAAQAAAAEAAAAAAAAAAAEAAQAAAAABAAABAAAAAAABAAAAAAAAAAABAAABAAAAAAAAAAABAAEAAAAAAAABAAEAAQEAAAAAAAEAAAEBAAABAAAAAQAAAQAAAQEAAAAAAQABAAEAAAAAAAABAAAAAAAAAAAAAQAAAAAAAAEAAAAAAAEBAAEAAAEAAAAAAAAAAQAAAAAAAQAAAAAAAAAAAAAAAAAAAAAAAAAAAAEAAAABAQAAAQAAAAEAAAEAAAEBAAAAAQAAAAAAAAEAAAAAAAABAQABAQABAAABAQABAAAAAAAAAAAAAAAAAAAAAAAAAAABAAAAAAAAAAAAAAAAAAAAAAEAAQAAAAABAAAAAAEAAAAAAAABAAAAAAEBAAAAAAEAAQABAAAAAQABAAAAAAAAAAAAAAAAAAAAAAAAAAAAAAAAAQAAAAEBAAAAAAAAAAAAAAAAAAABAAAAAAABAAAAAAAAAQAAAAAAAAAAAAAAAQAAAAAAAAAAAAAAAAAAAAABAAAAAAAAAAEAAAAAAAAAAAABAQEAAAAAAAABAAAAAAEAAAAAAAEAAAAAAAAAAAAAAAAAAAAAAAAAAAABAAABAAABAAAAAQAAAAEAAQEBAAEBAAABAAEAAAABAAAAAAAAAQAAAQAAAAAAAAAAAQAAAAEAAAAAAQEAAAAAAAEAAAAAAQEAAAAAAAAAAAABAAAAAAAAAAAAAQEAAAAAAAAAAAABAAAAAAAAAQAAAAAAAQABAAABAAEAAQAAAAEAAAAAAAAAAQEAAAEAAAAAAAABAAAAAAAAAAAAAQAAAQAAAAEBAAAAAAAAAAAAAAAAAAEAAAAAAAAAAAABAQAAAAAAAAAAAAEAAAEAAAAAAAEBAQEAAAAAAAEAAAAAAAEAAAAAAAAAAAEAAAAAAAAAAAAAAAAAAQEBAAEAAAEBAQEAAAEAAAAAAAAAAQEAAAAAAAEAAAAAAAAAAAAAAQAAAAAAAAAAAAABAAAAAAEAAAAAAQABAAAAAAAAAQAAAAEAAAABAQABAQABAAAAAAAAAAAAAAAAAAEAAAAAAQEBAQAAAAAAAAAAAAEAAAEBAQAAAQABAAAAAQAAAQEAAAAAAQAAAAABAAAAAAEAAAEAAAAAAAEBAAAAAAAAAAAAAAABAAEAAQAAAAAAAAABAQAAAAAAAAEBAQAAAQAAAQAAAAAAAAAAAAAAAAAAAAAAAQEAAAAAAQAAAAABAAEBAAEAAAAAAAEAAAAAAAAAAAAAAAABAAEAAQEAAAEAAAAAAAAAAAEAAAAAAAEAAAAAAAAAAAABAAAAAQAAAAABAAAAAAAAAAAAAAAAAQEBAQABAAAAAQAAAAAAAAAAAAAAAQAAAAAAAAEAAAAAAAAAAAEAAAAAAAAAAAAAAAAAAAAAAAAAAAAAAQAAAAAAAAABAQAAAAAAAAAAAAAAAAAAAAAAAAAAAAAAAAABAAABAAAAAAAAAAAAAAAAAAAAAAABAAAAAQAAAAAAAAABAAAAAAEAAQAAAQABAAABAAAAAAAAAAEAAAAAAAABAAEBAAAAAAAAAAAAAAAAAAAAAAABAQAAAAAAAAAAAAEAAAAAAAAAAAEAAAAAAAAAAAAAAAAAAAAAAAAAAAAAAAAAAAEAAAAAAAEAAQAAAAAAAAAAAQAAAQAAAAABAAAAAAAAAAAAAAAAAAEAAAEAAAEAAQAAAAAAAAAAAAAAAAABAAAAAAABAAAAAQAAAAAAAAEAAQABAAAAAAABAAAAAAAAAQAAAAEAAQAAAAAAAQAAAAAAAQAAAAABAAEAAAAAAQEAAAEAAAABAAAAAAABAAEBAQAAAAABAQABAAAAAAAAAAAAAAAAAAAAAAAAAAAAAAAAAAAAAAAAAAAAAAAAAQAAAAAAAAAAAAEAAAAAAAAAAAAAAAAAAAAAAAAAAAAAAAAAAAAAAAAAAAAAAAAAAQAAAQEAAAAAAAAAAAAAAQAAAAAAAAAAAAAAAAAAAAAAAAAAAAAAAQAAAAAAAAAAAAAAAAAAAAEAAAAAAAAAAAAAAAAAAAAAAAABAQAAAAAAAAAAAAAAAAEAAAEAAAABAQABAAAAAAAAAAEAAQABAAAAAAABAAABAAAAAQAAAAEAAAAAAAAAAAEAAAAAAAAAAAAAAAAAAAAAAQAAAQAAAQAAAAABAAAAAAAAAAEAAAAAAAAAAAAAAAAAAAAAAAAAAAAAAAEAAQAAAAEBAAAAAAAAAAAAAAAAAAAAAQEBAAAAAAABAAAAAAAAAAAAAAAAAAABAAEAAAAAAAEAAAAAAAAAAAAAAAAAAAAAAQAAAAAAAAABAAAAAQAAAAAAAAAAAAAAAQAAAAAAAAEAAQAAAAAAAQAAAAAAAAAAAAAAAAAAAAAAAAAAAAABAAEAAAAAAAABAAAAAAAAAAABAAEAAAABAAABAAAAAAAAAAABAQAAAAAAAAAAAAAAAAAAAAAAAAABAAAAAAAAAAAAAAAAAAEAAQAAAAABAAAAAAABAAAAAAAAAAAAAAEAAQAAAAAAAAAAAAEAAQEBAQAAAAAAAAAAAAEAAAAAAAAAAQEAAAAAAAAAAQAAAAAAAQEBAAAAAAEAAQAAAAABAAABAAAAAQEBAAAAAAEAAAEAAAAAAAEAAAAAAAAAAAAAAQAAAAEAAAAAAAABAQAAAAABAQAAAAAAAAABAAEBAAAAAAABAAABAAEBAAEBAQABAQEAAAAAAAAAAQAAAAEBAAAAAAEAAAAAAAAAAAAAAAAAAAABAAEAAAAAAAAAAAEAAAEBAAAAAQAAAAAAAAAAAAAAAAABAAABAAAAAAEAAAAAAAEAAAAAAAAAAQEAAAAAAQAAAAAAAQEAAAEAAAAAAAAAAAEAAAAAAAAAAAABAAEAAAAAAQAAAAAAAQAAAAAAAQAAAAAAAAEAAAAAAAEBAAAAAAAAAAAAAAEAAAAAAAAAAQEAAAAAAAEBAAEAAAAAAAAAAAAAAAAAAQAAAQAAAAAAAAAAAQAAAAAAAQAAAAAAAAEBAAABAAABAAAAAAAAAQABAQAAAAAAAAABAQABAAAAAAAAAQEAAAAAAAAAAAAAAAAAAAAAAAAAAQAAAAAAAAAAAAAAAAEAAAABAAABAAAAAQAAAQAAAQABAAAAAAABAQAAAAABAQAAAQAAAQEBAQABAQAAAAAAAQABAAAAAAAAAAAAAAAAAAAAAAAAAQABAAABAAAAAAAAAAAAAQAAAAAAAAEAAAABAAEAAQEAAAABAQAAAAAAAQABAAAAAAAAAAAAAAAAAAEAAAABAAEAAAABAAABAQAAAQAAAAAAAAABAAABAAAAAQEAAAAAAQEBAAABAAEAAAAAAAAAAQAAAAAAAQAAAQAAAAAAAAEBAAAAAAAAAAEAAAAAAAEBAAAAAAAAAQAAAAABAAEAAQABAQAAAAAAAAABAQEAAAAAAAABAQAAAAABAAEAAAEBAAAAAAEAAQEBAAABAAAAAAEAAAEBAAEAAAAAAAEAAAEAAQEAAAAAAAAAAAABAAAAAQAAAAAAAAAAAQABAAEAAAABAAEAAAEBAAAAAAAAAAEBAAAAAAAAAAEAAAAAAAEAAAAAAQEAAAAAAAAAAQEAAAAAAAAAAQEAAAAAAAAAAAEBAAAAAQAAAAABAAAAAAAAAAAAAQAAAAAAAQEAAAEAAQEBAQAAAQAAAAABAAAAAQAAAAABAAAAAQAAAQABAAAAAAAAAQEAAAEAAAABAAAAAQAAAAABAAAAAAEAAQAAAAABAAABAAEAAQEBAQEAAAAAAAAAAAABAAAAAAABAAAAAAAAAQEAAQEBAAEBAAAAAAAAAAABAQABAAAAAQAAAAAAAAAAAAAAAAAAAAAAAQAAAQAAAAAAAQAAAAABAAEAAQEAAAABAQAAAAABAQAAAAEBAQE=",
          "dtype": "i1"
         },
         "xaxis": "x",
         "y": {
          "bdata": "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",
          "dtype": "i1"
         },
         "yaxis": "y"
        }
       ],
       "layout": {
        "barmode": "relative",
        "legend": {
         "tracegroupgap": 0
        },
        "template": {
         "data": {
          "bar": [
           {
            "error_x": {
             "color": "#2a3f5f"
            },
            "error_y": {
             "color": "#2a3f5f"
            },
            "marker": {
             "line": {
              "color": "#E5ECF6",
              "width": 0.5
             },
             "pattern": {
              "fillmode": "overlay",
              "size": 10,
              "solidity": 0.2
             }
            },
            "type": "bar"
           }
          ],
          "barpolar": [
           {
            "marker": {
             "line": {
              "color": "#E5ECF6",
              "width": 0.5
             },
             "pattern": {
              "fillmode": "overlay",
              "size": 10,
              "solidity": 0.2
             }
            },
            "type": "barpolar"
           }
          ],
          "carpet": [
           {
            "aaxis": {
             "endlinecolor": "#2a3f5f",
             "gridcolor": "white",
             "linecolor": "white",
             "minorgridcolor": "white",
             "startlinecolor": "#2a3f5f"
            },
            "baxis": {
             "endlinecolor": "#2a3f5f",
             "gridcolor": "white",
             "linecolor": "white",
             "minorgridcolor": "white",
             "startlinecolor": "#2a3f5f"
            },
            "type": "carpet"
           }
          ],
          "choropleth": [
           {
            "colorbar": {
             "outlinewidth": 0,
             "ticks": ""
            },
            "type": "choropleth"
           }
          ],
          "contour": [
           {
            "colorbar": {
             "outlinewidth": 0,
             "ticks": ""
            },
            "colorscale": [
             [
              0,
              "#0d0887"
             ],
             [
              0.1111111111111111,
              "#46039f"
             ],
             [
              0.2222222222222222,
              "#7201a8"
             ],
             [
              0.3333333333333333,
              "#9c179e"
             ],
             [
              0.4444444444444444,
              "#bd3786"
             ],
             [
              0.5555555555555556,
              "#d8576b"
             ],
             [
              0.6666666666666666,
              "#ed7953"
             ],
             [
              0.7777777777777778,
              "#fb9f3a"
             ],
             [
              0.8888888888888888,
              "#fdca26"
             ],
             [
              1,
              "#f0f921"
             ]
            ],
            "type": "contour"
           }
          ],
          "contourcarpet": [
           {
            "colorbar": {
             "outlinewidth": 0,
             "ticks": ""
            },
            "type": "contourcarpet"
           }
          ],
          "heatmap": [
           {
            "colorbar": {
             "outlinewidth": 0,
             "ticks": ""
            },
            "colorscale": [
             [
              0,
              "#0d0887"
             ],
             [
              0.1111111111111111,
              "#46039f"
             ],
             [
              0.2222222222222222,
              "#7201a8"
             ],
             [
              0.3333333333333333,
              "#9c179e"
             ],
             [
              0.4444444444444444,
              "#bd3786"
             ],
             [
              0.5555555555555556,
              "#d8576b"
             ],
             [
              0.6666666666666666,
              "#ed7953"
             ],
             [
              0.7777777777777778,
              "#fb9f3a"
             ],
             [
              0.8888888888888888,
              "#fdca26"
             ],
             [
              1,
              "#f0f921"
             ]
            ],
            "type": "heatmap"
           }
          ],
          "histogram": [
           {
            "marker": {
             "pattern": {
              "fillmode": "overlay",
              "size": 10,
              "solidity": 0.2
             }
            },
            "type": "histogram"
           }
          ],
          "histogram2d": [
           {
            "colorbar": {
             "outlinewidth": 0,
             "ticks": ""
            },
            "colorscale": [
             [
              0,
              "#0d0887"
             ],
             [
              0.1111111111111111,
              "#46039f"
             ],
             [
              0.2222222222222222,
              "#7201a8"
             ],
             [
              0.3333333333333333,
              "#9c179e"
             ],
             [
              0.4444444444444444,
              "#bd3786"
             ],
             [
              0.5555555555555556,
              "#d8576b"
             ],
             [
              0.6666666666666666,
              "#ed7953"
             ],
             [
              0.7777777777777778,
              "#fb9f3a"
             ],
             [
              0.8888888888888888,
              "#fdca26"
             ],
             [
              1,
              "#f0f921"
             ]
            ],
            "type": "histogram2d"
           }
          ],
          "histogram2dcontour": [
           {
            "colorbar": {
             "outlinewidth": 0,
             "ticks": ""
            },
            "colorscale": [
             [
              0,
              "#0d0887"
             ],
             [
              0.1111111111111111,
              "#46039f"
             ],
             [
              0.2222222222222222,
              "#7201a8"
             ],
             [
              0.3333333333333333,
              "#9c179e"
             ],
             [
              0.4444444444444444,
              "#bd3786"
             ],
             [
              0.5555555555555556,
              "#d8576b"
             ],
             [
              0.6666666666666666,
              "#ed7953"
             ],
             [
              0.7777777777777778,
              "#fb9f3a"
             ],
             [
              0.8888888888888888,
              "#fdca26"
             ],
             [
              1,
              "#f0f921"
             ]
            ],
            "type": "histogram2dcontour"
           }
          ],
          "mesh3d": [
           {
            "colorbar": {
             "outlinewidth": 0,
             "ticks": ""
            },
            "type": "mesh3d"
           }
          ],
          "parcoords": [
           {
            "line": {
             "colorbar": {
              "outlinewidth": 0,
              "ticks": ""
             }
            },
            "type": "parcoords"
           }
          ],
          "pie": [
           {
            "automargin": true,
            "type": "pie"
           }
          ],
          "scatter": [
           {
            "fillpattern": {
             "fillmode": "overlay",
             "size": 10,
             "solidity": 0.2
            },
            "type": "scatter"
           }
          ],
          "scatter3d": [
           {
            "line": {
             "colorbar": {
              "outlinewidth": 0,
              "ticks": ""
             }
            },
            "marker": {
             "colorbar": {
              "outlinewidth": 0,
              "ticks": ""
             }
            },
            "type": "scatter3d"
           }
          ],
          "scattercarpet": [
           {
            "marker": {
             "colorbar": {
              "outlinewidth": 0,
              "ticks": ""
             }
            },
            "type": "scattercarpet"
           }
          ],
          "scattergeo": [
           {
            "marker": {
             "colorbar": {
              "outlinewidth": 0,
              "ticks": ""
             }
            },
            "type": "scattergeo"
           }
          ],
          "scattergl": [
           {
            "marker": {
             "colorbar": {
              "outlinewidth": 0,
              "ticks": ""
             }
            },
            "type": "scattergl"
           }
          ],
          "scattermap": [
           {
            "marker": {
             "colorbar": {
              "outlinewidth": 0,
              "ticks": ""
             }
            },
            "type": "scattermap"
           }
          ],
          "scattermapbox": [
           {
            "marker": {
             "colorbar": {
              "outlinewidth": 0,
              "ticks": ""
             }
            },
            "type": "scattermapbox"
           }
          ],
          "scatterpolar": [
           {
            "marker": {
             "colorbar": {
              "outlinewidth": 0,
              "ticks": ""
             }
            },
            "type": "scatterpolar"
           }
          ],
          "scatterpolargl": [
           {
            "marker": {
             "colorbar": {
              "outlinewidth": 0,
              "ticks": ""
             }
            },
            "type": "scatterpolargl"
           }
          ],
          "scatterternary": [
           {
            "marker": {
             "colorbar": {
              "outlinewidth": 0,
              "ticks": ""
             }
            },
            "type": "scatterternary"
           }
          ],
          "surface": [
           {
            "colorbar": {
             "outlinewidth": 0,
             "ticks": ""
            },
            "colorscale": [
             [
              0,
              "#0d0887"
             ],
             [
              0.1111111111111111,
              "#46039f"
             ],
             [
              0.2222222222222222,
              "#7201a8"
             ],
             [
              0.3333333333333333,
              "#9c179e"
             ],
             [
              0.4444444444444444,
              "#bd3786"
             ],
             [
              0.5555555555555556,
              "#d8576b"
             ],
             [
              0.6666666666666666,
              "#ed7953"
             ],
             [
              0.7777777777777778,
              "#fb9f3a"
             ],
             [
              0.8888888888888888,
              "#fdca26"
             ],
             [
              1,
              "#f0f921"
             ]
            ],
            "type": "surface"
           }
          ],
          "table": [
           {
            "cells": {
             "fill": {
              "color": "#EBF0F8"
             },
             "line": {
              "color": "white"
             }
            },
            "header": {
             "fill": {
              "color": "#C8D4E3"
             },
             "line": {
              "color": "white"
             }
            },
            "type": "table"
           }
          ]
         },
         "layout": {
          "annotationdefaults": {
           "arrowcolor": "#2a3f5f",
           "arrowhead": 0,
           "arrowwidth": 1
          },
          "autotypenumbers": "strict",
          "coloraxis": {
           "colorbar": {
            "outlinewidth": 0,
            "ticks": ""
           }
          },
          "colorscale": {
           "diverging": [
            [
             0,
             "#8e0152"
            ],
            [
             0.1,
             "#c51b7d"
            ],
            [
             0.2,
             "#de77ae"
            ],
            [
             0.3,
             "#f1b6da"
            ],
            [
             0.4,
             "#fde0ef"
            ],
            [
             0.5,
             "#f7f7f7"
            ],
            [
             0.6,
             "#e6f5d0"
            ],
            [
             0.7,
             "#b8e186"
            ],
            [
             0.8,
             "#7fbc41"
            ],
            [
             0.9,
             "#4d9221"
            ],
            [
             1,
             "#276419"
            ]
           ],
           "sequential": [
            [
             0,
             "#0d0887"
            ],
            [
             0.1111111111111111,
             "#46039f"
            ],
            [
             0.2222222222222222,
             "#7201a8"
            ],
            [
             0.3333333333333333,
             "#9c179e"
            ],
            [
             0.4444444444444444,
             "#bd3786"
            ],
            [
             0.5555555555555556,
             "#d8576b"
            ],
            [
             0.6666666666666666,
             "#ed7953"
            ],
            [
             0.7777777777777778,
             "#fb9f3a"
            ],
            [
             0.8888888888888888,
             "#fdca26"
            ],
            [
             1,
             "#f0f921"
            ]
           ],
           "sequentialminus": [
            [
             0,
             "#0d0887"
            ],
            [
             0.1111111111111111,
             "#46039f"
            ],
            [
             0.2222222222222222,
             "#7201a8"
            ],
            [
             0.3333333333333333,
             "#9c179e"
            ],
            [
             0.4444444444444444,
             "#bd3786"
            ],
            [
             0.5555555555555556,
             "#d8576b"
            ],
            [
             0.6666666666666666,
             "#ed7953"
            ],
            [
             0.7777777777777778,
             "#fb9f3a"
            ],
            [
             0.8888888888888888,
             "#fdca26"
            ],
            [
             1,
             "#f0f921"
            ]
           ]
          },
          "colorway": [
           "#636efa",
           "#EF553B",
           "#00cc96",
           "#ab63fa",
           "#FFA15A",
           "#19d3f3",
           "#FF6692",
           "#B6E880",
           "#FF97FF",
           "#FECB52"
          ],
          "font": {
           "color": "#2a3f5f"
          },
          "geo": {
           "bgcolor": "white",
           "lakecolor": "white",
           "landcolor": "#E5ECF6",
           "showlakes": true,
           "showland": true,
           "subunitcolor": "white"
          },
          "hoverlabel": {
           "align": "left"
          },
          "hovermode": "closest",
          "mapbox": {
           "style": "light"
          },
          "paper_bgcolor": "white",
          "plot_bgcolor": "#E5ECF6",
          "polar": {
           "angularaxis": {
            "gridcolor": "white",
            "linecolor": "white",
            "ticks": ""
           },
           "bgcolor": "#E5ECF6",
           "radialaxis": {
            "gridcolor": "white",
            "linecolor": "white",
            "ticks": ""
           }
          },
          "scene": {
           "xaxis": {
            "backgroundcolor": "#E5ECF6",
            "gridcolor": "white",
            "gridwidth": 2,
            "linecolor": "white",
            "showbackground": true,
            "ticks": "",
            "zerolinecolor": "white"
           },
           "yaxis": {
            "backgroundcolor": "#E5ECF6",
            "gridcolor": "white",
            "gridwidth": 2,
            "linecolor": "white",
            "showbackground": true,
            "ticks": "",
            "zerolinecolor": "white"
           },
           "zaxis": {
            "backgroundcolor": "#E5ECF6",
            "gridcolor": "white",
            "gridwidth": 2,
            "linecolor": "white",
            "showbackground": true,
            "ticks": "",
            "zerolinecolor": "white"
           }
          },
          "shapedefaults": {
           "line": {
            "color": "#2a3f5f"
           }
          },
          "ternary": {
           "aaxis": {
            "gridcolor": "white",
            "linecolor": "white",
            "ticks": ""
           },
           "baxis": {
            "gridcolor": "white",
            "linecolor": "white",
            "ticks": ""
           },
           "bgcolor": "#E5ECF6",
           "caxis": {
            "gridcolor": "white",
            "linecolor": "white",
            "ticks": ""
           }
          },
          "title": {
           "x": 0.05
          },
          "xaxis": {
           "automargin": true,
           "gridcolor": "white",
           "linecolor": "white",
           "ticks": "",
           "title": {
            "standoff": 15
           },
           "zerolinecolor": "white",
           "zerolinewidth": 2
          },
          "yaxis": {
           "automargin": true,
           "gridcolor": "white",
           "linecolor": "white",
           "ticks": "",
           "title": {
            "standoff": 15
           },
           "zerolinecolor": "white",
           "zerolinewidth": 2
          }
         }
        },
        "title": {
         "text": "Total Relationship Count by Attrition Flag"
        },
        "xaxis": {
         "anchor": "y",
         "domain": [
          0,
          1
         ],
         "title": {
          "text": "Attrition_Flag"
         }
        },
        "yaxis": {
         "anchor": "x",
         "domain": [
          0,
          1
         ],
         "title": {
          "text": "sum of Total_Relationship_Count"
         }
        }
       }
      }
     },
     "metadata": {},
     "output_type": "display_data"
    }
   ],
   "source": [
    "fig = px.histogram(data, x='Attrition_Flag', y='Total_Relationship_Count', title='Total Relationship Count by Attrition Flag')\n",
    "fig.show()"
   ]
  },
  {
   "cell_type": "markdown",
   "metadata": {},
   "source": [
    "- Higher the Relationship Count, Lower are the changes of attrition"
   ]
  }
 ],
 "metadata": {
  "kernelspec": {
   "display_name": "Python 3",
   "language": "python",
   "name": "python3"
  },
  "language_info": {
   "codemirror_mode": {
    "name": "ipython",
    "version": 3
   },
   "file_extension": ".py",
   "mimetype": "text/x-python",
   "name": "python",
   "nbconvert_exporter": "python",
   "pygments_lexer": "ipython3",
   "version": "3.9.6"
  }
 },
 "nbformat": 4,
 "nbformat_minor": 2
}
