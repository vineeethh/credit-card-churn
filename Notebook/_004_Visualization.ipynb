{
 "cells": [
  {
   "cell_type": "code",
   "execution_count": 73,
   "metadata": {},
   "outputs": [],
   "source": [
    "import pandas as pd\n",
    "import plotly.express as px\n",
    "import os"
   ]
  },
  {
   "cell_type": "code",
   "execution_count": 74,
   "metadata": {},
   "outputs": [],
   "source": [
    "#Initialising Dataset\n",
    "os.chdir(r\"/Users/apple/Documents/Credit_Card_Churn_Model_Local/credit-card-churn/Input\")\n",
    "data = pd.read_csv(\"/Users/apple/Documents/Credit_Card_Churn_Model_Local/credit-card-churn/Input/credit_card_churn_cleaned.csv\")"
   ]
  },
  {
   "cell_type": "code",
   "execution_count": 75,
   "metadata": {},
   "outputs": [
    {
     "data": {
      "application/vnd.plotly.v1+json": {
       "config": {
        "plotlyServerURL": "https://plot.ly"
       },
       "data": [
        {
         "coloraxis": "coloraxis",
         "hovertemplate": "x: %{x}<br>y: %{y}<br>color: %{z}<extra></extra>",
         "name": "0",
         "texttemplate": "%{z:.2f}",
         "type": "heatmap",
         "x": [
          "Attrition_Flag",
          "Gender",
          "Dependent_count",
          "Education_Level",
          "Income_Category",
          "Card_Category",
          "Months_on_book",
          "Total_Relationship_Count",
          "Months_Inactive_12_mon",
          "Contacts_Count_12_mon",
          "Credit_Limit",
          "Total_Amt_Chng_Q4_Q1",
          "Total_Trans_Ct",
          "Total_Ct_Chng_Q4_Q1",
          "Avg_Utilization_Ratio",
          "Married",
          "Single",
          "Unknown",
          "Age_Under 30",
          "Age_30-40",
          "Age_40-50",
          "Age_50-60",
          "Total_Trans_Amt_Binned_Low",
          "Total_Trans_Amt_Binned_Medium",
          "Total_Trans_Amt_Binned_High",
          "Avg_Open_To_Buy_Binned_Low",
          "Avg_Open_To_Buy_Binned_Medium",
          "Avg_Open_To_Buy_Binned_High",
          "Total_Revolving_Bal_Binned_Low",
          "Total_Revolving_Bal_Binned_Medium",
          "Total_Revolving_Bal_Binned_High"
         ],
         "xaxis": "x",
         "y": [
          "Attrition_Flag",
          "Gender",
          "Dependent_count",
          "Education_Level",
          "Income_Category",
          "Card_Category",
          "Months_on_book",
          "Total_Relationship_Count",
          "Months_Inactive_12_mon",
          "Contacts_Count_12_mon",
          "Credit_Limit",
          "Total_Amt_Chng_Q4_Q1",
          "Total_Trans_Ct",
          "Total_Ct_Chng_Q4_Q1",
          "Avg_Utilization_Ratio",
          "Married",
          "Single",
          "Unknown",
          "Age_Under 30",
          "Age_30-40",
          "Age_40-50",
          "Age_50-60",
          "Total_Trans_Amt_Binned_Low",
          "Total_Trans_Amt_Binned_Medium",
          "Total_Trans_Amt_Binned_High",
          "Avg_Open_To_Buy_Binned_Low",
          "Avg_Open_To_Buy_Binned_Medium",
          "Avg_Open_To_Buy_Binned_High",
          "Total_Revolving_Bal_Binned_Low",
          "Total_Revolving_Bal_Binned_Medium",
          "Total_Revolving_Bal_Binned_High"
         ],
         "yaxis": "y",
         "z": {
          "bdata": "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",
          "dtype": "f8",
          "shape": "31, 31"
         }
        }
       ],
       "layout": {
        "coloraxis": {
         "colorscale": [
          [
           0,
           "rgb(103,0,31)"
          ],
          [
           0.1,
           "rgb(178,24,43)"
          ],
          [
           0.2,
           "rgb(214,96,77)"
          ],
          [
           0.3,
           "rgb(244,165,130)"
          ],
          [
           0.4,
           "rgb(253,219,199)"
          ],
          [
           0.5,
           "rgb(247,247,247)"
          ],
          [
           0.6,
           "rgb(209,229,240)"
          ],
          [
           0.7,
           "rgb(146,197,222)"
          ],
          [
           0.8,
           "rgb(67,147,195)"
          ],
          [
           0.9,
           "rgb(33,102,172)"
          ],
          [
           1,
           "rgb(5,48,97)"
          ]
         ]
        },
        "height": 800,
        "template": {
         "data": {
          "bar": [
           {
            "error_x": {
             "color": "#2a3f5f"
            },
            "error_y": {
             "color": "#2a3f5f"
            },
            "marker": {
             "line": {
              "color": "#E5ECF6",
              "width": 0.5
             },
             "pattern": {
              "fillmode": "overlay",
              "size": 10,
              "solidity": 0.2
             }
            },
            "type": "bar"
           }
          ],
          "barpolar": [
           {
            "marker": {
             "line": {
              "color": "#E5ECF6",
              "width": 0.5
             },
             "pattern": {
              "fillmode": "overlay",
              "size": 10,
              "solidity": 0.2
             }
            },
            "type": "barpolar"
           }
          ],
          "carpet": [
           {
            "aaxis": {
             "endlinecolor": "#2a3f5f",
             "gridcolor": "white",
             "linecolor": "white",
             "minorgridcolor": "white",
             "startlinecolor": "#2a3f5f"
            },
            "baxis": {
             "endlinecolor": "#2a3f5f",
             "gridcolor": "white",
             "linecolor": "white",
             "minorgridcolor": "white",
             "startlinecolor": "#2a3f5f"
            },
            "type": "carpet"
           }
          ],
          "choropleth": [
           {
            "colorbar": {
             "outlinewidth": 0,
             "ticks": ""
            },
            "type": "choropleth"
           }
          ],
          "contour": [
           {
            "colorbar": {
             "outlinewidth": 0,
             "ticks": ""
            },
            "colorscale": [
             [
              0,
              "#0d0887"
             ],
             [
              0.1111111111111111,
              "#46039f"
             ],
             [
              0.2222222222222222,
              "#7201a8"
             ],
             [
              0.3333333333333333,
              "#9c179e"
             ],
             [
              0.4444444444444444,
              "#bd3786"
             ],
             [
              0.5555555555555556,
              "#d8576b"
             ],
             [
              0.6666666666666666,
              "#ed7953"
             ],
             [
              0.7777777777777778,
              "#fb9f3a"
             ],
             [
              0.8888888888888888,
              "#fdca26"
             ],
             [
              1,
              "#f0f921"
             ]
            ],
            "type": "contour"
           }
          ],
          "contourcarpet": [
           {
            "colorbar": {
             "outlinewidth": 0,
             "ticks": ""
            },
            "type": "contourcarpet"
           }
          ],
          "heatmap": [
           {
            "colorbar": {
             "outlinewidth": 0,
             "ticks": ""
            },
            "colorscale": [
             [
              0,
              "#0d0887"
             ],
             [
              0.1111111111111111,
              "#46039f"
             ],
             [
              0.2222222222222222,
              "#7201a8"
             ],
             [
              0.3333333333333333,
              "#9c179e"
             ],
             [
              0.4444444444444444,
              "#bd3786"
             ],
             [
              0.5555555555555556,
              "#d8576b"
             ],
             [
              0.6666666666666666,
              "#ed7953"
             ],
             [
              0.7777777777777778,
              "#fb9f3a"
             ],
             [
              0.8888888888888888,
              "#fdca26"
             ],
             [
              1,
              "#f0f921"
             ]
            ],
            "type": "heatmap"
           }
          ],
          "histogram": [
           {
            "marker": {
             "pattern": {
              "fillmode": "overlay",
              "size": 10,
              "solidity": 0.2
             }
            },
            "type": "histogram"
           }
          ],
          "histogram2d": [
           {
            "colorbar": {
             "outlinewidth": 0,
             "ticks": ""
            },
            "colorscale": [
             [
              0,
              "#0d0887"
             ],
             [
              0.1111111111111111,
              "#46039f"
             ],
             [
              0.2222222222222222,
              "#7201a8"
             ],
             [
              0.3333333333333333,
              "#9c179e"
             ],
             [
              0.4444444444444444,
              "#bd3786"
             ],
             [
              0.5555555555555556,
              "#d8576b"
             ],
             [
              0.6666666666666666,
              "#ed7953"
             ],
             [
              0.7777777777777778,
              "#fb9f3a"
             ],
             [
              0.8888888888888888,
              "#fdca26"
             ],
             [
              1,
              "#f0f921"
             ]
            ],
            "type": "histogram2d"
           }
          ],
          "histogram2dcontour": [
           {
            "colorbar": {
             "outlinewidth": 0,
             "ticks": ""
            },
            "colorscale": [
             [
              0,
              "#0d0887"
             ],
             [
              0.1111111111111111,
              "#46039f"
             ],
             [
              0.2222222222222222,
              "#7201a8"
             ],
             [
              0.3333333333333333,
              "#9c179e"
             ],
             [
              0.4444444444444444,
              "#bd3786"
             ],
             [
              0.5555555555555556,
              "#d8576b"
             ],
             [
              0.6666666666666666,
              "#ed7953"
             ],
             [
              0.7777777777777778,
              "#fb9f3a"
             ],
             [
              0.8888888888888888,
              "#fdca26"
             ],
             [
              1,
              "#f0f921"
             ]
            ],
            "type": "histogram2dcontour"
           }
          ],
          "mesh3d": [
           {
            "colorbar": {
             "outlinewidth": 0,
             "ticks": ""
            },
            "type": "mesh3d"
           }
          ],
          "parcoords": [
           {
            "line": {
             "colorbar": {
              "outlinewidth": 0,
              "ticks": ""
             }
            },
            "type": "parcoords"
           }
          ],
          "pie": [
           {
            "automargin": true,
            "type": "pie"
           }
          ],
          "scatter": [
           {
            "fillpattern": {
             "fillmode": "overlay",
             "size": 10,
             "solidity": 0.2
            },
            "type": "scatter"
           }
          ],
          "scatter3d": [
           {
            "line": {
             "colorbar": {
              "outlinewidth": 0,
              "ticks": ""
             }
            },
            "marker": {
             "colorbar": {
              "outlinewidth": 0,
              "ticks": ""
             }
            },
            "type": "scatter3d"
           }
          ],
          "scattercarpet": [
           {
            "marker": {
             "colorbar": {
              "outlinewidth": 0,
              "ticks": ""
             }
            },
            "type": "scattercarpet"
           }
          ],
          "scattergeo": [
           {
            "marker": {
             "colorbar": {
              "outlinewidth": 0,
              "ticks": ""
             }
            },
            "type": "scattergeo"
           }
          ],
          "scattergl": [
           {
            "marker": {
             "colorbar": {
              "outlinewidth": 0,
              "ticks": ""
             }
            },
            "type": "scattergl"
           }
          ],
          "scattermap": [
           {
            "marker": {
             "colorbar": {
              "outlinewidth": 0,
              "ticks": ""
             }
            },
            "type": "scattermap"
           }
          ],
          "scattermapbox": [
           {
            "marker": {
             "colorbar": {
              "outlinewidth": 0,
              "ticks": ""
             }
            },
            "type": "scattermapbox"
           }
          ],
          "scatterpolar": [
           {
            "marker": {
             "colorbar": {
              "outlinewidth": 0,
              "ticks": ""
             }
            },
            "type": "scatterpolar"
           }
          ],
          "scatterpolargl": [
           {
            "marker": {
             "colorbar": {
              "outlinewidth": 0,
              "ticks": ""
             }
            },
            "type": "scatterpolargl"
           }
          ],
          "scatterternary": [
           {
            "marker": {
             "colorbar": {
              "outlinewidth": 0,
              "ticks": ""
             }
            },
            "type": "scatterternary"
           }
          ],
          "surface": [
           {
            "colorbar": {
             "outlinewidth": 0,
             "ticks": ""
            },
            "colorscale": [
             [
              0,
              "#0d0887"
             ],
             [
              0.1111111111111111,
              "#46039f"
             ],
             [
              0.2222222222222222,
              "#7201a8"
             ],
             [
              0.3333333333333333,
              "#9c179e"
             ],
             [
              0.4444444444444444,
              "#bd3786"
             ],
             [
              0.5555555555555556,
              "#d8576b"
             ],
             [
              0.6666666666666666,
              "#ed7953"
             ],
             [
              0.7777777777777778,
              "#fb9f3a"
             ],
             [
              0.8888888888888888,
              "#fdca26"
             ],
             [
              1,
              "#f0f921"
             ]
            ],
            "type": "surface"
           }
          ],
          "table": [
           {
            "cells": {
             "fill": {
              "color": "#EBF0F8"
             },
             "line": {
              "color": "white"
             }
            },
            "header": {
             "fill": {
              "color": "#C8D4E3"
             },
             "line": {
              "color": "white"
             }
            },
            "type": "table"
           }
          ]
         },
         "layout": {
          "annotationdefaults": {
           "arrowcolor": "#2a3f5f",
           "arrowhead": 0,
           "arrowwidth": 1
          },
          "autotypenumbers": "strict",
          "coloraxis": {
           "colorbar": {
            "outlinewidth": 0,
            "ticks": ""
           }
          },
          "colorscale": {
           "diverging": [
            [
             0,
             "#8e0152"
            ],
            [
             0.1,
             "#c51b7d"
            ],
            [
             0.2,
             "#de77ae"
            ],
            [
             0.3,
             "#f1b6da"
            ],
            [
             0.4,
             "#fde0ef"
            ],
            [
             0.5,
             "#f7f7f7"
            ],
            [
             0.6,
             "#e6f5d0"
            ],
            [
             0.7,
             "#b8e186"
            ],
            [
             0.8,
             "#7fbc41"
            ],
            [
             0.9,
             "#4d9221"
            ],
            [
             1,
             "#276419"
            ]
           ],
           "sequential": [
            [
             0,
             "#0d0887"
            ],
            [
             0.1111111111111111,
             "#46039f"
            ],
            [
             0.2222222222222222,
             "#7201a8"
            ],
            [
             0.3333333333333333,
             "#9c179e"
            ],
            [
             0.4444444444444444,
             "#bd3786"
            ],
            [
             0.5555555555555556,
             "#d8576b"
            ],
            [
             0.6666666666666666,
             "#ed7953"
            ],
            [
             0.7777777777777778,
             "#fb9f3a"
            ],
            [
             0.8888888888888888,
             "#fdca26"
            ],
            [
             1,
             "#f0f921"
            ]
           ],
           "sequentialminus": [
            [
             0,
             "#0d0887"
            ],
            [
             0.1111111111111111,
             "#46039f"
            ],
            [
             0.2222222222222222,
             "#7201a8"
            ],
            [
             0.3333333333333333,
             "#9c179e"
            ],
            [
             0.4444444444444444,
             "#bd3786"
            ],
            [
             0.5555555555555556,
             "#d8576b"
            ],
            [
             0.6666666666666666,
             "#ed7953"
            ],
            [
             0.7777777777777778,
             "#fb9f3a"
            ],
            [
             0.8888888888888888,
             "#fdca26"
            ],
            [
             1,
             "#f0f921"
            ]
           ]
          },
          "colorway": [
           "#636efa",
           "#EF553B",
           "#00cc96",
           "#ab63fa",
           "#FFA15A",
           "#19d3f3",
           "#FF6692",
           "#B6E880",
           "#FF97FF",
           "#FECB52"
          ],
          "font": {
           "color": "#2a3f5f"
          },
          "geo": {
           "bgcolor": "white",
           "lakecolor": "white",
           "landcolor": "#E5ECF6",
           "showlakes": true,
           "showland": true,
           "subunitcolor": "white"
          },
          "hoverlabel": {
           "align": "left"
          },
          "hovermode": "closest",
          "mapbox": {
           "style": "light"
          },
          "paper_bgcolor": "white",
          "plot_bgcolor": "#E5ECF6",
          "polar": {
           "angularaxis": {
            "gridcolor": "white",
            "linecolor": "white",
            "ticks": ""
           },
           "bgcolor": "#E5ECF6",
           "radialaxis": {
            "gridcolor": "white",
            "linecolor": "white",
            "ticks": ""
           }
          },
          "scene": {
           "xaxis": {
            "backgroundcolor": "#E5ECF6",
            "gridcolor": "white",
            "gridwidth": 2,
            "linecolor": "white",
            "showbackground": true,
            "ticks": "",
            "zerolinecolor": "white"
           },
           "yaxis": {
            "backgroundcolor": "#E5ECF6",
            "gridcolor": "white",
            "gridwidth": 2,
            "linecolor": "white",
            "showbackground": true,
            "ticks": "",
            "zerolinecolor": "white"
           },
           "zaxis": {
            "backgroundcolor": "#E5ECF6",
            "gridcolor": "white",
            "gridwidth": 2,
            "linecolor": "white",
            "showbackground": true,
            "ticks": "",
            "zerolinecolor": "white"
           }
          },
          "shapedefaults": {
           "line": {
            "color": "#2a3f5f"
           }
          },
          "ternary": {
           "aaxis": {
            "gridcolor": "white",
            "linecolor": "white",
            "ticks": ""
           },
           "baxis": {
            "gridcolor": "white",
            "linecolor": "white",
            "ticks": ""
           },
           "bgcolor": "#E5ECF6",
           "caxis": {
            "gridcolor": "white",
            "linecolor": "white",
            "ticks": ""
           }
          },
          "title": {
           "x": 0.05
          },
          "xaxis": {
           "automargin": true,
           "gridcolor": "white",
           "linecolor": "white",
           "ticks": "",
           "title": {
            "standoff": 15
           },
           "zerolinecolor": "white",
           "zerolinewidth": 2
          },
          "yaxis": {
           "automargin": true,
           "gridcolor": "white",
           "linecolor": "white",
           "ticks": "",
           "title": {
            "standoff": 15
           },
           "zerolinecolor": "white",
           "zerolinewidth": 2
          }
         }
        },
        "title": {
         "text": "Correlation Heatmap (Interactive)"
        },
        "width": 800,
        "xaxis": {
         "anchor": "y",
         "domain": [
          0,
          1
         ],
         "tickangle": -45,
         "tickmode": "array",
         "ticktext": [
          "Attrition_Flag",
          "Gender",
          "Dependent_count",
          "Education_Level",
          "Income_Category",
          "Card_Category",
          "Months_on_book",
          "Total_Relationship_Count",
          "Months_Inactive_12_mon",
          "Contacts_Count_12_mon",
          "Credit_Limit",
          "Total_Amt_Chng_Q4_Q1",
          "Total_Trans_Ct",
          "Total_Ct_Chng_Q4_Q1",
          "Avg_Utilization_Ratio",
          "Married",
          "Single",
          "Unknown",
          "Age_Under 30",
          "Age_30-40",
          "Age_40-50",
          "Age_50-60",
          "Total_Trans_Amt_Binned_Low",
          "Total_Trans_Amt_Binned_Medium",
          "Total_Trans_Amt_Binned_High",
          "Avg_Open_To_Buy_Binned_Low",
          "Avg_Open_To_Buy_Binned_Medium",
          "Avg_Open_To_Buy_Binned_High",
          "Total_Revolving_Bal_Binned_Low",
          "Total_Revolving_Bal_Binned_Medium",
          "Total_Revolving_Bal_Binned_High"
         ],
         "tickvals": [
          0,
          1,
          2,
          3,
          4,
          5,
          6,
          7,
          8,
          9,
          10,
          11,
          12,
          13,
          14,
          15,
          16,
          17,
          18,
          19,
          20,
          21,
          22,
          23,
          24,
          25,
          26,
          27,
          28,
          29,
          30
         ],
         "title": {
          "text": "Features"
         }
        },
        "yaxis": {
         "anchor": "x",
         "autorange": "reversed",
         "domain": [
          0,
          1
         ],
         "tickmode": "array",
         "ticktext": [
          "Attrition_Flag",
          "Gender",
          "Dependent_count",
          "Education_Level",
          "Income_Category",
          "Card_Category",
          "Months_on_book",
          "Total_Relationship_Count",
          "Months_Inactive_12_mon",
          "Contacts_Count_12_mon",
          "Credit_Limit",
          "Total_Amt_Chng_Q4_Q1",
          "Total_Trans_Ct",
          "Total_Ct_Chng_Q4_Q1",
          "Avg_Utilization_Ratio",
          "Married",
          "Single",
          "Unknown",
          "Age_Under 30",
          "Age_30-40",
          "Age_40-50",
          "Age_50-60",
          "Total_Trans_Amt_Binned_Low",
          "Total_Trans_Amt_Binned_Medium",
          "Total_Trans_Amt_Binned_High",
          "Avg_Open_To_Buy_Binned_Low",
          "Avg_Open_To_Buy_Binned_Medium",
          "Avg_Open_To_Buy_Binned_High",
          "Total_Revolving_Bal_Binned_Low",
          "Total_Revolving_Bal_Binned_Medium",
          "Total_Revolving_Bal_Binned_High"
         ],
         "tickvals": [
          0,
          1,
          2,
          3,
          4,
          5,
          6,
          7,
          8,
          9,
          10,
          11,
          12,
          13,
          14,
          15,
          16,
          17,
          18,
          19,
          20,
          21,
          22,
          23,
          24,
          25,
          26,
          27,
          28,
          29,
          30
         ],
         "title": {
          "text": "Features"
         }
        }
       }
      }
     },
     "metadata": {},
     "output_type": "display_data"
    }
   ],
   "source": [
    "corr_matrix = data.corr(numeric_only=True)\n",
    "fig = px.imshow(\n",
    "    corr_matrix,\n",
    "    text_auto=\".2f\",\n",
    "    color_continuous_scale='RdBu',\n",
    "    title=\"Correlation Heatmap (Interactive)\",\n",
    "    aspect=\"auto\"\n",
    ")\n",
    "fig.update_layout(\n",
    "    width=800,\n",
    "    height=800,\n",
    "    xaxis_title=\"Features\",\n",
    "    yaxis_title=\"Features\",\n",
    "    xaxis=dict(tickangle=-45, tickmode='array', tickvals=list(range(len(corr_matrix.columns))), ticktext=corr_matrix.columns),\n",
    "    yaxis=dict(tickmode='array', tickvals=list(range(len(corr_matrix.index))), ticktext=corr_matrix.index)\n",
    ")\n",
    "fig.show()"
   ]
  },
  {
   "cell_type": "code",
   "execution_count": 76,
   "metadata": {},
   "outputs": [
    {
     "name": "stdout",
     "output_type": "stream",
     "text": [
      "<class 'pandas.core.frame.DataFrame'>\n",
      "RangeIndex: 10127 entries, 0 to 10126\n",
      "Data columns (total 31 columns):\n",
      " #   Column                             Non-Null Count  Dtype  \n",
      "---  ------                             --------------  -----  \n",
      " 0   Attrition_Flag                     10127 non-null  int64  \n",
      " 1   Gender                             10127 non-null  float64\n",
      " 2   Dependent_count                    10127 non-null  int64  \n",
      " 3   Education_Level                    10127 non-null  int64  \n",
      " 4   Income_Category                    10127 non-null  int64  \n",
      " 5   Card_Category                      10127 non-null  int64  \n",
      " 6   Months_on_book                     10127 non-null  int64  \n",
      " 7   Total_Relationship_Count           10127 non-null  int64  \n",
      " 8   Months_Inactive_12_mon             10127 non-null  int64  \n",
      " 9   Contacts_Count_12_mon              10127 non-null  int64  \n",
      " 10  Credit_Limit                       10127 non-null  float64\n",
      " 11  Total_Amt_Chng_Q4_Q1               10127 non-null  float64\n",
      " 12  Total_Trans_Ct                     10127 non-null  int64  \n",
      " 13  Total_Ct_Chng_Q4_Q1                10127 non-null  float64\n",
      " 14  Avg_Utilization_Ratio              10127 non-null  float64\n",
      " 15  Married                            10127 non-null  int64  \n",
      " 16  Single                             10127 non-null  int64  \n",
      " 17  Unknown                            10127 non-null  int64  \n",
      " 18  Age_Under 30                       10127 non-null  bool   \n",
      " 19  Age_30-40                          10127 non-null  bool   \n",
      " 20  Age_40-50                          10127 non-null  bool   \n",
      " 21  Age_50-60                          10127 non-null  bool   \n",
      " 22  Total_Trans_Amt_Binned_Low         10127 non-null  bool   \n",
      " 23  Total_Trans_Amt_Binned_Medium      10127 non-null  bool   \n",
      " 24  Total_Trans_Amt_Binned_High        10127 non-null  bool   \n",
      " 25  Avg_Open_To_Buy_Binned_Low         10127 non-null  bool   \n",
      " 26  Avg_Open_To_Buy_Binned_Medium      10127 non-null  bool   \n",
      " 27  Avg_Open_To_Buy_Binned_High        10127 non-null  bool   \n",
      " 28  Total_Revolving_Bal_Binned_Low     10127 non-null  bool   \n",
      " 29  Total_Revolving_Bal_Binned_Medium  10127 non-null  bool   \n",
      " 30  Total_Revolving_Bal_Binned_High    10127 non-null  bool   \n",
      "dtypes: bool(13), float64(5), int64(13)\n",
      "memory usage: 1.5 MB\n"
     ]
    }
   ],
   "source": [
    "data.info()"
   ]
  }
 ],
 "metadata": {
  "kernelspec": {
   "display_name": "Python 3",
   "language": "python",
   "name": "python3"
  },
  "language_info": {
   "codemirror_mode": {
    "name": "ipython",
    "version": 3
   },
   "file_extension": ".py",
   "mimetype": "text/x-python",
   "name": "python",
   "nbconvert_exporter": "python",
   "pygments_lexer": "ipython3",
   "version": "3.9.6"
  }
 },
 "nbformat": 4,
 "nbformat_minor": 2
}
